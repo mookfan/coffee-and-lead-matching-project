{
 "cells": [
  {
   "cell_type": "markdown",
   "metadata": {},
   "source": [
    "# Coffee Quality Prediction ☕️☕️☕️\n",
    "\n",
    "🗂️ Dataset: [Link](https://www.kaggle.com/datasets/fatihb/coffee-quality-data-cqi/data)"
   ]
  },
  {
   "cell_type": "markdown",
   "metadata": {},
   "source": [
    "## Contents\n",
    "- [Introduction](#Introduction)\n",
    "- [Understanding Dataset](#Understanding-Dataset)\n",
    "- [Data Quality](#Data-Quality)\n",
    "    - [Filling Missing Values](##Filling-Missing-Values)\n",
    "    - [Data Typo](##Data-Typo)\n",
    "- [Exploring Data](#Exploring-Data)\n",
    "    - [Numerical Data](##Numerical-Data)\n",
    "    - [Categorical Data](##Categorical-Data)\n",
    "    - [Remove Irrevant Data](##Remove-Irrevant-Data)\n",
    "- [Prediction Model](#Prediction-Model)"
   ]
  },
  {
   "cell_type": "markdown",
   "metadata": {},
   "source": [
    "# Introduction"
   ]
  },
  {
   "cell_type": "markdown",
   "metadata": {},
   "source": [
    "The dataset used in this project is the Coffee Quality Data from the Coffee Quality Institute (CQI). It contains detailed information about coffee metadata. I separated dataset into 4 main groups based on [Link](https://github.com/jldbc/coffee-quality-database)\n",
    "\n",
    "`📊 Quality Measures`\n",
    "- Aroma\n",
    "- Flavor\n",
    "- Aftertaste\n",
    "- Acidity\n",
    "- Body\n",
    "- Balance\n",
    "- Uniformity\n",
    "- Clean Cup\n",
    "- Sweetness\n",
    "- Overall\n",
    "- Total Cup Points - Calculated from 10 features above. \n",
    "- Defects\n",
    "- Moisture Percentage\n",
    "- Category One Defects\n",
    "- Quakers\n",
    "- Category Two Defects\n",
    "\n",
    "`🌱 Bean Metadata`\n",
    "- Harvest Year - has 2 formats 'YYYY-YYYY' and 'YYYY'\n",
    "- Variety\n",
    "- Processing Method\n",
    "- Color\n",
    "\n",
    "\n",
    "`👨🏻‍🌾 Farm and export Metadata`\n",
    "- Country of Origin\n",
    "- Farm Name\n",
    "- Lot Number\n",
    "- Mill - In this dataset, mill likely to refer to location name that process coffee more than type of mill. \n",
    "- ICO Number - used as a traceability code of coffee product from origin to customer [Link](http://www.ico.org/documents/icc-102-9e-rules-certificates-final.pdf)\n",
    "- Company\n",
    "- Altitude\n",
    "- Region\n",
    "- Producer\n",
    "- Number of Bags\n",
    "- Bag Weight\n",
    "- In-Country Partner\n",
    "- Owner\n",
    "\n",
    "`🏅 Certification Metadata`\n",
    "- Grading Date\n",
    "- Expiration - In this dataset, I found that the period between expriation and grading date is 12 months. so I assume this data is exporation of grading score.\n",
    "- Certification Body\n",
    "- Certification Address\n",
    "- Certification Contact\n",
    "- Status\n",
    "\n",
    "In this project, I want to create a prediction model for coffee quality 'Total Cup Points' which I will explore and analysis there is any features (except 10 features) have significant to be used in prediction or not. Note: we're already know exact function to compute 'Total Cup Points' using 10 quality features."
   ]
  },
  {
   "cell_type": "markdown",
   "metadata": {},
   "source": [
    "# Understanding-Dataset"
   ]
  },
  {
   "cell_type": "code",
   "execution_count": 1,
   "metadata": {},
   "outputs": [],
   "source": [
    "# import libraries\n",
    "import pandas as pd \n",
    "import numpy as np\n",
    "import plotly.graph_objects as go\n",
    "import plotly.express as px\n",
    "import re\n",
    "from plotly.subplots import make_subplots\n",
    "import json\n",
    "pd.set_option('display.max_columns', 100)"
   ]
  },
  {
   "cell_type": "markdown",
   "metadata": {},
   "source": [
    "Here I explore about dataset overview."
   ]
  },
  {
   "cell_type": "code",
   "execution_count": 2,
   "metadata": {},
   "outputs": [
    {
     "name": "stdout",
     "output_type": "stream",
     "text": [
      "Original data shape: (207, 41) | rows: 207 | columns: 41\n"
     ]
    }
   ],
   "source": [
    "filepath = 'data/df_arabica_clean.csv'\n",
    "raw_df = pd.read_csv(filepath)\n",
    "print(f\"Original data shape: {raw_df.shape} | rows: {raw_df.shape[0]} | columns: {raw_df.shape[1]}\")"
   ]
  },
  {
   "cell_type": "code",
   "execution_count": 3,
   "metadata": {},
   "outputs": [
    {
     "data": {
      "text/html": [
       "<div>\n",
       "<style scoped>\n",
       "    .dataframe tbody tr th:only-of-type {\n",
       "        vertical-align: middle;\n",
       "    }\n",
       "\n",
       "    .dataframe tbody tr th {\n",
       "        vertical-align: top;\n",
       "    }\n",
       "\n",
       "    .dataframe thead th {\n",
       "        text-align: right;\n",
       "    }\n",
       "</style>\n",
       "<table border=\"1\" class=\"dataframe\">\n",
       "  <thead>\n",
       "    <tr style=\"text-align: right;\">\n",
       "      <th></th>\n",
       "      <th>Unnamed: 0</th>\n",
       "      <th>ID</th>\n",
       "      <th>Country of Origin</th>\n",
       "      <th>Farm Name</th>\n",
       "      <th>Lot Number</th>\n",
       "      <th>Mill</th>\n",
       "      <th>ICO Number</th>\n",
       "      <th>Company</th>\n",
       "      <th>Altitude</th>\n",
       "      <th>Region</th>\n",
       "      <th>Producer</th>\n",
       "      <th>Number of Bags</th>\n",
       "      <th>Bag Weight</th>\n",
       "      <th>In-Country Partner</th>\n",
       "      <th>Harvest Year</th>\n",
       "      <th>Grading Date</th>\n",
       "      <th>Owner</th>\n",
       "      <th>Variety</th>\n",
       "      <th>Status</th>\n",
       "      <th>Processing Method</th>\n",
       "      <th>Aroma</th>\n",
       "      <th>Flavor</th>\n",
       "      <th>Aftertaste</th>\n",
       "      <th>Acidity</th>\n",
       "      <th>Body</th>\n",
       "      <th>Balance</th>\n",
       "      <th>Uniformity</th>\n",
       "      <th>Clean Cup</th>\n",
       "      <th>Sweetness</th>\n",
       "      <th>Overall</th>\n",
       "      <th>Defects</th>\n",
       "      <th>Total Cup Points</th>\n",
       "      <th>Moisture Percentage</th>\n",
       "      <th>Category One Defects</th>\n",
       "      <th>Quakers</th>\n",
       "      <th>Color</th>\n",
       "      <th>Category Two Defects</th>\n",
       "      <th>Expiration</th>\n",
       "      <th>Certification Body</th>\n",
       "      <th>Certification Address</th>\n",
       "      <th>Certification Contact</th>\n",
       "    </tr>\n",
       "  </thead>\n",
       "  <tbody>\n",
       "    <tr>\n",
       "      <th>0</th>\n",
       "      <td>0</td>\n",
       "      <td>0</td>\n",
       "      <td>Colombia</td>\n",
       "      <td>Finca El Paraiso</td>\n",
       "      <td>CQU2022015</td>\n",
       "      <td>Finca El Paraiso</td>\n",
       "      <td>NaN</td>\n",
       "      <td>Coffee Quality Union</td>\n",
       "      <td>1700-1930</td>\n",
       "      <td>Piendamo,Cauca</td>\n",
       "      <td>Diego Samuel Bermudez</td>\n",
       "      <td>1</td>\n",
       "      <td>35 kg</td>\n",
       "      <td>Japan Coffee Exchange</td>\n",
       "      <td>2021 / 2022</td>\n",
       "      <td>September 21st, 2022</td>\n",
       "      <td>Coffee Quality Union</td>\n",
       "      <td>Castillo</td>\n",
       "      <td>Completed</td>\n",
       "      <td>Double Anaerobic Washed</td>\n",
       "      <td>8.58</td>\n",
       "      <td>8.50</td>\n",
       "      <td>8.42</td>\n",
       "      <td>8.58</td>\n",
       "      <td>8.25</td>\n",
       "      <td>8.42</td>\n",
       "      <td>10.0</td>\n",
       "      <td>10.0</td>\n",
       "      <td>10.0</td>\n",
       "      <td>8.58</td>\n",
       "      <td>0.0</td>\n",
       "      <td>89.33</td>\n",
       "      <td>11.8</td>\n",
       "      <td>0</td>\n",
       "      <td>0</td>\n",
       "      <td>green</td>\n",
       "      <td>3</td>\n",
       "      <td>September 21st, 2023</td>\n",
       "      <td>Japan Coffee Exchange</td>\n",
       "      <td>〒413-0002 静岡県熱海市伊豆山１１７３−５８ 1173-58 Izusan, Ata...</td>\n",
       "      <td>松澤　宏樹　Koju Matsuzawa - +81(0)9085642901</td>\n",
       "    </tr>\n",
       "    <tr>\n",
       "      <th>1</th>\n",
       "      <td>1</td>\n",
       "      <td>1</td>\n",
       "      <td>Taiwan</td>\n",
       "      <td>Royal Bean Geisha Estate</td>\n",
       "      <td>The 2022 Pacific Rim Coffee Summit,T037</td>\n",
       "      <td>Royal Bean Geisha Estate</td>\n",
       "      <td>NaN</td>\n",
       "      <td>Taiwan Coffee Laboratory</td>\n",
       "      <td>1200</td>\n",
       "      <td>Chiayi</td>\n",
       "      <td>曾福森</td>\n",
       "      <td>1</td>\n",
       "      <td>80 kg</td>\n",
       "      <td>Taiwan Coffee Laboratory 台灣咖啡研究室</td>\n",
       "      <td>2021 / 2022</td>\n",
       "      <td>November 15th, 2022</td>\n",
       "      <td>Taiwan Coffee Laboratory 台灣咖啡研究室</td>\n",
       "      <td>Gesha</td>\n",
       "      <td>Completed</td>\n",
       "      <td>Washed / Wet</td>\n",
       "      <td>8.50</td>\n",
       "      <td>8.50</td>\n",
       "      <td>7.92</td>\n",
       "      <td>8.00</td>\n",
       "      <td>7.92</td>\n",
       "      <td>8.25</td>\n",
       "      <td>10.0</td>\n",
       "      <td>10.0</td>\n",
       "      <td>10.0</td>\n",
       "      <td>8.50</td>\n",
       "      <td>0.0</td>\n",
       "      <td>87.58</td>\n",
       "      <td>10.5</td>\n",
       "      <td>0</td>\n",
       "      <td>0</td>\n",
       "      <td>blue-green</td>\n",
       "      <td>0</td>\n",
       "      <td>November 15th, 2023</td>\n",
       "      <td>Taiwan Coffee Laboratory 台灣咖啡研究室</td>\n",
       "      <td>QAHWAH CO., LTD 4F, No. 225, Sec. 3, Beixin Rd...</td>\n",
       "      <td>Lin, Jen-An Neil 林仁安 - 886-289116612</td>\n",
       "    </tr>\n",
       "    <tr>\n",
       "      <th>2</th>\n",
       "      <td>2</td>\n",
       "      <td>2</td>\n",
       "      <td>Laos</td>\n",
       "      <td>OKLAO coffee farms</td>\n",
       "      <td>The 2022 Pacific Rim Coffee Summit,LA01</td>\n",
       "      <td>oklao coffee processing plant</td>\n",
       "      <td>NaN</td>\n",
       "      <td>Taiwan Coffee Laboratory</td>\n",
       "      <td>1300</td>\n",
       "      <td>Laos Borofen Plateau</td>\n",
       "      <td>WU TAO CHI</td>\n",
       "      <td>19</td>\n",
       "      <td>25 kg</td>\n",
       "      <td>Taiwan Coffee Laboratory 台灣咖啡研究室</td>\n",
       "      <td>2021 / 2022</td>\n",
       "      <td>November 15th, 2022</td>\n",
       "      <td>Taiwan Coffee Laboratory 台灣咖啡研究室</td>\n",
       "      <td>Java</td>\n",
       "      <td>Completed</td>\n",
       "      <td>Semi Washed</td>\n",
       "      <td>8.33</td>\n",
       "      <td>8.42</td>\n",
       "      <td>8.08</td>\n",
       "      <td>8.17</td>\n",
       "      <td>7.92</td>\n",
       "      <td>8.17</td>\n",
       "      <td>10.0</td>\n",
       "      <td>10.0</td>\n",
       "      <td>10.0</td>\n",
       "      <td>8.33</td>\n",
       "      <td>0.0</td>\n",
       "      <td>87.42</td>\n",
       "      <td>10.4</td>\n",
       "      <td>0</td>\n",
       "      <td>0</td>\n",
       "      <td>yellowish</td>\n",
       "      <td>2</td>\n",
       "      <td>November 15th, 2023</td>\n",
       "      <td>Taiwan Coffee Laboratory 台灣咖啡研究室</td>\n",
       "      <td>QAHWAH CO., LTD 4F, No. 225, Sec. 3, Beixin Rd...</td>\n",
       "      <td>Lin, Jen-An Neil 林仁安 - 886-289116612</td>\n",
       "    </tr>\n",
       "    <tr>\n",
       "      <th>3</th>\n",
       "      <td>3</td>\n",
       "      <td>3</td>\n",
       "      <td>Costa Rica</td>\n",
       "      <td>La Cumbre</td>\n",
       "      <td>CQU2022017</td>\n",
       "      <td>La Montana Tarrazu MIll</td>\n",
       "      <td>NaN</td>\n",
       "      <td>Coffee Quality Union</td>\n",
       "      <td>1900</td>\n",
       "      <td>Los Santos,Tarrazu</td>\n",
       "      <td>Santa Maria de Dota</td>\n",
       "      <td>1</td>\n",
       "      <td>22 kg</td>\n",
       "      <td>Japan Coffee Exchange</td>\n",
       "      <td>2022</td>\n",
       "      <td>September 21st, 2022</td>\n",
       "      <td>Coffee Quality Union</td>\n",
       "      <td>Gesha</td>\n",
       "      <td>Completed</td>\n",
       "      <td>Washed / Wet</td>\n",
       "      <td>8.08</td>\n",
       "      <td>8.17</td>\n",
       "      <td>8.17</td>\n",
       "      <td>8.25</td>\n",
       "      <td>8.17</td>\n",
       "      <td>8.08</td>\n",
       "      <td>10.0</td>\n",
       "      <td>10.0</td>\n",
       "      <td>10.0</td>\n",
       "      <td>8.25</td>\n",
       "      <td>0.0</td>\n",
       "      <td>87.17</td>\n",
       "      <td>11.8</td>\n",
       "      <td>0</td>\n",
       "      <td>0</td>\n",
       "      <td>green</td>\n",
       "      <td>0</td>\n",
       "      <td>September 21st, 2023</td>\n",
       "      <td>Japan Coffee Exchange</td>\n",
       "      <td>〒413-0002 静岡県熱海市伊豆山１１７３−５８ 1173-58 Izusan, Ata...</td>\n",
       "      <td>松澤　宏樹　Koju Matsuzawa - +81(0)9085642901</td>\n",
       "    </tr>\n",
       "    <tr>\n",
       "      <th>4</th>\n",
       "      <td>4</td>\n",
       "      <td>4</td>\n",
       "      <td>Colombia</td>\n",
       "      <td>Finca Santuario</td>\n",
       "      <td>CQU2023002</td>\n",
       "      <td>Finca Santuario</td>\n",
       "      <td>NaN</td>\n",
       "      <td>Coffee Quality Union</td>\n",
       "      <td>1850-2100</td>\n",
       "      <td>Popayan,Cauca</td>\n",
       "      <td>Camilo Merizalde</td>\n",
       "      <td>2</td>\n",
       "      <td>24 kg</td>\n",
       "      <td>Japan Coffee Exchange</td>\n",
       "      <td>2022</td>\n",
       "      <td>March 6th, 2023</td>\n",
       "      <td>Coffee Quality Union</td>\n",
       "      <td>Red Bourbon</td>\n",
       "      <td>Completed</td>\n",
       "      <td>Honey,Mossto</td>\n",
       "      <td>8.33</td>\n",
       "      <td>8.33</td>\n",
       "      <td>8.08</td>\n",
       "      <td>8.25</td>\n",
       "      <td>7.92</td>\n",
       "      <td>7.92</td>\n",
       "      <td>10.0</td>\n",
       "      <td>10.0</td>\n",
       "      <td>10.0</td>\n",
       "      <td>8.25</td>\n",
       "      <td>0.0</td>\n",
       "      <td>87.08</td>\n",
       "      <td>11.6</td>\n",
       "      <td>0</td>\n",
       "      <td>2</td>\n",
       "      <td>yellow-green</td>\n",
       "      <td>2</td>\n",
       "      <td>March 5th, 2024</td>\n",
       "      <td>Japan Coffee Exchange</td>\n",
       "      <td>〒413-0002 静岡県熱海市伊豆山１１７３−５８ 1173-58 Izusan, Ata...</td>\n",
       "      <td>松澤　宏樹　Koju Matsuzawa - +81(0)9085642901</td>\n",
       "    </tr>\n",
       "  </tbody>\n",
       "</table>\n",
       "</div>"
      ],
      "text/plain": [
       "   Unnamed: 0  ID Country of Origin                 Farm Name  \\\n",
       "0           0   0          Colombia          Finca El Paraiso   \n",
       "1           1   1            Taiwan  Royal Bean Geisha Estate   \n",
       "2           2   2              Laos        OKLAO coffee farms   \n",
       "3           3   3        Costa Rica                 La Cumbre   \n",
       "4           4   4          Colombia           Finca Santuario   \n",
       "\n",
       "                                Lot Number                           Mill  \\\n",
       "0                               CQU2022015               Finca El Paraiso   \n",
       "1  The 2022 Pacific Rim Coffee Summit,T037       Royal Bean Geisha Estate   \n",
       "2  The 2022 Pacific Rim Coffee Summit,LA01  oklao coffee processing plant   \n",
       "3                               CQU2022017        La Montana Tarrazu MIll   \n",
       "4                               CQU2023002                Finca Santuario   \n",
       "\n",
       "  ICO Number                   Company   Altitude                Region  \\\n",
       "0        NaN      Coffee Quality Union  1700-1930        Piendamo,Cauca   \n",
       "1        NaN  Taiwan Coffee Laboratory       1200                Chiayi   \n",
       "2        NaN  Taiwan Coffee Laboratory       1300  Laos Borofen Plateau   \n",
       "3        NaN      Coffee Quality Union       1900    Los Santos,Tarrazu   \n",
       "4        NaN      Coffee Quality Union  1850-2100         Popayan,Cauca   \n",
       "\n",
       "                Producer  Number of Bags Bag Weight  \\\n",
       "0  Diego Samuel Bermudez               1      35 kg   \n",
       "1                    曾福森               1      80 kg   \n",
       "2             WU TAO CHI              19      25 kg   \n",
       "3    Santa Maria de Dota               1      22 kg   \n",
       "4       Camilo Merizalde               2      24 kg   \n",
       "\n",
       "                 In-Country Partner Harvest Year          Grading Date  \\\n",
       "0             Japan Coffee Exchange  2021 / 2022  September 21st, 2022   \n",
       "1  Taiwan Coffee Laboratory 台灣咖啡研究室  2021 / 2022   November 15th, 2022   \n",
       "2  Taiwan Coffee Laboratory 台灣咖啡研究室  2021 / 2022   November 15th, 2022   \n",
       "3             Japan Coffee Exchange         2022  September 21st, 2022   \n",
       "4             Japan Coffee Exchange         2022       March 6th, 2023   \n",
       "\n",
       "                              Owner      Variety     Status  \\\n",
       "0              Coffee Quality Union     Castillo  Completed   \n",
       "1  Taiwan Coffee Laboratory 台灣咖啡研究室        Gesha  Completed   \n",
       "2  Taiwan Coffee Laboratory 台灣咖啡研究室         Java  Completed   \n",
       "3              Coffee Quality Union        Gesha  Completed   \n",
       "4              Coffee Quality Union  Red Bourbon  Completed   \n",
       "\n",
       "         Processing Method  Aroma  Flavor  Aftertaste  Acidity  Body  Balance  \\\n",
       "0  Double Anaerobic Washed   8.58    8.50        8.42     8.58  8.25     8.42   \n",
       "1             Washed / Wet   8.50    8.50        7.92     8.00  7.92     8.25   \n",
       "2              Semi Washed   8.33    8.42        8.08     8.17  7.92     8.17   \n",
       "3             Washed / Wet   8.08    8.17        8.17     8.25  8.17     8.08   \n",
       "4             Honey,Mossto   8.33    8.33        8.08     8.25  7.92     7.92   \n",
       "\n",
       "   Uniformity  Clean Cup  Sweetness  Overall  Defects  Total Cup Points  \\\n",
       "0        10.0       10.0       10.0     8.58      0.0             89.33   \n",
       "1        10.0       10.0       10.0     8.50      0.0             87.58   \n",
       "2        10.0       10.0       10.0     8.33      0.0             87.42   \n",
       "3        10.0       10.0       10.0     8.25      0.0             87.17   \n",
       "4        10.0       10.0       10.0     8.25      0.0             87.08   \n",
       "\n",
       "   Moisture Percentage  Category One Defects  Quakers         Color  \\\n",
       "0                 11.8                     0        0         green   \n",
       "1                 10.5                     0        0    blue-green   \n",
       "2                 10.4                     0        0     yellowish   \n",
       "3                 11.8                     0        0         green   \n",
       "4                 11.6                     0        2  yellow-green   \n",
       "\n",
       "   Category Two Defects            Expiration  \\\n",
       "0                     3  September 21st, 2023   \n",
       "1                     0   November 15th, 2023   \n",
       "2                     2   November 15th, 2023   \n",
       "3                     0  September 21st, 2023   \n",
       "4                     2       March 5th, 2024   \n",
       "\n",
       "                 Certification Body  \\\n",
       "0             Japan Coffee Exchange   \n",
       "1  Taiwan Coffee Laboratory 台灣咖啡研究室   \n",
       "2  Taiwan Coffee Laboratory 台灣咖啡研究室   \n",
       "3             Japan Coffee Exchange   \n",
       "4             Japan Coffee Exchange   \n",
       "\n",
       "                               Certification Address  \\\n",
       "0  〒413-0002 静岡県熱海市伊豆山１１７３−５８ 1173-58 Izusan, Ata...   \n",
       "1  QAHWAH CO., LTD 4F, No. 225, Sec. 3, Beixin Rd...   \n",
       "2  QAHWAH CO., LTD 4F, No. 225, Sec. 3, Beixin Rd...   \n",
       "3  〒413-0002 静岡県熱海市伊豆山１１７３−５８ 1173-58 Izusan, Ata...   \n",
       "4  〒413-0002 静岡県熱海市伊豆山１１７３−５８ 1173-58 Izusan, Ata...   \n",
       "\n",
       "                     Certification Contact  \n",
       "0  松澤　宏樹　Koju Matsuzawa - +81(0)9085642901  \n",
       "1     Lin, Jen-An Neil 林仁安 - 886-289116612  \n",
       "2     Lin, Jen-An Neil 林仁安 - 886-289116612  \n",
       "3  松澤　宏樹　Koju Matsuzawa - +81(0)9085642901  \n",
       "4  松澤　宏樹　Koju Matsuzawa - +81(0)9085642901  "
      ]
     },
     "execution_count": 3,
     "metadata": {},
     "output_type": "execute_result"
    }
   ],
   "source": [
    "# example of the data\n",
    "raw_df.head()"
   ]
  },
  {
   "cell_type": "code",
   "execution_count": 4,
   "metadata": {},
   "outputs": [
    {
     "data": {
      "text/html": [
       "<div>\n",
       "<style scoped>\n",
       "    .dataframe tbody tr th:only-of-type {\n",
       "        vertical-align: middle;\n",
       "    }\n",
       "\n",
       "    .dataframe tbody tr th {\n",
       "        vertical-align: top;\n",
       "    }\n",
       "\n",
       "    .dataframe thead th {\n",
       "        text-align: right;\n",
       "    }\n",
       "</style>\n",
       "<table border=\"1\" class=\"dataframe\">\n",
       "  <thead>\n",
       "    <tr style=\"text-align: right;\">\n",
       "      <th></th>\n",
       "      <th>unnamed:_0</th>\n",
       "      <th>id</th>\n",
       "      <th>country_of_origin</th>\n",
       "      <th>farm_name</th>\n",
       "      <th>lot_number</th>\n",
       "      <th>mill</th>\n",
       "      <th>ico_number</th>\n",
       "      <th>company</th>\n",
       "      <th>altitude</th>\n",
       "      <th>region</th>\n",
       "      <th>producer</th>\n",
       "      <th>number_of_bags</th>\n",
       "      <th>bag_weight</th>\n",
       "      <th>in_country_partner</th>\n",
       "      <th>harvest_year</th>\n",
       "      <th>grading_date</th>\n",
       "      <th>owner</th>\n",
       "      <th>variety</th>\n",
       "      <th>status</th>\n",
       "      <th>processing_method</th>\n",
       "      <th>aroma</th>\n",
       "      <th>flavor</th>\n",
       "      <th>aftertaste</th>\n",
       "      <th>acidity</th>\n",
       "      <th>body</th>\n",
       "      <th>balance</th>\n",
       "      <th>uniformity</th>\n",
       "      <th>clean_cup</th>\n",
       "      <th>sweetness</th>\n",
       "      <th>overall</th>\n",
       "      <th>defects</th>\n",
       "      <th>total_cup_points</th>\n",
       "      <th>moisture_percentage</th>\n",
       "      <th>category_one_defects</th>\n",
       "      <th>quakers</th>\n",
       "      <th>color</th>\n",
       "      <th>category_two_defects</th>\n",
       "      <th>expiration</th>\n",
       "      <th>certification_body</th>\n",
       "      <th>certification_address</th>\n",
       "      <th>certification_contact</th>\n",
       "    </tr>\n",
       "  </thead>\n",
       "  <tbody>\n",
       "    <tr>\n",
       "      <th>0</th>\n",
       "      <td>0</td>\n",
       "      <td>0</td>\n",
       "      <td>Colombia</td>\n",
       "      <td>Finca El Paraiso</td>\n",
       "      <td>CQU2022015</td>\n",
       "      <td>Finca El Paraiso</td>\n",
       "      <td>NaN</td>\n",
       "      <td>Coffee Quality Union</td>\n",
       "      <td>1700-1930</td>\n",
       "      <td>Piendamo,Cauca</td>\n",
       "      <td>Diego Samuel Bermudez</td>\n",
       "      <td>1</td>\n",
       "      <td>35 kg</td>\n",
       "      <td>Japan Coffee Exchange</td>\n",
       "      <td>2021 / 2022</td>\n",
       "      <td>September 21st, 2022</td>\n",
       "      <td>Coffee Quality Union</td>\n",
       "      <td>Castillo</td>\n",
       "      <td>Completed</td>\n",
       "      <td>Double Anaerobic Washed</td>\n",
       "      <td>8.58</td>\n",
       "      <td>8.50</td>\n",
       "      <td>8.42</td>\n",
       "      <td>8.58</td>\n",
       "      <td>8.25</td>\n",
       "      <td>8.42</td>\n",
       "      <td>10.0</td>\n",
       "      <td>10.0</td>\n",
       "      <td>10.0</td>\n",
       "      <td>8.58</td>\n",
       "      <td>0.0</td>\n",
       "      <td>89.33</td>\n",
       "      <td>11.8</td>\n",
       "      <td>0</td>\n",
       "      <td>0</td>\n",
       "      <td>green</td>\n",
       "      <td>3</td>\n",
       "      <td>September 21st, 2023</td>\n",
       "      <td>Japan Coffee Exchange</td>\n",
       "      <td>〒413-0002 静岡県熱海市伊豆山１１７３−５８ 1173-58 Izusan, Ata...</td>\n",
       "      <td>松澤　宏樹　Koju Matsuzawa - +81(0)9085642901</td>\n",
       "    </tr>\n",
       "    <tr>\n",
       "      <th>1</th>\n",
       "      <td>1</td>\n",
       "      <td>1</td>\n",
       "      <td>Taiwan</td>\n",
       "      <td>Royal Bean Geisha Estate</td>\n",
       "      <td>The 2022 Pacific Rim Coffee Summit,T037</td>\n",
       "      <td>Royal Bean Geisha Estate</td>\n",
       "      <td>NaN</td>\n",
       "      <td>Taiwan Coffee Laboratory</td>\n",
       "      <td>1200</td>\n",
       "      <td>Chiayi</td>\n",
       "      <td>曾福森</td>\n",
       "      <td>1</td>\n",
       "      <td>80 kg</td>\n",
       "      <td>Taiwan Coffee Laboratory 台灣咖啡研究室</td>\n",
       "      <td>2021 / 2022</td>\n",
       "      <td>November 15th, 2022</td>\n",
       "      <td>Taiwan Coffee Laboratory 台灣咖啡研究室</td>\n",
       "      <td>Gesha</td>\n",
       "      <td>Completed</td>\n",
       "      <td>Washed / Wet</td>\n",
       "      <td>8.50</td>\n",
       "      <td>8.50</td>\n",
       "      <td>7.92</td>\n",
       "      <td>8.00</td>\n",
       "      <td>7.92</td>\n",
       "      <td>8.25</td>\n",
       "      <td>10.0</td>\n",
       "      <td>10.0</td>\n",
       "      <td>10.0</td>\n",
       "      <td>8.50</td>\n",
       "      <td>0.0</td>\n",
       "      <td>87.58</td>\n",
       "      <td>10.5</td>\n",
       "      <td>0</td>\n",
       "      <td>0</td>\n",
       "      <td>blue-green</td>\n",
       "      <td>0</td>\n",
       "      <td>November 15th, 2023</td>\n",
       "      <td>Taiwan Coffee Laboratory 台灣咖啡研究室</td>\n",
       "      <td>QAHWAH CO., LTD 4F, No. 225, Sec. 3, Beixin Rd...</td>\n",
       "      <td>Lin, Jen-An Neil 林仁安 - 886-289116612</td>\n",
       "    </tr>\n",
       "    <tr>\n",
       "      <th>2</th>\n",
       "      <td>2</td>\n",
       "      <td>2</td>\n",
       "      <td>Laos</td>\n",
       "      <td>OKLAO coffee farms</td>\n",
       "      <td>The 2022 Pacific Rim Coffee Summit,LA01</td>\n",
       "      <td>oklao coffee processing plant</td>\n",
       "      <td>NaN</td>\n",
       "      <td>Taiwan Coffee Laboratory</td>\n",
       "      <td>1300</td>\n",
       "      <td>Laos Borofen Plateau</td>\n",
       "      <td>WU TAO CHI</td>\n",
       "      <td>19</td>\n",
       "      <td>25 kg</td>\n",
       "      <td>Taiwan Coffee Laboratory 台灣咖啡研究室</td>\n",
       "      <td>2021 / 2022</td>\n",
       "      <td>November 15th, 2022</td>\n",
       "      <td>Taiwan Coffee Laboratory 台灣咖啡研究室</td>\n",
       "      <td>Java</td>\n",
       "      <td>Completed</td>\n",
       "      <td>Semi Washed</td>\n",
       "      <td>8.33</td>\n",
       "      <td>8.42</td>\n",
       "      <td>8.08</td>\n",
       "      <td>8.17</td>\n",
       "      <td>7.92</td>\n",
       "      <td>8.17</td>\n",
       "      <td>10.0</td>\n",
       "      <td>10.0</td>\n",
       "      <td>10.0</td>\n",
       "      <td>8.33</td>\n",
       "      <td>0.0</td>\n",
       "      <td>87.42</td>\n",
       "      <td>10.4</td>\n",
       "      <td>0</td>\n",
       "      <td>0</td>\n",
       "      <td>yellowish</td>\n",
       "      <td>2</td>\n",
       "      <td>November 15th, 2023</td>\n",
       "      <td>Taiwan Coffee Laboratory 台灣咖啡研究室</td>\n",
       "      <td>QAHWAH CO., LTD 4F, No. 225, Sec. 3, Beixin Rd...</td>\n",
       "      <td>Lin, Jen-An Neil 林仁安 - 886-289116612</td>\n",
       "    </tr>\n",
       "    <tr>\n",
       "      <th>3</th>\n",
       "      <td>3</td>\n",
       "      <td>3</td>\n",
       "      <td>Costa Rica</td>\n",
       "      <td>La Cumbre</td>\n",
       "      <td>CQU2022017</td>\n",
       "      <td>La Montana Tarrazu MIll</td>\n",
       "      <td>NaN</td>\n",
       "      <td>Coffee Quality Union</td>\n",
       "      <td>1900</td>\n",
       "      <td>Los Santos,Tarrazu</td>\n",
       "      <td>Santa Maria de Dota</td>\n",
       "      <td>1</td>\n",
       "      <td>22 kg</td>\n",
       "      <td>Japan Coffee Exchange</td>\n",
       "      <td>2022</td>\n",
       "      <td>September 21st, 2022</td>\n",
       "      <td>Coffee Quality Union</td>\n",
       "      <td>Gesha</td>\n",
       "      <td>Completed</td>\n",
       "      <td>Washed / Wet</td>\n",
       "      <td>8.08</td>\n",
       "      <td>8.17</td>\n",
       "      <td>8.17</td>\n",
       "      <td>8.25</td>\n",
       "      <td>8.17</td>\n",
       "      <td>8.08</td>\n",
       "      <td>10.0</td>\n",
       "      <td>10.0</td>\n",
       "      <td>10.0</td>\n",
       "      <td>8.25</td>\n",
       "      <td>0.0</td>\n",
       "      <td>87.17</td>\n",
       "      <td>11.8</td>\n",
       "      <td>0</td>\n",
       "      <td>0</td>\n",
       "      <td>green</td>\n",
       "      <td>0</td>\n",
       "      <td>September 21st, 2023</td>\n",
       "      <td>Japan Coffee Exchange</td>\n",
       "      <td>〒413-0002 静岡県熱海市伊豆山１１７３−５８ 1173-58 Izusan, Ata...</td>\n",
       "      <td>松澤　宏樹　Koju Matsuzawa - +81(0)9085642901</td>\n",
       "    </tr>\n",
       "    <tr>\n",
       "      <th>4</th>\n",
       "      <td>4</td>\n",
       "      <td>4</td>\n",
       "      <td>Colombia</td>\n",
       "      <td>Finca Santuario</td>\n",
       "      <td>CQU2023002</td>\n",
       "      <td>Finca Santuario</td>\n",
       "      <td>NaN</td>\n",
       "      <td>Coffee Quality Union</td>\n",
       "      <td>1850-2100</td>\n",
       "      <td>Popayan,Cauca</td>\n",
       "      <td>Camilo Merizalde</td>\n",
       "      <td>2</td>\n",
       "      <td>24 kg</td>\n",
       "      <td>Japan Coffee Exchange</td>\n",
       "      <td>2022</td>\n",
       "      <td>March 6th, 2023</td>\n",
       "      <td>Coffee Quality Union</td>\n",
       "      <td>Red Bourbon</td>\n",
       "      <td>Completed</td>\n",
       "      <td>Honey,Mossto</td>\n",
       "      <td>8.33</td>\n",
       "      <td>8.33</td>\n",
       "      <td>8.08</td>\n",
       "      <td>8.25</td>\n",
       "      <td>7.92</td>\n",
       "      <td>7.92</td>\n",
       "      <td>10.0</td>\n",
       "      <td>10.0</td>\n",
       "      <td>10.0</td>\n",
       "      <td>8.25</td>\n",
       "      <td>0.0</td>\n",
       "      <td>87.08</td>\n",
       "      <td>11.6</td>\n",
       "      <td>0</td>\n",
       "      <td>2</td>\n",
       "      <td>yellow-green</td>\n",
       "      <td>2</td>\n",
       "      <td>March 5th, 2024</td>\n",
       "      <td>Japan Coffee Exchange</td>\n",
       "      <td>〒413-0002 静岡県熱海市伊豆山１１７３−５８ 1173-58 Izusan, Ata...</td>\n",
       "      <td>松澤　宏樹　Koju Matsuzawa - +81(0)9085642901</td>\n",
       "    </tr>\n",
       "  </tbody>\n",
       "</table>\n",
       "</div>"
      ],
      "text/plain": [
       "   unnamed:_0  id country_of_origin                 farm_name  \\\n",
       "0           0   0          Colombia          Finca El Paraiso   \n",
       "1           1   1            Taiwan  Royal Bean Geisha Estate   \n",
       "2           2   2              Laos        OKLAO coffee farms   \n",
       "3           3   3        Costa Rica                 La Cumbre   \n",
       "4           4   4          Colombia           Finca Santuario   \n",
       "\n",
       "                                lot_number                           mill  \\\n",
       "0                               CQU2022015               Finca El Paraiso   \n",
       "1  The 2022 Pacific Rim Coffee Summit,T037       Royal Bean Geisha Estate   \n",
       "2  The 2022 Pacific Rim Coffee Summit,LA01  oklao coffee processing plant   \n",
       "3                               CQU2022017        La Montana Tarrazu MIll   \n",
       "4                               CQU2023002                Finca Santuario   \n",
       "\n",
       "  ico_number                   company   altitude                region  \\\n",
       "0        NaN      Coffee Quality Union  1700-1930        Piendamo,Cauca   \n",
       "1        NaN  Taiwan Coffee Laboratory       1200                Chiayi   \n",
       "2        NaN  Taiwan Coffee Laboratory       1300  Laos Borofen Plateau   \n",
       "3        NaN      Coffee Quality Union       1900    Los Santos,Tarrazu   \n",
       "4        NaN      Coffee Quality Union  1850-2100         Popayan,Cauca   \n",
       "\n",
       "                producer  number_of_bags bag_weight  \\\n",
       "0  Diego Samuel Bermudez               1      35 kg   \n",
       "1                    曾福森               1      80 kg   \n",
       "2             WU TAO CHI              19      25 kg   \n",
       "3    Santa Maria de Dota               1      22 kg   \n",
       "4       Camilo Merizalde               2      24 kg   \n",
       "\n",
       "                 in_country_partner harvest_year          grading_date  \\\n",
       "0             Japan Coffee Exchange  2021 / 2022  September 21st, 2022   \n",
       "1  Taiwan Coffee Laboratory 台灣咖啡研究室  2021 / 2022   November 15th, 2022   \n",
       "2  Taiwan Coffee Laboratory 台灣咖啡研究室  2021 / 2022   November 15th, 2022   \n",
       "3             Japan Coffee Exchange         2022  September 21st, 2022   \n",
       "4             Japan Coffee Exchange         2022       March 6th, 2023   \n",
       "\n",
       "                              owner      variety     status  \\\n",
       "0              Coffee Quality Union     Castillo  Completed   \n",
       "1  Taiwan Coffee Laboratory 台灣咖啡研究室        Gesha  Completed   \n",
       "2  Taiwan Coffee Laboratory 台灣咖啡研究室         Java  Completed   \n",
       "3              Coffee Quality Union        Gesha  Completed   \n",
       "4              Coffee Quality Union  Red Bourbon  Completed   \n",
       "\n",
       "         processing_method  aroma  flavor  aftertaste  acidity  body  balance  \\\n",
       "0  Double Anaerobic Washed   8.58    8.50        8.42     8.58  8.25     8.42   \n",
       "1             Washed / Wet   8.50    8.50        7.92     8.00  7.92     8.25   \n",
       "2              Semi Washed   8.33    8.42        8.08     8.17  7.92     8.17   \n",
       "3             Washed / Wet   8.08    8.17        8.17     8.25  8.17     8.08   \n",
       "4             Honey,Mossto   8.33    8.33        8.08     8.25  7.92     7.92   \n",
       "\n",
       "   uniformity  clean_cup  sweetness  overall  defects  total_cup_points  \\\n",
       "0        10.0       10.0       10.0     8.58      0.0             89.33   \n",
       "1        10.0       10.0       10.0     8.50      0.0             87.58   \n",
       "2        10.0       10.0       10.0     8.33      0.0             87.42   \n",
       "3        10.0       10.0       10.0     8.25      0.0             87.17   \n",
       "4        10.0       10.0       10.0     8.25      0.0             87.08   \n",
       "\n",
       "   moisture_percentage  category_one_defects  quakers         color  \\\n",
       "0                 11.8                     0        0         green   \n",
       "1                 10.5                     0        0    blue-green   \n",
       "2                 10.4                     0        0     yellowish   \n",
       "3                 11.8                     0        0         green   \n",
       "4                 11.6                     0        2  yellow-green   \n",
       "\n",
       "   category_two_defects            expiration  \\\n",
       "0                     3  September 21st, 2023   \n",
       "1                     0   November 15th, 2023   \n",
       "2                     2   November 15th, 2023   \n",
       "3                     0  September 21st, 2023   \n",
       "4                     2       March 5th, 2024   \n",
       "\n",
       "                 certification_body  \\\n",
       "0             Japan Coffee Exchange   \n",
       "1  Taiwan Coffee Laboratory 台灣咖啡研究室   \n",
       "2  Taiwan Coffee Laboratory 台灣咖啡研究室   \n",
       "3             Japan Coffee Exchange   \n",
       "4             Japan Coffee Exchange   \n",
       "\n",
       "                               certification_address  \\\n",
       "0  〒413-0002 静岡県熱海市伊豆山１１７３−５８ 1173-58 Izusan, Ata...   \n",
       "1  QAHWAH CO., LTD 4F, No. 225, Sec. 3, Beixin Rd...   \n",
       "2  QAHWAH CO., LTD 4F, No. 225, Sec. 3, Beixin Rd...   \n",
       "3  〒413-0002 静岡県熱海市伊豆山１１７３−５８ 1173-58 Izusan, Ata...   \n",
       "4  〒413-0002 静岡県熱海市伊豆山１１７３−５８ 1173-58 Izusan, Ata...   \n",
       "\n",
       "                     certification_contact  \n",
       "0  松澤　宏樹　Koju Matsuzawa - +81(0)9085642901  \n",
       "1     Lin, Jen-An Neil 林仁安 - 886-289116612  \n",
       "2     Lin, Jen-An Neil 林仁安 - 886-289116612  \n",
       "3  松澤　宏樹　Koju Matsuzawa - +81(0)9085642901  \n",
       "4  松澤　宏樹　Koju Matsuzawa - +81(0)9085642901  "
      ]
     },
     "execution_count": 4,
     "metadata": {},
     "output_type": "execute_result"
    }
   ],
   "source": [
    "# rename columns to make them more readable\n",
    "columns = list(raw_df.columns)\n",
    "rename_columns = {column:re.sub(r'\\s+', '_', column.lower()) for column in columns}\n",
    "# In-Country Partner column has a special character, I will replace it with '_'\n",
    "rename_columns['In-Country Partner'] = 'in_country_partner'\n",
    "# rename the columns\n",
    "raw_df.rename(columns=rename_columns, inplace=True)\n",
    "raw_df.head()"
   ]
  },
  {
   "cell_type": "code",
   "execution_count": 5,
   "metadata": {},
   "outputs": [],
   "source": [
    "# dataframe to overview information function\n",
    "def get_info(df):\n",
    "    \"\"\"\n",
    "    This function returns the information of the dataframe\n",
    "    I separate the data into two dataframes, one for numeric data and the other for object data\n",
    "    Args:\n",
    "        df: pd.DataFrame\n",
    "    Returns:\n",
    "        numeric_df: pd.DataFrame\n",
    "        object_df: pd.DataFrame\n",
    "    \"\"\"\n",
    "    numeric_data = []\n",
    "    object_data = []\n",
    "    for column in df.columns:\n",
    "        total = df[column].count() + df[column].isnull().sum()\n",
    "        if df[column].dtype == object or df[column].dtype == bool:\n",
    "            object_data.append({\n",
    "                'column': column,\n",
    "                'dtype': df[column].dtype,\n",
    "                'valid': df[column].count(),\n",
    "                'missing': df[column].isnull().sum(),\n",
    "                'unique': df[column].nunique(),\n",
    "                'unique_pct': round((df[column].nunique() *100 / total), 2),\n",
    "                'top': df[column].mode().values[0],\n",
    "                'freq': df[column].value_counts().values[0]\n",
    "            })\n",
    "        else:\n",
    "            numeric_data.append({\n",
    "                'column': column,\n",
    "                'dtype': df[column].dtype,\n",
    "                'valid': df[column].count(),\n",
    "                'missing': df[column].isnull().sum(),\n",
    "                'unique': df[column].nunique(),\n",
    "                'unique_pct': round((df[column].nunique()*100 / total), 2),\n",
    "                'mean': round(df[column].mean(), 2),\n",
    "                'std': round(df[column].std(), 2),\n",
    "                'min': df[column].min(),\n",
    "                '25%': df[column].quantile(0.25),\n",
    "                '50%': df[column].quantile(0.50),\n",
    "                '75%': df[column].quantile(0.75),\n",
    "                'max': df[column].max(),\n",
    "            })\n",
    "    numeric_df = pd.DataFrame(numeric_data)\n",
    "    object_df = pd.DataFrame(object_data)\n",
    "    return numeric_df, object_df\n"
   ]
  },
  {
   "cell_type": "code",
   "execution_count": 6,
   "metadata": {},
   "outputs": [],
   "source": [
    "numeric_df, object_df = get_info(raw_df)"
   ]
  },
  {
   "cell_type": "code",
   "execution_count": 7,
   "metadata": {},
   "outputs": [
    {
     "name": "stdout",
     "output_type": "stream",
     "text": [
      "Numerical data:\n",
      "\n"
     ]
    },
    {
     "data": {
      "text/html": [
       "<div>\n",
       "<style scoped>\n",
       "    .dataframe tbody tr th:only-of-type {\n",
       "        vertical-align: middle;\n",
       "    }\n",
       "\n",
       "    .dataframe tbody tr th {\n",
       "        vertical-align: top;\n",
       "    }\n",
       "\n",
       "    .dataframe thead th {\n",
       "        text-align: right;\n",
       "    }\n",
       "</style>\n",
       "<table border=\"1\" class=\"dataframe\">\n",
       "  <thead>\n",
       "    <tr style=\"text-align: right;\">\n",
       "      <th></th>\n",
       "      <th>column</th>\n",
       "      <th>dtype</th>\n",
       "      <th>valid</th>\n",
       "      <th>missing</th>\n",
       "      <th>unique</th>\n",
       "      <th>unique_pct</th>\n",
       "      <th>mean</th>\n",
       "      <th>std</th>\n",
       "      <th>min</th>\n",
       "      <th>25%</th>\n",
       "      <th>50%</th>\n",
       "      <th>75%</th>\n",
       "      <th>max</th>\n",
       "    </tr>\n",
       "  </thead>\n",
       "  <tbody>\n",
       "    <tr>\n",
       "      <th>0</th>\n",
       "      <td>unnamed:_0</td>\n",
       "      <td>int64</td>\n",
       "      <td>207</td>\n",
       "      <td>0</td>\n",
       "      <td>207</td>\n",
       "      <td>100.00</td>\n",
       "      <td>103.00</td>\n",
       "      <td>59.90</td>\n",
       "      <td>0.00</td>\n",
       "      <td>51.50</td>\n",
       "      <td>103.00</td>\n",
       "      <td>154.500</td>\n",
       "      <td>206.00</td>\n",
       "    </tr>\n",
       "    <tr>\n",
       "      <th>1</th>\n",
       "      <td>id</td>\n",
       "      <td>int64</td>\n",
       "      <td>207</td>\n",
       "      <td>0</td>\n",
       "      <td>207</td>\n",
       "      <td>100.00</td>\n",
       "      <td>103.00</td>\n",
       "      <td>59.90</td>\n",
       "      <td>0.00</td>\n",
       "      <td>51.50</td>\n",
       "      <td>103.00</td>\n",
       "      <td>154.500</td>\n",
       "      <td>206.00</td>\n",
       "    </tr>\n",
       "    <tr>\n",
       "      <th>2</th>\n",
       "      <td>number_of_bags</td>\n",
       "      <td>int64</td>\n",
       "      <td>207</td>\n",
       "      <td>0</td>\n",
       "      <td>55</td>\n",
       "      <td>26.57</td>\n",
       "      <td>155.45</td>\n",
       "      <td>244.48</td>\n",
       "      <td>1.00</td>\n",
       "      <td>1.00</td>\n",
       "      <td>14.00</td>\n",
       "      <td>275.000</td>\n",
       "      <td>2240.00</td>\n",
       "    </tr>\n",
       "    <tr>\n",
       "      <th>3</th>\n",
       "      <td>aroma</td>\n",
       "      <td>float64</td>\n",
       "      <td>207</td>\n",
       "      <td>0</td>\n",
       "      <td>19</td>\n",
       "      <td>9.18</td>\n",
       "      <td>7.72</td>\n",
       "      <td>0.29</td>\n",
       "      <td>6.50</td>\n",
       "      <td>7.58</td>\n",
       "      <td>7.67</td>\n",
       "      <td>7.920</td>\n",
       "      <td>8.58</td>\n",
       "    </tr>\n",
       "    <tr>\n",
       "      <th>4</th>\n",
       "      <td>flavor</td>\n",
       "      <td>float64</td>\n",
       "      <td>207</td>\n",
       "      <td>0</td>\n",
       "      <td>19</td>\n",
       "      <td>9.18</td>\n",
       "      <td>7.74</td>\n",
       "      <td>0.28</td>\n",
       "      <td>6.75</td>\n",
       "      <td>7.58</td>\n",
       "      <td>7.75</td>\n",
       "      <td>7.920</td>\n",
       "      <td>8.50</td>\n",
       "    </tr>\n",
       "    <tr>\n",
       "      <th>5</th>\n",
       "      <td>aftertaste</td>\n",
       "      <td>float64</td>\n",
       "      <td>207</td>\n",
       "      <td>0</td>\n",
       "      <td>20</td>\n",
       "      <td>9.66</td>\n",
       "      <td>7.60</td>\n",
       "      <td>0.28</td>\n",
       "      <td>6.67</td>\n",
       "      <td>7.42</td>\n",
       "      <td>7.58</td>\n",
       "      <td>7.750</td>\n",
       "      <td>8.42</td>\n",
       "    </tr>\n",
       "    <tr>\n",
       "      <th>6</th>\n",
       "      <td>acidity</td>\n",
       "      <td>float64</td>\n",
       "      <td>207</td>\n",
       "      <td>0</td>\n",
       "      <td>19</td>\n",
       "      <td>9.18</td>\n",
       "      <td>7.69</td>\n",
       "      <td>0.26</td>\n",
       "      <td>6.83</td>\n",
       "      <td>7.50</td>\n",
       "      <td>7.67</td>\n",
       "      <td>7.875</td>\n",
       "      <td>8.58</td>\n",
       "    </tr>\n",
       "    <tr>\n",
       "      <th>7</th>\n",
       "      <td>body</td>\n",
       "      <td>float64</td>\n",
       "      <td>207</td>\n",
       "      <td>0</td>\n",
       "      <td>17</td>\n",
       "      <td>8.21</td>\n",
       "      <td>7.64</td>\n",
       "      <td>0.23</td>\n",
       "      <td>6.83</td>\n",
       "      <td>7.50</td>\n",
       "      <td>7.67</td>\n",
       "      <td>7.750</td>\n",
       "      <td>8.25</td>\n",
       "    </tr>\n",
       "    <tr>\n",
       "      <th>8</th>\n",
       "      <td>balance</td>\n",
       "      <td>float64</td>\n",
       "      <td>207</td>\n",
       "      <td>0</td>\n",
       "      <td>18</td>\n",
       "      <td>8.70</td>\n",
       "      <td>7.64</td>\n",
       "      <td>0.26</td>\n",
       "      <td>6.67</td>\n",
       "      <td>7.50</td>\n",
       "      <td>7.67</td>\n",
       "      <td>7.790</td>\n",
       "      <td>8.42</td>\n",
       "    </tr>\n",
       "    <tr>\n",
       "      <th>9</th>\n",
       "      <td>uniformity</td>\n",
       "      <td>float64</td>\n",
       "      <td>207</td>\n",
       "      <td>0</td>\n",
       "      <td>3</td>\n",
       "      <td>1.45</td>\n",
       "      <td>9.99</td>\n",
       "      <td>0.10</td>\n",
       "      <td>8.67</td>\n",
       "      <td>10.00</td>\n",
       "      <td>10.00</td>\n",
       "      <td>10.000</td>\n",
       "      <td>10.00</td>\n",
       "    </tr>\n",
       "    <tr>\n",
       "      <th>10</th>\n",
       "      <td>clean_cup</td>\n",
       "      <td>float64</td>\n",
       "      <td>207</td>\n",
       "      <td>0</td>\n",
       "      <td>1</td>\n",
       "      <td>0.48</td>\n",
       "      <td>10.00</td>\n",
       "      <td>0.00</td>\n",
       "      <td>10.00</td>\n",
       "      <td>10.00</td>\n",
       "      <td>10.00</td>\n",
       "      <td>10.000</td>\n",
       "      <td>10.00</td>\n",
       "    </tr>\n",
       "    <tr>\n",
       "      <th>11</th>\n",
       "      <td>sweetness</td>\n",
       "      <td>float64</td>\n",
       "      <td>207</td>\n",
       "      <td>0</td>\n",
       "      <td>1</td>\n",
       "      <td>0.48</td>\n",
       "      <td>10.00</td>\n",
       "      <td>0.00</td>\n",
       "      <td>10.00</td>\n",
       "      <td>10.00</td>\n",
       "      <td>10.00</td>\n",
       "      <td>10.000</td>\n",
       "      <td>10.00</td>\n",
       "    </tr>\n",
       "    <tr>\n",
       "      <th>12</th>\n",
       "      <td>overall</td>\n",
       "      <td>float64</td>\n",
       "      <td>207</td>\n",
       "      <td>0</td>\n",
       "      <td>21</td>\n",
       "      <td>10.14</td>\n",
       "      <td>7.68</td>\n",
       "      <td>0.31</td>\n",
       "      <td>6.67</td>\n",
       "      <td>7.50</td>\n",
       "      <td>7.67</td>\n",
       "      <td>7.920</td>\n",
       "      <td>8.58</td>\n",
       "    </tr>\n",
       "    <tr>\n",
       "      <th>13</th>\n",
       "      <td>defects</td>\n",
       "      <td>float64</td>\n",
       "      <td>207</td>\n",
       "      <td>0</td>\n",
       "      <td>1</td>\n",
       "      <td>0.48</td>\n",
       "      <td>0.00</td>\n",
       "      <td>0.00</td>\n",
       "      <td>0.00</td>\n",
       "      <td>0.00</td>\n",
       "      <td>0.00</td>\n",
       "      <td>0.000</td>\n",
       "      <td>0.00</td>\n",
       "    </tr>\n",
       "    <tr>\n",
       "      <th>14</th>\n",
       "      <td>total_cup_points</td>\n",
       "      <td>float64</td>\n",
       "      <td>207</td>\n",
       "      <td>0</td>\n",
       "      <td>81</td>\n",
       "      <td>39.13</td>\n",
       "      <td>83.71</td>\n",
       "      <td>1.73</td>\n",
       "      <td>78.00</td>\n",
       "      <td>82.58</td>\n",
       "      <td>83.75</td>\n",
       "      <td>84.830</td>\n",
       "      <td>89.33</td>\n",
       "    </tr>\n",
       "    <tr>\n",
       "      <th>15</th>\n",
       "      <td>moisture_percentage</td>\n",
       "      <td>float64</td>\n",
       "      <td>207</td>\n",
       "      <td>0</td>\n",
       "      <td>46</td>\n",
       "      <td>22.22</td>\n",
       "      <td>10.74</td>\n",
       "      <td>1.25</td>\n",
       "      <td>0.00</td>\n",
       "      <td>10.10</td>\n",
       "      <td>10.80</td>\n",
       "      <td>11.500</td>\n",
       "      <td>13.50</td>\n",
       "    </tr>\n",
       "    <tr>\n",
       "      <th>16</th>\n",
       "      <td>category_one_defects</td>\n",
       "      <td>int64</td>\n",
       "      <td>207</td>\n",
       "      <td>0</td>\n",
       "      <td>6</td>\n",
       "      <td>2.90</td>\n",
       "      <td>0.14</td>\n",
       "      <td>0.59</td>\n",
       "      <td>0.00</td>\n",
       "      <td>0.00</td>\n",
       "      <td>0.00</td>\n",
       "      <td>0.000</td>\n",
       "      <td>5.00</td>\n",
       "    </tr>\n",
       "    <tr>\n",
       "      <th>17</th>\n",
       "      <td>quakers</td>\n",
       "      <td>int64</td>\n",
       "      <td>207</td>\n",
       "      <td>0</td>\n",
       "      <td>11</td>\n",
       "      <td>5.31</td>\n",
       "      <td>0.69</td>\n",
       "      <td>1.69</td>\n",
       "      <td>0.00</td>\n",
       "      <td>0.00</td>\n",
       "      <td>0.00</td>\n",
       "      <td>1.000</td>\n",
       "      <td>12.00</td>\n",
       "    </tr>\n",
       "    <tr>\n",
       "      <th>18</th>\n",
       "      <td>category_two_defects</td>\n",
       "      <td>int64</td>\n",
       "      <td>207</td>\n",
       "      <td>0</td>\n",
       "      <td>14</td>\n",
       "      <td>6.76</td>\n",
       "      <td>2.25</td>\n",
       "      <td>2.95</td>\n",
       "      <td>0.00</td>\n",
       "      <td>0.00</td>\n",
       "      <td>1.00</td>\n",
       "      <td>3.000</td>\n",
       "      <td>16.00</td>\n",
       "    </tr>\n",
       "  </tbody>\n",
       "</table>\n",
       "</div>"
      ],
      "text/plain": [
       "                  column    dtype  valid  missing  unique  unique_pct    mean  \\\n",
       "0             unnamed:_0    int64    207        0     207      100.00  103.00   \n",
       "1                     id    int64    207        0     207      100.00  103.00   \n",
       "2         number_of_bags    int64    207        0      55       26.57  155.45   \n",
       "3                  aroma  float64    207        0      19        9.18    7.72   \n",
       "4                 flavor  float64    207        0      19        9.18    7.74   \n",
       "5             aftertaste  float64    207        0      20        9.66    7.60   \n",
       "6                acidity  float64    207        0      19        9.18    7.69   \n",
       "7                   body  float64    207        0      17        8.21    7.64   \n",
       "8                balance  float64    207        0      18        8.70    7.64   \n",
       "9             uniformity  float64    207        0       3        1.45    9.99   \n",
       "10             clean_cup  float64    207        0       1        0.48   10.00   \n",
       "11             sweetness  float64    207        0       1        0.48   10.00   \n",
       "12               overall  float64    207        0      21       10.14    7.68   \n",
       "13               defects  float64    207        0       1        0.48    0.00   \n",
       "14      total_cup_points  float64    207        0      81       39.13   83.71   \n",
       "15   moisture_percentage  float64    207        0      46       22.22   10.74   \n",
       "16  category_one_defects    int64    207        0       6        2.90    0.14   \n",
       "17               quakers    int64    207        0      11        5.31    0.69   \n",
       "18  category_two_defects    int64    207        0      14        6.76    2.25   \n",
       "\n",
       "       std    min    25%     50%      75%      max  \n",
       "0    59.90   0.00  51.50  103.00  154.500   206.00  \n",
       "1    59.90   0.00  51.50  103.00  154.500   206.00  \n",
       "2   244.48   1.00   1.00   14.00  275.000  2240.00  \n",
       "3     0.29   6.50   7.58    7.67    7.920     8.58  \n",
       "4     0.28   6.75   7.58    7.75    7.920     8.50  \n",
       "5     0.28   6.67   7.42    7.58    7.750     8.42  \n",
       "6     0.26   6.83   7.50    7.67    7.875     8.58  \n",
       "7     0.23   6.83   7.50    7.67    7.750     8.25  \n",
       "8     0.26   6.67   7.50    7.67    7.790     8.42  \n",
       "9     0.10   8.67  10.00   10.00   10.000    10.00  \n",
       "10    0.00  10.00  10.00   10.00   10.000    10.00  \n",
       "11    0.00  10.00  10.00   10.00   10.000    10.00  \n",
       "12    0.31   6.67   7.50    7.67    7.920     8.58  \n",
       "13    0.00   0.00   0.00    0.00    0.000     0.00  \n",
       "14    1.73  78.00  82.58   83.75   84.830    89.33  \n",
       "15    1.25   0.00  10.10   10.80   11.500    13.50  \n",
       "16    0.59   0.00   0.00    0.00    0.000     5.00  \n",
       "17    1.69   0.00   0.00    0.00    1.000    12.00  \n",
       "18    2.95   0.00   0.00    1.00    3.000    16.00  "
      ]
     },
     "execution_count": 7,
     "metadata": {},
     "output_type": "execute_result"
    }
   ],
   "source": [
    "print(\"Numerical data:\\n\")\n",
    "numeric_df"
   ]
  },
  {
   "cell_type": "code",
   "execution_count": 8,
   "metadata": {},
   "outputs": [
    {
     "name": "stdout",
     "output_type": "stream",
     "text": [
      "Object data:\n",
      "\n"
     ]
    },
    {
     "data": {
      "text/html": [
       "<div>\n",
       "<style scoped>\n",
       "    .dataframe tbody tr th:only-of-type {\n",
       "        vertical-align: middle;\n",
       "    }\n",
       "\n",
       "    .dataframe tbody tr th {\n",
       "        vertical-align: top;\n",
       "    }\n",
       "\n",
       "    .dataframe thead th {\n",
       "        text-align: right;\n",
       "    }\n",
       "</style>\n",
       "<table border=\"1\" class=\"dataframe\">\n",
       "  <thead>\n",
       "    <tr style=\"text-align: right;\">\n",
       "      <th></th>\n",
       "      <th>column</th>\n",
       "      <th>dtype</th>\n",
       "      <th>valid</th>\n",
       "      <th>missing</th>\n",
       "      <th>unique</th>\n",
       "      <th>unique_pct</th>\n",
       "      <th>top</th>\n",
       "      <th>freq</th>\n",
       "    </tr>\n",
       "  </thead>\n",
       "  <tbody>\n",
       "    <tr>\n",
       "      <th>0</th>\n",
       "      <td>country_of_origin</td>\n",
       "      <td>object</td>\n",
       "      <td>207</td>\n",
       "      <td>0</td>\n",
       "      <td>22</td>\n",
       "      <td>10.63</td>\n",
       "      <td>Taiwan</td>\n",
       "      <td>61</td>\n",
       "    </tr>\n",
       "    <tr>\n",
       "      <th>1</th>\n",
       "      <td>farm_name</td>\n",
       "      <td>object</td>\n",
       "      <td>205</td>\n",
       "      <td>2</td>\n",
       "      <td>172</td>\n",
       "      <td>83.09</td>\n",
       "      <td>Doi Tung Development Project</td>\n",
       "      <td>7</td>\n",
       "    </tr>\n",
       "    <tr>\n",
       "      <th>2</th>\n",
       "      <td>lot_number</td>\n",
       "      <td>object</td>\n",
       "      <td>206</td>\n",
       "      <td>1</td>\n",
       "      <td>187</td>\n",
       "      <td>90.34</td>\n",
       "      <td>1</td>\n",
       "      <td>11</td>\n",
       "    </tr>\n",
       "    <tr>\n",
       "      <th>3</th>\n",
       "      <td>mill</td>\n",
       "      <td>object</td>\n",
       "      <td>204</td>\n",
       "      <td>3</td>\n",
       "      <td>162</td>\n",
       "      <td>78.26</td>\n",
       "      <td>Dry Mill</td>\n",
       "      <td>11</td>\n",
       "    </tr>\n",
       "    <tr>\n",
       "      <th>4</th>\n",
       "      <td>ico_number</td>\n",
       "      <td>object</td>\n",
       "      <td>75</td>\n",
       "      <td>132</td>\n",
       "      <td>67</td>\n",
       "      <td>32.37</td>\n",
       "      <td>non</td>\n",
       "      <td>5</td>\n",
       "    </tr>\n",
       "    <tr>\n",
       "      <th>5</th>\n",
       "      <td>company</td>\n",
       "      <td>object</td>\n",
       "      <td>207</td>\n",
       "      <td>0</td>\n",
       "      <td>72</td>\n",
       "      <td>34.78</td>\n",
       "      <td>Taiwan Coffee Laboratory</td>\n",
       "      <td>51</td>\n",
       "    </tr>\n",
       "    <tr>\n",
       "      <th>6</th>\n",
       "      <td>altitude</td>\n",
       "      <td>object</td>\n",
       "      <td>206</td>\n",
       "      <td>1</td>\n",
       "      <td>97</td>\n",
       "      <td>46.86</td>\n",
       "      <td>1200</td>\n",
       "      <td>23</td>\n",
       "    </tr>\n",
       "    <tr>\n",
       "      <th>7</th>\n",
       "      <td>region</td>\n",
       "      <td>object</td>\n",
       "      <td>205</td>\n",
       "      <td>2</td>\n",
       "      <td>120</td>\n",
       "      <td>57.97</td>\n",
       "      <td>Chiayi</td>\n",
       "      <td>12</td>\n",
       "    </tr>\n",
       "    <tr>\n",
       "      <th>8</th>\n",
       "      <td>producer</td>\n",
       "      <td>object</td>\n",
       "      <td>206</td>\n",
       "      <td>1</td>\n",
       "      <td>172</td>\n",
       "      <td>83.09</td>\n",
       "      <td>Doi Tung Development Project</td>\n",
       "      <td>7</td>\n",
       "    </tr>\n",
       "    <tr>\n",
       "      <th>9</th>\n",
       "      <td>bag_weight</td>\n",
       "      <td>object</td>\n",
       "      <td>207</td>\n",
       "      <td>0</td>\n",
       "      <td>39</td>\n",
       "      <td>18.84</td>\n",
       "      <td>30 kg</td>\n",
       "      <td>39</td>\n",
       "    </tr>\n",
       "    <tr>\n",
       "      <th>10</th>\n",
       "      <td>in_country_partner</td>\n",
       "      <td>object</td>\n",
       "      <td>207</td>\n",
       "      <td>0</td>\n",
       "      <td>21</td>\n",
       "      <td>10.14</td>\n",
       "      <td>Taiwan Coffee Laboratory 台灣咖啡研究室</td>\n",
       "      <td>83</td>\n",
       "    </tr>\n",
       "    <tr>\n",
       "      <th>11</th>\n",
       "      <td>harvest_year</td>\n",
       "      <td>object</td>\n",
       "      <td>207</td>\n",
       "      <td>0</td>\n",
       "      <td>7</td>\n",
       "      <td>3.38</td>\n",
       "      <td>2021 / 2022</td>\n",
       "      <td>99</td>\n",
       "    </tr>\n",
       "    <tr>\n",
       "      <th>12</th>\n",
       "      <td>grading_date</td>\n",
       "      <td>object</td>\n",
       "      <td>207</td>\n",
       "      <td>0</td>\n",
       "      <td>75</td>\n",
       "      <td>36.23</td>\n",
       "      <td>November 15th, 2022</td>\n",
       "      <td>40</td>\n",
       "    </tr>\n",
       "    <tr>\n",
       "      <th>13</th>\n",
       "      <td>owner</td>\n",
       "      <td>object</td>\n",
       "      <td>207</td>\n",
       "      <td>0</td>\n",
       "      <td>80</td>\n",
       "      <td>38.65</td>\n",
       "      <td>Taiwan Coffee Laboratory 台灣咖啡研究室</td>\n",
       "      <td>30</td>\n",
       "    </tr>\n",
       "    <tr>\n",
       "      <th>14</th>\n",
       "      <td>variety</td>\n",
       "      <td>object</td>\n",
       "      <td>201</td>\n",
       "      <td>6</td>\n",
       "      <td>48</td>\n",
       "      <td>23.19</td>\n",
       "      <td>Caturra</td>\n",
       "      <td>27</td>\n",
       "    </tr>\n",
       "    <tr>\n",
       "      <th>15</th>\n",
       "      <td>status</td>\n",
       "      <td>object</td>\n",
       "      <td>207</td>\n",
       "      <td>0</td>\n",
       "      <td>1</td>\n",
       "      <td>0.48</td>\n",
       "      <td>Completed</td>\n",
       "      <td>207</td>\n",
       "    </tr>\n",
       "    <tr>\n",
       "      <th>16</th>\n",
       "      <td>processing_method</td>\n",
       "      <td>object</td>\n",
       "      <td>202</td>\n",
       "      <td>5</td>\n",
       "      <td>10</td>\n",
       "      <td>4.83</td>\n",
       "      <td>Washed / Wet</td>\n",
       "      <td>124</td>\n",
       "    </tr>\n",
       "    <tr>\n",
       "      <th>17</th>\n",
       "      <td>color</td>\n",
       "      <td>object</td>\n",
       "      <td>207</td>\n",
       "      <td>0</td>\n",
       "      <td>12</td>\n",
       "      <td>5.80</td>\n",
       "      <td>green</td>\n",
       "      <td>101</td>\n",
       "    </tr>\n",
       "    <tr>\n",
       "      <th>18</th>\n",
       "      <td>expiration</td>\n",
       "      <td>object</td>\n",
       "      <td>207</td>\n",
       "      <td>0</td>\n",
       "      <td>75</td>\n",
       "      <td>36.23</td>\n",
       "      <td>November 15th, 2023</td>\n",
       "      <td>40</td>\n",
       "    </tr>\n",
       "    <tr>\n",
       "      <th>19</th>\n",
       "      <td>certification_body</td>\n",
       "      <td>object</td>\n",
       "      <td>207</td>\n",
       "      <td>0</td>\n",
       "      <td>21</td>\n",
       "      <td>10.14</td>\n",
       "      <td>Taiwan Coffee Laboratory 台灣咖啡研究室</td>\n",
       "      <td>83</td>\n",
       "    </tr>\n",
       "    <tr>\n",
       "      <th>20</th>\n",
       "      <td>certification_address</td>\n",
       "      <td>object</td>\n",
       "      <td>207</td>\n",
       "      <td>0</td>\n",
       "      <td>21</td>\n",
       "      <td>10.14</td>\n",
       "      <td>QAHWAH CO., LTD 4F, No. 225, Sec. 3, Beixin Rd...</td>\n",
       "      <td>83</td>\n",
       "    </tr>\n",
       "    <tr>\n",
       "      <th>21</th>\n",
       "      <td>certification_contact</td>\n",
       "      <td>object</td>\n",
       "      <td>207</td>\n",
       "      <td>0</td>\n",
       "      <td>21</td>\n",
       "      <td>10.14</td>\n",
       "      <td>Lin, Jen-An Neil 林仁安 - 886-289116612</td>\n",
       "      <td>83</td>\n",
       "    </tr>\n",
       "  </tbody>\n",
       "</table>\n",
       "</div>"
      ],
      "text/plain": [
       "                   column   dtype  valid  missing  unique  unique_pct  \\\n",
       "0       country_of_origin  object    207        0      22       10.63   \n",
       "1               farm_name  object    205        2     172       83.09   \n",
       "2              lot_number  object    206        1     187       90.34   \n",
       "3                    mill  object    204        3     162       78.26   \n",
       "4              ico_number  object     75      132      67       32.37   \n",
       "5                 company  object    207        0      72       34.78   \n",
       "6                altitude  object    206        1      97       46.86   \n",
       "7                  region  object    205        2     120       57.97   \n",
       "8                producer  object    206        1     172       83.09   \n",
       "9              bag_weight  object    207        0      39       18.84   \n",
       "10     in_country_partner  object    207        0      21       10.14   \n",
       "11           harvest_year  object    207        0       7        3.38   \n",
       "12           grading_date  object    207        0      75       36.23   \n",
       "13                  owner  object    207        0      80       38.65   \n",
       "14                variety  object    201        6      48       23.19   \n",
       "15                 status  object    207        0       1        0.48   \n",
       "16      processing_method  object    202        5      10        4.83   \n",
       "17                  color  object    207        0      12        5.80   \n",
       "18             expiration  object    207        0      75       36.23   \n",
       "19     certification_body  object    207        0      21       10.14   \n",
       "20  certification_address  object    207        0      21       10.14   \n",
       "21  certification_contact  object    207        0      21       10.14   \n",
       "\n",
       "                                                  top  freq  \n",
       "0                                              Taiwan    61  \n",
       "1                        Doi Tung Development Project     7  \n",
       "2                                                   1    11  \n",
       "3                                            Dry Mill    11  \n",
       "4                                                 non     5  \n",
       "5                            Taiwan Coffee Laboratory    51  \n",
       "6                                                1200    23  \n",
       "7                                              Chiayi    12  \n",
       "8                        Doi Tung Development Project     7  \n",
       "9                                               30 kg    39  \n",
       "10                   Taiwan Coffee Laboratory 台灣咖啡研究室    83  \n",
       "11                                        2021 / 2022    99  \n",
       "12                                November 15th, 2022    40  \n",
       "13                   Taiwan Coffee Laboratory 台灣咖啡研究室    30  \n",
       "14                                            Caturra    27  \n",
       "15                                          Completed   207  \n",
       "16                                       Washed / Wet   124  \n",
       "17                                              green   101  \n",
       "18                                November 15th, 2023    40  \n",
       "19                   Taiwan Coffee Laboratory 台灣咖啡研究室    83  \n",
       "20  QAHWAH CO., LTD 4F, No. 225, Sec. 3, Beixin Rd...    83  \n",
       "21               Lin, Jen-An Neil 林仁安 - 886-289116612    83  "
      ]
     },
     "execution_count": 8,
     "metadata": {},
     "output_type": "execute_result"
    }
   ],
   "source": [
    "print(\"Object data:\\n\")\n",
    "object_df"
   ]
  },
  {
   "cell_type": "code",
   "execution_count": 9,
   "metadata": {},
   "outputs": [
    {
     "name": "stdout",
     "output_type": "stream",
     "text": [
      "Data shape after dropping ['unnamed:_0', 'id']: (207, 39) | rows: 207 | columns: 39\n"
     ]
    }
   ],
   "source": [
    "# From `numeric_df` found that ['unnamed:_0', 'id'] are just index columns so I will discard these.\n",
    "df = raw_df.drop(['unnamed:_0', 'id'], axis=1)\n",
    "print(f\"Data shape after dropping ['unnamed:_0', 'id']: {df.shape} | rows: {df.shape[0]} | columns: {df.shape[1]}\")"
   ]
  },
  {
   "cell_type": "markdown",
   "metadata": {},
   "source": [
    "# Data-Quality"
   ]
  },
  {
   "cell_type": "markdown",
   "metadata": {},
   "source": [
    "## Filling-Missing-Values"
   ]
  },
  {
   "cell_type": "code",
   "execution_count": 10,
   "metadata": {},
   "outputs": [
    {
     "data": {
      "text/html": [
       "<div>\n",
       "<style scoped>\n",
       "    .dataframe tbody tr th:only-of-type {\n",
       "        vertical-align: middle;\n",
       "    }\n",
       "\n",
       "    .dataframe tbody tr th {\n",
       "        vertical-align: top;\n",
       "    }\n",
       "\n",
       "    .dataframe thead th {\n",
       "        text-align: right;\n",
       "    }\n",
       "</style>\n",
       "<table border=\"1\" class=\"dataframe\">\n",
       "  <thead>\n",
       "    <tr style=\"text-align: right;\">\n",
       "      <th></th>\n",
       "      <th>column</th>\n",
       "      <th>dtype</th>\n",
       "      <th>valid</th>\n",
       "      <th>missing</th>\n",
       "      <th>unique</th>\n",
       "      <th>unique_pct</th>\n",
       "      <th>top</th>\n",
       "      <th>freq</th>\n",
       "    </tr>\n",
       "  </thead>\n",
       "  <tbody>\n",
       "    <tr>\n",
       "      <th>4</th>\n",
       "      <td>ico_number</td>\n",
       "      <td>object</td>\n",
       "      <td>75</td>\n",
       "      <td>132</td>\n",
       "      <td>67</td>\n",
       "      <td>32.37</td>\n",
       "      <td>non</td>\n",
       "      <td>5</td>\n",
       "    </tr>\n",
       "    <tr>\n",
       "      <th>14</th>\n",
       "      <td>variety</td>\n",
       "      <td>object</td>\n",
       "      <td>201</td>\n",
       "      <td>6</td>\n",
       "      <td>48</td>\n",
       "      <td>23.19</td>\n",
       "      <td>Caturra</td>\n",
       "      <td>27</td>\n",
       "    </tr>\n",
       "    <tr>\n",
       "      <th>16</th>\n",
       "      <td>processing_method</td>\n",
       "      <td>object</td>\n",
       "      <td>202</td>\n",
       "      <td>5</td>\n",
       "      <td>10</td>\n",
       "      <td>4.83</td>\n",
       "      <td>Washed / Wet</td>\n",
       "      <td>124</td>\n",
       "    </tr>\n",
       "    <tr>\n",
       "      <th>3</th>\n",
       "      <td>mill</td>\n",
       "      <td>object</td>\n",
       "      <td>204</td>\n",
       "      <td>3</td>\n",
       "      <td>162</td>\n",
       "      <td>78.26</td>\n",
       "      <td>Dry Mill</td>\n",
       "      <td>11</td>\n",
       "    </tr>\n",
       "    <tr>\n",
       "      <th>1</th>\n",
       "      <td>farm_name</td>\n",
       "      <td>object</td>\n",
       "      <td>205</td>\n",
       "      <td>2</td>\n",
       "      <td>172</td>\n",
       "      <td>83.09</td>\n",
       "      <td>Doi Tung Development Project</td>\n",
       "      <td>7</td>\n",
       "    </tr>\n",
       "    <tr>\n",
       "      <th>7</th>\n",
       "      <td>region</td>\n",
       "      <td>object</td>\n",
       "      <td>205</td>\n",
       "      <td>2</td>\n",
       "      <td>120</td>\n",
       "      <td>57.97</td>\n",
       "      <td>Chiayi</td>\n",
       "      <td>12</td>\n",
       "    </tr>\n",
       "    <tr>\n",
       "      <th>2</th>\n",
       "      <td>lot_number</td>\n",
       "      <td>object</td>\n",
       "      <td>206</td>\n",
       "      <td>1</td>\n",
       "      <td>187</td>\n",
       "      <td>90.34</td>\n",
       "      <td>1</td>\n",
       "      <td>11</td>\n",
       "    </tr>\n",
       "    <tr>\n",
       "      <th>6</th>\n",
       "      <td>altitude</td>\n",
       "      <td>object</td>\n",
       "      <td>206</td>\n",
       "      <td>1</td>\n",
       "      <td>97</td>\n",
       "      <td>46.86</td>\n",
       "      <td>1200</td>\n",
       "      <td>23</td>\n",
       "    </tr>\n",
       "    <tr>\n",
       "      <th>8</th>\n",
       "      <td>producer</td>\n",
       "      <td>object</td>\n",
       "      <td>206</td>\n",
       "      <td>1</td>\n",
       "      <td>172</td>\n",
       "      <td>83.09</td>\n",
       "      <td>Doi Tung Development Project</td>\n",
       "      <td>7</td>\n",
       "    </tr>\n",
       "  </tbody>\n",
       "</table>\n",
       "</div>"
      ],
      "text/plain": [
       "               column   dtype  valid  missing  unique  unique_pct  \\\n",
       "4          ico_number  object     75      132      67       32.37   \n",
       "14            variety  object    201        6      48       23.19   \n",
       "16  processing_method  object    202        5      10        4.83   \n",
       "3                mill  object    204        3     162       78.26   \n",
       "1           farm_name  object    205        2     172       83.09   \n",
       "7              region  object    205        2     120       57.97   \n",
       "2          lot_number  object    206        1     187       90.34   \n",
       "6            altitude  object    206        1      97       46.86   \n",
       "8            producer  object    206        1     172       83.09   \n",
       "\n",
       "                             top  freq  \n",
       "4                            non     5  \n",
       "14                       Caturra    27  \n",
       "16                  Washed / Wet   124  \n",
       "3                       Dry Mill    11  \n",
       "1   Doi Tung Development Project     7  \n",
       "7                         Chiayi    12  \n",
       "2                              1    11  \n",
       "6                           1200    23  \n",
       "8   Doi Tung Development Project     7  "
      ]
     },
     "execution_count": 10,
     "metadata": {},
     "output_type": "execute_result"
    }
   ],
   "source": [
    "# Since numerical data has no missing values, I will focus on object data\n",
    "object_df.query(\"missing > 0\").sort_values(by='missing', ascending=False)"
   ]
  },
  {
   "cell_type": "markdown",
   "metadata": {},
   "source": [
    "### 1. ICO Number"
   ]
  },
  {
   "cell_type": "markdown",
   "metadata": {},
   "source": [
    "To get 'ico_number', the coffee must meet their export quality standards (P16 in the [link](http://www.ico.org/documents/icc-102-9e-rules-certificates-final.pdf)). Instead of discard this column, I decide to transform it to boolean datatype."
   ]
  },
  {
   "cell_type": "code",
   "execution_count": 11,
   "metadata": {},
   "outputs": [
    {
     "data": {
      "text/plain": [
       "ico_number\n",
       "False    0.661836\n",
       "True     0.338164\n",
       "Name: proportion, dtype: float64"
      ]
     },
     "execution_count": 11,
     "metadata": {},
     "output_type": "execute_result"
    }
   ],
   "source": [
    "# From tabe above, top of 'ico_number' is 'non' which is not a valid value. I will replace it with np.nan\n",
    "df['ico_number'] = df['ico_number'].replace('non', np.nan)\n",
    "\n",
    "# Convert 'ico_number' to boolean\n",
    "df['ico_number'] = df['ico_number'].notnull()\n",
    "df['ico_number'].value_counts(normalize=True)"
   ]
  },
  {
   "cell_type": "markdown",
   "metadata": {},
   "source": [
    "### 2. Altitude"
   ]
  },
  {
   "cell_type": "markdown",
   "metadata": {},
   "source": [
    "I decide to consider 'altitude' before variety in case of 'altitude' will be considered to fill missing variety."
   ]
  },
  {
   "cell_type": "code",
   "execution_count": 12,
   "metadata": {},
   "outputs": [
    {
     "name": "stdout",
     "output_type": "stream",
     "text": [
      "Unique Values: ['1700-1930' '1200' '1300' '1900' '1850-2100' '1668' '1250' '1400-1700'\n",
      " '1800-2200' '2000' '1900-2000' '1850' '1100' '1900-2100' '1570-1600'\n",
      " '850' '1500-1700' '1350' '1060' '600' '150-250' '668' '1950'\n",
      " '2150 - 2350' '1700' '650' '1600-1900' '300-500' '1000' '800' '1905'\n",
      " '150' '1600' '4700' '350-400' '230' '1750' '1654' '1400' '4895' '200-300'\n",
      " '700' '1450' '520' '1368' '1943' '400' '1300-1400' '2361' '1500' '2100'\n",
      " '1250-1350' '1500-1600' '1800' '1600-1750' '1411' '4895 A 5650' '400-600'\n",
      " nan '200-400' '1470' '250-400' '250-300' '1200 - 1580' '1400 - 1900'\n",
      " '1280-1325' '300' '750' '1300-1500' '950' '1100-1200' '1390' '340'\n",
      " '1200 - 1300' '1650' '1280' '900' '165' '465' '640' '1340' '139'\n",
      " '1200-1350' '1040' '140' '1500-1950' '460' '500' '800-1200' '1350-1550'\n",
      " '1200~1600' '5400' '900-1000' '1574' '435' '600-800' '1300-1800'\n",
      " '850-1100']\n",
      "Cleaned Unique Values: [1815.  1200.  1300.  1900.  1975.  1668.  1250.  1550.  2000.  1950.\n",
      " 1850.  1100.  1585.   850.  1600.  1350.  1060.   600.   200.   668.\n",
      " 2250.  1700.   650.  1750.   400.  1000.   800.  1905.   150.  4700.\n",
      "  375.   230.  1654.  1400.  4895.   250.   700.  1450.   520.  1368.\n",
      " 1943.  2361.  1500.  2100.  1800.  1675.  1411.  5272.5  500.     nan\n",
      "  300.  1470.   325.   275.  1390.  1650.  1302.5  750.   950.  1150.\n",
      "  340.  1280.   900.   165.   465.   640.  1340.   139.  1275.  1040.\n",
      "  140.  1725.   460.  5400.  1574.   435.   975. ]\n"
     ]
    }
   ],
   "source": [
    "print(\"Unique Values:\", df['altitude'].unique())\n",
    "\n",
    "def clean_altitude(x):\n",
    "    \"\"\"\n",
    "    This function cleans the 'altitude' column\n",
    "    Args:\n",
    "        x: str\n",
    "    Returns:\n",
    "        int\n",
    "    \"\"\"\n",
    "    if pd.isnull(x):\n",
    "        return x\n",
    "    match = re.match(\"(\\d+)-(\\d+)\", x)\n",
    "    if match:\n",
    "        return (int(match.group(1)) + int(match.group(2))) / 2\n",
    "    else:\n",
    "        return int(x)\n",
    "\n",
    "# Clean data  '~', ' - ', ' A ' to '-'\n",
    "df['altitude'] = df['altitude'].str.replace('~', '-').str.replace(' - ', '-').str.replace(' A ', '-')\n",
    "# Convert 'altitude' to numeric if there is range, I will take the average\n",
    "df['altitude'] = df['altitude'].apply(lambda x: clean_altitude(x))\n",
    "print(\"Cleaned Unique Values:\", df['altitude'].unique())"
   ]
  },
  {
   "cell_type": "code",
   "execution_count": 13,
   "metadata": {},
   "outputs": [
    {
     "data": {
      "application/vnd.plotly.v1+json": {
       "config": {
        "plotlyServerURL": "https://plot.ly"
       },
       "data": [
        {
         "hovertemplate": "country_of_origin=%{x}<br>altitude=%{y}<br>total_cup_points=%{marker.color}<extra></extra>",
         "legendgroup": "",
         "marker": {
          "color": {
           "bdata": "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",
           "dtype": "f8"
          },
          "coloraxis": "coloraxis",
          "symbol": "circle"
         },
         "mode": "markers",
         "name": "",
         "orientation": "v",
         "showlegend": false,
         "type": "scatter",
         "x": [
          "Colombia",
          "Taiwan",
          "Laos",
          "Costa Rica",
          "Colombia",
          "Guatemala",
          "Taiwan",
          "Taiwan",
          "Taiwan",
          "Tanzania, United Republic Of",
          "Ethiopia",
          "Guatemala",
          "Taiwan",
          "Ethiopia",
          "Colombia",
          "Taiwan",
          "Ethiopia",
          "Taiwan",
          "Taiwan",
          "Tanzania, United Republic Of",
          "Guatemala",
          "Taiwan",
          "Thailand",
          "Colombia",
          "Taiwan",
          "Brazil",
          "Taiwan",
          "Taiwan",
          "Taiwan",
          "United States (Hawaii)",
          "Taiwan",
          "Taiwan",
          "Taiwan",
          "Ethiopia",
          "Ethiopia",
          "Ethiopia",
          "Taiwan",
          "Taiwan",
          "Kenya",
          "Taiwan",
          "Taiwan",
          "Taiwan",
          "Taiwan",
          "Uganda",
          "Taiwan",
          "Taiwan",
          "Guatemala",
          "Guatemala",
          "Guatemala",
          "Taiwan",
          "Taiwan",
          "Indonesia",
          "Peru",
          "Tanzania, United Republic Of",
          "Taiwan",
          "Taiwan",
          "Brazil",
          "Panama",
          "Taiwan",
          "Guatemala",
          "Guatemala",
          "Costa Rica",
          "Taiwan",
          "Taiwan",
          "Nicaragua",
          "Taiwan",
          "Taiwan",
          "Vietnam",
          "Costa Rica",
          "Taiwan",
          "Honduras",
          "Ethiopia",
          "Taiwan",
          "Taiwan",
          "Guatemala",
          "United States (Hawaii)",
          "Ethiopia",
          "El Salvador",
          "Colombia",
          "Indonesia",
          "Guatemala",
          "Madagascar",
          "Honduras",
          "Guatemala",
          "Taiwan",
          "Taiwan",
          "Guatemala",
          "Guatemala",
          "Honduras",
          "Tanzania, United Republic Of",
          "Ethiopia",
          "Tanzania, United Republic Of",
          "Colombia",
          "Costa Rica",
          "Guatemala",
          "Guatemala",
          "Thailand",
          "Colombia",
          "Guatemala",
          "Guatemala",
          "Ethiopia",
          "Colombia",
          "United States (Hawaii)",
          "Colombia",
          "Mexico",
          "Colombia",
          "Taiwan",
          "Myanmar",
          "Taiwan",
          "Honduras",
          "Taiwan",
          "Taiwan",
          "Guatemala",
          "Honduras",
          "Colombia",
          "Thailand",
          "Ethiopia",
          "Thailand",
          "Uganda",
          "Taiwan",
          "Uganda",
          "Taiwan",
          "Guatemala",
          "Taiwan",
          "Colombia",
          "Costa Rica",
          "Taiwan",
          "Thailand",
          "Tanzania, United Republic Of",
          "Brazil",
          "Taiwan",
          "Colombia",
          "Honduras",
          "Honduras",
          "Taiwan",
          "Taiwan",
          "Laos",
          "Honduras",
          "Honduras",
          "Colombia",
          "Taiwan",
          "Mexico",
          "Colombia",
          "Taiwan",
          "Honduras",
          "Thailand",
          "Vietnam",
          "Nicaragua",
          "Costa Rica",
          "Colombia",
          "Thailand",
          "Thailand",
          "Honduras",
          "Taiwan",
          "Taiwan",
          "Nicaragua",
          "El Salvador",
          "Panama",
          "Brazil",
          "United States (Hawaii)",
          "Mexico",
          "Honduras",
          "Taiwan",
          "Nicaragua",
          "Vietnam",
          "El Salvador",
          "El Salvador",
          "Taiwan",
          "Peru",
          "United States (Hawaii)",
          "Kenya",
          "Honduras",
          "Taiwan",
          "Taiwan",
          "Taiwan",
          "Thailand",
          "Costa Rica",
          "Guatemala",
          "Indonesia",
          "Peru",
          "Guatemala",
          "Taiwan",
          "Vietnam",
          "Brazil",
          "Brazil",
          "Colombia",
          "Mexico",
          "Costa Rica",
          "Taiwan",
          "Taiwan",
          "Thailand",
          "Thailand",
          "Thailand",
          "Colombia",
          "Brazil",
          "El Salvador",
          "Nicaragua",
          "Nicaragua",
          "Colombia",
          "Peru",
          "El Salvador",
          "Brazil",
          "Brazil",
          "Nicaragua",
          "Laos",
          "El Salvador",
          "Brazil"
         ],
         "xaxis": "x",
         "y": {
          "bdata": "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",
          "dtype": "f8"
         },
         "yaxis": "y"
        }
       ],
       "layout": {
        "coloraxis": {
         "colorbar": {
          "title": {
           "text": "total_cup_points"
          }
         },
         "colorscale": [
          [
           0,
           "#0d0887"
          ],
          [
           0.1111111111111111,
           "#46039f"
          ],
          [
           0.2222222222222222,
           "#7201a8"
          ],
          [
           0.3333333333333333,
           "#9c179e"
          ],
          [
           0.4444444444444444,
           "#bd3786"
          ],
          [
           0.5555555555555556,
           "#d8576b"
          ],
          [
           0.6666666666666666,
           "#ed7953"
          ],
          [
           0.7777777777777778,
           "#fb9f3a"
          ],
          [
           0.8888888888888888,
           "#fdca26"
          ],
          [
           1,
           "#f0f921"
          ]
         ]
        },
        "height": 800,
        "legend": {
         "tracegroupgap": 0
        },
        "template": {
         "data": {
          "bar": [
           {
            "error_x": {
             "color": "#2a3f5f"
            },
            "error_y": {
             "color": "#2a3f5f"
            },
            "marker": {
             "line": {
              "color": "#E5ECF6",
              "width": 0.5
             },
             "pattern": {
              "fillmode": "overlay",
              "size": 10,
              "solidity": 0.2
             }
            },
            "type": "bar"
           }
          ],
          "barpolar": [
           {
            "marker": {
             "line": {
              "color": "#E5ECF6",
              "width": 0.5
             },
             "pattern": {
              "fillmode": "overlay",
              "size": 10,
              "solidity": 0.2
             }
            },
            "type": "barpolar"
           }
          ],
          "carpet": [
           {
            "aaxis": {
             "endlinecolor": "#2a3f5f",
             "gridcolor": "white",
             "linecolor": "white",
             "minorgridcolor": "white",
             "startlinecolor": "#2a3f5f"
            },
            "baxis": {
             "endlinecolor": "#2a3f5f",
             "gridcolor": "white",
             "linecolor": "white",
             "minorgridcolor": "white",
             "startlinecolor": "#2a3f5f"
            },
            "type": "carpet"
           }
          ],
          "choropleth": [
           {
            "colorbar": {
             "outlinewidth": 0,
             "ticks": ""
            },
            "type": "choropleth"
           }
          ],
          "contour": [
           {
            "colorbar": {
             "outlinewidth": 0,
             "ticks": ""
            },
            "colorscale": [
             [
              0,
              "#0d0887"
             ],
             [
              0.1111111111111111,
              "#46039f"
             ],
             [
              0.2222222222222222,
              "#7201a8"
             ],
             [
              0.3333333333333333,
              "#9c179e"
             ],
             [
              0.4444444444444444,
              "#bd3786"
             ],
             [
              0.5555555555555556,
              "#d8576b"
             ],
             [
              0.6666666666666666,
              "#ed7953"
             ],
             [
              0.7777777777777778,
              "#fb9f3a"
             ],
             [
              0.8888888888888888,
              "#fdca26"
             ],
             [
              1,
              "#f0f921"
             ]
            ],
            "type": "contour"
           }
          ],
          "contourcarpet": [
           {
            "colorbar": {
             "outlinewidth": 0,
             "ticks": ""
            },
            "type": "contourcarpet"
           }
          ],
          "heatmap": [
           {
            "colorbar": {
             "outlinewidth": 0,
             "ticks": ""
            },
            "colorscale": [
             [
              0,
              "#0d0887"
             ],
             [
              0.1111111111111111,
              "#46039f"
             ],
             [
              0.2222222222222222,
              "#7201a8"
             ],
             [
              0.3333333333333333,
              "#9c179e"
             ],
             [
              0.4444444444444444,
              "#bd3786"
             ],
             [
              0.5555555555555556,
              "#d8576b"
             ],
             [
              0.6666666666666666,
              "#ed7953"
             ],
             [
              0.7777777777777778,
              "#fb9f3a"
             ],
             [
              0.8888888888888888,
              "#fdca26"
             ],
             [
              1,
              "#f0f921"
             ]
            ],
            "type": "heatmap"
           }
          ],
          "histogram": [
           {
            "marker": {
             "pattern": {
              "fillmode": "overlay",
              "size": 10,
              "solidity": 0.2
             }
            },
            "type": "histogram"
           }
          ],
          "histogram2d": [
           {
            "colorbar": {
             "outlinewidth": 0,
             "ticks": ""
            },
            "colorscale": [
             [
              0,
              "#0d0887"
             ],
             [
              0.1111111111111111,
              "#46039f"
             ],
             [
              0.2222222222222222,
              "#7201a8"
             ],
             [
              0.3333333333333333,
              "#9c179e"
             ],
             [
              0.4444444444444444,
              "#bd3786"
             ],
             [
              0.5555555555555556,
              "#d8576b"
             ],
             [
              0.6666666666666666,
              "#ed7953"
             ],
             [
              0.7777777777777778,
              "#fb9f3a"
             ],
             [
              0.8888888888888888,
              "#fdca26"
             ],
             [
              1,
              "#f0f921"
             ]
            ],
            "type": "histogram2d"
           }
          ],
          "histogram2dcontour": [
           {
            "colorbar": {
             "outlinewidth": 0,
             "ticks": ""
            },
            "colorscale": [
             [
              0,
              "#0d0887"
             ],
             [
              0.1111111111111111,
              "#46039f"
             ],
             [
              0.2222222222222222,
              "#7201a8"
             ],
             [
              0.3333333333333333,
              "#9c179e"
             ],
             [
              0.4444444444444444,
              "#bd3786"
             ],
             [
              0.5555555555555556,
              "#d8576b"
             ],
             [
              0.6666666666666666,
              "#ed7953"
             ],
             [
              0.7777777777777778,
              "#fb9f3a"
             ],
             [
              0.8888888888888888,
              "#fdca26"
             ],
             [
              1,
              "#f0f921"
             ]
            ],
            "type": "histogram2dcontour"
           }
          ],
          "mesh3d": [
           {
            "colorbar": {
             "outlinewidth": 0,
             "ticks": ""
            },
            "type": "mesh3d"
           }
          ],
          "parcoords": [
           {
            "line": {
             "colorbar": {
              "outlinewidth": 0,
              "ticks": ""
             }
            },
            "type": "parcoords"
           }
          ],
          "pie": [
           {
            "automargin": true,
            "type": "pie"
           }
          ],
          "scatter": [
           {
            "fillpattern": {
             "fillmode": "overlay",
             "size": 10,
             "solidity": 0.2
            },
            "type": "scatter"
           }
          ],
          "scatter3d": [
           {
            "line": {
             "colorbar": {
              "outlinewidth": 0,
              "ticks": ""
             }
            },
            "marker": {
             "colorbar": {
              "outlinewidth": 0,
              "ticks": ""
             }
            },
            "type": "scatter3d"
           }
          ],
          "scattercarpet": [
           {
            "marker": {
             "colorbar": {
              "outlinewidth": 0,
              "ticks": ""
             }
            },
            "type": "scattercarpet"
           }
          ],
          "scattergeo": [
           {
            "marker": {
             "colorbar": {
              "outlinewidth": 0,
              "ticks": ""
             }
            },
            "type": "scattergeo"
           }
          ],
          "scattergl": [
           {
            "marker": {
             "colorbar": {
              "outlinewidth": 0,
              "ticks": ""
             }
            },
            "type": "scattergl"
           }
          ],
          "scattermap": [
           {
            "marker": {
             "colorbar": {
              "outlinewidth": 0,
              "ticks": ""
             }
            },
            "type": "scattermap"
           }
          ],
          "scattermapbox": [
           {
            "marker": {
             "colorbar": {
              "outlinewidth": 0,
              "ticks": ""
             }
            },
            "type": "scattermapbox"
           }
          ],
          "scatterpolar": [
           {
            "marker": {
             "colorbar": {
              "outlinewidth": 0,
              "ticks": ""
             }
            },
            "type": "scatterpolar"
           }
          ],
          "scatterpolargl": [
           {
            "marker": {
             "colorbar": {
              "outlinewidth": 0,
              "ticks": ""
             }
            },
            "type": "scatterpolargl"
           }
          ],
          "scatterternary": [
           {
            "marker": {
             "colorbar": {
              "outlinewidth": 0,
              "ticks": ""
             }
            },
            "type": "scatterternary"
           }
          ],
          "surface": [
           {
            "colorbar": {
             "outlinewidth": 0,
             "ticks": ""
            },
            "colorscale": [
             [
              0,
              "#0d0887"
             ],
             [
              0.1111111111111111,
              "#46039f"
             ],
             [
              0.2222222222222222,
              "#7201a8"
             ],
             [
              0.3333333333333333,
              "#9c179e"
             ],
             [
              0.4444444444444444,
              "#bd3786"
             ],
             [
              0.5555555555555556,
              "#d8576b"
             ],
             [
              0.6666666666666666,
              "#ed7953"
             ],
             [
              0.7777777777777778,
              "#fb9f3a"
             ],
             [
              0.8888888888888888,
              "#fdca26"
             ],
             [
              1,
              "#f0f921"
             ]
            ],
            "type": "surface"
           }
          ],
          "table": [
           {
            "cells": {
             "fill": {
              "color": "#EBF0F8"
             },
             "line": {
              "color": "white"
             }
            },
            "header": {
             "fill": {
              "color": "#C8D4E3"
             },
             "line": {
              "color": "white"
             }
            },
            "type": "table"
           }
          ]
         },
         "layout": {
          "annotationdefaults": {
           "arrowcolor": "#2a3f5f",
           "arrowhead": 0,
           "arrowwidth": 1
          },
          "autotypenumbers": "strict",
          "coloraxis": {
           "colorbar": {
            "outlinewidth": 0,
            "ticks": ""
           }
          },
          "colorscale": {
           "diverging": [
            [
             0,
             "#8e0152"
            ],
            [
             0.1,
             "#c51b7d"
            ],
            [
             0.2,
             "#de77ae"
            ],
            [
             0.3,
             "#f1b6da"
            ],
            [
             0.4,
             "#fde0ef"
            ],
            [
             0.5,
             "#f7f7f7"
            ],
            [
             0.6,
             "#e6f5d0"
            ],
            [
             0.7,
             "#b8e186"
            ],
            [
             0.8,
             "#7fbc41"
            ],
            [
             0.9,
             "#4d9221"
            ],
            [
             1,
             "#276419"
            ]
           ],
           "sequential": [
            [
             0,
             "#0d0887"
            ],
            [
             0.1111111111111111,
             "#46039f"
            ],
            [
             0.2222222222222222,
             "#7201a8"
            ],
            [
             0.3333333333333333,
             "#9c179e"
            ],
            [
             0.4444444444444444,
             "#bd3786"
            ],
            [
             0.5555555555555556,
             "#d8576b"
            ],
            [
             0.6666666666666666,
             "#ed7953"
            ],
            [
             0.7777777777777778,
             "#fb9f3a"
            ],
            [
             0.8888888888888888,
             "#fdca26"
            ],
            [
             1,
             "#f0f921"
            ]
           ],
           "sequentialminus": [
            [
             0,
             "#0d0887"
            ],
            [
             0.1111111111111111,
             "#46039f"
            ],
            [
             0.2222222222222222,
             "#7201a8"
            ],
            [
             0.3333333333333333,
             "#9c179e"
            ],
            [
             0.4444444444444444,
             "#bd3786"
            ],
            [
             0.5555555555555556,
             "#d8576b"
            ],
            [
             0.6666666666666666,
             "#ed7953"
            ],
            [
             0.7777777777777778,
             "#fb9f3a"
            ],
            [
             0.8888888888888888,
             "#fdca26"
            ],
            [
             1,
             "#f0f921"
            ]
           ]
          },
          "colorway": [
           "#636efa",
           "#EF553B",
           "#00cc96",
           "#ab63fa",
           "#FFA15A",
           "#19d3f3",
           "#FF6692",
           "#B6E880",
           "#FF97FF",
           "#FECB52"
          ],
          "font": {
           "color": "#2a3f5f"
          },
          "geo": {
           "bgcolor": "white",
           "lakecolor": "white",
           "landcolor": "#E5ECF6",
           "showlakes": true,
           "showland": true,
           "subunitcolor": "white"
          },
          "hoverlabel": {
           "align": "left"
          },
          "hovermode": "closest",
          "mapbox": {
           "style": "light"
          },
          "paper_bgcolor": "white",
          "plot_bgcolor": "#E5ECF6",
          "polar": {
           "angularaxis": {
            "gridcolor": "white",
            "linecolor": "white",
            "ticks": ""
           },
           "bgcolor": "#E5ECF6",
           "radialaxis": {
            "gridcolor": "white",
            "linecolor": "white",
            "ticks": ""
           }
          },
          "scene": {
           "xaxis": {
            "backgroundcolor": "#E5ECF6",
            "gridcolor": "white",
            "gridwidth": 2,
            "linecolor": "white",
            "showbackground": true,
            "ticks": "",
            "zerolinecolor": "white"
           },
           "yaxis": {
            "backgroundcolor": "#E5ECF6",
            "gridcolor": "white",
            "gridwidth": 2,
            "linecolor": "white",
            "showbackground": true,
            "ticks": "",
            "zerolinecolor": "white"
           },
           "zaxis": {
            "backgroundcolor": "#E5ECF6",
            "gridcolor": "white",
            "gridwidth": 2,
            "linecolor": "white",
            "showbackground": true,
            "ticks": "",
            "zerolinecolor": "white"
           }
          },
          "shapedefaults": {
           "line": {
            "color": "#2a3f5f"
           }
          },
          "ternary": {
           "aaxis": {
            "gridcolor": "white",
            "linecolor": "white",
            "ticks": ""
           },
           "baxis": {
            "gridcolor": "white",
            "linecolor": "white",
            "ticks": ""
           },
           "bgcolor": "#E5ECF6",
           "caxis": {
            "gridcolor": "white",
            "linecolor": "white",
            "ticks": ""
           }
          },
          "title": {
           "x": 0.05
          },
          "xaxis": {
           "automargin": true,
           "gridcolor": "white",
           "linecolor": "white",
           "ticks": "",
           "title": {
            "standoff": 15
           },
           "zerolinecolor": "white",
           "zerolinewidth": 2
          },
          "yaxis": {
           "automargin": true,
           "gridcolor": "white",
           "linecolor": "white",
           "ticks": "",
           "title": {
            "standoff": 15
           },
           "zerolinecolor": "white",
           "zerolinewidth": 2
          }
         }
        },
        "title": {
         "text": "Total cup points vs Country of Origin vs Altitude"
        },
        "width": 800,
        "xaxis": {
         "anchor": "y",
         "categoryorder": "total ascending",
         "domain": [
          0,
          1
         ],
         "title": {
          "text": "country_of_origin"
         }
        },
        "yaxis": {
         "anchor": "x",
         "domain": [
          0,
          1
         ],
         "title": {
          "text": "altitude"
         }
        }
       }
      }
     },
     "metadata": {},
     "output_type": "display_data"
    }
   ],
   "source": [
    "# plot relationship between 'total_cup_points' 'country_of_origin' and 'altitude'\n",
    "fig = px.scatter(df, x='country_of_origin', y='altitude', color='total_cup_points', title='Total cup points vs Country of Origin vs Altitude')\n",
    "fig.update_layout(width=800, height=800, xaxis={'categoryorder':'total ascending'})\n",
    "fig.show()"
   ]
  },
  {
   "cell_type": "code",
   "execution_count": 14,
   "metadata": {},
   "outputs": [
    {
     "data": {
      "application/vnd.plotly.v1+json": {
       "config": {
        "plotlyServerURL": "https://plot.ly"
       },
       "data": [
        {
         "alignmentgroup": "True",
         "hovertemplate": "country_of_origin=%{x}<br>altitude=%{y}<extra></extra>",
         "legendgroup": "",
         "marker": {
          "color": "#636efa"
         },
         "name": "",
         "notched": false,
         "offsetgroup": "",
         "orientation": "v",
         "showlegend": false,
         "type": "box",
         "x": [
          "Colombia",
          "Taiwan",
          "Laos",
          "Costa Rica",
          "Colombia",
          "Guatemala",
          "Taiwan",
          "Taiwan",
          "Taiwan",
          "Tanzania, United Republic Of",
          "Ethiopia",
          "Guatemala",
          "Taiwan",
          "Ethiopia",
          "Colombia",
          "Taiwan",
          "Ethiopia",
          "Taiwan",
          "Taiwan",
          "Tanzania, United Republic Of",
          "Guatemala",
          "Taiwan",
          "Thailand",
          "Colombia",
          "Taiwan",
          "Brazil",
          "Taiwan",
          "Taiwan",
          "Taiwan",
          "United States (Hawaii)",
          "Taiwan",
          "Taiwan",
          "Taiwan",
          "Ethiopia",
          "Ethiopia",
          "Ethiopia",
          "Taiwan",
          "Taiwan",
          "Kenya",
          "Taiwan",
          "Taiwan",
          "Taiwan",
          "Taiwan",
          "Uganda",
          "Taiwan",
          "Taiwan",
          "Guatemala",
          "Guatemala",
          "Guatemala",
          "Taiwan",
          "Taiwan",
          "Indonesia",
          "Peru",
          "Tanzania, United Republic Of",
          "Taiwan",
          "Taiwan",
          "Brazil",
          "Panama",
          "Taiwan",
          "Guatemala",
          "Guatemala",
          "Costa Rica",
          "Taiwan",
          "Taiwan",
          "Nicaragua",
          "Taiwan",
          "Taiwan",
          "Vietnam",
          "Costa Rica",
          "Taiwan",
          "Honduras",
          "Ethiopia",
          "Taiwan",
          "Taiwan",
          "Guatemala",
          "United States (Hawaii)",
          "Ethiopia",
          "El Salvador",
          "Colombia",
          "Indonesia",
          "Guatemala",
          "Madagascar",
          "Honduras",
          "Guatemala",
          "Taiwan",
          "Taiwan",
          "Guatemala",
          "Guatemala",
          "Honduras",
          "Tanzania, United Republic Of",
          "Ethiopia",
          "Tanzania, United Republic Of",
          "Colombia",
          "Costa Rica",
          "Guatemala",
          "Guatemala",
          "Thailand",
          "Colombia",
          "Guatemala",
          "Guatemala",
          "Ethiopia",
          "Colombia",
          "United States (Hawaii)",
          "Colombia",
          "Mexico",
          "Colombia",
          "Taiwan",
          "Myanmar",
          "Taiwan",
          "Honduras",
          "Taiwan",
          "Taiwan",
          "Guatemala",
          "Honduras",
          "Colombia",
          "Thailand",
          "Ethiopia",
          "Thailand",
          "Uganda",
          "Taiwan",
          "Uganda",
          "Taiwan",
          "Guatemala",
          "Taiwan",
          "Colombia",
          "Costa Rica",
          "Taiwan",
          "Thailand",
          "Tanzania, United Republic Of",
          "Brazil",
          "Taiwan",
          "Colombia",
          "Honduras",
          "Honduras",
          "Taiwan",
          "Taiwan",
          "Laos",
          "Honduras",
          "Honduras",
          "Colombia",
          "Taiwan",
          "Mexico",
          "Colombia",
          "Taiwan",
          "Honduras",
          "Thailand",
          "Vietnam",
          "Nicaragua",
          "Costa Rica",
          "Colombia",
          "Thailand",
          "Thailand",
          "Honduras",
          "Taiwan",
          "Taiwan",
          "Nicaragua",
          "El Salvador",
          "Panama",
          "Brazil",
          "United States (Hawaii)",
          "Mexico",
          "Honduras",
          "Taiwan",
          "Nicaragua",
          "Vietnam",
          "El Salvador",
          "El Salvador",
          "Taiwan",
          "Peru",
          "United States (Hawaii)",
          "Kenya",
          "Honduras",
          "Taiwan",
          "Taiwan",
          "Taiwan",
          "Thailand",
          "Costa Rica",
          "Guatemala",
          "Indonesia",
          "Peru",
          "Guatemala",
          "Taiwan",
          "Vietnam",
          "Brazil",
          "Brazil",
          "Colombia",
          "Mexico",
          "Costa Rica",
          "Taiwan",
          "Taiwan",
          "Thailand",
          "Thailand",
          "Thailand",
          "Colombia",
          "Brazil",
          "El Salvador",
          "Nicaragua",
          "Nicaragua",
          "Colombia",
          "Peru",
          "El Salvador",
          "Brazil",
          "Brazil",
          "Nicaragua",
          "Laos",
          "El Salvador",
          "Brazil"
         ],
         "x0": " ",
         "xaxis": "x",
         "y": {
          "bdata": "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",
          "dtype": "f8"
         },
         "y0": " ",
         "yaxis": "y"
        }
       ],
       "layout": {
        "boxmode": "group",
        "height": 800,
        "legend": {
         "tracegroupgap": 0
        },
        "template": {
         "data": {
          "bar": [
           {
            "error_x": {
             "color": "#2a3f5f"
            },
            "error_y": {
             "color": "#2a3f5f"
            },
            "marker": {
             "line": {
              "color": "#E5ECF6",
              "width": 0.5
             },
             "pattern": {
              "fillmode": "overlay",
              "size": 10,
              "solidity": 0.2
             }
            },
            "type": "bar"
           }
          ],
          "barpolar": [
           {
            "marker": {
             "line": {
              "color": "#E5ECF6",
              "width": 0.5
             },
             "pattern": {
              "fillmode": "overlay",
              "size": 10,
              "solidity": 0.2
             }
            },
            "type": "barpolar"
           }
          ],
          "carpet": [
           {
            "aaxis": {
             "endlinecolor": "#2a3f5f",
             "gridcolor": "white",
             "linecolor": "white",
             "minorgridcolor": "white",
             "startlinecolor": "#2a3f5f"
            },
            "baxis": {
             "endlinecolor": "#2a3f5f",
             "gridcolor": "white",
             "linecolor": "white",
             "minorgridcolor": "white",
             "startlinecolor": "#2a3f5f"
            },
            "type": "carpet"
           }
          ],
          "choropleth": [
           {
            "colorbar": {
             "outlinewidth": 0,
             "ticks": ""
            },
            "type": "choropleth"
           }
          ],
          "contour": [
           {
            "colorbar": {
             "outlinewidth": 0,
             "ticks": ""
            },
            "colorscale": [
             [
              0,
              "#0d0887"
             ],
             [
              0.1111111111111111,
              "#46039f"
             ],
             [
              0.2222222222222222,
              "#7201a8"
             ],
             [
              0.3333333333333333,
              "#9c179e"
             ],
             [
              0.4444444444444444,
              "#bd3786"
             ],
             [
              0.5555555555555556,
              "#d8576b"
             ],
             [
              0.6666666666666666,
              "#ed7953"
             ],
             [
              0.7777777777777778,
              "#fb9f3a"
             ],
             [
              0.8888888888888888,
              "#fdca26"
             ],
             [
              1,
              "#f0f921"
             ]
            ],
            "type": "contour"
           }
          ],
          "contourcarpet": [
           {
            "colorbar": {
             "outlinewidth": 0,
             "ticks": ""
            },
            "type": "contourcarpet"
           }
          ],
          "heatmap": [
           {
            "colorbar": {
             "outlinewidth": 0,
             "ticks": ""
            },
            "colorscale": [
             [
              0,
              "#0d0887"
             ],
             [
              0.1111111111111111,
              "#46039f"
             ],
             [
              0.2222222222222222,
              "#7201a8"
             ],
             [
              0.3333333333333333,
              "#9c179e"
             ],
             [
              0.4444444444444444,
              "#bd3786"
             ],
             [
              0.5555555555555556,
              "#d8576b"
             ],
             [
              0.6666666666666666,
              "#ed7953"
             ],
             [
              0.7777777777777778,
              "#fb9f3a"
             ],
             [
              0.8888888888888888,
              "#fdca26"
             ],
             [
              1,
              "#f0f921"
             ]
            ],
            "type": "heatmap"
           }
          ],
          "histogram": [
           {
            "marker": {
             "pattern": {
              "fillmode": "overlay",
              "size": 10,
              "solidity": 0.2
             }
            },
            "type": "histogram"
           }
          ],
          "histogram2d": [
           {
            "colorbar": {
             "outlinewidth": 0,
             "ticks": ""
            },
            "colorscale": [
             [
              0,
              "#0d0887"
             ],
             [
              0.1111111111111111,
              "#46039f"
             ],
             [
              0.2222222222222222,
              "#7201a8"
             ],
             [
              0.3333333333333333,
              "#9c179e"
             ],
             [
              0.4444444444444444,
              "#bd3786"
             ],
             [
              0.5555555555555556,
              "#d8576b"
             ],
             [
              0.6666666666666666,
              "#ed7953"
             ],
             [
              0.7777777777777778,
              "#fb9f3a"
             ],
             [
              0.8888888888888888,
              "#fdca26"
             ],
             [
              1,
              "#f0f921"
             ]
            ],
            "type": "histogram2d"
           }
          ],
          "histogram2dcontour": [
           {
            "colorbar": {
             "outlinewidth": 0,
             "ticks": ""
            },
            "colorscale": [
             [
              0,
              "#0d0887"
             ],
             [
              0.1111111111111111,
              "#46039f"
             ],
             [
              0.2222222222222222,
              "#7201a8"
             ],
             [
              0.3333333333333333,
              "#9c179e"
             ],
             [
              0.4444444444444444,
              "#bd3786"
             ],
             [
              0.5555555555555556,
              "#d8576b"
             ],
             [
              0.6666666666666666,
              "#ed7953"
             ],
             [
              0.7777777777777778,
              "#fb9f3a"
             ],
             [
              0.8888888888888888,
              "#fdca26"
             ],
             [
              1,
              "#f0f921"
             ]
            ],
            "type": "histogram2dcontour"
           }
          ],
          "mesh3d": [
           {
            "colorbar": {
             "outlinewidth": 0,
             "ticks": ""
            },
            "type": "mesh3d"
           }
          ],
          "parcoords": [
           {
            "line": {
             "colorbar": {
              "outlinewidth": 0,
              "ticks": ""
             }
            },
            "type": "parcoords"
           }
          ],
          "pie": [
           {
            "automargin": true,
            "type": "pie"
           }
          ],
          "scatter": [
           {
            "fillpattern": {
             "fillmode": "overlay",
             "size": 10,
             "solidity": 0.2
            },
            "type": "scatter"
           }
          ],
          "scatter3d": [
           {
            "line": {
             "colorbar": {
              "outlinewidth": 0,
              "ticks": ""
             }
            },
            "marker": {
             "colorbar": {
              "outlinewidth": 0,
              "ticks": ""
             }
            },
            "type": "scatter3d"
           }
          ],
          "scattercarpet": [
           {
            "marker": {
             "colorbar": {
              "outlinewidth": 0,
              "ticks": ""
             }
            },
            "type": "scattercarpet"
           }
          ],
          "scattergeo": [
           {
            "marker": {
             "colorbar": {
              "outlinewidth": 0,
              "ticks": ""
             }
            },
            "type": "scattergeo"
           }
          ],
          "scattergl": [
           {
            "marker": {
             "colorbar": {
              "outlinewidth": 0,
              "ticks": ""
             }
            },
            "type": "scattergl"
           }
          ],
          "scattermap": [
           {
            "marker": {
             "colorbar": {
              "outlinewidth": 0,
              "ticks": ""
             }
            },
            "type": "scattermap"
           }
          ],
          "scattermapbox": [
           {
            "marker": {
             "colorbar": {
              "outlinewidth": 0,
              "ticks": ""
             }
            },
            "type": "scattermapbox"
           }
          ],
          "scatterpolar": [
           {
            "marker": {
             "colorbar": {
              "outlinewidth": 0,
              "ticks": ""
             }
            },
            "type": "scatterpolar"
           }
          ],
          "scatterpolargl": [
           {
            "marker": {
             "colorbar": {
              "outlinewidth": 0,
              "ticks": ""
             }
            },
            "type": "scatterpolargl"
           }
          ],
          "scatterternary": [
           {
            "marker": {
             "colorbar": {
              "outlinewidth": 0,
              "ticks": ""
             }
            },
            "type": "scatterternary"
           }
          ],
          "surface": [
           {
            "colorbar": {
             "outlinewidth": 0,
             "ticks": ""
            },
            "colorscale": [
             [
              0,
              "#0d0887"
             ],
             [
              0.1111111111111111,
              "#46039f"
             ],
             [
              0.2222222222222222,
              "#7201a8"
             ],
             [
              0.3333333333333333,
              "#9c179e"
             ],
             [
              0.4444444444444444,
              "#bd3786"
             ],
             [
              0.5555555555555556,
              "#d8576b"
             ],
             [
              0.6666666666666666,
              "#ed7953"
             ],
             [
              0.7777777777777778,
              "#fb9f3a"
             ],
             [
              0.8888888888888888,
              "#fdca26"
             ],
             [
              1,
              "#f0f921"
             ]
            ],
            "type": "surface"
           }
          ],
          "table": [
           {
            "cells": {
             "fill": {
              "color": "#EBF0F8"
             },
             "line": {
              "color": "white"
             }
            },
            "header": {
             "fill": {
              "color": "#C8D4E3"
             },
             "line": {
              "color": "white"
             }
            },
            "type": "table"
           }
          ]
         },
         "layout": {
          "annotationdefaults": {
           "arrowcolor": "#2a3f5f",
           "arrowhead": 0,
           "arrowwidth": 1
          },
          "autotypenumbers": "strict",
          "coloraxis": {
           "colorbar": {
            "outlinewidth": 0,
            "ticks": ""
           }
          },
          "colorscale": {
           "diverging": [
            [
             0,
             "#8e0152"
            ],
            [
             0.1,
             "#c51b7d"
            ],
            [
             0.2,
             "#de77ae"
            ],
            [
             0.3,
             "#f1b6da"
            ],
            [
             0.4,
             "#fde0ef"
            ],
            [
             0.5,
             "#f7f7f7"
            ],
            [
             0.6,
             "#e6f5d0"
            ],
            [
             0.7,
             "#b8e186"
            ],
            [
             0.8,
             "#7fbc41"
            ],
            [
             0.9,
             "#4d9221"
            ],
            [
             1,
             "#276419"
            ]
           ],
           "sequential": [
            [
             0,
             "#0d0887"
            ],
            [
             0.1111111111111111,
             "#46039f"
            ],
            [
             0.2222222222222222,
             "#7201a8"
            ],
            [
             0.3333333333333333,
             "#9c179e"
            ],
            [
             0.4444444444444444,
             "#bd3786"
            ],
            [
             0.5555555555555556,
             "#d8576b"
            ],
            [
             0.6666666666666666,
             "#ed7953"
            ],
            [
             0.7777777777777778,
             "#fb9f3a"
            ],
            [
             0.8888888888888888,
             "#fdca26"
            ],
            [
             1,
             "#f0f921"
            ]
           ],
           "sequentialminus": [
            [
             0,
             "#0d0887"
            ],
            [
             0.1111111111111111,
             "#46039f"
            ],
            [
             0.2222222222222222,
             "#7201a8"
            ],
            [
             0.3333333333333333,
             "#9c179e"
            ],
            [
             0.4444444444444444,
             "#bd3786"
            ],
            [
             0.5555555555555556,
             "#d8576b"
            ],
            [
             0.6666666666666666,
             "#ed7953"
            ],
            [
             0.7777777777777778,
             "#fb9f3a"
            ],
            [
             0.8888888888888888,
             "#fdca26"
            ],
            [
             1,
             "#f0f921"
            ]
           ]
          },
          "colorway": [
           "#636efa",
           "#EF553B",
           "#00cc96",
           "#ab63fa",
           "#FFA15A",
           "#19d3f3",
           "#FF6692",
           "#B6E880",
           "#FF97FF",
           "#FECB52"
          ],
          "font": {
           "color": "#2a3f5f"
          },
          "geo": {
           "bgcolor": "white",
           "lakecolor": "white",
           "landcolor": "#E5ECF6",
           "showlakes": true,
           "showland": true,
           "subunitcolor": "white"
          },
          "hoverlabel": {
           "align": "left"
          },
          "hovermode": "closest",
          "mapbox": {
           "style": "light"
          },
          "paper_bgcolor": "white",
          "plot_bgcolor": "#E5ECF6",
          "polar": {
           "angularaxis": {
            "gridcolor": "white",
            "linecolor": "white",
            "ticks": ""
           },
           "bgcolor": "#E5ECF6",
           "radialaxis": {
            "gridcolor": "white",
            "linecolor": "white",
            "ticks": ""
           }
          },
          "scene": {
           "xaxis": {
            "backgroundcolor": "#E5ECF6",
            "gridcolor": "white",
            "gridwidth": 2,
            "linecolor": "white",
            "showbackground": true,
            "ticks": "",
            "zerolinecolor": "white"
           },
           "yaxis": {
            "backgroundcolor": "#E5ECF6",
            "gridcolor": "white",
            "gridwidth": 2,
            "linecolor": "white",
            "showbackground": true,
            "ticks": "",
            "zerolinecolor": "white"
           },
           "zaxis": {
            "backgroundcolor": "#E5ECF6",
            "gridcolor": "white",
            "gridwidth": 2,
            "linecolor": "white",
            "showbackground": true,
            "ticks": "",
            "zerolinecolor": "white"
           }
          },
          "shapedefaults": {
           "line": {
            "color": "#2a3f5f"
           }
          },
          "ternary": {
           "aaxis": {
            "gridcolor": "white",
            "linecolor": "white",
            "ticks": ""
           },
           "baxis": {
            "gridcolor": "white",
            "linecolor": "white",
            "ticks": ""
           },
           "bgcolor": "#E5ECF6",
           "caxis": {
            "gridcolor": "white",
            "linecolor": "white",
            "ticks": ""
           }
          },
          "title": {
           "x": 0.05
          },
          "xaxis": {
           "automargin": true,
           "gridcolor": "white",
           "linecolor": "white",
           "ticks": "",
           "title": {
            "standoff": 15
           },
           "zerolinecolor": "white",
           "zerolinewidth": 2
          },
          "yaxis": {
           "automargin": true,
           "gridcolor": "white",
           "linecolor": "white",
           "ticks": "",
           "title": {
            "standoff": 15
           },
           "zerolinecolor": "white",
           "zerolinewidth": 2
          }
         }
        },
        "title": {
         "text": "Country of Origin vs Altitude"
        },
        "width": 800,
        "xaxis": {
         "anchor": "y",
         "categoryorder": "total ascending",
         "domain": [
          0,
          1
         ],
         "title": {
          "text": "country_of_origin"
         }
        },
        "yaxis": {
         "anchor": "x",
         "domain": [
          0,
          1
         ],
         "title": {
          "text": "altitude"
         }
        }
       }
      }
     },
     "metadata": {},
     "output_type": "display_data"
    }
   ],
   "source": [
    "# boxplot of 'country_of_origin' vs 'altitude'\n",
    "fig = px.box(df, x='country_of_origin', y='altitude', title='Country of Origin vs Altitude')\n",
    "fig.update_layout(width=800, height=800, xaxis={'categoryorder':'total ascending'})\n",
    "fig.show()"
   ]
  },
  {
   "cell_type": "code",
   "execution_count": 15,
   "metadata": {},
   "outputs": [
    {
     "data": {
      "text/html": [
       "<div>\n",
       "<style scoped>\n",
       "    .dataframe tbody tr th:only-of-type {\n",
       "        vertical-align: middle;\n",
       "    }\n",
       "\n",
       "    .dataframe tbody tr th {\n",
       "        vertical-align: top;\n",
       "    }\n",
       "\n",
       "    .dataframe thead th {\n",
       "        text-align: right;\n",
       "    }\n",
       "</style>\n",
       "<table border=\"1\" class=\"dataframe\">\n",
       "  <thead>\n",
       "    <tr style=\"text-align: right;\">\n",
       "      <th></th>\n",
       "      <th>country_of_origin</th>\n",
       "      <th>farm_name</th>\n",
       "      <th>lot_number</th>\n",
       "      <th>mill</th>\n",
       "      <th>ico_number</th>\n",
       "      <th>company</th>\n",
       "      <th>altitude</th>\n",
       "      <th>region</th>\n",
       "      <th>producer</th>\n",
       "      <th>number_of_bags</th>\n",
       "      <th>bag_weight</th>\n",
       "      <th>in_country_partner</th>\n",
       "      <th>harvest_year</th>\n",
       "      <th>grading_date</th>\n",
       "      <th>owner</th>\n",
       "      <th>variety</th>\n",
       "      <th>status</th>\n",
       "      <th>processing_method</th>\n",
       "      <th>aroma</th>\n",
       "      <th>flavor</th>\n",
       "      <th>aftertaste</th>\n",
       "      <th>acidity</th>\n",
       "      <th>body</th>\n",
       "      <th>balance</th>\n",
       "      <th>uniformity</th>\n",
       "      <th>clean_cup</th>\n",
       "      <th>sweetness</th>\n",
       "      <th>overall</th>\n",
       "      <th>defects</th>\n",
       "      <th>total_cup_points</th>\n",
       "      <th>moisture_percentage</th>\n",
       "      <th>category_one_defects</th>\n",
       "      <th>quakers</th>\n",
       "      <th>color</th>\n",
       "      <th>category_two_defects</th>\n",
       "      <th>expiration</th>\n",
       "      <th>certification_body</th>\n",
       "      <th>certification_address</th>\n",
       "      <th>certification_contact</th>\n",
       "    </tr>\n",
       "  </thead>\n",
       "  <tbody>\n",
       "    <tr>\n",
       "      <th>105</th>\n",
       "      <td>Colombia</td>\n",
       "      <td>NaN</td>\n",
       "      <td>NaN</td>\n",
       "      <td>NaN</td>\n",
       "      <td>False</td>\n",
       "      <td>Coffee Quality Institute</td>\n",
       "      <td>NaN</td>\n",
       "      <td>NaN</td>\n",
       "      <td>NaN</td>\n",
       "      <td>1</td>\n",
       "      <td>1 kg</td>\n",
       "      <td>Barista and Coffee Academy of Asia</td>\n",
       "      <td>2022</td>\n",
       "      <td>September 26th, 2022</td>\n",
       "      <td>Coffee Quality Institute</td>\n",
       "      <td>NaN</td>\n",
       "      <td>Completed</td>\n",
       "      <td>NaN</td>\n",
       "      <td>7.83</td>\n",
       "      <td>7.75</td>\n",
       "      <td>7.5</td>\n",
       "      <td>7.58</td>\n",
       "      <td>7.67</td>\n",
       "      <td>7.67</td>\n",
       "      <td>10.0</td>\n",
       "      <td>10.0</td>\n",
       "      <td>10.0</td>\n",
       "      <td>7.67</td>\n",
       "      <td>0.0</td>\n",
       "      <td>83.67</td>\n",
       "      <td>12.4</td>\n",
       "      <td>1</td>\n",
       "      <td>0</td>\n",
       "      <td>greenish</td>\n",
       "      <td>9</td>\n",
       "      <td>September 26th, 2023</td>\n",
       "      <td>Barista and Coffee Academy of Asia</td>\n",
       "      <td>The Place Bldg., Tunasan, Muntinlupa City, Met...</td>\n",
       "      <td>Rosario Cruz - +63 995 344 5688</td>\n",
       "    </tr>\n",
       "  </tbody>\n",
       "</table>\n",
       "</div>"
      ],
      "text/plain": [
       "    country_of_origin farm_name lot_number mill  ico_number  \\\n",
       "105          Colombia       NaN        NaN  NaN       False   \n",
       "\n",
       "                      company  altitude region producer  number_of_bags  \\\n",
       "105  Coffee Quality Institute       NaN    NaN      NaN               1   \n",
       "\n",
       "    bag_weight                  in_country_partner harvest_year  \\\n",
       "105       1 kg  Barista and Coffee Academy of Asia         2022   \n",
       "\n",
       "             grading_date                     owner variety     status  \\\n",
       "105  September 26th, 2022  Coffee Quality Institute     NaN  Completed   \n",
       "\n",
       "    processing_method  aroma  flavor  aftertaste  acidity  body  balance  \\\n",
       "105               NaN   7.83    7.75         7.5     7.58  7.67     7.67   \n",
       "\n",
       "     uniformity  clean_cup  sweetness  overall  defects  total_cup_points  \\\n",
       "105        10.0       10.0       10.0     7.67      0.0             83.67   \n",
       "\n",
       "     moisture_percentage  category_one_defects  quakers     color  \\\n",
       "105                 12.4                     1        0  greenish   \n",
       "\n",
       "     category_two_defects            expiration  \\\n",
       "105                     9  September 26th, 2023   \n",
       "\n",
       "                     certification_body  \\\n",
       "105  Barista and Coffee Academy of Asia   \n",
       "\n",
       "                                 certification_address  \\\n",
       "105  The Place Bldg., Tunasan, Muntinlupa City, Met...   \n",
       "\n",
       "               certification_contact  \n",
       "105  Rosario Cruz - +63 995 344 5688  "
      ]
     },
     "execution_count": 15,
     "metadata": {},
     "output_type": "execute_result"
    }
   ],
   "source": [
    "df[df['altitude'].isnull()]"
   ]
  },
  {
   "cell_type": "code",
   "execution_count": 16,
   "metadata": {},
   "outputs": [
    {
     "data": {
      "text/plain": [
       "np.float64(1625.0)"
      ]
     },
     "execution_count": 16,
     "metadata": {},
     "output_type": "execute_result"
    }
   ],
   "source": [
    "# Fill missing values in 'altitude' with the median of the country\n",
    "df['altitude'] = df.groupby('country_of_origin')['altitude'].transform(lambda x: x.fillna(x.median()))\n",
    "df.loc[105, 'altitude']"
   ]
  },
  {
   "cell_type": "markdown",
   "metadata": {},
   "source": [
    "### 3. Variety"
   ]
  },
  {
   "cell_type": "markdown",
   "metadata": {},
   "source": [
    "In this value, I decide to filling missing value of 'variety' with 'country_of_origin' and 'altitude'.\n",
    "If missing 'variety' has no match 'altitude', the median of 'variety' in the same country is filled."
   ]
  },
  {
   "cell_type": "code",
   "execution_count": 17,
   "metadata": {},
   "outputs": [
    {
     "name": "stdout",
     "output_type": "stream",
     "text": [
      "Unique Values: ['Castillo' 'Gesha' 'Java' 'Red Bourbon' 'Sl34+Gesha' 'SL34' 'Bourbon'\n",
      " 'Ethiopian Heirlooms' 'Caturra' 'Wolishalo,Kurume,Dega' 'Typica'\n",
      " 'Catimor' 'Castillo Paraguaycito' nan 'SL28' 'SL14' 'Catuai'\n",
      " 'Yellow Bourbon' 'Catrenic' 'unknown' 'Pacamara'\n",
      " 'Castillo and Colombia blend' 'Jember,TIM-TIM,Ateng'\n",
      " 'BOURBON, CATURRA Y CATIMOR' 'Bourbon Sidra' 'Sarchimor'\n",
      " 'Catimor,Catuai,Caturra,Bourbon' 'Parainema' 'SHG' 'Typica + SL34'\n",
      " 'MARSELLESA, CATUAI, CATURRA & MARSELLESA, ANACAFE 14, CATUAI'\n",
      " 'Mundo Novo' 'Red Bourbon,Caturra' 'Lempira' 'Typica Gesha' 'Gayo'\n",
      " 'Bourbon, Catimor, Caturra, Typica' 'unknow' 'Maragogype'\n",
      " 'Caturra-Catuai' 'SL28,SL34,Ruiru11' 'Yellow Catuai' 'Catucai'\n",
      " 'Santander' 'Typica Bourbon Caturra Catimor' 'Caturra,Colombia,Castillo'\n",
      " 'Castillo,Caturra,Bourbon' 'Pacas' 'Catuai and Mundo Novo']\n",
      "\n",
      "Cleaned Unique Values: ['Castillo' 'Gesha' 'Java' 'Red Bourbon' 'Sl34+Gesha' 'SL34' 'Bourbon'\n",
      " 'Ethiopian Heirlooms' 'Caturra' 'Wolishalo,Kurume,Dega' 'Typica'\n",
      " 'Catimor' 'Castillo Paraguaycito' nan 'SL28' 'SL14' 'Catuai'\n",
      " 'Yellow Bourbon' 'Catrenic' 'Pacamara' 'Castillo and Colombia blend'\n",
      " 'Jember,TIM-TIM,Ateng' 'BOURBON, CATURRA Y CATIMOR' 'Bourbon Sidra'\n",
      " 'Sarchimor' 'Catimor,Catuai,Caturra,Bourbon' 'Parainema' 'SHG'\n",
      " 'Typica + SL34'\n",
      " 'MARSELLESA, CATUAI, CATURRA & MARSELLESA, ANACAFE 14, CATUAI'\n",
      " 'Mundo Novo' 'Red Bourbon,Caturra' 'Lempira' 'Typica Gesha' 'Gayo'\n",
      " 'Bourbon, Catimor, Caturra, Typica' 'Maragogype' 'Caturra-Catuai'\n",
      " 'SL28,SL34,Ruiru11' 'Yellow Catuai' 'Catucai' 'Santander'\n",
      " 'Typica Bourbon Caturra Catimor' 'Caturra,Colombia,Castillo'\n",
      " 'Castillo,Caturra,Bourbon' 'Pacas' 'Catuai and Mundo Novo']\n"
     ]
    }
   ],
   "source": [
    "print(\"Unique Values:\", df['variety'].unique())\n",
    "\n",
    "# From unique values there are some values represent nan values ['unknown', 'unknow'], I will replace them with np.nan\n",
    "df['variety'] = df['variety'].replace(['unknown', 'unknow'], np.nan)\n",
    "\n",
    "print(\"\\nCleaned Unique Values:\", df['variety'].unique())"
   ]
  },
  {
   "cell_type": "code",
   "execution_count": 18,
   "metadata": {},
   "outputs": [
    {
     "data": {
      "text/plain": [
       "country_of_origin  altitude\n",
       "Brazil             1200.0      1\n",
       "Taiwan             300.0       1\n",
       "                   600.0       1\n",
       "                   520.0       1\n",
       "                   500.0       1\n",
       "                   460.0       1\n",
       "                   435.0       1\n",
       "                   340.0       1\n",
       "                   325.0       1\n",
       "                   165.0       1\n",
       "Brazil             1250.0      1\n",
       "Taiwan             150.0       1\n",
       "                   140.0       1\n",
       "                   139.0       1\n",
       "Indonesia          1350.0      1\n",
       "Guatemala          1450.0      1\n",
       "Colombia           1625.0      1\n",
       "                   1411.0      1\n",
       "Taiwan             1150.0      1\n",
       "Name: count, dtype: int64"
      ]
     },
     "execution_count": 18,
     "metadata": {},
     "output_type": "execute_result"
    }
   ],
   "source": [
    "non_variety_df = df[df['variety'].isnull()]\n",
    "# filter the variety with country_of_origin and altitude to fill the missing values\n",
    "non_variety_df[['country_of_origin', 'altitude']].value_counts()"
   ]
  },
  {
   "cell_type": "code",
   "execution_count": 19,
   "metadata": {},
   "outputs": [
    {
     "data": {
      "text/plain": [
       "array(['Brazil', 'Taiwan', 'Colombia', 'Guatemala', 'Indonesia'],\n",
       "      dtype=object)"
      ]
     },
     "execution_count": 19,
     "metadata": {},
     "output_type": "execute_result"
    }
   ],
   "source": [
    "non_variety_df['country_of_origin'].unique()"
   ]
  },
  {
   "cell_type": "code",
   "execution_count": 20,
   "metadata": {},
   "outputs": [
    {
     "data": {
      "application/vnd.plotly.v1+json": {
       "config": {
        "plotlyServerURL": "https://plot.ly"
       },
       "data": [
        {
         "hovertemplate": "country_of_origin=Colombia<br>variety=%{x}<br>altitude=%{y}<extra></extra>",
         "legendgroup": "Colombia",
         "marker": {
          "color": "#636efa",
          "symbol": "circle"
         },
         "mode": "markers",
         "name": "Colombia",
         "orientation": "v",
         "showlegend": true,
         "type": "scatter",
         "x": [
          "Castillo",
          "Red Bourbon",
          "Caturra",
          "Castillo Paraguaycito",
          "Castillo and Colombia blend",
          "Caturra",
          null,
          "Caturra",
          "Bourbon Sidra",
          null,
          "Caturra",
          "Caturra",
          "Red Bourbon,Caturra",
          "Caturra",
          "Typica Gesha",
          "Caturra",
          "Santander",
          "Caturra,Colombia,Castillo",
          "Castillo,Caturra,Bourbon"
         ],
         "xaxis": "x",
         "y": {
          "bdata": "AAAAAABcnEAAAAAAANyeQAAAAAAA6JxAAAAAAAAYlUAAAAAAAGigQAAAAAAAOJhAAAAAAAAMlkAAAAAAAJCaQAAAAAAAIJxAAAAAAABkmUAAAAAAAJCaQAAAAAAAMJFAAAAAAAC4lUAAAAAAAMiZQAAAAAAAGJVAAAAAAACQmkAAAAAAAJiYQAAAAAAAOJhAAAAAAAAAmUA=",
          "dtype": "f8"
         },
         "yaxis": "y"
        },
        {
         "hovertemplate": "country_of_origin=Taiwan<br>variety=%{x}<br>altitude=%{y}<extra></extra>",
         "legendgroup": "Taiwan",
         "marker": {
          "color": "#EF553B",
          "symbol": "circle"
         },
         "mode": "markers",
         "name": "Taiwan",
         "orientation": "v",
         "showlegend": true,
         "type": "scatter",
         "x": [
          "Gesha",
          "Gesha",
          "Sl34+Gesha",
          "SL34",
          "Gesha",
          "SL34",
          "Gesha",
          "Gesha",
          "Typica",
          "SL34",
          "Gesha",
          "Gesha",
          "Gesha",
          "Typica",
          "Typica",
          "Gesha",
          "Gesha",
          "Gesha",
          "Gesha",
          "Typica",
          "Typica",
          "Gesha",
          "Typica",
          "Gesha",
          "Typica",
          "Yellow Bourbon",
          "SL34",
          "SL34",
          "Yellow Bourbon",
          "Typica",
          "Gesha",
          "Gesha",
          "SL34",
          null,
          "Typica",
          "Gesha",
          null,
          "Gesha",
          "SL34",
          null,
          null,
          "Typica",
          "Typica + SL34",
          "Typica",
          "Typica",
          "SL34",
          null,
          "Typica",
          null,
          "Typica",
          "Gesha",
          null,
          "Caturra",
          null,
          null,
          null,
          null,
          null,
          "Typica",
          "Typica",
          null
         ],
         "xaxis": "x",
         "y": {
          "bdata": "AAAAAADAkkAAAAAAAIiTQAAAAAAAwJJAAAAAAACIk0AAAAAAAIiTQAAAAAAAMJFAAAAAAABQlEAAAAAAAMCSQAAAAAAAkIpAAAAAAACIk0AAAAAAAFCUQAAAAAAAwJJAAAAAAACQkEAAAAAAAABpQAAAAAAAAGlAAAAAAADghEAAAAAAAMCSQAAAAAAAUIRAAAAAAACQikAAAAAAAAB5QAAAAAAAQI9AAAAAAAAAiUAAAAAAAMBiQAAAAAAAAIlAAAAAAABwd0AAAAAAAMBsQAAAAAAAUJRAAAAAAADglUAAAAAAAMCSQAAAAAAAQG9AAAAAAADghUAAAAAAAIiTQAAAAAAAqJZAAAAAAABAgEAAAAAAAAB5QAAAAAAAkIpAAAAAAADAYkAAAAAAAACJQAAAAAAAiJNAAAAAAADAckAAAAAAAFB0QAAAAAAAMHFAAAAAAAAwkUAAAAAAAEBvQAAAAAAAwHJAAAAAAABwh0AAAAAAAPiRQAAAAAAAQG9AAAAAAABAdUAAAAAAADBxQAAAAAAAwJJAAAAAAACgZEAAAAAAABB9QAAAAAAAYGFAAAAAAACAYUAAAAAAAMCCQAAAAAAAwHxAAAAAAABAf0AAAAAAAMByQAAAAAAAwHJAAAAAAAAwe0A=",
          "dtype": "f8"
         },
         "yaxis": "y"
        },
        {
         "hovertemplate": "country_of_origin=Guatemala<br>variety=%{x}<br>altitude=%{y}<extra></extra>",
         "legendgroup": "Guatemala",
         "marker": {
          "color": "#00cc96",
          "symbol": "circle"
         },
         "mode": "markers",
         "name": "Guatemala",
         "orientation": "v",
         "showlegend": true,
         "type": "scatter",
         "x": [
          "Gesha",
          "Gesha",
          "Gesha",
          "Caturra",
          "Catuai",
          "Caturra",
          "Caturra",
          "Bourbon",
          "Bourbon",
          "Typica",
          "Caturra",
          "Caturra",
          "Caturra",
          "Gesha",
          "Bourbon",
          "BOURBON, CATURRA Y CATIMOR",
          "Bourbon",
          "Caturra",
          "MARSELLESA, CATUAI, CATURRA & MARSELLESA, ANACAFE 14, CATUAI",
          null,
          "Caturra"
         ],
         "xaxis": "x",
         "y": {
          "bdata": "AAAAAAAQmkAAAAAAAECfQAAAAAAAsJ1AAAAAAAAAmUAAAAAAAFyyQAAAAAAAAJlAAAAAAAAAmUAAAAAAAB+zQAAAAAAAGJVAAAAAAAAAmUAAAAAAAACZQAAAAAAAOJhAAAAAAAA4mEAAAAAAALCdQAAAAAAAAJlAAAAAAADglUAAAAAAgJi0QAAAAAAAAJlAAAAAAABalEAAAAAAAKiWQAAAAAAA4JVA",
          "dtype": "f8"
         },
         "yaxis": "y"
        },
        {
         "hovertemplate": "country_of_origin=Brazil<br>variety=%{x}<br>altitude=%{y}<extra></extra>",
         "legendgroup": "Brazil",
         "marker": {
          "color": "#ab63fa",
          "symbol": "circle"
         },
         "mode": "markers",
         "name": "Brazil",
         "orientation": "v",
         "showlegend": true,
         "type": "scatter",
         "x": [
          null,
          "Yellow Bourbon",
          "Mundo Novo",
          "Mundo Novo",
          "Yellow Catuai",
          "Catucai",
          null,
          "Catuai and Mundo Novo",
          "Mundo Novo",
          "Mundo Novo"
         ],
         "xaxis": "x",
         "y": {
          "bdata": "AAAAAACIk0AAAAAAADCRQAAAAAAAsI1AAAAAAAAwkUAAAAAAAECPQAAAAAAAsI1AAAAAAADAkkAAAAAAAMCSQAAAAAAAsI1AAAAAAAB4jkA=",
          "dtype": "f8"
         },
         "yaxis": "y"
        },
        {
         "hovertemplate": "country_of_origin=Indonesia<br>variety=%{x}<br>altitude=%{y}<extra></extra>",
         "legendgroup": "Indonesia",
         "marker": {
          "color": "#FFA15A",
          "symbol": "circle"
         },
         "mode": "markers",
         "name": "Indonesia",
         "orientation": "v",
         "showlegend": true,
         "type": "scatter",
         "x": [
          "Catimor",
          "Jember,TIM-TIM,Ateng",
          null
         ],
         "xaxis": "x",
         "y": {
          "bdata": "AAAAAADAkkAAAAAAAFCUQAAAAAAAGJVA",
          "dtype": "f8"
         },
         "yaxis": "y"
        }
       ],
       "layout": {
        "height": 800,
        "legend": {
         "title": {
          "text": "country_of_origin"
         },
         "tracegroupgap": 0
        },
        "margin": {
         "l": 50
        },
        "template": {
         "data": {
          "bar": [
           {
            "error_x": {
             "color": "#2a3f5f"
            },
            "error_y": {
             "color": "#2a3f5f"
            },
            "marker": {
             "line": {
              "color": "#E5ECF6",
              "width": 0.5
             },
             "pattern": {
              "fillmode": "overlay",
              "size": 10,
              "solidity": 0.2
             }
            },
            "type": "bar"
           }
          ],
          "barpolar": [
           {
            "marker": {
             "line": {
              "color": "#E5ECF6",
              "width": 0.5
             },
             "pattern": {
              "fillmode": "overlay",
              "size": 10,
              "solidity": 0.2
             }
            },
            "type": "barpolar"
           }
          ],
          "carpet": [
           {
            "aaxis": {
             "endlinecolor": "#2a3f5f",
             "gridcolor": "white",
             "linecolor": "white",
             "minorgridcolor": "white",
             "startlinecolor": "#2a3f5f"
            },
            "baxis": {
             "endlinecolor": "#2a3f5f",
             "gridcolor": "white",
             "linecolor": "white",
             "minorgridcolor": "white",
             "startlinecolor": "#2a3f5f"
            },
            "type": "carpet"
           }
          ],
          "choropleth": [
           {
            "colorbar": {
             "outlinewidth": 0,
             "ticks": ""
            },
            "type": "choropleth"
           }
          ],
          "contour": [
           {
            "colorbar": {
             "outlinewidth": 0,
             "ticks": ""
            },
            "colorscale": [
             [
              0,
              "#0d0887"
             ],
             [
              0.1111111111111111,
              "#46039f"
             ],
             [
              0.2222222222222222,
              "#7201a8"
             ],
             [
              0.3333333333333333,
              "#9c179e"
             ],
             [
              0.4444444444444444,
              "#bd3786"
             ],
             [
              0.5555555555555556,
              "#d8576b"
             ],
             [
              0.6666666666666666,
              "#ed7953"
             ],
             [
              0.7777777777777778,
              "#fb9f3a"
             ],
             [
              0.8888888888888888,
              "#fdca26"
             ],
             [
              1,
              "#f0f921"
             ]
            ],
            "type": "contour"
           }
          ],
          "contourcarpet": [
           {
            "colorbar": {
             "outlinewidth": 0,
             "ticks": ""
            },
            "type": "contourcarpet"
           }
          ],
          "heatmap": [
           {
            "colorbar": {
             "outlinewidth": 0,
             "ticks": ""
            },
            "colorscale": [
             [
              0,
              "#0d0887"
             ],
             [
              0.1111111111111111,
              "#46039f"
             ],
             [
              0.2222222222222222,
              "#7201a8"
             ],
             [
              0.3333333333333333,
              "#9c179e"
             ],
             [
              0.4444444444444444,
              "#bd3786"
             ],
             [
              0.5555555555555556,
              "#d8576b"
             ],
             [
              0.6666666666666666,
              "#ed7953"
             ],
             [
              0.7777777777777778,
              "#fb9f3a"
             ],
             [
              0.8888888888888888,
              "#fdca26"
             ],
             [
              1,
              "#f0f921"
             ]
            ],
            "type": "heatmap"
           }
          ],
          "histogram": [
           {
            "marker": {
             "pattern": {
              "fillmode": "overlay",
              "size": 10,
              "solidity": 0.2
             }
            },
            "type": "histogram"
           }
          ],
          "histogram2d": [
           {
            "colorbar": {
             "outlinewidth": 0,
             "ticks": ""
            },
            "colorscale": [
             [
              0,
              "#0d0887"
             ],
             [
              0.1111111111111111,
              "#46039f"
             ],
             [
              0.2222222222222222,
              "#7201a8"
             ],
             [
              0.3333333333333333,
              "#9c179e"
             ],
             [
              0.4444444444444444,
              "#bd3786"
             ],
             [
              0.5555555555555556,
              "#d8576b"
             ],
             [
              0.6666666666666666,
              "#ed7953"
             ],
             [
              0.7777777777777778,
              "#fb9f3a"
             ],
             [
              0.8888888888888888,
              "#fdca26"
             ],
             [
              1,
              "#f0f921"
             ]
            ],
            "type": "histogram2d"
           }
          ],
          "histogram2dcontour": [
           {
            "colorbar": {
             "outlinewidth": 0,
             "ticks": ""
            },
            "colorscale": [
             [
              0,
              "#0d0887"
             ],
             [
              0.1111111111111111,
              "#46039f"
             ],
             [
              0.2222222222222222,
              "#7201a8"
             ],
             [
              0.3333333333333333,
              "#9c179e"
             ],
             [
              0.4444444444444444,
              "#bd3786"
             ],
             [
              0.5555555555555556,
              "#d8576b"
             ],
             [
              0.6666666666666666,
              "#ed7953"
             ],
             [
              0.7777777777777778,
              "#fb9f3a"
             ],
             [
              0.8888888888888888,
              "#fdca26"
             ],
             [
              1,
              "#f0f921"
             ]
            ],
            "type": "histogram2dcontour"
           }
          ],
          "mesh3d": [
           {
            "colorbar": {
             "outlinewidth": 0,
             "ticks": ""
            },
            "type": "mesh3d"
           }
          ],
          "parcoords": [
           {
            "line": {
             "colorbar": {
              "outlinewidth": 0,
              "ticks": ""
             }
            },
            "type": "parcoords"
           }
          ],
          "pie": [
           {
            "automargin": true,
            "type": "pie"
           }
          ],
          "scatter": [
           {
            "fillpattern": {
             "fillmode": "overlay",
             "size": 10,
             "solidity": 0.2
            },
            "type": "scatter"
           }
          ],
          "scatter3d": [
           {
            "line": {
             "colorbar": {
              "outlinewidth": 0,
              "ticks": ""
             }
            },
            "marker": {
             "colorbar": {
              "outlinewidth": 0,
              "ticks": ""
             }
            },
            "type": "scatter3d"
           }
          ],
          "scattercarpet": [
           {
            "marker": {
             "colorbar": {
              "outlinewidth": 0,
              "ticks": ""
             }
            },
            "type": "scattercarpet"
           }
          ],
          "scattergeo": [
           {
            "marker": {
             "colorbar": {
              "outlinewidth": 0,
              "ticks": ""
             }
            },
            "type": "scattergeo"
           }
          ],
          "scattergl": [
           {
            "marker": {
             "colorbar": {
              "outlinewidth": 0,
              "ticks": ""
             }
            },
            "type": "scattergl"
           }
          ],
          "scattermap": [
           {
            "marker": {
             "colorbar": {
              "outlinewidth": 0,
              "ticks": ""
             }
            },
            "type": "scattermap"
           }
          ],
          "scattermapbox": [
           {
            "marker": {
             "colorbar": {
              "outlinewidth": 0,
              "ticks": ""
             }
            },
            "type": "scattermapbox"
           }
          ],
          "scatterpolar": [
           {
            "marker": {
             "colorbar": {
              "outlinewidth": 0,
              "ticks": ""
             }
            },
            "type": "scatterpolar"
           }
          ],
          "scatterpolargl": [
           {
            "marker": {
             "colorbar": {
              "outlinewidth": 0,
              "ticks": ""
             }
            },
            "type": "scatterpolargl"
           }
          ],
          "scatterternary": [
           {
            "marker": {
             "colorbar": {
              "outlinewidth": 0,
              "ticks": ""
             }
            },
            "type": "scatterternary"
           }
          ],
          "surface": [
           {
            "colorbar": {
             "outlinewidth": 0,
             "ticks": ""
            },
            "colorscale": [
             [
              0,
              "#0d0887"
             ],
             [
              0.1111111111111111,
              "#46039f"
             ],
             [
              0.2222222222222222,
              "#7201a8"
             ],
             [
              0.3333333333333333,
              "#9c179e"
             ],
             [
              0.4444444444444444,
              "#bd3786"
             ],
             [
              0.5555555555555556,
              "#d8576b"
             ],
             [
              0.6666666666666666,
              "#ed7953"
             ],
             [
              0.7777777777777778,
              "#fb9f3a"
             ],
             [
              0.8888888888888888,
              "#fdca26"
             ],
             [
              1,
              "#f0f921"
             ]
            ],
            "type": "surface"
           }
          ],
          "table": [
           {
            "cells": {
             "fill": {
              "color": "#EBF0F8"
             },
             "line": {
              "color": "white"
             }
            },
            "header": {
             "fill": {
              "color": "#C8D4E3"
             },
             "line": {
              "color": "white"
             }
            },
            "type": "table"
           }
          ]
         },
         "layout": {
          "annotationdefaults": {
           "arrowcolor": "#2a3f5f",
           "arrowhead": 0,
           "arrowwidth": 1
          },
          "autotypenumbers": "strict",
          "coloraxis": {
           "colorbar": {
            "outlinewidth": 0,
            "ticks": ""
           }
          },
          "colorscale": {
           "diverging": [
            [
             0,
             "#8e0152"
            ],
            [
             0.1,
             "#c51b7d"
            ],
            [
             0.2,
             "#de77ae"
            ],
            [
             0.3,
             "#f1b6da"
            ],
            [
             0.4,
             "#fde0ef"
            ],
            [
             0.5,
             "#f7f7f7"
            ],
            [
             0.6,
             "#e6f5d0"
            ],
            [
             0.7,
             "#b8e186"
            ],
            [
             0.8,
             "#7fbc41"
            ],
            [
             0.9,
             "#4d9221"
            ],
            [
             1,
             "#276419"
            ]
           ],
           "sequential": [
            [
             0,
             "#0d0887"
            ],
            [
             0.1111111111111111,
             "#46039f"
            ],
            [
             0.2222222222222222,
             "#7201a8"
            ],
            [
             0.3333333333333333,
             "#9c179e"
            ],
            [
             0.4444444444444444,
             "#bd3786"
            ],
            [
             0.5555555555555556,
             "#d8576b"
            ],
            [
             0.6666666666666666,
             "#ed7953"
            ],
            [
             0.7777777777777778,
             "#fb9f3a"
            ],
            [
             0.8888888888888888,
             "#fdca26"
            ],
            [
             1,
             "#f0f921"
            ]
           ],
           "sequentialminus": [
            [
             0,
             "#0d0887"
            ],
            [
             0.1111111111111111,
             "#46039f"
            ],
            [
             0.2222222222222222,
             "#7201a8"
            ],
            [
             0.3333333333333333,
             "#9c179e"
            ],
            [
             0.4444444444444444,
             "#bd3786"
            ],
            [
             0.5555555555555556,
             "#d8576b"
            ],
            [
             0.6666666666666666,
             "#ed7953"
            ],
            [
             0.7777777777777778,
             "#fb9f3a"
            ],
            [
             0.8888888888888888,
             "#fdca26"
            ],
            [
             1,
             "#f0f921"
            ]
           ]
          },
          "colorway": [
           "#636efa",
           "#EF553B",
           "#00cc96",
           "#ab63fa",
           "#FFA15A",
           "#19d3f3",
           "#FF6692",
           "#B6E880",
           "#FF97FF",
           "#FECB52"
          ],
          "font": {
           "color": "#2a3f5f"
          },
          "geo": {
           "bgcolor": "white",
           "lakecolor": "white",
           "landcolor": "#E5ECF6",
           "showlakes": true,
           "showland": true,
           "subunitcolor": "white"
          },
          "hoverlabel": {
           "align": "left"
          },
          "hovermode": "closest",
          "mapbox": {
           "style": "light"
          },
          "paper_bgcolor": "white",
          "plot_bgcolor": "#E5ECF6",
          "polar": {
           "angularaxis": {
            "gridcolor": "white",
            "linecolor": "white",
            "ticks": ""
           },
           "bgcolor": "#E5ECF6",
           "radialaxis": {
            "gridcolor": "white",
            "linecolor": "white",
            "ticks": ""
           }
          },
          "scene": {
           "xaxis": {
            "backgroundcolor": "#E5ECF6",
            "gridcolor": "white",
            "gridwidth": 2,
            "linecolor": "white",
            "showbackground": true,
            "ticks": "",
            "zerolinecolor": "white"
           },
           "yaxis": {
            "backgroundcolor": "#E5ECF6",
            "gridcolor": "white",
            "gridwidth": 2,
            "linecolor": "white",
            "showbackground": true,
            "ticks": "",
            "zerolinecolor": "white"
           },
           "zaxis": {
            "backgroundcolor": "#E5ECF6",
            "gridcolor": "white",
            "gridwidth": 2,
            "linecolor": "white",
            "showbackground": true,
            "ticks": "",
            "zerolinecolor": "white"
           }
          },
          "shapedefaults": {
           "line": {
            "color": "#2a3f5f"
           }
          },
          "ternary": {
           "aaxis": {
            "gridcolor": "white",
            "linecolor": "white",
            "ticks": ""
           },
           "baxis": {
            "gridcolor": "white",
            "linecolor": "white",
            "ticks": ""
           },
           "bgcolor": "#E5ECF6",
           "caxis": {
            "gridcolor": "white",
            "linecolor": "white",
            "ticks": ""
           }
          },
          "title": {
           "x": 0.05
          },
          "xaxis": {
           "automargin": true,
           "gridcolor": "white",
           "linecolor": "white",
           "ticks": "",
           "title": {
            "standoff": 15
           },
           "zerolinecolor": "white",
           "zerolinewidth": 2
          },
          "yaxis": {
           "automargin": true,
           "gridcolor": "white",
           "linecolor": "white",
           "ticks": "",
           "title": {
            "standoff": 15
           },
           "zerolinecolor": "white",
           "zerolinewidth": 2
          }
         }
        },
        "title": {
         "text": "Variety vs Country of Origin vs Altitude"
        },
        "width": 800,
        "xaxis": {
         "anchor": "y",
         "categoryorder": "total ascending",
         "domain": [
          0,
          1
         ],
         "title": {
          "text": "variety"
         }
        },
        "yaxis": {
         "anchor": "x",
         "domain": [
          0,
          1
         ],
         "title": {
          "text": "altitude"
         }
        }
       }
      }
     },
     "metadata": {},
     "output_type": "display_data"
    }
   ],
   "source": [
    "# plot relationship between 'variety' 'country_of_origin' and 'altitude'\n",
    "# filter df 'country_of_origin' when has missing values\n",
    "country_list = non_variety_df['country_of_origin'].unique()\n",
    "variety_df = df[df['country_of_origin'].isin(country_list)]\n",
    "fig = px.scatter(variety_df, x='variety', y='altitude', color='country_of_origin', title='Variety vs Country of Origin vs Altitude')\n",
    "fig.update_layout(width=800, height=800, xaxis={'categoryorder':'total ascending'}, margin=go.layout.Margin(l=50))\n",
    "fig.show()"
   ]
  },
  {
   "cell_type": "code",
   "execution_count": 21,
   "metadata": {},
   "outputs": [],
   "source": [
    "# fill missing values in 'variety' with the altitude and country_of_origin if altitude is not equal find the nearest altitude\n",
    "for index, row in non_variety_df.iterrows():\n",
    "    country = row['country_of_origin']\n",
    "    altitude = row['altitude']\n",
    "    if pd.isnull(altitude):\n",
    "        continue\n",
    "    variety = df[(df['country_of_origin'] == country) & (df['altitude'] == altitude)]['variety'].mode().values\n",
    "    if len(variety) > 0:\n",
    "        df.loc[index, 'variety'] = variety[0]\n",
    "    else:\n",
    "        variety = df[(df['country_of_origin'] == country)]['variety'].mode().values\n",
    "        if len(variety) > 0:\n",
    "            df.loc[index, 'variety'] = variety[0]"
   ]
  },
  {
   "cell_type": "code",
   "execution_count": 22,
   "metadata": {},
   "outputs": [
    {
     "data": {
      "text/plain": [
       "Series([], Name: count, dtype: int64)"
      ]
     },
     "execution_count": 22,
     "metadata": {},
     "output_type": "execute_result"
    }
   ],
   "source": [
    "non_variety_df = df[df['variety'].isnull()]\n",
    "non_variety_df[['country_of_origin', 'altitude']].value_counts()"
   ]
  },
  {
   "cell_type": "code",
   "execution_count": 23,
   "metadata": {},
   "outputs": [
    {
     "data": {
      "application/vnd.plotly.v1+json": {
       "config": {
        "plotlyServerURL": "https://plot.ly"
       },
       "data": [
        {
         "hovertemplate": "country_of_origin=Colombia<br>variety=%{x}<br>altitude=%{y}<extra></extra>",
         "legendgroup": "Colombia",
         "marker": {
          "color": "#636efa",
          "symbol": "circle"
         },
         "mode": "markers",
         "name": "Colombia",
         "orientation": "v",
         "showlegend": true,
         "type": "scatter",
         "x": [
          "Castillo",
          "Red Bourbon",
          "Caturra",
          "Castillo Paraguaycito",
          "Castillo and Colombia blend",
          "Caturra",
          "Caturra",
          "Caturra",
          "Bourbon Sidra",
          "Caturra",
          "Caturra",
          "Caturra",
          "Red Bourbon,Caturra",
          "Caturra",
          "Typica Gesha",
          "Caturra",
          "Santander",
          "Caturra,Colombia,Castillo",
          "Castillo,Caturra,Bourbon"
         ],
         "xaxis": "x",
         "y": {
          "bdata": "AAAAAABcnEAAAAAAANyeQAAAAAAA6JxAAAAAAAAYlUAAAAAAAGigQAAAAAAAOJhAAAAAAAAMlkAAAAAAAJCaQAAAAAAAIJxAAAAAAABkmUAAAAAAAJCaQAAAAAAAMJFAAAAAAAC4lUAAAAAAAMiZQAAAAAAAGJVAAAAAAACQmkAAAAAAAJiYQAAAAAAAOJhAAAAAAAAAmUA=",
          "dtype": "f8"
         },
         "yaxis": "y"
        },
        {
         "hovertemplate": "country_of_origin=Taiwan<br>variety=%{x}<br>altitude=%{y}<extra></extra>",
         "legendgroup": "Taiwan",
         "marker": {
          "color": "#EF553B",
          "symbol": "circle"
         },
         "mode": "markers",
         "name": "Taiwan",
         "orientation": "v",
         "showlegend": true,
         "type": "scatter",
         "x": [
          "Gesha",
          "Gesha",
          "Sl34+Gesha",
          "SL34",
          "Gesha",
          "SL34",
          "Gesha",
          "Gesha",
          "Typica",
          "SL34",
          "Gesha",
          "Gesha",
          "Gesha",
          "Typica",
          "Typica",
          "Gesha",
          "Gesha",
          "Gesha",
          "Gesha",
          "Typica",
          "Typica",
          "Gesha",
          "Typica",
          "Gesha",
          "Typica",
          "Yellow Bourbon",
          "SL34",
          "SL34",
          "Yellow Bourbon",
          "Typica",
          "Gesha",
          "Gesha",
          "SL34",
          "Gesha",
          "Typica",
          "Gesha",
          "Typica",
          "Gesha",
          "SL34",
          "Typica",
          "Gesha",
          "Typica",
          "Typica + SL34",
          "Typica",
          "Typica",
          "SL34",
          "Gesha",
          "Typica",
          "Gesha",
          "Typica",
          "Gesha",
          "Gesha",
          "Caturra",
          "Gesha",
          "Gesha",
          "Gesha",
          "Gesha",
          "Gesha",
          "Typica",
          "Typica",
          "Gesha"
         ],
         "xaxis": "x",
         "y": {
          "bdata": "AAAAAADAkkAAAAAAAIiTQAAAAAAAwJJAAAAAAACIk0AAAAAAAIiTQAAAAAAAMJFAAAAAAABQlEAAAAAAAMCSQAAAAAAAkIpAAAAAAACIk0AAAAAAAFCUQAAAAAAAwJJAAAAAAACQkEAAAAAAAABpQAAAAAAAAGlAAAAAAADghEAAAAAAAMCSQAAAAAAAUIRAAAAAAACQikAAAAAAAAB5QAAAAAAAQI9AAAAAAAAAiUAAAAAAAMBiQAAAAAAAAIlAAAAAAABwd0AAAAAAAMBsQAAAAAAAUJRAAAAAAADglUAAAAAAAMCSQAAAAAAAQG9AAAAAAADghUAAAAAAAIiTQAAAAAAAqJZAAAAAAABAgEAAAAAAAAB5QAAAAAAAkIpAAAAAAADAYkAAAAAAAACJQAAAAAAAiJNAAAAAAADAckAAAAAAAFB0QAAAAAAAMHFAAAAAAAAwkUAAAAAAAEBvQAAAAAAAwHJAAAAAAABwh0AAAAAAAPiRQAAAAAAAQG9AAAAAAABAdUAAAAAAADBxQAAAAAAAwJJAAAAAAACgZEAAAAAAABB9QAAAAAAAYGFAAAAAAACAYUAAAAAAAMCCQAAAAAAAwHxAAAAAAABAf0AAAAAAAMByQAAAAAAAwHJAAAAAAAAwe0A=",
          "dtype": "f8"
         },
         "yaxis": "y"
        },
        {
         "hovertemplate": "country_of_origin=Guatemala<br>variety=%{x}<br>altitude=%{y}<extra></extra>",
         "legendgroup": "Guatemala",
         "marker": {
          "color": "#00cc96",
          "symbol": "circle"
         },
         "mode": "markers",
         "name": "Guatemala",
         "orientation": "v",
         "showlegend": true,
         "type": "scatter",
         "x": [
          "Gesha",
          "Gesha",
          "Gesha",
          "Caturra",
          "Catuai",
          "Caturra",
          "Caturra",
          "Bourbon",
          "Bourbon",
          "Typica",
          "Caturra",
          "Caturra",
          "Caturra",
          "Gesha",
          "Bourbon",
          "BOURBON, CATURRA Y CATIMOR",
          "Bourbon",
          "Caturra",
          "MARSELLESA, CATUAI, CATURRA & MARSELLESA, ANACAFE 14, CATUAI",
          "Caturra",
          "Caturra"
         ],
         "xaxis": "x",
         "y": {
          "bdata": "AAAAAAAQmkAAAAAAAECfQAAAAAAAsJ1AAAAAAAAAmUAAAAAAAFyyQAAAAAAAAJlAAAAAAAAAmUAAAAAAAB+zQAAAAAAAGJVAAAAAAAAAmUAAAAAAAACZQAAAAAAAOJhAAAAAAAA4mEAAAAAAALCdQAAAAAAAAJlAAAAAAADglUAAAAAAgJi0QAAAAAAAAJlAAAAAAABalEAAAAAAAKiWQAAAAAAA4JVA",
          "dtype": "f8"
         },
         "yaxis": "y"
        },
        {
         "hovertemplate": "country_of_origin=Brazil<br>variety=%{x}<br>altitude=%{y}<extra></extra>",
         "legendgroup": "Brazil",
         "marker": {
          "color": "#ab63fa",
          "symbol": "circle"
         },
         "mode": "markers",
         "name": "Brazil",
         "orientation": "v",
         "showlegend": true,
         "type": "scatter",
         "x": [
          "Mundo Novo",
          "Yellow Bourbon",
          "Mundo Novo",
          "Mundo Novo",
          "Yellow Catuai",
          "Catucai",
          "Catuai and Mundo Novo",
          "Catuai and Mundo Novo",
          "Mundo Novo",
          "Mundo Novo"
         ],
         "xaxis": "x",
         "y": {
          "bdata": "AAAAAACIk0AAAAAAADCRQAAAAAAAsI1AAAAAAAAwkUAAAAAAAECPQAAAAAAAsI1AAAAAAADAkkAAAAAAAMCSQAAAAAAAsI1AAAAAAAB4jkA=",
          "dtype": "f8"
         },
         "yaxis": "y"
        },
        {
         "hovertemplate": "country_of_origin=Indonesia<br>variety=%{x}<br>altitude=%{y}<extra></extra>",
         "legendgroup": "Indonesia",
         "marker": {
          "color": "#FFA15A",
          "symbol": "circle"
         },
         "mode": "markers",
         "name": "Indonesia",
         "orientation": "v",
         "showlegend": true,
         "type": "scatter",
         "x": [
          "Catimor",
          "Jember,TIM-TIM,Ateng",
          "Catimor"
         ],
         "xaxis": "x",
         "y": {
          "bdata": "AAAAAADAkkAAAAAAAFCUQAAAAAAAGJVA",
          "dtype": "f8"
         },
         "yaxis": "y"
        }
       ],
       "layout": {
        "height": 800,
        "legend": {
         "title": {
          "text": "country_of_origin"
         },
         "tracegroupgap": 0
        },
        "margin": {
         "l": 50
        },
        "template": {
         "data": {
          "bar": [
           {
            "error_x": {
             "color": "#2a3f5f"
            },
            "error_y": {
             "color": "#2a3f5f"
            },
            "marker": {
             "line": {
              "color": "#E5ECF6",
              "width": 0.5
             },
             "pattern": {
              "fillmode": "overlay",
              "size": 10,
              "solidity": 0.2
             }
            },
            "type": "bar"
           }
          ],
          "barpolar": [
           {
            "marker": {
             "line": {
              "color": "#E5ECF6",
              "width": 0.5
             },
             "pattern": {
              "fillmode": "overlay",
              "size": 10,
              "solidity": 0.2
             }
            },
            "type": "barpolar"
           }
          ],
          "carpet": [
           {
            "aaxis": {
             "endlinecolor": "#2a3f5f",
             "gridcolor": "white",
             "linecolor": "white",
             "minorgridcolor": "white",
             "startlinecolor": "#2a3f5f"
            },
            "baxis": {
             "endlinecolor": "#2a3f5f",
             "gridcolor": "white",
             "linecolor": "white",
             "minorgridcolor": "white",
             "startlinecolor": "#2a3f5f"
            },
            "type": "carpet"
           }
          ],
          "choropleth": [
           {
            "colorbar": {
             "outlinewidth": 0,
             "ticks": ""
            },
            "type": "choropleth"
           }
          ],
          "contour": [
           {
            "colorbar": {
             "outlinewidth": 0,
             "ticks": ""
            },
            "colorscale": [
             [
              0,
              "#0d0887"
             ],
             [
              0.1111111111111111,
              "#46039f"
             ],
             [
              0.2222222222222222,
              "#7201a8"
             ],
             [
              0.3333333333333333,
              "#9c179e"
             ],
             [
              0.4444444444444444,
              "#bd3786"
             ],
             [
              0.5555555555555556,
              "#d8576b"
             ],
             [
              0.6666666666666666,
              "#ed7953"
             ],
             [
              0.7777777777777778,
              "#fb9f3a"
             ],
             [
              0.8888888888888888,
              "#fdca26"
             ],
             [
              1,
              "#f0f921"
             ]
            ],
            "type": "contour"
           }
          ],
          "contourcarpet": [
           {
            "colorbar": {
             "outlinewidth": 0,
             "ticks": ""
            },
            "type": "contourcarpet"
           }
          ],
          "heatmap": [
           {
            "colorbar": {
             "outlinewidth": 0,
             "ticks": ""
            },
            "colorscale": [
             [
              0,
              "#0d0887"
             ],
             [
              0.1111111111111111,
              "#46039f"
             ],
             [
              0.2222222222222222,
              "#7201a8"
             ],
             [
              0.3333333333333333,
              "#9c179e"
             ],
             [
              0.4444444444444444,
              "#bd3786"
             ],
             [
              0.5555555555555556,
              "#d8576b"
             ],
             [
              0.6666666666666666,
              "#ed7953"
             ],
             [
              0.7777777777777778,
              "#fb9f3a"
             ],
             [
              0.8888888888888888,
              "#fdca26"
             ],
             [
              1,
              "#f0f921"
             ]
            ],
            "type": "heatmap"
           }
          ],
          "histogram": [
           {
            "marker": {
             "pattern": {
              "fillmode": "overlay",
              "size": 10,
              "solidity": 0.2
             }
            },
            "type": "histogram"
           }
          ],
          "histogram2d": [
           {
            "colorbar": {
             "outlinewidth": 0,
             "ticks": ""
            },
            "colorscale": [
             [
              0,
              "#0d0887"
             ],
             [
              0.1111111111111111,
              "#46039f"
             ],
             [
              0.2222222222222222,
              "#7201a8"
             ],
             [
              0.3333333333333333,
              "#9c179e"
             ],
             [
              0.4444444444444444,
              "#bd3786"
             ],
             [
              0.5555555555555556,
              "#d8576b"
             ],
             [
              0.6666666666666666,
              "#ed7953"
             ],
             [
              0.7777777777777778,
              "#fb9f3a"
             ],
             [
              0.8888888888888888,
              "#fdca26"
             ],
             [
              1,
              "#f0f921"
             ]
            ],
            "type": "histogram2d"
           }
          ],
          "histogram2dcontour": [
           {
            "colorbar": {
             "outlinewidth": 0,
             "ticks": ""
            },
            "colorscale": [
             [
              0,
              "#0d0887"
             ],
             [
              0.1111111111111111,
              "#46039f"
             ],
             [
              0.2222222222222222,
              "#7201a8"
             ],
             [
              0.3333333333333333,
              "#9c179e"
             ],
             [
              0.4444444444444444,
              "#bd3786"
             ],
             [
              0.5555555555555556,
              "#d8576b"
             ],
             [
              0.6666666666666666,
              "#ed7953"
             ],
             [
              0.7777777777777778,
              "#fb9f3a"
             ],
             [
              0.8888888888888888,
              "#fdca26"
             ],
             [
              1,
              "#f0f921"
             ]
            ],
            "type": "histogram2dcontour"
           }
          ],
          "mesh3d": [
           {
            "colorbar": {
             "outlinewidth": 0,
             "ticks": ""
            },
            "type": "mesh3d"
           }
          ],
          "parcoords": [
           {
            "line": {
             "colorbar": {
              "outlinewidth": 0,
              "ticks": ""
             }
            },
            "type": "parcoords"
           }
          ],
          "pie": [
           {
            "automargin": true,
            "type": "pie"
           }
          ],
          "scatter": [
           {
            "fillpattern": {
             "fillmode": "overlay",
             "size": 10,
             "solidity": 0.2
            },
            "type": "scatter"
           }
          ],
          "scatter3d": [
           {
            "line": {
             "colorbar": {
              "outlinewidth": 0,
              "ticks": ""
             }
            },
            "marker": {
             "colorbar": {
              "outlinewidth": 0,
              "ticks": ""
             }
            },
            "type": "scatter3d"
           }
          ],
          "scattercarpet": [
           {
            "marker": {
             "colorbar": {
              "outlinewidth": 0,
              "ticks": ""
             }
            },
            "type": "scattercarpet"
           }
          ],
          "scattergeo": [
           {
            "marker": {
             "colorbar": {
              "outlinewidth": 0,
              "ticks": ""
             }
            },
            "type": "scattergeo"
           }
          ],
          "scattergl": [
           {
            "marker": {
             "colorbar": {
              "outlinewidth": 0,
              "ticks": ""
             }
            },
            "type": "scattergl"
           }
          ],
          "scattermap": [
           {
            "marker": {
             "colorbar": {
              "outlinewidth": 0,
              "ticks": ""
             }
            },
            "type": "scattermap"
           }
          ],
          "scattermapbox": [
           {
            "marker": {
             "colorbar": {
              "outlinewidth": 0,
              "ticks": ""
             }
            },
            "type": "scattermapbox"
           }
          ],
          "scatterpolar": [
           {
            "marker": {
             "colorbar": {
              "outlinewidth": 0,
              "ticks": ""
             }
            },
            "type": "scatterpolar"
           }
          ],
          "scatterpolargl": [
           {
            "marker": {
             "colorbar": {
              "outlinewidth": 0,
              "ticks": ""
             }
            },
            "type": "scatterpolargl"
           }
          ],
          "scatterternary": [
           {
            "marker": {
             "colorbar": {
              "outlinewidth": 0,
              "ticks": ""
             }
            },
            "type": "scatterternary"
           }
          ],
          "surface": [
           {
            "colorbar": {
             "outlinewidth": 0,
             "ticks": ""
            },
            "colorscale": [
             [
              0,
              "#0d0887"
             ],
             [
              0.1111111111111111,
              "#46039f"
             ],
             [
              0.2222222222222222,
              "#7201a8"
             ],
             [
              0.3333333333333333,
              "#9c179e"
             ],
             [
              0.4444444444444444,
              "#bd3786"
             ],
             [
              0.5555555555555556,
              "#d8576b"
             ],
             [
              0.6666666666666666,
              "#ed7953"
             ],
             [
              0.7777777777777778,
              "#fb9f3a"
             ],
             [
              0.8888888888888888,
              "#fdca26"
             ],
             [
              1,
              "#f0f921"
             ]
            ],
            "type": "surface"
           }
          ],
          "table": [
           {
            "cells": {
             "fill": {
              "color": "#EBF0F8"
             },
             "line": {
              "color": "white"
             }
            },
            "header": {
             "fill": {
              "color": "#C8D4E3"
             },
             "line": {
              "color": "white"
             }
            },
            "type": "table"
           }
          ]
         },
         "layout": {
          "annotationdefaults": {
           "arrowcolor": "#2a3f5f",
           "arrowhead": 0,
           "arrowwidth": 1
          },
          "autotypenumbers": "strict",
          "coloraxis": {
           "colorbar": {
            "outlinewidth": 0,
            "ticks": ""
           }
          },
          "colorscale": {
           "diverging": [
            [
             0,
             "#8e0152"
            ],
            [
             0.1,
             "#c51b7d"
            ],
            [
             0.2,
             "#de77ae"
            ],
            [
             0.3,
             "#f1b6da"
            ],
            [
             0.4,
             "#fde0ef"
            ],
            [
             0.5,
             "#f7f7f7"
            ],
            [
             0.6,
             "#e6f5d0"
            ],
            [
             0.7,
             "#b8e186"
            ],
            [
             0.8,
             "#7fbc41"
            ],
            [
             0.9,
             "#4d9221"
            ],
            [
             1,
             "#276419"
            ]
           ],
           "sequential": [
            [
             0,
             "#0d0887"
            ],
            [
             0.1111111111111111,
             "#46039f"
            ],
            [
             0.2222222222222222,
             "#7201a8"
            ],
            [
             0.3333333333333333,
             "#9c179e"
            ],
            [
             0.4444444444444444,
             "#bd3786"
            ],
            [
             0.5555555555555556,
             "#d8576b"
            ],
            [
             0.6666666666666666,
             "#ed7953"
            ],
            [
             0.7777777777777778,
             "#fb9f3a"
            ],
            [
             0.8888888888888888,
             "#fdca26"
            ],
            [
             1,
             "#f0f921"
            ]
           ],
           "sequentialminus": [
            [
             0,
             "#0d0887"
            ],
            [
             0.1111111111111111,
             "#46039f"
            ],
            [
             0.2222222222222222,
             "#7201a8"
            ],
            [
             0.3333333333333333,
             "#9c179e"
            ],
            [
             0.4444444444444444,
             "#bd3786"
            ],
            [
             0.5555555555555556,
             "#d8576b"
            ],
            [
             0.6666666666666666,
             "#ed7953"
            ],
            [
             0.7777777777777778,
             "#fb9f3a"
            ],
            [
             0.8888888888888888,
             "#fdca26"
            ],
            [
             1,
             "#f0f921"
            ]
           ]
          },
          "colorway": [
           "#636efa",
           "#EF553B",
           "#00cc96",
           "#ab63fa",
           "#FFA15A",
           "#19d3f3",
           "#FF6692",
           "#B6E880",
           "#FF97FF",
           "#FECB52"
          ],
          "font": {
           "color": "#2a3f5f"
          },
          "geo": {
           "bgcolor": "white",
           "lakecolor": "white",
           "landcolor": "#E5ECF6",
           "showlakes": true,
           "showland": true,
           "subunitcolor": "white"
          },
          "hoverlabel": {
           "align": "left"
          },
          "hovermode": "closest",
          "mapbox": {
           "style": "light"
          },
          "paper_bgcolor": "white",
          "plot_bgcolor": "#E5ECF6",
          "polar": {
           "angularaxis": {
            "gridcolor": "white",
            "linecolor": "white",
            "ticks": ""
           },
           "bgcolor": "#E5ECF6",
           "radialaxis": {
            "gridcolor": "white",
            "linecolor": "white",
            "ticks": ""
           }
          },
          "scene": {
           "xaxis": {
            "backgroundcolor": "#E5ECF6",
            "gridcolor": "white",
            "gridwidth": 2,
            "linecolor": "white",
            "showbackground": true,
            "ticks": "",
            "zerolinecolor": "white"
           },
           "yaxis": {
            "backgroundcolor": "#E5ECF6",
            "gridcolor": "white",
            "gridwidth": 2,
            "linecolor": "white",
            "showbackground": true,
            "ticks": "",
            "zerolinecolor": "white"
           },
           "zaxis": {
            "backgroundcolor": "#E5ECF6",
            "gridcolor": "white",
            "gridwidth": 2,
            "linecolor": "white",
            "showbackground": true,
            "ticks": "",
            "zerolinecolor": "white"
           }
          },
          "shapedefaults": {
           "line": {
            "color": "#2a3f5f"
           }
          },
          "ternary": {
           "aaxis": {
            "gridcolor": "white",
            "linecolor": "white",
            "ticks": ""
           },
           "baxis": {
            "gridcolor": "white",
            "linecolor": "white",
            "ticks": ""
           },
           "bgcolor": "#E5ECF6",
           "caxis": {
            "gridcolor": "white",
            "linecolor": "white",
            "ticks": ""
           }
          },
          "title": {
           "x": 0.05
          },
          "xaxis": {
           "automargin": true,
           "gridcolor": "white",
           "linecolor": "white",
           "ticks": "",
           "title": {
            "standoff": 15
           },
           "zerolinecolor": "white",
           "zerolinewidth": 2
          },
          "yaxis": {
           "automargin": true,
           "gridcolor": "white",
           "linecolor": "white",
           "ticks": "",
           "title": {
            "standoff": 15
           },
           "zerolinecolor": "white",
           "zerolinewidth": 2
          }
         }
        },
        "title": {
         "text": "After Fill Missing Value Variety vs Country of Origin vs Altitude"
        },
        "width": 800,
        "xaxis": {
         "anchor": "y",
         "categoryorder": "total ascending",
         "domain": [
          0,
          1
         ],
         "title": {
          "text": "variety"
         }
        },
        "yaxis": {
         "anchor": "x",
         "domain": [
          0,
          1
         ],
         "title": {
          "text": "altitude"
         }
        }
       }
      }
     },
     "metadata": {},
     "output_type": "display_data"
    }
   ],
   "source": [
    "# plot relationship between 'variety' 'country_of_origin' and 'altitude'\n",
    "variety_df = df[df['country_of_origin'].isin(country_list)]\n",
    "fig = px.scatter(variety_df, x='variety', y='altitude', color='country_of_origin', title='After Fill Missing Value Variety vs Country of Origin vs Altitude')\n",
    "fig.update_layout(width=800, height=800, xaxis={'categoryorder':'total ascending'}, margin=go.layout.Margin(l=50))\n",
    "fig.show()"
   ]
  },
  {
   "cell_type": "markdown",
   "metadata": {},
   "source": [
    "### 4. Processing Method"
   ]
  },
  {
   "cell_type": "markdown",
   "metadata": {},
   "source": [
    "In this value, I decide to filling missing value of 'processing_method' with 'country_of_origin' and 'variety' since 'altitude' information can be represented by 'variety'."
   ]
  },
  {
   "cell_type": "code",
   "execution_count": 24,
   "metadata": {},
   "outputs": [
    {
     "name": "stdout",
     "output_type": "stream",
     "text": [
      "Unique Values: ['Double Anaerobic Washed' 'Washed / Wet' 'Semi Washed' 'Honey,Mossto'\n",
      " 'Natural / Dry' 'Pulped natural / honey' nan\n",
      " 'Double Carbonic Maceration / Natural' 'Wet Hulling' 'Anaerobico 1000h'\n",
      " 'SEMI-LAVADO']\n"
     ]
    }
   ],
   "source": [
    "print(\"Unique Values:\", df['processing_method'].unique())"
   ]
  },
  {
   "cell_type": "code",
   "execution_count": 25,
   "metadata": {},
   "outputs": [
    {
     "data": {
      "application/vnd.plotly.v1+json": {
       "config": {
        "plotlyServerURL": "https://plot.ly"
       },
       "data": [
        {
         "hovertemplate": "country_of_origin=Colombia<br>variety=%{x}<br>processing_method=%{y}<extra></extra>",
         "legendgroup": "Colombia",
         "marker": {
          "color": "#636efa",
          "symbol": "circle"
         },
         "mode": "markers",
         "name": "Colombia",
         "orientation": "v",
         "showlegend": true,
         "type": "scatter",
         "x": [
          "Castillo",
          "Red Bourbon",
          "Caturra",
          "Castillo Paraguaycito",
          "Castillo and Colombia blend",
          "Caturra",
          "Caturra",
          "Caturra",
          "Bourbon Sidra",
          "Caturra",
          "Caturra",
          "Caturra",
          "Red Bourbon,Caturra",
          "Caturra",
          "Typica Gesha",
          "Caturra",
          "Santander",
          "Caturra,Colombia,Castillo",
          "Castillo,Caturra,Bourbon"
         ],
         "xaxis": "x",
         "y": [
          "Double Anaerobic Washed",
          "Honey,Mossto",
          "Washed / Wet",
          null,
          "Washed / Wet",
          "Washed / Wet",
          "Washed / Wet",
          "Washed / Wet",
          "Pulped natural / honey",
          null,
          "Washed / Wet",
          "Washed / Wet",
          "Anaerobico 1000h",
          "Washed / Wet",
          "Washed / Wet",
          "Washed / Wet",
          "Washed / Wet",
          "Washed / Wet",
          "Washed / Wet"
         ],
         "yaxis": "y"
        },
        {
         "hovertemplate": "country_of_origin=Taiwan<br>variety=%{x}<br>processing_method=%{y}<extra></extra>",
         "legendgroup": "Taiwan",
         "marker": {
          "color": "#EF553B",
          "symbol": "circle"
         },
         "mode": "markers",
         "name": "Taiwan",
         "orientation": "v",
         "showlegend": true,
         "type": "scatter",
         "x": [
          "Gesha",
          "Gesha",
          "Sl34+Gesha",
          "SL34",
          "Gesha",
          "SL34",
          "Gesha",
          "Gesha",
          "Typica",
          "SL34",
          "Gesha",
          "Gesha",
          "Gesha",
          "Typica",
          "Typica",
          "Gesha",
          "Gesha",
          "Gesha",
          "Gesha",
          "Typica",
          "Typica",
          "Gesha",
          "Typica",
          "Gesha",
          "Typica",
          "Yellow Bourbon",
          "SL34",
          "SL34",
          "Yellow Bourbon",
          "Typica",
          "Gesha",
          "Gesha",
          "SL34",
          "Gesha",
          "Typica",
          "Gesha",
          "Typica",
          "Gesha",
          "SL34",
          "Typica",
          "Gesha",
          "Typica",
          "Typica + SL34",
          "Typica",
          "Typica",
          "SL34",
          "Gesha",
          "Typica",
          "Gesha",
          "Typica",
          "Gesha",
          "Gesha",
          "Caturra",
          "Gesha",
          "Gesha",
          "Gesha",
          "Gesha",
          "Gesha",
          "Typica",
          "Typica",
          "Gesha"
         ],
         "xaxis": "x",
         "y": [
          "Washed / Wet",
          "Washed / Wet",
          "Natural / Dry",
          "Washed / Wet",
          "Washed / Wet",
          "Pulped natural / honey",
          "Natural / Dry",
          "Natural / Dry",
          "Natural / Dry",
          "Washed / Wet",
          "Natural / Dry",
          "Natural / Dry",
          "Natural / Dry",
          "Washed / Wet",
          "Washed / Wet",
          "Washed / Wet",
          "Washed / Wet",
          "Pulped natural / honey",
          "Washed / Wet",
          "Natural / Dry",
          "Washed / Wet",
          "Washed / Wet",
          null,
          "Natural / Dry",
          "Washed / Wet",
          "Natural / Dry",
          "Natural / Dry",
          "Washed / Wet",
          "Pulped natural / honey",
          "Pulped natural / honey",
          "Pulped natural / honey",
          "Washed / Wet",
          "Natural / Dry",
          "Pulped natural / honey",
          "Natural / Dry",
          "Washed / Wet",
          "Pulped natural / honey",
          "Natural / Dry",
          "Washed / Wet",
          "Pulped natural / honey",
          "Natural / Dry",
          "Pulped natural / honey",
          "Washed / Wet",
          "Pulped natural / honey",
          "Washed / Wet",
          "Washed / Wet",
          "Washed / Wet",
          "Natural / Dry",
          "Washed / Wet",
          "Pulped natural / honey",
          null,
          "Natural / Dry",
          "Washed / Wet",
          "Washed / Wet",
          "Natural / Dry",
          "Washed / Wet",
          "Pulped natural / honey",
          "Washed / Wet",
          "Pulped natural / honey",
          "Pulped natural / honey",
          "Pulped natural / honey"
         ],
         "yaxis": "y"
        },
        {
         "hovertemplate": "country_of_origin=Laos<br>variety=%{x}<br>processing_method=%{y}<extra></extra>",
         "legendgroup": "Laos",
         "marker": {
          "color": "#00cc96",
          "symbol": "circle"
         },
         "mode": "markers",
         "name": "Laos",
         "orientation": "v",
         "showlegend": true,
         "type": "scatter",
         "x": [
          "Java",
          "Catimor",
          "Catimor"
         ],
         "xaxis": "x",
         "y": [
          "Semi Washed",
          "Natural / Dry",
          "Washed / Wet"
         ],
         "yaxis": "y"
        },
        {
         "hovertemplate": "country_of_origin=Costa Rica<br>variety=%{x}<br>processing_method=%{y}<extra></extra>",
         "legendgroup": "Costa Rica",
         "marker": {
          "color": "#ab63fa",
          "symbol": "circle"
         },
         "mode": "markers",
         "name": "Costa Rica",
         "orientation": "v",
         "showlegend": true,
         "type": "scatter",
         "x": [
          "Gesha",
          "Caturra",
          "Gesha",
          "Caturra",
          "Caturra",
          "SL28",
          "Caturra",
          "Caturra"
         ],
         "xaxis": "x",
         "y": [
          "Washed / Wet",
          "Washed / Wet",
          "Washed / Wet",
          "Washed / Wet",
          "Washed / Wet",
          "Pulped natural / honey",
          "Washed / Wet",
          "Washed / Wet"
         ],
         "yaxis": "y"
        },
        {
         "hovertemplate": "country_of_origin=Guatemala<br>variety=%{x}<br>processing_method=%{y}<extra></extra>",
         "legendgroup": "Guatemala",
         "marker": {
          "color": "#FFA15A",
          "symbol": "circle"
         },
         "mode": "markers",
         "name": "Guatemala",
         "orientation": "v",
         "showlegend": true,
         "type": "scatter",
         "x": [
          "Gesha",
          "Gesha",
          "Gesha",
          "Caturra",
          "Catuai",
          "Caturra",
          "Caturra",
          "Bourbon",
          "Bourbon",
          "Typica",
          "Caturra",
          "Caturra",
          "Caturra",
          "Gesha",
          "Bourbon",
          "BOURBON, CATURRA Y CATIMOR",
          "Bourbon",
          "Caturra",
          "MARSELLESA, CATUAI, CATURRA & MARSELLESA, ANACAFE 14, CATUAI",
          "Caturra",
          "Caturra"
         ],
         "xaxis": "x",
         "y": [
          "Washed / Wet",
          "Natural / Dry",
          "Natural / Dry",
          "Washed / Wet",
          "Washed / Wet",
          "Washed / Wet",
          "Washed / Wet",
          "Natural / Dry",
          "Washed / Wet",
          "Washed / Wet",
          "Washed / Wet",
          "Washed / Wet",
          "Washed / Wet",
          "Natural / Dry",
          "Washed / Wet",
          "Natural / Dry",
          "Washed / Wet",
          "Washed / Wet",
          "Washed / Wet",
          "Washed / Wet",
          "Washed / Wet"
         ],
         "yaxis": "y"
        },
        {
         "hovertemplate": "country_of_origin=Tanzania, United Republic Of<br>variety=%{x}<br>processing_method=%{y}<extra></extra>",
         "legendgroup": "Tanzania, United Republic Of",
         "marker": {
          "color": "#19d3f3",
          "symbol": "circle"
         },
         "mode": "markers",
         "name": "Tanzania, United Republic Of",
         "orientation": "v",
         "showlegend": true,
         "type": "scatter",
         "x": [
          "Bourbon",
          "Bourbon",
          "Bourbon",
          "Bourbon",
          "Bourbon",
          "Bourbon"
         ],
         "xaxis": "x",
         "y": [
          "Washed / Wet",
          "Washed / Wet",
          "Washed / Wet",
          "Washed / Wet",
          "Washed / Wet",
          "Washed / Wet"
         ],
         "yaxis": "y"
        },
        {
         "hovertemplate": "country_of_origin=Ethiopia<br>variety=%{x}<br>processing_method=%{y}<extra></extra>",
         "legendgroup": "Ethiopia",
         "marker": {
          "color": "#FF6692",
          "symbol": "circle"
         },
         "mode": "markers",
         "name": "Ethiopia",
         "orientation": "v",
         "showlegend": true,
         "type": "scatter",
         "x": [
          "Ethiopian Heirlooms",
          "Gesha",
          "Wolishalo,Kurume,Dega",
          "Ethiopian Heirlooms",
          "Ethiopian Heirlooms",
          "Ethiopian Heirlooms",
          "Ethiopian Heirlooms",
          "Ethiopian Heirlooms",
          "Ethiopian Heirlooms",
          "Ethiopian Heirlooms",
          "Ethiopian Heirlooms"
         ],
         "xaxis": "x",
         "y": [
          "Natural / Dry",
          "Natural / Dry",
          "Washed / Wet",
          "Washed / Wet",
          "Natural / Dry",
          "Washed / Wet",
          "Washed / Wet",
          "Natural / Dry",
          "Washed / Wet",
          "Washed / Wet",
          "Washed / Wet"
         ],
         "yaxis": "y"
        },
        {
         "hovertemplate": "country_of_origin=Thailand<br>variety=%{x}<br>processing_method=%{y}<extra></extra>",
         "legendgroup": "Thailand",
         "marker": {
          "color": "#B6E880",
          "symbol": "circle"
         },
         "mode": "markers",
         "name": "Thailand",
         "orientation": "v",
         "showlegend": true,
         "type": "scatter",
         "x": [
          "Catimor",
          "Catimor",
          "Bourbon",
          "Java",
          "Typica",
          "Gayo",
          "Caturra",
          "Bourbon, Catimor, Caturra, Typica",
          "Catimor",
          "Java",
          "Typica Bourbon Caturra Catimor",
          "Catimor"
         ],
         "xaxis": "x",
         "y": [
          "Pulped natural / honey",
          "Natural / Dry",
          "Washed / Wet",
          "Washed / Wet",
          "Washed / Wet",
          "Washed / Wet",
          "Washed / Wet",
          "Natural / Dry",
          "Washed / Wet",
          "Washed / Wet",
          "Natural / Dry",
          "Washed / Wet"
         ],
         "yaxis": "y"
        },
        {
         "hovertemplate": "country_of_origin=Brazil<br>variety=%{x}<br>processing_method=%{y}<extra></extra>",
         "legendgroup": "Brazil",
         "marker": {
          "color": "#FF97FF",
          "symbol": "circle"
         },
         "mode": "markers",
         "name": "Brazil",
         "orientation": "v",
         "showlegend": true,
         "type": "scatter",
         "x": [
          "Mundo Novo",
          "Yellow Bourbon",
          "Mundo Novo",
          "Mundo Novo",
          "Yellow Catuai",
          "Catucai",
          "Catuai and Mundo Novo",
          "Catuai and Mundo Novo",
          "Mundo Novo",
          "Mundo Novo"
         ],
         "xaxis": "x",
         "y": [
          "Pulped natural / honey",
          "Double Carbonic Maceration / Natural",
          "Natural / Dry",
          "Natural / Dry",
          "Pulped natural / honey",
          "Natural / Dry",
          "Natural / Dry",
          "Natural / Dry",
          "Natural / Dry",
          "SEMI-LAVADO"
         ],
         "yaxis": "y"
        },
        {
         "hovertemplate": "country_of_origin=United States (Hawaii)<br>variety=%{x}<br>processing_method=%{y}<extra></extra>",
         "legendgroup": "United States (Hawaii)",
         "marker": {
          "color": "#FECB52",
          "symbol": "circle"
         },
         "mode": "markers",
         "name": "United States (Hawaii)",
         "orientation": "v",
         "showlegend": true,
         "type": "scatter",
         "x": [
          "Typica",
          "Catuai",
          "Typica",
          "Maragogype",
          "Typica"
         ],
         "xaxis": "x",
         "y": [
          "Washed / Wet",
          "Washed / Wet",
          "Washed / Wet",
          "Washed / Wet",
          "Washed / Wet"
         ],
         "yaxis": "y"
        },
        {
         "hovertemplate": "country_of_origin=Kenya<br>variety=%{x}<br>processing_method=%{y}<extra></extra>",
         "legendgroup": "Kenya",
         "marker": {
          "color": "#636efa",
          "symbol": "circle"
         },
         "mode": "markers",
         "name": "Kenya",
         "orientation": "v",
         "showlegend": true,
         "type": "scatter",
         "x": [
          "SL28",
          "SL28,SL34,Ruiru11"
         ],
         "xaxis": "x",
         "y": [
          "Washed / Wet",
          "Washed / Wet"
         ],
         "yaxis": "y"
        },
        {
         "hovertemplate": "country_of_origin=Uganda<br>variety=%{x}<br>processing_method=%{y}<extra></extra>",
         "legendgroup": "Uganda",
         "marker": {
          "color": "#EF553B",
          "symbol": "circle"
         },
         "mode": "markers",
         "name": "Uganda",
         "orientation": "v",
         "showlegend": true,
         "type": "scatter",
         "x": [
          "SL14",
          "SL14",
          "SL14"
         ],
         "xaxis": "x",
         "y": [
          "Washed / Wet",
          "Washed / Wet",
          "Washed / Wet"
         ],
         "yaxis": "y"
        },
        {
         "hovertemplate": "country_of_origin=Indonesia<br>variety=%{x}<br>processing_method=%{y}<extra></extra>",
         "legendgroup": "Indonesia",
         "marker": {
          "color": "#00cc96",
          "symbol": "circle"
         },
         "mode": "markers",
         "name": "Indonesia",
         "orientation": "v",
         "showlegend": true,
         "type": "scatter",
         "x": [
          "Catimor",
          "Jember,TIM-TIM,Ateng",
          "Catimor"
         ],
         "xaxis": "x",
         "y": [
          null,
          "Wet Hulling",
          "Pulped natural / honey"
         ],
         "yaxis": "y"
        },
        {
         "hovertemplate": "country_of_origin=Peru<br>variety=%{x}<br>processing_method=%{y}<extra></extra>",
         "legendgroup": "Peru",
         "marker": {
          "color": "#ab63fa",
          "symbol": "circle"
         },
         "mode": "markers",
         "name": "Peru",
         "orientation": "v",
         "showlegend": true,
         "type": "scatter",
         "x": [
          "Gesha",
          "Caturra",
          "Caturra",
          "Caturra"
         ],
         "xaxis": "x",
         "y": [
          "Washed / Wet",
          "Washed / Wet",
          "Washed / Wet",
          "Washed / Wet"
         ],
         "yaxis": "y"
        },
        {
         "hovertemplate": "country_of_origin=Panama<br>variety=%{x}<br>processing_method=%{y}<extra></extra>",
         "legendgroup": "Panama",
         "marker": {
          "color": "#FFA15A",
          "symbol": "circle"
         },
         "mode": "markers",
         "name": "Panama",
         "orientation": "v",
         "showlegend": true,
         "type": "scatter",
         "x": [
          "Catuai",
          "Caturra"
         ],
         "xaxis": "x",
         "y": [
          "Washed / Wet",
          "Washed / Wet"
         ],
         "yaxis": "y"
        },
        {
         "hovertemplate": "country_of_origin=Nicaragua<br>variety=%{x}<br>processing_method=%{y}<extra></extra>",
         "legendgroup": "Nicaragua",
         "marker": {
          "color": "#19d3f3",
          "symbol": "circle"
         },
         "mode": "markers",
         "name": "Nicaragua",
         "orientation": "v",
         "showlegend": true,
         "type": "scatter",
         "x": [
          "Catrenic",
          "SHG",
          "Parainema",
          "Caturra-Catuai",
          "Caturra",
          "Sarchimor",
          "SHG"
         ],
         "xaxis": "x",
         "y": [
          "Natural / Dry",
          "Natural / Dry",
          "Washed / Wet",
          "Washed / Wet",
          "Washed / Wet",
          "Washed / Wet",
          "Natural / Dry"
         ],
         "yaxis": "y"
        },
        {
         "hovertemplate": "country_of_origin=Vietnam<br>variety=%{x}<br>processing_method=%{y}<extra></extra>",
         "legendgroup": "Vietnam",
         "marker": {
          "color": "#FF6692",
          "symbol": "circle"
         },
         "mode": "markers",
         "name": "Vietnam",
         "orientation": "v",
         "showlegend": true,
         "type": "scatter",
         "x": [
          "Catimor",
          "Catimor",
          "Catimor",
          "Catimor"
         ],
         "xaxis": "x",
         "y": [
          "Natural / Dry",
          "Pulped natural / honey",
          "Washed / Wet",
          "Pulped natural / honey"
         ],
         "yaxis": "y"
        },
        {
         "hovertemplate": "country_of_origin=Honduras<br>variety=%{x}<br>processing_method=%{y}<extra></extra>",
         "legendgroup": "Honduras",
         "marker": {
          "color": "#B6E880",
          "symbol": "circle"
         },
         "mode": "markers",
         "name": "Honduras",
         "orientation": "v",
         "showlegend": true,
         "type": "scatter",
         "x": [
          "Catuai",
          "Catuai",
          "Typica",
          "Parainema",
          "SHG",
          "Lempira",
          "Catuai",
          "Catuai",
          "Catuai",
          "Catuai",
          "Catuai",
          "Catuai",
          "Catuai"
         ],
         "xaxis": "x",
         "y": [
          "Washed / Wet",
          "Washed / Wet",
          "Pulped natural / honey",
          "Natural / Dry",
          "Washed / Wet",
          "Washed / Wet",
          "Washed / Wet",
          "Washed / Wet",
          "Washed / Wet",
          "Washed / Wet",
          "Washed / Wet",
          "Washed / Wet",
          "Washed / Wet"
         ],
         "yaxis": "y"
        },
        {
         "hovertemplate": "country_of_origin=El Salvador<br>variety=%{x}<br>processing_method=%{y}<extra></extra>",
         "legendgroup": "El Salvador",
         "marker": {
          "color": "#FF97FF",
          "symbol": "circle"
         },
         "mode": "markers",
         "name": "El Salvador",
         "orientation": "v",
         "showlegend": true,
         "type": "scatter",
         "x": [
          "Pacamara",
          "Bourbon",
          "Bourbon",
          "Bourbon",
          "Bourbon",
          "Pacas",
          "Maragogype"
         ],
         "xaxis": "x",
         "y": [
          "Pulped natural / honey",
          "Washed / Wet",
          "Washed / Wet",
          "Washed / Wet",
          "Natural / Dry",
          "Natural / Dry",
          "Natural / Dry"
         ],
         "yaxis": "y"
        },
        {
         "hovertemplate": "country_of_origin=Madagascar<br>variety=%{x}<br>processing_method=%{y}<extra></extra>",
         "legendgroup": "Madagascar",
         "marker": {
          "color": "#FECB52",
          "symbol": "circle"
         },
         "mode": "markers",
         "name": "Madagascar",
         "orientation": "v",
         "showlegend": true,
         "type": "scatter",
         "x": [
          "Bourbon"
         ],
         "xaxis": "x",
         "y": [
          "Washed / Wet"
         ],
         "yaxis": "y"
        },
        {
         "hovertemplate": "country_of_origin=Mexico<br>variety=%{x}<br>processing_method=%{y}<extra></extra>",
         "legendgroup": "Mexico",
         "marker": {
          "color": "#636efa",
          "symbol": "circle"
         },
         "mode": "markers",
         "name": "Mexico",
         "orientation": "v",
         "showlegend": true,
         "type": "scatter",
         "x": [
          "Sarchimor",
          "Bourbon",
          "Pacamara",
          "Typica"
         ],
         "xaxis": "x",
         "y": [
          "Washed / Wet",
          "Washed / Wet",
          "Washed / Wet",
          "Washed / Wet"
         ],
         "yaxis": "y"
        },
        {
         "hovertemplate": "country_of_origin=Myanmar<br>variety=%{x}<br>processing_method=%{y}<extra></extra>",
         "legendgroup": "Myanmar",
         "marker": {
          "color": "#EF553B",
          "symbol": "circle"
         },
         "mode": "markers",
         "name": "Myanmar",
         "orientation": "v",
         "showlegend": true,
         "type": "scatter",
         "x": [
          "Catimor,Catuai,Caturra,Bourbon"
         ],
         "xaxis": "x",
         "y": [
          "Natural / Dry"
         ],
         "yaxis": "y"
        }
       ],
       "layout": {
        "height": 800,
        "legend": {
         "title": {
          "text": "country_of_origin"
         },
         "tracegroupgap": 0
        },
        "margin": {
         "l": 50
        },
        "template": {
         "data": {
          "bar": [
           {
            "error_x": {
             "color": "#2a3f5f"
            },
            "error_y": {
             "color": "#2a3f5f"
            },
            "marker": {
             "line": {
              "color": "#E5ECF6",
              "width": 0.5
             },
             "pattern": {
              "fillmode": "overlay",
              "size": 10,
              "solidity": 0.2
             }
            },
            "type": "bar"
           }
          ],
          "barpolar": [
           {
            "marker": {
             "line": {
              "color": "#E5ECF6",
              "width": 0.5
             },
             "pattern": {
              "fillmode": "overlay",
              "size": 10,
              "solidity": 0.2
             }
            },
            "type": "barpolar"
           }
          ],
          "carpet": [
           {
            "aaxis": {
             "endlinecolor": "#2a3f5f",
             "gridcolor": "white",
             "linecolor": "white",
             "minorgridcolor": "white",
             "startlinecolor": "#2a3f5f"
            },
            "baxis": {
             "endlinecolor": "#2a3f5f",
             "gridcolor": "white",
             "linecolor": "white",
             "minorgridcolor": "white",
             "startlinecolor": "#2a3f5f"
            },
            "type": "carpet"
           }
          ],
          "choropleth": [
           {
            "colorbar": {
             "outlinewidth": 0,
             "ticks": ""
            },
            "type": "choropleth"
           }
          ],
          "contour": [
           {
            "colorbar": {
             "outlinewidth": 0,
             "ticks": ""
            },
            "colorscale": [
             [
              0,
              "#0d0887"
             ],
             [
              0.1111111111111111,
              "#46039f"
             ],
             [
              0.2222222222222222,
              "#7201a8"
             ],
             [
              0.3333333333333333,
              "#9c179e"
             ],
             [
              0.4444444444444444,
              "#bd3786"
             ],
             [
              0.5555555555555556,
              "#d8576b"
             ],
             [
              0.6666666666666666,
              "#ed7953"
             ],
             [
              0.7777777777777778,
              "#fb9f3a"
             ],
             [
              0.8888888888888888,
              "#fdca26"
             ],
             [
              1,
              "#f0f921"
             ]
            ],
            "type": "contour"
           }
          ],
          "contourcarpet": [
           {
            "colorbar": {
             "outlinewidth": 0,
             "ticks": ""
            },
            "type": "contourcarpet"
           }
          ],
          "heatmap": [
           {
            "colorbar": {
             "outlinewidth": 0,
             "ticks": ""
            },
            "colorscale": [
             [
              0,
              "#0d0887"
             ],
             [
              0.1111111111111111,
              "#46039f"
             ],
             [
              0.2222222222222222,
              "#7201a8"
             ],
             [
              0.3333333333333333,
              "#9c179e"
             ],
             [
              0.4444444444444444,
              "#bd3786"
             ],
             [
              0.5555555555555556,
              "#d8576b"
             ],
             [
              0.6666666666666666,
              "#ed7953"
             ],
             [
              0.7777777777777778,
              "#fb9f3a"
             ],
             [
              0.8888888888888888,
              "#fdca26"
             ],
             [
              1,
              "#f0f921"
             ]
            ],
            "type": "heatmap"
           }
          ],
          "histogram": [
           {
            "marker": {
             "pattern": {
              "fillmode": "overlay",
              "size": 10,
              "solidity": 0.2
             }
            },
            "type": "histogram"
           }
          ],
          "histogram2d": [
           {
            "colorbar": {
             "outlinewidth": 0,
             "ticks": ""
            },
            "colorscale": [
             [
              0,
              "#0d0887"
             ],
             [
              0.1111111111111111,
              "#46039f"
             ],
             [
              0.2222222222222222,
              "#7201a8"
             ],
             [
              0.3333333333333333,
              "#9c179e"
             ],
             [
              0.4444444444444444,
              "#bd3786"
             ],
             [
              0.5555555555555556,
              "#d8576b"
             ],
             [
              0.6666666666666666,
              "#ed7953"
             ],
             [
              0.7777777777777778,
              "#fb9f3a"
             ],
             [
              0.8888888888888888,
              "#fdca26"
             ],
             [
              1,
              "#f0f921"
             ]
            ],
            "type": "histogram2d"
           }
          ],
          "histogram2dcontour": [
           {
            "colorbar": {
             "outlinewidth": 0,
             "ticks": ""
            },
            "colorscale": [
             [
              0,
              "#0d0887"
             ],
             [
              0.1111111111111111,
              "#46039f"
             ],
             [
              0.2222222222222222,
              "#7201a8"
             ],
             [
              0.3333333333333333,
              "#9c179e"
             ],
             [
              0.4444444444444444,
              "#bd3786"
             ],
             [
              0.5555555555555556,
              "#d8576b"
             ],
             [
              0.6666666666666666,
              "#ed7953"
             ],
             [
              0.7777777777777778,
              "#fb9f3a"
             ],
             [
              0.8888888888888888,
              "#fdca26"
             ],
             [
              1,
              "#f0f921"
             ]
            ],
            "type": "histogram2dcontour"
           }
          ],
          "mesh3d": [
           {
            "colorbar": {
             "outlinewidth": 0,
             "ticks": ""
            },
            "type": "mesh3d"
           }
          ],
          "parcoords": [
           {
            "line": {
             "colorbar": {
              "outlinewidth": 0,
              "ticks": ""
             }
            },
            "type": "parcoords"
           }
          ],
          "pie": [
           {
            "automargin": true,
            "type": "pie"
           }
          ],
          "scatter": [
           {
            "fillpattern": {
             "fillmode": "overlay",
             "size": 10,
             "solidity": 0.2
            },
            "type": "scatter"
           }
          ],
          "scatter3d": [
           {
            "line": {
             "colorbar": {
              "outlinewidth": 0,
              "ticks": ""
             }
            },
            "marker": {
             "colorbar": {
              "outlinewidth": 0,
              "ticks": ""
             }
            },
            "type": "scatter3d"
           }
          ],
          "scattercarpet": [
           {
            "marker": {
             "colorbar": {
              "outlinewidth": 0,
              "ticks": ""
             }
            },
            "type": "scattercarpet"
           }
          ],
          "scattergeo": [
           {
            "marker": {
             "colorbar": {
              "outlinewidth": 0,
              "ticks": ""
             }
            },
            "type": "scattergeo"
           }
          ],
          "scattergl": [
           {
            "marker": {
             "colorbar": {
              "outlinewidth": 0,
              "ticks": ""
             }
            },
            "type": "scattergl"
           }
          ],
          "scattermap": [
           {
            "marker": {
             "colorbar": {
              "outlinewidth": 0,
              "ticks": ""
             }
            },
            "type": "scattermap"
           }
          ],
          "scattermapbox": [
           {
            "marker": {
             "colorbar": {
              "outlinewidth": 0,
              "ticks": ""
             }
            },
            "type": "scattermapbox"
           }
          ],
          "scatterpolar": [
           {
            "marker": {
             "colorbar": {
              "outlinewidth": 0,
              "ticks": ""
             }
            },
            "type": "scatterpolar"
           }
          ],
          "scatterpolargl": [
           {
            "marker": {
             "colorbar": {
              "outlinewidth": 0,
              "ticks": ""
             }
            },
            "type": "scatterpolargl"
           }
          ],
          "scatterternary": [
           {
            "marker": {
             "colorbar": {
              "outlinewidth": 0,
              "ticks": ""
             }
            },
            "type": "scatterternary"
           }
          ],
          "surface": [
           {
            "colorbar": {
             "outlinewidth": 0,
             "ticks": ""
            },
            "colorscale": [
             [
              0,
              "#0d0887"
             ],
             [
              0.1111111111111111,
              "#46039f"
             ],
             [
              0.2222222222222222,
              "#7201a8"
             ],
             [
              0.3333333333333333,
              "#9c179e"
             ],
             [
              0.4444444444444444,
              "#bd3786"
             ],
             [
              0.5555555555555556,
              "#d8576b"
             ],
             [
              0.6666666666666666,
              "#ed7953"
             ],
             [
              0.7777777777777778,
              "#fb9f3a"
             ],
             [
              0.8888888888888888,
              "#fdca26"
             ],
             [
              1,
              "#f0f921"
             ]
            ],
            "type": "surface"
           }
          ],
          "table": [
           {
            "cells": {
             "fill": {
              "color": "#EBF0F8"
             },
             "line": {
              "color": "white"
             }
            },
            "header": {
             "fill": {
              "color": "#C8D4E3"
             },
             "line": {
              "color": "white"
             }
            },
            "type": "table"
           }
          ]
         },
         "layout": {
          "annotationdefaults": {
           "arrowcolor": "#2a3f5f",
           "arrowhead": 0,
           "arrowwidth": 1
          },
          "autotypenumbers": "strict",
          "coloraxis": {
           "colorbar": {
            "outlinewidth": 0,
            "ticks": ""
           }
          },
          "colorscale": {
           "diverging": [
            [
             0,
             "#8e0152"
            ],
            [
             0.1,
             "#c51b7d"
            ],
            [
             0.2,
             "#de77ae"
            ],
            [
             0.3,
             "#f1b6da"
            ],
            [
             0.4,
             "#fde0ef"
            ],
            [
             0.5,
             "#f7f7f7"
            ],
            [
             0.6,
             "#e6f5d0"
            ],
            [
             0.7,
             "#b8e186"
            ],
            [
             0.8,
             "#7fbc41"
            ],
            [
             0.9,
             "#4d9221"
            ],
            [
             1,
             "#276419"
            ]
           ],
           "sequential": [
            [
             0,
             "#0d0887"
            ],
            [
             0.1111111111111111,
             "#46039f"
            ],
            [
             0.2222222222222222,
             "#7201a8"
            ],
            [
             0.3333333333333333,
             "#9c179e"
            ],
            [
             0.4444444444444444,
             "#bd3786"
            ],
            [
             0.5555555555555556,
             "#d8576b"
            ],
            [
             0.6666666666666666,
             "#ed7953"
            ],
            [
             0.7777777777777778,
             "#fb9f3a"
            ],
            [
             0.8888888888888888,
             "#fdca26"
            ],
            [
             1,
             "#f0f921"
            ]
           ],
           "sequentialminus": [
            [
             0,
             "#0d0887"
            ],
            [
             0.1111111111111111,
             "#46039f"
            ],
            [
             0.2222222222222222,
             "#7201a8"
            ],
            [
             0.3333333333333333,
             "#9c179e"
            ],
            [
             0.4444444444444444,
             "#bd3786"
            ],
            [
             0.5555555555555556,
             "#d8576b"
            ],
            [
             0.6666666666666666,
             "#ed7953"
            ],
            [
             0.7777777777777778,
             "#fb9f3a"
            ],
            [
             0.8888888888888888,
             "#fdca26"
            ],
            [
             1,
             "#f0f921"
            ]
           ]
          },
          "colorway": [
           "#636efa",
           "#EF553B",
           "#00cc96",
           "#ab63fa",
           "#FFA15A",
           "#19d3f3",
           "#FF6692",
           "#B6E880",
           "#FF97FF",
           "#FECB52"
          ],
          "font": {
           "color": "#2a3f5f"
          },
          "geo": {
           "bgcolor": "white",
           "lakecolor": "white",
           "landcolor": "#E5ECF6",
           "showlakes": true,
           "showland": true,
           "subunitcolor": "white"
          },
          "hoverlabel": {
           "align": "left"
          },
          "hovermode": "closest",
          "mapbox": {
           "style": "light"
          },
          "paper_bgcolor": "white",
          "plot_bgcolor": "#E5ECF6",
          "polar": {
           "angularaxis": {
            "gridcolor": "white",
            "linecolor": "white",
            "ticks": ""
           },
           "bgcolor": "#E5ECF6",
           "radialaxis": {
            "gridcolor": "white",
            "linecolor": "white",
            "ticks": ""
           }
          },
          "scene": {
           "xaxis": {
            "backgroundcolor": "#E5ECF6",
            "gridcolor": "white",
            "gridwidth": 2,
            "linecolor": "white",
            "showbackground": true,
            "ticks": "",
            "zerolinecolor": "white"
           },
           "yaxis": {
            "backgroundcolor": "#E5ECF6",
            "gridcolor": "white",
            "gridwidth": 2,
            "linecolor": "white",
            "showbackground": true,
            "ticks": "",
            "zerolinecolor": "white"
           },
           "zaxis": {
            "backgroundcolor": "#E5ECF6",
            "gridcolor": "white",
            "gridwidth": 2,
            "linecolor": "white",
            "showbackground": true,
            "ticks": "",
            "zerolinecolor": "white"
           }
          },
          "shapedefaults": {
           "line": {
            "color": "#2a3f5f"
           }
          },
          "ternary": {
           "aaxis": {
            "gridcolor": "white",
            "linecolor": "white",
            "ticks": ""
           },
           "baxis": {
            "gridcolor": "white",
            "linecolor": "white",
            "ticks": ""
           },
           "bgcolor": "#E5ECF6",
           "caxis": {
            "gridcolor": "white",
            "linecolor": "white",
            "ticks": ""
           }
          },
          "title": {
           "x": 0.05
          },
          "xaxis": {
           "automargin": true,
           "gridcolor": "white",
           "linecolor": "white",
           "ticks": "",
           "title": {
            "standoff": 15
           },
           "zerolinecolor": "white",
           "zerolinewidth": 2
          },
          "yaxis": {
           "automargin": true,
           "gridcolor": "white",
           "linecolor": "white",
           "ticks": "",
           "title": {
            "standoff": 15
           },
           "zerolinecolor": "white",
           "zerolinewidth": 2
          }
         }
        },
        "title": {
         "text": "Processing Method vs Country of Origin vs Variety"
        },
        "width": 800,
        "xaxis": {
         "anchor": "y",
         "categoryorder": "total ascending",
         "domain": [
          0,
          1
         ],
         "title": {
          "text": "variety"
         }
        },
        "yaxis": {
         "anchor": "x",
         "domain": [
          0,
          1
         ],
         "title": {
          "text": "processing_method"
         }
        }
       }
      }
     },
     "metadata": {},
     "output_type": "display_data"
    }
   ],
   "source": [
    "# plot relationship between 'processing_method' 'country_of_origin' and 'variety'\n",
    "fig = px.scatter(df, x='variety', y='processing_method', color='country_of_origin', title='Processing Method vs Country of Origin vs Variety')\n",
    "fig.update_layout(width=800, height=800, xaxis={'categoryorder':'total ascending'}, margin=go.layout.Margin(l=50))\n",
    "fig.show()"
   ]
  },
  {
   "cell_type": "code",
   "execution_count": 26,
   "metadata": {},
   "outputs": [
    {
     "data": {
      "text/plain": [
       "country_of_origin  variety              \n",
       "Colombia           Castillo Paraguaycito    1\n",
       "                   Caturra                  1\n",
       "Indonesia          Catimor                  1\n",
       "Taiwan             Gesha                    1\n",
       "                   Typica                   1\n",
       "Name: count, dtype: int64"
      ]
     },
     "execution_count": 26,
     "metadata": {},
     "output_type": "execute_result"
    }
   ],
   "source": [
    "# fill missing values in 'processing_method' with the condition of country_of_origin and variety\n",
    "non_processing_method_df = df[df['processing_method'].isnull()]\n",
    "non_processing_method_df[['country_of_origin', 'variety']].value_counts()"
   ]
  },
  {
   "cell_type": "code",
   "execution_count": 27,
   "metadata": {},
   "outputs": [],
   "source": [
    "for index, row in non_processing_method_df.iterrows():\n",
    "    country = row['country_of_origin']\n",
    "    variety = row['variety']\n",
    "    if pd.isnull(variety):\n",
    "        continue\n",
    "    processing_method = df[(df['country_of_origin'] == country) & (df['variety'] == variety)]['processing_method'].mode().values\n",
    "    if len(processing_method) > 0:\n",
    "        df.loc[index, 'processing_method'] = processing_method[0]\n",
    "    else:\n",
    "        variety = df[(df['country_of_origin'] == country)]['processing_method'].mode().values\n",
    "        if len(variety) > 0:\n",
    "            df.loc[index, 'processing_method'] = variety[0]"
   ]
  },
  {
   "cell_type": "code",
   "execution_count": 28,
   "metadata": {},
   "outputs": [
    {
     "data": {
      "text/html": [
       "<div>\n",
       "<style scoped>\n",
       "    .dataframe tbody tr th:only-of-type {\n",
       "        vertical-align: middle;\n",
       "    }\n",
       "\n",
       "    .dataframe tbody tr th {\n",
       "        vertical-align: top;\n",
       "    }\n",
       "\n",
       "    .dataframe thead th {\n",
       "        text-align: right;\n",
       "    }\n",
       "</style>\n",
       "<table border=\"1\" class=\"dataframe\">\n",
       "  <thead>\n",
       "    <tr style=\"text-align: right;\">\n",
       "      <th></th>\n",
       "      <th>country_of_origin</th>\n",
       "      <th>farm_name</th>\n",
       "      <th>lot_number</th>\n",
       "      <th>mill</th>\n",
       "      <th>ico_number</th>\n",
       "      <th>company</th>\n",
       "      <th>altitude</th>\n",
       "      <th>region</th>\n",
       "      <th>producer</th>\n",
       "      <th>number_of_bags</th>\n",
       "      <th>bag_weight</th>\n",
       "      <th>in_country_partner</th>\n",
       "      <th>harvest_year</th>\n",
       "      <th>grading_date</th>\n",
       "      <th>owner</th>\n",
       "      <th>variety</th>\n",
       "      <th>status</th>\n",
       "      <th>processing_method</th>\n",
       "      <th>aroma</th>\n",
       "      <th>flavor</th>\n",
       "      <th>aftertaste</th>\n",
       "      <th>acidity</th>\n",
       "      <th>body</th>\n",
       "      <th>balance</th>\n",
       "      <th>uniformity</th>\n",
       "      <th>clean_cup</th>\n",
       "      <th>sweetness</th>\n",
       "      <th>overall</th>\n",
       "      <th>defects</th>\n",
       "      <th>total_cup_points</th>\n",
       "      <th>moisture_percentage</th>\n",
       "      <th>category_one_defects</th>\n",
       "      <th>quakers</th>\n",
       "      <th>color</th>\n",
       "      <th>category_two_defects</th>\n",
       "      <th>expiration</th>\n",
       "      <th>certification_body</th>\n",
       "      <th>certification_address</th>\n",
       "      <th>certification_contact</th>\n",
       "    </tr>\n",
       "  </thead>\n",
       "  <tbody>\n",
       "  </tbody>\n",
       "</table>\n",
       "</div>"
      ],
      "text/plain": [
       "Empty DataFrame\n",
       "Columns: [country_of_origin, farm_name, lot_number, mill, ico_number, company, altitude, region, producer, number_of_bags, bag_weight, in_country_partner, harvest_year, grading_date, owner, variety, status, processing_method, aroma, flavor, aftertaste, acidity, body, balance, uniformity, clean_cup, sweetness, overall, defects, total_cup_points, moisture_percentage, category_one_defects, quakers, color, category_two_defects, expiration, certification_body, certification_address, certification_contact]\n",
       "Index: []"
      ]
     },
     "execution_count": 28,
     "metadata": {},
     "output_type": "execute_result"
    }
   ],
   "source": [
    "df[df['processing_method'].isnull()]"
   ]
  },
  {
   "cell_type": "code",
   "execution_count": 29,
   "metadata": {},
   "outputs": [
    {
     "data": {
      "text/plain": [
       "country_of_origin                                                Indonesia\n",
       "farm_name                                              Wahana Graha Makmur\n",
       "lot_number                                                    015/1686/057\n",
       "mill                                         PT. Wahana Graha Makmur Medan\n",
       "ico_number                                                           False\n",
       "company                                               InterAmerican Coffee\n",
       "altitude                                                            1350.0\n",
       "region                                                             Sumatra\n",
       "producer                                     PT. Wahana Graha Makmur Group\n",
       "number_of_bags                                                         320\n",
       "bag_weight                                                           60 kg\n",
       "in_country_partner       NKG Quality Service (a division of Bernhard Ro...\n",
       "harvest_year                                                          2022\n",
       "grading_date                                             August 22nd, 2022\n",
       "owner                                                       Charles Umeano\n",
       "variety                                                            Catimor\n",
       "status                                                           Completed\n",
       "processing_method                                   Pulped natural / honey\n",
       "aroma                                                                 7.67\n",
       "flavor                                                                7.33\n",
       "aftertaste                                                            7.25\n",
       "acidity                                                               7.67\n",
       "body                                                                  7.42\n",
       "balance                                                               7.25\n",
       "uniformity                                                            10.0\n",
       "clean_cup                                                             10.0\n",
       "sweetness                                                             10.0\n",
       "overall                                                               7.42\n",
       "defects                                                                0.0\n",
       "total_cup_points                                                      82.0\n",
       "moisture_percentage                                                   12.5\n",
       "category_one_defects                                                     0\n",
       "quakers                                                                  0\n",
       "color                                                         bluish-green\n",
       "category_two_defects                                                     0\n",
       "expiration                                               August 22nd, 2023\n",
       "certification_body       NKG Quality Service (a division of Bernhard Ro...\n",
       "certification_address              Bahnhofstrasse 22 6300 Zug, Switzerland\n",
       "certification_contact                    Tirza Odermatt - +41 41 728 72 81\n",
       "Name: 178, dtype: object"
      ]
     },
     "execution_count": 29,
     "metadata": {},
     "output_type": "execute_result"
    }
   ],
   "source": [
    "df.loc[178, :]"
   ]
  },
  {
   "cell_type": "markdown",
   "metadata": {},
   "source": [
    "### 5. Mill"
   ]
  },
  {
   "cell_type": "markdown",
   "metadata": {},
   "source": [
    "From my search 'mill' refers to facilities where coffee is processed. There are 2 main types\n",
    "- Wet mill\n",
    "- Dry mill\n",
    "\n",
    "\n",
    "mill is the location where processing methods are applied. In this dataset found that 'mill' is likely to refer to location name more than type of mill which I thought that is quite specific. Moreover most of 'mill' data is not in english which made hard to classify mill type so I decided to discard this data. "
   ]
  },
  {
   "cell_type": "code",
   "execution_count": 30,
   "metadata": {},
   "outputs": [
    {
     "name": "stdout",
     "output_type": "stream",
     "text": [
      "['Finca El Paraiso' 'Royal Bean Geisha Estate'\n",
      " 'oklao coffee processing plant' 'La Montana Tarrazu MIll'\n",
      " 'Finca Santuario' 'Dinámica Café' '野牡丹咖啡' '七彩琉璃咖啡莊園' '亮軒咖啡莊園'\n",
      " 'GOURMET COFFEE MILL' 'Moledo社\\u3000委託精選場' 'Cafetoland' '古峰咖啡莊園'\n",
      " 'Dry Mill or Hulling Facility' 'La Gaitania' '青葉咖啡莊園'\n",
      " 'Halo Bariti Cooprative' 'yes' 'El Vergel'\n",
      " '仲大叔咖啡莊園Uncle Chung.s Coffee Farm'\n",
      " 'Machines to peel outer skin of the cherry coffee and coffee is dried manually'\n",
      " 'El Diamante' '永舜咖啡莊園' 'Dry mill' '鄒築園ZouZhouYuan' '嵩岳咖啡莊園' '他扶芽有機農園'\n",
      " 'Kona Coffee & Tea' '鄉庭有機農場Siang-Ting Organic Farm'\n",
      " '金讚咖啡農莊園(Jinzan Coffee Estate)' 'Lata Agri export' 'dry mill'\n",
      " 'GUJI COFFEE EXPORT P.L.C' '卓武山咖啡農場' '御香咖啡園 YU SIANG Coffee Estate' 'NKG'\n",
      " '花蓮縣秀林鄉特用作物（咖啡）產銷第一班Agriculture Production and Marketing Groups of Hualien Shlin township special crop (coffee) 1st class'\n",
      " '乾燥機、脫殼機' '香夾蘭莊園' 'Dry Mill' '愛姬咖啡莊園iGfarm' '青山坪咖啡農場'\n",
      " 'Beneficio Pastores' 'BENEFICIO LAS AMERICAS'\n",
      " 'inmobiliaria e inversiones dos mil, s.a.' '六曲窩' '北平山林' 'PT Indo CafCo'\n",
      " 'no.' 'CITY COFFEE LTD' '優遊吧斯瑪翡咖啡莊園' '森悅高峰咖啡莊園' 'Wet-Hulling' 'La Santa'\n",
      " 'Varios Beneficios' 'ECO COFFEE' 'Beneficio Montañas del Diamante'\n",
      " '羅馬8號莊園' '大鋤花間(Dachu Coffee Estate)'\n",
      " 'Compare Coperativo Condega, Esteli, Nicaragua' '雅慕伊咖啡莊園' '名陽園'\n",
      " 'CupnCare' '苗55咖啡莊園' 'Global Coffee' '5.2Ha' '917農場 (917 Farm)' '皇庭咖啡莊園'\n",
      " nan 'Greenwell' 'Washing Station' 'San Nicolas' 'Trilladora Santa Tirsa'\n",
      " 'Lintong Nihuta/Dolok Sanggul,Sumatera Utara' 'San jose del lago'\n",
      " 'On the farm (mechanical huller and polisher / sorting by hand)' '竹崙子莊園'\n",
      " '元富咖啡莊園' 'El Trèbol/Lìnea Gourmet' 'El Trebol/Linea Gourmet' 'De la casa'\n",
      " 'RAFIKI MILL' 'Beneficio humedo' 'Laumayer Armenia' 'Sube'\n",
      " 'Baan San Charoen' 'Racafé & CIA S.C.A, Km 5 Vía Pereira'\n",
      " 'BENEFICIO SANTA RITA, S. A.' 'Sidama Coffee Farmers Cooperative Union'\n",
      " 'Trilladora Popayán' 'Aloha Hills Kona Coffee' 'La Gallera'\n",
      " 'exportadora de cafe california' 'Aromatic' '恆珊農場'\n",
      " 'Cafe Organic Marcala, S.A. (COMSA)' '正源咖啡' '宋明光\\t蝙蝠洞莊園\\t蝙蝠洞莊園'\n",
      " 'INMOBILIARIA E INVERSIONES DOS MIL, S. A.' 'Beneficio seco'\n",
      " 'Trilladora Pubenza' 'Doi Nan' 'Kawacom' '香香久溢咖啡莊園' '四分子道'\n",
      " 'MI CAFECITO + AGUA SANTA LA PROVIDENCIA + AGUA SANTA' '木華莊園'\n",
      " 'Hulling facility' '東泓咖啡莊園' '棒棒有機農場' 'Buenos Aires'\n",
      " 'COMSA (Cafe Organic Marcala, S.A)' '蜜多莊園' '迎曦山丘' 'Dao Heuang Group'\n",
      " 'CIGRAH' 'CADEXSA' 'NEIVA' '樹橋窩莊園' 'Coatepec, Veracruz' 'La Argentina'\n",
      " 'Beneficio Seco Comsa' 'SIMEXCO DAKLAK LTD' 'Beneficio Atlantic Sébaco'\n",
      " 'Micro mill' 'Federación Nacional de Cafeteros de Colombia' '銅鏡莊園' '掬香園'\n",
      " 'Agua Caliente' 'Finca Lerida' 'COPAG VARGINHA' 'Las Trincheras' '弘欣咖啡園'\n",
      " 'Beneficio Seco Finca Aurora' '寶山謐靚' 'Planta Callao' \"Manny's Farm\"\n",
      " 'TAYLOR WINCH' '金暖農場' '好客農埸' '拉拉山祖嵐咖啡莊園' 'Dosmil'\n",
      " 'Dry Mill of Exportcafe' 'PT. Wahana Graha Makmur Medan'\n",
      " 'MULTIPLE SMALLHOLDER FARMS' '阿拉思家' 'Hulling Facility' 'COCARIVE'\n",
      " 'Owned by producer' 'Trilladora CCA Buga' 'Beneficio La Giorgia' '橫鹿'\n",
      " '大屯29莊園' 'Miramar Coffee' 'Escalera' 'Dry Mill of Cocapil'\n",
      " 'Optimum Coffee, San Salvador, El Salvador' 'Lavado'\n",
      " 'Sajonia Estate Coffee S.A.' 'Finca Mallorca' 'Callao Plant' 'DRY MILL'\n",
      " 'Beneficio humedo/seco']\n"
     ]
    },
    {
     "data": {
      "text/plain": [
       "mill\n",
       "Dry Mill                 0.053922\n",
       "yes                      0.024510\n",
       "Dry mill                 0.019608\n",
       "GOURMET COFFEE MILL      0.019608\n",
       "Agua Caliente            0.014706\n",
       "                           ...   \n",
       "名陽園                      0.004902\n",
       "CupnCare                 0.004902\n",
       "苗55咖啡莊園                  0.004902\n",
       "5.2Ha                    0.004902\n",
       "Beneficio humedo/seco    0.004902\n",
       "Name: proportion, Length: 162, dtype: float64"
      ]
     },
     "execution_count": 30,
     "metadata": {},
     "output_type": "execute_result"
    }
   ],
   "source": [
    "print(df['mill'].unique())\n",
    "\n",
    "df['mill'].value_counts(normalize=True) "
   ]
  },
  {
   "cell_type": "code",
   "execution_count": 31,
   "metadata": {},
   "outputs": [
    {
     "data": {
      "application/vnd.plotly.v1+json": {
       "config": {
        "plotlyServerURL": "https://plot.ly"
       },
       "data": [
        {
         "marker": {
          "color": "blue"
         },
         "type": "bar",
         "x": [
          "Dry Mill",
          "yes",
          "Dry mill",
          "GOURMET COFFEE MILL",
          "Agua Caliente",
          "Optimum Coffee, San Salvador, El Salvador",
          "Beneficio Montañas del Diamante",
          "CIGRAH",
          "CADEXSA",
          "Compare Coperativo Condega, Esteli, Nicaragua",
          "Global Coffee",
          "Coatepec, Veracruz",
          "Beneficio Atlantic Sébaco",
          "inmobiliaria e inversiones dos mil, s.a.",
          "San jose del lago",
          "乾燥機、脫殼機",
          "Planta Callao",
          "Beneficio seco",
          "GUJI COFFEE EXPORT P.L.C",
          "鄉庭有機農場Siang-Ting Organic Farm",
          "Aloha Hills Kona Coffee",
          "La Montana Tarrazu MIll",
          "阿拉思家",
          "COMSA (Cafe Organic Marcala, S.A)",
          "Hulling facility",
          "東泓咖啡莊園",
          "棒棒有機農場",
          "Buenos Aires",
          "Callao Plant",
          "蜜多莊園",
          "MI CAFECITO + AGUA SANTA LA PROVIDENCIA + AGUA SANTA",
          "迎曦山丘",
          "Dao Heuang Group",
          "Finca Mallorca",
          "Sajonia Estate Coffee S.A.",
          "Lavado",
          "Dry Mill of Cocapil",
          "木華莊園",
          "四分子道",
          "MULTIPLE SMALLHOLDER FARMS",
          "香香久溢咖啡莊園",
          "Kawacom",
          "Doi Nan",
          "Trilladora Pubenza",
          "DRY MILL",
          "INMOBILIARIA E INVERSIONES DOS MIL, S. A.",
          "宋明光\t蝙蝠洞莊園\t蝙蝠洞莊園",
          "正源咖啡",
          "Cafe Organic Marcala, S.A. (COMSA)",
          "恆珊農場",
          "Aromatic",
          "exportadora de cafe california",
          "La Gallera",
          "NEIVA",
          "樹橋窩莊園",
          "Escalera",
          "La Argentina",
          "Hulling Facility",
          "PT. Wahana Graha Makmur Medan",
          "Dry Mill of Exportcafe",
          "Dosmil",
          "拉拉山祖嵐咖啡莊園",
          "COCARIVE",
          "好客農埸",
          "金暖農場",
          "TAYLOR WINCH",
          "Owned by producer",
          "Manny's Farm",
          "Trilladora CCA Buga",
          "寶山謐靚",
          "Beneficio Seco Finca Aurora",
          "Beneficio La Giorgia",
          "弘欣咖啡園",
          "橫鹿",
          "Las Trincheras",
          "COPAG VARGINHA",
          "Finca Lerida",
          "Trilladora Popayán",
          "大屯29莊園",
          "掬香園",
          "銅鏡莊園",
          "Federación Nacional de Cafeteros de Colombia",
          "Micro mill",
          "Miramar Coffee",
          "SIMEXCO DAKLAK LTD",
          "Beneficio Seco Comsa",
          "Finca El Paraiso",
          "Beneficio humedo",
          "Sidama Coffee Farmers Cooperative Union",
          "永舜咖啡莊園",
          "嵩岳咖啡莊園",
          "他扶芽有機農園",
          "Kona Coffee & Tea",
          "金讚咖啡農莊園(Jinzan Coffee Estate)",
          "Lata Agri export",
          "dry mill",
          "卓武山咖啡農場",
          "御香咖啡園 YU SIANG Coffee Estate",
          "NKG",
          "花蓮縣秀林鄉特用作物（咖啡）產銷第一班Agriculture Production and Marketing Groups of Hualien Shlin township special crop (coffee) 1st class",
          "香夾蘭莊園",
          "愛姬咖啡莊園iGfarm",
          "青山坪咖啡農場",
          "Beneficio Pastores",
          "BENEFICIO LAS AMERICAS",
          "鄒築園ZouZhouYuan",
          "El Diamante",
          "BENEFICIO SANTA RITA, S. A.",
          "Machines to peel outer skin of the cherry coffee and coffee is dried manually",
          "oklao coffee processing plant",
          "Finca Santuario",
          "Dinámica Café",
          "野牡丹咖啡",
          "七彩琉璃咖啡莊園",
          "亮軒咖啡莊園",
          "Moledo社　委託精選場",
          "Cafetoland",
          "古峰咖啡莊園",
          "Dry Mill or Hulling Facility",
          "La Gaitania",
          "青葉咖啡莊園",
          "Halo Bariti Cooprative",
          "El Vergel",
          "仲大叔咖啡莊園Uncle Chung.s Coffee Farm",
          "六曲窩",
          "北平山林",
          "PT Indo CafCo",
          "no.",
          "San Nicolas",
          "Trilladora Santa Tirsa",
          "Lintong Nihuta/Dolok Sanggul,Sumatera Utara",
          "On the farm (mechanical huller and polisher / sorting by hand)",
          "竹崙子莊園",
          "元富咖啡莊園",
          "El Trèbol/Lìnea Gourmet",
          "El Trebol/Linea Gourmet",
          "De la casa",
          "RAFIKI MILL",
          "Royal Bean Geisha Estate",
          "Laumayer Armenia",
          "Sube",
          "Baan San Charoen",
          "Racafé & CIA S.C.A, Km 5 Vía Pereira",
          "Washing Station",
          "Greenwell",
          "皇庭咖啡莊園",
          "ECO COFFEE",
          "CITY COFFEE LTD",
          "優遊吧斯瑪翡咖啡莊園",
          "森悅高峰咖啡莊園",
          "Wet-Hulling",
          "La Santa",
          "Varios Beneficios",
          "羅馬8號莊園",
          "917農場 (917 Farm)",
          "大鋤花間(Dachu Coffee Estate)",
          "雅慕伊咖啡莊園",
          "名陽園",
          "CupnCare",
          "苗55咖啡莊園",
          "5.2Ha",
          "Beneficio humedo/seco"
         ],
         "y": {
          "bdata": "CwUEBAMDAwMCAgICAgICAgICAgICAgEBAQEBAQEBAQEBAQEBAQEBAQEBAQEBAQEBAQEBAQEBAQEBAQEBAQEBAQEBAQEBAQEBAQEBAQEBAQEBAQEBAQEBAQEBAQEBAQEBAQEBAQEBAQEBAQEBAQEBAQEBAQEBAQEBAQEBAQEBAQEBAQEBAQEBAQEBAQEBAQEBAQEBAQEBAQEBAQEBAQEBAQEB",
          "dtype": "i1"
         }
        }
       ],
       "layout": {
        "template": {
         "data": {
          "bar": [
           {
            "error_x": {
             "color": "#2a3f5f"
            },
            "error_y": {
             "color": "#2a3f5f"
            },
            "marker": {
             "line": {
              "color": "#E5ECF6",
              "width": 0.5
             },
             "pattern": {
              "fillmode": "overlay",
              "size": 10,
              "solidity": 0.2
             }
            },
            "type": "bar"
           }
          ],
          "barpolar": [
           {
            "marker": {
             "line": {
              "color": "#E5ECF6",
              "width": 0.5
             },
             "pattern": {
              "fillmode": "overlay",
              "size": 10,
              "solidity": 0.2
             }
            },
            "type": "barpolar"
           }
          ],
          "carpet": [
           {
            "aaxis": {
             "endlinecolor": "#2a3f5f",
             "gridcolor": "white",
             "linecolor": "white",
             "minorgridcolor": "white",
             "startlinecolor": "#2a3f5f"
            },
            "baxis": {
             "endlinecolor": "#2a3f5f",
             "gridcolor": "white",
             "linecolor": "white",
             "minorgridcolor": "white",
             "startlinecolor": "#2a3f5f"
            },
            "type": "carpet"
           }
          ],
          "choropleth": [
           {
            "colorbar": {
             "outlinewidth": 0,
             "ticks": ""
            },
            "type": "choropleth"
           }
          ],
          "contour": [
           {
            "colorbar": {
             "outlinewidth": 0,
             "ticks": ""
            },
            "colorscale": [
             [
              0,
              "#0d0887"
             ],
             [
              0.1111111111111111,
              "#46039f"
             ],
             [
              0.2222222222222222,
              "#7201a8"
             ],
             [
              0.3333333333333333,
              "#9c179e"
             ],
             [
              0.4444444444444444,
              "#bd3786"
             ],
             [
              0.5555555555555556,
              "#d8576b"
             ],
             [
              0.6666666666666666,
              "#ed7953"
             ],
             [
              0.7777777777777778,
              "#fb9f3a"
             ],
             [
              0.8888888888888888,
              "#fdca26"
             ],
             [
              1,
              "#f0f921"
             ]
            ],
            "type": "contour"
           }
          ],
          "contourcarpet": [
           {
            "colorbar": {
             "outlinewidth": 0,
             "ticks": ""
            },
            "type": "contourcarpet"
           }
          ],
          "heatmap": [
           {
            "colorbar": {
             "outlinewidth": 0,
             "ticks": ""
            },
            "colorscale": [
             [
              0,
              "#0d0887"
             ],
             [
              0.1111111111111111,
              "#46039f"
             ],
             [
              0.2222222222222222,
              "#7201a8"
             ],
             [
              0.3333333333333333,
              "#9c179e"
             ],
             [
              0.4444444444444444,
              "#bd3786"
             ],
             [
              0.5555555555555556,
              "#d8576b"
             ],
             [
              0.6666666666666666,
              "#ed7953"
             ],
             [
              0.7777777777777778,
              "#fb9f3a"
             ],
             [
              0.8888888888888888,
              "#fdca26"
             ],
             [
              1,
              "#f0f921"
             ]
            ],
            "type": "heatmap"
           }
          ],
          "histogram": [
           {
            "marker": {
             "pattern": {
              "fillmode": "overlay",
              "size": 10,
              "solidity": 0.2
             }
            },
            "type": "histogram"
           }
          ],
          "histogram2d": [
           {
            "colorbar": {
             "outlinewidth": 0,
             "ticks": ""
            },
            "colorscale": [
             [
              0,
              "#0d0887"
             ],
             [
              0.1111111111111111,
              "#46039f"
             ],
             [
              0.2222222222222222,
              "#7201a8"
             ],
             [
              0.3333333333333333,
              "#9c179e"
             ],
             [
              0.4444444444444444,
              "#bd3786"
             ],
             [
              0.5555555555555556,
              "#d8576b"
             ],
             [
              0.6666666666666666,
              "#ed7953"
             ],
             [
              0.7777777777777778,
              "#fb9f3a"
             ],
             [
              0.8888888888888888,
              "#fdca26"
             ],
             [
              1,
              "#f0f921"
             ]
            ],
            "type": "histogram2d"
           }
          ],
          "histogram2dcontour": [
           {
            "colorbar": {
             "outlinewidth": 0,
             "ticks": ""
            },
            "colorscale": [
             [
              0,
              "#0d0887"
             ],
             [
              0.1111111111111111,
              "#46039f"
             ],
             [
              0.2222222222222222,
              "#7201a8"
             ],
             [
              0.3333333333333333,
              "#9c179e"
             ],
             [
              0.4444444444444444,
              "#bd3786"
             ],
             [
              0.5555555555555556,
              "#d8576b"
             ],
             [
              0.6666666666666666,
              "#ed7953"
             ],
             [
              0.7777777777777778,
              "#fb9f3a"
             ],
             [
              0.8888888888888888,
              "#fdca26"
             ],
             [
              1,
              "#f0f921"
             ]
            ],
            "type": "histogram2dcontour"
           }
          ],
          "mesh3d": [
           {
            "colorbar": {
             "outlinewidth": 0,
             "ticks": ""
            },
            "type": "mesh3d"
           }
          ],
          "parcoords": [
           {
            "line": {
             "colorbar": {
              "outlinewidth": 0,
              "ticks": ""
             }
            },
            "type": "parcoords"
           }
          ],
          "pie": [
           {
            "automargin": true,
            "type": "pie"
           }
          ],
          "scatter": [
           {
            "fillpattern": {
             "fillmode": "overlay",
             "size": 10,
             "solidity": 0.2
            },
            "type": "scatter"
           }
          ],
          "scatter3d": [
           {
            "line": {
             "colorbar": {
              "outlinewidth": 0,
              "ticks": ""
             }
            },
            "marker": {
             "colorbar": {
              "outlinewidth": 0,
              "ticks": ""
             }
            },
            "type": "scatter3d"
           }
          ],
          "scattercarpet": [
           {
            "marker": {
             "colorbar": {
              "outlinewidth": 0,
              "ticks": ""
             }
            },
            "type": "scattercarpet"
           }
          ],
          "scattergeo": [
           {
            "marker": {
             "colorbar": {
              "outlinewidth": 0,
              "ticks": ""
             }
            },
            "type": "scattergeo"
           }
          ],
          "scattergl": [
           {
            "marker": {
             "colorbar": {
              "outlinewidth": 0,
              "ticks": ""
             }
            },
            "type": "scattergl"
           }
          ],
          "scattermap": [
           {
            "marker": {
             "colorbar": {
              "outlinewidth": 0,
              "ticks": ""
             }
            },
            "type": "scattermap"
           }
          ],
          "scattermapbox": [
           {
            "marker": {
             "colorbar": {
              "outlinewidth": 0,
              "ticks": ""
             }
            },
            "type": "scattermapbox"
           }
          ],
          "scatterpolar": [
           {
            "marker": {
             "colorbar": {
              "outlinewidth": 0,
              "ticks": ""
             }
            },
            "type": "scatterpolar"
           }
          ],
          "scatterpolargl": [
           {
            "marker": {
             "colorbar": {
              "outlinewidth": 0,
              "ticks": ""
             }
            },
            "type": "scatterpolargl"
           }
          ],
          "scatterternary": [
           {
            "marker": {
             "colorbar": {
              "outlinewidth": 0,
              "ticks": ""
             }
            },
            "type": "scatterternary"
           }
          ],
          "surface": [
           {
            "colorbar": {
             "outlinewidth": 0,
             "ticks": ""
            },
            "colorscale": [
             [
              0,
              "#0d0887"
             ],
             [
              0.1111111111111111,
              "#46039f"
             ],
             [
              0.2222222222222222,
              "#7201a8"
             ],
             [
              0.3333333333333333,
              "#9c179e"
             ],
             [
              0.4444444444444444,
              "#bd3786"
             ],
             [
              0.5555555555555556,
              "#d8576b"
             ],
             [
              0.6666666666666666,
              "#ed7953"
             ],
             [
              0.7777777777777778,
              "#fb9f3a"
             ],
             [
              0.8888888888888888,
              "#fdca26"
             ],
             [
              1,
              "#f0f921"
             ]
            ],
            "type": "surface"
           }
          ],
          "table": [
           {
            "cells": {
             "fill": {
              "color": "#EBF0F8"
             },
             "line": {
              "color": "white"
             }
            },
            "header": {
             "fill": {
              "color": "#C8D4E3"
             },
             "line": {
              "color": "white"
             }
            },
            "type": "table"
           }
          ]
         },
         "layout": {
          "annotationdefaults": {
           "arrowcolor": "#2a3f5f",
           "arrowhead": 0,
           "arrowwidth": 1
          },
          "autotypenumbers": "strict",
          "coloraxis": {
           "colorbar": {
            "outlinewidth": 0,
            "ticks": ""
           }
          },
          "colorscale": {
           "diverging": [
            [
             0,
             "#8e0152"
            ],
            [
             0.1,
             "#c51b7d"
            ],
            [
             0.2,
             "#de77ae"
            ],
            [
             0.3,
             "#f1b6da"
            ],
            [
             0.4,
             "#fde0ef"
            ],
            [
             0.5,
             "#f7f7f7"
            ],
            [
             0.6,
             "#e6f5d0"
            ],
            [
             0.7,
             "#b8e186"
            ],
            [
             0.8,
             "#7fbc41"
            ],
            [
             0.9,
             "#4d9221"
            ],
            [
             1,
             "#276419"
            ]
           ],
           "sequential": [
            [
             0,
             "#0d0887"
            ],
            [
             0.1111111111111111,
             "#46039f"
            ],
            [
             0.2222222222222222,
             "#7201a8"
            ],
            [
             0.3333333333333333,
             "#9c179e"
            ],
            [
             0.4444444444444444,
             "#bd3786"
            ],
            [
             0.5555555555555556,
             "#d8576b"
            ],
            [
             0.6666666666666666,
             "#ed7953"
            ],
            [
             0.7777777777777778,
             "#fb9f3a"
            ],
            [
             0.8888888888888888,
             "#fdca26"
            ],
            [
             1,
             "#f0f921"
            ]
           ],
           "sequentialminus": [
            [
             0,
             "#0d0887"
            ],
            [
             0.1111111111111111,
             "#46039f"
            ],
            [
             0.2222222222222222,
             "#7201a8"
            ],
            [
             0.3333333333333333,
             "#9c179e"
            ],
            [
             0.4444444444444444,
             "#bd3786"
            ],
            [
             0.5555555555555556,
             "#d8576b"
            ],
            [
             0.6666666666666666,
             "#ed7953"
            ],
            [
             0.7777777777777778,
             "#fb9f3a"
            ],
            [
             0.8888888888888888,
             "#fdca26"
            ],
            [
             1,
             "#f0f921"
            ]
           ]
          },
          "colorway": [
           "#636efa",
           "#EF553B",
           "#00cc96",
           "#ab63fa",
           "#FFA15A",
           "#19d3f3",
           "#FF6692",
           "#B6E880",
           "#FF97FF",
           "#FECB52"
          ],
          "font": {
           "color": "#2a3f5f"
          },
          "geo": {
           "bgcolor": "white",
           "lakecolor": "white",
           "landcolor": "#E5ECF6",
           "showlakes": true,
           "showland": true,
           "subunitcolor": "white"
          },
          "hoverlabel": {
           "align": "left"
          },
          "hovermode": "closest",
          "mapbox": {
           "style": "light"
          },
          "paper_bgcolor": "white",
          "plot_bgcolor": "#E5ECF6",
          "polar": {
           "angularaxis": {
            "gridcolor": "white",
            "linecolor": "white",
            "ticks": ""
           },
           "bgcolor": "#E5ECF6",
           "radialaxis": {
            "gridcolor": "white",
            "linecolor": "white",
            "ticks": ""
           }
          },
          "scene": {
           "xaxis": {
            "backgroundcolor": "#E5ECF6",
            "gridcolor": "white",
            "gridwidth": 2,
            "linecolor": "white",
            "showbackground": true,
            "ticks": "",
            "zerolinecolor": "white"
           },
           "yaxis": {
            "backgroundcolor": "#E5ECF6",
            "gridcolor": "white",
            "gridwidth": 2,
            "linecolor": "white",
            "showbackground": true,
            "ticks": "",
            "zerolinecolor": "white"
           },
           "zaxis": {
            "backgroundcolor": "#E5ECF6",
            "gridcolor": "white",
            "gridwidth": 2,
            "linecolor": "white",
            "showbackground": true,
            "ticks": "",
            "zerolinecolor": "white"
           }
          },
          "shapedefaults": {
           "line": {
            "color": "#2a3f5f"
           }
          },
          "ternary": {
           "aaxis": {
            "gridcolor": "white",
            "linecolor": "white",
            "ticks": ""
           },
           "baxis": {
            "gridcolor": "white",
            "linecolor": "white",
            "ticks": ""
           },
           "bgcolor": "#E5ECF6",
           "caxis": {
            "gridcolor": "white",
            "linecolor": "white",
            "ticks": ""
           }
          },
          "title": {
           "x": 0.05
          },
          "xaxis": {
           "automargin": true,
           "gridcolor": "white",
           "linecolor": "white",
           "ticks": "",
           "title": {
            "standoff": 15
           },
           "zerolinecolor": "white",
           "zerolinewidth": 2
          },
          "yaxis": {
           "automargin": true,
           "gridcolor": "white",
           "linecolor": "white",
           "ticks": "",
           "title": {
            "standoff": 15
           },
           "zerolinecolor": "white",
           "zerolinewidth": 2
          }
         }
        },
        "title": {
         "text": "Mill Distribution"
        },
        "xaxis": {
         "title": {
          "text": "Mill"
         }
        },
        "yaxis": {
         "title": {
          "text": "Count"
         }
        }
       }
      }
     },
     "metadata": {},
     "output_type": "display_data"
    }
   ],
   "source": [
    "# plot bar chart for mill\n",
    "fig = go.Figure()\n",
    "# bar plot\n",
    "fig.add_trace(go.Bar(x=df['mill'].value_counts().index, y=df['mill'].value_counts().values, marker_color='blue',))\n",
    "fig.update_layout(title='Mill Distribution', xaxis_title='Mill', yaxis_title='Count')\n",
    "fig.show()"
   ]
  },
  {
   "cell_type": "code",
   "execution_count": 32,
   "metadata": {},
   "outputs": [
    {
     "name": "stdout",
     "output_type": "stream",
     "text": [
      "mill_lang\n",
      "other    0.743961\n",
      "en       0.256039\n",
      "Name: proportion, dtype: float64\n",
      "\n",
      "Data in 'mill' column that is not in English: 74.40%\n",
      "Data in 'mill' column that is in English: 25.60%\n"
     ]
    }
   ],
   "source": [
    "from langdetect import detect_langs\n",
    "\n",
    "def detect_language(text):\n",
    "    try:\n",
    "        return detect_langs(text)[0].lang\n",
    "    except Exception as e:\n",
    "        return 'unknown'\n",
    "\n",
    "# detect language of the 'mill' column\n",
    "df_mill = df[['mill']].copy()\n",
    "df_mill['mill_lang'] = df_mill['mill'].apply(detect_language)\n",
    "# if mill_lang != 'en' then replace with 'other'\n",
    "df_mill.loc[df_mill['mill_lang'] != 'en', 'mill_lang'] = 'other'\n",
    "print(df_mill['mill_lang'].value_counts(normalize=True))\n",
    "print(f\"\\nData in 'mill' column that is not in English: {df_mill['mill_lang'].value_counts(normalize=True)['other']:.2%}\")\n",
    "print(f\"Data in 'mill' column that is in English: {df_mill['mill_lang'].value_counts(normalize=True)['en']:.2%}\")"
   ]
  },
  {
   "cell_type": "markdown",
   "metadata": {},
   "source": [
    "### 6. Farm Name"
   ]
  },
  {
   "cell_type": "markdown",
   "metadata": {},
   "source": [
    "The same reason with 'mill' that 'farm_name' data consisting of specific name and most of them is not in english moreover their most frequent name contain only ~3% of total data so I decided to not consider this field to be one of feature."
   ]
  },
  {
   "cell_type": "code",
   "execution_count": 33,
   "metadata": {},
   "outputs": [
    {
     "name": "stdout",
     "output_type": "stream",
     "text": [
      "['Finca El Paraiso' 'Royal Bean Geisha Estate' 'OKLAO coffee farms'\n",
      " 'La Cumbre' 'Finca Santuario' 'La Colina'\n",
      " '野牡丹咖啡莊園 Melastoma Coffee Estate'\n",
      " '七彩琉璃咖啡莊園 Chi Tsai Liu Li Ecological Farm'\n",
      " '亮軒咖啡莊園 Liang Xuan Coffee Farm' 'MASHIMA AMCOS' 'TADE GG'\n",
      " 'Karen Acajabon Coffee Farm' '古峰咖啡莊園 Goodfun Coffee Farm' 'Gelana Geisha'\n",
      " 'La Gaitania' '青葉咖啡莊園' 'Halo Bariti Cooprative' '東璧咖啡莊園' '櫻桃果古坑咖啡莊園'\n",
      " 'BURKA' 'Finca Vista Hermosa' '仲大叔咖啡莊園Uncle Chung.s Coffee Farm'\n",
      " 'Hom Doi' 'El Diamante' '永舜咖啡莊園' 'Fazenda Recreio' '鄒築園ZouZhouYuan'\n",
      " '嵩岳咖啡莊園' '他扶芽有機農園' 'Hokukano Ranch' '鄉庭有機農場Siang-Ting Organic Farm'\n",
      " '金讚咖啡農莊園(Jinzan Coffee Estate)' 'Eshetu farm'\n",
      " 'Uraga Bisrat washing station' 'YHAENU PLC FARM' '卓武山咖啡農場'\n",
      " '御香咖啡園 YU SIANG Coffee Estate' 'Small Holder' '皇庭咖啡莊園'\n",
      " '花蓮縣秀林鄉特用作物（咖啡）產銷第一班Agriculture Production and Marketing Groups of Hualien Shlin township special crop (coffee) 1st class'\n",
      " '八一高地' '香夾蘭莊園' 'Gideon Kule' '愛姬咖啡莊園iGfarm' '青山坪咖啡農場' 'varias fincas'\n",
      " 'PEÑA BLANCA' 'san francisco cotzal' '六曲窩' '北平山林'\n",
      " 'PT Indo CafCo North Sumatera' 'Ruya Yayu Farm' 'IYENGA' '優遊吧斯瑪翡咖啡莊園'\n",
      " '森悅高峰咖啡莊園' 'Fazenda Guariroba' 'La Santa' '嵐雲綠海咖啡' 'Varias Fincas'\n",
      " 'SAN RAFAEL URIAS VALDES' 'Gamboa Farm' '羅馬8號莊園'\n",
      " '大鋤花間(Dachu Coffee Estate)' 'Finca Las Dos Marias' '雅慕伊咖啡莊園' '名陽園'\n",
      " 'CupnCare' '苗55咖啡莊園' 'La Cuchilla' 'TRACON TRADING PLC'\n",
      " '917農場 (917 Farm)' 'Finca Alta Luz' \"Miranda's Farm\"\n",
      " 'Bisrat Melaku Washing Station' 'San Nicolas' 'Asociacion Tayronaca'\n",
      " 'Lintong Nihuta/Dolok Sanggul,Sumatera Utara' 'San jose del lago'\n",
      " 'Mandroso' '竹崙子莊園' '元富咖啡莊園' 'finca de la casa' 'KONGONI ESTATE'\n",
      " 'Ecom Agroindustrial' 'COO' 'El Morito' 'Baan San Charoen' nan\n",
      " 'FINCA ALTA LUZ' 'Gerbicho Lela Cooperative' 'N / A' 'various farms'\n",
      " 'La Gallera' 'Finca Custepec' 'Aromatic' '恆珊農場' 'Maria Bonita' '正源咖啡'\n",
      " '宋明光\\t蝙蝠洞莊園\\t蝙蝠洞莊園' 'SAN FRANCISCO COTZAL' 'varias' 'La fortaleza'\n",
      " 'Doi Tung Development Project' 'Doi Nan' 'Bugisu Shamba' '香香久溢咖啡莊園'\n",
      " 'Masereka William' '四分子道' 'MI CAFECITO & LA PROVIDENCIA' '木華莊園'\n",
      " 'El Laurel' '東泓咖啡莊園' 'Fazenda Conquista e Capoeirinha' '棒棒有機農場'\n",
      " 'Buenos Aires' 'La Bendicion' '蜜多莊園' '迎曦山丘' 'Nongluang Bolaven Plateau'\n",
      " 'Bethel' 'EL PRADO' '樹橋窩莊園' 'Finca Tequihua' 'La Argentina' 'Varias'\n",
      " 'Ea tan Cooperative' 'Finca San Felipe'\n",
      " 'AMA EL AROMA Micro lot - Sunrise'\n",
      " 'Federación Nacional de Cafeteros de Colombia' 'Kevin Coffee' '銅鏡莊園'\n",
      " '掬香園' 'Agua Caliente' 'Finca Lerida' 'Fazenda Pedra Preta'\n",
      " 'Kainaliu Farm' 'Las Trincheras' '弘欣咖啡園' 'Finca Aurora' 'Apollo Estate'\n",
      " '寶山謐靚' 'Fundo La Libertado' \"Manny's Farm\" 'Kenyan Highlands' '金暖農場'\n",
      " '好客農埸' '拉拉山祖嵐咖啡莊園' 'San Diego Mill' 'Not Specificated'\n",
      " 'Wahana Graha Makmur' 'Fundo La Libertad' 'MULTIPLE SMALLHOLDER FARMS'\n",
      " '阿拉思家' 'Gaia Farms' 'Sitio Colinas' 'Fazenda Olhos Dagua' 'More than one'\n",
      " 'Finca San José' 'HACIENDA SAN IGNACIO' '橫鹿' '大屯29莊園' 'Doi Lan'\n",
      " 'Escalera' 'Various farm' 'Rosario de Maria II, Area de Loma Alta'\n",
      " 'EXPORTADORA ATLANTIC S.A' 'Sajonia Estate Coffee S.A.' 'Finca Mallorca'\n",
      " 'Rosario de Maria II, Area de Menjivar' 'Fazenda Conquista' '-'\n",
      " 'Rosario de Maria II, Area de La Pila' 'Walter Matter']\n"
     ]
    },
    {
     "data": {
      "text/plain": [
       "farm_name\n",
       "Doi Tung Development Project    0.034146\n",
       "La Cuchilla                     0.024390\n",
       "Gamboa Farm                     0.014634\n",
       "Agua Caliente                   0.014634\n",
       "MASHIMA AMCOS                   0.014634\n",
       "                                  ...   \n",
       "名陽園                             0.004878\n",
       "CupnCare                        0.004878\n",
       "苗55咖啡莊園                         0.004878\n",
       "TRACON TRADING PLC              0.004878\n",
       "Walter Matter                   0.004878\n",
       "Name: proportion, Length: 172, dtype: float64"
      ]
     },
     "execution_count": 33,
     "metadata": {},
     "output_type": "execute_result"
    }
   ],
   "source": [
    "print(df['farm_name'].unique())\n",
    "\n",
    "df['farm_name'].value_counts(normalize=True)"
   ]
  },
  {
   "cell_type": "code",
   "execution_count": 34,
   "metadata": {},
   "outputs": [
    {
     "data": {
      "application/vnd.plotly.v1+json": {
       "config": {
        "plotlyServerURL": "https://plot.ly"
       },
       "data": [
        {
         "marker": {
          "color": "blue"
         },
         "type": "bar",
         "x": [
          "Doi Tung Development Project",
          "La Cuchilla",
          "Gamboa Farm",
          "Agua Caliente",
          "MASHIMA AMCOS",
          "varias fincas",
          "鄉庭有機農場Siang-Ting Organic Farm",
          "嵩岳咖啡莊園",
          "YHAENU PLC FARM",
          "永舜咖啡莊園",
          "Bethel",
          "皇庭咖啡莊園",
          "San jose del lago",
          "Finca Las Dos Marias",
          "Fundo La Libertad",
          "SAN RAFAEL URIAS VALDES",
          "Various farm",
          "varias",
          "san francisco cotzal",
          "Finca San Felipe",
          "La Cumbre",
          "La Argentina",
          "Finca Tequihua",
          "Varias",
          "Ea tan Cooperative",
          "樹橋窩莊園",
          "EL PRADO",
          "Nongluang Bolaven Plateau",
          "AMA EL AROMA Micro lot - Sunrise",
          "迎曦山丘",
          "Finca El Paraiso",
          "蜜多莊園",
          "Masereka William",
          "Maria Bonita",
          "正源咖啡",
          "宋明光\t蝙蝠洞莊園\t蝙蝠洞莊園",
          "SAN FRANCISCO COTZAL",
          "La fortaleza",
          "Doi Nan",
          "Bugisu Shamba",
          "香香久溢咖啡莊園",
          "四分子道",
          "La Bendicion",
          "MI CAFECITO & LA PROVIDENCIA",
          "木華莊園",
          "El Laurel",
          "東泓咖啡莊園",
          "Fazenda Conquista e Capoeirinha",
          "棒棒有機農場",
          "Buenos Aires",
          "Kevin Coffee",
          "Federación Nacional de Cafeteros de Colombia",
          "Kainaliu Farm",
          "銅鏡莊園",
          "掬香園",
          "Sitio Colinas",
          "Fazenda Olhos Dagua",
          "More than one",
          "Finca San José",
          "HACIENDA SAN IGNACIO",
          "橫鹿",
          "大屯29莊園",
          "Doi Lan",
          "Escalera",
          "Rosario de Maria II, Area de Loma Alta",
          "EXPORTADORA ATLANTIC S.A",
          "Sajonia Estate Coffee S.A.",
          "Finca Mallorca",
          "Rosario de Maria II, Area de Menjivar",
          "Fazenda Conquista",
          "-",
          "Rosario de Maria II, Area de La Pila",
          "Gaia Farms",
          "阿拉思家",
          "MULTIPLE SMALLHOLDER FARMS",
          "寶山謐靚",
          "Finca Lerida",
          "Fazenda Pedra Preta",
          "Aromatic",
          "Las Trincheras",
          "弘欣咖啡園",
          "Finca Aurora",
          "Apollo Estate",
          "Fundo La Libertado",
          "Wahana Graha Makmur",
          "Manny's Farm",
          "Kenyan Highlands",
          "金暖農場",
          "好客農埸",
          "拉拉山祖嵐咖啡莊園",
          "San Diego Mill",
          "Not Specificated",
          "恆珊農場",
          "Baan San Charoen",
          "Finca Custepec",
          "卓武山咖啡農場",
          "Fazenda Recreio",
          "鄒築園ZouZhouYuan",
          "他扶芽有機農園",
          "Hokukano Ranch",
          "金讚咖啡農莊園(Jinzan Coffee Estate)",
          "Eshetu farm",
          "Uraga Bisrat washing station",
          "御香咖啡園 YU SIANG Coffee Estate",
          "Hom Doi",
          "Small Holder",
          "花蓮縣秀林鄉特用作物（咖啡）產銷第一班Agriculture Production and Marketing Groups of Hualien Shlin township special crop (coffee) 1st class",
          "八一高地",
          "香夾蘭莊園",
          "Gideon Kule",
          "愛姬咖啡莊園iGfarm",
          "青山坪咖啡農場",
          "El Diamante",
          "仲大叔咖啡莊園Uncle Chung.s Coffee Farm",
          "La Gallera",
          "Karen Acajabon Coffee Farm",
          "OKLAO coffee farms",
          "Finca Santuario",
          "La Colina",
          "野牡丹咖啡莊園 Melastoma Coffee Estate",
          "七彩琉璃咖啡莊園 Chi Tsai Liu Li Ecological Farm",
          "亮軒咖啡莊園 Liang Xuan Coffee Farm",
          "TADE GG",
          "古峰咖啡莊園 Goodfun Coffee Farm",
          "Finca Vista Hermosa",
          "Gelana Geisha",
          "La Gaitania",
          "青葉咖啡莊園",
          "Halo Bariti Cooprative",
          "東璧咖啡莊園",
          "櫻桃果古坑咖啡莊園",
          "BURKA",
          "PEÑA BLANCA",
          "六曲窩",
          "北平山林",
          "KONGONI ESTATE",
          "San Nicolas",
          "Asociacion Tayronaca",
          "Lintong Nihuta/Dolok Sanggul,Sumatera Utara",
          "Mandroso",
          "竹崙子莊園",
          "元富咖啡莊園",
          "finca de la casa",
          "Ecom Agroindustrial",
          "PT Indo CafCo North Sumatera",
          "COO",
          "El Morito",
          "Royal Bean Geisha Estate",
          "FINCA ALTA LUZ",
          "Gerbicho Lela Cooperative",
          "N / A",
          "various farms",
          "Bisrat Melaku Washing Station",
          "Miranda's Farm",
          "Finca Alta Luz",
          "917農場 (917 Farm)",
          "Ruya Yayu Farm",
          "IYENGA",
          "優遊吧斯瑪翡咖啡莊園",
          "森悅高峰咖啡莊園",
          "Fazenda Guariroba",
          "La Santa",
          "嵐雲綠海咖啡",
          "Varias Fincas",
          "羅馬8號莊園",
          "大鋤花間(Dachu Coffee Estate)",
          "雅慕伊咖啡莊園",
          "名陽園",
          "CupnCare",
          "苗55咖啡莊園",
          "TRACON TRADING PLC",
          "Walter Matter"
         ],
         "y": {
          "bdata": "BwUDAwMDAgICAgICAgICAgICAgICAQEBAQEBAQEBAQEBAQEBAQEBAQEBAQEBAQEBAQEBAQEBAQEBAQEBAQEBAQEBAQEBAQEBAQEBAQEBAQEBAQEBAQEBAQEBAQEBAQEBAQEBAQEBAQEBAQEBAQEBAQEBAQEBAQEBAQEBAQEBAQEBAQEBAQEBAQEBAQEBAQEBAQEBAQEBAQEBAQEBAQEBAQEBAQEBAQEBAQEBAQ==",
          "dtype": "i1"
         }
        }
       ],
       "layout": {
        "template": {
         "data": {
          "bar": [
           {
            "error_x": {
             "color": "#2a3f5f"
            },
            "error_y": {
             "color": "#2a3f5f"
            },
            "marker": {
             "line": {
              "color": "#E5ECF6",
              "width": 0.5
             },
             "pattern": {
              "fillmode": "overlay",
              "size": 10,
              "solidity": 0.2
             }
            },
            "type": "bar"
           }
          ],
          "barpolar": [
           {
            "marker": {
             "line": {
              "color": "#E5ECF6",
              "width": 0.5
             },
             "pattern": {
              "fillmode": "overlay",
              "size": 10,
              "solidity": 0.2
             }
            },
            "type": "barpolar"
           }
          ],
          "carpet": [
           {
            "aaxis": {
             "endlinecolor": "#2a3f5f",
             "gridcolor": "white",
             "linecolor": "white",
             "minorgridcolor": "white",
             "startlinecolor": "#2a3f5f"
            },
            "baxis": {
             "endlinecolor": "#2a3f5f",
             "gridcolor": "white",
             "linecolor": "white",
             "minorgridcolor": "white",
             "startlinecolor": "#2a3f5f"
            },
            "type": "carpet"
           }
          ],
          "choropleth": [
           {
            "colorbar": {
             "outlinewidth": 0,
             "ticks": ""
            },
            "type": "choropleth"
           }
          ],
          "contour": [
           {
            "colorbar": {
             "outlinewidth": 0,
             "ticks": ""
            },
            "colorscale": [
             [
              0,
              "#0d0887"
             ],
             [
              0.1111111111111111,
              "#46039f"
             ],
             [
              0.2222222222222222,
              "#7201a8"
             ],
             [
              0.3333333333333333,
              "#9c179e"
             ],
             [
              0.4444444444444444,
              "#bd3786"
             ],
             [
              0.5555555555555556,
              "#d8576b"
             ],
             [
              0.6666666666666666,
              "#ed7953"
             ],
             [
              0.7777777777777778,
              "#fb9f3a"
             ],
             [
              0.8888888888888888,
              "#fdca26"
             ],
             [
              1,
              "#f0f921"
             ]
            ],
            "type": "contour"
           }
          ],
          "contourcarpet": [
           {
            "colorbar": {
             "outlinewidth": 0,
             "ticks": ""
            },
            "type": "contourcarpet"
           }
          ],
          "heatmap": [
           {
            "colorbar": {
             "outlinewidth": 0,
             "ticks": ""
            },
            "colorscale": [
             [
              0,
              "#0d0887"
             ],
             [
              0.1111111111111111,
              "#46039f"
             ],
             [
              0.2222222222222222,
              "#7201a8"
             ],
             [
              0.3333333333333333,
              "#9c179e"
             ],
             [
              0.4444444444444444,
              "#bd3786"
             ],
             [
              0.5555555555555556,
              "#d8576b"
             ],
             [
              0.6666666666666666,
              "#ed7953"
             ],
             [
              0.7777777777777778,
              "#fb9f3a"
             ],
             [
              0.8888888888888888,
              "#fdca26"
             ],
             [
              1,
              "#f0f921"
             ]
            ],
            "type": "heatmap"
           }
          ],
          "histogram": [
           {
            "marker": {
             "pattern": {
              "fillmode": "overlay",
              "size": 10,
              "solidity": 0.2
             }
            },
            "type": "histogram"
           }
          ],
          "histogram2d": [
           {
            "colorbar": {
             "outlinewidth": 0,
             "ticks": ""
            },
            "colorscale": [
             [
              0,
              "#0d0887"
             ],
             [
              0.1111111111111111,
              "#46039f"
             ],
             [
              0.2222222222222222,
              "#7201a8"
             ],
             [
              0.3333333333333333,
              "#9c179e"
             ],
             [
              0.4444444444444444,
              "#bd3786"
             ],
             [
              0.5555555555555556,
              "#d8576b"
             ],
             [
              0.6666666666666666,
              "#ed7953"
             ],
             [
              0.7777777777777778,
              "#fb9f3a"
             ],
             [
              0.8888888888888888,
              "#fdca26"
             ],
             [
              1,
              "#f0f921"
             ]
            ],
            "type": "histogram2d"
           }
          ],
          "histogram2dcontour": [
           {
            "colorbar": {
             "outlinewidth": 0,
             "ticks": ""
            },
            "colorscale": [
             [
              0,
              "#0d0887"
             ],
             [
              0.1111111111111111,
              "#46039f"
             ],
             [
              0.2222222222222222,
              "#7201a8"
             ],
             [
              0.3333333333333333,
              "#9c179e"
             ],
             [
              0.4444444444444444,
              "#bd3786"
             ],
             [
              0.5555555555555556,
              "#d8576b"
             ],
             [
              0.6666666666666666,
              "#ed7953"
             ],
             [
              0.7777777777777778,
              "#fb9f3a"
             ],
             [
              0.8888888888888888,
              "#fdca26"
             ],
             [
              1,
              "#f0f921"
             ]
            ],
            "type": "histogram2dcontour"
           }
          ],
          "mesh3d": [
           {
            "colorbar": {
             "outlinewidth": 0,
             "ticks": ""
            },
            "type": "mesh3d"
           }
          ],
          "parcoords": [
           {
            "line": {
             "colorbar": {
              "outlinewidth": 0,
              "ticks": ""
             }
            },
            "type": "parcoords"
           }
          ],
          "pie": [
           {
            "automargin": true,
            "type": "pie"
           }
          ],
          "scatter": [
           {
            "fillpattern": {
             "fillmode": "overlay",
             "size": 10,
             "solidity": 0.2
            },
            "type": "scatter"
           }
          ],
          "scatter3d": [
           {
            "line": {
             "colorbar": {
              "outlinewidth": 0,
              "ticks": ""
             }
            },
            "marker": {
             "colorbar": {
              "outlinewidth": 0,
              "ticks": ""
             }
            },
            "type": "scatter3d"
           }
          ],
          "scattercarpet": [
           {
            "marker": {
             "colorbar": {
              "outlinewidth": 0,
              "ticks": ""
             }
            },
            "type": "scattercarpet"
           }
          ],
          "scattergeo": [
           {
            "marker": {
             "colorbar": {
              "outlinewidth": 0,
              "ticks": ""
             }
            },
            "type": "scattergeo"
           }
          ],
          "scattergl": [
           {
            "marker": {
             "colorbar": {
              "outlinewidth": 0,
              "ticks": ""
             }
            },
            "type": "scattergl"
           }
          ],
          "scattermap": [
           {
            "marker": {
             "colorbar": {
              "outlinewidth": 0,
              "ticks": ""
             }
            },
            "type": "scattermap"
           }
          ],
          "scattermapbox": [
           {
            "marker": {
             "colorbar": {
              "outlinewidth": 0,
              "ticks": ""
             }
            },
            "type": "scattermapbox"
           }
          ],
          "scatterpolar": [
           {
            "marker": {
             "colorbar": {
              "outlinewidth": 0,
              "ticks": ""
             }
            },
            "type": "scatterpolar"
           }
          ],
          "scatterpolargl": [
           {
            "marker": {
             "colorbar": {
              "outlinewidth": 0,
              "ticks": ""
             }
            },
            "type": "scatterpolargl"
           }
          ],
          "scatterternary": [
           {
            "marker": {
             "colorbar": {
              "outlinewidth": 0,
              "ticks": ""
             }
            },
            "type": "scatterternary"
           }
          ],
          "surface": [
           {
            "colorbar": {
             "outlinewidth": 0,
             "ticks": ""
            },
            "colorscale": [
             [
              0,
              "#0d0887"
             ],
             [
              0.1111111111111111,
              "#46039f"
             ],
             [
              0.2222222222222222,
              "#7201a8"
             ],
             [
              0.3333333333333333,
              "#9c179e"
             ],
             [
              0.4444444444444444,
              "#bd3786"
             ],
             [
              0.5555555555555556,
              "#d8576b"
             ],
             [
              0.6666666666666666,
              "#ed7953"
             ],
             [
              0.7777777777777778,
              "#fb9f3a"
             ],
             [
              0.8888888888888888,
              "#fdca26"
             ],
             [
              1,
              "#f0f921"
             ]
            ],
            "type": "surface"
           }
          ],
          "table": [
           {
            "cells": {
             "fill": {
              "color": "#EBF0F8"
             },
             "line": {
              "color": "white"
             }
            },
            "header": {
             "fill": {
              "color": "#C8D4E3"
             },
             "line": {
              "color": "white"
             }
            },
            "type": "table"
           }
          ]
         },
         "layout": {
          "annotationdefaults": {
           "arrowcolor": "#2a3f5f",
           "arrowhead": 0,
           "arrowwidth": 1
          },
          "autotypenumbers": "strict",
          "coloraxis": {
           "colorbar": {
            "outlinewidth": 0,
            "ticks": ""
           }
          },
          "colorscale": {
           "diverging": [
            [
             0,
             "#8e0152"
            ],
            [
             0.1,
             "#c51b7d"
            ],
            [
             0.2,
             "#de77ae"
            ],
            [
             0.3,
             "#f1b6da"
            ],
            [
             0.4,
             "#fde0ef"
            ],
            [
             0.5,
             "#f7f7f7"
            ],
            [
             0.6,
             "#e6f5d0"
            ],
            [
             0.7,
             "#b8e186"
            ],
            [
             0.8,
             "#7fbc41"
            ],
            [
             0.9,
             "#4d9221"
            ],
            [
             1,
             "#276419"
            ]
           ],
           "sequential": [
            [
             0,
             "#0d0887"
            ],
            [
             0.1111111111111111,
             "#46039f"
            ],
            [
             0.2222222222222222,
             "#7201a8"
            ],
            [
             0.3333333333333333,
             "#9c179e"
            ],
            [
             0.4444444444444444,
             "#bd3786"
            ],
            [
             0.5555555555555556,
             "#d8576b"
            ],
            [
             0.6666666666666666,
             "#ed7953"
            ],
            [
             0.7777777777777778,
             "#fb9f3a"
            ],
            [
             0.8888888888888888,
             "#fdca26"
            ],
            [
             1,
             "#f0f921"
            ]
           ],
           "sequentialminus": [
            [
             0,
             "#0d0887"
            ],
            [
             0.1111111111111111,
             "#46039f"
            ],
            [
             0.2222222222222222,
             "#7201a8"
            ],
            [
             0.3333333333333333,
             "#9c179e"
            ],
            [
             0.4444444444444444,
             "#bd3786"
            ],
            [
             0.5555555555555556,
             "#d8576b"
            ],
            [
             0.6666666666666666,
             "#ed7953"
            ],
            [
             0.7777777777777778,
             "#fb9f3a"
            ],
            [
             0.8888888888888888,
             "#fdca26"
            ],
            [
             1,
             "#f0f921"
            ]
           ]
          },
          "colorway": [
           "#636efa",
           "#EF553B",
           "#00cc96",
           "#ab63fa",
           "#FFA15A",
           "#19d3f3",
           "#FF6692",
           "#B6E880",
           "#FF97FF",
           "#FECB52"
          ],
          "font": {
           "color": "#2a3f5f"
          },
          "geo": {
           "bgcolor": "white",
           "lakecolor": "white",
           "landcolor": "#E5ECF6",
           "showlakes": true,
           "showland": true,
           "subunitcolor": "white"
          },
          "hoverlabel": {
           "align": "left"
          },
          "hovermode": "closest",
          "mapbox": {
           "style": "light"
          },
          "paper_bgcolor": "white",
          "plot_bgcolor": "#E5ECF6",
          "polar": {
           "angularaxis": {
            "gridcolor": "white",
            "linecolor": "white",
            "ticks": ""
           },
           "bgcolor": "#E5ECF6",
           "radialaxis": {
            "gridcolor": "white",
            "linecolor": "white",
            "ticks": ""
           }
          },
          "scene": {
           "xaxis": {
            "backgroundcolor": "#E5ECF6",
            "gridcolor": "white",
            "gridwidth": 2,
            "linecolor": "white",
            "showbackground": true,
            "ticks": "",
            "zerolinecolor": "white"
           },
           "yaxis": {
            "backgroundcolor": "#E5ECF6",
            "gridcolor": "white",
            "gridwidth": 2,
            "linecolor": "white",
            "showbackground": true,
            "ticks": "",
            "zerolinecolor": "white"
           },
           "zaxis": {
            "backgroundcolor": "#E5ECF6",
            "gridcolor": "white",
            "gridwidth": 2,
            "linecolor": "white",
            "showbackground": true,
            "ticks": "",
            "zerolinecolor": "white"
           }
          },
          "shapedefaults": {
           "line": {
            "color": "#2a3f5f"
           }
          },
          "ternary": {
           "aaxis": {
            "gridcolor": "white",
            "linecolor": "white",
            "ticks": ""
           },
           "baxis": {
            "gridcolor": "white",
            "linecolor": "white",
            "ticks": ""
           },
           "bgcolor": "#E5ECF6",
           "caxis": {
            "gridcolor": "white",
            "linecolor": "white",
            "ticks": ""
           }
          },
          "title": {
           "x": 0.05
          },
          "xaxis": {
           "automargin": true,
           "gridcolor": "white",
           "linecolor": "white",
           "ticks": "",
           "title": {
            "standoff": 15
           },
           "zerolinecolor": "white",
           "zerolinewidth": 2
          },
          "yaxis": {
           "automargin": true,
           "gridcolor": "white",
           "linecolor": "white",
           "ticks": "",
           "title": {
            "standoff": 15
           },
           "zerolinecolor": "white",
           "zerolinewidth": 2
          }
         }
        },
        "title": {
         "text": "Farm Name Distribution"
        },
        "xaxis": {
         "title": {
          "text": "Farm Name"
         }
        },
        "yaxis": {
         "title": {
          "text": "Count"
         }
        }
       }
      }
     },
     "metadata": {},
     "output_type": "display_data"
    }
   ],
   "source": [
    "# plot bar chart for farm_name\n",
    "fig = go.Figure()\n",
    "# bar plot\n",
    "fig.add_trace(go.Bar(x=df['farm_name'].value_counts().index, y=df['farm_name'].value_counts().values, marker_color='blue',))\n",
    "fig.update_layout(title='Farm Name Distribution', xaxis_title='Farm Name', yaxis_title='Count')\n",
    "fig.show()"
   ]
  },
  {
   "cell_type": "code",
   "execution_count": 35,
   "metadata": {},
   "outputs": [
    {
     "name": "stdout",
     "output_type": "stream",
     "text": [
      "farm_name_lang\n",
      "other    0.869565\n",
      "en       0.130435\n",
      "Name: proportion, dtype: float64\n",
      "\n",
      "Data in 'farm_name' column that is not in English: 86.96%\n",
      "Data in 'farm_name' column that is in English: 13.04%\n"
     ]
    }
   ],
   "source": [
    "# detect language of the 'farm_name' column\n",
    "df_farm = df[['farm_name']].copy()\n",
    "df_farm['farm_name_lang'] = df_farm['farm_name'].apply(detect_language)\n",
    "# if farm_name_lang != 'en' then replace with 'other'\n",
    "df_farm.loc[df_farm['farm_name_lang'] != 'en', 'farm_name_lang'] = 'other'\n",
    "print(df_farm['farm_name_lang'].value_counts(normalize=True))\n",
    "print(f\"\\nData in 'farm_name' column that is not in English: {df_farm['farm_name_lang'].value_counts(normalize=True)['other']:.2%}\")\n",
    "print(f\"Data in 'farm_name' column that is in English: {df_farm['farm_name_lang'].value_counts(normalize=True)['en']:.2%}\")"
   ]
  },
  {
   "cell_type": "markdown",
   "metadata": {},
   "source": [
    "### 7. Region"
   ]
  },
  {
   "cell_type": "markdown",
   "metadata": {},
   "source": [
    "Actually the most frequent classes only representing ~5% as same as 'mill' and 'farm_name' but I want to explore more from this point. Since I assume the regions can significantly impact quality of coffee so I convert these regions to location represented in [lat, lon]."
   ]
  },
  {
   "cell_type": "code",
   "execution_count": 36,
   "metadata": {},
   "outputs": [
    {
     "name": "stdout",
     "output_type": "stream",
     "text": [
      "region\n",
      "Chiayi                         0.058537\n",
      "新竹縣                            0.053659\n",
      "苗栗縣                            0.034146\n",
      "North of Thailand              0.034146\n",
      "Yunlin                         0.034146\n",
      "                                 ...   \n",
      "Addis Ababa                    0.004878\n",
      "Ka'u district of Big Island    0.004878\n",
      "玉里鎮Yuli Township               0.004878\n",
      "Ethiopia                       0.004878\n",
      "Minas Gerais                   0.004878\n",
      "Name: proportion, Length: 120, dtype: float64\n"
     ]
    }
   ],
   "source": [
    "print(df['region'].value_counts(normalize=True))"
   ]
  },
  {
   "cell_type": "code",
   "execution_count": 37,
   "metadata": {},
   "outputs": [
    {
     "data": {
      "text/plain": [
       "country_of_origin  altitude\n",
       "Colombia           1625.0      1\n",
       "Nicaragua          1100.0      1\n",
       "Name: count, dtype: int64"
      ]
     },
     "execution_count": 37,
     "metadata": {},
     "output_type": "execute_result"
    }
   ],
   "source": [
    "# fill missing values in 'region' with country_of_origin and altitude\n",
    "non_region_df = df[df['region'].isnull()]\n",
    "non_region_df[['country_of_origin', 'altitude']].value_counts()"
   ]
  },
  {
   "cell_type": "code",
   "execution_count": 38,
   "metadata": {},
   "outputs": [
    {
     "name": "stdout",
     "output_type": "stream",
     "text": [
      "mode:  Quindio\n",
      "mode:  ESTELI\n"
     ]
    }
   ],
   "source": [
    "for index, row in non_region_df.iterrows():\n",
    "    country = row['country_of_origin']\n",
    "    altitude = row['altitude']\n",
    "    if pd.isnull(altitude):\n",
    "        continue\n",
    "    region = df[(df['country_of_origin'] == country) & (df['altitude'] == altitude)]['region'].mode().values\n",
    "    if len(region) > 0:\n",
    "        print(\"match: \", region[0])\n",
    "        df.loc[index, 'region'] = region[0]\n",
    "    else:\n",
    "        region = df[(df['country_of_origin'] == country)]['region'].mode().values\n",
    "        if len(region) > 0:\n",
    "            print(\"mode: \", region[0])\n",
    "            df.loc[index, 'region'] = region[0]"
   ]
  },
  {
   "cell_type": "code",
   "execution_count": 39,
   "metadata": {},
   "outputs": [
    {
     "data": {
      "text/html": [
       "<div>\n",
       "<style scoped>\n",
       "    .dataframe tbody tr th:only-of-type {\n",
       "        vertical-align: middle;\n",
       "    }\n",
       "\n",
       "    .dataframe tbody tr th {\n",
       "        vertical-align: top;\n",
       "    }\n",
       "\n",
       "    .dataframe thead th {\n",
       "        text-align: right;\n",
       "    }\n",
       "</style>\n",
       "<table border=\"1\" class=\"dataframe\">\n",
       "  <thead>\n",
       "    <tr style=\"text-align: right;\">\n",
       "      <th></th>\n",
       "      <th>country_of_origin</th>\n",
       "      <th>farm_name</th>\n",
       "      <th>lot_number</th>\n",
       "      <th>mill</th>\n",
       "      <th>ico_number</th>\n",
       "      <th>company</th>\n",
       "      <th>altitude</th>\n",
       "      <th>region</th>\n",
       "      <th>producer</th>\n",
       "      <th>number_of_bags</th>\n",
       "      <th>bag_weight</th>\n",
       "      <th>in_country_partner</th>\n",
       "      <th>harvest_year</th>\n",
       "      <th>grading_date</th>\n",
       "      <th>owner</th>\n",
       "      <th>variety</th>\n",
       "      <th>status</th>\n",
       "      <th>processing_method</th>\n",
       "      <th>aroma</th>\n",
       "      <th>flavor</th>\n",
       "      <th>aftertaste</th>\n",
       "      <th>acidity</th>\n",
       "      <th>body</th>\n",
       "      <th>balance</th>\n",
       "      <th>uniformity</th>\n",
       "      <th>clean_cup</th>\n",
       "      <th>sweetness</th>\n",
       "      <th>overall</th>\n",
       "      <th>defects</th>\n",
       "      <th>total_cup_points</th>\n",
       "      <th>moisture_percentage</th>\n",
       "      <th>category_one_defects</th>\n",
       "      <th>quakers</th>\n",
       "      <th>color</th>\n",
       "      <th>category_two_defects</th>\n",
       "      <th>expiration</th>\n",
       "      <th>certification_body</th>\n",
       "      <th>certification_address</th>\n",
       "      <th>certification_contact</th>\n",
       "    </tr>\n",
       "  </thead>\n",
       "  <tbody>\n",
       "  </tbody>\n",
       "</table>\n",
       "</div>"
      ],
      "text/plain": [
       "Empty DataFrame\n",
       "Columns: [country_of_origin, farm_name, lot_number, mill, ico_number, company, altitude, region, producer, number_of_bags, bag_weight, in_country_partner, harvest_year, grading_date, owner, variety, status, processing_method, aroma, flavor, aftertaste, acidity, body, balance, uniformity, clean_cup, sweetness, overall, defects, total_cup_points, moisture_percentage, category_one_defects, quakers, color, category_two_defects, expiration, certification_body, certification_address, certification_contact]\n",
       "Index: []"
      ]
     },
     "execution_count": 39,
     "metadata": {},
     "output_type": "execute_result"
    }
   ],
   "source": [
    "df[df['region'].isnull()]"
   ]
  },
  {
   "cell_type": "markdown",
   "metadata": {},
   "source": [
    "### 8. Lot Number"
   ]
  },
  {
   "cell_type": "markdown",
   "metadata": {},
   "source": [
    "The same reason to 'mill' and 'farm_name' their most frequent name contain only ~5% of total data. I decided to discard this."
   ]
  },
  {
   "cell_type": "code",
   "execution_count": 40,
   "metadata": {},
   "outputs": [
    {
     "name": "stdout",
     "output_type": "stream",
     "text": [
      "['CQU2022015' 'The 2022 Pacific Rim Coffee Summit,T037'\n",
      " 'The 2022 Pacific Rim Coffee Summit,LA01' 'CQU2022017' 'CQU2023002'\n",
      " 'The 2022 Pacific Rim Coffee Summit,GT02'\n",
      " 'The 2022 Pacific Rim Coffee Summit,T034'\n",
      " 'The 2022 Pacific Rim Coffee Summit,T050'\n",
      " 'The 2022 Pacific Rim Coffee Summit,T018' 'CN 4127230034/4189230113'\n",
      " '010/0296/600' 'The 2022 Pacific Rim Coffee Summit,GT12'\n",
      " 'The 2022 Pacific Rim Coffee Summit,T051'\n",
      " 'Grade 1, Guji, Natural, Gelana Geisha'\n",
      " 'The 2022 Pacific Rim Coffee Summit,CO03'\n",
      " 'The 2022 Pacific Rim Coffee Summit,T014' 'CQU2023006' '202203' '202112'\n",
      " 'CN 4127230032/P-9140' 'The 2022 Pacific Rim Coffee Summit,GT03'\n",
      " '2022/03' '1' 'CQU2023005' 'The 2022 Pacific Rim Coffee Summit, T003'\n",
      " 'Arara 1' 'The 2022 Pacific Rim Coffee Summit,T024'\n",
      " 'The 2022 Pacific Rim Coffee Summit,T048'\n",
      " 'The 2022 Pacific Rim Coffee Summit,T045'\n",
      " 'The 2022 Pacific Rim Coffee Summit,US01' '2022/3/1(老叢)' '2022/02'\n",
      " '2022臺南市精品咖啡評鑑批次' 'Washed Limmu' '0065'\n",
      " 'The 2022 Pacific Rim Coffee Summit, T004' '5516' '2022/01' '屏東縣三地門鄉德文段'\n",
      " 'A26-Northern Taiwan Specialty Coffee Evaluation' '7938' '2021/01'\n",
      " 'The 2022 Pacific Rim Coffee Summit,T011' '11/15/118' '11/951/279'\n",
      " '11/441/50' 'A03-Northern Taiwan Specialty Coffee Evaluation'\n",
      " 'A23-Northern Taiwan Specialty Coffee Evaluation' '016/1513/262'\n",
      " 'The 2022 Pacific Rim Coffee Summit,PE02' 'S59588/P03989'\n",
      " 'The 2022 Pacific Rim Coffee Summit,T029'\n",
      " 'The 2022 Pacific Rim Coffee Summit,T039' 'FBT111' '2-237-05' '屏東縣瑪家鄉'\n",
      " '11/15/117' '11/54876/03' '12075'\n",
      " 'A11-Northern Taiwan Specialty Coffee Evaluation' '10 1.1'\n",
      " 'The 2022 Pacific Rim Coffee Summit,T036'\n",
      " 'The 2022 Pacific Rim Coffee Summit,T042'\n",
      " 'The 2022 Pacific Rim Coffee Summit,VN02' 'CQU2022018'\n",
      " 'A37-Northern Taiwan Specialty Coffee Evaluation' '36' '0712' '2021/11'\n",
      " 'The 2022 Pacific Rim Coffee Summit,T031' '11-63-657'\n",
      " 'Islander’s Coffee for Pacific Rim Summit'\n",
      " 'The 2022 Pacific Rim Coffee Summit,SV01' 'NPCO-17418' '11/15/96' '8'\n",
      " '11/441/49' 'A32-Northern Taiwan Specialty Coffee Evaluation'\n",
      " 'The 2022 Pacific Rim Coffee Summit,T017' '11/15/51' '11/15/59'\n",
      " 'The 2022 Pacific Rim Coffee Summit,HN04' 'CN 4127230031/P-9139' '1077'\n",
      " 'CN 4127220159/4189220459' '3-002-00883' '12077-01'\n",
      " 'The 2022 Pacific Rim Coffee Summit,GT01' '11/15/95' 'CQU2022016'\n",
      " '3/37/1370' '11/63/908' 'AMNI-22-0905' '3-0068-00886'\n",
      " 'The 2022 Pacific Rim Coffee Summit,US02'\n",
      " 'The 2022 Pacific Rim Coffee Summit,CO02' '312' nan\n",
      " 'The 2022 Pacific Rim Coffee Summit,MM01'\n",
      " 'A05-Northern Taiwan Specialty Coffee Evaluation'\n",
      " 'The 2022 Pacific Rim Coffee Summit,HN01'\n",
      " 'A30-Northern Taiwan Specialty Coffee Evaluation'\n",
      " 'A14-Northern Taiwan Specialty Coffee Evaluation' 'P-4142'\n",
      " 'AMNI-22-6011-1' '3-0104-00202 Popayán Supremo'\n",
      " 'BOURBON 21/22 (Coffea Arabica)' 'CQU2022011' '035/170/5021210'\n",
      " 'The 2022 Pacific Rim Coffee Summit,T022' '7969'\n",
      " 'A04-Northern Taiwan Specialty Coffee Evaluation'\n",
      " 'A21-Northern Taiwan Specialty Coffee Evaluation' '12074'\n",
      " 'The 2022 Pacific Rim Coffee Summit,T019' 'TYPICA 21/22 (Coffea Arabica)'\n",
      " 'CN 4127220163/4189220459' '004/22'\n",
      " 'A41-Northern Taiwan Specialty Coffee Evaluation' 'CQU2023003'\n",
      " 'The 2022 Pacific Rim Coffee Summit,HN03' 'AMNI-22-6011-2'\n",
      " 'A35-Northern Taiwan Specialty Coffee Evaluation'\n",
      " 'A20-Northern Taiwan Specialty Coffee Evaluation' 'DCN03.11.2022' '187'\n",
      " '198' '3-59-0654' 'A17-Northern Taiwan Specialty Coffee Evaluation' '001'\n",
      " 'CQU2022013' '273' 'GAYO 21/22 (Coffea Arabica)' 'VHA- S3' '017-053-0017'\n",
      " 'The 2022 Pacific Rim Coffee Summit,CR01' '3/01/12857'\n",
      " 'CATURRA 21/22 (Coffea Arabica)' '21/22' '197'\n",
      " 'A01-Northern Taiwan Specialty Coffee Evaluation'\n",
      " 'A22-Northern Taiwan Specialty Coffee Evaluation' '4 -3.1' '1-26'\n",
      " 'P03769' 'MVB-QCert-001/2022' 'The 2022 Pacific Rim Coffee Summit,US03'\n",
      " 'The 2022 Pacific Rim Coffee Summit,MX01' '185'\n",
      " 'A02-Northern Taiwan Specialty Coffee Evaluation' 'Apollo Washed 2021'\n",
      " '1-74' 'A48-Northern Taiwan Specialty Coffee Evaluation' 'PR138'\n",
      " 'CQU2023004' '184' 'A43-Northern Taiwan Specialty Coffee Evaluation'\n",
      " 'A34-Northern Taiwan Specialty Coffee Evaluation'\n",
      " 'A50-Northern Taiwan Specialty Coffee Evaluation'\n",
      " 'MIXED DT 21/22 (Coffea Arabica)' 'S019194 - P04178' 'SA4238'\n",
      " '015/1686/057' '301R' 'GF-23392'\n",
      " 'A10-Northern Taiwan Specialty Coffee Evaluation' '221221' 'CQU2023007'\n",
      " '002' 'OIC 5-019-0037/ Contenedor: DRYU3106597 / Cliente: O COFFEE'\n",
      " 'A46-Northern Taiwan Specialty Coffee Evaluation'\n",
      " 'A38-Northern Taiwan Specialty Coffee Evaluation'\n",
      " 'JAVA 21/22 (Coffea Arabica)' 'The 2022 Pacific Rim Coffee Summit,TH07'\n",
      " 'MIXED 21/22 (Coffea Arabica)' 'CQU2022019' '0038' '0623C01'\n",
      " '017/053/0603' 'CQU2023001' 'PR137' '0523B01' '002/1738/0029' '019/22'\n",
      " '017-053-0155' '105/3/VL7285-005' '0423A01' '1058 y 1059']\n"
     ]
    },
    {
     "data": {
      "text/plain": [
       "lot_number\n",
       "1                                          0.053398\n",
       "202203                                     0.019417\n",
       "2022臺南市精品咖啡評鑑批次                            0.014563\n",
       "1-26                                       0.009709\n",
       "CQU2022018                                 0.009709\n",
       "                                             ...   \n",
       "0712                                       0.004854\n",
       "2021/11                                    0.004854\n",
       "The 2022 Pacific Rim Coffee Summit,T031    0.004854\n",
       "11-63-657                                  0.004854\n",
       "1058 y 1059                                0.004854\n",
       "Name: proportion, Length: 187, dtype: float64"
      ]
     },
     "execution_count": 40,
     "metadata": {},
     "output_type": "execute_result"
    }
   ],
   "source": [
    "print(df['lot_number'].unique())\n",
    "df['lot_number'].value_counts(normalize=True)"
   ]
  },
  {
   "cell_type": "code",
   "execution_count": 41,
   "metadata": {},
   "outputs": [
    {
     "data": {
      "application/vnd.plotly.v1+json": {
       "config": {
        "plotlyServerURL": "https://plot.ly"
       },
       "data": [
        {
         "marker": {
          "color": "blue"
         },
         "type": "bar",
         "x": [
          "1",
          "202203",
          "2022臺南市精品咖啡評鑑批次",
          "1-26",
          "CQU2022018",
          "0065",
          "Islander’s Coffee for Pacific Rim Summit",
          "The 2022 Pacific Rim Coffee Summit,CR01",
          "21/22",
          "A20-Northern Taiwan Specialty Coffee Evaluation",
          "DCN03.11.2022",
          "A01-Northern Taiwan Specialty Coffee Evaluation",
          "187",
          "198",
          "197",
          "3-59-0654",
          "CATURRA 21/22 (Coffea Arabica)",
          "017-053-0017",
          "A17-Northern Taiwan Specialty Coffee Evaluation",
          "3/01/12857",
          "A35-Northern Taiwan Specialty Coffee Evaluation",
          "CQU2022013",
          "273",
          "GAYO 21/22 (Coffea Arabica)",
          "VHA- S3",
          "001",
          "CQU2022015",
          "A22-Northern Taiwan Specialty Coffee Evaluation",
          "The 2022 Pacific Rim Coffee Summit,T022",
          "The 2022 Pacific Rim Coffee Summit,HN01",
          "A30-Northern Taiwan Specialty Coffee Evaluation",
          "A14-Northern Taiwan Specialty Coffee Evaluation",
          "P-4142",
          "AMNI-22-6011-1",
          "3-0104-00202 Popayán Supremo",
          "BOURBON 21/22 (Coffea Arabica)",
          "CQU2022011",
          "035/170/5021210",
          "7969",
          "The 2022 Pacific Rim Coffee Summit,HN03",
          "A04-Northern Taiwan Specialty Coffee Evaluation",
          "A21-Northern Taiwan Specialty Coffee Evaluation",
          "12074",
          "The 2022 Pacific Rim Coffee Summit,T019",
          "TYPICA 21/22 (Coffea Arabica)",
          "CN 4127220163/4189220459",
          "004/22",
          "A41-Northern Taiwan Specialty Coffee Evaluation",
          "CQU2023003",
          "AMNI-22-6011-2",
          "P03769",
          "4 -3.1",
          "221221",
          "002",
          "OIC 5-019-0037/ Contenedor: DRYU3106597 / Cliente: O COFFEE",
          "A46-Northern Taiwan Specialty Coffee Evaluation",
          "A38-Northern Taiwan Specialty Coffee Evaluation",
          "JAVA 21/22 (Coffea Arabica)",
          "The 2022 Pacific Rim Coffee Summit,TH07",
          "MIXED 21/22 (Coffea Arabica)",
          "CQU2022019",
          "0038",
          "0623C01",
          "017/053/0603",
          "CQU2023001",
          "PR137",
          "0523B01",
          "002/1738/0029",
          "019/22",
          "017-053-0155",
          "105/3/VL7285-005",
          "0423A01",
          "CQU2023007",
          "A10-Northern Taiwan Specialty Coffee Evaluation",
          "The 2022 Pacific Rim Coffee Summit,MM01",
          "GF-23392",
          "MVB-QCert-001/2022",
          "The 2022 Pacific Rim Coffee Summit,US03",
          "The 2022 Pacific Rim Coffee Summit,MX01",
          "185",
          "A02-Northern Taiwan Specialty Coffee Evaluation",
          "Apollo Washed 2021",
          "1-74",
          "A48-Northern Taiwan Specialty Coffee Evaluation",
          "PR138",
          "CQU2023004",
          "184",
          "A43-Northern Taiwan Specialty Coffee Evaluation",
          "A34-Northern Taiwan Specialty Coffee Evaluation",
          "A50-Northern Taiwan Specialty Coffee Evaluation",
          "MIXED DT 21/22 (Coffea Arabica)",
          "S019194 - P04178",
          "SA4238",
          "015/1686/057",
          "301R",
          "A05-Northern Taiwan Specialty Coffee Evaluation",
          "3-0068-00886",
          "312",
          "Arara 1",
          "The 2022 Pacific Rim Coffee Summit,T048",
          "The 2022 Pacific Rim Coffee Summit,T045",
          "The 2022 Pacific Rim Coffee Summit,US01",
          "2022/3/1(老叢)",
          "2022/02",
          "Washed Limmu",
          "The 2022 Pacific Rim Coffee Summit, T004",
          "5516",
          "2022/01",
          "屏東縣三地門鄉德文段",
          "A26-Northern Taiwan Specialty Coffee Evaluation",
          "7938",
          "2021/01",
          "The 2022 Pacific Rim Coffee Summit,T011",
          "11/15/118",
          "11/951/279",
          "11/441/50",
          "A03-Northern Taiwan Specialty Coffee Evaluation",
          "A23-Northern Taiwan Specialty Coffee Evaluation",
          "The 2022 Pacific Rim Coffee Summit,T024",
          "The 2022 Pacific Rim Coffee Summit, T003",
          "The 2022 Pacific Rim Coffee Summit,CO02",
          "CQU2023005",
          "The 2022 Pacific Rim Coffee Summit,LA01",
          "CQU2022017",
          "CQU2023002",
          "The 2022 Pacific Rim Coffee Summit,GT02",
          "The 2022 Pacific Rim Coffee Summit,T034",
          "The 2022 Pacific Rim Coffee Summit,T050",
          "The 2022 Pacific Rim Coffee Summit,T018",
          "CN 4127230034/4189230113",
          "010/0296/600",
          "The 2022 Pacific Rim Coffee Summit,GT12",
          "The 2022 Pacific Rim Coffee Summit,T051",
          "Grade 1, Guji, Natural, Gelana Geisha",
          "The 2022 Pacific Rim Coffee Summit,CO03",
          "The 2022 Pacific Rim Coffee Summit,T014",
          "CQU2023006",
          "202112",
          "CN 4127230032/P-9140",
          "The 2022 Pacific Rim Coffee Summit,GT03",
          "2022/03",
          "016/1513/262",
          "The 2022 Pacific Rim Coffee Summit,PE02",
          "S59588/P03989",
          "The 2022 Pacific Rim Coffee Summit,T029",
          "11/441/49",
          "A32-Northern Taiwan Specialty Coffee Evaluation",
          "The 2022 Pacific Rim Coffee Summit,T017",
          "11/15/51",
          "11/15/59",
          "The 2022 Pacific Rim Coffee Summit,HN04",
          "CN 4127230031/P-9139",
          "1077",
          "CN 4127220159/4189220459",
          "3-002-00883",
          "12077-01",
          "The 2022 Pacific Rim Coffee Summit,GT01",
          "11/15/95",
          "CQU2022016",
          "3/37/1370",
          "11/63/908",
          "AMNI-22-0905",
          "The 2022 Pacific Rim Coffee Summit,T037",
          "The 2022 Pacific Rim Coffee Summit,US02",
          "8",
          "11/15/96",
          "NPCO-17418",
          "10 1.1",
          "The 2022 Pacific Rim Coffee Summit,T039",
          "FBT111",
          "2-237-05",
          "屏東縣瑪家鄉",
          "11/15/117",
          "11/54876/03",
          "12075",
          "A11-Northern Taiwan Specialty Coffee Evaluation",
          "The 2022 Pacific Rim Coffee Summit,T036",
          "The 2022 Pacific Rim Coffee Summit,SV01",
          "The 2022 Pacific Rim Coffee Summit,T042",
          "The 2022 Pacific Rim Coffee Summit,VN02",
          "A37-Northern Taiwan Specialty Coffee Evaluation",
          "36",
          "0712",
          "2021/11",
          "The 2022 Pacific Rim Coffee Summit,T031",
          "11-63-657",
          "1058 y 1059"
         ],
         "y": {
          "bdata": "CwQDAgICAgEBAQEBAQEBAQEBAQEBAQEBAQEBAQEBAQEBAQEBAQEBAQEBAQEBAQEBAQEBAQEBAQEBAQEBAQEBAQEBAQEBAQEBAQEBAQEBAQEBAQEBAQEBAQEBAQEBAQEBAQEBAQEBAQEBAQEBAQEBAQEBAQEBAQEBAQEBAQEBAQEBAQEBAQEBAQEBAQEBAQEBAQEBAQEBAQEBAQEBAQEBAQEBAQEBAQEBAQEBAQEBAQEBAQEBAQEBAQEBAQ==",
          "dtype": "i1"
         }
        }
       ],
       "layout": {
        "template": {
         "data": {
          "bar": [
           {
            "error_x": {
             "color": "#2a3f5f"
            },
            "error_y": {
             "color": "#2a3f5f"
            },
            "marker": {
             "line": {
              "color": "#E5ECF6",
              "width": 0.5
             },
             "pattern": {
              "fillmode": "overlay",
              "size": 10,
              "solidity": 0.2
             }
            },
            "type": "bar"
           }
          ],
          "barpolar": [
           {
            "marker": {
             "line": {
              "color": "#E5ECF6",
              "width": 0.5
             },
             "pattern": {
              "fillmode": "overlay",
              "size": 10,
              "solidity": 0.2
             }
            },
            "type": "barpolar"
           }
          ],
          "carpet": [
           {
            "aaxis": {
             "endlinecolor": "#2a3f5f",
             "gridcolor": "white",
             "linecolor": "white",
             "minorgridcolor": "white",
             "startlinecolor": "#2a3f5f"
            },
            "baxis": {
             "endlinecolor": "#2a3f5f",
             "gridcolor": "white",
             "linecolor": "white",
             "minorgridcolor": "white",
             "startlinecolor": "#2a3f5f"
            },
            "type": "carpet"
           }
          ],
          "choropleth": [
           {
            "colorbar": {
             "outlinewidth": 0,
             "ticks": ""
            },
            "type": "choropleth"
           }
          ],
          "contour": [
           {
            "colorbar": {
             "outlinewidth": 0,
             "ticks": ""
            },
            "colorscale": [
             [
              0,
              "#0d0887"
             ],
             [
              0.1111111111111111,
              "#46039f"
             ],
             [
              0.2222222222222222,
              "#7201a8"
             ],
             [
              0.3333333333333333,
              "#9c179e"
             ],
             [
              0.4444444444444444,
              "#bd3786"
             ],
             [
              0.5555555555555556,
              "#d8576b"
             ],
             [
              0.6666666666666666,
              "#ed7953"
             ],
             [
              0.7777777777777778,
              "#fb9f3a"
             ],
             [
              0.8888888888888888,
              "#fdca26"
             ],
             [
              1,
              "#f0f921"
             ]
            ],
            "type": "contour"
           }
          ],
          "contourcarpet": [
           {
            "colorbar": {
             "outlinewidth": 0,
             "ticks": ""
            },
            "type": "contourcarpet"
           }
          ],
          "heatmap": [
           {
            "colorbar": {
             "outlinewidth": 0,
             "ticks": ""
            },
            "colorscale": [
             [
              0,
              "#0d0887"
             ],
             [
              0.1111111111111111,
              "#46039f"
             ],
             [
              0.2222222222222222,
              "#7201a8"
             ],
             [
              0.3333333333333333,
              "#9c179e"
             ],
             [
              0.4444444444444444,
              "#bd3786"
             ],
             [
              0.5555555555555556,
              "#d8576b"
             ],
             [
              0.6666666666666666,
              "#ed7953"
             ],
             [
              0.7777777777777778,
              "#fb9f3a"
             ],
             [
              0.8888888888888888,
              "#fdca26"
             ],
             [
              1,
              "#f0f921"
             ]
            ],
            "type": "heatmap"
           }
          ],
          "histogram": [
           {
            "marker": {
             "pattern": {
              "fillmode": "overlay",
              "size": 10,
              "solidity": 0.2
             }
            },
            "type": "histogram"
           }
          ],
          "histogram2d": [
           {
            "colorbar": {
             "outlinewidth": 0,
             "ticks": ""
            },
            "colorscale": [
             [
              0,
              "#0d0887"
             ],
             [
              0.1111111111111111,
              "#46039f"
             ],
             [
              0.2222222222222222,
              "#7201a8"
             ],
             [
              0.3333333333333333,
              "#9c179e"
             ],
             [
              0.4444444444444444,
              "#bd3786"
             ],
             [
              0.5555555555555556,
              "#d8576b"
             ],
             [
              0.6666666666666666,
              "#ed7953"
             ],
             [
              0.7777777777777778,
              "#fb9f3a"
             ],
             [
              0.8888888888888888,
              "#fdca26"
             ],
             [
              1,
              "#f0f921"
             ]
            ],
            "type": "histogram2d"
           }
          ],
          "histogram2dcontour": [
           {
            "colorbar": {
             "outlinewidth": 0,
             "ticks": ""
            },
            "colorscale": [
             [
              0,
              "#0d0887"
             ],
             [
              0.1111111111111111,
              "#46039f"
             ],
             [
              0.2222222222222222,
              "#7201a8"
             ],
             [
              0.3333333333333333,
              "#9c179e"
             ],
             [
              0.4444444444444444,
              "#bd3786"
             ],
             [
              0.5555555555555556,
              "#d8576b"
             ],
             [
              0.6666666666666666,
              "#ed7953"
             ],
             [
              0.7777777777777778,
              "#fb9f3a"
             ],
             [
              0.8888888888888888,
              "#fdca26"
             ],
             [
              1,
              "#f0f921"
             ]
            ],
            "type": "histogram2dcontour"
           }
          ],
          "mesh3d": [
           {
            "colorbar": {
             "outlinewidth": 0,
             "ticks": ""
            },
            "type": "mesh3d"
           }
          ],
          "parcoords": [
           {
            "line": {
             "colorbar": {
              "outlinewidth": 0,
              "ticks": ""
             }
            },
            "type": "parcoords"
           }
          ],
          "pie": [
           {
            "automargin": true,
            "type": "pie"
           }
          ],
          "scatter": [
           {
            "fillpattern": {
             "fillmode": "overlay",
             "size": 10,
             "solidity": 0.2
            },
            "type": "scatter"
           }
          ],
          "scatter3d": [
           {
            "line": {
             "colorbar": {
              "outlinewidth": 0,
              "ticks": ""
             }
            },
            "marker": {
             "colorbar": {
              "outlinewidth": 0,
              "ticks": ""
             }
            },
            "type": "scatter3d"
           }
          ],
          "scattercarpet": [
           {
            "marker": {
             "colorbar": {
              "outlinewidth": 0,
              "ticks": ""
             }
            },
            "type": "scattercarpet"
           }
          ],
          "scattergeo": [
           {
            "marker": {
             "colorbar": {
              "outlinewidth": 0,
              "ticks": ""
             }
            },
            "type": "scattergeo"
           }
          ],
          "scattergl": [
           {
            "marker": {
             "colorbar": {
              "outlinewidth": 0,
              "ticks": ""
             }
            },
            "type": "scattergl"
           }
          ],
          "scattermap": [
           {
            "marker": {
             "colorbar": {
              "outlinewidth": 0,
              "ticks": ""
             }
            },
            "type": "scattermap"
           }
          ],
          "scattermapbox": [
           {
            "marker": {
             "colorbar": {
              "outlinewidth": 0,
              "ticks": ""
             }
            },
            "type": "scattermapbox"
           }
          ],
          "scatterpolar": [
           {
            "marker": {
             "colorbar": {
              "outlinewidth": 0,
              "ticks": ""
             }
            },
            "type": "scatterpolar"
           }
          ],
          "scatterpolargl": [
           {
            "marker": {
             "colorbar": {
              "outlinewidth": 0,
              "ticks": ""
             }
            },
            "type": "scatterpolargl"
           }
          ],
          "scatterternary": [
           {
            "marker": {
             "colorbar": {
              "outlinewidth": 0,
              "ticks": ""
             }
            },
            "type": "scatterternary"
           }
          ],
          "surface": [
           {
            "colorbar": {
             "outlinewidth": 0,
             "ticks": ""
            },
            "colorscale": [
             [
              0,
              "#0d0887"
             ],
             [
              0.1111111111111111,
              "#46039f"
             ],
             [
              0.2222222222222222,
              "#7201a8"
             ],
             [
              0.3333333333333333,
              "#9c179e"
             ],
             [
              0.4444444444444444,
              "#bd3786"
             ],
             [
              0.5555555555555556,
              "#d8576b"
             ],
             [
              0.6666666666666666,
              "#ed7953"
             ],
             [
              0.7777777777777778,
              "#fb9f3a"
             ],
             [
              0.8888888888888888,
              "#fdca26"
             ],
             [
              1,
              "#f0f921"
             ]
            ],
            "type": "surface"
           }
          ],
          "table": [
           {
            "cells": {
             "fill": {
              "color": "#EBF0F8"
             },
             "line": {
              "color": "white"
             }
            },
            "header": {
             "fill": {
              "color": "#C8D4E3"
             },
             "line": {
              "color": "white"
             }
            },
            "type": "table"
           }
          ]
         },
         "layout": {
          "annotationdefaults": {
           "arrowcolor": "#2a3f5f",
           "arrowhead": 0,
           "arrowwidth": 1
          },
          "autotypenumbers": "strict",
          "coloraxis": {
           "colorbar": {
            "outlinewidth": 0,
            "ticks": ""
           }
          },
          "colorscale": {
           "diverging": [
            [
             0,
             "#8e0152"
            ],
            [
             0.1,
             "#c51b7d"
            ],
            [
             0.2,
             "#de77ae"
            ],
            [
             0.3,
             "#f1b6da"
            ],
            [
             0.4,
             "#fde0ef"
            ],
            [
             0.5,
             "#f7f7f7"
            ],
            [
             0.6,
             "#e6f5d0"
            ],
            [
             0.7,
             "#b8e186"
            ],
            [
             0.8,
             "#7fbc41"
            ],
            [
             0.9,
             "#4d9221"
            ],
            [
             1,
             "#276419"
            ]
           ],
           "sequential": [
            [
             0,
             "#0d0887"
            ],
            [
             0.1111111111111111,
             "#46039f"
            ],
            [
             0.2222222222222222,
             "#7201a8"
            ],
            [
             0.3333333333333333,
             "#9c179e"
            ],
            [
             0.4444444444444444,
             "#bd3786"
            ],
            [
             0.5555555555555556,
             "#d8576b"
            ],
            [
             0.6666666666666666,
             "#ed7953"
            ],
            [
             0.7777777777777778,
             "#fb9f3a"
            ],
            [
             0.8888888888888888,
             "#fdca26"
            ],
            [
             1,
             "#f0f921"
            ]
           ],
           "sequentialminus": [
            [
             0,
             "#0d0887"
            ],
            [
             0.1111111111111111,
             "#46039f"
            ],
            [
             0.2222222222222222,
             "#7201a8"
            ],
            [
             0.3333333333333333,
             "#9c179e"
            ],
            [
             0.4444444444444444,
             "#bd3786"
            ],
            [
             0.5555555555555556,
             "#d8576b"
            ],
            [
             0.6666666666666666,
             "#ed7953"
            ],
            [
             0.7777777777777778,
             "#fb9f3a"
            ],
            [
             0.8888888888888888,
             "#fdca26"
            ],
            [
             1,
             "#f0f921"
            ]
           ]
          },
          "colorway": [
           "#636efa",
           "#EF553B",
           "#00cc96",
           "#ab63fa",
           "#FFA15A",
           "#19d3f3",
           "#FF6692",
           "#B6E880",
           "#FF97FF",
           "#FECB52"
          ],
          "font": {
           "color": "#2a3f5f"
          },
          "geo": {
           "bgcolor": "white",
           "lakecolor": "white",
           "landcolor": "#E5ECF6",
           "showlakes": true,
           "showland": true,
           "subunitcolor": "white"
          },
          "hoverlabel": {
           "align": "left"
          },
          "hovermode": "closest",
          "mapbox": {
           "style": "light"
          },
          "paper_bgcolor": "white",
          "plot_bgcolor": "#E5ECF6",
          "polar": {
           "angularaxis": {
            "gridcolor": "white",
            "linecolor": "white",
            "ticks": ""
           },
           "bgcolor": "#E5ECF6",
           "radialaxis": {
            "gridcolor": "white",
            "linecolor": "white",
            "ticks": ""
           }
          },
          "scene": {
           "xaxis": {
            "backgroundcolor": "#E5ECF6",
            "gridcolor": "white",
            "gridwidth": 2,
            "linecolor": "white",
            "showbackground": true,
            "ticks": "",
            "zerolinecolor": "white"
           },
           "yaxis": {
            "backgroundcolor": "#E5ECF6",
            "gridcolor": "white",
            "gridwidth": 2,
            "linecolor": "white",
            "showbackground": true,
            "ticks": "",
            "zerolinecolor": "white"
           },
           "zaxis": {
            "backgroundcolor": "#E5ECF6",
            "gridcolor": "white",
            "gridwidth": 2,
            "linecolor": "white",
            "showbackground": true,
            "ticks": "",
            "zerolinecolor": "white"
           }
          },
          "shapedefaults": {
           "line": {
            "color": "#2a3f5f"
           }
          },
          "ternary": {
           "aaxis": {
            "gridcolor": "white",
            "linecolor": "white",
            "ticks": ""
           },
           "baxis": {
            "gridcolor": "white",
            "linecolor": "white",
            "ticks": ""
           },
           "bgcolor": "#E5ECF6",
           "caxis": {
            "gridcolor": "white",
            "linecolor": "white",
            "ticks": ""
           }
          },
          "title": {
           "x": 0.05
          },
          "xaxis": {
           "automargin": true,
           "gridcolor": "white",
           "linecolor": "white",
           "ticks": "",
           "title": {
            "standoff": 15
           },
           "zerolinecolor": "white",
           "zerolinewidth": 2
          },
          "yaxis": {
           "automargin": true,
           "gridcolor": "white",
           "linecolor": "white",
           "ticks": "",
           "title": {
            "standoff": 15
           },
           "zerolinecolor": "white",
           "zerolinewidth": 2
          }
         }
        },
        "title": {
         "text": "Lot Number Distribution"
        },
        "xaxis": {
         "title": {
          "text": "Lot Number"
         }
        },
        "yaxis": {
         "title": {
          "text": "Count"
         }
        }
       }
      }
     },
     "metadata": {},
     "output_type": "display_data"
    }
   ],
   "source": [
    "# plot bar chart for lot_number\n",
    "fig = go.Figure()\n",
    "# bar plot\n",
    "fig.add_trace(go.Bar(x=df['lot_number'].value_counts().index, y=df['lot_number'].value_counts().values, marker_color='blue',))\n",
    "fig.update_layout(title='Lot Number Distribution', xaxis_title='Lot Number', yaxis_title='Count')\n",
    "fig.show()"
   ]
  },
  {
   "cell_type": "markdown",
   "metadata": {},
   "source": [
    "### 9. Producer"
   ]
  },
  {
   "cell_type": "markdown",
   "metadata": {},
   "source": [
    "The same reason to 'mill', 'farm_name' and 'lot_number' their most frequent name contain only ~3% of total data. I decided to discard this."
   ]
  },
  {
   "cell_type": "code",
   "execution_count": 42,
   "metadata": {},
   "outputs": [
    {
     "name": "stdout",
     "output_type": "stream",
     "text": [
      "['Diego Samuel Bermudez' '曾福森' 'WU TAO CHI' 'Santa Maria de Dota'\n",
      " 'Camilo Merizalde' 'Emilio Antonio Medina Garcia' '黃保錫' '莊家榮' '鍾旭亮'\n",
      " 'DORMAN (T) LIMITED' 'Tesfaye Bekele Degaga' 'Karen Acajabon' '賴彥合'\n",
      " 'Kerchanshe' 'Josue Enciso Suarez' '葉世遠' 'Halo Bariti Cooprative' '陳景立'\n",
      " '王瀅惠' 'Fredy Orantes' '游婷淯 YU TING YU' 'Lisu farmers'\n",
      " 'Farm Bedoya Arango' '蘇甘永' 'Diogo T. Dias de Macedo' '方政倫' '郭志豪' '陳清龍'\n",
      " 'Kona Hills LLC' '張進義Zhang Jin-Yi' '葉明讚 (YE,MING-ZAN)' 'Eshetu'\n",
      " 'Bisrat Melaku' 'YHAENU PLC' '許定燁' '陳建源(CHEN, JIAN-YUAN)' 'Small Holder'\n",
      " '陳榮豐' '李志祥 Li Zhi-xia' '陳科翰' '黃簡秋蘭' 'Kyagalanyi coffee limited'\n",
      " '劉孟宗 LIU MENG TSUNG' '王清連' 'Varios productores' 'PABLO CHUY'\n",
      " 'san francisco cotzal' '黃俊淦' '戴禎男' 'PT Indo CafCo North Sumatera'\n",
      " 'Ruya Yayu' 'IYENGA AMCOS' '鄭虞坪' '吳振宏' 'Homero Paiva' 'La Santa' '卓榮華'\n",
      " 'Varios Productores' 'VALBROS, S. A.' 'Martin Gutierrez' '羅政宏'\n",
      " '郭雅聰（KUO,YA-TSUNG）' 'NicaNoLA Coffee' '浦瀚文' '王政淵'\n",
      " 'TONG PHUC LAM TRADING SERVICES COMPANY LIMITED' '李鴻儀'\n",
      " 'Jose Nahum Maldonado' 'TRACON TRADING PLC' '黃怡瑄 Huang Yi-xuan'\n",
      " 'Maria de los Angeles Perez' 'Jose & Berta Miranda' 'various producers'\n",
      " 'Grupo Tap' 'Lintong Nihuta/Dolok Sanggul,Sumatera Utara'\n",
      " 'Cafetalera Paquim, S.A.' 'Marc Dumont' '邱建明' '李泓錡' 'varios productores'\n",
      " 'Irma Consuelo Bonilla Hernandez' 'DORMAN (T) LTD' 'Ecom Agroindustrial'\n",
      " 'DORMAN' 'Cooperativa Central de Caficultores del Huila'\n",
      " 'Various producers' 'Phaibul Kitcharoen' 'RACAFE & CIA SCA'\n",
      " 'MARIA DE LOS ANGELES PEREZ' 'Sidama Coffee Farmers Cooperative Union'\n",
      " 'Regional producers' 'Isla Custom Coffees' 'Oscar Javier Paez & Family'\n",
      " 'Armando Pohlenz' nan 'Lim' '羅以珊' 'Pedro Turcios' '彭文正' '宋明光'\n",
      " 'SAN FRANCISCO COTZAL' 'comsa' 'La fortaleza'\n",
      " 'Doi Tung Development Project' 'Chalerm' 'Kawacom Uganda Ltd' '吳昭昀' '林士傑'\n",
      " '500 PRODUCERS' '簡進財' 'Eric SELLIN' '陳善東' 'DORMAN TANZANIA LTD'\n",
      " 'Ipanema Agrícola SA' '林木青' 'Chucho Bedoya' 'Joaquin Suazo' '張新榮' '翁召安'\n",
      " 'Dao Heuang Group' 'Fausto Nahun Maldonado' 'Omar Acosta'\n",
      " 'FRANKLIN DUSSAN' '王維書' 'Martin Tequihuatle Zepahua' 'Augusto Torres'\n",
      " '郭亮志' 'Varios' 'Ea Tan Cooperative' 'Exportadora Atlantic S.A.'\n",
      " 'Federación Nacional de Cafeteros de Colombia' 'Kevin Wattana' '吳聲發'\n",
      " '謝櫞楨' 'J.J. Borja Nathan, S.A.' 'Finca Lerida' 'Eduardo Niero de Souza'\n",
      " 'Kainaliu-Kona Coffee Company' 'Jose Cienfuegos' '胡明杰'\n",
      " 'Sabio Coffee - Enrique Ferrufino & Tania Ferrufino' 'Yeh,Li Chuan' '宋煦仁'\n",
      " 'Sand Crispin Espiritu' 'Manny Ochoa' 'Slelected small holder' '何育達'\n",
      " '彭聰明' '宗素霞' 'San Diego Mill' 'Exportcafe, S.A.'\n",
      " 'PT. Wahana Graha Makmur Group' 'Sandro Crispin Espiritu' 'La Minita'\n",
      " '李秀圓' 'Viet Coffee Company Limited' 'Luis Flavio Pereira de Castro'\n",
      " 'Paulo Enidio Crabi' 'More than one' 'José Gerardo Gutierrez Morales'\n",
      " 'FJO ORLICH HNO LTDA' '呂星輝' '侯奕瑋' 'Prakol Saelee' 'Escalera' 'Cocapil'\n",
      " 'Roselia Yglesias' 'Sajonia Estate Coffee S.A.' 'Finca Mallorca'\n",
      " 'COCAPIL' 'Ipanema Coffees' 'LAO MINH TIEN COFFEE SOLE CO.,LTD'\n",
      " 'Walter Matter']\n"
     ]
    },
    {
     "data": {
      "text/plain": [
       "producer\n",
       "Doi Tung Development Project                      0.033981\n",
       "Roselia Yglesias                                  0.014563\n",
       "Fausto Nahun Maldonado                            0.014563\n",
       "Martin Gutierrez                                  0.014563\n",
       "J.J. Borja Nathan, S.A.                           0.014563\n",
       "                                                    ...   \n",
       "TONG PHUC LAM TRADING SERVICES COMPANY LIMITED    0.004854\n",
       "李鴻儀                                               0.004854\n",
       "TRACON TRADING PLC                                0.004854\n",
       "黃怡瑄 Huang Yi-xuan                                 0.004854\n",
       "Walter Matter                                     0.004854\n",
       "Name: proportion, Length: 172, dtype: float64"
      ]
     },
     "execution_count": 42,
     "metadata": {},
     "output_type": "execute_result"
    }
   ],
   "source": [
    "print(df['producer'].unique())\n",
    "df['producer'].value_counts(normalize=True)"
   ]
  },
  {
   "cell_type": "code",
   "execution_count": 43,
   "metadata": {},
   "outputs": [
    {
     "data": {
      "application/vnd.plotly.v1+json": {
       "config": {
        "plotlyServerURL": "https://plot.ly"
       },
       "data": [
        {
         "marker": {
          "color": "blue"
         },
         "type": "bar",
         "x": [
          "Doi Tung Development Project",
          "Roselia Yglesias",
          "Fausto Nahun Maldonado",
          "Martin Gutierrez",
          "J.J. Borja Nathan, S.A.",
          "Omar Acosta",
          "Cafetalera Paquim, S.A.",
          "蘇甘永",
          "Sandro Crispin Espiritu",
          "NicaNoLA Coffee",
          "陳榮豐",
          "Kyagalanyi coffee limited",
          "Exportadora Atlantic S.A.",
          "various producers",
          "張進義Zhang Jin-Yi",
          "Jose Nahum Maldonado",
          "varios productores",
          "Bisrat Melaku",
          "YHAENU PLC",
          "san francisco cotzal",
          "VALBROS, S. A.",
          "DORMAN (T) LIMITED",
          "comsa",
          "Varios Productores",
          "Santa Maria de Dota",
          "王維書",
          "FRANKLIN DUSSAN",
          "Martin Tequihuatle Zepahua",
          "Augusto Torres",
          "郭亮志",
          "Varios",
          "Dao Heuang Group",
          "Diego Samuel Bermudez",
          "Chucho Bedoya",
          "翁召安",
          "林士傑",
          "彭文正",
          "宋明光",
          "SAN FRANCISCO COTZAL",
          "La fortaleza",
          "Chalerm",
          "Kawacom Uganda Ltd",
          "吳昭昀",
          "500 PRODUCERS",
          "張新榮",
          "簡進財",
          "Eric SELLIN",
          "陳善東",
          "DORMAN TANZANIA LTD",
          "Ipanema Agrícola SA",
          "林木青",
          "Joaquin Suazo",
          "Ea Tan Cooperative",
          "Finca Lerida",
          "Federación Nacional de Cafeteros de Colombia",
          "Kevin Wattana",
          "李秀圓",
          "Viet Coffee Company Limited",
          "Luis Flavio Pereira de Castro",
          "Paulo Enidio Crabi",
          "More than one",
          "José Gerardo Gutierrez Morales",
          "FJO ORLICH HNO LTDA",
          "呂星輝",
          "侯奕瑋",
          "Prakol Saelee",
          "Escalera",
          "Cocapil",
          "Sajonia Estate Coffee S.A.",
          "Finca Mallorca",
          "COCAPIL",
          "Ipanema Coffees",
          "LAO MINH TIEN COFFEE SOLE CO.,LTD",
          "La Minita",
          "PT. Wahana Graha Makmur Group",
          "Exportcafe, S.A.",
          "Sabio Coffee - Enrique Ferrufino & Tania Ferrufino",
          "吳聲發",
          "謝櫞楨",
          "羅以珊",
          "Eduardo Niero de Souza",
          "Kainaliu-Kona Coffee Company",
          "Jose Cienfuegos",
          "胡明杰",
          "Yeh,Li Chuan",
          "San Diego Mill",
          "宋煦仁",
          "Sand Crispin Espiritu",
          "Manny Ochoa",
          "Slelected small holder",
          "何育達",
          "彭聰明",
          "宗素霞",
          "Pedro Turcios",
          "Phaibul Kitcharoen",
          "Lim",
          "許定燁",
          "Diogo T. Dias de Macedo",
          "方政倫",
          "郭志豪",
          "陳清龍",
          "Kona Hills LLC",
          "葉明讚 (YE,MING-ZAN)",
          "Eshetu",
          "陳建源(CHEN, JIAN-YUAN)",
          "黃俊淦",
          "Small Holder",
          "李志祥 Li Zhi-xia",
          "陳科翰",
          "黃簡秋蘭",
          "劉孟宗 LIU MENG TSUNG",
          "王清連",
          "Varios productores",
          "Farm Bedoya Arango",
          "Lisu farmers",
          "游婷淯 YU TING YU",
          "Fredy Orantes",
          "WU TAO CHI",
          "Camilo Merizalde",
          "Emilio Antonio Medina Garcia",
          "黃保錫",
          "莊家榮",
          "鍾旭亮",
          "Tesfaye Bekele Degaga",
          "Karen Acajabon",
          "賴彥合",
          "Kerchanshe",
          "Josue Enciso Suarez",
          "葉世遠",
          "Halo Bariti Cooprative",
          "陳景立",
          "王瀅惠",
          "PABLO CHUY",
          "戴禎男",
          "Armando Pohlenz",
          "Cooperativa Central de Caficultores del Huila",
          "Marc Dumont",
          "邱建明",
          "李泓錡",
          "Irma Consuelo Bonilla Hernandez",
          "DORMAN (T) LTD",
          "Ecom Agroindustrial",
          "DORMAN",
          "Various producers",
          "PT Indo CafCo North Sumatera",
          "曾福森",
          "RACAFE & CIA SCA",
          "MARIA DE LOS ANGELES PEREZ",
          "Sidama Coffee Farmers Cooperative Union",
          "Regional producers",
          "Isla Custom Coffees",
          "Oscar Javier Paez & Family",
          "Lintong Nihuta/Dolok Sanggul,Sumatera Utara",
          "Grupo Tap",
          "Jose & Berta Miranda",
          "Maria de los Angeles Perez",
          "Ruya Yayu",
          "IYENGA AMCOS",
          "鄭虞坪",
          "吳振宏",
          "Homero Paiva",
          "La Santa",
          "卓榮華",
          "羅政宏",
          "郭雅聰（KUO,YA-TSUNG）",
          "浦瀚文",
          "王政淵",
          "TONG PHUC LAM TRADING SERVICES COMPANY LIMITED",
          "李鴻儀",
          "TRACON TRADING PLC",
          "黃怡瑄 Huang Yi-xuan",
          "Walter Matter"
         ],
         "y": {
          "bdata": "BwMDAwMCAgICAgICAgICAgICAgICAgICAgEBAQEBAQEBAQEBAQEBAQEBAQEBAQEBAQEBAQEBAQEBAQEBAQEBAQEBAQEBAQEBAQEBAQEBAQEBAQEBAQEBAQEBAQEBAQEBAQEBAQEBAQEBAQEBAQEBAQEBAQEBAQEBAQEBAQEBAQEBAQEBAQEBAQEBAQEBAQEBAQEBAQEBAQEBAQEBAQEBAQEBAQEBAQEBAQEBAQ==",
          "dtype": "i1"
         }
        }
       ],
       "layout": {
        "template": {
         "data": {
          "bar": [
           {
            "error_x": {
             "color": "#2a3f5f"
            },
            "error_y": {
             "color": "#2a3f5f"
            },
            "marker": {
             "line": {
              "color": "#E5ECF6",
              "width": 0.5
             },
             "pattern": {
              "fillmode": "overlay",
              "size": 10,
              "solidity": 0.2
             }
            },
            "type": "bar"
           }
          ],
          "barpolar": [
           {
            "marker": {
             "line": {
              "color": "#E5ECF6",
              "width": 0.5
             },
             "pattern": {
              "fillmode": "overlay",
              "size": 10,
              "solidity": 0.2
             }
            },
            "type": "barpolar"
           }
          ],
          "carpet": [
           {
            "aaxis": {
             "endlinecolor": "#2a3f5f",
             "gridcolor": "white",
             "linecolor": "white",
             "minorgridcolor": "white",
             "startlinecolor": "#2a3f5f"
            },
            "baxis": {
             "endlinecolor": "#2a3f5f",
             "gridcolor": "white",
             "linecolor": "white",
             "minorgridcolor": "white",
             "startlinecolor": "#2a3f5f"
            },
            "type": "carpet"
           }
          ],
          "choropleth": [
           {
            "colorbar": {
             "outlinewidth": 0,
             "ticks": ""
            },
            "type": "choropleth"
           }
          ],
          "contour": [
           {
            "colorbar": {
             "outlinewidth": 0,
             "ticks": ""
            },
            "colorscale": [
             [
              0,
              "#0d0887"
             ],
             [
              0.1111111111111111,
              "#46039f"
             ],
             [
              0.2222222222222222,
              "#7201a8"
             ],
             [
              0.3333333333333333,
              "#9c179e"
             ],
             [
              0.4444444444444444,
              "#bd3786"
             ],
             [
              0.5555555555555556,
              "#d8576b"
             ],
             [
              0.6666666666666666,
              "#ed7953"
             ],
             [
              0.7777777777777778,
              "#fb9f3a"
             ],
             [
              0.8888888888888888,
              "#fdca26"
             ],
             [
              1,
              "#f0f921"
             ]
            ],
            "type": "contour"
           }
          ],
          "contourcarpet": [
           {
            "colorbar": {
             "outlinewidth": 0,
             "ticks": ""
            },
            "type": "contourcarpet"
           }
          ],
          "heatmap": [
           {
            "colorbar": {
             "outlinewidth": 0,
             "ticks": ""
            },
            "colorscale": [
             [
              0,
              "#0d0887"
             ],
             [
              0.1111111111111111,
              "#46039f"
             ],
             [
              0.2222222222222222,
              "#7201a8"
             ],
             [
              0.3333333333333333,
              "#9c179e"
             ],
             [
              0.4444444444444444,
              "#bd3786"
             ],
             [
              0.5555555555555556,
              "#d8576b"
             ],
             [
              0.6666666666666666,
              "#ed7953"
             ],
             [
              0.7777777777777778,
              "#fb9f3a"
             ],
             [
              0.8888888888888888,
              "#fdca26"
             ],
             [
              1,
              "#f0f921"
             ]
            ],
            "type": "heatmap"
           }
          ],
          "histogram": [
           {
            "marker": {
             "pattern": {
              "fillmode": "overlay",
              "size": 10,
              "solidity": 0.2
             }
            },
            "type": "histogram"
           }
          ],
          "histogram2d": [
           {
            "colorbar": {
             "outlinewidth": 0,
             "ticks": ""
            },
            "colorscale": [
             [
              0,
              "#0d0887"
             ],
             [
              0.1111111111111111,
              "#46039f"
             ],
             [
              0.2222222222222222,
              "#7201a8"
             ],
             [
              0.3333333333333333,
              "#9c179e"
             ],
             [
              0.4444444444444444,
              "#bd3786"
             ],
             [
              0.5555555555555556,
              "#d8576b"
             ],
             [
              0.6666666666666666,
              "#ed7953"
             ],
             [
              0.7777777777777778,
              "#fb9f3a"
             ],
             [
              0.8888888888888888,
              "#fdca26"
             ],
             [
              1,
              "#f0f921"
             ]
            ],
            "type": "histogram2d"
           }
          ],
          "histogram2dcontour": [
           {
            "colorbar": {
             "outlinewidth": 0,
             "ticks": ""
            },
            "colorscale": [
             [
              0,
              "#0d0887"
             ],
             [
              0.1111111111111111,
              "#46039f"
             ],
             [
              0.2222222222222222,
              "#7201a8"
             ],
             [
              0.3333333333333333,
              "#9c179e"
             ],
             [
              0.4444444444444444,
              "#bd3786"
             ],
             [
              0.5555555555555556,
              "#d8576b"
             ],
             [
              0.6666666666666666,
              "#ed7953"
             ],
             [
              0.7777777777777778,
              "#fb9f3a"
             ],
             [
              0.8888888888888888,
              "#fdca26"
             ],
             [
              1,
              "#f0f921"
             ]
            ],
            "type": "histogram2dcontour"
           }
          ],
          "mesh3d": [
           {
            "colorbar": {
             "outlinewidth": 0,
             "ticks": ""
            },
            "type": "mesh3d"
           }
          ],
          "parcoords": [
           {
            "line": {
             "colorbar": {
              "outlinewidth": 0,
              "ticks": ""
             }
            },
            "type": "parcoords"
           }
          ],
          "pie": [
           {
            "automargin": true,
            "type": "pie"
           }
          ],
          "scatter": [
           {
            "fillpattern": {
             "fillmode": "overlay",
             "size": 10,
             "solidity": 0.2
            },
            "type": "scatter"
           }
          ],
          "scatter3d": [
           {
            "line": {
             "colorbar": {
              "outlinewidth": 0,
              "ticks": ""
             }
            },
            "marker": {
             "colorbar": {
              "outlinewidth": 0,
              "ticks": ""
             }
            },
            "type": "scatter3d"
           }
          ],
          "scattercarpet": [
           {
            "marker": {
             "colorbar": {
              "outlinewidth": 0,
              "ticks": ""
             }
            },
            "type": "scattercarpet"
           }
          ],
          "scattergeo": [
           {
            "marker": {
             "colorbar": {
              "outlinewidth": 0,
              "ticks": ""
             }
            },
            "type": "scattergeo"
           }
          ],
          "scattergl": [
           {
            "marker": {
             "colorbar": {
              "outlinewidth": 0,
              "ticks": ""
             }
            },
            "type": "scattergl"
           }
          ],
          "scattermap": [
           {
            "marker": {
             "colorbar": {
              "outlinewidth": 0,
              "ticks": ""
             }
            },
            "type": "scattermap"
           }
          ],
          "scattermapbox": [
           {
            "marker": {
             "colorbar": {
              "outlinewidth": 0,
              "ticks": ""
             }
            },
            "type": "scattermapbox"
           }
          ],
          "scatterpolar": [
           {
            "marker": {
             "colorbar": {
              "outlinewidth": 0,
              "ticks": ""
             }
            },
            "type": "scatterpolar"
           }
          ],
          "scatterpolargl": [
           {
            "marker": {
             "colorbar": {
              "outlinewidth": 0,
              "ticks": ""
             }
            },
            "type": "scatterpolargl"
           }
          ],
          "scatterternary": [
           {
            "marker": {
             "colorbar": {
              "outlinewidth": 0,
              "ticks": ""
             }
            },
            "type": "scatterternary"
           }
          ],
          "surface": [
           {
            "colorbar": {
             "outlinewidth": 0,
             "ticks": ""
            },
            "colorscale": [
             [
              0,
              "#0d0887"
             ],
             [
              0.1111111111111111,
              "#46039f"
             ],
             [
              0.2222222222222222,
              "#7201a8"
             ],
             [
              0.3333333333333333,
              "#9c179e"
             ],
             [
              0.4444444444444444,
              "#bd3786"
             ],
             [
              0.5555555555555556,
              "#d8576b"
             ],
             [
              0.6666666666666666,
              "#ed7953"
             ],
             [
              0.7777777777777778,
              "#fb9f3a"
             ],
             [
              0.8888888888888888,
              "#fdca26"
             ],
             [
              1,
              "#f0f921"
             ]
            ],
            "type": "surface"
           }
          ],
          "table": [
           {
            "cells": {
             "fill": {
              "color": "#EBF0F8"
             },
             "line": {
              "color": "white"
             }
            },
            "header": {
             "fill": {
              "color": "#C8D4E3"
             },
             "line": {
              "color": "white"
             }
            },
            "type": "table"
           }
          ]
         },
         "layout": {
          "annotationdefaults": {
           "arrowcolor": "#2a3f5f",
           "arrowhead": 0,
           "arrowwidth": 1
          },
          "autotypenumbers": "strict",
          "coloraxis": {
           "colorbar": {
            "outlinewidth": 0,
            "ticks": ""
           }
          },
          "colorscale": {
           "diverging": [
            [
             0,
             "#8e0152"
            ],
            [
             0.1,
             "#c51b7d"
            ],
            [
             0.2,
             "#de77ae"
            ],
            [
             0.3,
             "#f1b6da"
            ],
            [
             0.4,
             "#fde0ef"
            ],
            [
             0.5,
             "#f7f7f7"
            ],
            [
             0.6,
             "#e6f5d0"
            ],
            [
             0.7,
             "#b8e186"
            ],
            [
             0.8,
             "#7fbc41"
            ],
            [
             0.9,
             "#4d9221"
            ],
            [
             1,
             "#276419"
            ]
           ],
           "sequential": [
            [
             0,
             "#0d0887"
            ],
            [
             0.1111111111111111,
             "#46039f"
            ],
            [
             0.2222222222222222,
             "#7201a8"
            ],
            [
             0.3333333333333333,
             "#9c179e"
            ],
            [
             0.4444444444444444,
             "#bd3786"
            ],
            [
             0.5555555555555556,
             "#d8576b"
            ],
            [
             0.6666666666666666,
             "#ed7953"
            ],
            [
             0.7777777777777778,
             "#fb9f3a"
            ],
            [
             0.8888888888888888,
             "#fdca26"
            ],
            [
             1,
             "#f0f921"
            ]
           ],
           "sequentialminus": [
            [
             0,
             "#0d0887"
            ],
            [
             0.1111111111111111,
             "#46039f"
            ],
            [
             0.2222222222222222,
             "#7201a8"
            ],
            [
             0.3333333333333333,
             "#9c179e"
            ],
            [
             0.4444444444444444,
             "#bd3786"
            ],
            [
             0.5555555555555556,
             "#d8576b"
            ],
            [
             0.6666666666666666,
             "#ed7953"
            ],
            [
             0.7777777777777778,
             "#fb9f3a"
            ],
            [
             0.8888888888888888,
             "#fdca26"
            ],
            [
             1,
             "#f0f921"
            ]
           ]
          },
          "colorway": [
           "#636efa",
           "#EF553B",
           "#00cc96",
           "#ab63fa",
           "#FFA15A",
           "#19d3f3",
           "#FF6692",
           "#B6E880",
           "#FF97FF",
           "#FECB52"
          ],
          "font": {
           "color": "#2a3f5f"
          },
          "geo": {
           "bgcolor": "white",
           "lakecolor": "white",
           "landcolor": "#E5ECF6",
           "showlakes": true,
           "showland": true,
           "subunitcolor": "white"
          },
          "hoverlabel": {
           "align": "left"
          },
          "hovermode": "closest",
          "mapbox": {
           "style": "light"
          },
          "paper_bgcolor": "white",
          "plot_bgcolor": "#E5ECF6",
          "polar": {
           "angularaxis": {
            "gridcolor": "white",
            "linecolor": "white",
            "ticks": ""
           },
           "bgcolor": "#E5ECF6",
           "radialaxis": {
            "gridcolor": "white",
            "linecolor": "white",
            "ticks": ""
           }
          },
          "scene": {
           "xaxis": {
            "backgroundcolor": "#E5ECF6",
            "gridcolor": "white",
            "gridwidth": 2,
            "linecolor": "white",
            "showbackground": true,
            "ticks": "",
            "zerolinecolor": "white"
           },
           "yaxis": {
            "backgroundcolor": "#E5ECF6",
            "gridcolor": "white",
            "gridwidth": 2,
            "linecolor": "white",
            "showbackground": true,
            "ticks": "",
            "zerolinecolor": "white"
           },
           "zaxis": {
            "backgroundcolor": "#E5ECF6",
            "gridcolor": "white",
            "gridwidth": 2,
            "linecolor": "white",
            "showbackground": true,
            "ticks": "",
            "zerolinecolor": "white"
           }
          },
          "shapedefaults": {
           "line": {
            "color": "#2a3f5f"
           }
          },
          "ternary": {
           "aaxis": {
            "gridcolor": "white",
            "linecolor": "white",
            "ticks": ""
           },
           "baxis": {
            "gridcolor": "white",
            "linecolor": "white",
            "ticks": ""
           },
           "bgcolor": "#E5ECF6",
           "caxis": {
            "gridcolor": "white",
            "linecolor": "white",
            "ticks": ""
           }
          },
          "title": {
           "x": 0.05
          },
          "xaxis": {
           "automargin": true,
           "gridcolor": "white",
           "linecolor": "white",
           "ticks": "",
           "title": {
            "standoff": 15
           },
           "zerolinecolor": "white",
           "zerolinewidth": 2
          },
          "yaxis": {
           "automargin": true,
           "gridcolor": "white",
           "linecolor": "white",
           "ticks": "",
           "title": {
            "standoff": 15
           },
           "zerolinecolor": "white",
           "zerolinewidth": 2
          }
         }
        },
        "title": {
         "text": "Producer Distribution"
        },
        "xaxis": {
         "title": {
          "text": "Producer"
         }
        },
        "yaxis": {
         "title": {
          "text": "Count"
         }
        }
       }
      }
     },
     "metadata": {},
     "output_type": "display_data"
    }
   ],
   "source": [
    "# plot bar chart for producer\n",
    "fig = go.Figure()\n",
    "# bar plot\n",
    "fig.add_trace(go.Bar(x=df['producer'].value_counts().index, y=df['producer'].value_counts().values, marker_color='blue',))\n",
    "fig.update_layout(title='Producer Distribution', xaxis_title='Producer', yaxis_title='Count')\n",
    "fig.show()"
   ]
  },
  {
   "cell_type": "markdown",
   "metadata": {},
   "source": [
    "## Data-Typo"
   ]
  },
  {
   "cell_type": "code",
   "execution_count": 44,
   "metadata": {},
   "outputs": [
    {
     "name": "stdout",
     "output_type": "stream",
     "text": [
      "Data shape after dropping ['mill', 'farm_name', 'lot_number', 'producer']: (207, 35) | rows: 207 | columns: 35\n"
     ]
    }
   ],
   "source": [
    "# Discard 'mill', 'farm_name', 'lot_number', 'producer' columns\n",
    "df = df.drop(['mill', 'farm_name', 'lot_number', 'producer'], axis=1)\n",
    "print(f\"Data shape after dropping ['mill', 'farm_name', 'lot_number', 'producer']: {df.shape} | rows: {df.shape[0]} | columns: {df.shape[1]}\")"
   ]
  },
  {
   "cell_type": "code",
   "execution_count": 45,
   "metadata": {},
   "outputs": [],
   "source": [
    "numeric_df, object_df = get_info(df)"
   ]
  },
  {
   "cell_type": "code",
   "execution_count": 46,
   "metadata": {},
   "outputs": [
    {
     "data": {
      "text/html": [
       "<div>\n",
       "<style scoped>\n",
       "    .dataframe tbody tr th:only-of-type {\n",
       "        vertical-align: middle;\n",
       "    }\n",
       "\n",
       "    .dataframe tbody tr th {\n",
       "        vertical-align: top;\n",
       "    }\n",
       "\n",
       "    .dataframe thead th {\n",
       "        text-align: right;\n",
       "    }\n",
       "</style>\n",
       "<table border=\"1\" class=\"dataframe\">\n",
       "  <thead>\n",
       "    <tr style=\"text-align: right;\">\n",
       "      <th></th>\n",
       "      <th>column</th>\n",
       "      <th>dtype</th>\n",
       "      <th>valid</th>\n",
       "      <th>missing</th>\n",
       "      <th>unique</th>\n",
       "      <th>unique_pct</th>\n",
       "      <th>mean</th>\n",
       "      <th>std</th>\n",
       "      <th>min</th>\n",
       "      <th>25%</th>\n",
       "      <th>50%</th>\n",
       "      <th>75%</th>\n",
       "      <th>max</th>\n",
       "    </tr>\n",
       "  </thead>\n",
       "  <tbody>\n",
       "    <tr>\n",
       "      <th>0</th>\n",
       "      <td>altitude</td>\n",
       "      <td>float64</td>\n",
       "      <td>207</td>\n",
       "      <td>0</td>\n",
       "      <td>77</td>\n",
       "      <td>37.20</td>\n",
       "      <td>1313.25</td>\n",
       "      <td>720.08</td>\n",
       "      <td>139.00</td>\n",
       "      <td>1020.00</td>\n",
       "      <td>1340.00</td>\n",
       "      <td>1600.000</td>\n",
       "      <td>5400.00</td>\n",
       "    </tr>\n",
       "    <tr>\n",
       "      <th>1</th>\n",
       "      <td>number_of_bags</td>\n",
       "      <td>int64</td>\n",
       "      <td>207</td>\n",
       "      <td>0</td>\n",
       "      <td>55</td>\n",
       "      <td>26.57</td>\n",
       "      <td>155.45</td>\n",
       "      <td>244.48</td>\n",
       "      <td>1.00</td>\n",
       "      <td>1.00</td>\n",
       "      <td>14.00</td>\n",
       "      <td>275.000</td>\n",
       "      <td>2240.00</td>\n",
       "    </tr>\n",
       "    <tr>\n",
       "      <th>2</th>\n",
       "      <td>aroma</td>\n",
       "      <td>float64</td>\n",
       "      <td>207</td>\n",
       "      <td>0</td>\n",
       "      <td>19</td>\n",
       "      <td>9.18</td>\n",
       "      <td>7.72</td>\n",
       "      <td>0.29</td>\n",
       "      <td>6.50</td>\n",
       "      <td>7.58</td>\n",
       "      <td>7.67</td>\n",
       "      <td>7.920</td>\n",
       "      <td>8.58</td>\n",
       "    </tr>\n",
       "    <tr>\n",
       "      <th>3</th>\n",
       "      <td>flavor</td>\n",
       "      <td>float64</td>\n",
       "      <td>207</td>\n",
       "      <td>0</td>\n",
       "      <td>19</td>\n",
       "      <td>9.18</td>\n",
       "      <td>7.74</td>\n",
       "      <td>0.28</td>\n",
       "      <td>6.75</td>\n",
       "      <td>7.58</td>\n",
       "      <td>7.75</td>\n",
       "      <td>7.920</td>\n",
       "      <td>8.50</td>\n",
       "    </tr>\n",
       "    <tr>\n",
       "      <th>4</th>\n",
       "      <td>aftertaste</td>\n",
       "      <td>float64</td>\n",
       "      <td>207</td>\n",
       "      <td>0</td>\n",
       "      <td>20</td>\n",
       "      <td>9.66</td>\n",
       "      <td>7.60</td>\n",
       "      <td>0.28</td>\n",
       "      <td>6.67</td>\n",
       "      <td>7.42</td>\n",
       "      <td>7.58</td>\n",
       "      <td>7.750</td>\n",
       "      <td>8.42</td>\n",
       "    </tr>\n",
       "    <tr>\n",
       "      <th>5</th>\n",
       "      <td>acidity</td>\n",
       "      <td>float64</td>\n",
       "      <td>207</td>\n",
       "      <td>0</td>\n",
       "      <td>19</td>\n",
       "      <td>9.18</td>\n",
       "      <td>7.69</td>\n",
       "      <td>0.26</td>\n",
       "      <td>6.83</td>\n",
       "      <td>7.50</td>\n",
       "      <td>7.67</td>\n",
       "      <td>7.875</td>\n",
       "      <td>8.58</td>\n",
       "    </tr>\n",
       "    <tr>\n",
       "      <th>6</th>\n",
       "      <td>body</td>\n",
       "      <td>float64</td>\n",
       "      <td>207</td>\n",
       "      <td>0</td>\n",
       "      <td>17</td>\n",
       "      <td>8.21</td>\n",
       "      <td>7.64</td>\n",
       "      <td>0.23</td>\n",
       "      <td>6.83</td>\n",
       "      <td>7.50</td>\n",
       "      <td>7.67</td>\n",
       "      <td>7.750</td>\n",
       "      <td>8.25</td>\n",
       "    </tr>\n",
       "    <tr>\n",
       "      <th>7</th>\n",
       "      <td>balance</td>\n",
       "      <td>float64</td>\n",
       "      <td>207</td>\n",
       "      <td>0</td>\n",
       "      <td>18</td>\n",
       "      <td>8.70</td>\n",
       "      <td>7.64</td>\n",
       "      <td>0.26</td>\n",
       "      <td>6.67</td>\n",
       "      <td>7.50</td>\n",
       "      <td>7.67</td>\n",
       "      <td>7.790</td>\n",
       "      <td>8.42</td>\n",
       "    </tr>\n",
       "    <tr>\n",
       "      <th>8</th>\n",
       "      <td>uniformity</td>\n",
       "      <td>float64</td>\n",
       "      <td>207</td>\n",
       "      <td>0</td>\n",
       "      <td>3</td>\n",
       "      <td>1.45</td>\n",
       "      <td>9.99</td>\n",
       "      <td>0.10</td>\n",
       "      <td>8.67</td>\n",
       "      <td>10.00</td>\n",
       "      <td>10.00</td>\n",
       "      <td>10.000</td>\n",
       "      <td>10.00</td>\n",
       "    </tr>\n",
       "    <tr>\n",
       "      <th>9</th>\n",
       "      <td>clean_cup</td>\n",
       "      <td>float64</td>\n",
       "      <td>207</td>\n",
       "      <td>0</td>\n",
       "      <td>1</td>\n",
       "      <td>0.48</td>\n",
       "      <td>10.00</td>\n",
       "      <td>0.00</td>\n",
       "      <td>10.00</td>\n",
       "      <td>10.00</td>\n",
       "      <td>10.00</td>\n",
       "      <td>10.000</td>\n",
       "      <td>10.00</td>\n",
       "    </tr>\n",
       "    <tr>\n",
       "      <th>10</th>\n",
       "      <td>sweetness</td>\n",
       "      <td>float64</td>\n",
       "      <td>207</td>\n",
       "      <td>0</td>\n",
       "      <td>1</td>\n",
       "      <td>0.48</td>\n",
       "      <td>10.00</td>\n",
       "      <td>0.00</td>\n",
       "      <td>10.00</td>\n",
       "      <td>10.00</td>\n",
       "      <td>10.00</td>\n",
       "      <td>10.000</td>\n",
       "      <td>10.00</td>\n",
       "    </tr>\n",
       "    <tr>\n",
       "      <th>11</th>\n",
       "      <td>overall</td>\n",
       "      <td>float64</td>\n",
       "      <td>207</td>\n",
       "      <td>0</td>\n",
       "      <td>21</td>\n",
       "      <td>10.14</td>\n",
       "      <td>7.68</td>\n",
       "      <td>0.31</td>\n",
       "      <td>6.67</td>\n",
       "      <td>7.50</td>\n",
       "      <td>7.67</td>\n",
       "      <td>7.920</td>\n",
       "      <td>8.58</td>\n",
       "    </tr>\n",
       "    <tr>\n",
       "      <th>12</th>\n",
       "      <td>defects</td>\n",
       "      <td>float64</td>\n",
       "      <td>207</td>\n",
       "      <td>0</td>\n",
       "      <td>1</td>\n",
       "      <td>0.48</td>\n",
       "      <td>0.00</td>\n",
       "      <td>0.00</td>\n",
       "      <td>0.00</td>\n",
       "      <td>0.00</td>\n",
       "      <td>0.00</td>\n",
       "      <td>0.000</td>\n",
       "      <td>0.00</td>\n",
       "    </tr>\n",
       "    <tr>\n",
       "      <th>13</th>\n",
       "      <td>total_cup_points</td>\n",
       "      <td>float64</td>\n",
       "      <td>207</td>\n",
       "      <td>0</td>\n",
       "      <td>81</td>\n",
       "      <td>39.13</td>\n",
       "      <td>83.71</td>\n",
       "      <td>1.73</td>\n",
       "      <td>78.00</td>\n",
       "      <td>82.58</td>\n",
       "      <td>83.75</td>\n",
       "      <td>84.830</td>\n",
       "      <td>89.33</td>\n",
       "    </tr>\n",
       "    <tr>\n",
       "      <th>14</th>\n",
       "      <td>moisture_percentage</td>\n",
       "      <td>float64</td>\n",
       "      <td>207</td>\n",
       "      <td>0</td>\n",
       "      <td>46</td>\n",
       "      <td>22.22</td>\n",
       "      <td>10.74</td>\n",
       "      <td>1.25</td>\n",
       "      <td>0.00</td>\n",
       "      <td>10.10</td>\n",
       "      <td>10.80</td>\n",
       "      <td>11.500</td>\n",
       "      <td>13.50</td>\n",
       "    </tr>\n",
       "    <tr>\n",
       "      <th>15</th>\n",
       "      <td>category_one_defects</td>\n",
       "      <td>int64</td>\n",
       "      <td>207</td>\n",
       "      <td>0</td>\n",
       "      <td>6</td>\n",
       "      <td>2.90</td>\n",
       "      <td>0.14</td>\n",
       "      <td>0.59</td>\n",
       "      <td>0.00</td>\n",
       "      <td>0.00</td>\n",
       "      <td>0.00</td>\n",
       "      <td>0.000</td>\n",
       "      <td>5.00</td>\n",
       "    </tr>\n",
       "    <tr>\n",
       "      <th>16</th>\n",
       "      <td>quakers</td>\n",
       "      <td>int64</td>\n",
       "      <td>207</td>\n",
       "      <td>0</td>\n",
       "      <td>11</td>\n",
       "      <td>5.31</td>\n",
       "      <td>0.69</td>\n",
       "      <td>1.69</td>\n",
       "      <td>0.00</td>\n",
       "      <td>0.00</td>\n",
       "      <td>0.00</td>\n",
       "      <td>1.000</td>\n",
       "      <td>12.00</td>\n",
       "    </tr>\n",
       "    <tr>\n",
       "      <th>17</th>\n",
       "      <td>category_two_defects</td>\n",
       "      <td>int64</td>\n",
       "      <td>207</td>\n",
       "      <td>0</td>\n",
       "      <td>14</td>\n",
       "      <td>6.76</td>\n",
       "      <td>2.25</td>\n",
       "      <td>2.95</td>\n",
       "      <td>0.00</td>\n",
       "      <td>0.00</td>\n",
       "      <td>1.00</td>\n",
       "      <td>3.000</td>\n",
       "      <td>16.00</td>\n",
       "    </tr>\n",
       "  </tbody>\n",
       "</table>\n",
       "</div>"
      ],
      "text/plain": [
       "                  column    dtype  valid  missing  unique  unique_pct  \\\n",
       "0               altitude  float64    207        0      77       37.20   \n",
       "1         number_of_bags    int64    207        0      55       26.57   \n",
       "2                  aroma  float64    207        0      19        9.18   \n",
       "3                 flavor  float64    207        0      19        9.18   \n",
       "4             aftertaste  float64    207        0      20        9.66   \n",
       "5                acidity  float64    207        0      19        9.18   \n",
       "6                   body  float64    207        0      17        8.21   \n",
       "7                balance  float64    207        0      18        8.70   \n",
       "8             uniformity  float64    207        0       3        1.45   \n",
       "9              clean_cup  float64    207        0       1        0.48   \n",
       "10             sweetness  float64    207        0       1        0.48   \n",
       "11               overall  float64    207        0      21       10.14   \n",
       "12               defects  float64    207        0       1        0.48   \n",
       "13      total_cup_points  float64    207        0      81       39.13   \n",
       "14   moisture_percentage  float64    207        0      46       22.22   \n",
       "15  category_one_defects    int64    207        0       6        2.90   \n",
       "16               quakers    int64    207        0      11        5.31   \n",
       "17  category_two_defects    int64    207        0      14        6.76   \n",
       "\n",
       "       mean     std     min      25%      50%       75%      max  \n",
       "0   1313.25  720.08  139.00  1020.00  1340.00  1600.000  5400.00  \n",
       "1    155.45  244.48    1.00     1.00    14.00   275.000  2240.00  \n",
       "2      7.72    0.29    6.50     7.58     7.67     7.920     8.58  \n",
       "3      7.74    0.28    6.75     7.58     7.75     7.920     8.50  \n",
       "4      7.60    0.28    6.67     7.42     7.58     7.750     8.42  \n",
       "5      7.69    0.26    6.83     7.50     7.67     7.875     8.58  \n",
       "6      7.64    0.23    6.83     7.50     7.67     7.750     8.25  \n",
       "7      7.64    0.26    6.67     7.50     7.67     7.790     8.42  \n",
       "8      9.99    0.10    8.67    10.00    10.00    10.000    10.00  \n",
       "9     10.00    0.00   10.00    10.00    10.00    10.000    10.00  \n",
       "10    10.00    0.00   10.00    10.00    10.00    10.000    10.00  \n",
       "11     7.68    0.31    6.67     7.50     7.67     7.920     8.58  \n",
       "12     0.00    0.00    0.00     0.00     0.00     0.000     0.00  \n",
       "13    83.71    1.73   78.00    82.58    83.75    84.830    89.33  \n",
       "14    10.74    1.25    0.00    10.10    10.80    11.500    13.50  \n",
       "15     0.14    0.59    0.00     0.00     0.00     0.000     5.00  \n",
       "16     0.69    1.69    0.00     0.00     0.00     1.000    12.00  \n",
       "17     2.25    2.95    0.00     0.00     1.00     3.000    16.00  "
      ]
     },
     "execution_count": 46,
     "metadata": {},
     "output_type": "execute_result"
    }
   ],
   "source": [
    "numeric_df"
   ]
  },
  {
   "cell_type": "code",
   "execution_count": 47,
   "metadata": {},
   "outputs": [
    {
     "data": {
      "text/html": [
       "<div>\n",
       "<style scoped>\n",
       "    .dataframe tbody tr th:only-of-type {\n",
       "        vertical-align: middle;\n",
       "    }\n",
       "\n",
       "    .dataframe tbody tr th {\n",
       "        vertical-align: top;\n",
       "    }\n",
       "\n",
       "    .dataframe thead th {\n",
       "        text-align: right;\n",
       "    }\n",
       "</style>\n",
       "<table border=\"1\" class=\"dataframe\">\n",
       "  <thead>\n",
       "    <tr style=\"text-align: right;\">\n",
       "      <th></th>\n",
       "      <th>column</th>\n",
       "      <th>dtype</th>\n",
       "      <th>valid</th>\n",
       "      <th>missing</th>\n",
       "      <th>unique</th>\n",
       "      <th>unique_pct</th>\n",
       "      <th>top</th>\n",
       "      <th>freq</th>\n",
       "    </tr>\n",
       "  </thead>\n",
       "  <tbody>\n",
       "    <tr>\n",
       "      <th>0</th>\n",
       "      <td>country_of_origin</td>\n",
       "      <td>object</td>\n",
       "      <td>207</td>\n",
       "      <td>0</td>\n",
       "      <td>22</td>\n",
       "      <td>10.63</td>\n",
       "      <td>Taiwan</td>\n",
       "      <td>61</td>\n",
       "    </tr>\n",
       "    <tr>\n",
       "      <th>1</th>\n",
       "      <td>ico_number</td>\n",
       "      <td>bool</td>\n",
       "      <td>207</td>\n",
       "      <td>0</td>\n",
       "      <td>2</td>\n",
       "      <td>0.97</td>\n",
       "      <td>False</td>\n",
       "      <td>137</td>\n",
       "    </tr>\n",
       "    <tr>\n",
       "      <th>2</th>\n",
       "      <td>company</td>\n",
       "      <td>object</td>\n",
       "      <td>207</td>\n",
       "      <td>0</td>\n",
       "      <td>72</td>\n",
       "      <td>34.78</td>\n",
       "      <td>Taiwan Coffee Laboratory</td>\n",
       "      <td>51</td>\n",
       "    </tr>\n",
       "    <tr>\n",
       "      <th>3</th>\n",
       "      <td>region</td>\n",
       "      <td>object</td>\n",
       "      <td>207</td>\n",
       "      <td>0</td>\n",
       "      <td>120</td>\n",
       "      <td>57.97</td>\n",
       "      <td>Chiayi</td>\n",
       "      <td>12</td>\n",
       "    </tr>\n",
       "    <tr>\n",
       "      <th>4</th>\n",
       "      <td>bag_weight</td>\n",
       "      <td>object</td>\n",
       "      <td>207</td>\n",
       "      <td>0</td>\n",
       "      <td>39</td>\n",
       "      <td>18.84</td>\n",
       "      <td>30 kg</td>\n",
       "      <td>39</td>\n",
       "    </tr>\n",
       "    <tr>\n",
       "      <th>5</th>\n",
       "      <td>in_country_partner</td>\n",
       "      <td>object</td>\n",
       "      <td>207</td>\n",
       "      <td>0</td>\n",
       "      <td>21</td>\n",
       "      <td>10.14</td>\n",
       "      <td>Taiwan Coffee Laboratory 台灣咖啡研究室</td>\n",
       "      <td>83</td>\n",
       "    </tr>\n",
       "    <tr>\n",
       "      <th>6</th>\n",
       "      <td>harvest_year</td>\n",
       "      <td>object</td>\n",
       "      <td>207</td>\n",
       "      <td>0</td>\n",
       "      <td>7</td>\n",
       "      <td>3.38</td>\n",
       "      <td>2021 / 2022</td>\n",
       "      <td>99</td>\n",
       "    </tr>\n",
       "    <tr>\n",
       "      <th>7</th>\n",
       "      <td>grading_date</td>\n",
       "      <td>object</td>\n",
       "      <td>207</td>\n",
       "      <td>0</td>\n",
       "      <td>75</td>\n",
       "      <td>36.23</td>\n",
       "      <td>November 15th, 2022</td>\n",
       "      <td>40</td>\n",
       "    </tr>\n",
       "    <tr>\n",
       "      <th>8</th>\n",
       "      <td>owner</td>\n",
       "      <td>object</td>\n",
       "      <td>207</td>\n",
       "      <td>0</td>\n",
       "      <td>80</td>\n",
       "      <td>38.65</td>\n",
       "      <td>Taiwan Coffee Laboratory 台灣咖啡研究室</td>\n",
       "      <td>30</td>\n",
       "    </tr>\n",
       "    <tr>\n",
       "      <th>9</th>\n",
       "      <td>variety</td>\n",
       "      <td>object</td>\n",
       "      <td>207</td>\n",
       "      <td>0</td>\n",
       "      <td>46</td>\n",
       "      <td>22.22</td>\n",
       "      <td>Gesha</td>\n",
       "      <td>38</td>\n",
       "    </tr>\n",
       "    <tr>\n",
       "      <th>10</th>\n",
       "      <td>status</td>\n",
       "      <td>object</td>\n",
       "      <td>207</td>\n",
       "      <td>0</td>\n",
       "      <td>1</td>\n",
       "      <td>0.48</td>\n",
       "      <td>Completed</td>\n",
       "      <td>207</td>\n",
       "    </tr>\n",
       "    <tr>\n",
       "      <th>11</th>\n",
       "      <td>processing_method</td>\n",
       "      <td>object</td>\n",
       "      <td>207</td>\n",
       "      <td>0</td>\n",
       "      <td>10</td>\n",
       "      <td>4.83</td>\n",
       "      <td>Washed / Wet</td>\n",
       "      <td>127</td>\n",
       "    </tr>\n",
       "    <tr>\n",
       "      <th>12</th>\n",
       "      <td>color</td>\n",
       "      <td>object</td>\n",
       "      <td>207</td>\n",
       "      <td>0</td>\n",
       "      <td>12</td>\n",
       "      <td>5.80</td>\n",
       "      <td>green</td>\n",
       "      <td>101</td>\n",
       "    </tr>\n",
       "    <tr>\n",
       "      <th>13</th>\n",
       "      <td>expiration</td>\n",
       "      <td>object</td>\n",
       "      <td>207</td>\n",
       "      <td>0</td>\n",
       "      <td>75</td>\n",
       "      <td>36.23</td>\n",
       "      <td>November 15th, 2023</td>\n",
       "      <td>40</td>\n",
       "    </tr>\n",
       "    <tr>\n",
       "      <th>14</th>\n",
       "      <td>certification_body</td>\n",
       "      <td>object</td>\n",
       "      <td>207</td>\n",
       "      <td>0</td>\n",
       "      <td>21</td>\n",
       "      <td>10.14</td>\n",
       "      <td>Taiwan Coffee Laboratory 台灣咖啡研究室</td>\n",
       "      <td>83</td>\n",
       "    </tr>\n",
       "    <tr>\n",
       "      <th>15</th>\n",
       "      <td>certification_address</td>\n",
       "      <td>object</td>\n",
       "      <td>207</td>\n",
       "      <td>0</td>\n",
       "      <td>21</td>\n",
       "      <td>10.14</td>\n",
       "      <td>QAHWAH CO., LTD 4F, No. 225, Sec. 3, Beixin Rd...</td>\n",
       "      <td>83</td>\n",
       "    </tr>\n",
       "    <tr>\n",
       "      <th>16</th>\n",
       "      <td>certification_contact</td>\n",
       "      <td>object</td>\n",
       "      <td>207</td>\n",
       "      <td>0</td>\n",
       "      <td>21</td>\n",
       "      <td>10.14</td>\n",
       "      <td>Lin, Jen-An Neil 林仁安 - 886-289116612</td>\n",
       "      <td>83</td>\n",
       "    </tr>\n",
       "  </tbody>\n",
       "</table>\n",
       "</div>"
      ],
      "text/plain": [
       "                   column   dtype  valid  missing  unique  unique_pct  \\\n",
       "0       country_of_origin  object    207        0      22       10.63   \n",
       "1              ico_number    bool    207        0       2        0.97   \n",
       "2                 company  object    207        0      72       34.78   \n",
       "3                  region  object    207        0     120       57.97   \n",
       "4              bag_weight  object    207        0      39       18.84   \n",
       "5      in_country_partner  object    207        0      21       10.14   \n",
       "6            harvest_year  object    207        0       7        3.38   \n",
       "7            grading_date  object    207        0      75       36.23   \n",
       "8                   owner  object    207        0      80       38.65   \n",
       "9                 variety  object    207        0      46       22.22   \n",
       "10                 status  object    207        0       1        0.48   \n",
       "11      processing_method  object    207        0      10        4.83   \n",
       "12                  color  object    207        0      12        5.80   \n",
       "13             expiration  object    207        0      75       36.23   \n",
       "14     certification_body  object    207        0      21       10.14   \n",
       "15  certification_address  object    207        0      21       10.14   \n",
       "16  certification_contact  object    207        0      21       10.14   \n",
       "\n",
       "                                                  top  freq  \n",
       "0                                              Taiwan    61  \n",
       "1                                               False   137  \n",
       "2                            Taiwan Coffee Laboratory    51  \n",
       "3                                              Chiayi    12  \n",
       "4                                               30 kg    39  \n",
       "5                    Taiwan Coffee Laboratory 台灣咖啡研究室    83  \n",
       "6                                         2021 / 2022    99  \n",
       "7                                 November 15th, 2022    40  \n",
       "8                    Taiwan Coffee Laboratory 台灣咖啡研究室    30  \n",
       "9                                               Gesha    38  \n",
       "10                                          Completed   207  \n",
       "11                                       Washed / Wet   127  \n",
       "12                                              green   101  \n",
       "13                                November 15th, 2023    40  \n",
       "14                   Taiwan Coffee Laboratory 台灣咖啡研究室    83  \n",
       "15  QAHWAH CO., LTD 4F, No. 225, Sec. 3, Beixin Rd...    83  \n",
       "16               Lin, Jen-An Neil 林仁安 - 886-289116612    83  "
      ]
     },
     "execution_count": 47,
     "metadata": {},
     "output_type": "execute_result"
    }
   ],
   "source": [
    "object_df"
   ]
  },
  {
   "cell_type": "code",
   "execution_count": 48,
   "metadata": {},
   "outputs": [
    {
     "data": {
      "text/plain": [
       "bag_weight\n",
       "30.0     0.188406\n",
       "60.0     0.149758\n",
       "69.0     0.120773\n",
       "1.0      0.067633\n",
       "15.0     0.048309\n",
       "5.0      0.048309\n",
       "2.0      0.038647\n",
       "70.0     0.028986\n",
       "100.0    0.028986\n",
       "50.0     0.028986\n",
       "Name: proportion, dtype: float64"
      ]
     },
     "execution_count": 48,
     "metadata": {},
     "output_type": "execute_result"
    }
   ],
   "source": [
    "# From object_df_new found that 'bag_weight' can convert to numnerical with split kg out\n",
    "df['bag_weight'] = df['bag_weight'].str.split('kg').str[0].astype(float)\n",
    "df['bag_weight'].value_counts(normalize=True).iloc[:10]"
   ]
  },
  {
   "cell_type": "markdown",
   "metadata": {},
   "source": [
    "## Exploring-Data"
   ]
  },
  {
   "cell_type": "code",
   "execution_count": 49,
   "metadata": {},
   "outputs": [],
   "source": [
    "numeric_df, object_df = get_info(df)"
   ]
  },
  {
   "cell_type": "markdown",
   "metadata": {},
   "source": [
    "### Numerical-Data\n",
    "- [1. Altitude Outlier](####1.Altitude-Outlier)\n",
    "- [2. Bag Weight Outlier](####2.Bag-Weight-Outlier)\n",
    "- [3. Number of Bags Outlier](####3.Number-of-Bags-Outlier)"
   ]
  },
  {
   "cell_type": "code",
   "execution_count": 50,
   "metadata": {},
   "outputs": [],
   "source": [
    "# correct outliers with IQR method\n",
    "def correct_outliers(df, column):\n",
    "    \"\"\"\n",
    "    This function corrects outliers using IQR method\n",
    "    Args:\n",
    "        df: pd.DataFrame\n",
    "        column: str\n",
    "    Returns:\n",
    "        pd.DataFrame\n",
    "    \"\"\"\n",
    "    q1 = df[column].quantile(0.25)\n",
    "    q3 = df[column].quantile(0.75)\n",
    "    iqr = q3 - q1\n",
    "    lower_bound = q1 - 1.5 * iqr\n",
    "    upper_bound = q3 + 1.5 * iqr\n",
    "    df.loc[df[column] < lower_bound, column] = lower_bound\n",
    "    df.loc[df[column] > upper_bound, column] = upper_bound\n",
    "    return df\n",
    "\n",
    "\n",
    "def plot_box(df: pd.DataFrame, column: str=None):\n",
    "    \"\"\"\n",
    "    This function plots boxplot for the column\n",
    "    Args:\n",
    "        df: pd.DataFrame\n",
    "        column: str\n",
    "    \"\"\"\n",
    "    fig = go.Figure()\n",
    "    if column:\n",
    "        fig.add_trace(go.Box(y=df[column], name=column, boxmean=True))\n",
    "        fig.update_layout(title=f'Distribution of the {column}')\n",
    "    else:\n",
    "        numeric_df, _ = get_info(df)\n",
    "        for i, row in numeric_df.iterrows():\n",
    "            fig.add_trace(go.Box(y=df[row['column']], name=row['column'], boxmean=True))\n",
    "        fig.update_layout(title=f'Distribution of the numeric columns')\n",
    "    fig.show()\n"
   ]
  },
  {
   "cell_type": "code",
   "execution_count": 51,
   "metadata": {},
   "outputs": [
    {
     "data": {
      "application/vnd.plotly.v1+json": {
       "config": {
        "plotlyServerURL": "https://plot.ly"
       },
       "data": [
        {
         "boxmean": true,
         "name": "altitude",
         "type": "box",
         "y": {
          "bdata": "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",
          "dtype": "f8"
         }
        },
        {
         "boxmean": true,
         "name": "number_of_bags",
         "type": "box",
         "y": {
          "bdata": "AQABABMAAQACAAUAAQABAAEAQAEKAAUAAQAoAEYAAQAIAAUACADIAAgAAQACAAYABAAZAAEAAQABAFAAAwADAAQAQAFAAUABAQAUACwBFAABAAEAAQBAAQEABgBYAngCEwEBAAEAQAEDAGwCAQABAAUAyAABAFgCQgAEAQEAEABKAAEAAQADAAEAAQBUAUgCAQABAFgCCgBAARQAEwEBADcABQBZARMBAQABAK4ByAAQAMgALAFAARMB+gABACMAAQB3AVgCewJkAB0BBAAoAFgCAQAyAGQAAQAJAAEAAQATAQQBWAICAEABBQCWAAEAQAEBAEABAQACAEABAQACAEABwAMBAAIACQAEAQEAAQAaAPoARQFYAgEAjQABACwBEwECABYAEwEKAPoAAgAGAEUBAQABAHgAWALIAGwCBAAKAFkBAQATAU0AWAITAQEAEwEDAA0AfQABAAEAAQACAPQBEwFAARMBHAIBAAEADgBFARMBIABkAAEAAQACAAUAAgABALgBAQATARMBAwATAQEAuAHACCwBVwEBAFgC",
          "dtype": "i2"
         }
        },
        {
         "boxmean": true,
         "name": "bag_weight",
         "type": "box",
         "y": {
          "bdata": "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",
          "dtype": "f8"
         }
        },
        {
         "boxmean": true,
         "name": "aroma",
         "type": "box",
         "y": {
          "bdata": "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",
          "dtype": "f8"
         }
        },
        {
         "boxmean": true,
         "name": "flavor",
         "type": "box",
         "y": {
          "bdata": "AAAAAAAAIUAAAAAAAAAhQNejcD0K1yBA16NwPQpXIEApXI/C9aggQClcj8L1qCBA16NwPQpXIEAAAAAAAIAgQClcj8L1KCBA16NwPQpXIEAAAAAAAIAgQAAAAAAAACBAAAAAAAAAIEDXo3A9ClcgQAAAAAAAACBAKVyPwvUoIEApXI/C9SggQNejcD0KVyBA16NwPQpXIEAAAAAAAAAgQK5H4XoUrh9AAAAAAAAAIEAAAAAAAAAgQAAAAAAAACBAAAAAAAAAIEApXI/C9SggQK5H4XoUrh9AKVyPwvUoIEAAAAAAAAAgQK5H4XoUrh9AAAAAAAAAIEAAAAAAAAAgQNejcD0KVyBAUrgehetRH0ApXI/C9SggQAAAAAAAAB9ArkfhehSuH0ApXI/C9SggQAAAAAAAAB9ArkfhehSuH0CuR+F6FK4fQClcj8L1KCBArkfhehSuH0CuR+F6FK4fQAAAAAAAACBAKVyPwvUoIEApXI/C9SggQAAAAAAAACBArkfhehSuH0CuR+F6FK4fQAAAAAAAACBArkfhehSuH0AAAAAAAAAgQAAAAAAAAB9AUrgehetRH0CuR+F6FK4fQK5H4XoUrh9AUrgehetRH0ApXI/C9SggQAAAAAAAACBAAAAAAAAAIEBSuB6F61EfQFK4HoXrUR9AUrgehetRH0AAAAAAAAAfQFK4HoXrUR9AAAAAAAAAIEBSuB6F61EfQFK4HoXrUR9ArkfhehSuH0CuR+F6FK4fQFK4HoXrUR9ArkfhehSuH0AAAAAAAAAgQFK4HoXrUR9AUrgehetRH0AAAAAAAAAfQFK4HoXrUR9AAAAAAAAAH0CuR+F6FK4eQK5H4XoUrh9ArkfhehSuH0AAAAAAAAAfQK5H4XoUrh9ArkfhehSuH0AAAAAAAAAfQFK4HoXrUR9ArkfhehSuH0AAAAAAAAAfQK5H4XoUrh5AAAAAAAAAH0BSuB6F61EeQFK4HoXrUR9ArkfhehSuH0BSuB6F61EfQFK4HoXrUR9ArkfhehSuHkAAAAAAAAAfQFK4HoXrUR9ArkfhehSuH0CuR+F6FK4eQAAAAAAAAB9ArkfhehSuH0CuR+F6FK4fQK5H4XoUrh5AAAAAAAAAH0CuR+F6FK4eQFK4HoXrUR9AAAAAAAAAH0CuR+F6FK4eQK5H4XoUrh5AAAAAAAAAH0BSuB6F61EfQK5H4XoUrh5AAAAAAAAAH0BSuB6F61EfQK5H4XoUrh1ArkfhehSuHkAAAAAAAAAfQK5H4XoUrh9ArkfhehSuHkCuR+F6FK4eQAAAAAAAAB9ArkfhehSuHkCuR+F6FK4eQAAAAAAAAB9AUrgehetRH0CuR+F6FK4fQK5H4XoUrh5AAAAAAAAAHkAAAAAAAAAfQK5H4XoUrh5AAAAAAAAAH0BSuB6F61EeQAAAAAAAAB9ArkfhehSuHkAAAAAAAAAfQK5H4XoUrh5AUrgehetRHkCuR+F6FK4eQK5H4XoUrh5AAAAAAAAAHkAAAAAAAAAeQAAAAAAAAB5AUrgehetRHkCuR+F6FK4fQK5H4XoUrh1AUrgehetRHkAAAAAAAAAeQK5H4XoUrh5AUrgehetRHkBSuB6F61EeQFK4HoXrUR5ArkfhehSuHkBSuB6F61EeQFK4HoXrUR5AUrgehetRHUCuR+F6FK4eQFK4HoXrUR5AUrgehetRHkCuR+F6FK4dQFK4HoXrUR5ArkfhehSuHUBSuB6F61EeQAAAAAAAAB5AAAAAAAAAHkCuR+F6FK4eQFK4HoXrUR5AAAAAAAAAHkCuR+F6FK4dQAAAAAAAAB5AAAAAAAAAHkCuR+F6FK4eQK5H4XoUrh1AUrgehetRHkAAAAAAAAAeQK5H4XoUrh1ArkfhehSuHUBSuB6F61EdQAAAAAAAAB5ArkfhehSuHUCuR+F6FK4dQAAAAAAAAB5AAAAAAAAAHkAAAAAAAAAeQAAAAAAAAB5ArkfhehSuHUCuR+F6FK4dQAAAAAAAAB5AAAAAAAAAHkCuR+F6FK4dQAAAAAAAAB1AAAAAAAAAHUAAAAAAAAAdQK5H4XoUrh1AUrgehetRHUAAAAAAAAAdQK5H4XoUrhxAAAAAAAAAHUAAAAAAAAAdQAAAAAAAAB1ArkfhehSuHECuR+F6FK4cQFK4HoXrURxArkfhehSuHEAAAAAAAAAbQFK4HoXrURxA",
          "dtype": "f8"
         }
        },
        {
         "boxmean": true,
         "name": "aftertaste",
         "type": "box",
         "y": {
          "bdata": "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",
          "dtype": "f8"
         }
        },
        {
         "boxmean": true,
         "name": "acidity",
         "type": "box",
         "y": {
          "bdata": "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",
          "dtype": "f8"
         }
        },
        {
         "boxmean": true,
         "name": "body",
         "type": "box",
         "y": {
          "bdata": "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",
          "dtype": "f8"
         }
        },
        {
         "boxmean": true,
         "name": "balance",
         "type": "box",
         "y": {
          "bdata": "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",
          "dtype": "f8"
         }
        },
        {
         "boxmean": true,
         "name": "uniformity",
         "type": "box",
         "y": {
          "bdata": "AAAAAAAAJEAAAAAAAAAkQAAAAAAAACRAAAAAAAAAJEAAAAAAAAAkQAAAAAAAACRAAAAAAAAAJEAAAAAAAAAkQAAAAAAAACRAAAAAAAAAJEAAAAAAAAAkQAAAAAAAACRAAAAAAAAAJEAAAAAAAAAkQAAAAAAAACRAAAAAAAAAJEAAAAAAAAAkQAAAAAAAACRAAAAAAAAAJEAAAAAAAAAkQAAAAAAAACRAAAAAAAAAJEAAAAAAAAAkQAAAAAAAACRAAAAAAAAAJEAAAAAAAAAkQAAAAAAAACRAAAAAAAAAJEAAAAAAAAAkQAAAAAAAACRAAAAAAAAAJEAAAAAAAAAkQAAAAAAAACRAAAAAAAAAJEAAAAAAAAAkQAAAAAAAACRAAAAAAAAAJEAAAAAAAAAkQAAAAAAAACRAAAAAAAAAJEAAAAAAAAAkQAAAAAAAACRAAAAAAAAAJEAAAAAAAAAkQAAAAAAAACRAAAAAAAAAJEAAAAAAAAAkQAAAAAAAACRAAAAAAAAAJEAAAAAAAAAkQAAAAAAAACRAAAAAAAAAJEAAAAAAAAAkQAAAAAAAACRAAAAAAAAAJEAAAAAAAAAkQAAAAAAAACRAAAAAAAAAJEAAAAAAAAAkQAAAAAAAACRAAAAAAAAAJEAAAAAAAAAkQAAAAAAAACRAAAAAAAAAJEAAAAAAAAAkQAAAAAAAACRAAAAAAAAAJEAAAAAAAAAkQAAAAAAAACRAAAAAAAAAJEAAAAAAAAAkQAAAAAAAACRAAAAAAAAAJEAAAAAAAAAkQAAAAAAAACRAAAAAAAAAJEAAAAAAAAAkQAAAAAAAACRAAAAAAAAAJEAAAAAAAAAkQAAAAAAAACRAAAAAAAAAJEAAAAAAAAAkQAAAAAAAACRAAAAAAAAAJEApXI/C9agiQAAAAAAAACRAAAAAAAAAJEAAAAAAAAAkQAAAAAAAACRAAAAAAAAAJEAAAAAAAAAkQAAAAAAAACRAAAAAAAAAJEAAAAAAAAAkQAAAAAAAACRAAAAAAAAAJEAAAAAAAAAkQAAAAAAAACRAAAAAAAAAJEAAAAAAAAAkQAAAAAAAACRAAAAAAAAAJEAAAAAAAAAkQAAAAAAAACRAAAAAAAAAJEAAAAAAAAAkQAAAAAAAACRAAAAAAAAAJEAAAAAAAAAkQAAAAAAAACRAAAAAAAAAJEAAAAAAAAAkQAAAAAAAACRAAAAAAAAAJEAAAAAAAAAkQAAAAAAAACRAAAAAAAAAJEAAAAAAAAAkQNejcD0KVyFAAAAAAAAAJEAAAAAAAAAkQAAAAAAAACRAAAAAAAAAJEAAAAAAAAAkQAAAAAAAACRAAAAAAAAAJEAAAAAAAAAkQAAAAAAAACRAAAAAAAAAJEAAAAAAAAAkQAAAAAAAACRAAAAAAAAAJEAAAAAAAAAkQAAAAAAAACRAAAAAAAAAJEAAAAAAAAAkQAAAAAAAACRAAAAAAAAAJEAAAAAAAAAkQAAAAAAAACRAAAAAAAAAJEAAAAAAAAAkQAAAAAAAACRAAAAAAAAAJEAAAAAAAAAkQAAAAAAAACRAAAAAAAAAJEAAAAAAAAAkQAAAAAAAACRAAAAAAAAAJEAAAAAAAAAkQAAAAAAAACRAAAAAAAAAJEAAAAAAAAAkQAAAAAAAACRAAAAAAAAAJEAAAAAAAAAkQAAAAAAAACRAAAAAAAAAJEAAAAAAAAAkQAAAAAAAACRAAAAAAAAAJEAAAAAAAAAkQAAAAAAAACRAAAAAAAAAJEAAAAAAAAAkQAAAAAAAACRAAAAAAAAAJEAAAAAAAAAkQAAAAAAAACRAAAAAAAAAJEAAAAAAAAAkQAAAAAAAACRAAAAAAAAAJEAAAAAAAAAkQAAAAAAAACRAAAAAAAAAJEAAAAAAAAAkQAAAAAAAACRAAAAAAAAAJEAAAAAAAAAkQAAAAAAAACRAAAAAAAAAJEAAAAAAAAAkQAAAAAAAACRAAAAAAAAAJEAAAAAAAAAkQAAAAAAAACRAAAAAAAAAJEAAAAAAAAAkQAAAAAAAACRAAAAAAAAAJEAAAAAAAAAkQAAAAAAAACRAAAAAAAAAJEAAAAAAAAAkQAAAAAAAACRAAAAAAAAAJEAAAAAAAAAkQAAAAAAAACRAAAAAAAAAJEAAAAAAAAAkQAAAAAAAACRAAAAAAAAAJEAAAAAAAAAkQAAAAAAAACRA",
          "dtype": "f8"
         }
        },
        {
         "boxmean": true,
         "name": "clean_cup",
         "type": "box",
         "y": {
          "bdata": "AAAAAAAAJEAAAAAAAAAkQAAAAAAAACRAAAAAAAAAJEAAAAAAAAAkQAAAAAAAACRAAAAAAAAAJEAAAAAAAAAkQAAAAAAAACRAAAAAAAAAJEAAAAAAAAAkQAAAAAAAACRAAAAAAAAAJEAAAAAAAAAkQAAAAAAAACRAAAAAAAAAJEAAAAAAAAAkQAAAAAAAACRAAAAAAAAAJEAAAAAAAAAkQAAAAAAAACRAAAAAAAAAJEAAAAAAAAAkQAAAAAAAACRAAAAAAAAAJEAAAAAAAAAkQAAAAAAAACRAAAAAAAAAJEAAAAAAAAAkQAAAAAAAACRAAAAAAAAAJEAAAAAAAAAkQAAAAAAAACRAAAAAAAAAJEAAAAAAAAAkQAAAAAAAACRAAAAAAAAAJEAAAAAAAAAkQAAAAAAAACRAAAAAAAAAJEAAAAAAAAAkQAAAAAAAACRAAAAAAAAAJEAAAAAAAAAkQAAAAAAAACRAAAAAAAAAJEAAAAAAAAAkQAAAAAAAACRAAAAAAAAAJEAAAAAAAAAkQAAAAAAAACRAAAAAAAAAJEAAAAAAAAAkQAAAAAAAACRAAAAAAAAAJEAAAAAAAAAkQAAAAAAAACRAAAAAAAAAJEAAAAAAAAAkQAAAAAAAACRAAAAAAAAAJEAAAAAAAAAkQAAAAAAAACRAAAAAAAAAJEAAAAAAAAAkQAAAAAAAACRAAAAAAAAAJEAAAAAAAAAkQAAAAAAAACRAAAAAAAAAJEAAAAAAAAAkQAAAAAAAACRAAAAAAAAAJEAAAAAAAAAkQAAAAAAAACRAAAAAAAAAJEAAAAAAAAAkQAAAAAAAACRAAAAAAAAAJEAAAAAAAAAkQAAAAAAAACRAAAAAAAAAJEAAAAAAAAAkQAAAAAAAACRAAAAAAAAAJEAAAAAAAAAkQAAAAAAAACRAAAAAAAAAJEAAAAAAAAAkQAAAAAAAACRAAAAAAAAAJEAAAAAAAAAkQAAAAAAAACRAAAAAAAAAJEAAAAAAAAAkQAAAAAAAACRAAAAAAAAAJEAAAAAAAAAkQAAAAAAAACRAAAAAAAAAJEAAAAAAAAAkQAAAAAAAACRAAAAAAAAAJEAAAAAAAAAkQAAAAAAAACRAAAAAAAAAJEAAAAAAAAAkQAAAAAAAACRAAAAAAAAAJEAAAAAAAAAkQAAAAAAAACRAAAAAAAAAJEAAAAAAAAAkQAAAAAAAACRAAAAAAAAAJEAAAAAAAAAkQAAAAAAAACRAAAAAAAAAJEAAAAAAAAAkQAAAAAAAACRAAAAAAAAAJEAAAAAAAAAkQAAAAAAAACRAAAAAAAAAJEAAAAAAAAAkQAAAAAAAACRAAAAAAAAAJEAAAAAAAAAkQAAAAAAAACRAAAAAAAAAJEAAAAAAAAAkQAAAAAAAACRAAAAAAAAAJEAAAAAAAAAkQAAAAAAAACRAAAAAAAAAJEAAAAAAAAAkQAAAAAAAACRAAAAAAAAAJEAAAAAAAAAkQAAAAAAAACRAAAAAAAAAJEAAAAAAAAAkQAAAAAAAACRAAAAAAAAAJEAAAAAAAAAkQAAAAAAAACRAAAAAAAAAJEAAAAAAAAAkQAAAAAAAACRAAAAAAAAAJEAAAAAAAAAkQAAAAAAAACRAAAAAAAAAJEAAAAAAAAAkQAAAAAAAACRAAAAAAAAAJEAAAAAAAAAkQAAAAAAAACRAAAAAAAAAJEAAAAAAAAAkQAAAAAAAACRAAAAAAAAAJEAAAAAAAAAkQAAAAAAAACRAAAAAAAAAJEAAAAAAAAAkQAAAAAAAACRAAAAAAAAAJEAAAAAAAAAkQAAAAAAAACRAAAAAAAAAJEAAAAAAAAAkQAAAAAAAACRAAAAAAAAAJEAAAAAAAAAkQAAAAAAAACRAAAAAAAAAJEAAAAAAAAAkQAAAAAAAACRAAAAAAAAAJEAAAAAAAAAkQAAAAAAAACRAAAAAAAAAJEAAAAAAAAAkQAAAAAAAACRAAAAAAAAAJEAAAAAAAAAkQAAAAAAAACRAAAAAAAAAJEAAAAAAAAAkQAAAAAAAACRAAAAAAAAAJEAAAAAAAAAkQAAAAAAAACRAAAAAAAAAJEAAAAAAAAAkQAAAAAAAACRAAAAAAAAAJEAAAAAAAAAkQAAAAAAAACRAAAAAAAAAJEAAAAAAAAAkQAAAAAAAACRAAAAAAAAAJEAAAAAAAAAkQAAAAAAAACRA",
          "dtype": "f8"
         }
        },
        {
         "boxmean": true,
         "name": "sweetness",
         "type": "box",
         "y": {
          "bdata": "AAAAAAAAJEAAAAAAAAAkQAAAAAAAACRAAAAAAAAAJEAAAAAAAAAkQAAAAAAAACRAAAAAAAAAJEAAAAAAAAAkQAAAAAAAACRAAAAAAAAAJEAAAAAAAAAkQAAAAAAAACRAAAAAAAAAJEAAAAAAAAAkQAAAAAAAACRAAAAAAAAAJEAAAAAAAAAkQAAAAAAAACRAAAAAAAAAJEAAAAAAAAAkQAAAAAAAACRAAAAAAAAAJEAAAAAAAAAkQAAAAAAAACRAAAAAAAAAJEAAAAAAAAAkQAAAAAAAACRAAAAAAAAAJEAAAAAAAAAkQAAAAAAAACRAAAAAAAAAJEAAAAAAAAAkQAAAAAAAACRAAAAAAAAAJEAAAAAAAAAkQAAAAAAAACRAAAAAAAAAJEAAAAAAAAAkQAAAAAAAACRAAAAAAAAAJEAAAAAAAAAkQAAAAAAAACRAAAAAAAAAJEAAAAAAAAAkQAAAAAAAACRAAAAAAAAAJEAAAAAAAAAkQAAAAAAAACRAAAAAAAAAJEAAAAAAAAAkQAAAAAAAACRAAAAAAAAAJEAAAAAAAAAkQAAAAAAAACRAAAAAAAAAJEAAAAAAAAAkQAAAAAAAACRAAAAAAAAAJEAAAAAAAAAkQAAAAAAAACRAAAAAAAAAJEAAAAAAAAAkQAAAAAAAACRAAAAAAAAAJEAAAAAAAAAkQAAAAAAAACRAAAAAAAAAJEAAAAAAAAAkQAAAAAAAACRAAAAAAAAAJEAAAAAAAAAkQAAAAAAAACRAAAAAAAAAJEAAAAAAAAAkQAAAAAAAACRAAAAAAAAAJEAAAAAAAAAkQAAAAAAAACRAAAAAAAAAJEAAAAAAAAAkQAAAAAAAACRAAAAAAAAAJEAAAAAAAAAkQAAAAAAAACRAAAAAAAAAJEAAAAAAAAAkQAAAAAAAACRAAAAAAAAAJEAAAAAAAAAkQAAAAAAAACRAAAAAAAAAJEAAAAAAAAAkQAAAAAAAACRAAAAAAAAAJEAAAAAAAAAkQAAAAAAAACRAAAAAAAAAJEAAAAAAAAAkQAAAAAAAACRAAAAAAAAAJEAAAAAAAAAkQAAAAAAAACRAAAAAAAAAJEAAAAAAAAAkQAAAAAAAACRAAAAAAAAAJEAAAAAAAAAkQAAAAAAAACRAAAAAAAAAJEAAAAAAAAAkQAAAAAAAACRAAAAAAAAAJEAAAAAAAAAkQAAAAAAAACRAAAAAAAAAJEAAAAAAAAAkQAAAAAAAACRAAAAAAAAAJEAAAAAAAAAkQAAAAAAAACRAAAAAAAAAJEAAAAAAAAAkQAAAAAAAACRAAAAAAAAAJEAAAAAAAAAkQAAAAAAAACRAAAAAAAAAJEAAAAAAAAAkQAAAAAAAACRAAAAAAAAAJEAAAAAAAAAkQAAAAAAAACRAAAAAAAAAJEAAAAAAAAAkQAAAAAAAACRAAAAAAAAAJEAAAAAAAAAkQAAAAAAAACRAAAAAAAAAJEAAAAAAAAAkQAAAAAAAACRAAAAAAAAAJEAAAAAAAAAkQAAAAAAAACRAAAAAAAAAJEAAAAAAAAAkQAAAAAAAACRAAAAAAAAAJEAAAAAAAAAkQAAAAAAAACRAAAAAAAAAJEAAAAAAAAAkQAAAAAAAACRAAAAAAAAAJEAAAAAAAAAkQAAAAAAAACRAAAAAAAAAJEAAAAAAAAAkQAAAAAAAACRAAAAAAAAAJEAAAAAAAAAkQAAAAAAAACRAAAAAAAAAJEAAAAAAAAAkQAAAAAAAACRAAAAAAAAAJEAAAAAAAAAkQAAAAAAAACRAAAAAAAAAJEAAAAAAAAAkQAAAAAAAACRAAAAAAAAAJEAAAAAAAAAkQAAAAAAAACRAAAAAAAAAJEAAAAAAAAAkQAAAAAAAACRAAAAAAAAAJEAAAAAAAAAkQAAAAAAAACRAAAAAAAAAJEAAAAAAAAAkQAAAAAAAACRAAAAAAAAAJEAAAAAAAAAkQAAAAAAAACRAAAAAAAAAJEAAAAAAAAAkQAAAAAAAACRAAAAAAAAAJEAAAAAAAAAkQAAAAAAAACRAAAAAAAAAJEAAAAAAAAAkQAAAAAAAACRAAAAAAAAAJEAAAAAAAAAkQAAAAAAAACRAAAAAAAAAJEAAAAAAAAAkQAAAAAAAACRAAAAAAAAAJEAAAAAAAAAkQAAAAAAAACRAAAAAAAAAJEAAAAAAAAAkQAAAAAAAACRA",
          "dtype": "f8"
         }
        },
        {
         "boxmean": true,
         "name": "overall",
         "type": "box",
         "y": {
          "bdata": "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",
          "dtype": "f8"
         }
        },
        {
         "boxmean": true,
         "name": "defects",
         "type": "box",
         "y": {
          "bdata": "AAAAAAAAAAAAAAAAAAAAAAAAAAAAAAAAAAAAAAAAAAAAAAAAAAAAAAAAAAAAAAAAAAAAAAAAAAAAAAAAAAAAAAAAAAAAAAAAAAAAAAAAAAAAAAAAAAAAAAAAAAAAAAAAAAAAAAAAAAAAAAAAAAAAAAAAAAAAAAAAAAAAAAAAAAAAAAAAAAAAAAAAAAAAAAAAAAAAAAAAAAAAAAAAAAAAAAAAAAAAAAAAAAAAAAAAAAAAAAAAAAAAAAAAAAAAAAAAAAAAAAAAAAAAAAAAAAAAAAAAAAAAAAAAAAAAAAAAAAAAAAAAAAAAAAAAAAAAAAAAAAAAAAAAAAAAAAAAAAAAAAAAAAAAAAAAAAAAAAAAAAAAAAAAAAAAAAAAAAAAAAAAAAAAAAAAAAAAAAAAAAAAAAAAAAAAAAAAAAAAAAAAAAAAAAAAAAAAAAAAAAAAAAAAAAAAAAAAAAAAAAAAAAAAAAAAAAAAAAAAAAAAAAAAAAAAAAAAAAAAAAAAAAAAAAAAAAAAAAAAAAAAAAAAAAAAAAAAAAAAAAAAAAAAAAAAAAAAAAAAAAAAAAAAAAAAAAAAAAAAAAAAAAAAAAAAAAAAAAAAAAAAAAAAAAAAAAAAAAAAAAAAAAAAAAAAAAAAAAAAAAAAAAAAAAAAAAAAAAAAAAAAAAAAAAAAAAAAAAAAAAAAAAAAAAAAAAAAAAAAAAAAAAAAAAAAAAAAAAAAAAAAAAAAAAAAAAAAAAAAAAAAAAAAAAAAAAAAAAAAAAAAAAAAAAAAAAAAAAAAAAAAAAAAAAAAAAAAAAAAAAAAAAAAAAAAAAAAAAAAAAAAAAAAAAAAAAAAAAAAAAAAAAAAAAAAAAAAAAAAAAAAAAAAAAAAAAAAAAAAAAAAAAAAAAAAAAAAAAAAAAAAAAAAAAAAAAAAAAAAAAAAAAAAAAAAAAAAAAAAAAAAAAAAAAAAAAAAAAAAAAAAAAAAAAAAAAAAAAAAAAAAAAAAAAAAAAAAAAAAAAAAAAAAAAAAAAAAAAAAAAAAAAAAAAAAAAAAAAAAAAAAAAAAAAAAAAAAAAAAAAAAAAAAAAAAAAAAAAAAAAAAAAAAAAAAAAAAAAAAAAAAAAAAAAAAAAAAAAAAAAAAAAAAAAAAAAAAAAAAAAAAAAAAAAAAAAAAAAAAAAAAAAAAAAAAAAAAAAAAAAAAAAAAAAAAAAAAAAAAAAAAAAAAAAAAAAAAAAAAAAAAAAAAAAAAAAAAAAAAAAAAAAAAAAAAAAAAAAAAAAAAAAAAAAAAAAAAAAAAAAAAAAAAAAAAAAAAAAAAAAAAAAAAAAAAAAAAAAAAAAAAAAAAAAAAAAAAAAAAAAAAAAAAAAAAAAAAAAAAAAAAAAAAAAAAAAAAAAAAAAAAAAAAAAAAAAAAAAAAAAAAAAAAAAAAAAAAAAAAAAAAAAAAAAAAAAAAAAAAAAAAAAAAAAAAAAAAAAAAAAAAAAAAAAAAAAAAAAAAAAAAAAAAAAAAAAAAAAAAAAAAAAAAAAAAAAAAAAAAAAAAAAAAAAAAAAAAAAAAAAAAAAAAAAAAAAAAAAAAAAAAAAAAAAAAAAAAAAAAAAAAAAAAAAAAAAAAAAAAAAAAAAAAAAAAAAAAAAAAAAAAAAAAAAAAAAAAAAAAAAAAAAAAAAAAAAAAAAAAAAAAAAAAAAAAAAAAAAAAAAAAAAAAAAAAAAAAAAAAAAAAAAAAAAAAAAAAAAAAAAAAAAAAAAAAAAAAAAAAAAAAAAAAAAAAAAAAAAAAAAAAAAAAAAAAAAAAAAAAAAAAAAAAAAAAAAAAAAAAAAAAAAAAAAAAAAAAAAAAAAAAAAAAAAAAAAAAAAAAAAAAAAAAAAAAAAAAAAAAAAAAAAAAAAAAAAAAAAAAAAAAAAAAAAAAAAAAAAAAAAAAAAAAAAAAAAAAAAAAAAAAAAAAAAAAAAAAAAAAAAAAAAAAAAAAAAAAAAAAAAAAAAAAAAAAAAAAAAAAAAAAAAAAAAAAAAAAAAAAAAAAAAAAAAAAAAAAAAAAAAAAAAAAAAAAAAAAAAAAAAAAAAAAAAAAAAAAAAAAAAAAAAAAAAAAAAAAAAAAAAAAAAAAAAAAAAAAAAAAAAAAAAAAAAAAAAAAAAAAAAAAAAAAAAAAAAAAAAAAAAAAAAAAAAAAAAAAAAAAAAAAAAAAAAAAAAAAAAAAAAAAAAAAAAAAAAAAAAAAAAAAAAAA",
          "dtype": "f8"
         }
        },
        {
         "boxmean": true,
         "name": "total_cup_points",
         "type": "box",
         "y": {
          "bdata": "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",
          "dtype": "f8"
         }
        },
        {
         "boxmean": true,
         "name": "moisture_percentage",
         "type": "box",
         "y": {
          "bdata": "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",
          "dtype": "f8"
         }
        },
        {
         "boxmean": true,
         "name": "category_one_defects",
         "type": "box",
         "y": {
          "bdata": "AAAAAAAAAAAAAAAAAAAAAAAAAAAAAAAAAAIAAAAAAAAAAAAAAAAAAAAAAAAAAAAAAAAAAAAAAAAAAAAAAAAAAAEAAAAAAAAAAAAAAwAAAAAAAAAAAAAAAAAAAQAAAAAAAAAAAAACAAAEAQAAAAAAAAAAAAAAAAAAAAAAAAAAAAAAAAAAAAAAAAAAAAAAAgAAAAAABQAAAQAAAAAAAAAAAAAAAAAAAAAAAAEAAAAAAAABAAAAAAAAAAAAAgAAAAIAAAAAAAAAAAAAAAAAAAAA",
          "dtype": "i1"
         }
        },
        {
         "boxmean": true,
         "name": "quakers",
         "type": "box",
         "y": {
          "bdata": "AAAAAAIAAAAAAAEAAAMAAAIAAAAAAAAAAAAAAAAAAAAAAgMBAAAAAAAAAAAAAAEAAwAAAwAAAAABAQAAAwEAAAAAAAABAAAAAAABAAUAAAEAAAADAAABAgAAAQACAAABAAEAAQAFAwAAAAABAAIAAAIBAAABAgAAAAAAAAAAAAAAAAAAAAEAAAACAAAAAAEAAAAAAgABAAAAAAAAAAABAAAAAAAABwAAAQAAAAAAAAACAQACAAAAAAAAAAIAAAAAAAICCAEAAwYKAQACCQwA",
          "dtype": "i1"
         }
        },
        {
         "boxmean": true,
         "name": "category_two_defects",
         "type": "box",
         "y": {
          "bdata": "AwACAAICAAEAAAEBAAIAAAIAAQAAAAUCAAMCAAAAAAAAAwQBAAABAAAABQEAAAEEAQIAAgAAAAAFBQABAgIAAAICAAAAAAMJAAEFBwQEAQEBAAICAgACAgADAQIDAgACAwEEBAwFAwEMCQABAAEAAAQFAgALAAMABQAAAQADARAIBAECAwUCAAcHAgEAAQMABAUEAQECAAACAAIAAgABAQAIAgAACgABAwUCCAADAQAIAgACAQAEAgAAAgQAAAEFAAIBBwMFAwsHAgQMCw0B",
          "dtype": "i1"
         }
        }
       ],
       "layout": {
        "template": {
         "data": {
          "bar": [
           {
            "error_x": {
             "color": "#2a3f5f"
            },
            "error_y": {
             "color": "#2a3f5f"
            },
            "marker": {
             "line": {
              "color": "#E5ECF6",
              "width": 0.5
             },
             "pattern": {
              "fillmode": "overlay",
              "size": 10,
              "solidity": 0.2
             }
            },
            "type": "bar"
           }
          ],
          "barpolar": [
           {
            "marker": {
             "line": {
              "color": "#E5ECF6",
              "width": 0.5
             },
             "pattern": {
              "fillmode": "overlay",
              "size": 10,
              "solidity": 0.2
             }
            },
            "type": "barpolar"
           }
          ],
          "carpet": [
           {
            "aaxis": {
             "endlinecolor": "#2a3f5f",
             "gridcolor": "white",
             "linecolor": "white",
             "minorgridcolor": "white",
             "startlinecolor": "#2a3f5f"
            },
            "baxis": {
             "endlinecolor": "#2a3f5f",
             "gridcolor": "white",
             "linecolor": "white",
             "minorgridcolor": "white",
             "startlinecolor": "#2a3f5f"
            },
            "type": "carpet"
           }
          ],
          "choropleth": [
           {
            "colorbar": {
             "outlinewidth": 0,
             "ticks": ""
            },
            "type": "choropleth"
           }
          ],
          "contour": [
           {
            "colorbar": {
             "outlinewidth": 0,
             "ticks": ""
            },
            "colorscale": [
             [
              0,
              "#0d0887"
             ],
             [
              0.1111111111111111,
              "#46039f"
             ],
             [
              0.2222222222222222,
              "#7201a8"
             ],
             [
              0.3333333333333333,
              "#9c179e"
             ],
             [
              0.4444444444444444,
              "#bd3786"
             ],
             [
              0.5555555555555556,
              "#d8576b"
             ],
             [
              0.6666666666666666,
              "#ed7953"
             ],
             [
              0.7777777777777778,
              "#fb9f3a"
             ],
             [
              0.8888888888888888,
              "#fdca26"
             ],
             [
              1,
              "#f0f921"
             ]
            ],
            "type": "contour"
           }
          ],
          "contourcarpet": [
           {
            "colorbar": {
             "outlinewidth": 0,
             "ticks": ""
            },
            "type": "contourcarpet"
           }
          ],
          "heatmap": [
           {
            "colorbar": {
             "outlinewidth": 0,
             "ticks": ""
            },
            "colorscale": [
             [
              0,
              "#0d0887"
             ],
             [
              0.1111111111111111,
              "#46039f"
             ],
             [
              0.2222222222222222,
              "#7201a8"
             ],
             [
              0.3333333333333333,
              "#9c179e"
             ],
             [
              0.4444444444444444,
              "#bd3786"
             ],
             [
              0.5555555555555556,
              "#d8576b"
             ],
             [
              0.6666666666666666,
              "#ed7953"
             ],
             [
              0.7777777777777778,
              "#fb9f3a"
             ],
             [
              0.8888888888888888,
              "#fdca26"
             ],
             [
              1,
              "#f0f921"
             ]
            ],
            "type": "heatmap"
           }
          ],
          "histogram": [
           {
            "marker": {
             "pattern": {
              "fillmode": "overlay",
              "size": 10,
              "solidity": 0.2
             }
            },
            "type": "histogram"
           }
          ],
          "histogram2d": [
           {
            "colorbar": {
             "outlinewidth": 0,
             "ticks": ""
            },
            "colorscale": [
             [
              0,
              "#0d0887"
             ],
             [
              0.1111111111111111,
              "#46039f"
             ],
             [
              0.2222222222222222,
              "#7201a8"
             ],
             [
              0.3333333333333333,
              "#9c179e"
             ],
             [
              0.4444444444444444,
              "#bd3786"
             ],
             [
              0.5555555555555556,
              "#d8576b"
             ],
             [
              0.6666666666666666,
              "#ed7953"
             ],
             [
              0.7777777777777778,
              "#fb9f3a"
             ],
             [
              0.8888888888888888,
              "#fdca26"
             ],
             [
              1,
              "#f0f921"
             ]
            ],
            "type": "histogram2d"
           }
          ],
          "histogram2dcontour": [
           {
            "colorbar": {
             "outlinewidth": 0,
             "ticks": ""
            },
            "colorscale": [
             [
              0,
              "#0d0887"
             ],
             [
              0.1111111111111111,
              "#46039f"
             ],
             [
              0.2222222222222222,
              "#7201a8"
             ],
             [
              0.3333333333333333,
              "#9c179e"
             ],
             [
              0.4444444444444444,
              "#bd3786"
             ],
             [
              0.5555555555555556,
              "#d8576b"
             ],
             [
              0.6666666666666666,
              "#ed7953"
             ],
             [
              0.7777777777777778,
              "#fb9f3a"
             ],
             [
              0.8888888888888888,
              "#fdca26"
             ],
             [
              1,
              "#f0f921"
             ]
            ],
            "type": "histogram2dcontour"
           }
          ],
          "mesh3d": [
           {
            "colorbar": {
             "outlinewidth": 0,
             "ticks": ""
            },
            "type": "mesh3d"
           }
          ],
          "parcoords": [
           {
            "line": {
             "colorbar": {
              "outlinewidth": 0,
              "ticks": ""
             }
            },
            "type": "parcoords"
           }
          ],
          "pie": [
           {
            "automargin": true,
            "type": "pie"
           }
          ],
          "scatter": [
           {
            "fillpattern": {
             "fillmode": "overlay",
             "size": 10,
             "solidity": 0.2
            },
            "type": "scatter"
           }
          ],
          "scatter3d": [
           {
            "line": {
             "colorbar": {
              "outlinewidth": 0,
              "ticks": ""
             }
            },
            "marker": {
             "colorbar": {
              "outlinewidth": 0,
              "ticks": ""
             }
            },
            "type": "scatter3d"
           }
          ],
          "scattercarpet": [
           {
            "marker": {
             "colorbar": {
              "outlinewidth": 0,
              "ticks": ""
             }
            },
            "type": "scattercarpet"
           }
          ],
          "scattergeo": [
           {
            "marker": {
             "colorbar": {
              "outlinewidth": 0,
              "ticks": ""
             }
            },
            "type": "scattergeo"
           }
          ],
          "scattergl": [
           {
            "marker": {
             "colorbar": {
              "outlinewidth": 0,
              "ticks": ""
             }
            },
            "type": "scattergl"
           }
          ],
          "scattermap": [
           {
            "marker": {
             "colorbar": {
              "outlinewidth": 0,
              "ticks": ""
             }
            },
            "type": "scattermap"
           }
          ],
          "scattermapbox": [
           {
            "marker": {
             "colorbar": {
              "outlinewidth": 0,
              "ticks": ""
             }
            },
            "type": "scattermapbox"
           }
          ],
          "scatterpolar": [
           {
            "marker": {
             "colorbar": {
              "outlinewidth": 0,
              "ticks": ""
             }
            },
            "type": "scatterpolar"
           }
          ],
          "scatterpolargl": [
           {
            "marker": {
             "colorbar": {
              "outlinewidth": 0,
              "ticks": ""
             }
            },
            "type": "scatterpolargl"
           }
          ],
          "scatterternary": [
           {
            "marker": {
             "colorbar": {
              "outlinewidth": 0,
              "ticks": ""
             }
            },
            "type": "scatterternary"
           }
          ],
          "surface": [
           {
            "colorbar": {
             "outlinewidth": 0,
             "ticks": ""
            },
            "colorscale": [
             [
              0,
              "#0d0887"
             ],
             [
              0.1111111111111111,
              "#46039f"
             ],
             [
              0.2222222222222222,
              "#7201a8"
             ],
             [
              0.3333333333333333,
              "#9c179e"
             ],
             [
              0.4444444444444444,
              "#bd3786"
             ],
             [
              0.5555555555555556,
              "#d8576b"
             ],
             [
              0.6666666666666666,
              "#ed7953"
             ],
             [
              0.7777777777777778,
              "#fb9f3a"
             ],
             [
              0.8888888888888888,
              "#fdca26"
             ],
             [
              1,
              "#f0f921"
             ]
            ],
            "type": "surface"
           }
          ],
          "table": [
           {
            "cells": {
             "fill": {
              "color": "#EBF0F8"
             },
             "line": {
              "color": "white"
             }
            },
            "header": {
             "fill": {
              "color": "#C8D4E3"
             },
             "line": {
              "color": "white"
             }
            },
            "type": "table"
           }
          ]
         },
         "layout": {
          "annotationdefaults": {
           "arrowcolor": "#2a3f5f",
           "arrowhead": 0,
           "arrowwidth": 1
          },
          "autotypenumbers": "strict",
          "coloraxis": {
           "colorbar": {
            "outlinewidth": 0,
            "ticks": ""
           }
          },
          "colorscale": {
           "diverging": [
            [
             0,
             "#8e0152"
            ],
            [
             0.1,
             "#c51b7d"
            ],
            [
             0.2,
             "#de77ae"
            ],
            [
             0.3,
             "#f1b6da"
            ],
            [
             0.4,
             "#fde0ef"
            ],
            [
             0.5,
             "#f7f7f7"
            ],
            [
             0.6,
             "#e6f5d0"
            ],
            [
             0.7,
             "#b8e186"
            ],
            [
             0.8,
             "#7fbc41"
            ],
            [
             0.9,
             "#4d9221"
            ],
            [
             1,
             "#276419"
            ]
           ],
           "sequential": [
            [
             0,
             "#0d0887"
            ],
            [
             0.1111111111111111,
             "#46039f"
            ],
            [
             0.2222222222222222,
             "#7201a8"
            ],
            [
             0.3333333333333333,
             "#9c179e"
            ],
            [
             0.4444444444444444,
             "#bd3786"
            ],
            [
             0.5555555555555556,
             "#d8576b"
            ],
            [
             0.6666666666666666,
             "#ed7953"
            ],
            [
             0.7777777777777778,
             "#fb9f3a"
            ],
            [
             0.8888888888888888,
             "#fdca26"
            ],
            [
             1,
             "#f0f921"
            ]
           ],
           "sequentialminus": [
            [
             0,
             "#0d0887"
            ],
            [
             0.1111111111111111,
             "#46039f"
            ],
            [
             0.2222222222222222,
             "#7201a8"
            ],
            [
             0.3333333333333333,
             "#9c179e"
            ],
            [
             0.4444444444444444,
             "#bd3786"
            ],
            [
             0.5555555555555556,
             "#d8576b"
            ],
            [
             0.6666666666666666,
             "#ed7953"
            ],
            [
             0.7777777777777778,
             "#fb9f3a"
            ],
            [
             0.8888888888888888,
             "#fdca26"
            ],
            [
             1,
             "#f0f921"
            ]
           ]
          },
          "colorway": [
           "#636efa",
           "#EF553B",
           "#00cc96",
           "#ab63fa",
           "#FFA15A",
           "#19d3f3",
           "#FF6692",
           "#B6E880",
           "#FF97FF",
           "#FECB52"
          ],
          "font": {
           "color": "#2a3f5f"
          },
          "geo": {
           "bgcolor": "white",
           "lakecolor": "white",
           "landcolor": "#E5ECF6",
           "showlakes": true,
           "showland": true,
           "subunitcolor": "white"
          },
          "hoverlabel": {
           "align": "left"
          },
          "hovermode": "closest",
          "mapbox": {
           "style": "light"
          },
          "paper_bgcolor": "white",
          "plot_bgcolor": "#E5ECF6",
          "polar": {
           "angularaxis": {
            "gridcolor": "white",
            "linecolor": "white",
            "ticks": ""
           },
           "bgcolor": "#E5ECF6",
           "radialaxis": {
            "gridcolor": "white",
            "linecolor": "white",
            "ticks": ""
           }
          },
          "scene": {
           "xaxis": {
            "backgroundcolor": "#E5ECF6",
            "gridcolor": "white",
            "gridwidth": 2,
            "linecolor": "white",
            "showbackground": true,
            "ticks": "",
            "zerolinecolor": "white"
           },
           "yaxis": {
            "backgroundcolor": "#E5ECF6",
            "gridcolor": "white",
            "gridwidth": 2,
            "linecolor": "white",
            "showbackground": true,
            "ticks": "",
            "zerolinecolor": "white"
           },
           "zaxis": {
            "backgroundcolor": "#E5ECF6",
            "gridcolor": "white",
            "gridwidth": 2,
            "linecolor": "white",
            "showbackground": true,
            "ticks": "",
            "zerolinecolor": "white"
           }
          },
          "shapedefaults": {
           "line": {
            "color": "#2a3f5f"
           }
          },
          "ternary": {
           "aaxis": {
            "gridcolor": "white",
            "linecolor": "white",
            "ticks": ""
           },
           "baxis": {
            "gridcolor": "white",
            "linecolor": "white",
            "ticks": ""
           },
           "bgcolor": "#E5ECF6",
           "caxis": {
            "gridcolor": "white",
            "linecolor": "white",
            "ticks": ""
           }
          },
          "title": {
           "x": 0.05
          },
          "xaxis": {
           "automargin": true,
           "gridcolor": "white",
           "linecolor": "white",
           "ticks": "",
           "title": {
            "standoff": 15
           },
           "zerolinecolor": "white",
           "zerolinewidth": 2
          },
          "yaxis": {
           "automargin": true,
           "gridcolor": "white",
           "linecolor": "white",
           "ticks": "",
           "title": {
            "standoff": 15
           },
           "zerolinecolor": "white",
           "zerolinewidth": 2
          }
         }
        },
        "title": {
         "text": "Distribution of the numeric columns"
        }
       }
      }
     },
     "metadata": {},
     "output_type": "display_data"
    }
   ],
   "source": [
    "# plot boxplot for all numeric columns\n",
    "plot_box(df)"
   ]
  },
  {
   "cell_type": "markdown",
   "metadata": {},
   "source": [
    "#### 1.Altitude-Outlier"
   ]
  },
  {
   "cell_type": "markdown",
   "metadata": {},
   "source": [
    "'altitude' has extreamly outliers, I will check it with region first. From dataset [discussion](https://www.kaggle.com/datasets/fatihb/coffee-quality-data-cqi/discussion/411169) community discuss that 'altitude' is in meters unit but these outliers are in ft unit so I will change it to meters.\n",
    "- Santa Rosa \n",
    "- ANTIGUA GUATEMALA\n",
    "- Lam Dong Province"
   ]
  },
  {
   "cell_type": "code",
   "execution_count": 52,
   "metadata": {},
   "outputs": [
    {
     "data": {
      "text/html": [
       "<div>\n",
       "<style scoped>\n",
       "    .dataframe tbody tr th:only-of-type {\n",
       "        vertical-align: middle;\n",
       "    }\n",
       "\n",
       "    .dataframe tbody tr th {\n",
       "        vertical-align: top;\n",
       "    }\n",
       "\n",
       "    .dataframe thead th {\n",
       "        text-align: right;\n",
       "    }\n",
       "</style>\n",
       "<table border=\"1\" class=\"dataframe\">\n",
       "  <thead>\n",
       "    <tr style=\"text-align: right;\">\n",
       "      <th></th>\n",
       "      <th>country_of_origin</th>\n",
       "      <th>ico_number</th>\n",
       "      <th>company</th>\n",
       "      <th>altitude</th>\n",
       "      <th>region</th>\n",
       "      <th>number_of_bags</th>\n",
       "      <th>bag_weight</th>\n",
       "      <th>in_country_partner</th>\n",
       "      <th>harvest_year</th>\n",
       "      <th>grading_date</th>\n",
       "      <th>owner</th>\n",
       "      <th>variety</th>\n",
       "      <th>status</th>\n",
       "      <th>processing_method</th>\n",
       "      <th>aroma</th>\n",
       "      <th>flavor</th>\n",
       "      <th>aftertaste</th>\n",
       "      <th>acidity</th>\n",
       "      <th>body</th>\n",
       "      <th>balance</th>\n",
       "      <th>uniformity</th>\n",
       "      <th>clean_cup</th>\n",
       "      <th>sweetness</th>\n",
       "      <th>overall</th>\n",
       "      <th>defects</th>\n",
       "      <th>total_cup_points</th>\n",
       "      <th>moisture_percentage</th>\n",
       "      <th>category_one_defects</th>\n",
       "      <th>quakers</th>\n",
       "      <th>color</th>\n",
       "      <th>category_two_defects</th>\n",
       "      <th>expiration</th>\n",
       "      <th>certification_body</th>\n",
       "      <th>certification_address</th>\n",
       "      <th>certification_contact</th>\n",
       "    </tr>\n",
       "  </thead>\n",
       "  <tbody>\n",
       "    <tr>\n",
       "      <th>47</th>\n",
       "      <td>Guatemala</td>\n",
       "      <td>True</td>\n",
       "      <td>OLAM AGRO GUATEMALA, S.A.</td>\n",
       "      <td>4700.0</td>\n",
       "      <td>Santa Rosa</td>\n",
       "      <td>632</td>\n",
       "      <td>30.0</td>\n",
       "      <td>Asociacion Nacional Del Café</td>\n",
       "      <td>2022 / 2023</td>\n",
       "      <td>February 23rd, 2023</td>\n",
       "      <td>Yesica Alejandra Martìnez Vàsquez</td>\n",
       "      <td>Catuai</td>\n",
       "      <td>Completed</td>\n",
       "      <td>Washed / Wet</td>\n",
       "      <td>7.67</td>\n",
       "      <td>8.00</td>\n",
       "      <td>7.75</td>\n",
       "      <td>7.92</td>\n",
       "      <td>8.00</td>\n",
       "      <td>7.83</td>\n",
       "      <td>10.0</td>\n",
       "      <td>10.0</td>\n",
       "      <td>10.0</td>\n",
       "      <td>7.83</td>\n",
       "      <td>0.0</td>\n",
       "      <td>85.00</td>\n",
       "      <td>11.3</td>\n",
       "      <td>0</td>\n",
       "      <td>0</td>\n",
       "      <td>green</td>\n",
       "      <td>4</td>\n",
       "      <td>February 23rd, 2024</td>\n",
       "      <td>Asociacion Nacional Del Café</td>\n",
       "      <td>5a Calle 0-50, Zona 14 Guatemala City, Guatema...</td>\n",
       "      <td>Brayan Cifuentes -</td>\n",
       "    </tr>\n",
       "    <tr>\n",
       "      <th>60</th>\n",
       "      <td>Guatemala</td>\n",
       "      <td>True</td>\n",
       "      <td>VALBROS, S. A.</td>\n",
       "      <td>4895.0</td>\n",
       "      <td>ANTIGUA GUATEMALA</td>\n",
       "      <td>66</td>\n",
       "      <td>30.0</td>\n",
       "      <td>Asociacion Nacional Del Café</td>\n",
       "      <td>2021 / 2022</td>\n",
       "      <td>May 19th, 2022</td>\n",
       "      <td>Angelica Paola Citan Lopez</td>\n",
       "      <td>Bourbon</td>\n",
       "      <td>Completed</td>\n",
       "      <td>Natural / Dry</td>\n",
       "      <td>7.83</td>\n",
       "      <td>8.00</td>\n",
       "      <td>7.67</td>\n",
       "      <td>7.83</td>\n",
       "      <td>7.75</td>\n",
       "      <td>7.75</td>\n",
       "      <td>10.0</td>\n",
       "      <td>10.0</td>\n",
       "      <td>10.0</td>\n",
       "      <td>7.83</td>\n",
       "      <td>0.0</td>\n",
       "      <td>84.67</td>\n",
       "      <td>10.9</td>\n",
       "      <td>0</td>\n",
       "      <td>3</td>\n",
       "      <td>yellow-green</td>\n",
       "      <td>2</td>\n",
       "      <td>May 19th, 2023</td>\n",
       "      <td>Asociacion Nacional Del Café</td>\n",
       "      <td>5a Calle 0-50, Zona 14 Guatemala City, Guatema...</td>\n",
       "      <td>Brayan Cifuentes -</td>\n",
       "    </tr>\n",
       "    <tr>\n",
       "      <th>99</th>\n",
       "      <td>Guatemala</td>\n",
       "      <td>True</td>\n",
       "      <td>Asociación Nacional del Cafe</td>\n",
       "      <td>5272.5</td>\n",
       "      <td>ANTIGUA GUATEMALA</td>\n",
       "      <td>635</td>\n",
       "      <td>30.0</td>\n",
       "      <td>Asociacion Nacional Del Café</td>\n",
       "      <td>2021 / 2022</td>\n",
       "      <td>May 19th, 2022</td>\n",
       "      <td>Angelica Paola Citan Lopez</td>\n",
       "      <td>Bourbon</td>\n",
       "      <td>Completed</td>\n",
       "      <td>Washed / Wet</td>\n",
       "      <td>7.58</td>\n",
       "      <td>7.92</td>\n",
       "      <td>7.50</td>\n",
       "      <td>7.67</td>\n",
       "      <td>7.75</td>\n",
       "      <td>7.67</td>\n",
       "      <td>10.0</td>\n",
       "      <td>10.0</td>\n",
       "      <td>10.0</td>\n",
       "      <td>7.75</td>\n",
       "      <td>0.0</td>\n",
       "      <td>83.83</td>\n",
       "      <td>10.9</td>\n",
       "      <td>0</td>\n",
       "      <td>1</td>\n",
       "      <td>greenish</td>\n",
       "      <td>4</td>\n",
       "      <td>May 19th, 2023</td>\n",
       "      <td>Asociacion Nacional Del Café</td>\n",
       "      <td>5a Calle 0-50, Zona 14 Guatemala City, Guatema...</td>\n",
       "      <td>Brayan Cifuentes -</td>\n",
       "    </tr>\n",
       "    <tr>\n",
       "      <th>182</th>\n",
       "      <td>Vietnam</td>\n",
       "      <td>False</td>\n",
       "      <td>Brew Baby Coffee Company</td>\n",
       "      <td>5400.0</td>\n",
       "      <td>Lam Dong Province</td>\n",
       "      <td>1</td>\n",
       "      <td>1.0</td>\n",
       "      <td>Firedancer Coffee Consultants</td>\n",
       "      <td>2022 / 2023</td>\n",
       "      <td>April 10th, 2023</td>\n",
       "      <td>Rodney Murray</td>\n",
       "      <td>Catimor</td>\n",
       "      <td>Completed</td>\n",
       "      <td>Pulped natural / honey</td>\n",
       "      <td>7.50</td>\n",
       "      <td>7.50</td>\n",
       "      <td>7.25</td>\n",
       "      <td>7.42</td>\n",
       "      <td>7.42</td>\n",
       "      <td>7.42</td>\n",
       "      <td>10.0</td>\n",
       "      <td>10.0</td>\n",
       "      <td>10.0</td>\n",
       "      <td>7.33</td>\n",
       "      <td>0.0</td>\n",
       "      <td>81.83</td>\n",
       "      <td>11.2</td>\n",
       "      <td>0</td>\n",
       "      <td>0</td>\n",
       "      <td>green</td>\n",
       "      <td>4</td>\n",
       "      <td>April 9th, 2024</td>\n",
       "      <td>Firedancer Coffee Consultants</td>\n",
       "      <td>165 Commerce Drive, Ste 103</td>\n",
       "      <td>Firedancer Coffee Consultants -</td>\n",
       "    </tr>\n",
       "  </tbody>\n",
       "</table>\n",
       "</div>"
      ],
      "text/plain": [
       "    country_of_origin  ico_number                       company  altitude  \\\n",
       "47          Guatemala        True     OLAM AGRO GUATEMALA, S.A.    4700.0   \n",
       "60          Guatemala        True                VALBROS, S. A.    4895.0   \n",
       "99          Guatemala        True  Asociación Nacional del Cafe    5272.5   \n",
       "182           Vietnam       False      Brew Baby Coffee Company    5400.0   \n",
       "\n",
       "                region  number_of_bags  bag_weight  \\\n",
       "47          Santa Rosa             632        30.0   \n",
       "60   ANTIGUA GUATEMALA              66        30.0   \n",
       "99   ANTIGUA GUATEMALA             635        30.0   \n",
       "182  Lam Dong Province               1         1.0   \n",
       "\n",
       "                in_country_partner harvest_year         grading_date  \\\n",
       "47    Asociacion Nacional Del Café  2022 / 2023  February 23rd, 2023   \n",
       "60    Asociacion Nacional Del Café  2021 / 2022       May 19th, 2022   \n",
       "99    Asociacion Nacional Del Café  2021 / 2022       May 19th, 2022   \n",
       "182  Firedancer Coffee Consultants  2022 / 2023     April 10th, 2023   \n",
       "\n",
       "                                 owner  variety     status  \\\n",
       "47   Yesica Alejandra Martìnez Vàsquez   Catuai  Completed   \n",
       "60          Angelica Paola Citan Lopez  Bourbon  Completed   \n",
       "99          Angelica Paola Citan Lopez  Bourbon  Completed   \n",
       "182                      Rodney Murray  Catimor  Completed   \n",
       "\n",
       "          processing_method  aroma  flavor  aftertaste  acidity  body  \\\n",
       "47             Washed / Wet   7.67    8.00        7.75     7.92  8.00   \n",
       "60            Natural / Dry   7.83    8.00        7.67     7.83  7.75   \n",
       "99             Washed / Wet   7.58    7.92        7.50     7.67  7.75   \n",
       "182  Pulped natural / honey   7.50    7.50        7.25     7.42  7.42   \n",
       "\n",
       "     balance  uniformity  clean_cup  sweetness  overall  defects  \\\n",
       "47      7.83        10.0       10.0       10.0     7.83      0.0   \n",
       "60      7.75        10.0       10.0       10.0     7.83      0.0   \n",
       "99      7.67        10.0       10.0       10.0     7.75      0.0   \n",
       "182     7.42        10.0       10.0       10.0     7.33      0.0   \n",
       "\n",
       "     total_cup_points  moisture_percentage  category_one_defects  quakers  \\\n",
       "47              85.00                 11.3                     0        0   \n",
       "60              84.67                 10.9                     0        3   \n",
       "99              83.83                 10.9                     0        1   \n",
       "182             81.83                 11.2                     0        0   \n",
       "\n",
       "            color  category_two_defects           expiration  \\\n",
       "47          green                     4  February 23rd, 2024   \n",
       "60   yellow-green                     2       May 19th, 2023   \n",
       "99       greenish                     4       May 19th, 2023   \n",
       "182         green                     4      April 9th, 2024   \n",
       "\n",
       "                certification_body  \\\n",
       "47    Asociacion Nacional Del Café   \n",
       "60    Asociacion Nacional Del Café   \n",
       "99    Asociacion Nacional Del Café   \n",
       "182  Firedancer Coffee Consultants   \n",
       "\n",
       "                                 certification_address  \\\n",
       "47   5a Calle 0-50, Zona 14 Guatemala City, Guatema...   \n",
       "60   5a Calle 0-50, Zona 14 Guatemala City, Guatema...   \n",
       "99   5a Calle 0-50, Zona 14 Guatemala City, Guatema...   \n",
       "182                        165 Commerce Drive, Ste 103   \n",
       "\n",
       "               certification_contact  \n",
       "47                Brayan Cifuentes -  \n",
       "60                Brayan Cifuentes -  \n",
       "99                Brayan Cifuentes -  \n",
       "182  Firedancer Coffee Consultants -  "
      ]
     },
     "execution_count": 52,
     "metadata": {},
     "output_type": "execute_result"
    }
   ],
   "source": [
    "# 'altitude' has extreamly outliers, I will check it with region first\n",
    "df.query(\"altitude > 3000\")"
   ]
  },
  {
   "cell_type": "code",
   "execution_count": 53,
   "metadata": {},
   "outputs": [],
   "source": [
    "# Convert ft to m\n",
    "df.loc[df['altitude'] > 3000, 'altitude'] = df.loc[df['altitude'] > 3000, 'altitude'] * 0.3048"
   ]
  },
  {
   "cell_type": "markdown",
   "metadata": {},
   "source": [
    "#### 2.Bag-Weight-Outlier"
   ]
  },
  {
   "cell_type": "code",
   "execution_count": 54,
   "metadata": {},
   "outputs": [],
   "source": [
    "# 'bag_weight' has extreamly outliers, I will correct it using IQR\n",
    "df = correct_outliers(df, 'bag_weight')"
   ]
  },
  {
   "cell_type": "markdown",
   "metadata": {},
   "source": [
    "#### 3.Number-of-Bags-Outlier"
   ]
  },
  {
   "cell_type": "code",
   "execution_count": 55,
   "metadata": {},
   "outputs": [],
   "source": [
    "# 'number_of_bags' has extreamly outliers, I will correct it using IQR\n",
    "df = correct_outliers(df, 'number_of_bags')"
   ]
  },
  {
   "cell_type": "markdown",
   "metadata": {},
   "source": [
    "#### Plot after correct outlier"
   ]
  },
  {
   "cell_type": "code",
   "execution_count": 56,
   "metadata": {},
   "outputs": [
    {
     "data": {
      "application/vnd.plotly.v1+json": {
       "config": {
        "plotlyServerURL": "https://plot.ly"
       },
       "data": [
        {
         "boxmean": true,
         "name": "altitude",
         "type": "box",
         "y": {
          "bdata": "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",
          "dtype": "f8"
         }
        },
        {
         "boxmean": true,
         "name": "number_of_bags",
         "type": "box",
         "y": {
          "bdata": "AQABABMAAQACAAUAAQABAAEAQAEKAAUAAQAoAEYAAQAIAAUACADIAAgAAQACAAYABAAZAAEAAQABAFAAAwADAAQAQAFAAUABAQAUACwBFAABAAEAAQBAAQEABgBYAngCEwEBAAEAQAEDAGwCAQABAAUAyAABAFgCQgAEAQEAEABKAAEAAQADAAEAAQBUAUgCAQABAFgCCgBAARQAEwEBADcABQBZARMBAQABAK4ByAAQAMgALAFAARMB+gABACMAAQB3AVgCewJkAB0BBAAoAFgCAQAyAGQAAQAJAAEAAQATAQQBWAICAEABBQCWAAEAQAEBAEABAQACAEABAQACAEABrgIBAAIACQAEAQEAAQAaAPoARQFYAgEAjQABACwBEwECABYAEwEKAPoAAgAGAEUBAQABAHgAWALIAGwCBAAKAFkBAQATAU0AWAITAQEAEwEDAA0AfQABAAEAAQACAPQBEwFAARMBHAIBAAEADgBFARMBIABkAAEAAQACAAUAAgABALgBAQATARMBAwATAQEAuAGuAiwBVwEBAFgC",
          "dtype": "i2"
         }
        },
        {
         "boxmean": true,
         "name": "bag_weight",
         "type": "box",
         "y": {
          "bdata": "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",
          "dtype": "f8"
         }
        },
        {
         "boxmean": true,
         "name": "aroma",
         "type": "box",
         "y": {
          "bdata": "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",
          "dtype": "f8"
         }
        },
        {
         "boxmean": true,
         "name": "flavor",
         "type": "box",
         "y": {
          "bdata": "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",
          "dtype": "f8"
         }
        },
        {
         "boxmean": true,
         "name": "aftertaste",
         "type": "box",
         "y": {
          "bdata": "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",
          "dtype": "f8"
         }
        },
        {
         "boxmean": true,
         "name": "acidity",
         "type": "box",
         "y": {
          "bdata": "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",
          "dtype": "f8"
         }
        },
        {
         "boxmean": true,
         "name": "body",
         "type": "box",
         "y": {
          "bdata": "AAAAAACAIECuR+F6FK4fQK5H4XoUrh9A16NwPQpXIECuR+F6FK4fQFK4HoXrUR9AUrgehetRH0CuR+F6FK4fQK5H4XoUrh9AAAAAAAAAIECuR+F6FK4fQAAAAAAAgCBAAAAAAAAAIEAAAAAAAAAgQClcj8L1KCBAAAAAAAAAIEAAAAAAAAAfQK5H4XoUrh9AUrgehetRH0DXo3A9ClcgQAAAAAAAAB9AAAAAAAAAIEApXI/C9SggQAAAAAAAAB9AAAAAAAAAIEAAAAAAAAAgQFK4HoXrUR9AUrgehetRHkAAAAAAAAAfQK5H4XoUrh5AAAAAAAAAH0BSuB6F61EfQK5H4XoUrh5AAAAAAAAAIECuR+F6FK4eQAAAAAAAACBAUrgehetRH0CuR+F6FK4eQK5H4XoUrh9AUrgehetRH0AAAAAAAAAfQK5H4XoUrh9AAAAAAAAAH0AAAAAAAAAfQFK4HoXrUR5ArkfhehSuHkCuR+F6FK4fQAAAAAAAACBAAAAAAAAAH0AAAAAAAAAfQK5H4XoUrh5AUrgehetRH0BSuB6F61EeQFK4HoXrUR9AUrgehetRH0AAAAAAAAAfQK5H4XoUrh5AUrgehetRH0CuR+F6FK4eQK5H4XoUrh9AAAAAAAAAH0BSuB6F61EfQAAAAAAAAB9ArkfhehSuHkBSuB6F61EfQK5H4XoUrh5ArkfhehSuHkBSuB6F61EeQAAAAAAAAB9AAAAAAAAAH0AAAAAAAAAfQFK4HoXrUR5AAAAAAAAAHkAAAAAAAAAfQFK4HoXrUR9AAAAAAAAAHkAAAAAAAAAgQK5H4XoUrh5AUrgehetRH0CuR+F6FK4eQFK4HoXrUR9AUrgehetRHkAAAAAAAAAfQAAAAAAAAB9AUrgehetRHkAAAAAAAAAfQAAAAAAAAB9ArkfhehSuHkAAAAAAAAAfQAAAAAAAAB9ArkfhehSuHkCuR+F6FK4eQK5H4XoUrh5ArkfhehSuHkCuR+F6FK4eQK5H4XoUrh5AAAAAAAAAH0CuR+F6FK4eQK5H4XoUrh5AAAAAAAAAH0AAAAAAAAAeQK5H4XoUrh9AUrgehetRHkCuR+F6FK4eQFK4HoXrUR9ArkfhehSuHkAAAAAAAAAeQFK4HoXrUR5AAAAAAAAAHkCuR+F6FK4eQAAAAAAAAB9AUrgehetRHkBSuB6F61EeQFK4HoXrUR5AUrgehetRH0CuR+F6FK4eQK5H4XoUrh9AUrgehetRHkBSuB6F61EeQAAAAAAAAB9ArkfhehSuHkAAAAAAAAAeQK5H4XoUrh5ArkfhehSuHUAAAAAAAAAeQAAAAAAAAB5AUrgehetRHkBSuB6F61EeQK5H4XoUrh5ArkfhehSuHkCuR+F6FK4dQFK4HoXrUR5AAAAAAAAAHkAAAAAAAAAeQAAAAAAAAB5AUrgehetRHkBSuB6F61EeQFK4HoXrUR5AUrgehetRHkBSuB6F61EeQAAAAAAAAB5AUrgehetRHkBSuB6F61EeQK5H4XoUrh1AUrgehetRHkBSuB6F61EeQK5H4XoUrh5AAAAAAAAAH0AAAAAAAAAfQFK4HoXrUR1ArkfhehSuHkAAAAAAAAAeQFK4HoXrUR5ArkfhehSuHUAAAAAAAAAeQAAAAAAAAB5AUrgehetRH0CuR+F6FK4dQK5H4XoUrh5AAAAAAAAAHkCuR+F6FK4eQFK4HoXrUR5AUrgehetRHkAAAAAAAAAeQAAAAAAAAB5ArkfhehSuHUBSuB6F61EfQFK4HoXrUR1AUrgehetRHUBSuB6F61EdQAAAAAAAAB1AAAAAAAAAHkAAAAAAAAAdQK5H4XoUrh1AAAAAAAAAHUBSuB6F61EeQFK4HoXrUR5AAAAAAAAAHkCuR+F6FK4dQFK4HoXrUR1AUrgehetRHkCuR+F6FK4dQK5H4XoUrh1AUrgehetRHUBSuB6F61EdQK5H4XoUrh1AAAAAAAAAHkCuR+F6FK4dQFK4HoXrUR1AUrgehetRHUAAAAAAAAAeQFK4HoXrUR1ArkfhehSuHUCuR+F6FK4cQK5H4XoUrhxAUrgehetRHEBSuB6F61EcQK5H4XoUrh1AAAAAAAAAHECuR+F6FK4cQK5H4XoUrh1ArkfhehSuHECuR+F6FK4dQK5H4XoUrh1AUrgehetRHEBSuB6F61EcQFK4HoXrURtA",
          "dtype": "f8"
         }
        },
        {
         "boxmean": true,
         "name": "balance",
         "type": "box",
         "y": {
          "bdata": "16NwPQrXIEAAAAAAAIAgQNejcD0KVyBAKVyPwvUoIECuR+F6FK4fQNejcD0KVyBAAAAAAACAIEApXI/C9SggQAAAAAAAACBAAAAAAAAAIECuR+F6FK4fQNejcD0KVyBAAAAAAAAAIEAAAAAAAAAgQAAAAAAAACBArkfhehSuH0CuR+F6FK4fQK5H4XoUrh9AAAAAAAAAIEAAAAAAAAAfQAAAAAAAACBAUrgehetRH0AAAAAAAAAgQFK4HoXrUR9ArkfhehSuH0BSuB6F61EfQK5H4XoUrh9AUrgehetRH0CuR+F6FK4fQAAAAAAAACBArkfhehSuH0BSuB6F61EfQK5H4XoUrh9AAAAAAAAAIEAAAAAAAAAfQAAAAAAAAB9AUrgehetRH0AAAAAAAAAfQAAAAAAAACBArkfhehSuH0AAAAAAAAAfQFK4HoXrUR9AUrgehetRH0CuR+F6FK4fQAAAAAAAAB9AAAAAAAAAH0BSuB6F61EfQFK4HoXrUR9AAAAAAAAAH0BSuB6F61EfQAAAAAAAAB9AUrgehetRH0BSuB6F61EfQFK4HoXrUR9AAAAAAAAAIEBSuB6F61EfQFK4HoXrUR9AAAAAAAAAH0AAAAAAAAAfQK5H4XoUrh5AAAAAAAAAH0CuR+F6FK4eQAAAAAAAAB9ArkfhehSuHkAAAAAAAAAfQAAAAAAAAB9AAAAAAAAAH0BSuB6F61EfQAAAAAAAAB9AAAAAAAAAH0AAAAAAAAAfQK5H4XoUrh5AUrgehetRHkAAAAAAAAAfQAAAAAAAAB9ArkfhehSuHkAAAAAAAAAeQK5H4XoUrh5ArkfhehSuHkAAAAAAAAAfQAAAAAAAAB9ArkfhehSuHkAAAAAAAAAfQK5H4XoUrh5ArkfhehSuHkAAAAAAAAAgQK5H4XoUrh5AUrgehetRHkCuR+F6FK4eQAAAAAAAAB9ArkfhehSuHkAAAAAAAAAfQK5H4XoUrh5AUrgehetRHkBSuB6F61EeQAAAAAAAAB9ArkfhehSuHkCuR+F6FK4eQK5H4XoUrh5ArkfhehSuHkCuR+F6FK4eQK5H4XoUrh5AAAAAAAAAH0CuR+F6FK4eQFK4HoXrUR5ArkfhehSuHkCuR+F6FK4eQFK4HoXrUR5ArkfhehSuHkCuR+F6FK4eQK5H4XoUrh5ArkfhehSuHkBSuB6F61EeQK5H4XoUrh5AAAAAAAAAHkAAAAAAAAAfQK5H4XoUrh5ArkfhehSuHkBSuB6F61EeQFK4HoXrUR9AAAAAAAAAHkBSuB6F61EeQFK4HoXrUR5AUrgehetRHkAAAAAAAAAfQAAAAAAAAB9AAAAAAAAAHkAAAAAAAAAeQFK4HoXrUR5AAAAAAAAAHkAAAAAAAAAeQFK4HoXrUR5AUrgehetRHkBSuB6F61EeQK5H4XoUrh1AAAAAAAAAHkAAAAAAAAAeQAAAAAAAAB5AAAAAAAAAHkCuR+F6FK4dQAAAAAAAAB5AAAAAAAAAHkAAAAAAAAAeQFK4HoXrUR5AAAAAAAAAHkCuR+F6FK4eQAAAAAAAAB9A16NwPQpXIEBSuB6F61EeQAAAAAAAAB5ArkfhehSuHkBSuB6F61EeQAAAAAAAAB5AAAAAAAAAHkAAAAAAAAAeQFK4HoXrUR5AAAAAAAAAHkCuR+F6FK4dQK5H4XoUrh1AUrgehetRHkCuR+F6FK4dQK5H4XoUrh1AAAAAAAAAHkAAAAAAAAAeQK5H4XoUrh1ArkfhehSuHkCuR+F6FK4dQK5H4XoUrh1ArkfhehSuHUAAAAAAAAAeQAAAAAAAAB5AUrgehetRHUBSuB6F61EdQAAAAAAAAB5ArkfhehSuHUAAAAAAAAAeQFK4HoXrUR1ArkfhehSuHUAAAAAAAAAdQFK4HoXrUR1ArkfhehSuHUCuR+F6FK4dQK5H4XoUrh1AUrgehetRHUAAAAAAAAAdQK5H4XoUrh1AUrgehetRHUBSuB6F61EdQFK4HoXrUR1AAAAAAAAAHUCuR+F6FK4dQFK4HoXrUR1ArkfhehSuHUBSuB6F61EdQAAAAAAAAB1AAAAAAAAAHEAAAAAAAAAdQK5H4XoUrhxArkfhehSuHEBSuB6F61EcQFK4HoXrURxArkfhehSuHECuR+F6FK4cQK5H4XoUrhxAUrgehetRHEAAAAAAAAAcQK5H4XoUrhpA",
          "dtype": "f8"
         }
        },
        {
         "boxmean": true,
         "name": "uniformity",
         "type": "box",
         "y": {
          "bdata": "AAAAAAAAJEAAAAAAAAAkQAAAAAAAACRAAAAAAAAAJEAAAAAAAAAkQAAAAAAAACRAAAAAAAAAJEAAAAAAAAAkQAAAAAAAACRAAAAAAAAAJEAAAAAAAAAkQAAAAAAAACRAAAAAAAAAJEAAAAAAAAAkQAAAAAAAACRAAAAAAAAAJEAAAAAAAAAkQAAAAAAAACRAAAAAAAAAJEAAAAAAAAAkQAAAAAAAACRAAAAAAAAAJEAAAAAAAAAkQAAAAAAAACRAAAAAAAAAJEAAAAAAAAAkQAAAAAAAACRAAAAAAAAAJEAAAAAAAAAkQAAAAAAAACRAAAAAAAAAJEAAAAAAAAAkQAAAAAAAACRAAAAAAAAAJEAAAAAAAAAkQAAAAAAAACRAAAAAAAAAJEAAAAAAAAAkQAAAAAAAACRAAAAAAAAAJEAAAAAAAAAkQAAAAAAAACRAAAAAAAAAJEAAAAAAAAAkQAAAAAAAACRAAAAAAAAAJEAAAAAAAAAkQAAAAAAAACRAAAAAAAAAJEAAAAAAAAAkQAAAAAAAACRAAAAAAAAAJEAAAAAAAAAkQAAAAAAAACRAAAAAAAAAJEAAAAAAAAAkQAAAAAAAACRAAAAAAAAAJEAAAAAAAAAkQAAAAAAAACRAAAAAAAAAJEAAAAAAAAAkQAAAAAAAACRAAAAAAAAAJEAAAAAAAAAkQAAAAAAAACRAAAAAAAAAJEAAAAAAAAAkQAAAAAAAACRAAAAAAAAAJEAAAAAAAAAkQAAAAAAAACRAAAAAAAAAJEAAAAAAAAAkQAAAAAAAACRAAAAAAAAAJEAAAAAAAAAkQAAAAAAAACRAAAAAAAAAJEAAAAAAAAAkQAAAAAAAACRAAAAAAAAAJEAAAAAAAAAkQAAAAAAAACRAAAAAAAAAJEApXI/C9agiQAAAAAAAACRAAAAAAAAAJEAAAAAAAAAkQAAAAAAAACRAAAAAAAAAJEAAAAAAAAAkQAAAAAAAACRAAAAAAAAAJEAAAAAAAAAkQAAAAAAAACRAAAAAAAAAJEAAAAAAAAAkQAAAAAAAACRAAAAAAAAAJEAAAAAAAAAkQAAAAAAAACRAAAAAAAAAJEAAAAAAAAAkQAAAAAAAACRAAAAAAAAAJEAAAAAAAAAkQAAAAAAAACRAAAAAAAAAJEAAAAAAAAAkQAAAAAAAACRAAAAAAAAAJEAAAAAAAAAkQAAAAAAAACRAAAAAAAAAJEAAAAAAAAAkQAAAAAAAACRAAAAAAAAAJEAAAAAAAAAkQNejcD0KVyFAAAAAAAAAJEAAAAAAAAAkQAAAAAAAACRAAAAAAAAAJEAAAAAAAAAkQAAAAAAAACRAAAAAAAAAJEAAAAAAAAAkQAAAAAAAACRAAAAAAAAAJEAAAAAAAAAkQAAAAAAAACRAAAAAAAAAJEAAAAAAAAAkQAAAAAAAACRAAAAAAAAAJEAAAAAAAAAkQAAAAAAAACRAAAAAAAAAJEAAAAAAAAAkQAAAAAAAACRAAAAAAAAAJEAAAAAAAAAkQAAAAAAAACRAAAAAAAAAJEAAAAAAAAAkQAAAAAAAACRAAAAAAAAAJEAAAAAAAAAkQAAAAAAAACRAAAAAAAAAJEAAAAAAAAAkQAAAAAAAACRAAAAAAAAAJEAAAAAAAAAkQAAAAAAAACRAAAAAAAAAJEAAAAAAAAAkQAAAAAAAACRAAAAAAAAAJEAAAAAAAAAkQAAAAAAAACRAAAAAAAAAJEAAAAAAAAAkQAAAAAAAACRAAAAAAAAAJEAAAAAAAAAkQAAAAAAAACRAAAAAAAAAJEAAAAAAAAAkQAAAAAAAACRAAAAAAAAAJEAAAAAAAAAkQAAAAAAAACRAAAAAAAAAJEAAAAAAAAAkQAAAAAAAACRAAAAAAAAAJEAAAAAAAAAkQAAAAAAAACRAAAAAAAAAJEAAAAAAAAAkQAAAAAAAACRAAAAAAAAAJEAAAAAAAAAkQAAAAAAAACRAAAAAAAAAJEAAAAAAAAAkQAAAAAAAACRAAAAAAAAAJEAAAAAAAAAkQAAAAAAAACRAAAAAAAAAJEAAAAAAAAAkQAAAAAAAACRAAAAAAAAAJEAAAAAAAAAkQAAAAAAAACRAAAAAAAAAJEAAAAAAAAAkQAAAAAAAACRAAAAAAAAAJEAAAAAAAAAkQAAAAAAAACRAAAAAAAAAJEAAAAAAAAAkQAAAAAAAACRA",
          "dtype": "f8"
         }
        },
        {
         "boxmean": true,
         "name": "clean_cup",
         "type": "box",
         "y": {
          "bdata": "AAAAAAAAJEAAAAAAAAAkQAAAAAAAACRAAAAAAAAAJEAAAAAAAAAkQAAAAAAAACRAAAAAAAAAJEAAAAAAAAAkQAAAAAAAACRAAAAAAAAAJEAAAAAAAAAkQAAAAAAAACRAAAAAAAAAJEAAAAAAAAAkQAAAAAAAACRAAAAAAAAAJEAAAAAAAAAkQAAAAAAAACRAAAAAAAAAJEAAAAAAAAAkQAAAAAAAACRAAAAAAAAAJEAAAAAAAAAkQAAAAAAAACRAAAAAAAAAJEAAAAAAAAAkQAAAAAAAACRAAAAAAAAAJEAAAAAAAAAkQAAAAAAAACRAAAAAAAAAJEAAAAAAAAAkQAAAAAAAACRAAAAAAAAAJEAAAAAAAAAkQAAAAAAAACRAAAAAAAAAJEAAAAAAAAAkQAAAAAAAACRAAAAAAAAAJEAAAAAAAAAkQAAAAAAAACRAAAAAAAAAJEAAAAAAAAAkQAAAAAAAACRAAAAAAAAAJEAAAAAAAAAkQAAAAAAAACRAAAAAAAAAJEAAAAAAAAAkQAAAAAAAACRAAAAAAAAAJEAAAAAAAAAkQAAAAAAAACRAAAAAAAAAJEAAAAAAAAAkQAAAAAAAACRAAAAAAAAAJEAAAAAAAAAkQAAAAAAAACRAAAAAAAAAJEAAAAAAAAAkQAAAAAAAACRAAAAAAAAAJEAAAAAAAAAkQAAAAAAAACRAAAAAAAAAJEAAAAAAAAAkQAAAAAAAACRAAAAAAAAAJEAAAAAAAAAkQAAAAAAAACRAAAAAAAAAJEAAAAAAAAAkQAAAAAAAACRAAAAAAAAAJEAAAAAAAAAkQAAAAAAAACRAAAAAAAAAJEAAAAAAAAAkQAAAAAAAACRAAAAAAAAAJEAAAAAAAAAkQAAAAAAAACRAAAAAAAAAJEAAAAAAAAAkQAAAAAAAACRAAAAAAAAAJEAAAAAAAAAkQAAAAAAAACRAAAAAAAAAJEAAAAAAAAAkQAAAAAAAACRAAAAAAAAAJEAAAAAAAAAkQAAAAAAAACRAAAAAAAAAJEAAAAAAAAAkQAAAAAAAACRAAAAAAAAAJEAAAAAAAAAkQAAAAAAAACRAAAAAAAAAJEAAAAAAAAAkQAAAAAAAACRAAAAAAAAAJEAAAAAAAAAkQAAAAAAAACRAAAAAAAAAJEAAAAAAAAAkQAAAAAAAACRAAAAAAAAAJEAAAAAAAAAkQAAAAAAAACRAAAAAAAAAJEAAAAAAAAAkQAAAAAAAACRAAAAAAAAAJEAAAAAAAAAkQAAAAAAAACRAAAAAAAAAJEAAAAAAAAAkQAAAAAAAACRAAAAAAAAAJEAAAAAAAAAkQAAAAAAAACRAAAAAAAAAJEAAAAAAAAAkQAAAAAAAACRAAAAAAAAAJEAAAAAAAAAkQAAAAAAAACRAAAAAAAAAJEAAAAAAAAAkQAAAAAAAACRAAAAAAAAAJEAAAAAAAAAkQAAAAAAAACRAAAAAAAAAJEAAAAAAAAAkQAAAAAAAACRAAAAAAAAAJEAAAAAAAAAkQAAAAAAAACRAAAAAAAAAJEAAAAAAAAAkQAAAAAAAACRAAAAAAAAAJEAAAAAAAAAkQAAAAAAAACRAAAAAAAAAJEAAAAAAAAAkQAAAAAAAACRAAAAAAAAAJEAAAAAAAAAkQAAAAAAAACRAAAAAAAAAJEAAAAAAAAAkQAAAAAAAACRAAAAAAAAAJEAAAAAAAAAkQAAAAAAAACRAAAAAAAAAJEAAAAAAAAAkQAAAAAAAACRAAAAAAAAAJEAAAAAAAAAkQAAAAAAAACRAAAAAAAAAJEAAAAAAAAAkQAAAAAAAACRAAAAAAAAAJEAAAAAAAAAkQAAAAAAAACRAAAAAAAAAJEAAAAAAAAAkQAAAAAAAACRAAAAAAAAAJEAAAAAAAAAkQAAAAAAAACRAAAAAAAAAJEAAAAAAAAAkQAAAAAAAACRAAAAAAAAAJEAAAAAAAAAkQAAAAAAAACRAAAAAAAAAJEAAAAAAAAAkQAAAAAAAACRAAAAAAAAAJEAAAAAAAAAkQAAAAAAAACRAAAAAAAAAJEAAAAAAAAAkQAAAAAAAACRAAAAAAAAAJEAAAAAAAAAkQAAAAAAAACRAAAAAAAAAJEAAAAAAAAAkQAAAAAAAACRAAAAAAAAAJEAAAAAAAAAkQAAAAAAAACRAAAAAAAAAJEAAAAAAAAAkQAAAAAAAACRA",
          "dtype": "f8"
         }
        },
        {
         "boxmean": true,
         "name": "sweetness",
         "type": "box",
         "y": {
          "bdata": "AAAAAAAAJEAAAAAAAAAkQAAAAAAAACRAAAAAAAAAJEAAAAAAAAAkQAAAAAAAACRAAAAAAAAAJEAAAAAAAAAkQAAAAAAAACRAAAAAAAAAJEAAAAAAAAAkQAAAAAAAACRAAAAAAAAAJEAAAAAAAAAkQAAAAAAAACRAAAAAAAAAJEAAAAAAAAAkQAAAAAAAACRAAAAAAAAAJEAAAAAAAAAkQAAAAAAAACRAAAAAAAAAJEAAAAAAAAAkQAAAAAAAACRAAAAAAAAAJEAAAAAAAAAkQAAAAAAAACRAAAAAAAAAJEAAAAAAAAAkQAAAAAAAACRAAAAAAAAAJEAAAAAAAAAkQAAAAAAAACRAAAAAAAAAJEAAAAAAAAAkQAAAAAAAACRAAAAAAAAAJEAAAAAAAAAkQAAAAAAAACRAAAAAAAAAJEAAAAAAAAAkQAAAAAAAACRAAAAAAAAAJEAAAAAAAAAkQAAAAAAAACRAAAAAAAAAJEAAAAAAAAAkQAAAAAAAACRAAAAAAAAAJEAAAAAAAAAkQAAAAAAAACRAAAAAAAAAJEAAAAAAAAAkQAAAAAAAACRAAAAAAAAAJEAAAAAAAAAkQAAAAAAAACRAAAAAAAAAJEAAAAAAAAAkQAAAAAAAACRAAAAAAAAAJEAAAAAAAAAkQAAAAAAAACRAAAAAAAAAJEAAAAAAAAAkQAAAAAAAACRAAAAAAAAAJEAAAAAAAAAkQAAAAAAAACRAAAAAAAAAJEAAAAAAAAAkQAAAAAAAACRAAAAAAAAAJEAAAAAAAAAkQAAAAAAAACRAAAAAAAAAJEAAAAAAAAAkQAAAAAAAACRAAAAAAAAAJEAAAAAAAAAkQAAAAAAAACRAAAAAAAAAJEAAAAAAAAAkQAAAAAAAACRAAAAAAAAAJEAAAAAAAAAkQAAAAAAAACRAAAAAAAAAJEAAAAAAAAAkQAAAAAAAACRAAAAAAAAAJEAAAAAAAAAkQAAAAAAAACRAAAAAAAAAJEAAAAAAAAAkQAAAAAAAACRAAAAAAAAAJEAAAAAAAAAkQAAAAAAAACRAAAAAAAAAJEAAAAAAAAAkQAAAAAAAACRAAAAAAAAAJEAAAAAAAAAkQAAAAAAAACRAAAAAAAAAJEAAAAAAAAAkQAAAAAAAACRAAAAAAAAAJEAAAAAAAAAkQAAAAAAAACRAAAAAAAAAJEAAAAAAAAAkQAAAAAAAACRAAAAAAAAAJEAAAAAAAAAkQAAAAAAAACRAAAAAAAAAJEAAAAAAAAAkQAAAAAAAACRAAAAAAAAAJEAAAAAAAAAkQAAAAAAAACRAAAAAAAAAJEAAAAAAAAAkQAAAAAAAACRAAAAAAAAAJEAAAAAAAAAkQAAAAAAAACRAAAAAAAAAJEAAAAAAAAAkQAAAAAAAACRAAAAAAAAAJEAAAAAAAAAkQAAAAAAAACRAAAAAAAAAJEAAAAAAAAAkQAAAAAAAACRAAAAAAAAAJEAAAAAAAAAkQAAAAAAAACRAAAAAAAAAJEAAAAAAAAAkQAAAAAAAACRAAAAAAAAAJEAAAAAAAAAkQAAAAAAAACRAAAAAAAAAJEAAAAAAAAAkQAAAAAAAACRAAAAAAAAAJEAAAAAAAAAkQAAAAAAAACRAAAAAAAAAJEAAAAAAAAAkQAAAAAAAACRAAAAAAAAAJEAAAAAAAAAkQAAAAAAAACRAAAAAAAAAJEAAAAAAAAAkQAAAAAAAACRAAAAAAAAAJEAAAAAAAAAkQAAAAAAAACRAAAAAAAAAJEAAAAAAAAAkQAAAAAAAACRAAAAAAAAAJEAAAAAAAAAkQAAAAAAAACRAAAAAAAAAJEAAAAAAAAAkQAAAAAAAACRAAAAAAAAAJEAAAAAAAAAkQAAAAAAAACRAAAAAAAAAJEAAAAAAAAAkQAAAAAAAACRAAAAAAAAAJEAAAAAAAAAkQAAAAAAAACRAAAAAAAAAJEAAAAAAAAAkQAAAAAAAACRAAAAAAAAAJEAAAAAAAAAkQAAAAAAAACRAAAAAAAAAJEAAAAAAAAAkQAAAAAAAACRAAAAAAAAAJEAAAAAAAAAkQAAAAAAAACRAAAAAAAAAJEAAAAAAAAAkQAAAAAAAACRAAAAAAAAAJEAAAAAAAAAkQAAAAAAAACRAAAAAAAAAJEAAAAAAAAAkQAAAAAAAACRAAAAAAAAAJEAAAAAAAAAkQAAAAAAAACRA",
          "dtype": "f8"
         }
        },
        {
         "boxmean": true,
         "name": "overall",
         "type": "box",
         "y": {
          "bdata": "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",
          "dtype": "f8"
         }
        },
        {
         "boxmean": true,
         "name": "defects",
         "type": "box",
         "y": {
          "bdata": "AAAAAAAAAAAAAAAAAAAAAAAAAAAAAAAAAAAAAAAAAAAAAAAAAAAAAAAAAAAAAAAAAAAAAAAAAAAAAAAAAAAAAAAAAAAAAAAAAAAAAAAAAAAAAAAAAAAAAAAAAAAAAAAAAAAAAAAAAAAAAAAAAAAAAAAAAAAAAAAAAAAAAAAAAAAAAAAAAAAAAAAAAAAAAAAAAAAAAAAAAAAAAAAAAAAAAAAAAAAAAAAAAAAAAAAAAAAAAAAAAAAAAAAAAAAAAAAAAAAAAAAAAAAAAAAAAAAAAAAAAAAAAAAAAAAAAAAAAAAAAAAAAAAAAAAAAAAAAAAAAAAAAAAAAAAAAAAAAAAAAAAAAAAAAAAAAAAAAAAAAAAAAAAAAAAAAAAAAAAAAAAAAAAAAAAAAAAAAAAAAAAAAAAAAAAAAAAAAAAAAAAAAAAAAAAAAAAAAAAAAAAAAAAAAAAAAAAAAAAAAAAAAAAAAAAAAAAAAAAAAAAAAAAAAAAAAAAAAAAAAAAAAAAAAAAAAAAAAAAAAAAAAAAAAAAAAAAAAAAAAAAAAAAAAAAAAAAAAAAAAAAAAAAAAAAAAAAAAAAAAAAAAAAAAAAAAAAAAAAAAAAAAAAAAAAAAAAAAAAAAAAAAAAAAAAAAAAAAAAAAAAAAAAAAAAAAAAAAAAAAAAAAAAAAAAAAAAAAAAAAAAAAAAAAAAAAAAAAAAAAAAAAAAAAAAAAAAAAAAAAAAAAAAAAAAAAAAAAAAAAAAAAAAAAAAAAAAAAAAAAAAAAAAAAAAAAAAAAAAAAAAAAAAAAAAAAAAAAAAAAAAAAAAAAAAAAAAAAAAAAAAAAAAAAAAAAAAAAAAAAAAAAAAAAAAAAAAAAAAAAAAAAAAAAAAAAAAAAAAAAAAAAAAAAAAAAAAAAAAAAAAAAAAAAAAAAAAAAAAAAAAAAAAAAAAAAAAAAAAAAAAAAAAAAAAAAAAAAAAAAAAAAAAAAAAAAAAAAAAAAAAAAAAAAAAAAAAAAAAAAAAAAAAAAAAAAAAAAAAAAAAAAAAAAAAAAAAAAAAAAAAAAAAAAAAAAAAAAAAAAAAAAAAAAAAAAAAAAAAAAAAAAAAAAAAAAAAAAAAAAAAAAAAAAAAAAAAAAAAAAAAAAAAAAAAAAAAAAAAAAAAAAAAAAAAAAAAAAAAAAAAAAAAAAAAAAAAAAAAAAAAAAAAAAAAAAAAAAAAAAAAAAAAAAAAAAAAAAAAAAAAAAAAAAAAAAAAAAAAAAAAAAAAAAAAAAAAAAAAAAAAAAAAAAAAAAAAAAAAAAAAAAAAAAAAAAAAAAAAAAAAAAAAAAAAAAAAAAAAAAAAAAAAAAAAAAAAAAAAAAAAAAAAAAAAAAAAAAAAAAAAAAAAAAAAAAAAAAAAAAAAAAAAAAAAAAAAAAAAAAAAAAAAAAAAAAAAAAAAAAAAAAAAAAAAAAAAAAAAAAAAAAAAAAAAAAAAAAAAAAAAAAAAAAAAAAAAAAAAAAAAAAAAAAAAAAAAAAAAAAAAAAAAAAAAAAAAAAAAAAAAAAAAAAAAAAAAAAAAAAAAAAAAAAAAAAAAAAAAAAAAAAAAAAAAAAAAAAAAAAAAAAAAAAAAAAAAAAAAAAAAAAAAAAAAAAAAAAAAAAAAAAAAAAAAAAAAAAAAAAAAAAAAAAAAAAAAAAAAAAAAAAAAAAAAAAAAAAAAAAAAAAAAAAAAAAAAAAAAAAAAAAAAAAAAAAAAAAAAAAAAAAAAAAAAAAAAAAAAAAAAAAAAAAAAAAAAAAAAAAAAAAAAAAAAAAAAAAAAAAAAAAAAAAAAAAAAAAAAAAAAAAAAAAAAAAAAAAAAAAAAAAAAAAAAAAAAAAAAAAAAAAAAAAAAAAAAAAAAAAAAAAAAAAAAAAAAAAAAAAAAAAAAAAAAAAAAAAAAAAAAAAAAAAAAAAAAAAAAAAAAAAAAAAAAAAAAAAAAAAAAAAAAAAAAAAAAAAAAAAAAAAAAAAAAAAAAAAAAAAAAAAAAAAAAAAAAAAAAAAAAAAAAAAAAAAAAAAAAAAAAAAAAAAAAAAAAAAAAAAAAAAAAAAAAAAAAAAAAAAAAAAAAAAAAAAAAAAAAAAAAAAAAAAAAAAAAAAAAAAAAAAAAAAAAAAAAAAAAAAAAAAAAAAAAAAAAAAAAAAAAAAAAAAAAAAAAAAAAAAAAAAAAAAAAAAAAAAAAAAAAAAAAAAAAAAAAAAAAAAAAAAAAA",
          "dtype": "f8"
         }
        },
        {
         "boxmean": true,
         "name": "total_cup_points",
         "type": "box",
         "y": {
          "bdata": "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",
          "dtype": "f8"
         }
        },
        {
         "boxmean": true,
         "name": "moisture_percentage",
         "type": "box",
         "y": {
          "bdata": "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",
          "dtype": "f8"
         }
        },
        {
         "boxmean": true,
         "name": "category_one_defects",
         "type": "box",
         "y": {
          "bdata": "AAAAAAAAAAAAAAAAAAAAAAAAAAAAAAAAAAIAAAAAAAAAAAAAAAAAAAAAAAAAAAAAAAAAAAAAAAAAAAAAAAAAAAEAAAAAAAAAAAAAAwAAAAAAAAAAAAAAAAAAAQAAAAAAAAAAAAACAAAEAQAAAAAAAAAAAAAAAAAAAAAAAAAAAAAAAAAAAAAAAAAAAAAAAgAAAAAABQAAAQAAAAAAAAAAAAAAAAAAAAAAAAEAAAAAAAABAAAAAAAAAAAAAgAAAAIAAAAAAAAAAAAAAAAAAAAA",
          "dtype": "i1"
         }
        },
        {
         "boxmean": true,
         "name": "quakers",
         "type": "box",
         "y": {
          "bdata": "AAAAAAIAAAAAAAEAAAMAAAIAAAAAAAAAAAAAAAAAAAAAAgMBAAAAAAAAAAAAAAEAAwAAAwAAAAABAQAAAwEAAAAAAAABAAAAAAABAAUAAAEAAAADAAABAgAAAQACAAABAAEAAQAFAwAAAAABAAIAAAIBAAABAgAAAAAAAAAAAAAAAAAAAAEAAAACAAAAAAEAAAAAAgABAAAAAAAAAAABAAAAAAAABwAAAQAAAAAAAAACAQACAAAAAAAAAAIAAAAAAAICCAEAAwYKAQACCQwA",
          "dtype": "i1"
         }
        },
        {
         "boxmean": true,
         "name": "category_two_defects",
         "type": "box",
         "y": {
          "bdata": "AwACAAICAAEAAAEBAAIAAAIAAQAAAAUCAAMCAAAAAAAAAwQBAAABAAAABQEAAAEEAQIAAgAAAAAFBQABAgIAAAICAAAAAAMJAAEFBwQEAQEBAAICAgACAgADAQIDAgACAwEEBAwFAwEMCQABAAEAAAQFAgALAAMABQAAAQADARAIBAECAwUCAAcHAgEAAQMABAUEAQECAAACAAIAAgABAQAIAgAACgABAwUCCAADAQAIAgACAQAEAgAAAgQAAAEFAAIBBwMFAwsHAgQMCw0B",
          "dtype": "i1"
         }
        }
       ],
       "layout": {
        "template": {
         "data": {
          "bar": [
           {
            "error_x": {
             "color": "#2a3f5f"
            },
            "error_y": {
             "color": "#2a3f5f"
            },
            "marker": {
             "line": {
              "color": "#E5ECF6",
              "width": 0.5
             },
             "pattern": {
              "fillmode": "overlay",
              "size": 10,
              "solidity": 0.2
             }
            },
            "type": "bar"
           }
          ],
          "barpolar": [
           {
            "marker": {
             "line": {
              "color": "#E5ECF6",
              "width": 0.5
             },
             "pattern": {
              "fillmode": "overlay",
              "size": 10,
              "solidity": 0.2
             }
            },
            "type": "barpolar"
           }
          ],
          "carpet": [
           {
            "aaxis": {
             "endlinecolor": "#2a3f5f",
             "gridcolor": "white",
             "linecolor": "white",
             "minorgridcolor": "white",
             "startlinecolor": "#2a3f5f"
            },
            "baxis": {
             "endlinecolor": "#2a3f5f",
             "gridcolor": "white",
             "linecolor": "white",
             "minorgridcolor": "white",
             "startlinecolor": "#2a3f5f"
            },
            "type": "carpet"
           }
          ],
          "choropleth": [
           {
            "colorbar": {
             "outlinewidth": 0,
             "ticks": ""
            },
            "type": "choropleth"
           }
          ],
          "contour": [
           {
            "colorbar": {
             "outlinewidth": 0,
             "ticks": ""
            },
            "colorscale": [
             [
              0,
              "#0d0887"
             ],
             [
              0.1111111111111111,
              "#46039f"
             ],
             [
              0.2222222222222222,
              "#7201a8"
             ],
             [
              0.3333333333333333,
              "#9c179e"
             ],
             [
              0.4444444444444444,
              "#bd3786"
             ],
             [
              0.5555555555555556,
              "#d8576b"
             ],
             [
              0.6666666666666666,
              "#ed7953"
             ],
             [
              0.7777777777777778,
              "#fb9f3a"
             ],
             [
              0.8888888888888888,
              "#fdca26"
             ],
             [
              1,
              "#f0f921"
             ]
            ],
            "type": "contour"
           }
          ],
          "contourcarpet": [
           {
            "colorbar": {
             "outlinewidth": 0,
             "ticks": ""
            },
            "type": "contourcarpet"
           }
          ],
          "heatmap": [
           {
            "colorbar": {
             "outlinewidth": 0,
             "ticks": ""
            },
            "colorscale": [
             [
              0,
              "#0d0887"
             ],
             [
              0.1111111111111111,
              "#46039f"
             ],
             [
              0.2222222222222222,
              "#7201a8"
             ],
             [
              0.3333333333333333,
              "#9c179e"
             ],
             [
              0.4444444444444444,
              "#bd3786"
             ],
             [
              0.5555555555555556,
              "#d8576b"
             ],
             [
              0.6666666666666666,
              "#ed7953"
             ],
             [
              0.7777777777777778,
              "#fb9f3a"
             ],
             [
              0.8888888888888888,
              "#fdca26"
             ],
             [
              1,
              "#f0f921"
             ]
            ],
            "type": "heatmap"
           }
          ],
          "histogram": [
           {
            "marker": {
             "pattern": {
              "fillmode": "overlay",
              "size": 10,
              "solidity": 0.2
             }
            },
            "type": "histogram"
           }
          ],
          "histogram2d": [
           {
            "colorbar": {
             "outlinewidth": 0,
             "ticks": ""
            },
            "colorscale": [
             [
              0,
              "#0d0887"
             ],
             [
              0.1111111111111111,
              "#46039f"
             ],
             [
              0.2222222222222222,
              "#7201a8"
             ],
             [
              0.3333333333333333,
              "#9c179e"
             ],
             [
              0.4444444444444444,
              "#bd3786"
             ],
             [
              0.5555555555555556,
              "#d8576b"
             ],
             [
              0.6666666666666666,
              "#ed7953"
             ],
             [
              0.7777777777777778,
              "#fb9f3a"
             ],
             [
              0.8888888888888888,
              "#fdca26"
             ],
             [
              1,
              "#f0f921"
             ]
            ],
            "type": "histogram2d"
           }
          ],
          "histogram2dcontour": [
           {
            "colorbar": {
             "outlinewidth": 0,
             "ticks": ""
            },
            "colorscale": [
             [
              0,
              "#0d0887"
             ],
             [
              0.1111111111111111,
              "#46039f"
             ],
             [
              0.2222222222222222,
              "#7201a8"
             ],
             [
              0.3333333333333333,
              "#9c179e"
             ],
             [
              0.4444444444444444,
              "#bd3786"
             ],
             [
              0.5555555555555556,
              "#d8576b"
             ],
             [
              0.6666666666666666,
              "#ed7953"
             ],
             [
              0.7777777777777778,
              "#fb9f3a"
             ],
             [
              0.8888888888888888,
              "#fdca26"
             ],
             [
              1,
              "#f0f921"
             ]
            ],
            "type": "histogram2dcontour"
           }
          ],
          "mesh3d": [
           {
            "colorbar": {
             "outlinewidth": 0,
             "ticks": ""
            },
            "type": "mesh3d"
           }
          ],
          "parcoords": [
           {
            "line": {
             "colorbar": {
              "outlinewidth": 0,
              "ticks": ""
             }
            },
            "type": "parcoords"
           }
          ],
          "pie": [
           {
            "automargin": true,
            "type": "pie"
           }
          ],
          "scatter": [
           {
            "fillpattern": {
             "fillmode": "overlay",
             "size": 10,
             "solidity": 0.2
            },
            "type": "scatter"
           }
          ],
          "scatter3d": [
           {
            "line": {
             "colorbar": {
              "outlinewidth": 0,
              "ticks": ""
             }
            },
            "marker": {
             "colorbar": {
              "outlinewidth": 0,
              "ticks": ""
             }
            },
            "type": "scatter3d"
           }
          ],
          "scattercarpet": [
           {
            "marker": {
             "colorbar": {
              "outlinewidth": 0,
              "ticks": ""
             }
            },
            "type": "scattercarpet"
           }
          ],
          "scattergeo": [
           {
            "marker": {
             "colorbar": {
              "outlinewidth": 0,
              "ticks": ""
             }
            },
            "type": "scattergeo"
           }
          ],
          "scattergl": [
           {
            "marker": {
             "colorbar": {
              "outlinewidth": 0,
              "ticks": ""
             }
            },
            "type": "scattergl"
           }
          ],
          "scattermap": [
           {
            "marker": {
             "colorbar": {
              "outlinewidth": 0,
              "ticks": ""
             }
            },
            "type": "scattermap"
           }
          ],
          "scattermapbox": [
           {
            "marker": {
             "colorbar": {
              "outlinewidth": 0,
              "ticks": ""
             }
            },
            "type": "scattermapbox"
           }
          ],
          "scatterpolar": [
           {
            "marker": {
             "colorbar": {
              "outlinewidth": 0,
              "ticks": ""
             }
            },
            "type": "scatterpolar"
           }
          ],
          "scatterpolargl": [
           {
            "marker": {
             "colorbar": {
              "outlinewidth": 0,
              "ticks": ""
             }
            },
            "type": "scatterpolargl"
           }
          ],
          "scatterternary": [
           {
            "marker": {
             "colorbar": {
              "outlinewidth": 0,
              "ticks": ""
             }
            },
            "type": "scatterternary"
           }
          ],
          "surface": [
           {
            "colorbar": {
             "outlinewidth": 0,
             "ticks": ""
            },
            "colorscale": [
             [
              0,
              "#0d0887"
             ],
             [
              0.1111111111111111,
              "#46039f"
             ],
             [
              0.2222222222222222,
              "#7201a8"
             ],
             [
              0.3333333333333333,
              "#9c179e"
             ],
             [
              0.4444444444444444,
              "#bd3786"
             ],
             [
              0.5555555555555556,
              "#d8576b"
             ],
             [
              0.6666666666666666,
              "#ed7953"
             ],
             [
              0.7777777777777778,
              "#fb9f3a"
             ],
             [
              0.8888888888888888,
              "#fdca26"
             ],
             [
              1,
              "#f0f921"
             ]
            ],
            "type": "surface"
           }
          ],
          "table": [
           {
            "cells": {
             "fill": {
              "color": "#EBF0F8"
             },
             "line": {
              "color": "white"
             }
            },
            "header": {
             "fill": {
              "color": "#C8D4E3"
             },
             "line": {
              "color": "white"
             }
            },
            "type": "table"
           }
          ]
         },
         "layout": {
          "annotationdefaults": {
           "arrowcolor": "#2a3f5f",
           "arrowhead": 0,
           "arrowwidth": 1
          },
          "autotypenumbers": "strict",
          "coloraxis": {
           "colorbar": {
            "outlinewidth": 0,
            "ticks": ""
           }
          },
          "colorscale": {
           "diverging": [
            [
             0,
             "#8e0152"
            ],
            [
             0.1,
             "#c51b7d"
            ],
            [
             0.2,
             "#de77ae"
            ],
            [
             0.3,
             "#f1b6da"
            ],
            [
             0.4,
             "#fde0ef"
            ],
            [
             0.5,
             "#f7f7f7"
            ],
            [
             0.6,
             "#e6f5d0"
            ],
            [
             0.7,
             "#b8e186"
            ],
            [
             0.8,
             "#7fbc41"
            ],
            [
             0.9,
             "#4d9221"
            ],
            [
             1,
             "#276419"
            ]
           ],
           "sequential": [
            [
             0,
             "#0d0887"
            ],
            [
             0.1111111111111111,
             "#46039f"
            ],
            [
             0.2222222222222222,
             "#7201a8"
            ],
            [
             0.3333333333333333,
             "#9c179e"
            ],
            [
             0.4444444444444444,
             "#bd3786"
            ],
            [
             0.5555555555555556,
             "#d8576b"
            ],
            [
             0.6666666666666666,
             "#ed7953"
            ],
            [
             0.7777777777777778,
             "#fb9f3a"
            ],
            [
             0.8888888888888888,
             "#fdca26"
            ],
            [
             1,
             "#f0f921"
            ]
           ],
           "sequentialminus": [
            [
             0,
             "#0d0887"
            ],
            [
             0.1111111111111111,
             "#46039f"
            ],
            [
             0.2222222222222222,
             "#7201a8"
            ],
            [
             0.3333333333333333,
             "#9c179e"
            ],
            [
             0.4444444444444444,
             "#bd3786"
            ],
            [
             0.5555555555555556,
             "#d8576b"
            ],
            [
             0.6666666666666666,
             "#ed7953"
            ],
            [
             0.7777777777777778,
             "#fb9f3a"
            ],
            [
             0.8888888888888888,
             "#fdca26"
            ],
            [
             1,
             "#f0f921"
            ]
           ]
          },
          "colorway": [
           "#636efa",
           "#EF553B",
           "#00cc96",
           "#ab63fa",
           "#FFA15A",
           "#19d3f3",
           "#FF6692",
           "#B6E880",
           "#FF97FF",
           "#FECB52"
          ],
          "font": {
           "color": "#2a3f5f"
          },
          "geo": {
           "bgcolor": "white",
           "lakecolor": "white",
           "landcolor": "#E5ECF6",
           "showlakes": true,
           "showland": true,
           "subunitcolor": "white"
          },
          "hoverlabel": {
           "align": "left"
          },
          "hovermode": "closest",
          "mapbox": {
           "style": "light"
          },
          "paper_bgcolor": "white",
          "plot_bgcolor": "#E5ECF6",
          "polar": {
           "angularaxis": {
            "gridcolor": "white",
            "linecolor": "white",
            "ticks": ""
           },
           "bgcolor": "#E5ECF6",
           "radialaxis": {
            "gridcolor": "white",
            "linecolor": "white",
            "ticks": ""
           }
          },
          "scene": {
           "xaxis": {
            "backgroundcolor": "#E5ECF6",
            "gridcolor": "white",
            "gridwidth": 2,
            "linecolor": "white",
            "showbackground": true,
            "ticks": "",
            "zerolinecolor": "white"
           },
           "yaxis": {
            "backgroundcolor": "#E5ECF6",
            "gridcolor": "white",
            "gridwidth": 2,
            "linecolor": "white",
            "showbackground": true,
            "ticks": "",
            "zerolinecolor": "white"
           },
           "zaxis": {
            "backgroundcolor": "#E5ECF6",
            "gridcolor": "white",
            "gridwidth": 2,
            "linecolor": "white",
            "showbackground": true,
            "ticks": "",
            "zerolinecolor": "white"
           }
          },
          "shapedefaults": {
           "line": {
            "color": "#2a3f5f"
           }
          },
          "ternary": {
           "aaxis": {
            "gridcolor": "white",
            "linecolor": "white",
            "ticks": ""
           },
           "baxis": {
            "gridcolor": "white",
            "linecolor": "white",
            "ticks": ""
           },
           "bgcolor": "#E5ECF6",
           "caxis": {
            "gridcolor": "white",
            "linecolor": "white",
            "ticks": ""
           }
          },
          "title": {
           "x": 0.05
          },
          "xaxis": {
           "automargin": true,
           "gridcolor": "white",
           "linecolor": "white",
           "ticks": "",
           "title": {
            "standoff": 15
           },
           "zerolinecolor": "white",
           "zerolinewidth": 2
          },
          "yaxis": {
           "automargin": true,
           "gridcolor": "white",
           "linecolor": "white",
           "ticks": "",
           "title": {
            "standoff": 15
           },
           "zerolinecolor": "white",
           "zerolinewidth": 2
          }
         }
        },
        "title": {
         "text": "Distribution of the numeric columns"
        }
       }
      }
     },
     "metadata": {},
     "output_type": "display_data"
    }
   ],
   "source": [
    "plot_box(df)"
   ]
  },
  {
   "cell_type": "markdown",
   "metadata": {},
   "source": [
    "### Categorical-Data"
   ]
  },
  {
   "cell_type": "markdown",
   "metadata": {},
   "source": [
    "Encoding Categorical Data\n",
    "\n",
    "- [1. Country of Origin Encoding](####1.Country-of-Origin-Encoding)\n",
    "- [2. Company Encoding](####2.Company-Encoding)\n",
    "- [3. Region Encoding](####3.Region-Encoding)\n",
    "- [4. In Country Partner Encoding](####4.In-Country-Partner-Encoding)\n",
    "- [5. Harvest Year and Grading Date Encoding](####5.Harvest-Year-and-Grading-Date-Encoding)\n",
    "- [6. Owner Encoding](####6.Owner-Encoding)\n",
    "- [7. Variety Encoding](####7.Variety-Encoding)\n",
    "- [8. Processing Method Encoding](####8.Processing-Method-Encoding)\n",
    "- [9. Color Encoding](####9.Color-Encoding)\n",
    "- [10. Certification Body Encoding](####10.Certification-Body-Encoding)\n",
    "- [11. Certification Address Encoding](####11.Certification-Address-Encoding)\n",
    "- [12. Certification Contact Encoding](####12.Certification-Contact-Encoding)\n",
    "- [Assign Categorical Number](####Assign-Categorical-Number)\n",
    "\n",
    "Note: I discard 'status' since this data is constant for all dataset and 'expiration' since I found that it has constant range to 'grading_date' with 12 months for all dataset."
   ]
  },
  {
   "cell_type": "code",
   "execution_count": 57,
   "metadata": {},
   "outputs": [
    {
     "data": {
      "text/html": [
       "<div>\n",
       "<style scoped>\n",
       "    .dataframe tbody tr th:only-of-type {\n",
       "        vertical-align: middle;\n",
       "    }\n",
       "\n",
       "    .dataframe tbody tr th {\n",
       "        vertical-align: top;\n",
       "    }\n",
       "\n",
       "    .dataframe thead th {\n",
       "        text-align: right;\n",
       "    }\n",
       "</style>\n",
       "<table border=\"1\" class=\"dataframe\">\n",
       "  <thead>\n",
       "    <tr style=\"text-align: right;\">\n",
       "      <th></th>\n",
       "      <th>column</th>\n",
       "      <th>dtype</th>\n",
       "      <th>valid</th>\n",
       "      <th>missing</th>\n",
       "      <th>unique</th>\n",
       "      <th>unique_pct</th>\n",
       "      <th>top</th>\n",
       "      <th>freq</th>\n",
       "    </tr>\n",
       "  </thead>\n",
       "  <tbody>\n",
       "    <tr>\n",
       "      <th>0</th>\n",
       "      <td>country_of_origin</td>\n",
       "      <td>object</td>\n",
       "      <td>207</td>\n",
       "      <td>0</td>\n",
       "      <td>22</td>\n",
       "      <td>10.63</td>\n",
       "      <td>Taiwan</td>\n",
       "      <td>61</td>\n",
       "    </tr>\n",
       "    <tr>\n",
       "      <th>1</th>\n",
       "      <td>ico_number</td>\n",
       "      <td>bool</td>\n",
       "      <td>207</td>\n",
       "      <td>0</td>\n",
       "      <td>2</td>\n",
       "      <td>0.97</td>\n",
       "      <td>False</td>\n",
       "      <td>137</td>\n",
       "    </tr>\n",
       "    <tr>\n",
       "      <th>2</th>\n",
       "      <td>company</td>\n",
       "      <td>object</td>\n",
       "      <td>207</td>\n",
       "      <td>0</td>\n",
       "      <td>72</td>\n",
       "      <td>34.78</td>\n",
       "      <td>Taiwan Coffee Laboratory</td>\n",
       "      <td>51</td>\n",
       "    </tr>\n",
       "    <tr>\n",
       "      <th>3</th>\n",
       "      <td>region</td>\n",
       "      <td>object</td>\n",
       "      <td>207</td>\n",
       "      <td>0</td>\n",
       "      <td>120</td>\n",
       "      <td>57.97</td>\n",
       "      <td>Chiayi</td>\n",
       "      <td>12</td>\n",
       "    </tr>\n",
       "    <tr>\n",
       "      <th>4</th>\n",
       "      <td>in_country_partner</td>\n",
       "      <td>object</td>\n",
       "      <td>207</td>\n",
       "      <td>0</td>\n",
       "      <td>21</td>\n",
       "      <td>10.14</td>\n",
       "      <td>Taiwan Coffee Laboratory 台灣咖啡研究室</td>\n",
       "      <td>83</td>\n",
       "    </tr>\n",
       "    <tr>\n",
       "      <th>5</th>\n",
       "      <td>harvest_year</td>\n",
       "      <td>object</td>\n",
       "      <td>207</td>\n",
       "      <td>0</td>\n",
       "      <td>7</td>\n",
       "      <td>3.38</td>\n",
       "      <td>2021 / 2022</td>\n",
       "      <td>99</td>\n",
       "    </tr>\n",
       "    <tr>\n",
       "      <th>6</th>\n",
       "      <td>grading_date</td>\n",
       "      <td>object</td>\n",
       "      <td>207</td>\n",
       "      <td>0</td>\n",
       "      <td>75</td>\n",
       "      <td>36.23</td>\n",
       "      <td>November 15th, 2022</td>\n",
       "      <td>40</td>\n",
       "    </tr>\n",
       "    <tr>\n",
       "      <th>7</th>\n",
       "      <td>owner</td>\n",
       "      <td>object</td>\n",
       "      <td>207</td>\n",
       "      <td>0</td>\n",
       "      <td>80</td>\n",
       "      <td>38.65</td>\n",
       "      <td>Taiwan Coffee Laboratory 台灣咖啡研究室</td>\n",
       "      <td>30</td>\n",
       "    </tr>\n",
       "    <tr>\n",
       "      <th>8</th>\n",
       "      <td>variety</td>\n",
       "      <td>object</td>\n",
       "      <td>207</td>\n",
       "      <td>0</td>\n",
       "      <td>46</td>\n",
       "      <td>22.22</td>\n",
       "      <td>Gesha</td>\n",
       "      <td>38</td>\n",
       "    </tr>\n",
       "    <tr>\n",
       "      <th>9</th>\n",
       "      <td>status</td>\n",
       "      <td>object</td>\n",
       "      <td>207</td>\n",
       "      <td>0</td>\n",
       "      <td>1</td>\n",
       "      <td>0.48</td>\n",
       "      <td>Completed</td>\n",
       "      <td>207</td>\n",
       "    </tr>\n",
       "    <tr>\n",
       "      <th>10</th>\n",
       "      <td>processing_method</td>\n",
       "      <td>object</td>\n",
       "      <td>207</td>\n",
       "      <td>0</td>\n",
       "      <td>10</td>\n",
       "      <td>4.83</td>\n",
       "      <td>Washed / Wet</td>\n",
       "      <td>127</td>\n",
       "    </tr>\n",
       "    <tr>\n",
       "      <th>11</th>\n",
       "      <td>color</td>\n",
       "      <td>object</td>\n",
       "      <td>207</td>\n",
       "      <td>0</td>\n",
       "      <td>12</td>\n",
       "      <td>5.80</td>\n",
       "      <td>green</td>\n",
       "      <td>101</td>\n",
       "    </tr>\n",
       "    <tr>\n",
       "      <th>12</th>\n",
       "      <td>expiration</td>\n",
       "      <td>object</td>\n",
       "      <td>207</td>\n",
       "      <td>0</td>\n",
       "      <td>75</td>\n",
       "      <td>36.23</td>\n",
       "      <td>November 15th, 2023</td>\n",
       "      <td>40</td>\n",
       "    </tr>\n",
       "    <tr>\n",
       "      <th>13</th>\n",
       "      <td>certification_body</td>\n",
       "      <td>object</td>\n",
       "      <td>207</td>\n",
       "      <td>0</td>\n",
       "      <td>21</td>\n",
       "      <td>10.14</td>\n",
       "      <td>Taiwan Coffee Laboratory 台灣咖啡研究室</td>\n",
       "      <td>83</td>\n",
       "    </tr>\n",
       "    <tr>\n",
       "      <th>14</th>\n",
       "      <td>certification_address</td>\n",
       "      <td>object</td>\n",
       "      <td>207</td>\n",
       "      <td>0</td>\n",
       "      <td>21</td>\n",
       "      <td>10.14</td>\n",
       "      <td>QAHWAH CO., LTD 4F, No. 225, Sec. 3, Beixin Rd...</td>\n",
       "      <td>83</td>\n",
       "    </tr>\n",
       "    <tr>\n",
       "      <th>15</th>\n",
       "      <td>certification_contact</td>\n",
       "      <td>object</td>\n",
       "      <td>207</td>\n",
       "      <td>0</td>\n",
       "      <td>21</td>\n",
       "      <td>10.14</td>\n",
       "      <td>Lin, Jen-An Neil 林仁安 - 886-289116612</td>\n",
       "      <td>83</td>\n",
       "    </tr>\n",
       "  </tbody>\n",
       "</table>\n",
       "</div>"
      ],
      "text/plain": [
       "                   column   dtype  valid  missing  unique  unique_pct  \\\n",
       "0       country_of_origin  object    207        0      22       10.63   \n",
       "1              ico_number    bool    207        0       2        0.97   \n",
       "2                 company  object    207        0      72       34.78   \n",
       "3                  region  object    207        0     120       57.97   \n",
       "4      in_country_partner  object    207        0      21       10.14   \n",
       "5            harvest_year  object    207        0       7        3.38   \n",
       "6            grading_date  object    207        0      75       36.23   \n",
       "7                   owner  object    207        0      80       38.65   \n",
       "8                 variety  object    207        0      46       22.22   \n",
       "9                  status  object    207        0       1        0.48   \n",
       "10      processing_method  object    207        0      10        4.83   \n",
       "11                  color  object    207        0      12        5.80   \n",
       "12             expiration  object    207        0      75       36.23   \n",
       "13     certification_body  object    207        0      21       10.14   \n",
       "14  certification_address  object    207        0      21       10.14   \n",
       "15  certification_contact  object    207        0      21       10.14   \n",
       "\n",
       "                                                  top  freq  \n",
       "0                                              Taiwan    61  \n",
       "1                                               False   137  \n",
       "2                            Taiwan Coffee Laboratory    51  \n",
       "3                                              Chiayi    12  \n",
       "4                    Taiwan Coffee Laboratory 台灣咖啡研究室    83  \n",
       "5                                         2021 / 2022    99  \n",
       "6                                 November 15th, 2022    40  \n",
       "7                    Taiwan Coffee Laboratory 台灣咖啡研究室    30  \n",
       "8                                               Gesha    38  \n",
       "9                                           Completed   207  \n",
       "10                                       Washed / Wet   127  \n",
       "11                                              green   101  \n",
       "12                                November 15th, 2023    40  \n",
       "13                   Taiwan Coffee Laboratory 台灣咖啡研究室    83  \n",
       "14  QAHWAH CO., LTD 4F, No. 225, Sec. 3, Beixin Rd...    83  \n",
       "15               Lin, Jen-An Neil 林仁安 - 886-289116612    83  "
      ]
     },
     "execution_count": 57,
     "metadata": {},
     "output_type": "execute_result"
    }
   ],
   "source": [
    "object_df"
   ]
  },
  {
   "cell_type": "code",
   "execution_count": 58,
   "metadata": {},
   "outputs": [],
   "source": [
    "def group_classes(df, column, threshold=0.01, name='Other'):\n",
    "    \"\"\"\n",
    "    This function groups classes with a threshold\n",
    "    Args:\n",
    "        df: pd.DataFrame\n",
    "        column: str\n",
    "        threshold: float\n",
    "    Returns:\n",
    "        pd.DataFrame\n",
    "    \"\"\"\n",
    "    value_counts = df[column].value_counts(normalize=True)\n",
    "    classes = value_counts[value_counts < threshold].index\n",
    "    df.loc[df[column].isin(classes), column] = name\n",
    "    return df\n",
    "\n",
    "def plot_bar(x: list, y: list, title: str, xaxis_title: str, yaxis_title: str):\n",
    "    \"\"\"\n",
    "    This function plots bar chart\n",
    "    Args:\n",
    "        x: list\n",
    "        y: list\n",
    "        title: str\n",
    "        xaxis_title: str\n",
    "        yaxis_title: str\n",
    "    \"\"\"\n",
    "    # plot bar chart\n",
    "    fig = go.Figure()\n",
    "    # bar plot\n",
    "    fig.add_trace(go.Bar(x=x, y=y))\n",
    "    fig.update_layout(title=f'{yaxis_title} Distribution', xaxis_title=xaxis_title, yaxis_title=yaxis_title)\n",
    "    fig.show()\n",
    "\n",
    "def group_classes_with_dict(field, groups):\n",
    "    for group, members in groups.items():\n",
    "        if field in members:\n",
    "            return group\n",
    "    return 'Other'\n"
   ]
  },
  {
   "cell_type": "markdown",
   "metadata": {},
   "source": [
    "#### 1.Country-of-Origin-Encoding"
   ]
  },
  {
   "cell_type": "code",
   "execution_count": 59,
   "metadata": {},
   "outputs": [
    {
     "name": "stdout",
     "output_type": "stream",
     "text": [
      "country_of_origin\n",
      "Taiwan                          61\n",
      "Guatemala                       21\n",
      "Colombia                        19\n",
      "Honduras                        13\n",
      "Thailand                        12\n",
      "Ethiopia                        11\n",
      "Brazil                          10\n",
      "Costa Rica                       8\n",
      "Nicaragua                        7\n",
      "El Salvador                      7\n",
      "Tanzania, United Republic Of     6\n",
      "United States (Hawaii)           5\n",
      "Mexico                           4\n",
      "Peru                             4\n",
      "Vietnam                          4\n",
      "Uganda                           3\n",
      "Indonesia                        3\n",
      "Laos                             3\n",
      "Panama                           2\n",
      "Kenya                            2\n",
      "Madagascar                       1\n",
      "Myanmar                          1\n",
      "Name: count, dtype: int64\n",
      "\n",
      "After Grouping:\n",
      "country_of_origin\n",
      "Asia Pacific       84\n",
      "Central America    58\n",
      "South America      33\n",
      "Africa             23\n",
      "North America       9\n",
      "Name: count, dtype: int64\n"
     ]
    }
   ],
   "source": [
    "# 'country_of_origin'\n",
    "print(df['country_of_origin'].value_counts())\n",
    "# rename 'Tanzania, United Republic Of' to 'Tanzania'\n",
    "df.loc[df['country_of_origin'] == 'Tanzania, United Republic Of', 'country_of_origin'] = 'Tanzania'\n",
    "# by geographical location\n",
    "asia_pacific = ['Taiwan', 'Thailand', 'Vietnam', 'Indonesia', 'Laos', 'Myanmar']\n",
    "central_america = ['Honduras', 'Costa Rica', 'Guatemala', 'Nicaragua', 'Panama', 'El Salvador']\n",
    "south_america = ['Peru', 'Colombia', 'Brazil']\n",
    "north_america = ['United States (Hawaii)', 'Mexico']\n",
    "africa = ['Madagascar', 'Tanzania', 'Uganda', 'Ethiopia', 'Kenya']\n",
    "df.loc[df['country_of_origin'].isin(asia_pacific), 'country_of_origin'] = 'Asia Pacific'\n",
    "df.loc[df['country_of_origin'].isin(central_america), 'country_of_origin'] = 'Central America'\n",
    "df.loc[df['country_of_origin'].isin(south_america), 'country_of_origin'] = 'South America'\n",
    "df.loc[df['country_of_origin'].isin(north_america), 'country_of_origin'] = 'North America'\n",
    "df.loc[df['country_of_origin'].isin(africa), 'country_of_origin'] = 'Africa'\n",
    "print(\"\\nAfter Grouping:\")\n",
    "print(df['country_of_origin'].value_counts())"
   ]
  },
  {
   "cell_type": "code",
   "execution_count": 60,
   "metadata": {},
   "outputs": [
    {
     "data": {
      "text/plain": [
       "country_of_origin\n",
       "Africa             84.626087\n",
       "Asia Pacific       83.997500\n",
       "Central America    83.347414\n",
       "North America      83.232222\n",
       "South America      83.085758\n",
       "Name: total_cup_points, dtype: float64"
      ]
     },
     "execution_count": 60,
     "metadata": {},
     "output_type": "execute_result"
    }
   ],
   "source": [
    "df.groupby('country_of_origin')['total_cup_points'].mean().sort_values(ascending=False)"
   ]
  },
  {
   "cell_type": "code",
   "execution_count": 61,
   "metadata": {},
   "outputs": [
    {
     "data": {
      "text/plain": [
       "country_of_origin\n",
       "Africa             84.626087\n",
       "Asia Pacific       83.997500\n",
       "Central America    83.347414\n",
       "North America      83.232222\n",
       "South America      83.085758\n",
       "Name: total_cup_points, dtype: float64"
      ]
     },
     "execution_count": 61,
     "metadata": {},
     "output_type": "execute_result"
    }
   ],
   "source": [
    "df_tmp = df.groupby('country_of_origin')['total_cup_points'].mean().sort_values(ascending=False)\n",
    "df_tmp"
   ]
  },
  {
   "cell_type": "code",
   "execution_count": 62,
   "metadata": {},
   "outputs": [
    {
     "data": {
      "application/vnd.plotly.v1+json": {
       "config": {
        "plotlyServerURL": "https://plot.ly"
       },
       "data": [
        {
         "type": "bar",
         "x": [
          "Africa",
          "Asia Pacific",
          "Central America",
          "North America",
          "South America"
         ],
         "y": {
          "bdata": "o60GzxEoVUCkcD0K1/9UQMDjDwc81lRAVHaYutzOVEDV0FcNfcVUQA==",
          "dtype": "f8"
         }
        }
       ],
       "layout": {
        "template": {
         "data": {
          "bar": [
           {
            "error_x": {
             "color": "#2a3f5f"
            },
            "error_y": {
             "color": "#2a3f5f"
            },
            "marker": {
             "line": {
              "color": "#E5ECF6",
              "width": 0.5
             },
             "pattern": {
              "fillmode": "overlay",
              "size": 10,
              "solidity": 0.2
             }
            },
            "type": "bar"
           }
          ],
          "barpolar": [
           {
            "marker": {
             "line": {
              "color": "#E5ECF6",
              "width": 0.5
             },
             "pattern": {
              "fillmode": "overlay",
              "size": 10,
              "solidity": 0.2
             }
            },
            "type": "barpolar"
           }
          ],
          "carpet": [
           {
            "aaxis": {
             "endlinecolor": "#2a3f5f",
             "gridcolor": "white",
             "linecolor": "white",
             "minorgridcolor": "white",
             "startlinecolor": "#2a3f5f"
            },
            "baxis": {
             "endlinecolor": "#2a3f5f",
             "gridcolor": "white",
             "linecolor": "white",
             "minorgridcolor": "white",
             "startlinecolor": "#2a3f5f"
            },
            "type": "carpet"
           }
          ],
          "choropleth": [
           {
            "colorbar": {
             "outlinewidth": 0,
             "ticks": ""
            },
            "type": "choropleth"
           }
          ],
          "contour": [
           {
            "colorbar": {
             "outlinewidth": 0,
             "ticks": ""
            },
            "colorscale": [
             [
              0,
              "#0d0887"
             ],
             [
              0.1111111111111111,
              "#46039f"
             ],
             [
              0.2222222222222222,
              "#7201a8"
             ],
             [
              0.3333333333333333,
              "#9c179e"
             ],
             [
              0.4444444444444444,
              "#bd3786"
             ],
             [
              0.5555555555555556,
              "#d8576b"
             ],
             [
              0.6666666666666666,
              "#ed7953"
             ],
             [
              0.7777777777777778,
              "#fb9f3a"
             ],
             [
              0.8888888888888888,
              "#fdca26"
             ],
             [
              1,
              "#f0f921"
             ]
            ],
            "type": "contour"
           }
          ],
          "contourcarpet": [
           {
            "colorbar": {
             "outlinewidth": 0,
             "ticks": ""
            },
            "type": "contourcarpet"
           }
          ],
          "heatmap": [
           {
            "colorbar": {
             "outlinewidth": 0,
             "ticks": ""
            },
            "colorscale": [
             [
              0,
              "#0d0887"
             ],
             [
              0.1111111111111111,
              "#46039f"
             ],
             [
              0.2222222222222222,
              "#7201a8"
             ],
             [
              0.3333333333333333,
              "#9c179e"
             ],
             [
              0.4444444444444444,
              "#bd3786"
             ],
             [
              0.5555555555555556,
              "#d8576b"
             ],
             [
              0.6666666666666666,
              "#ed7953"
             ],
             [
              0.7777777777777778,
              "#fb9f3a"
             ],
             [
              0.8888888888888888,
              "#fdca26"
             ],
             [
              1,
              "#f0f921"
             ]
            ],
            "type": "heatmap"
           }
          ],
          "histogram": [
           {
            "marker": {
             "pattern": {
              "fillmode": "overlay",
              "size": 10,
              "solidity": 0.2
             }
            },
            "type": "histogram"
           }
          ],
          "histogram2d": [
           {
            "colorbar": {
             "outlinewidth": 0,
             "ticks": ""
            },
            "colorscale": [
             [
              0,
              "#0d0887"
             ],
             [
              0.1111111111111111,
              "#46039f"
             ],
             [
              0.2222222222222222,
              "#7201a8"
             ],
             [
              0.3333333333333333,
              "#9c179e"
             ],
             [
              0.4444444444444444,
              "#bd3786"
             ],
             [
              0.5555555555555556,
              "#d8576b"
             ],
             [
              0.6666666666666666,
              "#ed7953"
             ],
             [
              0.7777777777777778,
              "#fb9f3a"
             ],
             [
              0.8888888888888888,
              "#fdca26"
             ],
             [
              1,
              "#f0f921"
             ]
            ],
            "type": "histogram2d"
           }
          ],
          "histogram2dcontour": [
           {
            "colorbar": {
             "outlinewidth": 0,
             "ticks": ""
            },
            "colorscale": [
             [
              0,
              "#0d0887"
             ],
             [
              0.1111111111111111,
              "#46039f"
             ],
             [
              0.2222222222222222,
              "#7201a8"
             ],
             [
              0.3333333333333333,
              "#9c179e"
             ],
             [
              0.4444444444444444,
              "#bd3786"
             ],
             [
              0.5555555555555556,
              "#d8576b"
             ],
             [
              0.6666666666666666,
              "#ed7953"
             ],
             [
              0.7777777777777778,
              "#fb9f3a"
             ],
             [
              0.8888888888888888,
              "#fdca26"
             ],
             [
              1,
              "#f0f921"
             ]
            ],
            "type": "histogram2dcontour"
           }
          ],
          "mesh3d": [
           {
            "colorbar": {
             "outlinewidth": 0,
             "ticks": ""
            },
            "type": "mesh3d"
           }
          ],
          "parcoords": [
           {
            "line": {
             "colorbar": {
              "outlinewidth": 0,
              "ticks": ""
             }
            },
            "type": "parcoords"
           }
          ],
          "pie": [
           {
            "automargin": true,
            "type": "pie"
           }
          ],
          "scatter": [
           {
            "fillpattern": {
             "fillmode": "overlay",
             "size": 10,
             "solidity": 0.2
            },
            "type": "scatter"
           }
          ],
          "scatter3d": [
           {
            "line": {
             "colorbar": {
              "outlinewidth": 0,
              "ticks": ""
             }
            },
            "marker": {
             "colorbar": {
              "outlinewidth": 0,
              "ticks": ""
             }
            },
            "type": "scatter3d"
           }
          ],
          "scattercarpet": [
           {
            "marker": {
             "colorbar": {
              "outlinewidth": 0,
              "ticks": ""
             }
            },
            "type": "scattercarpet"
           }
          ],
          "scattergeo": [
           {
            "marker": {
             "colorbar": {
              "outlinewidth": 0,
              "ticks": ""
             }
            },
            "type": "scattergeo"
           }
          ],
          "scattergl": [
           {
            "marker": {
             "colorbar": {
              "outlinewidth": 0,
              "ticks": ""
             }
            },
            "type": "scattergl"
           }
          ],
          "scattermap": [
           {
            "marker": {
             "colorbar": {
              "outlinewidth": 0,
              "ticks": ""
             }
            },
            "type": "scattermap"
           }
          ],
          "scattermapbox": [
           {
            "marker": {
             "colorbar": {
              "outlinewidth": 0,
              "ticks": ""
             }
            },
            "type": "scattermapbox"
           }
          ],
          "scatterpolar": [
           {
            "marker": {
             "colorbar": {
              "outlinewidth": 0,
              "ticks": ""
             }
            },
            "type": "scatterpolar"
           }
          ],
          "scatterpolargl": [
           {
            "marker": {
             "colorbar": {
              "outlinewidth": 0,
              "ticks": ""
             }
            },
            "type": "scatterpolargl"
           }
          ],
          "scatterternary": [
           {
            "marker": {
             "colorbar": {
              "outlinewidth": 0,
              "ticks": ""
             }
            },
            "type": "scatterternary"
           }
          ],
          "surface": [
           {
            "colorbar": {
             "outlinewidth": 0,
             "ticks": ""
            },
            "colorscale": [
             [
              0,
              "#0d0887"
             ],
             [
              0.1111111111111111,
              "#46039f"
             ],
             [
              0.2222222222222222,
              "#7201a8"
             ],
             [
              0.3333333333333333,
              "#9c179e"
             ],
             [
              0.4444444444444444,
              "#bd3786"
             ],
             [
              0.5555555555555556,
              "#d8576b"
             ],
             [
              0.6666666666666666,
              "#ed7953"
             ],
             [
              0.7777777777777778,
              "#fb9f3a"
             ],
             [
              0.8888888888888888,
              "#fdca26"
             ],
             [
              1,
              "#f0f921"
             ]
            ],
            "type": "surface"
           }
          ],
          "table": [
           {
            "cells": {
             "fill": {
              "color": "#EBF0F8"
             },
             "line": {
              "color": "white"
             }
            },
            "header": {
             "fill": {
              "color": "#C8D4E3"
             },
             "line": {
              "color": "white"
             }
            },
            "type": "table"
           }
          ]
         },
         "layout": {
          "annotationdefaults": {
           "arrowcolor": "#2a3f5f",
           "arrowhead": 0,
           "arrowwidth": 1
          },
          "autotypenumbers": "strict",
          "coloraxis": {
           "colorbar": {
            "outlinewidth": 0,
            "ticks": ""
           }
          },
          "colorscale": {
           "diverging": [
            [
             0,
             "#8e0152"
            ],
            [
             0.1,
             "#c51b7d"
            ],
            [
             0.2,
             "#de77ae"
            ],
            [
             0.3,
             "#f1b6da"
            ],
            [
             0.4,
             "#fde0ef"
            ],
            [
             0.5,
             "#f7f7f7"
            ],
            [
             0.6,
             "#e6f5d0"
            ],
            [
             0.7,
             "#b8e186"
            ],
            [
             0.8,
             "#7fbc41"
            ],
            [
             0.9,
             "#4d9221"
            ],
            [
             1,
             "#276419"
            ]
           ],
           "sequential": [
            [
             0,
             "#0d0887"
            ],
            [
             0.1111111111111111,
             "#46039f"
            ],
            [
             0.2222222222222222,
             "#7201a8"
            ],
            [
             0.3333333333333333,
             "#9c179e"
            ],
            [
             0.4444444444444444,
             "#bd3786"
            ],
            [
             0.5555555555555556,
             "#d8576b"
            ],
            [
             0.6666666666666666,
             "#ed7953"
            ],
            [
             0.7777777777777778,
             "#fb9f3a"
            ],
            [
             0.8888888888888888,
             "#fdca26"
            ],
            [
             1,
             "#f0f921"
            ]
           ],
           "sequentialminus": [
            [
             0,
             "#0d0887"
            ],
            [
             0.1111111111111111,
             "#46039f"
            ],
            [
             0.2222222222222222,
             "#7201a8"
            ],
            [
             0.3333333333333333,
             "#9c179e"
            ],
            [
             0.4444444444444444,
             "#bd3786"
            ],
            [
             0.5555555555555556,
             "#d8576b"
            ],
            [
             0.6666666666666666,
             "#ed7953"
            ],
            [
             0.7777777777777778,
             "#fb9f3a"
            ],
            [
             0.8888888888888888,
             "#fdca26"
            ],
            [
             1,
             "#f0f921"
            ]
           ]
          },
          "colorway": [
           "#636efa",
           "#EF553B",
           "#00cc96",
           "#ab63fa",
           "#FFA15A",
           "#19d3f3",
           "#FF6692",
           "#B6E880",
           "#FF97FF",
           "#FECB52"
          ],
          "font": {
           "color": "#2a3f5f"
          },
          "geo": {
           "bgcolor": "white",
           "lakecolor": "white",
           "landcolor": "#E5ECF6",
           "showlakes": true,
           "showland": true,
           "subunitcolor": "white"
          },
          "hoverlabel": {
           "align": "left"
          },
          "hovermode": "closest",
          "mapbox": {
           "style": "light"
          },
          "paper_bgcolor": "white",
          "plot_bgcolor": "#E5ECF6",
          "polar": {
           "angularaxis": {
            "gridcolor": "white",
            "linecolor": "white",
            "ticks": ""
           },
           "bgcolor": "#E5ECF6",
           "radialaxis": {
            "gridcolor": "white",
            "linecolor": "white",
            "ticks": ""
           }
          },
          "scene": {
           "xaxis": {
            "backgroundcolor": "#E5ECF6",
            "gridcolor": "white",
            "gridwidth": 2,
            "linecolor": "white",
            "showbackground": true,
            "ticks": "",
            "zerolinecolor": "white"
           },
           "yaxis": {
            "backgroundcolor": "#E5ECF6",
            "gridcolor": "white",
            "gridwidth": 2,
            "linecolor": "white",
            "showbackground": true,
            "ticks": "",
            "zerolinecolor": "white"
           },
           "zaxis": {
            "backgroundcolor": "#E5ECF6",
            "gridcolor": "white",
            "gridwidth": 2,
            "linecolor": "white",
            "showbackground": true,
            "ticks": "",
            "zerolinecolor": "white"
           }
          },
          "shapedefaults": {
           "line": {
            "color": "#2a3f5f"
           }
          },
          "ternary": {
           "aaxis": {
            "gridcolor": "white",
            "linecolor": "white",
            "ticks": ""
           },
           "baxis": {
            "gridcolor": "white",
            "linecolor": "white",
            "ticks": ""
           },
           "bgcolor": "#E5ECF6",
           "caxis": {
            "gridcolor": "white",
            "linecolor": "white",
            "ticks": ""
           }
          },
          "title": {
           "x": 0.05
          },
          "xaxis": {
           "automargin": true,
           "gridcolor": "white",
           "linecolor": "white",
           "ticks": "",
           "title": {
            "standoff": 15
           },
           "zerolinecolor": "white",
           "zerolinewidth": 2
          },
          "yaxis": {
           "automargin": true,
           "gridcolor": "white",
           "linecolor": "white",
           "ticks": "",
           "title": {
            "standoff": 15
           },
           "zerolinecolor": "white",
           "zerolinewidth": 2
          }
         }
        },
        "title": {
         "text": "Total Cup Points Distribution"
        },
        "xaxis": {
         "title": {
          "text": "Country of Origin"
         }
        },
        "yaxis": {
         "title": {
          "text": "Total Cup Points"
         }
        }
       }
      }
     },
     "metadata": {},
     "output_type": "display_data"
    }
   ],
   "source": [
    "plot_bar(df_tmp.index, df_tmp.values, 'Total Cup Points vs Country of Origin', 'Country of Origin', 'Total Cup Points')"
   ]
  },
  {
   "cell_type": "markdown",
   "metadata": {},
   "source": [
    "#### 2.Company-Encoding"
   ]
  },
  {
   "cell_type": "code",
   "execution_count": 63,
   "metadata": {},
   "outputs": [
    {
     "name": "stdout",
     "output_type": "stream",
     "text": [
      "company\n",
      "Taiwan Coffee Laboratory        51\n",
      "Taiwu Coffee Cooperative        25\n",
      "Coffee Quality Union            15\n",
      "Doi Tung Development Project     7\n",
      "Peter Schoenfeld, S.A.           6\n",
      "                                ..\n",
      "Taylor Winch Coffee Ltd          1\n",
      "ECOM COLOMBIA                    1\n",
      "Exportadora Café California      1\n",
      "Coffee Quality Institute         1\n",
      "marubeni                         1\n",
      "Name: count, Length: 72, dtype: int64\n",
      "\n",
      "After Grouping:\n",
      "company\n",
      "Other                                70\n",
      "Taiwan Coffee Laboratory             51\n",
      "Taiwu Coffee Cooperative             25\n",
      "Coffee Quality Union                 15\n",
      "Doi Tung Development Project          7\n",
      "Peter Schoenfeld, S.A.                6\n",
      "Mercon Honduras                       4\n",
      "Marubeni Corporation                  4\n",
      "Mr.Brown Cafe                         4\n",
      "宸嶧國際有限公司                              3\n",
      "InterAmerican Coffee                  3\n",
      "CECA S.A.                             3\n",
      "Cafe Organico Marcala S.A de C.V.     3\n",
      "Consejo Salvadoreño del Café          3\n",
      "Itochu Corporation                    3\n",
      "Aprentium Enterprises LLC             3\n",
      "Name: count, dtype: int64\n"
     ]
    }
   ],
   "source": [
    "# 'company'\n",
    "print(df['company'].value_counts())\n",
    "# group classes with a threshold\n",
    "df_temp = group_classes(df.copy(), 'company', threshold=0.01)\n",
    "print(\"\\nAfter Grouping:\")\n",
    "print(df_temp['company'].value_counts())"
   ]
  },
  {
   "cell_type": "markdown",
   "metadata": {},
   "source": [
    "After grouping 'company' which has their count < 1% to 'Other' class, This class becomes majority class in this data so I will leave it for now."
   ]
  },
  {
   "cell_type": "markdown",
   "metadata": {},
   "source": [
    "#### 3.Region-Encoding"
   ]
  },
  {
   "cell_type": "markdown",
   "metadata": {},
   "source": [
    "Actually the most frequent classes only representing ~5% but I want to explore more from this point. Since I assume the regions can significantly impact quality of coffee so I convert these regions to location represented in [lat, lon]."
   ]
  },
  {
   "cell_type": "code",
   "execution_count": 64,
   "metadata": {},
   "outputs": [
    {
     "name": "stdout",
     "output_type": "stream",
     "text": [
      "region\n",
      "Chiayi                         0.057971\n",
      "新竹縣                            0.053140\n",
      "苗栗縣                            0.033816\n",
      "North of Thailand              0.033816\n",
      "Yunlin                         0.033816\n",
      "                                 ...   \n",
      "Addis Ababa                    0.004831\n",
      "Ka'u district of Big Island    0.004831\n",
      "玉里鎮Yuli Township               0.004831\n",
      "Ethiopia                       0.004831\n",
      "Minas Gerais                   0.004831\n",
      "Name: proportion, Length: 120, dtype: float64\n"
     ]
    }
   ],
   "source": [
    "# region\n",
    "print(df['region'].value_counts(normalize=True))"
   ]
  },
  {
   "cell_type": "code",
   "execution_count": 65,
   "metadata": {},
   "outputs": [
    {
     "name": "stdout",
     "output_type": "stream",
     "text": [
      "[('Piendamo,Cauca', [2.636706, -76.5061489]), ('Chiayi', [23.4518428, 120.2554615]), ('Laos Borofen Plateau', [15.0, 106.0]), ('Los Santos,Tarrazu', [9.65965, -84.02138]), ('Popayan,Cauca', [2.45417, -76.60917])]\n"
     ]
    }
   ],
   "source": [
    "# read the coordinates from the json file\n",
    "with open('data/region_lat_lon.json', 'r') as f:\n",
    "    region_lat_lon = json.load(f)\n",
    "# print the first 5 items\n",
    "print(list(region_lat_lon.items())[:5])"
   ]
  },
  {
   "cell_type": "code",
   "execution_count": 66,
   "metadata": {},
   "outputs": [],
   "source": [
    "lat_lon_df = df.copy()\n",
    "# map the region to the coordinates\n",
    "lat_lon_df['region_lat_lon'] = lat_lon_df['region'].map(region_lat_lon)\n",
    "# split the coordinates into latitude and longitude\n",
    "lat_lon_df[['region_lat', 'region_lon']] = pd.DataFrame(lat_lon_df['region_lat_lon'].tolist(), index=lat_lon_df.index)\n",
    "# check the missing values\n",
    "lat_lon_df[lat_lon_df['region_lat_lon'].isnull()]\n",
    "# add to df\n",
    "df['region_lat'] = lat_lon_df['region_lat']\n",
    "df['region_lon'] = lat_lon_df['region_lon']"
   ]
  },
  {
   "cell_type": "code",
   "execution_count": 67,
   "metadata": {},
   "outputs": [
    {
     "data": {
      "application/vnd.plotly.v1+json": {
       "config": {
        "plotlyServerURL": "https://plot.ly"
       },
       "data": [
        {
         "geo": "geo",
         "hovertemplate": "<b>%{hovertext}</b><br><br>total_cup_points=%{marker.color}<br>region_lat=%{lat}<br>region_lon=%{lon}<extra></extra>",
         "hovertext": [
          "Piendamo,Cauca",
          "Chiayi",
          "Laos Borofen Plateau",
          "Los Santos,Tarrazu",
          "Popayan,Cauca",
          "Chimaltenango",
          "Chiayi",
          "Chiayi",
          "Chiayi",
          "KILIMANJARO",
          "Guji",
          "Acatenango",
          "Yunlin",
          "Guji",
          "tolima",
          "Chiayi",
          "Gedeb,Yirgacheffe,Sidamo",
          "Shibi, Gukeng Township, Yunlin County 郵遞區號 , Taiwan (R.O.C.)",
          "Gukeng Township, Yunlin County",
          "Arusha",
          "Guatemala, Fraijanes, Santa Rosa",
          "卓溪鄉Zhuoxi Township",
          "Chiang Mai",
          "Quindio",
          "Yunlin",
          "Região Vulcânica",
          "Chiayi",
          "Yunlin",
          "Chiayi",
          "Kona",
          "壽豐鄉Shoufeng Township",
          "壽豐鄉Shoufeng Township",
          "Dongshan Dist., Tainan City",
          "Oromia",
          "Southern Ethiopia Guji",
          "OROMIA",
          "Chiayi",
          "Dongshan Dist., Tainan City",
          "Central",
          "Caoling , Gukeng Township, Yunlin County",
          "秀林鄉Show Linxia Township",
          "台灣屏東",
          "苗栗縣",
          "Rwenzori",
          "壽豐鄉Shoufeng Township",
          "Yunlin",
          "Antigua",
          "Santa Rosa",
          "quiche",
          "新竹縣",
          "新竹縣",
          "Aceh Tengah",
          "Villa Rica",
          "Mbeya",
          "Chiayi",
          "Nantou",
          "Campo das Vertentes",
          "Boquete",
          "台灣屏東",
          "Huehuetenango",
          "ANTIGUA GUATEMALA",
          "Tarrazu",
          "新竹縣",
          "( Dongshan Dist., Tainan City)",
          "ESTELI",
          "Chiayi",
          "Chiayi",
          "Quang Tri",
          "Los Santos,Tarrazu",
          "苗栗縣",
          "Centro, Lagunetillas-Ajuterique, Comayagua",
          "Ethiopia",
          "玉里鎮Yuli Township",
          "Yunlin",
          "Huehuetenango",
          "Ka'u district of Big Island",
          "Addis Ababa",
          "Chalatenango",
          "Sierra Nevada de Santa Marta",
          "Lintong Nihuta/Dolok Sanggul,Sumatera Utara",
          "Atitlán",
          "Itasy",
          "Centro, Lagunetillas-Ajuterique, Comayagua",
          "quiche",
          "新北市",
          "Yunlin",
          "Oriente Santa rosa",
          "Sierra de las minas",
          "San Andrés, Lempira",
          "ARUSHA",
          "Sidama",
          "KILIMANJARO",
          "Huila",
          "Tarrazu",
          "New Oriente",
          "Atitlán",
          "Nan",
          "Pereira",
          "HUEHUETENANGO",
          "ANTIGUA GUATEMALA",
          "Sidama",
          "Cauca",
          "Ka'u",
          "Tolima",
          "Chiapas",
          "Quindio",
          "Caoling , Gukeng Township, Yunlin County",
          "South Shan State",
          "新竹縣",
          "San Jose, La Paz",
          "新竹縣",
          "新竹縣",
          "QUICHE",
          "Marcala",
          "Popayán Cauca",
          "North of Thailand",
          "OROMIA",
          "Suan Ya Lung",
          "Mt Elgon",
          "Chiayi",
          "Rwenzori",
          "新竹縣",
          "NEW ORIENTE & HUEHUETENANGO",
          "桃園市",
          "Sierra Nevada de Santa Marta",
          "Tarrazu",
          "Yunlin",
          "North of Thailand",
          "KILIMANJARO",
          "Sul de Minas",
          "苗栗縣",
          "Quindio",
          "Marcala, La Paz",
          "Marcala",
          "新竹縣",
          "苗栗縣",
          "Nongluang Bolaven Plateau, Champasack, Lao PDR",
          "Centro, Lagunetillas - Ajuterique, Comayagua",
          "Los Planes de Santa Maria, La Paz",
          "HUILA",
          "新竹縣",
          "ZONGOLICA, VERACRUZ",
          "Quindio",
          "Shibi, Gukeng Township, Yunlin County 郵遞區號 , Taiwan (R.O.C.)",
          "Marcala",
          "North of Thailand",
          "Eatan Commune, Krong Nang District, Krong Nang Province",
          "Matagalpa",
          "west Villege",
          "Huila",
          "North of Thailand",
          "Chiang Mai",
          "los planes de santa maria la paz",
          "苗栗縣",
          "苗栗縣",
          "ESTELI",
          "Apaneca - Ilamatepec",
          "Boquete",
          "MANTIQUEIRA / SUL DE MINAS",
          "Kona",
          "Veracruz",
          "Centro, Lagunetillas - Ajuterique, Comayagua",
          "新竹縣",
          "Matagalpa, Nicaragua",
          "Dalat",
          "Apaneca - Ilamatepec",
          "Apaneca - Ilamatepec",
          "新竹縣",
          "Chanchamayo, La Merced",
          "Kona district of Big Island",
          "Kericho",
          "Centro, Lagunetillas - Ajuterique, Comayagua",
          "桃園市",
          "苗栗縣",
          "桃園市",
          "North of Thailand",
          "Corralillo Tarrazu",
          "Oriente",
          "Sumatra",
          "Chanchamayo, La Merced",
          "Antigua",
          "桃園市",
          "Lam Dong Province",
          "Mantiquira de minas",
          "Sul de Minas",
          "Santander",
          "Coatepec, Veracruz",
          "occidente",
          "新北市",
          "臺北市",
          "North of Thailand",
          "Chiang Rai",
          "North of Thailand",
          "Cauca",
          "Alta Mogiana-Ibiraci",
          "Volcan Chinchontepek, San Vicente, El Salvador",
          "ESTELI",
          "Jinotega",
          "Caicedonia,Valle del Cauca",
          "Chanchamayo, Lamerced",
          "Volcan Chinchontepek, San Vicente, El Salvador",
          "Alta Mogiana-Ibiraci",
          "Sul de Minas",
          "Matagalpa",
          "Bolaven Plateau",
          "Volcan de San Vicente, La Paz, El Salvador",
          "Minas Gerais"
         ],
         "lat": {
          "bdata": "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",
          "dtype": "f8"
         },
         "legendgroup": "",
         "lon": {
          "bdata": "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",
          "dtype": "f8"
         },
         "marker": {
          "color": {
           "bdata": "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",
           "dtype": "f8"
          },
          "coloraxis": "coloraxis",
          "size": {
           "bdata": "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",
           "dtype": "f8"
          },
          "sizemode": "area",
          "sizeref": 0.223325,
          "symbol": "circle"
         },
         "mode": "markers",
         "name": "",
         "showlegend": false,
         "type": "scattergeo"
        }
       ],
       "layout": {
        "coloraxis": {
         "colorbar": {
          "title": {
           "text": "total_cup_points"
          }
         },
         "colorscale": [
          [
           0,
           "#0d0887"
          ],
          [
           0.1111111111111111,
           "#46039f"
          ],
          [
           0.2222222222222222,
           "#7201a8"
          ],
          [
           0.3333333333333333,
           "#9c179e"
          ],
          [
           0.4444444444444444,
           "#bd3786"
          ],
          [
           0.5555555555555556,
           "#d8576b"
          ],
          [
           0.6666666666666666,
           "#ed7953"
          ],
          [
           0.7777777777777778,
           "#fb9f3a"
          ],
          [
           0.8888888888888888,
           "#fdca26"
          ],
          [
           1,
           "#f0f921"
          ]
         ]
        },
        "geo": {
         "center": {},
         "countrycolor": "Black",
         "domain": {
          "x": [
           0,
           1
          ],
          "y": [
           0,
           1
          ]
         },
         "oceancolor": "LightBlue",
         "projection": {
          "type": "natural earth"
         },
         "showcountries": true,
         "showland": true,
         "showocean": true
        },
        "legend": {
         "itemsizing": "constant",
         "tracegroupgap": 0
        },
        "margin": {
         "t": 60
        },
        "template": {
         "data": {
          "bar": [
           {
            "error_x": {
             "color": "#2a3f5f"
            },
            "error_y": {
             "color": "#2a3f5f"
            },
            "marker": {
             "line": {
              "color": "#E5ECF6",
              "width": 0.5
             },
             "pattern": {
              "fillmode": "overlay",
              "size": 10,
              "solidity": 0.2
             }
            },
            "type": "bar"
           }
          ],
          "barpolar": [
           {
            "marker": {
             "line": {
              "color": "#E5ECF6",
              "width": 0.5
             },
             "pattern": {
              "fillmode": "overlay",
              "size": 10,
              "solidity": 0.2
             }
            },
            "type": "barpolar"
           }
          ],
          "carpet": [
           {
            "aaxis": {
             "endlinecolor": "#2a3f5f",
             "gridcolor": "white",
             "linecolor": "white",
             "minorgridcolor": "white",
             "startlinecolor": "#2a3f5f"
            },
            "baxis": {
             "endlinecolor": "#2a3f5f",
             "gridcolor": "white",
             "linecolor": "white",
             "minorgridcolor": "white",
             "startlinecolor": "#2a3f5f"
            },
            "type": "carpet"
           }
          ],
          "choropleth": [
           {
            "colorbar": {
             "outlinewidth": 0,
             "ticks": ""
            },
            "type": "choropleth"
           }
          ],
          "contour": [
           {
            "colorbar": {
             "outlinewidth": 0,
             "ticks": ""
            },
            "colorscale": [
             [
              0,
              "#0d0887"
             ],
             [
              0.1111111111111111,
              "#46039f"
             ],
             [
              0.2222222222222222,
              "#7201a8"
             ],
             [
              0.3333333333333333,
              "#9c179e"
             ],
             [
              0.4444444444444444,
              "#bd3786"
             ],
             [
              0.5555555555555556,
              "#d8576b"
             ],
             [
              0.6666666666666666,
              "#ed7953"
             ],
             [
              0.7777777777777778,
              "#fb9f3a"
             ],
             [
              0.8888888888888888,
              "#fdca26"
             ],
             [
              1,
              "#f0f921"
             ]
            ],
            "type": "contour"
           }
          ],
          "contourcarpet": [
           {
            "colorbar": {
             "outlinewidth": 0,
             "ticks": ""
            },
            "type": "contourcarpet"
           }
          ],
          "heatmap": [
           {
            "colorbar": {
             "outlinewidth": 0,
             "ticks": ""
            },
            "colorscale": [
             [
              0,
              "#0d0887"
             ],
             [
              0.1111111111111111,
              "#46039f"
             ],
             [
              0.2222222222222222,
              "#7201a8"
             ],
             [
              0.3333333333333333,
              "#9c179e"
             ],
             [
              0.4444444444444444,
              "#bd3786"
             ],
             [
              0.5555555555555556,
              "#d8576b"
             ],
             [
              0.6666666666666666,
              "#ed7953"
             ],
             [
              0.7777777777777778,
              "#fb9f3a"
             ],
             [
              0.8888888888888888,
              "#fdca26"
             ],
             [
              1,
              "#f0f921"
             ]
            ],
            "type": "heatmap"
           }
          ],
          "histogram": [
           {
            "marker": {
             "pattern": {
              "fillmode": "overlay",
              "size": 10,
              "solidity": 0.2
             }
            },
            "type": "histogram"
           }
          ],
          "histogram2d": [
           {
            "colorbar": {
             "outlinewidth": 0,
             "ticks": ""
            },
            "colorscale": [
             [
              0,
              "#0d0887"
             ],
             [
              0.1111111111111111,
              "#46039f"
             ],
             [
              0.2222222222222222,
              "#7201a8"
             ],
             [
              0.3333333333333333,
              "#9c179e"
             ],
             [
              0.4444444444444444,
              "#bd3786"
             ],
             [
              0.5555555555555556,
              "#d8576b"
             ],
             [
              0.6666666666666666,
              "#ed7953"
             ],
             [
              0.7777777777777778,
              "#fb9f3a"
             ],
             [
              0.8888888888888888,
              "#fdca26"
             ],
             [
              1,
              "#f0f921"
             ]
            ],
            "type": "histogram2d"
           }
          ],
          "histogram2dcontour": [
           {
            "colorbar": {
             "outlinewidth": 0,
             "ticks": ""
            },
            "colorscale": [
             [
              0,
              "#0d0887"
             ],
             [
              0.1111111111111111,
              "#46039f"
             ],
             [
              0.2222222222222222,
              "#7201a8"
             ],
             [
              0.3333333333333333,
              "#9c179e"
             ],
             [
              0.4444444444444444,
              "#bd3786"
             ],
             [
              0.5555555555555556,
              "#d8576b"
             ],
             [
              0.6666666666666666,
              "#ed7953"
             ],
             [
              0.7777777777777778,
              "#fb9f3a"
             ],
             [
              0.8888888888888888,
              "#fdca26"
             ],
             [
              1,
              "#f0f921"
             ]
            ],
            "type": "histogram2dcontour"
           }
          ],
          "mesh3d": [
           {
            "colorbar": {
             "outlinewidth": 0,
             "ticks": ""
            },
            "type": "mesh3d"
           }
          ],
          "parcoords": [
           {
            "line": {
             "colorbar": {
              "outlinewidth": 0,
              "ticks": ""
             }
            },
            "type": "parcoords"
           }
          ],
          "pie": [
           {
            "automargin": true,
            "type": "pie"
           }
          ],
          "scatter": [
           {
            "fillpattern": {
             "fillmode": "overlay",
             "size": 10,
             "solidity": 0.2
            },
            "type": "scatter"
           }
          ],
          "scatter3d": [
           {
            "line": {
             "colorbar": {
              "outlinewidth": 0,
              "ticks": ""
             }
            },
            "marker": {
             "colorbar": {
              "outlinewidth": 0,
              "ticks": ""
             }
            },
            "type": "scatter3d"
           }
          ],
          "scattercarpet": [
           {
            "marker": {
             "colorbar": {
              "outlinewidth": 0,
              "ticks": ""
             }
            },
            "type": "scattercarpet"
           }
          ],
          "scattergeo": [
           {
            "marker": {
             "colorbar": {
              "outlinewidth": 0,
              "ticks": ""
             }
            },
            "type": "scattergeo"
           }
          ],
          "scattergl": [
           {
            "marker": {
             "colorbar": {
              "outlinewidth": 0,
              "ticks": ""
             }
            },
            "type": "scattergl"
           }
          ],
          "scattermap": [
           {
            "marker": {
             "colorbar": {
              "outlinewidth": 0,
              "ticks": ""
             }
            },
            "type": "scattermap"
           }
          ],
          "scattermapbox": [
           {
            "marker": {
             "colorbar": {
              "outlinewidth": 0,
              "ticks": ""
             }
            },
            "type": "scattermapbox"
           }
          ],
          "scatterpolar": [
           {
            "marker": {
             "colorbar": {
              "outlinewidth": 0,
              "ticks": ""
             }
            },
            "type": "scatterpolar"
           }
          ],
          "scatterpolargl": [
           {
            "marker": {
             "colorbar": {
              "outlinewidth": 0,
              "ticks": ""
             }
            },
            "type": "scatterpolargl"
           }
          ],
          "scatterternary": [
           {
            "marker": {
             "colorbar": {
              "outlinewidth": 0,
              "ticks": ""
             }
            },
            "type": "scatterternary"
           }
          ],
          "surface": [
           {
            "colorbar": {
             "outlinewidth": 0,
             "ticks": ""
            },
            "colorscale": [
             [
              0,
              "#0d0887"
             ],
             [
              0.1111111111111111,
              "#46039f"
             ],
             [
              0.2222222222222222,
              "#7201a8"
             ],
             [
              0.3333333333333333,
              "#9c179e"
             ],
             [
              0.4444444444444444,
              "#bd3786"
             ],
             [
              0.5555555555555556,
              "#d8576b"
             ],
             [
              0.6666666666666666,
              "#ed7953"
             ],
             [
              0.7777777777777778,
              "#fb9f3a"
             ],
             [
              0.8888888888888888,
              "#fdca26"
             ],
             [
              1,
              "#f0f921"
             ]
            ],
            "type": "surface"
           }
          ],
          "table": [
           {
            "cells": {
             "fill": {
              "color": "#EBF0F8"
             },
             "line": {
              "color": "white"
             }
            },
            "header": {
             "fill": {
              "color": "#C8D4E3"
             },
             "line": {
              "color": "white"
             }
            },
            "type": "table"
           }
          ]
         },
         "layout": {
          "annotationdefaults": {
           "arrowcolor": "#2a3f5f",
           "arrowhead": 0,
           "arrowwidth": 1
          },
          "autotypenumbers": "strict",
          "coloraxis": {
           "colorbar": {
            "outlinewidth": 0,
            "ticks": ""
           }
          },
          "colorscale": {
           "diverging": [
            [
             0,
             "#8e0152"
            ],
            [
             0.1,
             "#c51b7d"
            ],
            [
             0.2,
             "#de77ae"
            ],
            [
             0.3,
             "#f1b6da"
            ],
            [
             0.4,
             "#fde0ef"
            ],
            [
             0.5,
             "#f7f7f7"
            ],
            [
             0.6,
             "#e6f5d0"
            ],
            [
             0.7,
             "#b8e186"
            ],
            [
             0.8,
             "#7fbc41"
            ],
            [
             0.9,
             "#4d9221"
            ],
            [
             1,
             "#276419"
            ]
           ],
           "sequential": [
            [
             0,
             "#0d0887"
            ],
            [
             0.1111111111111111,
             "#46039f"
            ],
            [
             0.2222222222222222,
             "#7201a8"
            ],
            [
             0.3333333333333333,
             "#9c179e"
            ],
            [
             0.4444444444444444,
             "#bd3786"
            ],
            [
             0.5555555555555556,
             "#d8576b"
            ],
            [
             0.6666666666666666,
             "#ed7953"
            ],
            [
             0.7777777777777778,
             "#fb9f3a"
            ],
            [
             0.8888888888888888,
             "#fdca26"
            ],
            [
             1,
             "#f0f921"
            ]
           ],
           "sequentialminus": [
            [
             0,
             "#0d0887"
            ],
            [
             0.1111111111111111,
             "#46039f"
            ],
            [
             0.2222222222222222,
             "#7201a8"
            ],
            [
             0.3333333333333333,
             "#9c179e"
            ],
            [
             0.4444444444444444,
             "#bd3786"
            ],
            [
             0.5555555555555556,
             "#d8576b"
            ],
            [
             0.6666666666666666,
             "#ed7953"
            ],
            [
             0.7777777777777778,
             "#fb9f3a"
            ],
            [
             0.8888888888888888,
             "#fdca26"
            ],
            [
             1,
             "#f0f921"
            ]
           ]
          },
          "colorway": [
           "#636efa",
           "#EF553B",
           "#00cc96",
           "#ab63fa",
           "#FFA15A",
           "#19d3f3",
           "#FF6692",
           "#B6E880",
           "#FF97FF",
           "#FECB52"
          ],
          "font": {
           "color": "#2a3f5f"
          },
          "geo": {
           "bgcolor": "white",
           "lakecolor": "white",
           "landcolor": "#E5ECF6",
           "showlakes": true,
           "showland": true,
           "subunitcolor": "white"
          },
          "hoverlabel": {
           "align": "left"
          },
          "hovermode": "closest",
          "mapbox": {
           "style": "light"
          },
          "paper_bgcolor": "white",
          "plot_bgcolor": "#E5ECF6",
          "polar": {
           "angularaxis": {
            "gridcolor": "white",
            "linecolor": "white",
            "ticks": ""
           },
           "bgcolor": "#E5ECF6",
           "radialaxis": {
            "gridcolor": "white",
            "linecolor": "white",
            "ticks": ""
           }
          },
          "scene": {
           "xaxis": {
            "backgroundcolor": "#E5ECF6",
            "gridcolor": "white",
            "gridwidth": 2,
            "linecolor": "white",
            "showbackground": true,
            "ticks": "",
            "zerolinecolor": "white"
           },
           "yaxis": {
            "backgroundcolor": "#E5ECF6",
            "gridcolor": "white",
            "gridwidth": 2,
            "linecolor": "white",
            "showbackground": true,
            "ticks": "",
            "zerolinecolor": "white"
           },
           "zaxis": {
            "backgroundcolor": "#E5ECF6",
            "gridcolor": "white",
            "gridwidth": 2,
            "linecolor": "white",
            "showbackground": true,
            "ticks": "",
            "zerolinecolor": "white"
           }
          },
          "shapedefaults": {
           "line": {
            "color": "#2a3f5f"
           }
          },
          "ternary": {
           "aaxis": {
            "gridcolor": "white",
            "linecolor": "white",
            "ticks": ""
           },
           "baxis": {
            "gridcolor": "white",
            "linecolor": "white",
            "ticks": ""
           },
           "bgcolor": "#E5ECF6",
           "caxis": {
            "gridcolor": "white",
            "linecolor": "white",
            "ticks": ""
           }
          },
          "title": {
           "x": 0.05
          },
          "xaxis": {
           "automargin": true,
           "gridcolor": "white",
           "linecolor": "white",
           "ticks": "",
           "title": {
            "standoff": 15
           },
           "zerolinecolor": "white",
           "zerolinewidth": 2
          },
          "yaxis": {
           "automargin": true,
           "gridcolor": "white",
           "linecolor": "white",
           "ticks": "",
           "title": {
            "standoff": 15
           },
           "zerolinecolor": "white",
           "zerolinewidth": 2
          }
         }
        }
       }
      }
     },
     "metadata": {},
     "output_type": "display_data"
    }
   ],
   "source": [
    "# plot the location of region_lat_lon on the map on plotly and show the total_cup_points\n",
    "# coffee_belt_lat = [25, -30]\n",
    "# fig = go.Figure()\n",
    "\n",
    "# fig.add_trace(go.Scattergeo(\n",
    "#     lat=df['region_lat'],\n",
    "#     lon=df['region_lon'],\n",
    "#     text=df['region'],\n",
    "#     marker=dict(\n",
    "#         size=df['total_cup_points']/10,\n",
    "#         color=df['total_cup_points'],\n",
    "#         colorscale='Viridis',\n",
    "#         colorbar=dict(title='Total Cup Points'),\n",
    "#         line=dict(width=0.5, color='rgba(40,40,40,0.5)')\n",
    "#     ),\n",
    "#     mode='markers',\n",
    "#     hoverinfo='text'\n",
    "# ))\n",
    "\n",
    "# fig.update_layout(\n",
    "#     title='Coffee Quality by Region',\n",
    "#     geo=dict(\n",
    "#         projection_type='natural earth'\n",
    "#     )\n",
    "# )\n",
    "fig = px.scatter_geo(df, \n",
    "                     lat='region_lat', \n",
    "                     lon='region_lon', \n",
    "                     color='total_cup_points', \n",
    "                     hover_name='region', \n",
    "                     size='total_cup_points',\n",
    "                     projection='natural earth')\n",
    "fig.update_geos(showcountries=True, countrycolor=\"Black\", showland=True, showocean=True, oceancolor=\"LightBlue\")\n",
    "fig.show()"
   ]
  },
  {
   "cell_type": "code",
   "execution_count": 68,
   "metadata": {},
   "outputs": [],
   "source": [
    "# average total_cup_points by region that in coffee_belt and not in coffee_belt\n",
    "coffee_belt_lat = [25, -30]\n",
    "df_tmp = df.copy()\n",
    "df_tmp['coffee_belt'] = df_tmp.apply(lambda x: 1 if (x['region_lat'] > coffee_belt_lat[1]) and (x['region_lat'] < coffee_belt_lat[0]) else 0, axis=1)"
   ]
  },
  {
   "cell_type": "code",
   "execution_count": 69,
   "metadata": {},
   "outputs": [
    {
     "data": {
      "application/vnd.plotly.v1+json": {
       "config": {
        "plotlyServerURL": "https://plot.ly"
       },
       "data": [
        {
         "type": "bar",
         "x": {
          "bdata": "AQA=",
          "dtype": "i1"
         },
         "y": {
          "bdata": "dN5iSOftVEDC9Shcj8pUQA==",
          "dtype": "f8"
         }
        }
       ],
       "layout": {
        "template": {
         "data": {
          "bar": [
           {
            "error_x": {
             "color": "#2a3f5f"
            },
            "error_y": {
             "color": "#2a3f5f"
            },
            "marker": {
             "line": {
              "color": "#E5ECF6",
              "width": 0.5
             },
             "pattern": {
              "fillmode": "overlay",
              "size": 10,
              "solidity": 0.2
             }
            },
            "type": "bar"
           }
          ],
          "barpolar": [
           {
            "marker": {
             "line": {
              "color": "#E5ECF6",
              "width": 0.5
             },
             "pattern": {
              "fillmode": "overlay",
              "size": 10,
              "solidity": 0.2
             }
            },
            "type": "barpolar"
           }
          ],
          "carpet": [
           {
            "aaxis": {
             "endlinecolor": "#2a3f5f",
             "gridcolor": "white",
             "linecolor": "white",
             "minorgridcolor": "white",
             "startlinecolor": "#2a3f5f"
            },
            "baxis": {
             "endlinecolor": "#2a3f5f",
             "gridcolor": "white",
             "linecolor": "white",
             "minorgridcolor": "white",
             "startlinecolor": "#2a3f5f"
            },
            "type": "carpet"
           }
          ],
          "choropleth": [
           {
            "colorbar": {
             "outlinewidth": 0,
             "ticks": ""
            },
            "type": "choropleth"
           }
          ],
          "contour": [
           {
            "colorbar": {
             "outlinewidth": 0,
             "ticks": ""
            },
            "colorscale": [
             [
              0,
              "#0d0887"
             ],
             [
              0.1111111111111111,
              "#46039f"
             ],
             [
              0.2222222222222222,
              "#7201a8"
             ],
             [
              0.3333333333333333,
              "#9c179e"
             ],
             [
              0.4444444444444444,
              "#bd3786"
             ],
             [
              0.5555555555555556,
              "#d8576b"
             ],
             [
              0.6666666666666666,
              "#ed7953"
             ],
             [
              0.7777777777777778,
              "#fb9f3a"
             ],
             [
              0.8888888888888888,
              "#fdca26"
             ],
             [
              1,
              "#f0f921"
             ]
            ],
            "type": "contour"
           }
          ],
          "contourcarpet": [
           {
            "colorbar": {
             "outlinewidth": 0,
             "ticks": ""
            },
            "type": "contourcarpet"
           }
          ],
          "heatmap": [
           {
            "colorbar": {
             "outlinewidth": 0,
             "ticks": ""
            },
            "colorscale": [
             [
              0,
              "#0d0887"
             ],
             [
              0.1111111111111111,
              "#46039f"
             ],
             [
              0.2222222222222222,
              "#7201a8"
             ],
             [
              0.3333333333333333,
              "#9c179e"
             ],
             [
              0.4444444444444444,
              "#bd3786"
             ],
             [
              0.5555555555555556,
              "#d8576b"
             ],
             [
              0.6666666666666666,
              "#ed7953"
             ],
             [
              0.7777777777777778,
              "#fb9f3a"
             ],
             [
              0.8888888888888888,
              "#fdca26"
             ],
             [
              1,
              "#f0f921"
             ]
            ],
            "type": "heatmap"
           }
          ],
          "histogram": [
           {
            "marker": {
             "pattern": {
              "fillmode": "overlay",
              "size": 10,
              "solidity": 0.2
             }
            },
            "type": "histogram"
           }
          ],
          "histogram2d": [
           {
            "colorbar": {
             "outlinewidth": 0,
             "ticks": ""
            },
            "colorscale": [
             [
              0,
              "#0d0887"
             ],
             [
              0.1111111111111111,
              "#46039f"
             ],
             [
              0.2222222222222222,
              "#7201a8"
             ],
             [
              0.3333333333333333,
              "#9c179e"
             ],
             [
              0.4444444444444444,
              "#bd3786"
             ],
             [
              0.5555555555555556,
              "#d8576b"
             ],
             [
              0.6666666666666666,
              "#ed7953"
             ],
             [
              0.7777777777777778,
              "#fb9f3a"
             ],
             [
              0.8888888888888888,
              "#fdca26"
             ],
             [
              1,
              "#f0f921"
             ]
            ],
            "type": "histogram2d"
           }
          ],
          "histogram2dcontour": [
           {
            "colorbar": {
             "outlinewidth": 0,
             "ticks": ""
            },
            "colorscale": [
             [
              0,
              "#0d0887"
             ],
             [
              0.1111111111111111,
              "#46039f"
             ],
             [
              0.2222222222222222,
              "#7201a8"
             ],
             [
              0.3333333333333333,
              "#9c179e"
             ],
             [
              0.4444444444444444,
              "#bd3786"
             ],
             [
              0.5555555555555556,
              "#d8576b"
             ],
             [
              0.6666666666666666,
              "#ed7953"
             ],
             [
              0.7777777777777778,
              "#fb9f3a"
             ],
             [
              0.8888888888888888,
              "#fdca26"
             ],
             [
              1,
              "#f0f921"
             ]
            ],
            "type": "histogram2dcontour"
           }
          ],
          "mesh3d": [
           {
            "colorbar": {
             "outlinewidth": 0,
             "ticks": ""
            },
            "type": "mesh3d"
           }
          ],
          "parcoords": [
           {
            "line": {
             "colorbar": {
              "outlinewidth": 0,
              "ticks": ""
             }
            },
            "type": "parcoords"
           }
          ],
          "pie": [
           {
            "automargin": true,
            "type": "pie"
           }
          ],
          "scatter": [
           {
            "fillpattern": {
             "fillmode": "overlay",
             "size": 10,
             "solidity": 0.2
            },
            "type": "scatter"
           }
          ],
          "scatter3d": [
           {
            "line": {
             "colorbar": {
              "outlinewidth": 0,
              "ticks": ""
             }
            },
            "marker": {
             "colorbar": {
              "outlinewidth": 0,
              "ticks": ""
             }
            },
            "type": "scatter3d"
           }
          ],
          "scattercarpet": [
           {
            "marker": {
             "colorbar": {
              "outlinewidth": 0,
              "ticks": ""
             }
            },
            "type": "scattercarpet"
           }
          ],
          "scattergeo": [
           {
            "marker": {
             "colorbar": {
              "outlinewidth": 0,
              "ticks": ""
             }
            },
            "type": "scattergeo"
           }
          ],
          "scattergl": [
           {
            "marker": {
             "colorbar": {
              "outlinewidth": 0,
              "ticks": ""
             }
            },
            "type": "scattergl"
           }
          ],
          "scattermap": [
           {
            "marker": {
             "colorbar": {
              "outlinewidth": 0,
              "ticks": ""
             }
            },
            "type": "scattermap"
           }
          ],
          "scattermapbox": [
           {
            "marker": {
             "colorbar": {
              "outlinewidth": 0,
              "ticks": ""
             }
            },
            "type": "scattermapbox"
           }
          ],
          "scatterpolar": [
           {
            "marker": {
             "colorbar": {
              "outlinewidth": 0,
              "ticks": ""
             }
            },
            "type": "scatterpolar"
           }
          ],
          "scatterpolargl": [
           {
            "marker": {
             "colorbar": {
              "outlinewidth": 0,
              "ticks": ""
             }
            },
            "type": "scatterpolargl"
           }
          ],
          "scatterternary": [
           {
            "marker": {
             "colorbar": {
              "outlinewidth": 0,
              "ticks": ""
             }
            },
            "type": "scatterternary"
           }
          ],
          "surface": [
           {
            "colorbar": {
             "outlinewidth": 0,
             "ticks": ""
            },
            "colorscale": [
             [
              0,
              "#0d0887"
             ],
             [
              0.1111111111111111,
              "#46039f"
             ],
             [
              0.2222222222222222,
              "#7201a8"
             ],
             [
              0.3333333333333333,
              "#9c179e"
             ],
             [
              0.4444444444444444,
              "#bd3786"
             ],
             [
              0.5555555555555556,
              "#d8576b"
             ],
             [
              0.6666666666666666,
              "#ed7953"
             ],
             [
              0.7777777777777778,
              "#fb9f3a"
             ],
             [
              0.8888888888888888,
              "#fdca26"
             ],
             [
              1,
              "#f0f921"
             ]
            ],
            "type": "surface"
           }
          ],
          "table": [
           {
            "cells": {
             "fill": {
              "color": "#EBF0F8"
             },
             "line": {
              "color": "white"
             }
            },
            "header": {
             "fill": {
              "color": "#C8D4E3"
             },
             "line": {
              "color": "white"
             }
            },
            "type": "table"
           }
          ]
         },
         "layout": {
          "annotationdefaults": {
           "arrowcolor": "#2a3f5f",
           "arrowhead": 0,
           "arrowwidth": 1
          },
          "autotypenumbers": "strict",
          "coloraxis": {
           "colorbar": {
            "outlinewidth": 0,
            "ticks": ""
           }
          },
          "colorscale": {
           "diverging": [
            [
             0,
             "#8e0152"
            ],
            [
             0.1,
             "#c51b7d"
            ],
            [
             0.2,
             "#de77ae"
            ],
            [
             0.3,
             "#f1b6da"
            ],
            [
             0.4,
             "#fde0ef"
            ],
            [
             0.5,
             "#f7f7f7"
            ],
            [
             0.6,
             "#e6f5d0"
            ],
            [
             0.7,
             "#b8e186"
            ],
            [
             0.8,
             "#7fbc41"
            ],
            [
             0.9,
             "#4d9221"
            ],
            [
             1,
             "#276419"
            ]
           ],
           "sequential": [
            [
             0,
             "#0d0887"
            ],
            [
             0.1111111111111111,
             "#46039f"
            ],
            [
             0.2222222222222222,
             "#7201a8"
            ],
            [
             0.3333333333333333,
             "#9c179e"
            ],
            [
             0.4444444444444444,
             "#bd3786"
            ],
            [
             0.5555555555555556,
             "#d8576b"
            ],
            [
             0.6666666666666666,
             "#ed7953"
            ],
            [
             0.7777777777777778,
             "#fb9f3a"
            ],
            [
             0.8888888888888888,
             "#fdca26"
            ],
            [
             1,
             "#f0f921"
            ]
           ],
           "sequentialminus": [
            [
             0,
             "#0d0887"
            ],
            [
             0.1111111111111111,
             "#46039f"
            ],
            [
             0.2222222222222222,
             "#7201a8"
            ],
            [
             0.3333333333333333,
             "#9c179e"
            ],
            [
             0.4444444444444444,
             "#bd3786"
            ],
            [
             0.5555555555555556,
             "#d8576b"
            ],
            [
             0.6666666666666666,
             "#ed7953"
            ],
            [
             0.7777777777777778,
             "#fb9f3a"
            ],
            [
             0.8888888888888888,
             "#fdca26"
            ],
            [
             1,
             "#f0f921"
            ]
           ]
          },
          "colorway": [
           "#636efa",
           "#EF553B",
           "#00cc96",
           "#ab63fa",
           "#FFA15A",
           "#19d3f3",
           "#FF6692",
           "#B6E880",
           "#FF97FF",
           "#FECB52"
          ],
          "font": {
           "color": "#2a3f5f"
          },
          "geo": {
           "bgcolor": "white",
           "lakecolor": "white",
           "landcolor": "#E5ECF6",
           "showlakes": true,
           "showland": true,
           "subunitcolor": "white"
          },
          "hoverlabel": {
           "align": "left"
          },
          "hovermode": "closest",
          "mapbox": {
           "style": "light"
          },
          "paper_bgcolor": "white",
          "plot_bgcolor": "#E5ECF6",
          "polar": {
           "angularaxis": {
            "gridcolor": "white",
            "linecolor": "white",
            "ticks": ""
           },
           "bgcolor": "#E5ECF6",
           "radialaxis": {
            "gridcolor": "white",
            "linecolor": "white",
            "ticks": ""
           }
          },
          "scene": {
           "xaxis": {
            "backgroundcolor": "#E5ECF6",
            "gridcolor": "white",
            "gridwidth": 2,
            "linecolor": "white",
            "showbackground": true,
            "ticks": "",
            "zerolinecolor": "white"
           },
           "yaxis": {
            "backgroundcolor": "#E5ECF6",
            "gridcolor": "white",
            "gridwidth": 2,
            "linecolor": "white",
            "showbackground": true,
            "ticks": "",
            "zerolinecolor": "white"
           },
           "zaxis": {
            "backgroundcolor": "#E5ECF6",
            "gridcolor": "white",
            "gridwidth": 2,
            "linecolor": "white",
            "showbackground": true,
            "ticks": "",
            "zerolinecolor": "white"
           }
          },
          "shapedefaults": {
           "line": {
            "color": "#2a3f5f"
           }
          },
          "ternary": {
           "aaxis": {
            "gridcolor": "white",
            "linecolor": "white",
            "ticks": ""
           },
           "baxis": {
            "gridcolor": "white",
            "linecolor": "white",
            "ticks": ""
           },
           "bgcolor": "#E5ECF6",
           "caxis": {
            "gridcolor": "white",
            "linecolor": "white",
            "ticks": ""
           }
          },
          "title": {
           "x": 0.05
          },
          "xaxis": {
           "automargin": true,
           "gridcolor": "white",
           "linecolor": "white",
           "ticks": "",
           "title": {
            "standoff": 15
           },
           "zerolinecolor": "white",
           "zerolinewidth": 2
          },
          "yaxis": {
           "automargin": true,
           "gridcolor": "white",
           "linecolor": "white",
           "ticks": "",
           "title": {
            "standoff": 15
           },
           "zerolinecolor": "white",
           "zerolinewidth": 2
          }
         }
        },
        "title": {
         "text": "Coffee Belt Distribution"
        },
        "xaxis": {
         "title": {
          "text": "Coffee Belt"
         }
        },
        "yaxis": {
         "title": {
          "text": "Total Cup Points"
         }
        }
       }
      }
     },
     "metadata": {},
     "output_type": "display_data"
    }
   ],
   "source": [
    "# average total_cup_points by coffee_belt\n",
    "df_tmp = df_tmp.groupby('coffee_belt')['total_cup_points'].mean().sort_values(ascending=False)\n",
    "# plot bar chart for country_of_origin\n",
    "fig = go.Figure()\n",
    "# bar plot\n",
    "fig.add_trace(go.Bar(x=df_tmp.index, y=df_tmp.values,))\n",
    "fig.update_layout(title='Coffee Belt Distribution', xaxis_title='Coffee Belt', yaxis_title='Total Cup Points')\n",
    "fig.show()"
   ]
  },
  {
   "cell_type": "markdown",
   "metadata": {},
   "source": [
    "#### 4.In-Country-Partner-Encoding"
   ]
  },
  {
   "cell_type": "code",
   "execution_count": 70,
   "metadata": {},
   "outputs": [
    {
     "name": "stdout",
     "output_type": "stream",
     "text": [
      "in_country_partner\n",
      "Taiwan Coffee Laboratory 台灣咖啡研究室                                     0.400966\n",
      "Japan Coffee Exchange                                                0.130435\n",
      "Asociacion Nacional Del Café                                         0.067633\n",
      "Instituto Hondureño del Café                                         0.048309\n",
      "FABB Academy of Coffee                                               0.043478\n",
      "Kenya Coffee Traders Association                                     0.038647\n",
      "Specialty Coffee Association of Costa Rica                           0.033816\n",
      "Blossom Valley International宸嶧國際                                     0.028986\n",
      "METAD Agricultural Development plc                                   0.028986\n",
      "Salvadoran Coffee Council                                            0.028986\n",
      "Centro Agroecológico del Café A.C.                                   0.024155\n",
      "Brazil Specialty Coffee Association                                  0.019324\n",
      "NKG Quality Service (a division of Bernhard Rothfos Intercafé AG)    0.019324\n",
      "Specialty Coffee Association                                         0.019324\n",
      "ASOCIACIÓN COLOMBIANA PARA LA EXCELENCIA DEL CAFE                    0.019324\n",
      "Uganda Coffee Development Authority                                  0.014493\n",
      "Asociación de Cafés Especiales de Nicaragua                          0.014493\n",
      "Barista and Coffee Academy of Asia                                   0.004831\n",
      "Specialty Coffee Association of Indonesia                            0.004831\n",
      "Specialty Coffee Institute of Thailand                               0.004831\n",
      "Firedancer Coffee Consultants                                        0.004831\n",
      "Name: proportion, dtype: float64\n"
     ]
    },
    {
     "data": {
      "text/plain": [
       "in_country_partner\n",
       "Taiwan Coffee Laboratory 台灣咖啡研究室                                     0.400966\n",
       "Japan Coffee Exchange                                                0.130435\n",
       "Asociacion Nacional Del Café                                         0.067633\n",
       "Instituto Hondureño del Café                                         0.048309\n",
       "FABB Academy of Coffee                                               0.043478\n",
       "Kenya Coffee Traders Association                                     0.038647\n",
       "Specialty Coffee Association of Costa Rica                           0.033816\n",
       "Salvadoran Coffee Council                                            0.028986\n",
       "Blossom Valley International宸嶧國際                                     0.028986\n",
       "METAD Agricultural Development plc                                   0.028986\n",
       "Centro Agroecológico del Café A.C.                                   0.024155\n",
       "Brazil Specialty Coffee Association                                  0.019324\n",
       "Specialty Coffee Association                                         0.019324\n",
       "ASOCIACIÓN COLOMBIANA PARA LA EXCELENCIA DEL CAFE                    0.019324\n",
       "Other                                                                0.019324\n",
       "NKG Quality Service (a division of Bernhard Rothfos Intercafé AG)    0.019324\n",
       "Uganda Coffee Development Authority                                  0.014493\n",
       "Asociación de Cafés Especiales de Nicaragua                          0.014493\n",
       "Name: proportion, dtype: float64"
      ]
     },
     "execution_count": 70,
     "metadata": {},
     "output_type": "execute_result"
    }
   ],
   "source": [
    "print(df['in_country_partner'].value_counts(normalize=True))\n",
    "\n",
    "a = group_classes(df.copy(), 'in_country_partner', threshold=0.01)\n",
    "a['in_country_partner'].value_counts(normalize=True)"
   ]
  },
  {
   "cell_type": "code",
   "execution_count": 71,
   "metadata": {},
   "outputs": [
    {
     "data": {
      "application/vnd.plotly.v1+json": {
       "config": {
        "plotlyServerURL": "https://plot.ly"
       },
       "data": [
        {
         "type": "bar",
         "x": [
          "METAD Agricultural Development plc",
          "Blossom Valley International宸嶧國際",
          "Kenya Coffee Traders Association",
          "Asociacion Nacional Del Café",
          "Taiwan Coffee Laboratory 台灣咖啡研究室",
          "Uganda Coffee Development Authority",
          "NKG Quality Service (a division of Bernhard Rothfos Intercafé AG)",
          "Barista and Coffee Academy of Asia",
          "ASOCIACIÓN COLOMBIANA PARA LA EXCELENCIA DEL CAFE",
          "Japan Coffee Exchange",
          "Specialty Coffee Association of Costa Rica",
          "Instituto Hondureño del Café",
          "Specialty Coffee Association",
          "Specialty Coffee Association of Indonesia",
          "FABB Academy of Coffee",
          "Brazil Specialty Coffee Association",
          "Specialty Coffee Institute of Thailand",
          "Centro Agroecológico del Café A.C.",
          "Firedancer Coffee Consultants",
          "Salvadoran Coffee Council",
          "Asociación de Cafés Especiales de Nicaragua"
         ],
         "y": {
          "bdata": "16NwPQo/VUA9CtejcC1VQFK4HoXrK1VAymp5YwQTVUCBcbgL8wpVQKuqqqqq+lRA4XoUrkfxVEB7FK5H4epUQML1KFyP6lRAhBdWP9PRVEAAAAAAANBUQDMzMzMzy1RAhetRuB7FVECF61G4HsVUQLgehetRuFRA4XoUrke1VEB7FK5H4apUQDIIrBxahFRAhetRuB51VEBERERERERUQNQGOm2gQ1RA",
          "dtype": "f8"
         }
        }
       ],
       "layout": {
        "template": {
         "data": {
          "bar": [
           {
            "error_x": {
             "color": "#2a3f5f"
            },
            "error_y": {
             "color": "#2a3f5f"
            },
            "marker": {
             "line": {
              "color": "#E5ECF6",
              "width": 0.5
             },
             "pattern": {
              "fillmode": "overlay",
              "size": 10,
              "solidity": 0.2
             }
            },
            "type": "bar"
           }
          ],
          "barpolar": [
           {
            "marker": {
             "line": {
              "color": "#E5ECF6",
              "width": 0.5
             },
             "pattern": {
              "fillmode": "overlay",
              "size": 10,
              "solidity": 0.2
             }
            },
            "type": "barpolar"
           }
          ],
          "carpet": [
           {
            "aaxis": {
             "endlinecolor": "#2a3f5f",
             "gridcolor": "white",
             "linecolor": "white",
             "minorgridcolor": "white",
             "startlinecolor": "#2a3f5f"
            },
            "baxis": {
             "endlinecolor": "#2a3f5f",
             "gridcolor": "white",
             "linecolor": "white",
             "minorgridcolor": "white",
             "startlinecolor": "#2a3f5f"
            },
            "type": "carpet"
           }
          ],
          "choropleth": [
           {
            "colorbar": {
             "outlinewidth": 0,
             "ticks": ""
            },
            "type": "choropleth"
           }
          ],
          "contour": [
           {
            "colorbar": {
             "outlinewidth": 0,
             "ticks": ""
            },
            "colorscale": [
             [
              0,
              "#0d0887"
             ],
             [
              0.1111111111111111,
              "#46039f"
             ],
             [
              0.2222222222222222,
              "#7201a8"
             ],
             [
              0.3333333333333333,
              "#9c179e"
             ],
             [
              0.4444444444444444,
              "#bd3786"
             ],
             [
              0.5555555555555556,
              "#d8576b"
             ],
             [
              0.6666666666666666,
              "#ed7953"
             ],
             [
              0.7777777777777778,
              "#fb9f3a"
             ],
             [
              0.8888888888888888,
              "#fdca26"
             ],
             [
              1,
              "#f0f921"
             ]
            ],
            "type": "contour"
           }
          ],
          "contourcarpet": [
           {
            "colorbar": {
             "outlinewidth": 0,
             "ticks": ""
            },
            "type": "contourcarpet"
           }
          ],
          "heatmap": [
           {
            "colorbar": {
             "outlinewidth": 0,
             "ticks": ""
            },
            "colorscale": [
             [
              0,
              "#0d0887"
             ],
             [
              0.1111111111111111,
              "#46039f"
             ],
             [
              0.2222222222222222,
              "#7201a8"
             ],
             [
              0.3333333333333333,
              "#9c179e"
             ],
             [
              0.4444444444444444,
              "#bd3786"
             ],
             [
              0.5555555555555556,
              "#d8576b"
             ],
             [
              0.6666666666666666,
              "#ed7953"
             ],
             [
              0.7777777777777778,
              "#fb9f3a"
             ],
             [
              0.8888888888888888,
              "#fdca26"
             ],
             [
              1,
              "#f0f921"
             ]
            ],
            "type": "heatmap"
           }
          ],
          "histogram": [
           {
            "marker": {
             "pattern": {
              "fillmode": "overlay",
              "size": 10,
              "solidity": 0.2
             }
            },
            "type": "histogram"
           }
          ],
          "histogram2d": [
           {
            "colorbar": {
             "outlinewidth": 0,
             "ticks": ""
            },
            "colorscale": [
             [
              0,
              "#0d0887"
             ],
             [
              0.1111111111111111,
              "#46039f"
             ],
             [
              0.2222222222222222,
              "#7201a8"
             ],
             [
              0.3333333333333333,
              "#9c179e"
             ],
             [
              0.4444444444444444,
              "#bd3786"
             ],
             [
              0.5555555555555556,
              "#d8576b"
             ],
             [
              0.6666666666666666,
              "#ed7953"
             ],
             [
              0.7777777777777778,
              "#fb9f3a"
             ],
             [
              0.8888888888888888,
              "#fdca26"
             ],
             [
              1,
              "#f0f921"
             ]
            ],
            "type": "histogram2d"
           }
          ],
          "histogram2dcontour": [
           {
            "colorbar": {
             "outlinewidth": 0,
             "ticks": ""
            },
            "colorscale": [
             [
              0,
              "#0d0887"
             ],
             [
              0.1111111111111111,
              "#46039f"
             ],
             [
              0.2222222222222222,
              "#7201a8"
             ],
             [
              0.3333333333333333,
              "#9c179e"
             ],
             [
              0.4444444444444444,
              "#bd3786"
             ],
             [
              0.5555555555555556,
              "#d8576b"
             ],
             [
              0.6666666666666666,
              "#ed7953"
             ],
             [
              0.7777777777777778,
              "#fb9f3a"
             ],
             [
              0.8888888888888888,
              "#fdca26"
             ],
             [
              1,
              "#f0f921"
             ]
            ],
            "type": "histogram2dcontour"
           }
          ],
          "mesh3d": [
           {
            "colorbar": {
             "outlinewidth": 0,
             "ticks": ""
            },
            "type": "mesh3d"
           }
          ],
          "parcoords": [
           {
            "line": {
             "colorbar": {
              "outlinewidth": 0,
              "ticks": ""
             }
            },
            "type": "parcoords"
           }
          ],
          "pie": [
           {
            "automargin": true,
            "type": "pie"
           }
          ],
          "scatter": [
           {
            "fillpattern": {
             "fillmode": "overlay",
             "size": 10,
             "solidity": 0.2
            },
            "type": "scatter"
           }
          ],
          "scatter3d": [
           {
            "line": {
             "colorbar": {
              "outlinewidth": 0,
              "ticks": ""
             }
            },
            "marker": {
             "colorbar": {
              "outlinewidth": 0,
              "ticks": ""
             }
            },
            "type": "scatter3d"
           }
          ],
          "scattercarpet": [
           {
            "marker": {
             "colorbar": {
              "outlinewidth": 0,
              "ticks": ""
             }
            },
            "type": "scattercarpet"
           }
          ],
          "scattergeo": [
           {
            "marker": {
             "colorbar": {
              "outlinewidth": 0,
              "ticks": ""
             }
            },
            "type": "scattergeo"
           }
          ],
          "scattergl": [
           {
            "marker": {
             "colorbar": {
              "outlinewidth": 0,
              "ticks": ""
             }
            },
            "type": "scattergl"
           }
          ],
          "scattermap": [
           {
            "marker": {
             "colorbar": {
              "outlinewidth": 0,
              "ticks": ""
             }
            },
            "type": "scattermap"
           }
          ],
          "scattermapbox": [
           {
            "marker": {
             "colorbar": {
              "outlinewidth": 0,
              "ticks": ""
             }
            },
            "type": "scattermapbox"
           }
          ],
          "scatterpolar": [
           {
            "marker": {
             "colorbar": {
              "outlinewidth": 0,
              "ticks": ""
             }
            },
            "type": "scatterpolar"
           }
          ],
          "scatterpolargl": [
           {
            "marker": {
             "colorbar": {
              "outlinewidth": 0,
              "ticks": ""
             }
            },
            "type": "scatterpolargl"
           }
          ],
          "scatterternary": [
           {
            "marker": {
             "colorbar": {
              "outlinewidth": 0,
              "ticks": ""
             }
            },
            "type": "scatterternary"
           }
          ],
          "surface": [
           {
            "colorbar": {
             "outlinewidth": 0,
             "ticks": ""
            },
            "colorscale": [
             [
              0,
              "#0d0887"
             ],
             [
              0.1111111111111111,
              "#46039f"
             ],
             [
              0.2222222222222222,
              "#7201a8"
             ],
             [
              0.3333333333333333,
              "#9c179e"
             ],
             [
              0.4444444444444444,
              "#bd3786"
             ],
             [
              0.5555555555555556,
              "#d8576b"
             ],
             [
              0.6666666666666666,
              "#ed7953"
             ],
             [
              0.7777777777777778,
              "#fb9f3a"
             ],
             [
              0.8888888888888888,
              "#fdca26"
             ],
             [
              1,
              "#f0f921"
             ]
            ],
            "type": "surface"
           }
          ],
          "table": [
           {
            "cells": {
             "fill": {
              "color": "#EBF0F8"
             },
             "line": {
              "color": "white"
             }
            },
            "header": {
             "fill": {
              "color": "#C8D4E3"
             },
             "line": {
              "color": "white"
             }
            },
            "type": "table"
           }
          ]
         },
         "layout": {
          "annotationdefaults": {
           "arrowcolor": "#2a3f5f",
           "arrowhead": 0,
           "arrowwidth": 1
          },
          "autotypenumbers": "strict",
          "coloraxis": {
           "colorbar": {
            "outlinewidth": 0,
            "ticks": ""
           }
          },
          "colorscale": {
           "diverging": [
            [
             0,
             "#8e0152"
            ],
            [
             0.1,
             "#c51b7d"
            ],
            [
             0.2,
             "#de77ae"
            ],
            [
             0.3,
             "#f1b6da"
            ],
            [
             0.4,
             "#fde0ef"
            ],
            [
             0.5,
             "#f7f7f7"
            ],
            [
             0.6,
             "#e6f5d0"
            ],
            [
             0.7,
             "#b8e186"
            ],
            [
             0.8,
             "#7fbc41"
            ],
            [
             0.9,
             "#4d9221"
            ],
            [
             1,
             "#276419"
            ]
           ],
           "sequential": [
            [
             0,
             "#0d0887"
            ],
            [
             0.1111111111111111,
             "#46039f"
            ],
            [
             0.2222222222222222,
             "#7201a8"
            ],
            [
             0.3333333333333333,
             "#9c179e"
            ],
            [
             0.4444444444444444,
             "#bd3786"
            ],
            [
             0.5555555555555556,
             "#d8576b"
            ],
            [
             0.6666666666666666,
             "#ed7953"
            ],
            [
             0.7777777777777778,
             "#fb9f3a"
            ],
            [
             0.8888888888888888,
             "#fdca26"
            ],
            [
             1,
             "#f0f921"
            ]
           ],
           "sequentialminus": [
            [
             0,
             "#0d0887"
            ],
            [
             0.1111111111111111,
             "#46039f"
            ],
            [
             0.2222222222222222,
             "#7201a8"
            ],
            [
             0.3333333333333333,
             "#9c179e"
            ],
            [
             0.4444444444444444,
             "#bd3786"
            ],
            [
             0.5555555555555556,
             "#d8576b"
            ],
            [
             0.6666666666666666,
             "#ed7953"
            ],
            [
             0.7777777777777778,
             "#fb9f3a"
            ],
            [
             0.8888888888888888,
             "#fdca26"
            ],
            [
             1,
             "#f0f921"
            ]
           ]
          },
          "colorway": [
           "#636efa",
           "#EF553B",
           "#00cc96",
           "#ab63fa",
           "#FFA15A",
           "#19d3f3",
           "#FF6692",
           "#B6E880",
           "#FF97FF",
           "#FECB52"
          ],
          "font": {
           "color": "#2a3f5f"
          },
          "geo": {
           "bgcolor": "white",
           "lakecolor": "white",
           "landcolor": "#E5ECF6",
           "showlakes": true,
           "showland": true,
           "subunitcolor": "white"
          },
          "hoverlabel": {
           "align": "left"
          },
          "hovermode": "closest",
          "mapbox": {
           "style": "light"
          },
          "paper_bgcolor": "white",
          "plot_bgcolor": "#E5ECF6",
          "polar": {
           "angularaxis": {
            "gridcolor": "white",
            "linecolor": "white",
            "ticks": ""
           },
           "bgcolor": "#E5ECF6",
           "radialaxis": {
            "gridcolor": "white",
            "linecolor": "white",
            "ticks": ""
           }
          },
          "scene": {
           "xaxis": {
            "backgroundcolor": "#E5ECF6",
            "gridcolor": "white",
            "gridwidth": 2,
            "linecolor": "white",
            "showbackground": true,
            "ticks": "",
            "zerolinecolor": "white"
           },
           "yaxis": {
            "backgroundcolor": "#E5ECF6",
            "gridcolor": "white",
            "gridwidth": 2,
            "linecolor": "white",
            "showbackground": true,
            "ticks": "",
            "zerolinecolor": "white"
           },
           "zaxis": {
            "backgroundcolor": "#E5ECF6",
            "gridcolor": "white",
            "gridwidth": 2,
            "linecolor": "white",
            "showbackground": true,
            "ticks": "",
            "zerolinecolor": "white"
           }
          },
          "shapedefaults": {
           "line": {
            "color": "#2a3f5f"
           }
          },
          "ternary": {
           "aaxis": {
            "gridcolor": "white",
            "linecolor": "white",
            "ticks": ""
           },
           "baxis": {
            "gridcolor": "white",
            "linecolor": "white",
            "ticks": ""
           },
           "bgcolor": "#E5ECF6",
           "caxis": {
            "gridcolor": "white",
            "linecolor": "white",
            "ticks": ""
           }
          },
          "title": {
           "x": 0.05
          },
          "xaxis": {
           "automargin": true,
           "gridcolor": "white",
           "linecolor": "white",
           "ticks": "",
           "title": {
            "standoff": 15
           },
           "zerolinecolor": "white",
           "zerolinewidth": 2
          },
          "yaxis": {
           "automargin": true,
           "gridcolor": "white",
           "linecolor": "white",
           "ticks": "",
           "title": {
            "standoff": 15
           },
           "zerolinecolor": "white",
           "zerolinewidth": 2
          }
         }
        },
        "title": {
         "text": "In Country Partner Distribution"
        },
        "xaxis": {
         "title": {
          "text": "In Country Partner"
         }
        },
        "yaxis": {
         "title": {
          "text": "Total Cup Points"
         }
        }
       }
      }
     },
     "metadata": {},
     "output_type": "display_data"
    }
   ],
   "source": [
    "# average total_cup_points by in_country_partner\n",
    "df_tmp = df.groupby('in_country_partner')['total_cup_points'].mean().sort_values(ascending=False)\n",
    "# plot bar chart for country_of_origin\n",
    "fig = go.Figure()\n",
    "# bar plot\n",
    "fig.add_trace(go.Bar(x=df_tmp.index, y=df_tmp.values,))\n",
    "fig.update_layout(title='In Country Partner Distribution', xaxis_title='In Country Partner', yaxis_title='Total Cup Points')\n",
    "fig.show()"
   ]
  },
  {
   "cell_type": "markdown",
   "metadata": {},
   "source": [
    "#### 5.Harvest-Year-and-Grading-Date-Encoding"
   ]
  },
  {
   "cell_type": "code",
   "execution_count": 72,
   "metadata": {},
   "outputs": [],
   "source": [
    "def calculate_harvest_grading_period(harvest_year, grading_date):\n",
    "    \"\"\"\n",
    "    This function calculates the harvest grading period\n",
    "    Args:\n",
    "        harvest_year: int\n",
    "        grading_date: str\n",
    "    Returns:\n",
    "        harvest_grading_period: int\n",
    "    \"\"\"\n",
    "    span = re.match(r\"(\\d{4}) / (\\d{4})\", harvest_year)\n",
    "    if span:\n",
    "        harvest_year = int(span.group(1))\n",
    "    harvest_date = pd.to_datetime(f\"{harvest_year}-01-01\")\n",
    "    grading_year = pd.to_datetime(grading_date)\n",
    "    period_days = (grading_year - harvest_date).days\n",
    "    period_months = period_days // 30\n",
    "    return period_months"
   ]
  },
  {
   "cell_type": "code",
   "execution_count": 73,
   "metadata": {},
   "outputs": [
    {
     "name": "stdout",
     "output_type": "stream",
     "text": [
      "harvest_grading_period\n",
      "22    38\n",
      "24    32\n",
      "15    22\n",
      "16    13\n",
      "10    12\n",
      "6     11\n",
      "13     9\n",
      "17     9\n",
      "14     7\n",
      "12     6\n",
      "Name: count, dtype: int64\n"
     ]
    }
   ],
   "source": [
    "# calculate harvest grading period\n",
    "df['harvest_grading_period'] = df.apply(lambda x: calculate_harvest_grading_period(x['harvest_year'], x['grading_date']), axis=1)\n",
    "print(df['harvest_grading_period'].value_counts()[:10])"
   ]
  },
  {
   "cell_type": "markdown",
   "metadata": {},
   "source": [
    "#### 6.Owner-Encoding"
   ]
  },
  {
   "cell_type": "code",
   "execution_count": 74,
   "metadata": {},
   "outputs": [
    {
     "name": "stdout",
     "output_type": "stream",
     "text": [
      "owner\n",
      "Taiwan Coffee Laboratory 台灣咖啡研究室     0.144928\n",
      "Taiwu                                0.120773\n",
      "Coffee Quality Union                 0.072464\n",
      "Yesica Alejandra Martìnez Vàsquez    0.038647\n",
      "Doi Tung Development Project         0.033816\n",
      "                                       ...   \n",
      "Sucafina Colombia SAS                0.004831\n",
      "Marc Dumont                          0.004831\n",
      "Kao,SIng-jay                         0.004831\n",
      "Taylor Winch (Coffee) Ltd.           0.004831\n",
      "SAJONIA ESTATE COFFEE S.A.           0.004831\n",
      "Name: proportion, Length: 80, dtype: float64\n",
      "\n",
      "After Grouping:\n",
      "owner\n",
      "Other                                                     0.352657\n",
      "Taiwan Coffee Laboratory 台灣咖啡研究室                          0.144928\n",
      "Taiwu                                                     0.120773\n",
      "Coffee Quality Union                                      0.072464\n",
      "Yesica Alejandra Martìnez Vàsquez                         0.038647\n",
      "Doi Tung Development Project                              0.033816\n",
      "Angelica Paola Citan Lopez                                0.028986\n",
      "Gilbert Maina                                             0.024155\n",
      "Comercial Internacional de Granos de Honduras SA de CV    0.024155\n",
      "Ikuto Uehara                                              0.024155\n",
      "MR.BROWN CAFE                                             0.019324\n",
      "Kiichiro Iwata                                            0.014493\n",
      "Consejo Salvadoreño del Café                              0.014493\n",
      "Charles Umeano                                            0.014493\n",
      "Eliud Hernandez Gonzales                                  0.014493\n",
      "Joselyn Morales Quesada                                   0.014493\n",
      "PeiHsun Lin                                               0.014493\n",
      "Full Sweet Coffee                                         0.014493\n",
      "Roselia Yglesias                                          0.014493\n",
      "Name: proportion, dtype: float64\n"
     ]
    }
   ],
   "source": [
    "# print(df['owner'].unique())\n",
    "print(df['owner'].value_counts(normalize=True))\n",
    "# group classes with a threshold\n",
    "df_temp = group_classes(df.copy(), 'owner', threshold=0.01)\n",
    "print(\"\\nAfter Grouping:\")\n",
    "print(df_temp['owner'].value_counts(normalize=True))"
   ]
  },
  {
   "cell_type": "markdown",
   "metadata": {},
   "source": [
    "After grouping 'owner' which has their count < 1% to 'Other' class, This class becomes majority class in this data so I will leave it for now."
   ]
  },
  {
   "cell_type": "markdown",
   "metadata": {},
   "source": [
    "#### Variety-Encoding"
   ]
  },
  {
   "cell_type": "markdown",
   "metadata": {},
   "source": [
    "Reduce the coffee variety to 12 meaningful groups based on:\n",
    "- Genetic relationships (Bourbon, Typica, Caturra families)\n",
    "- Disease resistance characteristics (Catimor Group)\n",
    "- Regional significance (Ethiopian, Indonesian varieties)\n",
    "- Specialty status (Gesha group)"
   ]
  },
  {
   "cell_type": "code",
   "execution_count": 75,
   "metadata": {},
   "outputs": [],
   "source": [
    "variety_groups = {\n",
    "    'Bourbon Family': [\n",
    "        'Bourbon', 'Yellow Bourbon', 'Red Bourbon', 'Bourbon Sidra', \n",
    "        'Red Bourbon,Caturra'  # Hybrids with Bourbon go here\n",
    "    ],\n",
    "    \n",
    "    'Caturra Family': [\n",
    "        'Caturra', 'Caturra-Catuai', 'Caturra,Colombia,Castillo',\n",
    "        'Castillo,Caturra,Bourbon'\n",
    "    ],\n",
    "    \n",
    "    'Catuai Family': [\n",
    "        'Catuai', 'Yellow Catuai', 'Catuai and Mundo Novo'\n",
    "    ],\n",
    "    \n",
    "    'Typica Family': [\n",
    "        'Typica', 'Typica + SL34', 'Typica Gesha', 'Maragogype'  # Maragogype is a Typica mutation\n",
    "    ],\n",
    "    \n",
    "    'Gesha/Specialty': [\n",
    "        'Gesha', 'Typica Gesha', 'Sl34+Gesha', 'Pacamara'\n",
    "    ],\n",
    "    \n",
    "    'SL Varieties': [\n",
    "        'SL28', 'SL34', 'SL14', 'SL28,SL34,Ruiru11'\n",
    "    ],\n",
    "    \n",
    "    'Catimor Group': [\n",
    "        'Catimor', 'Sarchimor', 'Catucai', 'Parainema', 'Lempira'  # Rust-resistant varieties\n",
    "    ],\n",
    "    \n",
    "    'Castillo Group': [\n",
    "        'Castillo', 'Castillo Paraguaycito', 'Castillo and Colombia blend'\n",
    "    ],\n",
    "    \n",
    "    'Regional Varieties': [\n",
    "        'Ethiopian Heirlooms', 'Java', 'Gayo', 'Wolishalo,Kurume,Dega',\n",
    "        'Jember,TIM-TIM,Ateng', 'Santander', 'Catrenic'\n",
    "    ],\n",
    "    \n",
    "    'Mundo Novo Group': [\n",
    "        'Mundo Novo', 'Catuai and Mundo Novo'\n",
    "    ],\n",
    "    \n",
    "    'Mixed Varieties': [\n",
    "        'BOURBON, CATURRA Y CATIMOR', 'Typica Bourbon Caturra Catimor',\n",
    "        'Bourbon, Catimor, Caturra, Typica', 'Catimor,Catuai,Caturra,Bourbon',\n",
    "        'MARSELLESA, CATUAI, CATURRA & MARSELLESA, ANACAFE 14, CATUAI'\n",
    "    ],\n",
    "    \n",
    "    'Other': [\n",
    "        'SHG', 'Pacas'  # SHG is actually a grade, not a variety\n",
    "    ]\n",
    "}\n"
   ]
  },
  {
   "cell_type": "code",
   "execution_count": 76,
   "metadata": {},
   "outputs": [
    {
     "data": {
      "text/plain": [
       "variety\n",
       "Gesha/Specialty       41\n",
       "Caturra Family        33\n",
       "Typica Family         29\n",
       "Bourbon Family        23\n",
       "Catimor Group         18\n",
       "Regional Varieties    17\n",
       "Catuai Family         15\n",
       "SL Varieties          14\n",
       "Mundo Novo Group       5\n",
       "Mixed Varieties        5\n",
       "Other                  4\n",
       "Castillo Group         3\n",
       "Name: count, dtype: int64"
      ]
     },
     "execution_count": 76,
     "metadata": {},
     "output_type": "execute_result"
    }
   ],
   "source": [
    "# variety_group\n",
    "df['variety'] = df['variety'].apply(lambda x: group_classes_with_dict(x, variety_groups))\n",
    "df['variety'].value_counts()"
   ]
  },
  {
   "cell_type": "code",
   "execution_count": 77,
   "metadata": {},
   "outputs": [
    {
     "data": {
      "application/vnd.plotly.v1+json": {
       "config": {
        "plotlyServerURL": "https://plot.ly"
       },
       "data": [
        {
         "type": "bar",
         "x": [
          "Castillo Group",
          "Gesha/Specialty",
          "SL Varieties",
          "Regional Varieties",
          "Bourbon Family",
          "Typica Family",
          "Caturra Family",
          "Catuai Family",
          "Mixed Varieties",
          "Catimor Group",
          "Mundo Novo Group",
          "Other"
         ],
         "y": {
          "bdata": "LPnFkl+cVUDYn4D9CShVQKYh5z67GFVAp3NADdoWVUBxPQrXowBVQGE8gUr55lRAE9suse3CVEDEILByaMFUQOf7qfHSvVRA3P4gQ2WvVECBlUOLbHdUQOF6FK5HaVRA",
          "dtype": "f8"
         }
        }
       ],
       "layout": {
        "template": {
         "data": {
          "bar": [
           {
            "error_x": {
             "color": "#2a3f5f"
            },
            "error_y": {
             "color": "#2a3f5f"
            },
            "marker": {
             "line": {
              "color": "#E5ECF6",
              "width": 0.5
             },
             "pattern": {
              "fillmode": "overlay",
              "size": 10,
              "solidity": 0.2
             }
            },
            "type": "bar"
           }
          ],
          "barpolar": [
           {
            "marker": {
             "line": {
              "color": "#E5ECF6",
              "width": 0.5
             },
             "pattern": {
              "fillmode": "overlay",
              "size": 10,
              "solidity": 0.2
             }
            },
            "type": "barpolar"
           }
          ],
          "carpet": [
           {
            "aaxis": {
             "endlinecolor": "#2a3f5f",
             "gridcolor": "white",
             "linecolor": "white",
             "minorgridcolor": "white",
             "startlinecolor": "#2a3f5f"
            },
            "baxis": {
             "endlinecolor": "#2a3f5f",
             "gridcolor": "white",
             "linecolor": "white",
             "minorgridcolor": "white",
             "startlinecolor": "#2a3f5f"
            },
            "type": "carpet"
           }
          ],
          "choropleth": [
           {
            "colorbar": {
             "outlinewidth": 0,
             "ticks": ""
            },
            "type": "choropleth"
           }
          ],
          "contour": [
           {
            "colorbar": {
             "outlinewidth": 0,
             "ticks": ""
            },
            "colorscale": [
             [
              0,
              "#0d0887"
             ],
             [
              0.1111111111111111,
              "#46039f"
             ],
             [
              0.2222222222222222,
              "#7201a8"
             ],
             [
              0.3333333333333333,
              "#9c179e"
             ],
             [
              0.4444444444444444,
              "#bd3786"
             ],
             [
              0.5555555555555556,
              "#d8576b"
             ],
             [
              0.6666666666666666,
              "#ed7953"
             ],
             [
              0.7777777777777778,
              "#fb9f3a"
             ],
             [
              0.8888888888888888,
              "#fdca26"
             ],
             [
              1,
              "#f0f921"
             ]
            ],
            "type": "contour"
           }
          ],
          "contourcarpet": [
           {
            "colorbar": {
             "outlinewidth": 0,
             "ticks": ""
            },
            "type": "contourcarpet"
           }
          ],
          "heatmap": [
           {
            "colorbar": {
             "outlinewidth": 0,
             "ticks": ""
            },
            "colorscale": [
             [
              0,
              "#0d0887"
             ],
             [
              0.1111111111111111,
              "#46039f"
             ],
             [
              0.2222222222222222,
              "#7201a8"
             ],
             [
              0.3333333333333333,
              "#9c179e"
             ],
             [
              0.4444444444444444,
              "#bd3786"
             ],
             [
              0.5555555555555556,
              "#d8576b"
             ],
             [
              0.6666666666666666,
              "#ed7953"
             ],
             [
              0.7777777777777778,
              "#fb9f3a"
             ],
             [
              0.8888888888888888,
              "#fdca26"
             ],
             [
              1,
              "#f0f921"
             ]
            ],
            "type": "heatmap"
           }
          ],
          "histogram": [
           {
            "marker": {
             "pattern": {
              "fillmode": "overlay",
              "size": 10,
              "solidity": 0.2
             }
            },
            "type": "histogram"
           }
          ],
          "histogram2d": [
           {
            "colorbar": {
             "outlinewidth": 0,
             "ticks": ""
            },
            "colorscale": [
             [
              0,
              "#0d0887"
             ],
             [
              0.1111111111111111,
              "#46039f"
             ],
             [
              0.2222222222222222,
              "#7201a8"
             ],
             [
              0.3333333333333333,
              "#9c179e"
             ],
             [
              0.4444444444444444,
              "#bd3786"
             ],
             [
              0.5555555555555556,
              "#d8576b"
             ],
             [
              0.6666666666666666,
              "#ed7953"
             ],
             [
              0.7777777777777778,
              "#fb9f3a"
             ],
             [
              0.8888888888888888,
              "#fdca26"
             ],
             [
              1,
              "#f0f921"
             ]
            ],
            "type": "histogram2d"
           }
          ],
          "histogram2dcontour": [
           {
            "colorbar": {
             "outlinewidth": 0,
             "ticks": ""
            },
            "colorscale": [
             [
              0,
              "#0d0887"
             ],
             [
              0.1111111111111111,
              "#46039f"
             ],
             [
              0.2222222222222222,
              "#7201a8"
             ],
             [
              0.3333333333333333,
              "#9c179e"
             ],
             [
              0.4444444444444444,
              "#bd3786"
             ],
             [
              0.5555555555555556,
              "#d8576b"
             ],
             [
              0.6666666666666666,
              "#ed7953"
             ],
             [
              0.7777777777777778,
              "#fb9f3a"
             ],
             [
              0.8888888888888888,
              "#fdca26"
             ],
             [
              1,
              "#f0f921"
             ]
            ],
            "type": "histogram2dcontour"
           }
          ],
          "mesh3d": [
           {
            "colorbar": {
             "outlinewidth": 0,
             "ticks": ""
            },
            "type": "mesh3d"
           }
          ],
          "parcoords": [
           {
            "line": {
             "colorbar": {
              "outlinewidth": 0,
              "ticks": ""
             }
            },
            "type": "parcoords"
           }
          ],
          "pie": [
           {
            "automargin": true,
            "type": "pie"
           }
          ],
          "scatter": [
           {
            "fillpattern": {
             "fillmode": "overlay",
             "size": 10,
             "solidity": 0.2
            },
            "type": "scatter"
           }
          ],
          "scatter3d": [
           {
            "line": {
             "colorbar": {
              "outlinewidth": 0,
              "ticks": ""
             }
            },
            "marker": {
             "colorbar": {
              "outlinewidth": 0,
              "ticks": ""
             }
            },
            "type": "scatter3d"
           }
          ],
          "scattercarpet": [
           {
            "marker": {
             "colorbar": {
              "outlinewidth": 0,
              "ticks": ""
             }
            },
            "type": "scattercarpet"
           }
          ],
          "scattergeo": [
           {
            "marker": {
             "colorbar": {
              "outlinewidth": 0,
              "ticks": ""
             }
            },
            "type": "scattergeo"
           }
          ],
          "scattergl": [
           {
            "marker": {
             "colorbar": {
              "outlinewidth": 0,
              "ticks": ""
             }
            },
            "type": "scattergl"
           }
          ],
          "scattermap": [
           {
            "marker": {
             "colorbar": {
              "outlinewidth": 0,
              "ticks": ""
             }
            },
            "type": "scattermap"
           }
          ],
          "scattermapbox": [
           {
            "marker": {
             "colorbar": {
              "outlinewidth": 0,
              "ticks": ""
             }
            },
            "type": "scattermapbox"
           }
          ],
          "scatterpolar": [
           {
            "marker": {
             "colorbar": {
              "outlinewidth": 0,
              "ticks": ""
             }
            },
            "type": "scatterpolar"
           }
          ],
          "scatterpolargl": [
           {
            "marker": {
             "colorbar": {
              "outlinewidth": 0,
              "ticks": ""
             }
            },
            "type": "scatterpolargl"
           }
          ],
          "scatterternary": [
           {
            "marker": {
             "colorbar": {
              "outlinewidth": 0,
              "ticks": ""
             }
            },
            "type": "scatterternary"
           }
          ],
          "surface": [
           {
            "colorbar": {
             "outlinewidth": 0,
             "ticks": ""
            },
            "colorscale": [
             [
              0,
              "#0d0887"
             ],
             [
              0.1111111111111111,
              "#46039f"
             ],
             [
              0.2222222222222222,
              "#7201a8"
             ],
             [
              0.3333333333333333,
              "#9c179e"
             ],
             [
              0.4444444444444444,
              "#bd3786"
             ],
             [
              0.5555555555555556,
              "#d8576b"
             ],
             [
              0.6666666666666666,
              "#ed7953"
             ],
             [
              0.7777777777777778,
              "#fb9f3a"
             ],
             [
              0.8888888888888888,
              "#fdca26"
             ],
             [
              1,
              "#f0f921"
             ]
            ],
            "type": "surface"
           }
          ],
          "table": [
           {
            "cells": {
             "fill": {
              "color": "#EBF0F8"
             },
             "line": {
              "color": "white"
             }
            },
            "header": {
             "fill": {
              "color": "#C8D4E3"
             },
             "line": {
              "color": "white"
             }
            },
            "type": "table"
           }
          ]
         },
         "layout": {
          "annotationdefaults": {
           "arrowcolor": "#2a3f5f",
           "arrowhead": 0,
           "arrowwidth": 1
          },
          "autotypenumbers": "strict",
          "coloraxis": {
           "colorbar": {
            "outlinewidth": 0,
            "ticks": ""
           }
          },
          "colorscale": {
           "diverging": [
            [
             0,
             "#8e0152"
            ],
            [
             0.1,
             "#c51b7d"
            ],
            [
             0.2,
             "#de77ae"
            ],
            [
             0.3,
             "#f1b6da"
            ],
            [
             0.4,
             "#fde0ef"
            ],
            [
             0.5,
             "#f7f7f7"
            ],
            [
             0.6,
             "#e6f5d0"
            ],
            [
             0.7,
             "#b8e186"
            ],
            [
             0.8,
             "#7fbc41"
            ],
            [
             0.9,
             "#4d9221"
            ],
            [
             1,
             "#276419"
            ]
           ],
           "sequential": [
            [
             0,
             "#0d0887"
            ],
            [
             0.1111111111111111,
             "#46039f"
            ],
            [
             0.2222222222222222,
             "#7201a8"
            ],
            [
             0.3333333333333333,
             "#9c179e"
            ],
            [
             0.4444444444444444,
             "#bd3786"
            ],
            [
             0.5555555555555556,
             "#d8576b"
            ],
            [
             0.6666666666666666,
             "#ed7953"
            ],
            [
             0.7777777777777778,
             "#fb9f3a"
            ],
            [
             0.8888888888888888,
             "#fdca26"
            ],
            [
             1,
             "#f0f921"
            ]
           ],
           "sequentialminus": [
            [
             0,
             "#0d0887"
            ],
            [
             0.1111111111111111,
             "#46039f"
            ],
            [
             0.2222222222222222,
             "#7201a8"
            ],
            [
             0.3333333333333333,
             "#9c179e"
            ],
            [
             0.4444444444444444,
             "#bd3786"
            ],
            [
             0.5555555555555556,
             "#d8576b"
            ],
            [
             0.6666666666666666,
             "#ed7953"
            ],
            [
             0.7777777777777778,
             "#fb9f3a"
            ],
            [
             0.8888888888888888,
             "#fdca26"
            ],
            [
             1,
             "#f0f921"
            ]
           ]
          },
          "colorway": [
           "#636efa",
           "#EF553B",
           "#00cc96",
           "#ab63fa",
           "#FFA15A",
           "#19d3f3",
           "#FF6692",
           "#B6E880",
           "#FF97FF",
           "#FECB52"
          ],
          "font": {
           "color": "#2a3f5f"
          },
          "geo": {
           "bgcolor": "white",
           "lakecolor": "white",
           "landcolor": "#E5ECF6",
           "showlakes": true,
           "showland": true,
           "subunitcolor": "white"
          },
          "hoverlabel": {
           "align": "left"
          },
          "hovermode": "closest",
          "mapbox": {
           "style": "light"
          },
          "paper_bgcolor": "white",
          "plot_bgcolor": "#E5ECF6",
          "polar": {
           "angularaxis": {
            "gridcolor": "white",
            "linecolor": "white",
            "ticks": ""
           },
           "bgcolor": "#E5ECF6",
           "radialaxis": {
            "gridcolor": "white",
            "linecolor": "white",
            "ticks": ""
           }
          },
          "scene": {
           "xaxis": {
            "backgroundcolor": "#E5ECF6",
            "gridcolor": "white",
            "gridwidth": 2,
            "linecolor": "white",
            "showbackground": true,
            "ticks": "",
            "zerolinecolor": "white"
           },
           "yaxis": {
            "backgroundcolor": "#E5ECF6",
            "gridcolor": "white",
            "gridwidth": 2,
            "linecolor": "white",
            "showbackground": true,
            "ticks": "",
            "zerolinecolor": "white"
           },
           "zaxis": {
            "backgroundcolor": "#E5ECF6",
            "gridcolor": "white",
            "gridwidth": 2,
            "linecolor": "white",
            "showbackground": true,
            "ticks": "",
            "zerolinecolor": "white"
           }
          },
          "shapedefaults": {
           "line": {
            "color": "#2a3f5f"
           }
          },
          "ternary": {
           "aaxis": {
            "gridcolor": "white",
            "linecolor": "white",
            "ticks": ""
           },
           "baxis": {
            "gridcolor": "white",
            "linecolor": "white",
            "ticks": ""
           },
           "bgcolor": "#E5ECF6",
           "caxis": {
            "gridcolor": "white",
            "linecolor": "white",
            "ticks": ""
           }
          },
          "title": {
           "x": 0.05
          },
          "xaxis": {
           "automargin": true,
           "gridcolor": "white",
           "linecolor": "white",
           "ticks": "",
           "title": {
            "standoff": 15
           },
           "zerolinecolor": "white",
           "zerolinewidth": 2
          },
          "yaxis": {
           "automargin": true,
           "gridcolor": "white",
           "linecolor": "white",
           "ticks": "",
           "title": {
            "standoff": 15
           },
           "zerolinecolor": "white",
           "zerolinewidth": 2
          }
         }
        },
        "title": {
         "text": "Variety Distribution"
        },
        "xaxis": {
         "title": {
          "text": "Variety"
         }
        },
        "yaxis": {
         "title": {
          "text": "Total Cup Points"
         }
        }
       }
      }
     },
     "metadata": {},
     "output_type": "display_data"
    }
   ],
   "source": [
    "# average total_cup_points by variety\n",
    "df_tmp = df.groupby('variety')['total_cup_points'].mean().sort_values(ascending=False)\n",
    "# plot bar chart for variety\n",
    "fig = go.Figure()\n",
    "# bar plot\n",
    "fig.add_trace(go.Bar(x=df_tmp.index, y=df_tmp.values,))\n",
    "fig.update_layout(title='Variety Distribution', xaxis_title='Variety', yaxis_title='Total Cup Points')\n",
    "fig.show()"
   ]
  },
  {
   "cell_type": "markdown",
   "metadata": {},
   "source": [
    "#### 8.Processing-Method-Encoding"
   ]
  },
  {
   "cell_type": "markdown",
   "metadata": {},
   "source": [
    "Reduce the processing method to 5 main groups based on:\n",
    "[Link](https://www.wearecoffeeco.com/blogs/news/coffee-processing-methods?srsltid=AfmBOoqP2CVT_vR_Q9BCDLjoQehyHzv6QvV7DFF8jUiVa8CVSvk6PUXs)\n"
   ]
  },
  {
   "cell_type": "code",
   "execution_count": 78,
   "metadata": {},
   "outputs": [],
   "source": [
    "# Define processing method groups\n",
    "processing_groups = {\n",
    "    'Washed/Wet Process': [\n",
    "        'Washed / Wet', \n",
    "        'SEMI-LAVADO'  # Spanish for semi-washed\n",
    "    ],\n",
    "    \n",
    "    'Natural/Dry Process': [\n",
    "        'Natural / Dry'\n",
    "    ],\n",
    "    \n",
    "    'Honey/Pulped Natural Process': [\n",
    "        'Pulped natural / honey',\n",
    "        'Honey,Mossto',\n",
    "    ],\n",
    "    \n",
    "    'Wet Hulling Process': [\n",
    "        'Wet Hulling',  # Indonesian method\n",
    "        'Semi Washed'\n",
    "    ],\n",
    "    \n",
    "    'Experimental/Anaerobic Process': [\n",
    "        'Double Anaerobic Washed',\n",
    "        'Double Carbonic Maceration / Natural',\n",
    "        'Anaerobico 1000h'\n",
    "    ]\n",
    "}"
   ]
  },
  {
   "cell_type": "code",
   "execution_count": 79,
   "metadata": {},
   "outputs": [
    {
     "name": "stdout",
     "output_type": "stream",
     "text": [
      "processing_method\n",
      "Washed/Wet Process                0.618357\n",
      "Natural/Dry Process               0.222222\n",
      "Honey/Pulped Natural Process      0.135266\n",
      "Experimental/Anaerobic Process    0.014493\n",
      "Wet Hulling Process               0.009662\n",
      "Name: proportion, dtype: float64\n",
      "\n",
      "After Grouping:\n",
      "processing_method\n",
      "Washed/Wet Process              0.618357\n",
      "Natural/Dry Process             0.222222\n",
      "Honey/Pulped Natural Process    0.135266\n",
      "Other                           0.024155\n",
      "Name: proportion, dtype: float64\n"
     ]
    }
   ],
   "source": [
    "# processing_method\n",
    "df['processing_method'] = df['processing_method'].apply(lambda x: group_classes_with_dict(x, processing_groups))\n",
    "print(df['processing_method'].value_counts(normalize=True))\n",
    "# group classes with a threshold\n",
    "df = group_classes(df.copy(), 'processing_method', threshold=0.05)\n",
    "print(\"\\nAfter Grouping:\")\n",
    "print(df['processing_method'].value_counts(normalize=True))"
   ]
  },
  {
   "cell_type": "code",
   "execution_count": 80,
   "metadata": {},
   "outputs": [
    {
     "data": {
      "application/vnd.plotly.v1+json": {
       "config": {
        "plotlyServerURL": "https://plot.ly"
       },
       "data": [
        {
         "type": "bar",
         "x": [
          "Other",
          "Honey/Pulped Natural Process",
          "Natural/Dry Process",
          "Washed/Wet Process"
         ],
         "y": {
          "bdata": "MzMzMzNzVUCn0pBzn/FUQEESaezT7FRA16NwPSrnVEA=",
          "dtype": "f8"
         }
        }
       ],
       "layout": {
        "template": {
         "data": {
          "bar": [
           {
            "error_x": {
             "color": "#2a3f5f"
            },
            "error_y": {
             "color": "#2a3f5f"
            },
            "marker": {
             "line": {
              "color": "#E5ECF6",
              "width": 0.5
             },
             "pattern": {
              "fillmode": "overlay",
              "size": 10,
              "solidity": 0.2
             }
            },
            "type": "bar"
           }
          ],
          "barpolar": [
           {
            "marker": {
             "line": {
              "color": "#E5ECF6",
              "width": 0.5
             },
             "pattern": {
              "fillmode": "overlay",
              "size": 10,
              "solidity": 0.2
             }
            },
            "type": "barpolar"
           }
          ],
          "carpet": [
           {
            "aaxis": {
             "endlinecolor": "#2a3f5f",
             "gridcolor": "white",
             "linecolor": "white",
             "minorgridcolor": "white",
             "startlinecolor": "#2a3f5f"
            },
            "baxis": {
             "endlinecolor": "#2a3f5f",
             "gridcolor": "white",
             "linecolor": "white",
             "minorgridcolor": "white",
             "startlinecolor": "#2a3f5f"
            },
            "type": "carpet"
           }
          ],
          "choropleth": [
           {
            "colorbar": {
             "outlinewidth": 0,
             "ticks": ""
            },
            "type": "choropleth"
           }
          ],
          "contour": [
           {
            "colorbar": {
             "outlinewidth": 0,
             "ticks": ""
            },
            "colorscale": [
             [
              0,
              "#0d0887"
             ],
             [
              0.1111111111111111,
              "#46039f"
             ],
             [
              0.2222222222222222,
              "#7201a8"
             ],
             [
              0.3333333333333333,
              "#9c179e"
             ],
             [
              0.4444444444444444,
              "#bd3786"
             ],
             [
              0.5555555555555556,
              "#d8576b"
             ],
             [
              0.6666666666666666,
              "#ed7953"
             ],
             [
              0.7777777777777778,
              "#fb9f3a"
             ],
             [
              0.8888888888888888,
              "#fdca26"
             ],
             [
              1,
              "#f0f921"
             ]
            ],
            "type": "contour"
           }
          ],
          "contourcarpet": [
           {
            "colorbar": {
             "outlinewidth": 0,
             "ticks": ""
            },
            "type": "contourcarpet"
           }
          ],
          "heatmap": [
           {
            "colorbar": {
             "outlinewidth": 0,
             "ticks": ""
            },
            "colorscale": [
             [
              0,
              "#0d0887"
             ],
             [
              0.1111111111111111,
              "#46039f"
             ],
             [
              0.2222222222222222,
              "#7201a8"
             ],
             [
              0.3333333333333333,
              "#9c179e"
             ],
             [
              0.4444444444444444,
              "#bd3786"
             ],
             [
              0.5555555555555556,
              "#d8576b"
             ],
             [
              0.6666666666666666,
              "#ed7953"
             ],
             [
              0.7777777777777778,
              "#fb9f3a"
             ],
             [
              0.8888888888888888,
              "#fdca26"
             ],
             [
              1,
              "#f0f921"
             ]
            ],
            "type": "heatmap"
           }
          ],
          "histogram": [
           {
            "marker": {
             "pattern": {
              "fillmode": "overlay",
              "size": 10,
              "solidity": 0.2
             }
            },
            "type": "histogram"
           }
          ],
          "histogram2d": [
           {
            "colorbar": {
             "outlinewidth": 0,
             "ticks": ""
            },
            "colorscale": [
             [
              0,
              "#0d0887"
             ],
             [
              0.1111111111111111,
              "#46039f"
             ],
             [
              0.2222222222222222,
              "#7201a8"
             ],
             [
              0.3333333333333333,
              "#9c179e"
             ],
             [
              0.4444444444444444,
              "#bd3786"
             ],
             [
              0.5555555555555556,
              "#d8576b"
             ],
             [
              0.6666666666666666,
              "#ed7953"
             ],
             [
              0.7777777777777778,
              "#fb9f3a"
             ],
             [
              0.8888888888888888,
              "#fdca26"
             ],
             [
              1,
              "#f0f921"
             ]
            ],
            "type": "histogram2d"
           }
          ],
          "histogram2dcontour": [
           {
            "colorbar": {
             "outlinewidth": 0,
             "ticks": ""
            },
            "colorscale": [
             [
              0,
              "#0d0887"
             ],
             [
              0.1111111111111111,
              "#46039f"
             ],
             [
              0.2222222222222222,
              "#7201a8"
             ],
             [
              0.3333333333333333,
              "#9c179e"
             ],
             [
              0.4444444444444444,
              "#bd3786"
             ],
             [
              0.5555555555555556,
              "#d8576b"
             ],
             [
              0.6666666666666666,
              "#ed7953"
             ],
             [
              0.7777777777777778,
              "#fb9f3a"
             ],
             [
              0.8888888888888888,
              "#fdca26"
             ],
             [
              1,
              "#f0f921"
             ]
            ],
            "type": "histogram2dcontour"
           }
          ],
          "mesh3d": [
           {
            "colorbar": {
             "outlinewidth": 0,
             "ticks": ""
            },
            "type": "mesh3d"
           }
          ],
          "parcoords": [
           {
            "line": {
             "colorbar": {
              "outlinewidth": 0,
              "ticks": ""
             }
            },
            "type": "parcoords"
           }
          ],
          "pie": [
           {
            "automargin": true,
            "type": "pie"
           }
          ],
          "scatter": [
           {
            "fillpattern": {
             "fillmode": "overlay",
             "size": 10,
             "solidity": 0.2
            },
            "type": "scatter"
           }
          ],
          "scatter3d": [
           {
            "line": {
             "colorbar": {
              "outlinewidth": 0,
              "ticks": ""
             }
            },
            "marker": {
             "colorbar": {
              "outlinewidth": 0,
              "ticks": ""
             }
            },
            "type": "scatter3d"
           }
          ],
          "scattercarpet": [
           {
            "marker": {
             "colorbar": {
              "outlinewidth": 0,
              "ticks": ""
             }
            },
            "type": "scattercarpet"
           }
          ],
          "scattergeo": [
           {
            "marker": {
             "colorbar": {
              "outlinewidth": 0,
              "ticks": ""
             }
            },
            "type": "scattergeo"
           }
          ],
          "scattergl": [
           {
            "marker": {
             "colorbar": {
              "outlinewidth": 0,
              "ticks": ""
             }
            },
            "type": "scattergl"
           }
          ],
          "scattermap": [
           {
            "marker": {
             "colorbar": {
              "outlinewidth": 0,
              "ticks": ""
             }
            },
            "type": "scattermap"
           }
          ],
          "scattermapbox": [
           {
            "marker": {
             "colorbar": {
              "outlinewidth": 0,
              "ticks": ""
             }
            },
            "type": "scattermapbox"
           }
          ],
          "scatterpolar": [
           {
            "marker": {
             "colorbar": {
              "outlinewidth": 0,
              "ticks": ""
             }
            },
            "type": "scatterpolar"
           }
          ],
          "scatterpolargl": [
           {
            "marker": {
             "colorbar": {
              "outlinewidth": 0,
              "ticks": ""
             }
            },
            "type": "scatterpolargl"
           }
          ],
          "scatterternary": [
           {
            "marker": {
             "colorbar": {
              "outlinewidth": 0,
              "ticks": ""
             }
            },
            "type": "scatterternary"
           }
          ],
          "surface": [
           {
            "colorbar": {
             "outlinewidth": 0,
             "ticks": ""
            },
            "colorscale": [
             [
              0,
              "#0d0887"
             ],
             [
              0.1111111111111111,
              "#46039f"
             ],
             [
              0.2222222222222222,
              "#7201a8"
             ],
             [
              0.3333333333333333,
              "#9c179e"
             ],
             [
              0.4444444444444444,
              "#bd3786"
             ],
             [
              0.5555555555555556,
              "#d8576b"
             ],
             [
              0.6666666666666666,
              "#ed7953"
             ],
             [
              0.7777777777777778,
              "#fb9f3a"
             ],
             [
              0.8888888888888888,
              "#fdca26"
             ],
             [
              1,
              "#f0f921"
             ]
            ],
            "type": "surface"
           }
          ],
          "table": [
           {
            "cells": {
             "fill": {
              "color": "#EBF0F8"
             },
             "line": {
              "color": "white"
             }
            },
            "header": {
             "fill": {
              "color": "#C8D4E3"
             },
             "line": {
              "color": "white"
             }
            },
            "type": "table"
           }
          ]
         },
         "layout": {
          "annotationdefaults": {
           "arrowcolor": "#2a3f5f",
           "arrowhead": 0,
           "arrowwidth": 1
          },
          "autotypenumbers": "strict",
          "coloraxis": {
           "colorbar": {
            "outlinewidth": 0,
            "ticks": ""
           }
          },
          "colorscale": {
           "diverging": [
            [
             0,
             "#8e0152"
            ],
            [
             0.1,
             "#c51b7d"
            ],
            [
             0.2,
             "#de77ae"
            ],
            [
             0.3,
             "#f1b6da"
            ],
            [
             0.4,
             "#fde0ef"
            ],
            [
             0.5,
             "#f7f7f7"
            ],
            [
             0.6,
             "#e6f5d0"
            ],
            [
             0.7,
             "#b8e186"
            ],
            [
             0.8,
             "#7fbc41"
            ],
            [
             0.9,
             "#4d9221"
            ],
            [
             1,
             "#276419"
            ]
           ],
           "sequential": [
            [
             0,
             "#0d0887"
            ],
            [
             0.1111111111111111,
             "#46039f"
            ],
            [
             0.2222222222222222,
             "#7201a8"
            ],
            [
             0.3333333333333333,
             "#9c179e"
            ],
            [
             0.4444444444444444,
             "#bd3786"
            ],
            [
             0.5555555555555556,
             "#d8576b"
            ],
            [
             0.6666666666666666,
             "#ed7953"
            ],
            [
             0.7777777777777778,
             "#fb9f3a"
            ],
            [
             0.8888888888888888,
             "#fdca26"
            ],
            [
             1,
             "#f0f921"
            ]
           ],
           "sequentialminus": [
            [
             0,
             "#0d0887"
            ],
            [
             0.1111111111111111,
             "#46039f"
            ],
            [
             0.2222222222222222,
             "#7201a8"
            ],
            [
             0.3333333333333333,
             "#9c179e"
            ],
            [
             0.4444444444444444,
             "#bd3786"
            ],
            [
             0.5555555555555556,
             "#d8576b"
            ],
            [
             0.6666666666666666,
             "#ed7953"
            ],
            [
             0.7777777777777778,
             "#fb9f3a"
            ],
            [
             0.8888888888888888,
             "#fdca26"
            ],
            [
             1,
             "#f0f921"
            ]
           ]
          },
          "colorway": [
           "#636efa",
           "#EF553B",
           "#00cc96",
           "#ab63fa",
           "#FFA15A",
           "#19d3f3",
           "#FF6692",
           "#B6E880",
           "#FF97FF",
           "#FECB52"
          ],
          "font": {
           "color": "#2a3f5f"
          },
          "geo": {
           "bgcolor": "white",
           "lakecolor": "white",
           "landcolor": "#E5ECF6",
           "showlakes": true,
           "showland": true,
           "subunitcolor": "white"
          },
          "hoverlabel": {
           "align": "left"
          },
          "hovermode": "closest",
          "mapbox": {
           "style": "light"
          },
          "paper_bgcolor": "white",
          "plot_bgcolor": "#E5ECF6",
          "polar": {
           "angularaxis": {
            "gridcolor": "white",
            "linecolor": "white",
            "ticks": ""
           },
           "bgcolor": "#E5ECF6",
           "radialaxis": {
            "gridcolor": "white",
            "linecolor": "white",
            "ticks": ""
           }
          },
          "scene": {
           "xaxis": {
            "backgroundcolor": "#E5ECF6",
            "gridcolor": "white",
            "gridwidth": 2,
            "linecolor": "white",
            "showbackground": true,
            "ticks": "",
            "zerolinecolor": "white"
           },
           "yaxis": {
            "backgroundcolor": "#E5ECF6",
            "gridcolor": "white",
            "gridwidth": 2,
            "linecolor": "white",
            "showbackground": true,
            "ticks": "",
            "zerolinecolor": "white"
           },
           "zaxis": {
            "backgroundcolor": "#E5ECF6",
            "gridcolor": "white",
            "gridwidth": 2,
            "linecolor": "white",
            "showbackground": true,
            "ticks": "",
            "zerolinecolor": "white"
           }
          },
          "shapedefaults": {
           "line": {
            "color": "#2a3f5f"
           }
          },
          "ternary": {
           "aaxis": {
            "gridcolor": "white",
            "linecolor": "white",
            "ticks": ""
           },
           "baxis": {
            "gridcolor": "white",
            "linecolor": "white",
            "ticks": ""
           },
           "bgcolor": "#E5ECF6",
           "caxis": {
            "gridcolor": "white",
            "linecolor": "white",
            "ticks": ""
           }
          },
          "title": {
           "x": 0.05
          },
          "xaxis": {
           "automargin": true,
           "gridcolor": "white",
           "linecolor": "white",
           "ticks": "",
           "title": {
            "standoff": 15
           },
           "zerolinecolor": "white",
           "zerolinewidth": 2
          },
          "yaxis": {
           "automargin": true,
           "gridcolor": "white",
           "linecolor": "white",
           "ticks": "",
           "title": {
            "standoff": 15
           },
           "zerolinecolor": "white",
           "zerolinewidth": 2
          }
         }
        },
        "title": {
         "text": "Processing Method Distribution"
        },
        "xaxis": {
         "title": {
          "text": "Processing Method"
         }
        },
        "yaxis": {
         "title": {
          "text": "Total Cup Points"
         }
        }
       }
      }
     },
     "metadata": {},
     "output_type": "display_data"
    }
   ],
   "source": [
    "# average total_cup_points by processing_method\n",
    "df_tmp = df.groupby('processing_method')['total_cup_points'].mean().sort_values(ascending=False)\n",
    "# plot bar chart for processing_method\n",
    "fig = go.Figure()\n",
    "# bar plot\n",
    "fig.add_trace(go.Bar(x=df_tmp.index, y=df_tmp.values,))\n",
    "fig.update_layout(title='Processing Method Distribution', xaxis_title='Processing Method', yaxis_title='Total Cup Points')\n",
    "fig.show()"
   ]
  },
  {
   "cell_type": "markdown",
   "metadata": {},
   "source": [
    "#### 9.Color-Encoding"
   ]
  },
  {
   "cell_type": "code",
   "execution_count": 81,
   "metadata": {},
   "outputs": [],
   "source": [
    "# Dictionary for color grouping\n",
    "color_groups = {\n",
    "    'Green': ['green', 'greenish'],\n",
    "    'Blue-Green': ['blue-green', 'bluish-green'],\n",
    "    'Yellow-Green': ['yellow-green', 'yellow green', 'yellow- green', 'yellow-green', 'yello-green'],\n",
    "    'Yellow': ['yellowish', 'pale yellow'],\n",
    "    'Brown/Brownish-Green': ['brownish', 'brownish-green', 'brownish-green', 'browish-green'],\n",
    "    'Other': []  # Default category for any colors not matched above\n",
    "}"
   ]
  },
  {
   "cell_type": "code",
   "execution_count": 82,
   "metadata": {},
   "outputs": [
    {
     "name": "stdout",
     "output_type": "stream",
     "text": [
      "color\n",
      "Green                   0.661836\n",
      "Blue-Green              0.159420\n",
      "Yellow-Green            0.082126\n",
      "Yellow                  0.048309\n",
      "Brown/Brownish-Green    0.048309\n",
      "Name: proportion, dtype: float64\n"
     ]
    }
   ],
   "source": [
    "# color\n",
    "df['color'] = df['color'].apply(lambda x: group_classes_with_dict(x, color_groups))\n",
    "print(df['color'].value_counts(normalize=True))"
   ]
  },
  {
   "cell_type": "code",
   "execution_count": 83,
   "metadata": {},
   "outputs": [
    {
     "data": {
      "application/vnd.plotly.v1+json": {
       "config": {
        "plotlyServerURL": "https://plot.ly"
       },
       "data": [
        {
         "type": "bar",
         "x": [
          "Brown/Brownish-Green",
          "Yellow-Green",
          "Yellow",
          "Green",
          "Blue-Green"
         ],
         "y": {
          "bdata": "gZVDi2w3VUD6+fn5+QlVQKabxCCw8lRAGGENbW3oVEBKmaKUKdpUQA==",
          "dtype": "f8"
         }
        }
       ],
       "layout": {
        "template": {
         "data": {
          "bar": [
           {
            "error_x": {
             "color": "#2a3f5f"
            },
            "error_y": {
             "color": "#2a3f5f"
            },
            "marker": {
             "line": {
              "color": "#E5ECF6",
              "width": 0.5
             },
             "pattern": {
              "fillmode": "overlay",
              "size": 10,
              "solidity": 0.2
             }
            },
            "type": "bar"
           }
          ],
          "barpolar": [
           {
            "marker": {
             "line": {
              "color": "#E5ECF6",
              "width": 0.5
             },
             "pattern": {
              "fillmode": "overlay",
              "size": 10,
              "solidity": 0.2
             }
            },
            "type": "barpolar"
           }
          ],
          "carpet": [
           {
            "aaxis": {
             "endlinecolor": "#2a3f5f",
             "gridcolor": "white",
             "linecolor": "white",
             "minorgridcolor": "white",
             "startlinecolor": "#2a3f5f"
            },
            "baxis": {
             "endlinecolor": "#2a3f5f",
             "gridcolor": "white",
             "linecolor": "white",
             "minorgridcolor": "white",
             "startlinecolor": "#2a3f5f"
            },
            "type": "carpet"
           }
          ],
          "choropleth": [
           {
            "colorbar": {
             "outlinewidth": 0,
             "ticks": ""
            },
            "type": "choropleth"
           }
          ],
          "contour": [
           {
            "colorbar": {
             "outlinewidth": 0,
             "ticks": ""
            },
            "colorscale": [
             [
              0,
              "#0d0887"
             ],
             [
              0.1111111111111111,
              "#46039f"
             ],
             [
              0.2222222222222222,
              "#7201a8"
             ],
             [
              0.3333333333333333,
              "#9c179e"
             ],
             [
              0.4444444444444444,
              "#bd3786"
             ],
             [
              0.5555555555555556,
              "#d8576b"
             ],
             [
              0.6666666666666666,
              "#ed7953"
             ],
             [
              0.7777777777777778,
              "#fb9f3a"
             ],
             [
              0.8888888888888888,
              "#fdca26"
             ],
             [
              1,
              "#f0f921"
             ]
            ],
            "type": "contour"
           }
          ],
          "contourcarpet": [
           {
            "colorbar": {
             "outlinewidth": 0,
             "ticks": ""
            },
            "type": "contourcarpet"
           }
          ],
          "heatmap": [
           {
            "colorbar": {
             "outlinewidth": 0,
             "ticks": ""
            },
            "colorscale": [
             [
              0,
              "#0d0887"
             ],
             [
              0.1111111111111111,
              "#46039f"
             ],
             [
              0.2222222222222222,
              "#7201a8"
             ],
             [
              0.3333333333333333,
              "#9c179e"
             ],
             [
              0.4444444444444444,
              "#bd3786"
             ],
             [
              0.5555555555555556,
              "#d8576b"
             ],
             [
              0.6666666666666666,
              "#ed7953"
             ],
             [
              0.7777777777777778,
              "#fb9f3a"
             ],
             [
              0.8888888888888888,
              "#fdca26"
             ],
             [
              1,
              "#f0f921"
             ]
            ],
            "type": "heatmap"
           }
          ],
          "histogram": [
           {
            "marker": {
             "pattern": {
              "fillmode": "overlay",
              "size": 10,
              "solidity": 0.2
             }
            },
            "type": "histogram"
           }
          ],
          "histogram2d": [
           {
            "colorbar": {
             "outlinewidth": 0,
             "ticks": ""
            },
            "colorscale": [
             [
              0,
              "#0d0887"
             ],
             [
              0.1111111111111111,
              "#46039f"
             ],
             [
              0.2222222222222222,
              "#7201a8"
             ],
             [
              0.3333333333333333,
              "#9c179e"
             ],
             [
              0.4444444444444444,
              "#bd3786"
             ],
             [
              0.5555555555555556,
              "#d8576b"
             ],
             [
              0.6666666666666666,
              "#ed7953"
             ],
             [
              0.7777777777777778,
              "#fb9f3a"
             ],
             [
              0.8888888888888888,
              "#fdca26"
             ],
             [
              1,
              "#f0f921"
             ]
            ],
            "type": "histogram2d"
           }
          ],
          "histogram2dcontour": [
           {
            "colorbar": {
             "outlinewidth": 0,
             "ticks": ""
            },
            "colorscale": [
             [
              0,
              "#0d0887"
             ],
             [
              0.1111111111111111,
              "#46039f"
             ],
             [
              0.2222222222222222,
              "#7201a8"
             ],
             [
              0.3333333333333333,
              "#9c179e"
             ],
             [
              0.4444444444444444,
              "#bd3786"
             ],
             [
              0.5555555555555556,
              "#d8576b"
             ],
             [
              0.6666666666666666,
              "#ed7953"
             ],
             [
              0.7777777777777778,
              "#fb9f3a"
             ],
             [
              0.8888888888888888,
              "#fdca26"
             ],
             [
              1,
              "#f0f921"
             ]
            ],
            "type": "histogram2dcontour"
           }
          ],
          "mesh3d": [
           {
            "colorbar": {
             "outlinewidth": 0,
             "ticks": ""
            },
            "type": "mesh3d"
           }
          ],
          "parcoords": [
           {
            "line": {
             "colorbar": {
              "outlinewidth": 0,
              "ticks": ""
             }
            },
            "type": "parcoords"
           }
          ],
          "pie": [
           {
            "automargin": true,
            "type": "pie"
           }
          ],
          "scatter": [
           {
            "fillpattern": {
             "fillmode": "overlay",
             "size": 10,
             "solidity": 0.2
            },
            "type": "scatter"
           }
          ],
          "scatter3d": [
           {
            "line": {
             "colorbar": {
              "outlinewidth": 0,
              "ticks": ""
             }
            },
            "marker": {
             "colorbar": {
              "outlinewidth": 0,
              "ticks": ""
             }
            },
            "type": "scatter3d"
           }
          ],
          "scattercarpet": [
           {
            "marker": {
             "colorbar": {
              "outlinewidth": 0,
              "ticks": ""
             }
            },
            "type": "scattercarpet"
           }
          ],
          "scattergeo": [
           {
            "marker": {
             "colorbar": {
              "outlinewidth": 0,
              "ticks": ""
             }
            },
            "type": "scattergeo"
           }
          ],
          "scattergl": [
           {
            "marker": {
             "colorbar": {
              "outlinewidth": 0,
              "ticks": ""
             }
            },
            "type": "scattergl"
           }
          ],
          "scattermap": [
           {
            "marker": {
             "colorbar": {
              "outlinewidth": 0,
              "ticks": ""
             }
            },
            "type": "scattermap"
           }
          ],
          "scattermapbox": [
           {
            "marker": {
             "colorbar": {
              "outlinewidth": 0,
              "ticks": ""
             }
            },
            "type": "scattermapbox"
           }
          ],
          "scatterpolar": [
           {
            "marker": {
             "colorbar": {
              "outlinewidth": 0,
              "ticks": ""
             }
            },
            "type": "scatterpolar"
           }
          ],
          "scatterpolargl": [
           {
            "marker": {
             "colorbar": {
              "outlinewidth": 0,
              "ticks": ""
             }
            },
            "type": "scatterpolargl"
           }
          ],
          "scatterternary": [
           {
            "marker": {
             "colorbar": {
              "outlinewidth": 0,
              "ticks": ""
             }
            },
            "type": "scatterternary"
           }
          ],
          "surface": [
           {
            "colorbar": {
             "outlinewidth": 0,
             "ticks": ""
            },
            "colorscale": [
             [
              0,
              "#0d0887"
             ],
             [
              0.1111111111111111,
              "#46039f"
             ],
             [
              0.2222222222222222,
              "#7201a8"
             ],
             [
              0.3333333333333333,
              "#9c179e"
             ],
             [
              0.4444444444444444,
              "#bd3786"
             ],
             [
              0.5555555555555556,
              "#d8576b"
             ],
             [
              0.6666666666666666,
              "#ed7953"
             ],
             [
              0.7777777777777778,
              "#fb9f3a"
             ],
             [
              0.8888888888888888,
              "#fdca26"
             ],
             [
              1,
              "#f0f921"
             ]
            ],
            "type": "surface"
           }
          ],
          "table": [
           {
            "cells": {
             "fill": {
              "color": "#EBF0F8"
             },
             "line": {
              "color": "white"
             }
            },
            "header": {
             "fill": {
              "color": "#C8D4E3"
             },
             "line": {
              "color": "white"
             }
            },
            "type": "table"
           }
          ]
         },
         "layout": {
          "annotationdefaults": {
           "arrowcolor": "#2a3f5f",
           "arrowhead": 0,
           "arrowwidth": 1
          },
          "autotypenumbers": "strict",
          "coloraxis": {
           "colorbar": {
            "outlinewidth": 0,
            "ticks": ""
           }
          },
          "colorscale": {
           "diverging": [
            [
             0,
             "#8e0152"
            ],
            [
             0.1,
             "#c51b7d"
            ],
            [
             0.2,
             "#de77ae"
            ],
            [
             0.3,
             "#f1b6da"
            ],
            [
             0.4,
             "#fde0ef"
            ],
            [
             0.5,
             "#f7f7f7"
            ],
            [
             0.6,
             "#e6f5d0"
            ],
            [
             0.7,
             "#b8e186"
            ],
            [
             0.8,
             "#7fbc41"
            ],
            [
             0.9,
             "#4d9221"
            ],
            [
             1,
             "#276419"
            ]
           ],
           "sequential": [
            [
             0,
             "#0d0887"
            ],
            [
             0.1111111111111111,
             "#46039f"
            ],
            [
             0.2222222222222222,
             "#7201a8"
            ],
            [
             0.3333333333333333,
             "#9c179e"
            ],
            [
             0.4444444444444444,
             "#bd3786"
            ],
            [
             0.5555555555555556,
             "#d8576b"
            ],
            [
             0.6666666666666666,
             "#ed7953"
            ],
            [
             0.7777777777777778,
             "#fb9f3a"
            ],
            [
             0.8888888888888888,
             "#fdca26"
            ],
            [
             1,
             "#f0f921"
            ]
           ],
           "sequentialminus": [
            [
             0,
             "#0d0887"
            ],
            [
             0.1111111111111111,
             "#46039f"
            ],
            [
             0.2222222222222222,
             "#7201a8"
            ],
            [
             0.3333333333333333,
             "#9c179e"
            ],
            [
             0.4444444444444444,
             "#bd3786"
            ],
            [
             0.5555555555555556,
             "#d8576b"
            ],
            [
             0.6666666666666666,
             "#ed7953"
            ],
            [
             0.7777777777777778,
             "#fb9f3a"
            ],
            [
             0.8888888888888888,
             "#fdca26"
            ],
            [
             1,
             "#f0f921"
            ]
           ]
          },
          "colorway": [
           "#636efa",
           "#EF553B",
           "#00cc96",
           "#ab63fa",
           "#FFA15A",
           "#19d3f3",
           "#FF6692",
           "#B6E880",
           "#FF97FF",
           "#FECB52"
          ],
          "font": {
           "color": "#2a3f5f"
          },
          "geo": {
           "bgcolor": "white",
           "lakecolor": "white",
           "landcolor": "#E5ECF6",
           "showlakes": true,
           "showland": true,
           "subunitcolor": "white"
          },
          "hoverlabel": {
           "align": "left"
          },
          "hovermode": "closest",
          "mapbox": {
           "style": "light"
          },
          "paper_bgcolor": "white",
          "plot_bgcolor": "#E5ECF6",
          "polar": {
           "angularaxis": {
            "gridcolor": "white",
            "linecolor": "white",
            "ticks": ""
           },
           "bgcolor": "#E5ECF6",
           "radialaxis": {
            "gridcolor": "white",
            "linecolor": "white",
            "ticks": ""
           }
          },
          "scene": {
           "xaxis": {
            "backgroundcolor": "#E5ECF6",
            "gridcolor": "white",
            "gridwidth": 2,
            "linecolor": "white",
            "showbackground": true,
            "ticks": "",
            "zerolinecolor": "white"
           },
           "yaxis": {
            "backgroundcolor": "#E5ECF6",
            "gridcolor": "white",
            "gridwidth": 2,
            "linecolor": "white",
            "showbackground": true,
            "ticks": "",
            "zerolinecolor": "white"
           },
           "zaxis": {
            "backgroundcolor": "#E5ECF6",
            "gridcolor": "white",
            "gridwidth": 2,
            "linecolor": "white",
            "showbackground": true,
            "ticks": "",
            "zerolinecolor": "white"
           }
          },
          "shapedefaults": {
           "line": {
            "color": "#2a3f5f"
           }
          },
          "ternary": {
           "aaxis": {
            "gridcolor": "white",
            "linecolor": "white",
            "ticks": ""
           },
           "baxis": {
            "gridcolor": "white",
            "linecolor": "white",
            "ticks": ""
           },
           "bgcolor": "#E5ECF6",
           "caxis": {
            "gridcolor": "white",
            "linecolor": "white",
            "ticks": ""
           }
          },
          "title": {
           "x": 0.05
          },
          "xaxis": {
           "automargin": true,
           "gridcolor": "white",
           "linecolor": "white",
           "ticks": "",
           "title": {
            "standoff": 15
           },
           "zerolinecolor": "white",
           "zerolinewidth": 2
          },
          "yaxis": {
           "automargin": true,
           "gridcolor": "white",
           "linecolor": "white",
           "ticks": "",
           "title": {
            "standoff": 15
           },
           "zerolinecolor": "white",
           "zerolinewidth": 2
          }
         }
        },
        "title": {
         "text": "Color Distribution"
        },
        "xaxis": {
         "title": {
          "text": "Color"
         }
        },
        "yaxis": {
         "title": {
          "text": "Total Cup Points"
         }
        }
       }
      }
     },
     "metadata": {},
     "output_type": "display_data"
    }
   ],
   "source": [
    "# average total_cup_points by color\n",
    "df_tmp = df.groupby('color')['total_cup_points'].mean().sort_values(ascending=False)\n",
    "# plot bar chart for color\n",
    "fig = go.Figure()\n",
    "# bar plot\n",
    "fig.add_trace(go.Bar(x=df_tmp.index, y=df_tmp.values,))\n",
    "fig.update_layout(title='Color Distribution', xaxis_title='Color', yaxis_title='Total Cup Points')\n",
    "fig.show()"
   ]
  },
  {
   "cell_type": "markdown",
   "metadata": {},
   "source": [
    "#### 10.Certification-Body-Encoding"
   ]
  },
  {
   "cell_type": "code",
   "execution_count": 84,
   "metadata": {},
   "outputs": [
    {
     "name": "stdout",
     "output_type": "stream",
     "text": [
      "['Japan Coffee Exchange' 'Taiwan Coffee Laboratory 台灣咖啡研究室'\n",
      " 'Kenya Coffee Traders Association' 'METAD Agricultural Development plc'\n",
      " 'Blossom Valley International宸嶧國際' 'FABB Academy of Coffee'\n",
      " 'Brazil Specialty Coffee Association'\n",
      " 'Uganda Coffee Development Authority' 'Asociacion Nacional Del Café'\n",
      " 'NKG Quality Service (a division of Bernhard Rothfos Intercafé AG)'\n",
      " 'Specialty Coffee Association of Costa Rica'\n",
      " 'Specialty Coffee Association' 'Instituto Hondureño del Café'\n",
      " 'ASOCIACIÓN COLOMBIANA PARA LA EXCELENCIA DEL CAFE'\n",
      " 'Centro Agroecológico del Café A.C.' 'Barista and Coffee Academy of Asia'\n",
      " 'Specialty Coffee Association of Indonesia'\n",
      " 'Asociación de Cafés Especiales de Nicaragua'\n",
      " 'Specialty Coffee Institute of Thailand' 'Salvadoran Coffee Council'\n",
      " 'Firedancer Coffee Consultants']\n",
      "\n",
      "After Grouping:\n",
      "certification_body\n",
      "Taiwan Coffee Laboratory 台灣咖啡研究室                                     0.400966\n",
      "Japan Coffee Exchange                                                0.130435\n",
      "Asociacion Nacional Del Café                                         0.067633\n",
      "Instituto Hondureño del Café                                         0.048309\n",
      "FABB Academy of Coffee                                               0.043478\n",
      "Kenya Coffee Traders Association                                     0.038647\n",
      "Specialty Coffee Association of Costa Rica                           0.033816\n",
      "Salvadoran Coffee Council                                            0.028986\n",
      "Blossom Valley International宸嶧國際                                     0.028986\n",
      "METAD Agricultural Development plc                                   0.028986\n",
      "Centro Agroecológico del Café A.C.                                   0.024155\n",
      "Brazil Specialty Coffee Association                                  0.019324\n",
      "Specialty Coffee Association                                         0.019324\n",
      "ASOCIACIÓN COLOMBIANA PARA LA EXCELENCIA DEL CAFE                    0.019324\n",
      "Other                                                                0.019324\n",
      "NKG Quality Service (a division of Bernhard Rothfos Intercafé AG)    0.019324\n",
      "Uganda Coffee Development Authority                                  0.014493\n",
      "Asociación de Cafés Especiales de Nicaragua                          0.014493\n",
      "Name: proportion, dtype: float64\n"
     ]
    }
   ],
   "source": [
    "print(df['certification_body'].unique())\n",
    "df['certification_body'].value_counts(normalize=True)\n",
    "# group classes with a threshold\n",
    "df = group_classes(df.copy(), 'certification_body', threshold=0.01)\n",
    "print(\"\\nAfter Grouping:\")\n",
    "print(df['certification_body'].value_counts(normalize=True))"
   ]
  },
  {
   "cell_type": "code",
   "execution_count": 85,
   "metadata": {},
   "outputs": [
    {
     "data": {
      "application/vnd.plotly.v1+json": {
       "config": {
        "plotlyServerURL": "https://plot.ly"
       },
       "data": [
        {
         "type": "bar",
         "x": [
          "METAD Agricultural Development plc",
          "Blossom Valley International宸嶧國際",
          "Kenya Coffee Traders Association",
          "Asociacion Nacional Del Café",
          "Taiwan Coffee Laboratory 台灣咖啡研究室",
          "Uganda Coffee Development Authority",
          "NKG Quality Service (a division of Bernhard Rothfos Intercafé AG)",
          "ASOCIACIÓN COLOMBIANA PARA LA EXCELENCIA DEL CAFE",
          "Japan Coffee Exchange",
          "Specialty Coffee Association of Costa Rica",
          "Instituto Hondureño del Café",
          "Specialty Coffee Association",
          "FABB Academy of Coffee",
          "Brazil Specialty Coffee Association",
          "Other",
          "Centro Agroecológico del Café A.C.",
          "Salvadoran Coffee Council",
          "Asociación de Cafés Especiales de Nicaragua"
         ],
         "y": {
          "bdata": "16NwPQo/VUA9CtejcC1VQFK4HoXrK1VAymp5YwQTVUCBcbgL8wpVQKuqqqqq+lRA4XoUrkfxVEDC9Shcj+pUQIQXVj/T0VRAAAAAAADQVEAzMzMzM8tUQIXrUbgexVRAuB6F61G4VEDhehSuR7VUQAAAAAAAtFRAMgisHFqEVEBERERERERUQNQGOm2gQ1RA",
          "dtype": "f8"
         }
        }
       ],
       "layout": {
        "template": {
         "data": {
          "bar": [
           {
            "error_x": {
             "color": "#2a3f5f"
            },
            "error_y": {
             "color": "#2a3f5f"
            },
            "marker": {
             "line": {
              "color": "#E5ECF6",
              "width": 0.5
             },
             "pattern": {
              "fillmode": "overlay",
              "size": 10,
              "solidity": 0.2
             }
            },
            "type": "bar"
           }
          ],
          "barpolar": [
           {
            "marker": {
             "line": {
              "color": "#E5ECF6",
              "width": 0.5
             },
             "pattern": {
              "fillmode": "overlay",
              "size": 10,
              "solidity": 0.2
             }
            },
            "type": "barpolar"
           }
          ],
          "carpet": [
           {
            "aaxis": {
             "endlinecolor": "#2a3f5f",
             "gridcolor": "white",
             "linecolor": "white",
             "minorgridcolor": "white",
             "startlinecolor": "#2a3f5f"
            },
            "baxis": {
             "endlinecolor": "#2a3f5f",
             "gridcolor": "white",
             "linecolor": "white",
             "minorgridcolor": "white",
             "startlinecolor": "#2a3f5f"
            },
            "type": "carpet"
           }
          ],
          "choropleth": [
           {
            "colorbar": {
             "outlinewidth": 0,
             "ticks": ""
            },
            "type": "choropleth"
           }
          ],
          "contour": [
           {
            "colorbar": {
             "outlinewidth": 0,
             "ticks": ""
            },
            "colorscale": [
             [
              0,
              "#0d0887"
             ],
             [
              0.1111111111111111,
              "#46039f"
             ],
             [
              0.2222222222222222,
              "#7201a8"
             ],
             [
              0.3333333333333333,
              "#9c179e"
             ],
             [
              0.4444444444444444,
              "#bd3786"
             ],
             [
              0.5555555555555556,
              "#d8576b"
             ],
             [
              0.6666666666666666,
              "#ed7953"
             ],
             [
              0.7777777777777778,
              "#fb9f3a"
             ],
             [
              0.8888888888888888,
              "#fdca26"
             ],
             [
              1,
              "#f0f921"
             ]
            ],
            "type": "contour"
           }
          ],
          "contourcarpet": [
           {
            "colorbar": {
             "outlinewidth": 0,
             "ticks": ""
            },
            "type": "contourcarpet"
           }
          ],
          "heatmap": [
           {
            "colorbar": {
             "outlinewidth": 0,
             "ticks": ""
            },
            "colorscale": [
             [
              0,
              "#0d0887"
             ],
             [
              0.1111111111111111,
              "#46039f"
             ],
             [
              0.2222222222222222,
              "#7201a8"
             ],
             [
              0.3333333333333333,
              "#9c179e"
             ],
             [
              0.4444444444444444,
              "#bd3786"
             ],
             [
              0.5555555555555556,
              "#d8576b"
             ],
             [
              0.6666666666666666,
              "#ed7953"
             ],
             [
              0.7777777777777778,
              "#fb9f3a"
             ],
             [
              0.8888888888888888,
              "#fdca26"
             ],
             [
              1,
              "#f0f921"
             ]
            ],
            "type": "heatmap"
           }
          ],
          "histogram": [
           {
            "marker": {
             "pattern": {
              "fillmode": "overlay",
              "size": 10,
              "solidity": 0.2
             }
            },
            "type": "histogram"
           }
          ],
          "histogram2d": [
           {
            "colorbar": {
             "outlinewidth": 0,
             "ticks": ""
            },
            "colorscale": [
             [
              0,
              "#0d0887"
             ],
             [
              0.1111111111111111,
              "#46039f"
             ],
             [
              0.2222222222222222,
              "#7201a8"
             ],
             [
              0.3333333333333333,
              "#9c179e"
             ],
             [
              0.4444444444444444,
              "#bd3786"
             ],
             [
              0.5555555555555556,
              "#d8576b"
             ],
             [
              0.6666666666666666,
              "#ed7953"
             ],
             [
              0.7777777777777778,
              "#fb9f3a"
             ],
             [
              0.8888888888888888,
              "#fdca26"
             ],
             [
              1,
              "#f0f921"
             ]
            ],
            "type": "histogram2d"
           }
          ],
          "histogram2dcontour": [
           {
            "colorbar": {
             "outlinewidth": 0,
             "ticks": ""
            },
            "colorscale": [
             [
              0,
              "#0d0887"
             ],
             [
              0.1111111111111111,
              "#46039f"
             ],
             [
              0.2222222222222222,
              "#7201a8"
             ],
             [
              0.3333333333333333,
              "#9c179e"
             ],
             [
              0.4444444444444444,
              "#bd3786"
             ],
             [
              0.5555555555555556,
              "#d8576b"
             ],
             [
              0.6666666666666666,
              "#ed7953"
             ],
             [
              0.7777777777777778,
              "#fb9f3a"
             ],
             [
              0.8888888888888888,
              "#fdca26"
             ],
             [
              1,
              "#f0f921"
             ]
            ],
            "type": "histogram2dcontour"
           }
          ],
          "mesh3d": [
           {
            "colorbar": {
             "outlinewidth": 0,
             "ticks": ""
            },
            "type": "mesh3d"
           }
          ],
          "parcoords": [
           {
            "line": {
             "colorbar": {
              "outlinewidth": 0,
              "ticks": ""
             }
            },
            "type": "parcoords"
           }
          ],
          "pie": [
           {
            "automargin": true,
            "type": "pie"
           }
          ],
          "scatter": [
           {
            "fillpattern": {
             "fillmode": "overlay",
             "size": 10,
             "solidity": 0.2
            },
            "type": "scatter"
           }
          ],
          "scatter3d": [
           {
            "line": {
             "colorbar": {
              "outlinewidth": 0,
              "ticks": ""
             }
            },
            "marker": {
             "colorbar": {
              "outlinewidth": 0,
              "ticks": ""
             }
            },
            "type": "scatter3d"
           }
          ],
          "scattercarpet": [
           {
            "marker": {
             "colorbar": {
              "outlinewidth": 0,
              "ticks": ""
             }
            },
            "type": "scattercarpet"
           }
          ],
          "scattergeo": [
           {
            "marker": {
             "colorbar": {
              "outlinewidth": 0,
              "ticks": ""
             }
            },
            "type": "scattergeo"
           }
          ],
          "scattergl": [
           {
            "marker": {
             "colorbar": {
              "outlinewidth": 0,
              "ticks": ""
             }
            },
            "type": "scattergl"
           }
          ],
          "scattermap": [
           {
            "marker": {
             "colorbar": {
              "outlinewidth": 0,
              "ticks": ""
             }
            },
            "type": "scattermap"
           }
          ],
          "scattermapbox": [
           {
            "marker": {
             "colorbar": {
              "outlinewidth": 0,
              "ticks": ""
             }
            },
            "type": "scattermapbox"
           }
          ],
          "scatterpolar": [
           {
            "marker": {
             "colorbar": {
              "outlinewidth": 0,
              "ticks": ""
             }
            },
            "type": "scatterpolar"
           }
          ],
          "scatterpolargl": [
           {
            "marker": {
             "colorbar": {
              "outlinewidth": 0,
              "ticks": ""
             }
            },
            "type": "scatterpolargl"
           }
          ],
          "scatterternary": [
           {
            "marker": {
             "colorbar": {
              "outlinewidth": 0,
              "ticks": ""
             }
            },
            "type": "scatterternary"
           }
          ],
          "surface": [
           {
            "colorbar": {
             "outlinewidth": 0,
             "ticks": ""
            },
            "colorscale": [
             [
              0,
              "#0d0887"
             ],
             [
              0.1111111111111111,
              "#46039f"
             ],
             [
              0.2222222222222222,
              "#7201a8"
             ],
             [
              0.3333333333333333,
              "#9c179e"
             ],
             [
              0.4444444444444444,
              "#bd3786"
             ],
             [
              0.5555555555555556,
              "#d8576b"
             ],
             [
              0.6666666666666666,
              "#ed7953"
             ],
             [
              0.7777777777777778,
              "#fb9f3a"
             ],
             [
              0.8888888888888888,
              "#fdca26"
             ],
             [
              1,
              "#f0f921"
             ]
            ],
            "type": "surface"
           }
          ],
          "table": [
           {
            "cells": {
             "fill": {
              "color": "#EBF0F8"
             },
             "line": {
              "color": "white"
             }
            },
            "header": {
             "fill": {
              "color": "#C8D4E3"
             },
             "line": {
              "color": "white"
             }
            },
            "type": "table"
           }
          ]
         },
         "layout": {
          "annotationdefaults": {
           "arrowcolor": "#2a3f5f",
           "arrowhead": 0,
           "arrowwidth": 1
          },
          "autotypenumbers": "strict",
          "coloraxis": {
           "colorbar": {
            "outlinewidth": 0,
            "ticks": ""
           }
          },
          "colorscale": {
           "diverging": [
            [
             0,
             "#8e0152"
            ],
            [
             0.1,
             "#c51b7d"
            ],
            [
             0.2,
             "#de77ae"
            ],
            [
             0.3,
             "#f1b6da"
            ],
            [
             0.4,
             "#fde0ef"
            ],
            [
             0.5,
             "#f7f7f7"
            ],
            [
             0.6,
             "#e6f5d0"
            ],
            [
             0.7,
             "#b8e186"
            ],
            [
             0.8,
             "#7fbc41"
            ],
            [
             0.9,
             "#4d9221"
            ],
            [
             1,
             "#276419"
            ]
           ],
           "sequential": [
            [
             0,
             "#0d0887"
            ],
            [
             0.1111111111111111,
             "#46039f"
            ],
            [
             0.2222222222222222,
             "#7201a8"
            ],
            [
             0.3333333333333333,
             "#9c179e"
            ],
            [
             0.4444444444444444,
             "#bd3786"
            ],
            [
             0.5555555555555556,
             "#d8576b"
            ],
            [
             0.6666666666666666,
             "#ed7953"
            ],
            [
             0.7777777777777778,
             "#fb9f3a"
            ],
            [
             0.8888888888888888,
             "#fdca26"
            ],
            [
             1,
             "#f0f921"
            ]
           ],
           "sequentialminus": [
            [
             0,
             "#0d0887"
            ],
            [
             0.1111111111111111,
             "#46039f"
            ],
            [
             0.2222222222222222,
             "#7201a8"
            ],
            [
             0.3333333333333333,
             "#9c179e"
            ],
            [
             0.4444444444444444,
             "#bd3786"
            ],
            [
             0.5555555555555556,
             "#d8576b"
            ],
            [
             0.6666666666666666,
             "#ed7953"
            ],
            [
             0.7777777777777778,
             "#fb9f3a"
            ],
            [
             0.8888888888888888,
             "#fdca26"
            ],
            [
             1,
             "#f0f921"
            ]
           ]
          },
          "colorway": [
           "#636efa",
           "#EF553B",
           "#00cc96",
           "#ab63fa",
           "#FFA15A",
           "#19d3f3",
           "#FF6692",
           "#B6E880",
           "#FF97FF",
           "#FECB52"
          ],
          "font": {
           "color": "#2a3f5f"
          },
          "geo": {
           "bgcolor": "white",
           "lakecolor": "white",
           "landcolor": "#E5ECF6",
           "showlakes": true,
           "showland": true,
           "subunitcolor": "white"
          },
          "hoverlabel": {
           "align": "left"
          },
          "hovermode": "closest",
          "mapbox": {
           "style": "light"
          },
          "paper_bgcolor": "white",
          "plot_bgcolor": "#E5ECF6",
          "polar": {
           "angularaxis": {
            "gridcolor": "white",
            "linecolor": "white",
            "ticks": ""
           },
           "bgcolor": "#E5ECF6",
           "radialaxis": {
            "gridcolor": "white",
            "linecolor": "white",
            "ticks": ""
           }
          },
          "scene": {
           "xaxis": {
            "backgroundcolor": "#E5ECF6",
            "gridcolor": "white",
            "gridwidth": 2,
            "linecolor": "white",
            "showbackground": true,
            "ticks": "",
            "zerolinecolor": "white"
           },
           "yaxis": {
            "backgroundcolor": "#E5ECF6",
            "gridcolor": "white",
            "gridwidth": 2,
            "linecolor": "white",
            "showbackground": true,
            "ticks": "",
            "zerolinecolor": "white"
           },
           "zaxis": {
            "backgroundcolor": "#E5ECF6",
            "gridcolor": "white",
            "gridwidth": 2,
            "linecolor": "white",
            "showbackground": true,
            "ticks": "",
            "zerolinecolor": "white"
           }
          },
          "shapedefaults": {
           "line": {
            "color": "#2a3f5f"
           }
          },
          "ternary": {
           "aaxis": {
            "gridcolor": "white",
            "linecolor": "white",
            "ticks": ""
           },
           "baxis": {
            "gridcolor": "white",
            "linecolor": "white",
            "ticks": ""
           },
           "bgcolor": "#E5ECF6",
           "caxis": {
            "gridcolor": "white",
            "linecolor": "white",
            "ticks": ""
           }
          },
          "title": {
           "x": 0.05
          },
          "xaxis": {
           "automargin": true,
           "gridcolor": "white",
           "linecolor": "white",
           "ticks": "",
           "title": {
            "standoff": 15
           },
           "zerolinecolor": "white",
           "zerolinewidth": 2
          },
          "yaxis": {
           "automargin": true,
           "gridcolor": "white",
           "linecolor": "white",
           "ticks": "",
           "title": {
            "standoff": 15
           },
           "zerolinecolor": "white",
           "zerolinewidth": 2
          }
         }
        },
        "title": {
         "text": "Certification Body Distribution"
        },
        "xaxis": {
         "title": {
          "text": "Certification Body"
         }
        },
        "yaxis": {
         "title": {
          "text": "Total Cup Points"
         }
        }
       }
      }
     },
     "metadata": {},
     "output_type": "display_data"
    }
   ],
   "source": [
    "# average total_cup_points by certification_body\n",
    "df_tmp = df.groupby('certification_body')['total_cup_points'].mean().sort_values(ascending=False)\n",
    "# plot bar chart for certification_body\n",
    "fig = go.Figure()\n",
    "# bar plot\n",
    "fig.add_trace(go.Bar(x=df_tmp.index, y=df_tmp.values,))\n",
    "fig.update_layout(title='Certification Body Distribution', xaxis_title='Certification Body', yaxis_title='Total Cup Points')\n",
    "fig.show()"
   ]
  },
  {
   "cell_type": "markdown",
   "metadata": {},
   "source": [
    "#### 11.Certification-Address-Encoding"
   ]
  },
  {
   "cell_type": "code",
   "execution_count": 86,
   "metadata": {},
   "outputs": [
    {
     "name": "stdout",
     "output_type": "stream",
     "text": [
      "\n",
      "After Grouping:\n",
      "certification_address\n",
      "QAHWAH CO., LTD 4F, No. 225, Sec. 3, Beixin Rd., Xindian Dist. New Taipei City, Taiwan                                                                   0.400966\n",
      "〒413-0002 静岡県熱海市伊豆山１１７３−５８ 1173-58 Izusan, Atami, Shizuoka, 413-0002 JAPAN                                                                               0.130435\n",
      "5a Calle 0-50, Zona 14 Guatemala City, Guatemala 1014                                                                                                    0.067633\n",
      "Laboratorio de Control de Calidad de Café ( CNCC), 33 Calle, 1-2 Avenida, Sector El Cacao. San Pedro Sula, Cortes                                        0.048309\n",
      "FABB ACADEMY OF COFFEE 259/313 SUKHUMVIT 71 RD., SOI PRIDI BANOMYONG 15, VHADANA BKK, 10110 THAILAND                                                     0.043478\n",
      "P.O. Box 646 00100Nairobi, Kenya, Denniss Pritt Road, Opposite St Georges Girls Secondary School                                                         0.038647\n",
      "Blvd Rohrmoser, de Prisma Dental 200 norte y 25 oeste, casa 21                                                                                           0.033816\n",
      "Final 1a. Av. Norte y 13 Calle Pte., dentro de las instalaciones del MAG                                                                                 0.028986\n",
      "No.72 Mo-Fan St. Taiwan Zip: 403                                                                                                                         0.028986\n",
      "BAWA Center, 3rd Floor (Gerji), Addis Ababa, Ethiopia                                                                                                    0.028986\n",
      "Instituto de Ecología A. C., Campus III Edificio A Planta Baja Carretera Antigua a Coatepec No. 351 Col. El Haya C.P. 91070 Xalapa, Veracruz, México.    0.024155\n",
      "Rua Gaspar Batista Paiva, 416 – Santa Luiza Varginha/MG – Brazil                                                                                         0.019324\n",
      "*CURRENTLY NOT ACCEPTING SAMPLES**                                                                                                                       0.019324\n",
      "Calle 60A #3D-32 / Planta Baja / CQ Lab ASECC                                                                                                            0.019324\n",
      "Other                                                                                                                                                    0.019324\n",
      "Bahnhofstrasse 22 6300 Zug, Switzerland                                                                                                                  0.019324\n",
      "Coffee House, Plot 35, Jinja Road, P.O. Box 7267, Kampala, Uganda                                                                                        0.014493\n",
      "Del Hotel Seminole 2 C al lago, 1 C arriba.                                                                                                              0.014493\n",
      "Name: proportion, dtype: float64\n"
     ]
    }
   ],
   "source": [
    "# print(df['certification_address'].unique())\n",
    "df['certification_address'].value_counts(normalize=True)\n",
    "# # group classes with a threshold\n",
    "df = group_classes(df.copy(), 'certification_address', threshold=0.01)\n",
    "print(\"\\nAfter Grouping:\")\n",
    "print(df['certification_address'].value_counts(normalize=True))"
   ]
  },
  {
   "cell_type": "markdown",
   "metadata": {},
   "source": [
    "#### 12.Certification-Contact-Encoding"
   ]
  },
  {
   "cell_type": "code",
   "execution_count": 87,
   "metadata": {},
   "outputs": [
    {
     "name": "stdout",
     "output_type": "stream",
     "text": [
      "\n",
      "After Grouping:\n",
      "certification_contact\n",
      "Lin, Jen-An Neil 林仁安 - 886-289116612                             0.400966\n",
      "松澤　宏樹　Koju Matsuzawa - +81(0)9085642901                          0.130435\n",
      "Brayan Cifuentes -                                               0.067633\n",
      "Ramon Reyes - + 504 9693-9042                                    0.048309\n",
      "Janejira Kamonsawedkun - +(66) 095 095 9593                      0.043478\n",
      "Benson Kibicho Kamau - +254 786 821 621                          0.038647\n",
      "Noelia Villalobos - (506) 2220 0685                              0.033816\n",
      "Tomas Bonilla - (503) 2505-6600                                  0.028986\n",
      "Damon Chen陳嘉峻 - +886423022323                                    0.028986\n",
      "Aman Adinew (Emebet Dinku) - +251-116-292534, +251-911-519196    0.028986\n",
      "Stephany Escamilla Femat - Tel. +52 228 8421800 Ext. 3092        0.024155\n",
      "Chris Allen - 55 35 3212-4705                                    0.019324\n",
      "Brit Amell (CQI) - bamell@coffeeinstitute.org -                  0.019324\n",
      "Carlos Julian Ruiz - 3212026991                                  0.019324\n",
      "Other                                                            0.019324\n",
      "Tirza Odermatt - +41 41 728 72 81                                0.019324\n",
      "Brenda Kamara Kemigisha Mangeni - 256773040119                   0.014493\n",
      "Maria Ines Benavidez Toval - 011-(505)-8396 4717                 0.014493\n",
      "Name: proportion, dtype: float64\n"
     ]
    }
   ],
   "source": [
    "# print(df['certification_contact'].unique())\n",
    "df['certification_contact'].value_counts(normalize=True)\n",
    "# # group classes with a threshold\n",
    "df = group_classes(df.copy(), 'certification_contact', threshold=0.01)\n",
    "print(\"\\nAfter Grouping:\")\n",
    "print(df['certification_contact'].value_counts(normalize=True))"
   ]
  },
  {
   "cell_type": "markdown",
   "metadata": {},
   "source": [
    "#### Assign-Categorical-Number"
   ]
  },
  {
   "cell_type": "code",
   "execution_count": 88,
   "metadata": {},
   "outputs": [],
   "source": [
    "# map to number\n",
    "df['country_of_origin_code'] = df['country_of_origin'].astype('category').cat.codes\n",
    "df['company_code'] = df['company'].astype('category').cat.codes\n",
    "df['in_country_partner_code'] = df['in_country_partner'].astype('category').cat.codes\n",
    "df['owner_code'] = df['owner'].astype('category').cat.codes\n",
    "df['variety_code'] = df['variety'].astype('category').cat.codes\n",
    "df['processing_method_code'] = df['processing_method'].astype('category').cat.codes\n",
    "df['color_code'] = df['color'].astype('category').cat.codes\n",
    "df['certification_body_code'] = df['certification_body'].astype('category').cat.codes\n",
    "df['certification_address_code'] = df['certification_address'].astype('category').cat.codes\n",
    "df['certification_contact_code'] = df['certification_contact'].astype('category').cat.codes\n"
   ]
  },
  {
   "cell_type": "code",
   "execution_count": 89,
   "metadata": {},
   "outputs": [
    {
     "data": {
      "text/html": [
       "<div>\n",
       "<style scoped>\n",
       "    .dataframe tbody tr th:only-of-type {\n",
       "        vertical-align: middle;\n",
       "    }\n",
       "\n",
       "    .dataframe tbody tr th {\n",
       "        vertical-align: top;\n",
       "    }\n",
       "\n",
       "    .dataframe thead th {\n",
       "        text-align: right;\n",
       "    }\n",
       "</style>\n",
       "<table border=\"1\" class=\"dataframe\">\n",
       "  <thead>\n",
       "    <tr style=\"text-align: right;\">\n",
       "      <th></th>\n",
       "      <th>country_of_origin</th>\n",
       "      <th>ico_number</th>\n",
       "      <th>company</th>\n",
       "      <th>altitude</th>\n",
       "      <th>region</th>\n",
       "      <th>number_of_bags</th>\n",
       "      <th>bag_weight</th>\n",
       "      <th>in_country_partner</th>\n",
       "      <th>harvest_year</th>\n",
       "      <th>grading_date</th>\n",
       "      <th>owner</th>\n",
       "      <th>variety</th>\n",
       "      <th>status</th>\n",
       "      <th>processing_method</th>\n",
       "      <th>aroma</th>\n",
       "      <th>flavor</th>\n",
       "      <th>aftertaste</th>\n",
       "      <th>acidity</th>\n",
       "      <th>body</th>\n",
       "      <th>balance</th>\n",
       "      <th>uniformity</th>\n",
       "      <th>clean_cup</th>\n",
       "      <th>sweetness</th>\n",
       "      <th>overall</th>\n",
       "      <th>defects</th>\n",
       "      <th>total_cup_points</th>\n",
       "      <th>moisture_percentage</th>\n",
       "      <th>category_one_defects</th>\n",
       "      <th>quakers</th>\n",
       "      <th>color</th>\n",
       "      <th>category_two_defects</th>\n",
       "      <th>expiration</th>\n",
       "      <th>certification_body</th>\n",
       "      <th>certification_address</th>\n",
       "      <th>certification_contact</th>\n",
       "      <th>region_lat</th>\n",
       "      <th>region_lon</th>\n",
       "      <th>harvest_grading_period</th>\n",
       "      <th>country_of_origin_code</th>\n",
       "      <th>company_code</th>\n",
       "      <th>in_country_partner_code</th>\n",
       "      <th>harvest_grading_period_code</th>\n",
       "      <th>owner_code</th>\n",
       "      <th>variety_code</th>\n",
       "      <th>processing_method_code</th>\n",
       "      <th>color_code</th>\n",
       "      <th>certification_body_code</th>\n",
       "      <th>certification_address_code</th>\n",
       "      <th>certification_contact_code</th>\n",
       "    </tr>\n",
       "  </thead>\n",
       "  <tbody>\n",
       "    <tr>\n",
       "      <th>0</th>\n",
       "      <td>South America</td>\n",
       "      <td>False</td>\n",
       "      <td>Coffee Quality Union</td>\n",
       "      <td>1815.0</td>\n",
       "      <td>Piendamo,Cauca</td>\n",
       "      <td>1</td>\n",
       "      <td>35.0</td>\n",
       "      <td>Japan Coffee Exchange</td>\n",
       "      <td>2021 / 2022</td>\n",
       "      <td>September 21st, 2022</td>\n",
       "      <td>Coffee Quality Union</td>\n",
       "      <td>Castillo Group</td>\n",
       "      <td>Completed</td>\n",
       "      <td>Other</td>\n",
       "      <td>8.58</td>\n",
       "      <td>8.50</td>\n",
       "      <td>8.42</td>\n",
       "      <td>8.58</td>\n",
       "      <td>8.25</td>\n",
       "      <td>8.42</td>\n",
       "      <td>10.0</td>\n",
       "      <td>10.0</td>\n",
       "      <td>10.0</td>\n",
       "      <td>8.58</td>\n",
       "      <td>0.0</td>\n",
       "      <td>89.33</td>\n",
       "      <td>11.8</td>\n",
       "      <td>0</td>\n",
       "      <td>0</td>\n",
       "      <td>Green</td>\n",
       "      <td>3</td>\n",
       "      <td>September 21st, 2023</td>\n",
       "      <td>Japan Coffee Exchange</td>\n",
       "      <td>〒413-0002 静岡県熱海市伊豆山１１７３−５８ 1173-58 Izusan, Ata...</td>\n",
       "      <td>松澤　宏樹　Koju Matsuzawa - +81(0)9085642901</td>\n",
       "      <td>2.636706</td>\n",
       "      <td>-76.506149</td>\n",
       "      <td>20</td>\n",
       "      <td>4</td>\n",
       "      <td>12</td>\n",
       "      <td>10</td>\n",
       "      <td>16</td>\n",
       "      <td>13</td>\n",
       "      <td>1</td>\n",
       "      <td>2</td>\n",
       "      <td>2</td>\n",
       "      <td>8</td>\n",
       "      <td>17</td>\n",
       "      <td>17</td>\n",
       "    </tr>\n",
       "    <tr>\n",
       "      <th>1</th>\n",
       "      <td>Asia Pacific</td>\n",
       "      <td>False</td>\n",
       "      <td>Taiwan Coffee Laboratory</td>\n",
       "      <td>1200.0</td>\n",
       "      <td>Chiayi</td>\n",
       "      <td>1</td>\n",
       "      <td>80.0</td>\n",
       "      <td>Taiwan Coffee Laboratory 台灣咖啡研究室</td>\n",
       "      <td>2021 / 2022</td>\n",
       "      <td>November 15th, 2022</td>\n",
       "      <td>Taiwan Coffee Laboratory 台灣咖啡研究室</td>\n",
       "      <td>Gesha/Specialty</td>\n",
       "      <td>Completed</td>\n",
       "      <td>Washed/Wet Process</td>\n",
       "      <td>8.50</td>\n",
       "      <td>8.50</td>\n",
       "      <td>7.92</td>\n",
       "      <td>8.00</td>\n",
       "      <td>7.92</td>\n",
       "      <td>8.25</td>\n",
       "      <td>10.0</td>\n",
       "      <td>10.0</td>\n",
       "      <td>10.0</td>\n",
       "      <td>8.50</td>\n",
       "      <td>0.0</td>\n",
       "      <td>87.58</td>\n",
       "      <td>10.5</td>\n",
       "      <td>0</td>\n",
       "      <td>0</td>\n",
       "      <td>Blue-Green</td>\n",
       "      <td>0</td>\n",
       "      <td>November 15th, 2023</td>\n",
       "      <td>Taiwan Coffee Laboratory 台灣咖啡研究室</td>\n",
       "      <td>QAHWAH CO., LTD 4F, No. 225, Sec. 3, Beixin Rd...</td>\n",
       "      <td>Lin, Jen-An Neil 林仁安 - 886-289116612</td>\n",
       "      <td>23.451843</td>\n",
       "      <td>120.255461</td>\n",
       "      <td>22</td>\n",
       "      <td>1</td>\n",
       "      <td>57</td>\n",
       "      <td>19</td>\n",
       "      <td>18</td>\n",
       "      <td>59</td>\n",
       "      <td>5</td>\n",
       "      <td>3</td>\n",
       "      <td>0</td>\n",
       "      <td>16</td>\n",
       "      <td>15</td>\n",
       "      <td>9</td>\n",
       "    </tr>\n",
       "    <tr>\n",
       "      <th>2</th>\n",
       "      <td>Asia Pacific</td>\n",
       "      <td>False</td>\n",
       "      <td>Taiwan Coffee Laboratory</td>\n",
       "      <td>1300.0</td>\n",
       "      <td>Laos Borofen Plateau</td>\n",
       "      <td>19</td>\n",
       "      <td>25.0</td>\n",
       "      <td>Taiwan Coffee Laboratory 台灣咖啡研究室</td>\n",
       "      <td>2021 / 2022</td>\n",
       "      <td>November 15th, 2022</td>\n",
       "      <td>Taiwan Coffee Laboratory 台灣咖啡研究室</td>\n",
       "      <td>Regional Varieties</td>\n",
       "      <td>Completed</td>\n",
       "      <td>Other</td>\n",
       "      <td>8.33</td>\n",
       "      <td>8.42</td>\n",
       "      <td>8.08</td>\n",
       "      <td>8.17</td>\n",
       "      <td>7.92</td>\n",
       "      <td>8.17</td>\n",
       "      <td>10.0</td>\n",
       "      <td>10.0</td>\n",
       "      <td>10.0</td>\n",
       "      <td>8.33</td>\n",
       "      <td>0.0</td>\n",
       "      <td>87.42</td>\n",
       "      <td>10.4</td>\n",
       "      <td>0</td>\n",
       "      <td>0</td>\n",
       "      <td>Yellow</td>\n",
       "      <td>2</td>\n",
       "      <td>November 15th, 2023</td>\n",
       "      <td>Taiwan Coffee Laboratory 台灣咖啡研究室</td>\n",
       "      <td>QAHWAH CO., LTD 4F, No. 225, Sec. 3, Beixin Rd...</td>\n",
       "      <td>Lin, Jen-An Neil 林仁安 - 886-289116612</td>\n",
       "      <td>15.000000</td>\n",
       "      <td>106.000000</td>\n",
       "      <td>22</td>\n",
       "      <td>1</td>\n",
       "      <td>57</td>\n",
       "      <td>19</td>\n",
       "      <td>18</td>\n",
       "      <td>59</td>\n",
       "      <td>9</td>\n",
       "      <td>2</td>\n",
       "      <td>3</td>\n",
       "      <td>16</td>\n",
       "      <td>15</td>\n",
       "      <td>9</td>\n",
       "    </tr>\n",
       "    <tr>\n",
       "      <th>3</th>\n",
       "      <td>Central America</td>\n",
       "      <td>False</td>\n",
       "      <td>Coffee Quality Union</td>\n",
       "      <td>1900.0</td>\n",
       "      <td>Los Santos,Tarrazu</td>\n",
       "      <td>1</td>\n",
       "      <td>22.0</td>\n",
       "      <td>Japan Coffee Exchange</td>\n",
       "      <td>2022</td>\n",
       "      <td>September 21st, 2022</td>\n",
       "      <td>Coffee Quality Union</td>\n",
       "      <td>Gesha/Specialty</td>\n",
       "      <td>Completed</td>\n",
       "      <td>Washed/Wet Process</td>\n",
       "      <td>8.08</td>\n",
       "      <td>8.17</td>\n",
       "      <td>8.17</td>\n",
       "      <td>8.25</td>\n",
       "      <td>8.17</td>\n",
       "      <td>8.08</td>\n",
       "      <td>10.0</td>\n",
       "      <td>10.0</td>\n",
       "      <td>10.0</td>\n",
       "      <td>8.25</td>\n",
       "      <td>0.0</td>\n",
       "      <td>87.17</td>\n",
       "      <td>11.8</td>\n",
       "      <td>0</td>\n",
       "      <td>0</td>\n",
       "      <td>Green</td>\n",
       "      <td>0</td>\n",
       "      <td>September 21st, 2023</td>\n",
       "      <td>Japan Coffee Exchange</td>\n",
       "      <td>〒413-0002 静岡県熱海市伊豆山１１７３−５８ 1173-58 Izusan, Ata...</td>\n",
       "      <td>松澤　宏樹　Koju Matsuzawa - +81(0)9085642901</td>\n",
       "      <td>9.659650</td>\n",
       "      <td>-84.021380</td>\n",
       "      <td>8</td>\n",
       "      <td>2</td>\n",
       "      <td>12</td>\n",
       "      <td>10</td>\n",
       "      <td>4</td>\n",
       "      <td>13</td>\n",
       "      <td>5</td>\n",
       "      <td>3</td>\n",
       "      <td>2</td>\n",
       "      <td>8</td>\n",
       "      <td>17</td>\n",
       "      <td>17</td>\n",
       "    </tr>\n",
       "    <tr>\n",
       "      <th>4</th>\n",
       "      <td>South America</td>\n",
       "      <td>False</td>\n",
       "      <td>Coffee Quality Union</td>\n",
       "      <td>1975.0</td>\n",
       "      <td>Popayan,Cauca</td>\n",
       "      <td>2</td>\n",
       "      <td>24.0</td>\n",
       "      <td>Japan Coffee Exchange</td>\n",
       "      <td>2022</td>\n",
       "      <td>March 6th, 2023</td>\n",
       "      <td>Coffee Quality Union</td>\n",
       "      <td>Bourbon Family</td>\n",
       "      <td>Completed</td>\n",
       "      <td>Honey/Pulped Natural Process</td>\n",
       "      <td>8.33</td>\n",
       "      <td>8.33</td>\n",
       "      <td>8.08</td>\n",
       "      <td>8.25</td>\n",
       "      <td>7.92</td>\n",
       "      <td>7.92</td>\n",
       "      <td>10.0</td>\n",
       "      <td>10.0</td>\n",
       "      <td>10.0</td>\n",
       "      <td>8.25</td>\n",
       "      <td>0.0</td>\n",
       "      <td>87.08</td>\n",
       "      <td>11.6</td>\n",
       "      <td>0</td>\n",
       "      <td>2</td>\n",
       "      <td>Yellow-Green</td>\n",
       "      <td>2</td>\n",
       "      <td>March 5th, 2024</td>\n",
       "      <td>Japan Coffee Exchange</td>\n",
       "      <td>〒413-0002 静岡県熱海市伊豆山１１７３−５８ 1173-58 Izusan, Ata...</td>\n",
       "      <td>松澤　宏樹　Koju Matsuzawa - +81(0)9085642901</td>\n",
       "      <td>2.454170</td>\n",
       "      <td>-76.609170</td>\n",
       "      <td>14</td>\n",
       "      <td>4</td>\n",
       "      <td>12</td>\n",
       "      <td>10</td>\n",
       "      <td>10</td>\n",
       "      <td>13</td>\n",
       "      <td>0</td>\n",
       "      <td>0</td>\n",
       "      <td>4</td>\n",
       "      <td>8</td>\n",
       "      <td>17</td>\n",
       "      <td>17</td>\n",
       "    </tr>\n",
       "  </tbody>\n",
       "</table>\n",
       "</div>"
      ],
      "text/plain": [
       "  country_of_origin  ico_number                   company  altitude  \\\n",
       "0     South America       False      Coffee Quality Union    1815.0   \n",
       "1      Asia Pacific       False  Taiwan Coffee Laboratory    1200.0   \n",
       "2      Asia Pacific       False  Taiwan Coffee Laboratory    1300.0   \n",
       "3   Central America       False      Coffee Quality Union    1900.0   \n",
       "4     South America       False      Coffee Quality Union    1975.0   \n",
       "\n",
       "                 region  number_of_bags  bag_weight  \\\n",
       "0        Piendamo,Cauca               1        35.0   \n",
       "1                Chiayi               1        80.0   \n",
       "2  Laos Borofen Plateau              19        25.0   \n",
       "3    Los Santos,Tarrazu               1        22.0   \n",
       "4         Popayan,Cauca               2        24.0   \n",
       "\n",
       "                 in_country_partner harvest_year          grading_date  \\\n",
       "0             Japan Coffee Exchange  2021 / 2022  September 21st, 2022   \n",
       "1  Taiwan Coffee Laboratory 台灣咖啡研究室  2021 / 2022   November 15th, 2022   \n",
       "2  Taiwan Coffee Laboratory 台灣咖啡研究室  2021 / 2022   November 15th, 2022   \n",
       "3             Japan Coffee Exchange         2022  September 21st, 2022   \n",
       "4             Japan Coffee Exchange         2022       March 6th, 2023   \n",
       "\n",
       "                              owner             variety     status  \\\n",
       "0              Coffee Quality Union      Castillo Group  Completed   \n",
       "1  Taiwan Coffee Laboratory 台灣咖啡研究室     Gesha/Specialty  Completed   \n",
       "2  Taiwan Coffee Laboratory 台灣咖啡研究室  Regional Varieties  Completed   \n",
       "3              Coffee Quality Union     Gesha/Specialty  Completed   \n",
       "4              Coffee Quality Union      Bourbon Family  Completed   \n",
       "\n",
       "              processing_method  aroma  flavor  aftertaste  acidity  body  \\\n",
       "0                         Other   8.58    8.50        8.42     8.58  8.25   \n",
       "1            Washed/Wet Process   8.50    8.50        7.92     8.00  7.92   \n",
       "2                         Other   8.33    8.42        8.08     8.17  7.92   \n",
       "3            Washed/Wet Process   8.08    8.17        8.17     8.25  8.17   \n",
       "4  Honey/Pulped Natural Process   8.33    8.33        8.08     8.25  7.92   \n",
       "\n",
       "   balance  uniformity  clean_cup  sweetness  overall  defects  \\\n",
       "0     8.42        10.0       10.0       10.0     8.58      0.0   \n",
       "1     8.25        10.0       10.0       10.0     8.50      0.0   \n",
       "2     8.17        10.0       10.0       10.0     8.33      0.0   \n",
       "3     8.08        10.0       10.0       10.0     8.25      0.0   \n",
       "4     7.92        10.0       10.0       10.0     8.25      0.0   \n",
       "\n",
       "   total_cup_points  moisture_percentage  category_one_defects  quakers  \\\n",
       "0             89.33                 11.8                     0        0   \n",
       "1             87.58                 10.5                     0        0   \n",
       "2             87.42                 10.4                     0        0   \n",
       "3             87.17                 11.8                     0        0   \n",
       "4             87.08                 11.6                     0        2   \n",
       "\n",
       "          color  category_two_defects            expiration  \\\n",
       "0         Green                     3  September 21st, 2023   \n",
       "1    Blue-Green                     0   November 15th, 2023   \n",
       "2        Yellow                     2   November 15th, 2023   \n",
       "3         Green                     0  September 21st, 2023   \n",
       "4  Yellow-Green                     2       March 5th, 2024   \n",
       "\n",
       "                 certification_body  \\\n",
       "0             Japan Coffee Exchange   \n",
       "1  Taiwan Coffee Laboratory 台灣咖啡研究室   \n",
       "2  Taiwan Coffee Laboratory 台灣咖啡研究室   \n",
       "3             Japan Coffee Exchange   \n",
       "4             Japan Coffee Exchange   \n",
       "\n",
       "                               certification_address  \\\n",
       "0  〒413-0002 静岡県熱海市伊豆山１１７３−５８ 1173-58 Izusan, Ata...   \n",
       "1  QAHWAH CO., LTD 4F, No. 225, Sec. 3, Beixin Rd...   \n",
       "2  QAHWAH CO., LTD 4F, No. 225, Sec. 3, Beixin Rd...   \n",
       "3  〒413-0002 静岡県熱海市伊豆山１１７３−５８ 1173-58 Izusan, Ata...   \n",
       "4  〒413-0002 静岡県熱海市伊豆山１１７３−５８ 1173-58 Izusan, Ata...   \n",
       "\n",
       "                     certification_contact  region_lat  region_lon  \\\n",
       "0  松澤　宏樹　Koju Matsuzawa - +81(0)9085642901    2.636706  -76.506149   \n",
       "1     Lin, Jen-An Neil 林仁安 - 886-289116612   23.451843  120.255461   \n",
       "2     Lin, Jen-An Neil 林仁安 - 886-289116612   15.000000  106.000000   \n",
       "3  松澤　宏樹　Koju Matsuzawa - +81(0)9085642901    9.659650  -84.021380   \n",
       "4  松澤　宏樹　Koju Matsuzawa - +81(0)9085642901    2.454170  -76.609170   \n",
       "\n",
       "   harvest_grading_period  country_of_origin_code  company_code  \\\n",
       "0                      20                       4            12   \n",
       "1                      22                       1            57   \n",
       "2                      22                       1            57   \n",
       "3                       8                       2            12   \n",
       "4                      14                       4            12   \n",
       "\n",
       "   in_country_partner_code  harvest_grading_period_code  owner_code  \\\n",
       "0                       10                           16          13   \n",
       "1                       19                           18          59   \n",
       "2                       19                           18          59   \n",
       "3                       10                            4          13   \n",
       "4                       10                           10          13   \n",
       "\n",
       "   variety_code  processing_method_code  color_code  certification_body_code  \\\n",
       "0             1                       2           2                        8   \n",
       "1             5                       3           0                       16   \n",
       "2             9                       2           3                       16   \n",
       "3             5                       3           2                        8   \n",
       "4             0                       0           4                        8   \n",
       "\n",
       "   certification_address_code  certification_contact_code  \n",
       "0                          17                          17  \n",
       "1                          15                           9  \n",
       "2                          15                           9  \n",
       "3                          17                          17  \n",
       "4                          17                          17  "
      ]
     },
     "execution_count": 89,
     "metadata": {},
     "output_type": "execute_result"
    }
   ],
   "source": [
    "df.head()"
   ]
  },
  {
   "cell_type": "markdown",
   "metadata": {},
   "source": [
    "## Remove-Irrevant-Data"
   ]
  },
  {
   "cell_type": "code",
   "execution_count": 90,
   "metadata": {},
   "outputs": [
    {
     "data": {
      "text/html": [
       "<div>\n",
       "<style scoped>\n",
       "    .dataframe tbody tr th:only-of-type {\n",
       "        vertical-align: middle;\n",
       "    }\n",
       "\n",
       "    .dataframe tbody tr th {\n",
       "        vertical-align: top;\n",
       "    }\n",
       "\n",
       "    .dataframe thead th {\n",
       "        text-align: right;\n",
       "    }\n",
       "</style>\n",
       "<table border=\"1\" class=\"dataframe\">\n",
       "  <thead>\n",
       "    <tr style=\"text-align: right;\">\n",
       "      <th></th>\n",
       "      <th>column</th>\n",
       "      <th>dtype</th>\n",
       "      <th>valid</th>\n",
       "      <th>missing</th>\n",
       "      <th>unique</th>\n",
       "      <th>unique_pct</th>\n",
       "      <th>mean</th>\n",
       "      <th>std</th>\n",
       "      <th>min</th>\n",
       "      <th>25%</th>\n",
       "      <th>50%</th>\n",
       "      <th>75%</th>\n",
       "      <th>max</th>\n",
       "    </tr>\n",
       "  </thead>\n",
       "  <tbody>\n",
       "    <tr>\n",
       "      <th>0</th>\n",
       "      <td>altitude</td>\n",
       "      <td>float64</td>\n",
       "      <td>207</td>\n",
       "      <td>0</td>\n",
       "      <td>77</td>\n",
       "      <td>37.20</td>\n",
       "      <td>1245.18</td>\n",
       "      <td>489.81</td>\n",
       "      <td>139.000000</td>\n",
       "      <td>1020.000000</td>\n",
       "      <td>1340.000000</td>\n",
       "      <td>1600.000000</td>\n",
       "      <td>2361.000000</td>\n",
       "    </tr>\n",
       "    <tr>\n",
       "      <th>1</th>\n",
       "      <td>number_of_bags</td>\n",
       "      <td>int64</td>\n",
       "      <td>207</td>\n",
       "      <td>0</td>\n",
       "      <td>54</td>\n",
       "      <td>26.09</td>\n",
       "      <td>146.62</td>\n",
       "      <td>195.43</td>\n",
       "      <td>1.000000</td>\n",
       "      <td>1.000000</td>\n",
       "      <td>14.000000</td>\n",
       "      <td>275.000000</td>\n",
       "      <td>686.000000</td>\n",
       "    </tr>\n",
       "    <tr>\n",
       "      <th>2</th>\n",
       "      <td>bag_weight</td>\n",
       "      <td>float64</td>\n",
       "      <td>207</td>\n",
       "      <td>0</td>\n",
       "      <td>36</td>\n",
       "      <td>17.39</td>\n",
       "      <td>41.39</td>\n",
       "      <td>30.89</td>\n",
       "      <td>1.000000</td>\n",
       "      <td>15.000000</td>\n",
       "      <td>30.000000</td>\n",
       "      <td>60.000000</td>\n",
       "      <td>127.500000</td>\n",
       "    </tr>\n",
       "    <tr>\n",
       "      <th>3</th>\n",
       "      <td>aroma</td>\n",
       "      <td>float64</td>\n",
       "      <td>207</td>\n",
       "      <td>0</td>\n",
       "      <td>19</td>\n",
       "      <td>9.18</td>\n",
       "      <td>7.72</td>\n",
       "      <td>0.29</td>\n",
       "      <td>6.500000</td>\n",
       "      <td>7.580000</td>\n",
       "      <td>7.670000</td>\n",
       "      <td>7.920000</td>\n",
       "      <td>8.580000</td>\n",
       "    </tr>\n",
       "    <tr>\n",
       "      <th>4</th>\n",
       "      <td>flavor</td>\n",
       "      <td>float64</td>\n",
       "      <td>207</td>\n",
       "      <td>0</td>\n",
       "      <td>19</td>\n",
       "      <td>9.18</td>\n",
       "      <td>7.74</td>\n",
       "      <td>0.28</td>\n",
       "      <td>6.750000</td>\n",
       "      <td>7.580000</td>\n",
       "      <td>7.750000</td>\n",
       "      <td>7.920000</td>\n",
       "      <td>8.500000</td>\n",
       "    </tr>\n",
       "    <tr>\n",
       "      <th>5</th>\n",
       "      <td>aftertaste</td>\n",
       "      <td>float64</td>\n",
       "      <td>207</td>\n",
       "      <td>0</td>\n",
       "      <td>20</td>\n",
       "      <td>9.66</td>\n",
       "      <td>7.60</td>\n",
       "      <td>0.28</td>\n",
       "      <td>6.670000</td>\n",
       "      <td>7.420000</td>\n",
       "      <td>7.580000</td>\n",
       "      <td>7.750000</td>\n",
       "      <td>8.420000</td>\n",
       "    </tr>\n",
       "    <tr>\n",
       "      <th>6</th>\n",
       "      <td>acidity</td>\n",
       "      <td>float64</td>\n",
       "      <td>207</td>\n",
       "      <td>0</td>\n",
       "      <td>19</td>\n",
       "      <td>9.18</td>\n",
       "      <td>7.69</td>\n",
       "      <td>0.26</td>\n",
       "      <td>6.830000</td>\n",
       "      <td>7.500000</td>\n",
       "      <td>7.670000</td>\n",
       "      <td>7.875000</td>\n",
       "      <td>8.580000</td>\n",
       "    </tr>\n",
       "    <tr>\n",
       "      <th>7</th>\n",
       "      <td>body</td>\n",
       "      <td>float64</td>\n",
       "      <td>207</td>\n",
       "      <td>0</td>\n",
       "      <td>17</td>\n",
       "      <td>8.21</td>\n",
       "      <td>7.64</td>\n",
       "      <td>0.23</td>\n",
       "      <td>6.830000</td>\n",
       "      <td>7.500000</td>\n",
       "      <td>7.670000</td>\n",
       "      <td>7.750000</td>\n",
       "      <td>8.250000</td>\n",
       "    </tr>\n",
       "    <tr>\n",
       "      <th>8</th>\n",
       "      <td>balance</td>\n",
       "      <td>float64</td>\n",
       "      <td>207</td>\n",
       "      <td>0</td>\n",
       "      <td>18</td>\n",
       "      <td>8.70</td>\n",
       "      <td>7.64</td>\n",
       "      <td>0.26</td>\n",
       "      <td>6.670000</td>\n",
       "      <td>7.500000</td>\n",
       "      <td>7.670000</td>\n",
       "      <td>7.790000</td>\n",
       "      <td>8.420000</td>\n",
       "    </tr>\n",
       "    <tr>\n",
       "      <th>9</th>\n",
       "      <td>uniformity</td>\n",
       "      <td>float64</td>\n",
       "      <td>207</td>\n",
       "      <td>0</td>\n",
       "      <td>3</td>\n",
       "      <td>1.45</td>\n",
       "      <td>9.99</td>\n",
       "      <td>0.10</td>\n",
       "      <td>8.670000</td>\n",
       "      <td>10.000000</td>\n",
       "      <td>10.000000</td>\n",
       "      <td>10.000000</td>\n",
       "      <td>10.000000</td>\n",
       "    </tr>\n",
       "    <tr>\n",
       "      <th>10</th>\n",
       "      <td>clean_cup</td>\n",
       "      <td>float64</td>\n",
       "      <td>207</td>\n",
       "      <td>0</td>\n",
       "      <td>1</td>\n",
       "      <td>0.48</td>\n",
       "      <td>10.00</td>\n",
       "      <td>0.00</td>\n",
       "      <td>10.000000</td>\n",
       "      <td>10.000000</td>\n",
       "      <td>10.000000</td>\n",
       "      <td>10.000000</td>\n",
       "      <td>10.000000</td>\n",
       "    </tr>\n",
       "    <tr>\n",
       "      <th>11</th>\n",
       "      <td>sweetness</td>\n",
       "      <td>float64</td>\n",
       "      <td>207</td>\n",
       "      <td>0</td>\n",
       "      <td>1</td>\n",
       "      <td>0.48</td>\n",
       "      <td>10.00</td>\n",
       "      <td>0.00</td>\n",
       "      <td>10.000000</td>\n",
       "      <td>10.000000</td>\n",
       "      <td>10.000000</td>\n",
       "      <td>10.000000</td>\n",
       "      <td>10.000000</td>\n",
       "    </tr>\n",
       "    <tr>\n",
       "      <th>12</th>\n",
       "      <td>overall</td>\n",
       "      <td>float64</td>\n",
       "      <td>207</td>\n",
       "      <td>0</td>\n",
       "      <td>21</td>\n",
       "      <td>10.14</td>\n",
       "      <td>7.68</td>\n",
       "      <td>0.31</td>\n",
       "      <td>6.670000</td>\n",
       "      <td>7.500000</td>\n",
       "      <td>7.670000</td>\n",
       "      <td>7.920000</td>\n",
       "      <td>8.580000</td>\n",
       "    </tr>\n",
       "    <tr>\n",
       "      <th>13</th>\n",
       "      <td>defects</td>\n",
       "      <td>float64</td>\n",
       "      <td>207</td>\n",
       "      <td>0</td>\n",
       "      <td>1</td>\n",
       "      <td>0.48</td>\n",
       "      <td>0.00</td>\n",
       "      <td>0.00</td>\n",
       "      <td>0.000000</td>\n",
       "      <td>0.000000</td>\n",
       "      <td>0.000000</td>\n",
       "      <td>0.000000</td>\n",
       "      <td>0.000000</td>\n",
       "    </tr>\n",
       "    <tr>\n",
       "      <th>14</th>\n",
       "      <td>total_cup_points</td>\n",
       "      <td>float64</td>\n",
       "      <td>207</td>\n",
       "      <td>0</td>\n",
       "      <td>81</td>\n",
       "      <td>39.13</td>\n",
       "      <td>83.71</td>\n",
       "      <td>1.73</td>\n",
       "      <td>78.000000</td>\n",
       "      <td>82.580000</td>\n",
       "      <td>83.750000</td>\n",
       "      <td>84.830000</td>\n",
       "      <td>89.330000</td>\n",
       "    </tr>\n",
       "    <tr>\n",
       "      <th>15</th>\n",
       "      <td>moisture_percentage</td>\n",
       "      <td>float64</td>\n",
       "      <td>207</td>\n",
       "      <td>0</td>\n",
       "      <td>46</td>\n",
       "      <td>22.22</td>\n",
       "      <td>10.74</td>\n",
       "      <td>1.25</td>\n",
       "      <td>0.000000</td>\n",
       "      <td>10.100000</td>\n",
       "      <td>10.800000</td>\n",
       "      <td>11.500000</td>\n",
       "      <td>13.500000</td>\n",
       "    </tr>\n",
       "    <tr>\n",
       "      <th>16</th>\n",
       "      <td>category_one_defects</td>\n",
       "      <td>int64</td>\n",
       "      <td>207</td>\n",
       "      <td>0</td>\n",
       "      <td>6</td>\n",
       "      <td>2.90</td>\n",
       "      <td>0.14</td>\n",
       "      <td>0.59</td>\n",
       "      <td>0.000000</td>\n",
       "      <td>0.000000</td>\n",
       "      <td>0.000000</td>\n",
       "      <td>0.000000</td>\n",
       "      <td>5.000000</td>\n",
       "    </tr>\n",
       "    <tr>\n",
       "      <th>17</th>\n",
       "      <td>quakers</td>\n",
       "      <td>int64</td>\n",
       "      <td>207</td>\n",
       "      <td>0</td>\n",
       "      <td>11</td>\n",
       "      <td>5.31</td>\n",
       "      <td>0.69</td>\n",
       "      <td>1.69</td>\n",
       "      <td>0.000000</td>\n",
       "      <td>0.000000</td>\n",
       "      <td>0.000000</td>\n",
       "      <td>1.000000</td>\n",
       "      <td>12.000000</td>\n",
       "    </tr>\n",
       "    <tr>\n",
       "      <th>18</th>\n",
       "      <td>category_two_defects</td>\n",
       "      <td>int64</td>\n",
       "      <td>207</td>\n",
       "      <td>0</td>\n",
       "      <td>14</td>\n",
       "      <td>6.76</td>\n",
       "      <td>2.25</td>\n",
       "      <td>2.95</td>\n",
       "      <td>0.000000</td>\n",
       "      <td>0.000000</td>\n",
       "      <td>1.000000</td>\n",
       "      <td>3.000000</td>\n",
       "      <td>16.000000</td>\n",
       "    </tr>\n",
       "    <tr>\n",
       "      <th>19</th>\n",
       "      <td>region_lat</td>\n",
       "      <td>float64</td>\n",
       "      <td>207</td>\n",
       "      <td>0</td>\n",
       "      <td>71</td>\n",
       "      <td>34.30</td>\n",
       "      <td>12.78</td>\n",
       "      <td>11.92</td>\n",
       "      <td>-38.000000</td>\n",
       "      <td>7.989062</td>\n",
       "      <td>14.554510</td>\n",
       "      <td>23.451843</td>\n",
       "      <td>25.033333</td>\n",
       "    </tr>\n",
       "    <tr>\n",
       "      <th>20</th>\n",
       "      <td>region_lon</td>\n",
       "      <td>float64</td>\n",
       "      <td>207</td>\n",
       "      <td>0</td>\n",
       "      <td>76</td>\n",
       "      <td>36.71</td>\n",
       "      <td>10.08</td>\n",
       "      <td>96.29</td>\n",
       "      <td>-155.995556</td>\n",
       "      <td>-86.925000</td>\n",
       "      <td>34.666667</td>\n",
       "      <td>120.255461</td>\n",
       "      <td>121.516667</td>\n",
       "    </tr>\n",
       "    <tr>\n",
       "      <th>21</th>\n",
       "      <td>harvest_grading_period</td>\n",
       "      <td>int64</td>\n",
       "      <td>207</td>\n",
       "      <td>0</td>\n",
       "      <td>23</td>\n",
       "      <td>11.11</td>\n",
       "      <td>17.06</td>\n",
       "      <td>7.77</td>\n",
       "      <td>2.000000</td>\n",
       "      <td>12.500000</td>\n",
       "      <td>17.000000</td>\n",
       "      <td>22.000000</td>\n",
       "      <td>70.000000</td>\n",
       "    </tr>\n",
       "    <tr>\n",
       "      <th>22</th>\n",
       "      <td>country_of_origin_code</td>\n",
       "      <td>int8</td>\n",
       "      <td>207</td>\n",
       "      <td>0</td>\n",
       "      <td>5</td>\n",
       "      <td>2.42</td>\n",
       "      <td>1.73</td>\n",
       "      <td>1.21</td>\n",
       "      <td>0.000000</td>\n",
       "      <td>1.000000</td>\n",
       "      <td>1.000000</td>\n",
       "      <td>2.000000</td>\n",
       "      <td>4.000000</td>\n",
       "    </tr>\n",
       "    <tr>\n",
       "      <th>23</th>\n",
       "      <td>company_code</td>\n",
       "      <td>int8</td>\n",
       "      <td>207</td>\n",
       "      <td>0</td>\n",
       "      <td>72</td>\n",
       "      <td>34.78</td>\n",
       "      <td>40.78</td>\n",
       "      <td>20.46</td>\n",
       "      <td>0.000000</td>\n",
       "      <td>19.500000</td>\n",
       "      <td>47.000000</td>\n",
       "      <td>57.000000</td>\n",
       "      <td>71.000000</td>\n",
       "    </tr>\n",
       "    <tr>\n",
       "      <th>24</th>\n",
       "      <td>in_country_partner_code</td>\n",
       "      <td>int8</td>\n",
       "      <td>207</td>\n",
       "      <td>0</td>\n",
       "      <td>21</td>\n",
       "      <td>10.14</td>\n",
       "      <td>12.89</td>\n",
       "      <td>6.31</td>\n",
       "      <td>0.000000</td>\n",
       "      <td>9.000000</td>\n",
       "      <td>14.000000</td>\n",
       "      <td>19.000000</td>\n",
       "      <td>20.000000</td>\n",
       "    </tr>\n",
       "    <tr>\n",
       "      <th>25</th>\n",
       "      <td>harvest_grading_period_code</td>\n",
       "      <td>int8</td>\n",
       "      <td>207</td>\n",
       "      <td>0</td>\n",
       "      <td>23</td>\n",
       "      <td>11.11</td>\n",
       "      <td>12.69</td>\n",
       "      <td>6.02</td>\n",
       "      <td>0.000000</td>\n",
       "      <td>8.500000</td>\n",
       "      <td>13.000000</td>\n",
       "      <td>18.000000</td>\n",
       "      <td>22.000000</td>\n",
       "    </tr>\n",
       "    <tr>\n",
       "      <th>26</th>\n",
       "      <td>owner_code</td>\n",
       "      <td>int8</td>\n",
       "      <td>207</td>\n",
       "      <td>0</td>\n",
       "      <td>80</td>\n",
       "      <td>38.65</td>\n",
       "      <td>40.45</td>\n",
       "      <td>22.23</td>\n",
       "      <td>0.000000</td>\n",
       "      <td>18.000000</td>\n",
       "      <td>44.000000</td>\n",
       "      <td>60.000000</td>\n",
       "      <td>79.000000</td>\n",
       "    </tr>\n",
       "    <tr>\n",
       "      <th>27</th>\n",
       "      <td>variety_code</td>\n",
       "      <td>int8</td>\n",
       "      <td>207</td>\n",
       "      <td>0</td>\n",
       "      <td>12</td>\n",
       "      <td>5.80</td>\n",
       "      <td>5.46</td>\n",
       "      <td>3.53</td>\n",
       "      <td>0.000000</td>\n",
       "      <td>3.000000</td>\n",
       "      <td>5.000000</td>\n",
       "      <td>9.000000</td>\n",
       "      <td>11.000000</td>\n",
       "    </tr>\n",
       "    <tr>\n",
       "      <th>28</th>\n",
       "      <td>processing_method_code</td>\n",
       "      <td>int8</td>\n",
       "      <td>207</td>\n",
       "      <td>0</td>\n",
       "      <td>4</td>\n",
       "      <td>1.93</td>\n",
       "      <td>2.13</td>\n",
       "      <td>1.17</td>\n",
       "      <td>0.000000</td>\n",
       "      <td>1.000000</td>\n",
       "      <td>3.000000</td>\n",
       "      <td>3.000000</td>\n",
       "      <td>3.000000</td>\n",
       "    </tr>\n",
       "    <tr>\n",
       "      <th>29</th>\n",
       "      <td>color_code</td>\n",
       "      <td>int8</td>\n",
       "      <td>207</td>\n",
       "      <td>0</td>\n",
       "      <td>5</td>\n",
       "      <td>2.42</td>\n",
       "      <td>1.85</td>\n",
       "      <td>1.02</td>\n",
       "      <td>0.000000</td>\n",
       "      <td>2.000000</td>\n",
       "      <td>2.000000</td>\n",
       "      <td>2.000000</td>\n",
       "      <td>4.000000</td>\n",
       "    </tr>\n",
       "    <tr>\n",
       "      <th>30</th>\n",
       "      <td>certification_body_code</td>\n",
       "      <td>int8</td>\n",
       "      <td>207</td>\n",
       "      <td>0</td>\n",
       "      <td>18</td>\n",
       "      <td>8.70</td>\n",
       "      <td>10.92</td>\n",
       "      <td>5.36</td>\n",
       "      <td>0.000000</td>\n",
       "      <td>7.000000</td>\n",
       "      <td>12.000000</td>\n",
       "      <td>16.000000</td>\n",
       "      <td>17.000000</td>\n",
       "    </tr>\n",
       "    <tr>\n",
       "      <th>31</th>\n",
       "      <td>certification_address_code</td>\n",
       "      <td>int8</td>\n",
       "      <td>207</td>\n",
       "      <td>0</td>\n",
       "      <td>18</td>\n",
       "      <td>8.70</td>\n",
       "      <td>11.67</td>\n",
       "      <td>5.28</td>\n",
       "      <td>0.000000</td>\n",
       "      <td>8.000000</td>\n",
       "      <td>15.000000</td>\n",
       "      <td>15.000000</td>\n",
       "      <td>17.000000</td>\n",
       "    </tr>\n",
       "    <tr>\n",
       "      <th>32</th>\n",
       "      <td>certification_contact_code</td>\n",
       "      <td>int8</td>\n",
       "      <td>207</td>\n",
       "      <td>0</td>\n",
       "      <td>18</td>\n",
       "      <td>8.70</td>\n",
       "      <td>9.35</td>\n",
       "      <td>4.68</td>\n",
       "      <td>0.000000</td>\n",
       "      <td>8.000000</td>\n",
       "      <td>9.000000</td>\n",
       "      <td>12.500000</td>\n",
       "      <td>17.000000</td>\n",
       "    </tr>\n",
       "  </tbody>\n",
       "</table>\n",
       "</div>"
      ],
      "text/plain": [
       "                         column    dtype  valid  missing  unique  unique_pct  \\\n",
       "0                      altitude  float64    207        0      77       37.20   \n",
       "1                number_of_bags    int64    207        0      54       26.09   \n",
       "2                    bag_weight  float64    207        0      36       17.39   \n",
       "3                         aroma  float64    207        0      19        9.18   \n",
       "4                        flavor  float64    207        0      19        9.18   \n",
       "5                    aftertaste  float64    207        0      20        9.66   \n",
       "6                       acidity  float64    207        0      19        9.18   \n",
       "7                          body  float64    207        0      17        8.21   \n",
       "8                       balance  float64    207        0      18        8.70   \n",
       "9                    uniformity  float64    207        0       3        1.45   \n",
       "10                    clean_cup  float64    207        0       1        0.48   \n",
       "11                    sweetness  float64    207        0       1        0.48   \n",
       "12                      overall  float64    207        0      21       10.14   \n",
       "13                      defects  float64    207        0       1        0.48   \n",
       "14             total_cup_points  float64    207        0      81       39.13   \n",
       "15          moisture_percentage  float64    207        0      46       22.22   \n",
       "16         category_one_defects    int64    207        0       6        2.90   \n",
       "17                      quakers    int64    207        0      11        5.31   \n",
       "18         category_two_defects    int64    207        0      14        6.76   \n",
       "19                   region_lat  float64    207        0      71       34.30   \n",
       "20                   region_lon  float64    207        0      76       36.71   \n",
       "21       harvest_grading_period    int64    207        0      23       11.11   \n",
       "22       country_of_origin_code     int8    207        0       5        2.42   \n",
       "23                 company_code     int8    207        0      72       34.78   \n",
       "24      in_country_partner_code     int8    207        0      21       10.14   \n",
       "25  harvest_grading_period_code     int8    207        0      23       11.11   \n",
       "26                   owner_code     int8    207        0      80       38.65   \n",
       "27                 variety_code     int8    207        0      12        5.80   \n",
       "28       processing_method_code     int8    207        0       4        1.93   \n",
       "29                   color_code     int8    207        0       5        2.42   \n",
       "30      certification_body_code     int8    207        0      18        8.70   \n",
       "31   certification_address_code     int8    207        0      18        8.70   \n",
       "32   certification_contact_code     int8    207        0      18        8.70   \n",
       "\n",
       "       mean     std         min          25%          50%          75%  \\\n",
       "0   1245.18  489.81  139.000000  1020.000000  1340.000000  1600.000000   \n",
       "1    146.62  195.43    1.000000     1.000000    14.000000   275.000000   \n",
       "2     41.39   30.89    1.000000    15.000000    30.000000    60.000000   \n",
       "3      7.72    0.29    6.500000     7.580000     7.670000     7.920000   \n",
       "4      7.74    0.28    6.750000     7.580000     7.750000     7.920000   \n",
       "5      7.60    0.28    6.670000     7.420000     7.580000     7.750000   \n",
       "6      7.69    0.26    6.830000     7.500000     7.670000     7.875000   \n",
       "7      7.64    0.23    6.830000     7.500000     7.670000     7.750000   \n",
       "8      7.64    0.26    6.670000     7.500000     7.670000     7.790000   \n",
       "9      9.99    0.10    8.670000    10.000000    10.000000    10.000000   \n",
       "10    10.00    0.00   10.000000    10.000000    10.000000    10.000000   \n",
       "11    10.00    0.00   10.000000    10.000000    10.000000    10.000000   \n",
       "12     7.68    0.31    6.670000     7.500000     7.670000     7.920000   \n",
       "13     0.00    0.00    0.000000     0.000000     0.000000     0.000000   \n",
       "14    83.71    1.73   78.000000    82.580000    83.750000    84.830000   \n",
       "15    10.74    1.25    0.000000    10.100000    10.800000    11.500000   \n",
       "16     0.14    0.59    0.000000     0.000000     0.000000     0.000000   \n",
       "17     0.69    1.69    0.000000     0.000000     0.000000     1.000000   \n",
       "18     2.25    2.95    0.000000     0.000000     1.000000     3.000000   \n",
       "19    12.78   11.92  -38.000000     7.989062    14.554510    23.451843   \n",
       "20    10.08   96.29 -155.995556   -86.925000    34.666667   120.255461   \n",
       "21    17.06    7.77    2.000000    12.500000    17.000000    22.000000   \n",
       "22     1.73    1.21    0.000000     1.000000     1.000000     2.000000   \n",
       "23    40.78   20.46    0.000000    19.500000    47.000000    57.000000   \n",
       "24    12.89    6.31    0.000000     9.000000    14.000000    19.000000   \n",
       "25    12.69    6.02    0.000000     8.500000    13.000000    18.000000   \n",
       "26    40.45   22.23    0.000000    18.000000    44.000000    60.000000   \n",
       "27     5.46    3.53    0.000000     3.000000     5.000000     9.000000   \n",
       "28     2.13    1.17    0.000000     1.000000     3.000000     3.000000   \n",
       "29     1.85    1.02    0.000000     2.000000     2.000000     2.000000   \n",
       "30    10.92    5.36    0.000000     7.000000    12.000000    16.000000   \n",
       "31    11.67    5.28    0.000000     8.000000    15.000000    15.000000   \n",
       "32     9.35    4.68    0.000000     8.000000     9.000000    12.500000   \n",
       "\n",
       "            max  \n",
       "0   2361.000000  \n",
       "1    686.000000  \n",
       "2    127.500000  \n",
       "3      8.580000  \n",
       "4      8.500000  \n",
       "5      8.420000  \n",
       "6      8.580000  \n",
       "7      8.250000  \n",
       "8      8.420000  \n",
       "9     10.000000  \n",
       "10    10.000000  \n",
       "11    10.000000  \n",
       "12     8.580000  \n",
       "13     0.000000  \n",
       "14    89.330000  \n",
       "15    13.500000  \n",
       "16     5.000000  \n",
       "17    12.000000  \n",
       "18    16.000000  \n",
       "19    25.033333  \n",
       "20   121.516667  \n",
       "21    70.000000  \n",
       "22     4.000000  \n",
       "23    71.000000  \n",
       "24    20.000000  \n",
       "25    22.000000  \n",
       "26    79.000000  \n",
       "27    11.000000  \n",
       "28     3.000000  \n",
       "29     4.000000  \n",
       "30    17.000000  \n",
       "31    17.000000  \n",
       "32    17.000000  "
      ]
     },
     "execution_count": 90,
     "metadata": {},
     "output_type": "execute_result"
    }
   ],
   "source": [
    "features_nummeric, _ = get_info(df)\n",
    "features_nummeric"
   ]
  },
  {
   "cell_type": "code",
   "execution_count": 91,
   "metadata": {},
   "outputs": [
    {
     "data": {
      "text/plain": [
       "['altitude',\n",
       " 'number_of_bags',\n",
       " 'bag_weight',\n",
       " 'aroma',\n",
       " 'flavor',\n",
       " 'aftertaste',\n",
       " 'acidity',\n",
       " 'body',\n",
       " 'balance',\n",
       " 'uniformity',\n",
       " 'clean_cup',\n",
       " 'sweetness',\n",
       " 'overall',\n",
       " 'defects',\n",
       " 'total_cup_points',\n",
       " 'moisture_percentage',\n",
       " 'category_one_defects',\n",
       " 'quakers',\n",
       " 'category_two_defects',\n",
       " 'region_lat',\n",
       " 'region_lon',\n",
       " 'harvest_grading_period',\n",
       " 'country_of_origin_code',\n",
       " 'company_code',\n",
       " 'in_country_partner_code',\n",
       " 'harvest_grading_period_code',\n",
       " 'owner_code',\n",
       " 'variety_code',\n",
       " 'processing_method_code',\n",
       " 'color_code',\n",
       " 'certification_body_code',\n",
       " 'certification_address_code',\n",
       " 'certification_contact_code']"
      ]
     },
     "execution_count": 91,
     "metadata": {},
     "output_type": "execute_result"
    }
   ],
   "source": [
    "list(features_nummeric['column'].values)"
   ]
  },
  {
   "cell_type": "code",
   "execution_count": 92,
   "metadata": {},
   "outputs": [
    {
     "data": {
      "text/html": [
       "<div>\n",
       "<style scoped>\n",
       "    .dataframe tbody tr th:only-of-type {\n",
       "        vertical-align: middle;\n",
       "    }\n",
       "\n",
       "    .dataframe tbody tr th {\n",
       "        vertical-align: top;\n",
       "    }\n",
       "\n",
       "    .dataframe thead th {\n",
       "        text-align: right;\n",
       "    }\n",
       "</style>\n",
       "<table border=\"1\" class=\"dataframe\">\n",
       "  <thead>\n",
       "    <tr style=\"text-align: right;\">\n",
       "      <th></th>\n",
       "      <th>altitude</th>\n",
       "      <th>number_of_bags</th>\n",
       "      <th>bag_weight</th>\n",
       "      <th>aroma</th>\n",
       "      <th>flavor</th>\n",
       "      <th>aftertaste</th>\n",
       "      <th>acidity</th>\n",
       "      <th>body</th>\n",
       "      <th>balance</th>\n",
       "      <th>uniformity</th>\n",
       "      <th>overall</th>\n",
       "      <th>total_cup_points</th>\n",
       "      <th>moisture_percentage</th>\n",
       "      <th>category_one_defects</th>\n",
       "      <th>quakers</th>\n",
       "      <th>category_two_defects</th>\n",
       "      <th>region_lat</th>\n",
       "      <th>region_lon</th>\n",
       "      <th>harvest_grading_period</th>\n",
       "      <th>country_of_origin_code</th>\n",
       "      <th>company_code</th>\n",
       "      <th>in_country_partner_code</th>\n",
       "      <th>harvest_grading_period_code</th>\n",
       "      <th>owner_code</th>\n",
       "      <th>variety_code</th>\n",
       "      <th>processing_method_code</th>\n",
       "      <th>color_code</th>\n",
       "      <th>certification_body_code</th>\n",
       "      <th>certification_address_code</th>\n",
       "      <th>certification_contact_code</th>\n",
       "    </tr>\n",
       "  </thead>\n",
       "  <tbody>\n",
       "    <tr>\n",
       "      <th>0</th>\n",
       "      <td>1815.0</td>\n",
       "      <td>1</td>\n",
       "      <td>35.0</td>\n",
       "      <td>8.58</td>\n",
       "      <td>8.50</td>\n",
       "      <td>8.42</td>\n",
       "      <td>8.58</td>\n",
       "      <td>8.25</td>\n",
       "      <td>8.42</td>\n",
       "      <td>10.0</td>\n",
       "      <td>8.58</td>\n",
       "      <td>89.33</td>\n",
       "      <td>11.8</td>\n",
       "      <td>0</td>\n",
       "      <td>0</td>\n",
       "      <td>3</td>\n",
       "      <td>2.636706</td>\n",
       "      <td>-76.506149</td>\n",
       "      <td>20</td>\n",
       "      <td>4</td>\n",
       "      <td>12</td>\n",
       "      <td>10</td>\n",
       "      <td>16</td>\n",
       "      <td>13</td>\n",
       "      <td>1</td>\n",
       "      <td>2</td>\n",
       "      <td>2</td>\n",
       "      <td>8</td>\n",
       "      <td>17</td>\n",
       "      <td>17</td>\n",
       "    </tr>\n",
       "    <tr>\n",
       "      <th>1</th>\n",
       "      <td>1200.0</td>\n",
       "      <td>1</td>\n",
       "      <td>80.0</td>\n",
       "      <td>8.50</td>\n",
       "      <td>8.50</td>\n",
       "      <td>7.92</td>\n",
       "      <td>8.00</td>\n",
       "      <td>7.92</td>\n",
       "      <td>8.25</td>\n",
       "      <td>10.0</td>\n",
       "      <td>8.50</td>\n",
       "      <td>87.58</td>\n",
       "      <td>10.5</td>\n",
       "      <td>0</td>\n",
       "      <td>0</td>\n",
       "      <td>0</td>\n",
       "      <td>23.451843</td>\n",
       "      <td>120.255461</td>\n",
       "      <td>22</td>\n",
       "      <td>1</td>\n",
       "      <td>57</td>\n",
       "      <td>19</td>\n",
       "      <td>18</td>\n",
       "      <td>59</td>\n",
       "      <td>5</td>\n",
       "      <td>3</td>\n",
       "      <td>0</td>\n",
       "      <td>16</td>\n",
       "      <td>15</td>\n",
       "      <td>9</td>\n",
       "    </tr>\n",
       "    <tr>\n",
       "      <th>2</th>\n",
       "      <td>1300.0</td>\n",
       "      <td>19</td>\n",
       "      <td>25.0</td>\n",
       "      <td>8.33</td>\n",
       "      <td>8.42</td>\n",
       "      <td>8.08</td>\n",
       "      <td>8.17</td>\n",
       "      <td>7.92</td>\n",
       "      <td>8.17</td>\n",
       "      <td>10.0</td>\n",
       "      <td>8.33</td>\n",
       "      <td>87.42</td>\n",
       "      <td>10.4</td>\n",
       "      <td>0</td>\n",
       "      <td>0</td>\n",
       "      <td>2</td>\n",
       "      <td>15.000000</td>\n",
       "      <td>106.000000</td>\n",
       "      <td>22</td>\n",
       "      <td>1</td>\n",
       "      <td>57</td>\n",
       "      <td>19</td>\n",
       "      <td>18</td>\n",
       "      <td>59</td>\n",
       "      <td>9</td>\n",
       "      <td>2</td>\n",
       "      <td>3</td>\n",
       "      <td>16</td>\n",
       "      <td>15</td>\n",
       "      <td>9</td>\n",
       "    </tr>\n",
       "    <tr>\n",
       "      <th>3</th>\n",
       "      <td>1900.0</td>\n",
       "      <td>1</td>\n",
       "      <td>22.0</td>\n",
       "      <td>8.08</td>\n",
       "      <td>8.17</td>\n",
       "      <td>8.17</td>\n",
       "      <td>8.25</td>\n",
       "      <td>8.17</td>\n",
       "      <td>8.08</td>\n",
       "      <td>10.0</td>\n",
       "      <td>8.25</td>\n",
       "      <td>87.17</td>\n",
       "      <td>11.8</td>\n",
       "      <td>0</td>\n",
       "      <td>0</td>\n",
       "      <td>0</td>\n",
       "      <td>9.659650</td>\n",
       "      <td>-84.021380</td>\n",
       "      <td>8</td>\n",
       "      <td>2</td>\n",
       "      <td>12</td>\n",
       "      <td>10</td>\n",
       "      <td>4</td>\n",
       "      <td>13</td>\n",
       "      <td>5</td>\n",
       "      <td>3</td>\n",
       "      <td>2</td>\n",
       "      <td>8</td>\n",
       "      <td>17</td>\n",
       "      <td>17</td>\n",
       "    </tr>\n",
       "    <tr>\n",
       "      <th>4</th>\n",
       "      <td>1975.0</td>\n",
       "      <td>2</td>\n",
       "      <td>24.0</td>\n",
       "      <td>8.33</td>\n",
       "      <td>8.33</td>\n",
       "      <td>8.08</td>\n",
       "      <td>8.25</td>\n",
       "      <td>7.92</td>\n",
       "      <td>7.92</td>\n",
       "      <td>10.0</td>\n",
       "      <td>8.25</td>\n",
       "      <td>87.08</td>\n",
       "      <td>11.6</td>\n",
       "      <td>0</td>\n",
       "      <td>2</td>\n",
       "      <td>2</td>\n",
       "      <td>2.454170</td>\n",
       "      <td>-76.609170</td>\n",
       "      <td>14</td>\n",
       "      <td>4</td>\n",
       "      <td>12</td>\n",
       "      <td>10</td>\n",
       "      <td>10</td>\n",
       "      <td>13</td>\n",
       "      <td>0</td>\n",
       "      <td>0</td>\n",
       "      <td>4</td>\n",
       "      <td>8</td>\n",
       "      <td>17</td>\n",
       "      <td>17</td>\n",
       "    </tr>\n",
       "  </tbody>\n",
       "</table>\n",
       "</div>"
      ],
      "text/plain": [
       "   altitude  number_of_bags  bag_weight  aroma  flavor  aftertaste  acidity  \\\n",
       "0    1815.0               1        35.0   8.58    8.50        8.42     8.58   \n",
       "1    1200.0               1        80.0   8.50    8.50        7.92     8.00   \n",
       "2    1300.0              19        25.0   8.33    8.42        8.08     8.17   \n",
       "3    1900.0               1        22.0   8.08    8.17        8.17     8.25   \n",
       "4    1975.0               2        24.0   8.33    8.33        8.08     8.25   \n",
       "\n",
       "   body  balance  uniformity  overall  total_cup_points  moisture_percentage  \\\n",
       "0  8.25     8.42        10.0     8.58             89.33                 11.8   \n",
       "1  7.92     8.25        10.0     8.50             87.58                 10.5   \n",
       "2  7.92     8.17        10.0     8.33             87.42                 10.4   \n",
       "3  8.17     8.08        10.0     8.25             87.17                 11.8   \n",
       "4  7.92     7.92        10.0     8.25             87.08                 11.6   \n",
       "\n",
       "   category_one_defects  quakers  category_two_defects  region_lat  \\\n",
       "0                     0        0                     3    2.636706   \n",
       "1                     0        0                     0   23.451843   \n",
       "2                     0        0                     2   15.000000   \n",
       "3                     0        0                     0    9.659650   \n",
       "4                     0        2                     2    2.454170   \n",
       "\n",
       "   region_lon  harvest_grading_period  country_of_origin_code  company_code  \\\n",
       "0  -76.506149                      20                       4            12   \n",
       "1  120.255461                      22                       1            57   \n",
       "2  106.000000                      22                       1            57   \n",
       "3  -84.021380                       8                       2            12   \n",
       "4  -76.609170                      14                       4            12   \n",
       "\n",
       "   in_country_partner_code  harvest_grading_period_code  owner_code  \\\n",
       "0                       10                           16          13   \n",
       "1                       19                           18          59   \n",
       "2                       19                           18          59   \n",
       "3                       10                            4          13   \n",
       "4                       10                           10          13   \n",
       "\n",
       "   variety_code  processing_method_code  color_code  certification_body_code  \\\n",
       "0             1                       2           2                        8   \n",
       "1             5                       3           0                       16   \n",
       "2             9                       2           3                       16   \n",
       "3             5                       3           2                        8   \n",
       "4             0                       0           4                        8   \n",
       "\n",
       "   certification_address_code  certification_contact_code  \n",
       "0                          17                          17  \n",
       "1                          15                           9  \n",
       "2                          15                           9  \n",
       "3                          17                          17  \n",
       "4                          17                          17  "
      ]
     },
     "execution_count": 92,
     "metadata": {},
     "output_type": "execute_result"
    }
   ],
   "source": [
    "features_list = list(features_nummeric['column'].values)\n",
    "# pop constant 'clean_cup', 'sweetness', 'defects'\n",
    "features_list.remove('clean_cup')\n",
    "features_list.remove('sweetness')\n",
    "features_list.remove('defects')\n",
    "features_df = df[features_list]\n",
    "features_df.head()"
   ]
  },
  {
   "cell_type": "code",
   "execution_count": 93,
   "metadata": {},
   "outputs": [
    {
     "data": {
      "application/vnd.plotly.v1+json": {
       "config": {
        "plotlyServerURL": "https://plot.ly"
       },
       "data": [
        {
         "colorscale": [
          [
           0,
           "rgb(0,0,0)"
          ],
          [
           0.25,
           "rgb(230,0,0)"
          ],
          [
           0.5,
           "rgb(230,210,0)"
          ],
          [
           0.75,
           "rgb(255,255,255)"
          ],
          [
           1,
           "rgb(160,200,255)"
          ]
         ],
         "hovertemplate": "Correlation: %{text:.3f}<extra></extra>",
         "text": {
          "bdata": "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",
          "dtype": "f8",
          "shape": "30, 30"
         },
         "textfont": {
          "size": 5
         },
         "texttemplate": "%{text:.2f}",
         "type": "heatmap",
         "x": [
          "altitude",
          "number_of_bags",
          "bag_weight",
          "aroma",
          "flavor",
          "aftertaste",
          "acidity",
          "body",
          "balance",
          "uniformity",
          "overall",
          "total_cup_points",
          "moisture_percentage",
          "category_one_defects",
          "quakers",
          "category_two_defects",
          "region_lat",
          "region_lon",
          "harvest_grading_period",
          "country_of_origin_code",
          "company_code",
          "in_country_partner_code",
          "harvest_grading_period_code",
          "owner_code",
          "variety_code",
          "processing_method_code",
          "color_code",
          "certification_body_code",
          "certification_address_code",
          "certification_contact_code"
         ],
         "y": [
          "altitude",
          "number_of_bags",
          "bag_weight",
          "aroma",
          "flavor",
          "aftertaste",
          "acidity",
          "body",
          "balance",
          "uniformity",
          "overall",
          "total_cup_points",
          "moisture_percentage",
          "category_one_defects",
          "quakers",
          "category_two_defects",
          "region_lat",
          "region_lon",
          "harvest_grading_period",
          "country_of_origin_code",
          "company_code",
          "in_country_partner_code",
          "harvest_grading_period_code",
          "owner_code",
          "variety_code",
          "processing_method_code",
          "color_code",
          "certification_body_code",
          "certification_address_code",
          "certification_contact_code"
         ],
         "z": {
          "bdata": "AAAAAAAA8D+WF/cRYMHUP+WTYlMccrI/0/Bt+ikovj8GZiEr4Mu9P0I3gBkMwr0/AQWSirSoyT/9JIXaP37RPxqBn9MLccI/8TZ0lKkiqD+SFINOf3/BP6gX/BXbEMY/8981b9t7zT+F6TEAwmylPzlTIz8a+sg/wNPr/i8B0D+NDQlaicnbvxQG/x+/Rt+/MoQrLmUVzb/WtMFffNrBP5JHvUrMRdi/BaLhYqSV2r/fdicVYOrRvwGAiQQOmdS/HsazhtCV0L/JhVZNmi7TP4zhP5UIjMY/Y7IqfmPf2b+BclLHxObUv2x1AiTv3LO/lhf3EWDB1D8AAAAAAADwP1Ia3XGAdcs/pL1cutiFyr+Q7HMa9XfPv4/uQljpJtK/VH1LBulLx7+g5XQ0TYWNv/txldUu2c+/YzR1v1btsT/Mq3c3iFbNv8WJbMypcsy/QEXfVVBvuj/jNuOj6KSwPzZVainrG78/yC/qQSVJ0T+ObJFzu5bcv3zJQweMrty/lbTmR6ihur/+yaR5E2XNP2LJABT0DdG/Lum+95dZ4L9Wj1Ta0snFv5E6RoBoNsa/MdzWx9240L/bGDdz3OHRPyHMFZ79O5Q/+IbYjPxL4L9Bg/xkTxHavzXkiheufci/5ZNiUxxysj9SGt1xgHXLPwAAAAAAAPA/AW9U0gO7pT9WAhJlfxOcv2d7GGLpbUC/1Yfr9XVEVb9a1uGXucOtP70+bhu+dnu/Gegkf6Wzor+pngeVSNadP/OJ7IbvLok/FtxxNXi8sL8roigR/EWGP69VtoZJoZK/8GVNI+pMoj9Cs6zW0mm6v+RDji06y38/G6YUh2MGxD+MUwgGozOvv/dEdPexK7E/kufs/T3vsT9sKDRltTbQPwNZrLYIMGi/lLgyXPBZeL90cr+Fyty+PwfWMn36sYi/IJJllGlepz9EhWlGRhW1v5HQN/885rS/0/Bt+ikovj+kvVy62IXKvwFvVNIDu6U/AAAAAAAA8D8CXpiWM1TqP4Ir6hSDY+k/dtuyjT3Q5j/muRD7W0LkP8SVLUFZ3Oc/PgWwjpC8nL+AkNtEDqjpPxJ85yYwzus/4t28IufPY7+C3SW9xp+tvxHIe3HW8dW/HrUDhFFN0L+Wao74O27APzKyFhC/kso/n4m5Hthhtz+Xg03Dp6TJvxleb2o8RtI/OynlTv2fyT8vua7Tqi3BPyX+SjTW/7c/NWLciBCiiz//EWS/rWuXv1qUyzdV+bA/9hNRDLA+xz+fxw4MCojGPxZ0xdywmsK/BmYhK+DLvT+Q7HMa9XfPv1YCEmV/E5y/Al6YljNU6j8AAAAAAADwP9dce97WDuw/lNTwkCvz6T8zS9Vw6aznPxSIB2DUQes/c03zDFFcpL9iqSV3VhfsP7ATLcRNDe4/6nvR+t4Pqr/aDbQu/8+0v0htUA7u19O/vWtmtGUk1b+kBZS8JPbJP5B9iS8YF8w/FlC56gQktz+YPFql6LjMv/0XM6ZB+9E/zlNC6bbMwD+y2uP95nW+P8/ZZ3t3Y7o/3mT0yyIipj8tpWbuL6upvwcrCDYjMLA/Bcg/Bx3CvT/YL8sCpc6dP+somgLQpNC/QjeAGQzCvT+P7kJY6SbSv2d7GGLpbUC/givqFINj6T/XXHve1g7sPwAAAAAAAPA/Eiy7teEP6j8jmXFaOKPnP4PrMrYZles/oaTL2O1/mL/3ZYS/F7PrP8EKw7796e0/gAXe78orqr8U5hgZoqO7v45lUMFnaNO/tlbCurMq1b/jP45cZlHIP3FpptB7680/z8az2zFevz+0tql7Ox/Pv0TxjnMsSdI/t8UwNF+4yj+d+pYLehfDPzbk9bdVe7o/DeCEvJg7tT+gLzSVqzK1vxFiSNI3Y7g/vZH+PBZzxz9jUw0K31PBP4GOM+hyNs+/AQWSirSoyT9UfUsG6UvHv9WH6/V1RFW/dtuyjT3Q5j+U1PCQK/PpPxIsu7XhD+o/AAAAAAAA8D+wxTBSZHzoPxnIA5R9xOk/RB+X+zEEsL8Zy/7mDebqP1+Xhx+wtOw/2a1y2jwnkb/w1H6cUDa8v00/JFVa0Mq/pzhrDC3J0L9qmv3XV/bAP/Enb6nsQsQ/2L4zk+uBtj8MxTo9gjbPv9xcgPzAwMw/eB7xj/OvtT8gDsPYooe7P2x4kWPHJbM//jp97Lr/nT+SrwKoCmalv0CVnqaLfaM/F3/5FDI7sT/JhEVjJ7eHvyScSORyANC//SSF2j9+0T+g5XQ0TYWNv1rW4Ze5w60/5rkQ+1tC5D8zS9Vw6aznPyOZcVo4o+c/sMUwUmR86D8AAAAAAADwP/NSKPx4Heo/z9+4J5N6pr+YRh5uAbHoP0ad7XFkHOs/dk+xTcsChD9UzAnNErWoP2CetQdNetC/Bh+HE2y5yr/XwAIYy+K8P0BbiSdEo64/Vew9wWz2sT99zIW2k2vMv2WMeo5D+74/ydAcziEWpL/2x8cJQv6uP3VUupNmP6G/MQld9qwdZb+BA+bkfJFSvzeBRFvIsps/0R8J11HUpb/7SnFoWEjFv85br/ICoNi/GoGf0wtxwj/7cZXVLtnPv70+bhu+dnu/xJUtQVnc5z8UiAdg1EHrP4PrMrYZles/GcgDlH3E6T/zUij8eB3qPwAAAAAAAPA/Ybvdl+PMtr9SN4m+jU3sP+ZEAsGhvu0/p/6X7dWZsr+155smGkCkP6BNNx4wMdS/5CYKwb5V1L+8tHOkiwTNPzR8VYbjEMk/u6xGN9GcuT9HPWoa8WzRv3pG9OSC6c4/+D+Y7itrwD/Ic4RvaOW9P6+1IPL1u7M/Hgnsu6LEsD9kRZ5mkliJv/5LqLorCbE/tRsrZ1uRvT8u3jb5SWyjP2QfDS3Yq9G/8TZ0lKkiqD9jNHW/Vu2xPxnoJH+ls6K/PgWwjpC8nL9zTfMMUVykv6Gky9jtf5i/RB+X+zEEsL/P37gnk3qmv2G73ZfjzLa/AAAAAAAA8D+JNjAiFhmzv+mNkdjhIG0/Nbl00/UKoj+YpStAePyVP/xqTB59tKM/vgLxPNRbsj8mVYXc2ay1v5oS3J3+iLu/NQWPQmuZrr9zoFmitSmtP1aB/+7KErO/TMvp5DBRt78Cx3YyrDS1v7raLrjSrbe/QDkPvJcXuL+8Keb5QcqQv1J04GZFzac/c3thmvDNtr9137EhMV2uvyF0xRtf/Xw/khSDTn9/wT/Mq3c3iFbNv6meB5VI1p0/gJDbRA6o6T9iqSV3VhfsP/dlhL8Xs+s/Gcv+5g3m6j+YRh5uAbHoP1I3ib6NTew/iTYwIhYZs78AAAAAAADwPwZ6jFqZT+4/DgvW50cPvb+d7Temva62v6ixUM3Mn9O/Qwj+5on107+YJE4sqUTJP05mQeBosso/s+s6zOHIwz/yJWzrGVvRvxBdJ7v2Ks8/eOkS3jvUwz/MuZU98qHFP//RvKZw5ro/Ooxm2wlasj8HQwSj5MOTv9EHm69VaKc/FV3jn8PIwT/OxRh9MT2mP1FAjMA5Hc+/qBf8FdsQxj/FiWzMqXLMv/OJ7IbvLok/EnznJjDO6z+wEy3ETQ3uP8EKw7796e0/X5eHH7C07D9Gne1xZBzrP+ZEAsGhvu0/6Y2R2OEgbT8GeoxamU/uPwAAAAAAAPA//fYh87TLp79w1YUlncatv36wkvjmf9S/jTV2lBUa1L/mOgxZlWjHP1yLyTj5Wsk/0jy/x+xOvD9/p+G5DJjQv205eZCD0dA/wkM/WqFuwT+83gWZU9/APzUCjNbHYLQ/YH4CdctOpj8cpw8Rljmjv0WTUMW9ALE/6wQcQzttvj8CFWKR1SelP9GZ2tOLxNG/8981b9t7zT9ARd9VUG+6PxbccTV4vLC/4t28IufPY7/qe9H63g+qv4AF3u/KK6q/2a1y2jwnkb92T7FNywKEP6f+l+3VmbK/Nbl00/UKoj8OC9bnRw+9v/32IfO0y6e/AAAAAAAA8D9Ruv3dxr63P+dQNdk5x8U/eGnJEtW5wD+T4rLL6S/Tv4lXS0rnOsW/6/u8K7910L/CdsPjfHfPP+8LiFXiLMO/M75VyH9U0r/k1oKWVgLUv5RV8R65Q82/eqbEvAfzvr/QIk1iFFqrP5yRgP7VvIi/IkaPAw+R0r8rMJHAXN+Qv0MkxIdQkMM/hekxAMJspT/jNuOj6KSwPyuiKBH8RYY/gt0lvcafrb/aDbQu/8+0vxTmGBmio7u/8NR+nFA2vL9UzAnNErWoP7XnmyYaQKQ/mKUrQHj8lT+d7Temva62v3DVhSWdxq2/Ubr93ca+tz8AAAAAAADwP57XeZlqM5I/imD9u/BUxT9dl00XM02jv2NAvHKqxMi/dKJpwZ+qr78J3IIAeCvFP0VWvA+hALy/OmcR9Rfyyb91iuqFQRa+v6Tgx12hasW/suPtMv0FkT9K/JLf+jqnPwYtI2O6N7U/FMjSZXd6x7/eqWvTsU+3v8Yo2eQfu6Q/OVMjPxr6yD82VWop6xu/P69VtoZJoZK/Ech7cdbx1b9IbVAO7tfTv45lUMFnaNO/TT8kVVrQyr9gnrUHTXrQv6BNNx4wMdS//GpMHn20oz+osVDNzJ/Tv36wkvjmf9S/51A12TnHxT+e13mZajOSPwAAAAAAAPA/2Wzk/FSY3T/E7k2Jx5DAvyeJZjaUn8+/9oJUaSNDzL9B/c5MfMq9P0RByvvIWNO/dTEKfAKdxr/9MsbNmR3Rv37+ZcbJW7S/CUCsKgCWqr9Gz30qfO2Dvzl+11NpXKi/ztCDsIeOxL/3nmXCm5fHvxZNOqEJI8k/wNPr/i8B0D/IL+pBJUnRP/BlTSPqTKI/HrUDhFFN0L+9a2a0ZSTVv7ZWwrqzKtW/pzhrDC3J0L8GH4cTbLnKv+QmCsG+VdS/vgLxPNRbsj9DCP7mifXTv401dpQVGtS/eGnJEtW5wD+KYP278FTFP9ls5PxUmN0/AAAAAAAA8D829+e99hfHv7Nd42qlhdK/7IN6DapMxL/p4C5qCUa4PyqxJM4iztW/YUNkY+ys0r99H+6/9fLMvzo0Tsk3BMS/Rj2ozgrFtL/9ktR9+JnCPwf9zNmA7bc/ua6e9c6w0L/eFtH5IejIv+cHBAdy2bM/jQ0JWonJ27+ObJFzu5bcv0KzrNbSabq/lmqO+DtuwD+kBZS8JPbJP+M/jlxmUcg/apr911f2wD/XwAIYy+K8P7y0c6SLBM0/JlWF3Nmstb+YJE4sqUTJP+Y6DFmVaMc/k+Kyy+kv079dl00XM02jv8TuTYnHkMC/NvfnvfYXx78AAAAAAADwP1ZxhnU7sts/V+tb4hyq0T8MKxCI4inev8aK8qzBENY/zjc1PFOG1j+1epv6P0LVP+/EP5geAdQ/nQS4UDDj0T+cbAENey2xv1PfgXOqgKW/xJdhTKKA1j8cvbGOdhylP1ZVRxNvI7y/FAb/H79G3798yUMHjK7cv+RDji06y38/MrIWEL+Syj+QfYkvGBfMP3FpptB7680/8SdvqexCxD9AW4knRKOuPzR8VYbjEMk/mhLcnf6Iu79OZkHgaLLKP1yLyTj5Wsk/iVdLSuc6xb9jQLxyqsTIvyeJZjaUn8+/s13jaqWF0r9WcYZ1O7LbPwAAAAAAAPA/T143hy1RzD9roVCW20rlv6wAviTmW9c/n6Aa+z0L2j95AO/1vULRP2z3sCfEts8/D2ZQOC3v0T92X3p8jbbTv7mxbReKoKe/9gfvRHCv2D9xK/6tKkjRPwQ5cYVwicC/MoQrLmUVzb+VtOZHqKG6vxumFIdjBsQ/n4m5Hthhtz8WULnqBCS3P8/Gs9sxXr8/2L4zk+uBtj9V7D3BbPaxP7usRjfRnLk/NQWPQmuZrr+z6zrM4cjDP9I8v8fsTrw/6/u8K7910L90omnBn6qvv/aCVGkjQ8y/7IN6DapMxL9X61viHKrRP09eN4ctUcw/AAAAAAAA8D8CXV62ZbDGv43fQWrKLdc/IjxIopWa0j8JRBZUZHbrP4ukB4LJl8k/OHRFVA5gwz+vCKxgqBe4vwNuEtGkI6O/08/ZX87y0T8L1csDT8O4P+aoEiFbosC/1rTBX3zawT/+yaR5E2XNP4xTCAajM6+/l4NNw6ekyb+YPFql6LjMv7S2qXs7H8+/DMU6PYI2z799zIW2k2vMv0c9ahrxbNG/c6BZorUprT/yJWzrGVvRv3+n4bkMmNC/wnbD43x3zz8J3IIAeCvFP0H9zkx8yr0/6eAuaglGuD8MKxCI4inev2uhUJbbSuW/Al1etmWwxr8AAAAAAADwP7C6u4SXS8m/A3rtLNli0r9hHd88+T7Lv9WUQPnhRca/fI9JIiM8z7+0+XnbEY+3PzzHvx5sE5Y/lVdn9zB80b94GnO53wq3P9RrcLC1K9g/kke9SsxF2L9iyQAU9A3Rv/dEdPexK7E/GV5vajxG0j/9FzOmQfvRP0TxjnMsSdI/3FyA/MDAzD9ljHqOQ/u+P3pG9OSC6c4/VoH/7soSs78QXSe79irPP205eZCD0dA/7wuIVeIsw79FVrwPoQC8v0RByvvIWNO/KrEkziLO1b/GivKswRDWP6wAviTmW9c/jd9Basot1z+wuruEl0vJvwAAAAAAAPA/6EUObKjn2D887y7OhK7dP3tr3OtCNOE/gKul6uHO0T9KTEDqK0TOvzXwEul3h5y/XfibH/r71j/d9NNhvcrCP1mtPbKe49W/BaLhYqSV2r8u6b73l1ngv5Ln7P0977E/OynlTv2fyT/OU0LptszAP7fFMDRfuMo/eB7xj/OvtT/J0BzOIRakv/g/mO4ra8A/TMvp5DBRt7946RLeO9TDP8JDP1qhbsE/M75VyH9U0r86ZxH1F/LJv3UxCnwCnca/YUNkY+ys0r/ONzU8U4bWP5+gGvs9C9o/IjxIopWa0j8Deu0s2WLSv+hFDmyo59g/AAAAAAAA8D9K0zoh/UnaP5H548OhBdY/CYZS/1bt0j+Az1GPUXXRv2InYHA62a+/3hB5lfuF7z8WRGxcFIHePw9aNI6XI74/33YnFWDq0b9Wj1Ta0snFv2woNGW1NtA/L7mu06otwT+y2uP95nW+P536lgt6F8M/IA7D2KKHuz/2x8cJQv6uP8hzhG9o5b0/Asd2Mqw0tb/MuZU98qHFP7zeBZlT38A/5NaCllYC1L91iuqFQRa+v/0yxs2ZHdG/fR/uv/XyzL+1epv6P0LVP3kA7/W9QtE/CUQWVGR26z9hHd88+T7LvzzvLs6Ert0/StM6If1J2j8AAAAAAADwP7aAju7IEdI/gfL3LRNdyz9fP+WsJXPGv88p4Q4/EmQ/TiDrUTkk2T+B4nzfkhDFPwy7pqNfrsO/AYCJBA6Z1L+ROkaAaDbGvwNZrLYIMGi/Jf5KNNb/tz/P2Wd7d2O6Pzbk9bdVe7o/bHiRY8clsz91VLqTZj+hv6+1IPL1u7M/utouuNKtt7//0bymcOa6PzUCjNbHYLQ/lFXxHrlDzb+k4MddoWrFv37+ZcbJW7S/OjROyTcExL/vxD+YHgHUP2z3sCfEts8/i6QHgsmXyT/VlED54UXGv3tr3OtCNOE/kfnjw6EF1j+2gI7uyBHSPwAAAAAAAPA/2B6N8RiE0z/+90HDxua6v1HW/BxVmq6/pR41SGZe1j/hdo7TRkpyv5fC7cxJF9S/HsazhtCV0L8x3NbH3bjQv5S4MlzwWXi/NWLciBCiiz/eZPTLIiKmPw3ghLyYO7U//jp97Lr/nT8xCV32rB1lvx4J7LuixLA/QDkPvJcXuL86jGbbCVqyP2B+AnXLTqY/eqbEvAfzvr+y4+0y/QWRPwlArCoAlqq/Rj2ozgrFtL+dBLhQMOPRPw9mUDgt79E/OHRFVA5gwz98j0kiIzzPv4CrperhztE/CYZS/1bt0j+B8vctE13LP9gejfEYhNM/AAAAAAAA8D9iuXUzgvzAv1H9pztyjKY/JXPrCMv70T9EGq2l58XGP7A+IikKbLi/yYVWTZou0z/bGDdz3OHRP3Ryv4XK3L4//xFkv61rl78tpWbuL6upv6AvNJWrMrW/kq8CqApmpb+BA+bkfJFSv2RFnmaSWIm/vCnm+UHKkL8HQwSj5MOTvxynDxGWOaO/0CJNYhRaqz9K/JLf+jqnP0bPfSp87YO//ZLUffiZwj+cbAENey2xv3ZfenyNttO/rwisYKgXuL+0+XnbEY+3P0pMQOorRM6/gM9Rj1F10b9fP+WsJXPGv/73QcPG5rq/Yrl1M4L8wL8AAAAAAADwP1bOk4wS+bq/havb/LQt0b9KYjHz/1XJv40LxDXaSqG/jOE/lQiMxj8hzBWe/TuUPwfWMn36sYi/WpTLN1X5sD8HKwg2IzCwPxFiSNI3Y7g/QJWepot9oz83gURbyLKbP/5LqLorCbE/UnTgZkXNpz/RB5uvVWinP0WTUMW9ALE/nJGA/tW8iL8GLSNjuje1Pzl+11NpXKi/B/3M2YDttz9T34FzqoClv7mxbReKoKe/A24S0aQjo788x78ebBOWPzXwEul3h5y/YidgcDrZr7/PKeEOPxJkP1HW/BxVmq6/Uf2nO3KMpj9WzpOMEvm6vwAAAAAAAPA/OENh6GVos7+Zceq1fY+Yv8Cp5a68fsG/Y7IqfmPf2b/4htiM/EvgvyCSZZRpXqc/9hNRDLA+xz8FyD8HHcK9P72R/jwWc8c/F3/5FDI7sT/RHwnXUdSlv7UbK2dbkb0/c3thmvDNtr8VXeOfw8jBP+sEHEM7bb4/IkaPAw+R0r8UyNJld3rHv87Qg7CHjsS/ua6e9c6w0L/El2FMooDWP/YH70Rwr9g/08/ZX87y0T+VV2f3MHzRv134mx/6+9Y/3hB5lfuF7z9OIOtROSTZP6UeNUhmXtY/JXPrCMv70T+Fq9v8tC3RvzhDYehlaLO/AAAAAAAA8D/nBVBZFoPbP1Y7AN5jH7w/gXJSx8Tm1L9Bg/xkTxHav0SFaUZGFbW/n8cODAqIxj/YL8sCpc6dP2NTDQrfU8E/yYRFYye3h7/7SnFoWEjFvy7eNvlJbKM/dd+xITFdrr/OxRh9MT2mPwIVYpHVJ6U/KzCRwFzfkL/eqWvTsU+3v/eeZcKbl8e/3hbR+SHoyL8cvbGOdhylP3Er/q0qSNE/C9XLA0/DuD94GnO53wq3P93002G9ysI/FkRsXBSB3j+B4nzfkhDFP+F2jtNGSnK/RBqtpefFxj9KYjHz/1XJv5lx6rV9j5i/5wVQWRaD2z8AAAAAAADwP/tXaJVLV98/bHUCJO/cs7815IoXrn3Iv5HQN/885rS/FnTF3LCawr/rKJoC0KTQv4GOM+hyNs+/JJxI5HIA0L/OW6/yAqDYv2QfDS3Yq9G/IXTFG1/9fD9RQIzAOR3Pv9GZ2tOLxNG/QyTEh1CQwz/GKNnkH7ukPxZNOqEJI8k/5wcEB3LZsz9WVUcTbyO8vwQ5cYVwicC/5qgSIVuiwL/Ua3CwtSvYP1mtPbKe49W/D1o0jpcjvj8Mu6ajX67Dv5fC7cxJF9S/sD4iKQpsuL+NC8Q12kqhv8Cp5a68fsG/VjsA3mMfvD/7V2iVS1ffPwAAAAAAAPA/",
          "dtype": "f8",
          "shape": "30, 30"
         }
        }
       ],
       "layout": {
        "height": 800,
        "template": {
         "data": {
          "bar": [
           {
            "error_x": {
             "color": "#2a3f5f"
            },
            "error_y": {
             "color": "#2a3f5f"
            },
            "marker": {
             "line": {
              "color": "#E5ECF6",
              "width": 0.5
             },
             "pattern": {
              "fillmode": "overlay",
              "size": 10,
              "solidity": 0.2
             }
            },
            "type": "bar"
           }
          ],
          "barpolar": [
           {
            "marker": {
             "line": {
              "color": "#E5ECF6",
              "width": 0.5
             },
             "pattern": {
              "fillmode": "overlay",
              "size": 10,
              "solidity": 0.2
             }
            },
            "type": "barpolar"
           }
          ],
          "carpet": [
           {
            "aaxis": {
             "endlinecolor": "#2a3f5f",
             "gridcolor": "white",
             "linecolor": "white",
             "minorgridcolor": "white",
             "startlinecolor": "#2a3f5f"
            },
            "baxis": {
             "endlinecolor": "#2a3f5f",
             "gridcolor": "white",
             "linecolor": "white",
             "minorgridcolor": "white",
             "startlinecolor": "#2a3f5f"
            },
            "type": "carpet"
           }
          ],
          "choropleth": [
           {
            "colorbar": {
             "outlinewidth": 0,
             "ticks": ""
            },
            "type": "choropleth"
           }
          ],
          "contour": [
           {
            "colorbar": {
             "outlinewidth": 0,
             "ticks": ""
            },
            "colorscale": [
             [
              0,
              "#0d0887"
             ],
             [
              0.1111111111111111,
              "#46039f"
             ],
             [
              0.2222222222222222,
              "#7201a8"
             ],
             [
              0.3333333333333333,
              "#9c179e"
             ],
             [
              0.4444444444444444,
              "#bd3786"
             ],
             [
              0.5555555555555556,
              "#d8576b"
             ],
             [
              0.6666666666666666,
              "#ed7953"
             ],
             [
              0.7777777777777778,
              "#fb9f3a"
             ],
             [
              0.8888888888888888,
              "#fdca26"
             ],
             [
              1,
              "#f0f921"
             ]
            ],
            "type": "contour"
           }
          ],
          "contourcarpet": [
           {
            "colorbar": {
             "outlinewidth": 0,
             "ticks": ""
            },
            "type": "contourcarpet"
           }
          ],
          "heatmap": [
           {
            "colorbar": {
             "outlinewidth": 0,
             "ticks": ""
            },
            "colorscale": [
             [
              0,
              "#0d0887"
             ],
             [
              0.1111111111111111,
              "#46039f"
             ],
             [
              0.2222222222222222,
              "#7201a8"
             ],
             [
              0.3333333333333333,
              "#9c179e"
             ],
             [
              0.4444444444444444,
              "#bd3786"
             ],
             [
              0.5555555555555556,
              "#d8576b"
             ],
             [
              0.6666666666666666,
              "#ed7953"
             ],
             [
              0.7777777777777778,
              "#fb9f3a"
             ],
             [
              0.8888888888888888,
              "#fdca26"
             ],
             [
              1,
              "#f0f921"
             ]
            ],
            "type": "heatmap"
           }
          ],
          "histogram": [
           {
            "marker": {
             "pattern": {
              "fillmode": "overlay",
              "size": 10,
              "solidity": 0.2
             }
            },
            "type": "histogram"
           }
          ],
          "histogram2d": [
           {
            "colorbar": {
             "outlinewidth": 0,
             "ticks": ""
            },
            "colorscale": [
             [
              0,
              "#0d0887"
             ],
             [
              0.1111111111111111,
              "#46039f"
             ],
             [
              0.2222222222222222,
              "#7201a8"
             ],
             [
              0.3333333333333333,
              "#9c179e"
             ],
             [
              0.4444444444444444,
              "#bd3786"
             ],
             [
              0.5555555555555556,
              "#d8576b"
             ],
             [
              0.6666666666666666,
              "#ed7953"
             ],
             [
              0.7777777777777778,
              "#fb9f3a"
             ],
             [
              0.8888888888888888,
              "#fdca26"
             ],
             [
              1,
              "#f0f921"
             ]
            ],
            "type": "histogram2d"
           }
          ],
          "histogram2dcontour": [
           {
            "colorbar": {
             "outlinewidth": 0,
             "ticks": ""
            },
            "colorscale": [
             [
              0,
              "#0d0887"
             ],
             [
              0.1111111111111111,
              "#46039f"
             ],
             [
              0.2222222222222222,
              "#7201a8"
             ],
             [
              0.3333333333333333,
              "#9c179e"
             ],
             [
              0.4444444444444444,
              "#bd3786"
             ],
             [
              0.5555555555555556,
              "#d8576b"
             ],
             [
              0.6666666666666666,
              "#ed7953"
             ],
             [
              0.7777777777777778,
              "#fb9f3a"
             ],
             [
              0.8888888888888888,
              "#fdca26"
             ],
             [
              1,
              "#f0f921"
             ]
            ],
            "type": "histogram2dcontour"
           }
          ],
          "mesh3d": [
           {
            "colorbar": {
             "outlinewidth": 0,
             "ticks": ""
            },
            "type": "mesh3d"
           }
          ],
          "parcoords": [
           {
            "line": {
             "colorbar": {
              "outlinewidth": 0,
              "ticks": ""
             }
            },
            "type": "parcoords"
           }
          ],
          "pie": [
           {
            "automargin": true,
            "type": "pie"
           }
          ],
          "scatter": [
           {
            "fillpattern": {
             "fillmode": "overlay",
             "size": 10,
             "solidity": 0.2
            },
            "type": "scatter"
           }
          ],
          "scatter3d": [
           {
            "line": {
             "colorbar": {
              "outlinewidth": 0,
              "ticks": ""
             }
            },
            "marker": {
             "colorbar": {
              "outlinewidth": 0,
              "ticks": ""
             }
            },
            "type": "scatter3d"
           }
          ],
          "scattercarpet": [
           {
            "marker": {
             "colorbar": {
              "outlinewidth": 0,
              "ticks": ""
             }
            },
            "type": "scattercarpet"
           }
          ],
          "scattergeo": [
           {
            "marker": {
             "colorbar": {
              "outlinewidth": 0,
              "ticks": ""
             }
            },
            "type": "scattergeo"
           }
          ],
          "scattergl": [
           {
            "marker": {
             "colorbar": {
              "outlinewidth": 0,
              "ticks": ""
             }
            },
            "type": "scattergl"
           }
          ],
          "scattermap": [
           {
            "marker": {
             "colorbar": {
              "outlinewidth": 0,
              "ticks": ""
             }
            },
            "type": "scattermap"
           }
          ],
          "scattermapbox": [
           {
            "marker": {
             "colorbar": {
              "outlinewidth": 0,
              "ticks": ""
             }
            },
            "type": "scattermapbox"
           }
          ],
          "scatterpolar": [
           {
            "marker": {
             "colorbar": {
              "outlinewidth": 0,
              "ticks": ""
             }
            },
            "type": "scatterpolar"
           }
          ],
          "scatterpolargl": [
           {
            "marker": {
             "colorbar": {
              "outlinewidth": 0,
              "ticks": ""
             }
            },
            "type": "scatterpolargl"
           }
          ],
          "scatterternary": [
           {
            "marker": {
             "colorbar": {
              "outlinewidth": 0,
              "ticks": ""
             }
            },
            "type": "scatterternary"
           }
          ],
          "surface": [
           {
            "colorbar": {
             "outlinewidth": 0,
             "ticks": ""
            },
            "colorscale": [
             [
              0,
              "#0d0887"
             ],
             [
              0.1111111111111111,
              "#46039f"
             ],
             [
              0.2222222222222222,
              "#7201a8"
             ],
             [
              0.3333333333333333,
              "#9c179e"
             ],
             [
              0.4444444444444444,
              "#bd3786"
             ],
             [
              0.5555555555555556,
              "#d8576b"
             ],
             [
              0.6666666666666666,
              "#ed7953"
             ],
             [
              0.7777777777777778,
              "#fb9f3a"
             ],
             [
              0.8888888888888888,
              "#fdca26"
             ],
             [
              1,
              "#f0f921"
             ]
            ],
            "type": "surface"
           }
          ],
          "table": [
           {
            "cells": {
             "fill": {
              "color": "#EBF0F8"
             },
             "line": {
              "color": "white"
             }
            },
            "header": {
             "fill": {
              "color": "#C8D4E3"
             },
             "line": {
              "color": "white"
             }
            },
            "type": "table"
           }
          ]
         },
         "layout": {
          "annotationdefaults": {
           "arrowcolor": "#2a3f5f",
           "arrowhead": 0,
           "arrowwidth": 1
          },
          "autotypenumbers": "strict",
          "coloraxis": {
           "colorbar": {
            "outlinewidth": 0,
            "ticks": ""
           }
          },
          "colorscale": {
           "diverging": [
            [
             0,
             "#8e0152"
            ],
            [
             0.1,
             "#c51b7d"
            ],
            [
             0.2,
             "#de77ae"
            ],
            [
             0.3,
             "#f1b6da"
            ],
            [
             0.4,
             "#fde0ef"
            ],
            [
             0.5,
             "#f7f7f7"
            ],
            [
             0.6,
             "#e6f5d0"
            ],
            [
             0.7,
             "#b8e186"
            ],
            [
             0.8,
             "#7fbc41"
            ],
            [
             0.9,
             "#4d9221"
            ],
            [
             1,
             "#276419"
            ]
           ],
           "sequential": [
            [
             0,
             "#0d0887"
            ],
            [
             0.1111111111111111,
             "#46039f"
            ],
            [
             0.2222222222222222,
             "#7201a8"
            ],
            [
             0.3333333333333333,
             "#9c179e"
            ],
            [
             0.4444444444444444,
             "#bd3786"
            ],
            [
             0.5555555555555556,
             "#d8576b"
            ],
            [
             0.6666666666666666,
             "#ed7953"
            ],
            [
             0.7777777777777778,
             "#fb9f3a"
            ],
            [
             0.8888888888888888,
             "#fdca26"
            ],
            [
             1,
             "#f0f921"
            ]
           ],
           "sequentialminus": [
            [
             0,
             "#0d0887"
            ],
            [
             0.1111111111111111,
             "#46039f"
            ],
            [
             0.2222222222222222,
             "#7201a8"
            ],
            [
             0.3333333333333333,
             "#9c179e"
            ],
            [
             0.4444444444444444,
             "#bd3786"
            ],
            [
             0.5555555555555556,
             "#d8576b"
            ],
            [
             0.6666666666666666,
             "#ed7953"
            ],
            [
             0.7777777777777778,
             "#fb9f3a"
            ],
            [
             0.8888888888888888,
             "#fdca26"
            ],
            [
             1,
             "#f0f921"
            ]
           ]
          },
          "colorway": [
           "#636efa",
           "#EF553B",
           "#00cc96",
           "#ab63fa",
           "#FFA15A",
           "#19d3f3",
           "#FF6692",
           "#B6E880",
           "#FF97FF",
           "#FECB52"
          ],
          "font": {
           "color": "#2a3f5f"
          },
          "geo": {
           "bgcolor": "white",
           "lakecolor": "white",
           "landcolor": "#E5ECF6",
           "showlakes": true,
           "showland": true,
           "subunitcolor": "white"
          },
          "hoverlabel": {
           "align": "left"
          },
          "hovermode": "closest",
          "mapbox": {
           "style": "light"
          },
          "paper_bgcolor": "white",
          "plot_bgcolor": "#E5ECF6",
          "polar": {
           "angularaxis": {
            "gridcolor": "white",
            "linecolor": "white",
            "ticks": ""
           },
           "bgcolor": "#E5ECF6",
           "radialaxis": {
            "gridcolor": "white",
            "linecolor": "white",
            "ticks": ""
           }
          },
          "scene": {
           "xaxis": {
            "backgroundcolor": "#E5ECF6",
            "gridcolor": "white",
            "gridwidth": 2,
            "linecolor": "white",
            "showbackground": true,
            "ticks": "",
            "zerolinecolor": "white"
           },
           "yaxis": {
            "backgroundcolor": "#E5ECF6",
            "gridcolor": "white",
            "gridwidth": 2,
            "linecolor": "white",
            "showbackground": true,
            "ticks": "",
            "zerolinecolor": "white"
           },
           "zaxis": {
            "backgroundcolor": "#E5ECF6",
            "gridcolor": "white",
            "gridwidth": 2,
            "linecolor": "white",
            "showbackground": true,
            "ticks": "",
            "zerolinecolor": "white"
           }
          },
          "shapedefaults": {
           "line": {
            "color": "#2a3f5f"
           }
          },
          "ternary": {
           "aaxis": {
            "gridcolor": "white",
            "linecolor": "white",
            "ticks": ""
           },
           "baxis": {
            "gridcolor": "white",
            "linecolor": "white",
            "ticks": ""
           },
           "bgcolor": "#E5ECF6",
           "caxis": {
            "gridcolor": "white",
            "linecolor": "white",
            "ticks": ""
           }
          },
          "title": {
           "x": 0.05
          },
          "xaxis": {
           "automargin": true,
           "gridcolor": "white",
           "linecolor": "white",
           "ticks": "",
           "title": {
            "standoff": 15
           },
           "zerolinecolor": "white",
           "zerolinewidth": 2
          },
          "yaxis": {
           "automargin": true,
           "gridcolor": "white",
           "linecolor": "white",
           "ticks": "",
           "title": {
            "standoff": 15
           },
           "zerolinecolor": "white",
           "zerolinewidth": 2
          }
         }
        },
        "title": {
         "text": "Correlation Matrix"
        },
        "width": 800
       }
      }
     },
     "metadata": {},
     "output_type": "display_data"
    }
   ],
   "source": [
    "# correlation matrix\n",
    "correlation = features_df.corr()\n",
    "fig = go.Figure(data=go.Heatmap(\n",
    "        z=correlation,\n",
    "        x=correlation.columns,\n",
    "        y=correlation.columns,\n",
    "        colorscale='Blackbody',\n",
    "        text=correlation.values,  # The values to display\n",
    "        texttemplate=\"%{text:.2f}\",  # Format to 2 decimal places\n",
    "        textfont={\"size\":5},\n",
    "        hovertemplate='Correlation: %{text:.3f}<extra></extra>'))\n",
    "fig.update_layout(title='Correlation Matrix', width=800, height=800)\n",
    "fig.show()"
   ]
  },
  {
   "cell_type": "code",
   "execution_count": 94,
   "metadata": {},
   "outputs": [
    {
     "data": {
      "application/vnd.plotly.v1+json": {
       "config": {
        "plotlyServerURL": "https://plot.ly"
       },
       "data": [
        {
         "colorscale": [
          [
           0,
           "rgb(0,0,0)"
          ],
          [
           0.25,
           "rgb(230,0,0)"
          ],
          [
           0.5,
           "rgb(230,210,0)"
          ],
          [
           0.75,
           "rgb(255,255,255)"
          ],
          [
           1,
           "rgb(160,200,255)"
          ]
         ],
         "hovertemplate": "Correlation: %{text:.3f}<extra></extra>",
         "text": {
          "bdata": "qBf8FdsQxj/FiWzMqXLMv/OJ7IbvLok/EnznJjDO6z+wEy3ETQ3uP8EKw7796e0/X5eHH7C07D9Gne1xZBzrP+ZEAsGhvu0/6Y2R2OEgbT8GeoxamU/uPwAAAAAAAPA//fYh87TLp79w1YUlncatv36wkvjmf9S/jTV2lBUa1L/mOgxZlWjHP1yLyTj5Wsk/0jy/x+xOvD9/p+G5DJjQv205eZCD0dA/wkM/WqFuwT+83gWZU9/APzUCjNbHYLQ/YH4CdctOpj8cpw8Rljmjv0WTUMW9ALE/6wQcQzttvj8CFWKR1SelP9GZ2tOLxNG/",
          "dtype": "f8",
          "shape": "30, 1"
         },
         "textfont": {
          "size": 10
         },
         "texttemplate": "%{text:.2f}",
         "type": "heatmap",
         "x": [
          "total_cup_points"
         ],
         "y": [
          "altitude",
          "number_of_bags",
          "bag_weight",
          "aroma",
          "flavor",
          "aftertaste",
          "acidity",
          "body",
          "balance",
          "uniformity",
          "overall",
          "total_cup_points",
          "moisture_percentage",
          "category_one_defects",
          "quakers",
          "category_two_defects",
          "region_lat",
          "region_lon",
          "harvest_grading_period",
          "country_of_origin_code",
          "company_code",
          "in_country_partner_code",
          "harvest_grading_period_code",
          "owner_code",
          "variety_code",
          "processing_method_code",
          "color_code",
          "certification_body_code",
          "certification_address_code",
          "certification_contact_code"
         ],
         "z": {
          "bdata": "qBf8FdsQxj/FiWzMqXLMv/OJ7IbvLok/EnznJjDO6z+wEy3ETQ3uP8EKw7796e0/X5eHH7C07D9Gne1xZBzrP+ZEAsGhvu0/6Y2R2OEgbT8GeoxamU/uPwAAAAAAAPA//fYh87TLp79w1YUlncatv36wkvjmf9S/jTV2lBUa1L/mOgxZlWjHP1yLyTj5Wsk/0jy/x+xOvD9/p+G5DJjQv205eZCD0dA/wkM/WqFuwT+83gWZU9/APzUCjNbHYLQ/YH4CdctOpj8cpw8Rljmjv0WTUMW9ALE/6wQcQzttvj8CFWKR1SelP9GZ2tOLxNG/",
          "dtype": "f8",
          "shape": "30, 1"
         }
        }
       ],
       "layout": {
        "height": 800,
        "template": {
         "data": {
          "bar": [
           {
            "error_x": {
             "color": "#2a3f5f"
            },
            "error_y": {
             "color": "#2a3f5f"
            },
            "marker": {
             "line": {
              "color": "#E5ECF6",
              "width": 0.5
             },
             "pattern": {
              "fillmode": "overlay",
              "size": 10,
              "solidity": 0.2
             }
            },
            "type": "bar"
           }
          ],
          "barpolar": [
           {
            "marker": {
             "line": {
              "color": "#E5ECF6",
              "width": 0.5
             },
             "pattern": {
              "fillmode": "overlay",
              "size": 10,
              "solidity": 0.2
             }
            },
            "type": "barpolar"
           }
          ],
          "carpet": [
           {
            "aaxis": {
             "endlinecolor": "#2a3f5f",
             "gridcolor": "white",
             "linecolor": "white",
             "minorgridcolor": "white",
             "startlinecolor": "#2a3f5f"
            },
            "baxis": {
             "endlinecolor": "#2a3f5f",
             "gridcolor": "white",
             "linecolor": "white",
             "minorgridcolor": "white",
             "startlinecolor": "#2a3f5f"
            },
            "type": "carpet"
           }
          ],
          "choropleth": [
           {
            "colorbar": {
             "outlinewidth": 0,
             "ticks": ""
            },
            "type": "choropleth"
           }
          ],
          "contour": [
           {
            "colorbar": {
             "outlinewidth": 0,
             "ticks": ""
            },
            "colorscale": [
             [
              0,
              "#0d0887"
             ],
             [
              0.1111111111111111,
              "#46039f"
             ],
             [
              0.2222222222222222,
              "#7201a8"
             ],
             [
              0.3333333333333333,
              "#9c179e"
             ],
             [
              0.4444444444444444,
              "#bd3786"
             ],
             [
              0.5555555555555556,
              "#d8576b"
             ],
             [
              0.6666666666666666,
              "#ed7953"
             ],
             [
              0.7777777777777778,
              "#fb9f3a"
             ],
             [
              0.8888888888888888,
              "#fdca26"
             ],
             [
              1,
              "#f0f921"
             ]
            ],
            "type": "contour"
           }
          ],
          "contourcarpet": [
           {
            "colorbar": {
             "outlinewidth": 0,
             "ticks": ""
            },
            "type": "contourcarpet"
           }
          ],
          "heatmap": [
           {
            "colorbar": {
             "outlinewidth": 0,
             "ticks": ""
            },
            "colorscale": [
             [
              0,
              "#0d0887"
             ],
             [
              0.1111111111111111,
              "#46039f"
             ],
             [
              0.2222222222222222,
              "#7201a8"
             ],
             [
              0.3333333333333333,
              "#9c179e"
             ],
             [
              0.4444444444444444,
              "#bd3786"
             ],
             [
              0.5555555555555556,
              "#d8576b"
             ],
             [
              0.6666666666666666,
              "#ed7953"
             ],
             [
              0.7777777777777778,
              "#fb9f3a"
             ],
             [
              0.8888888888888888,
              "#fdca26"
             ],
             [
              1,
              "#f0f921"
             ]
            ],
            "type": "heatmap"
           }
          ],
          "histogram": [
           {
            "marker": {
             "pattern": {
              "fillmode": "overlay",
              "size": 10,
              "solidity": 0.2
             }
            },
            "type": "histogram"
           }
          ],
          "histogram2d": [
           {
            "colorbar": {
             "outlinewidth": 0,
             "ticks": ""
            },
            "colorscale": [
             [
              0,
              "#0d0887"
             ],
             [
              0.1111111111111111,
              "#46039f"
             ],
             [
              0.2222222222222222,
              "#7201a8"
             ],
             [
              0.3333333333333333,
              "#9c179e"
             ],
             [
              0.4444444444444444,
              "#bd3786"
             ],
             [
              0.5555555555555556,
              "#d8576b"
             ],
             [
              0.6666666666666666,
              "#ed7953"
             ],
             [
              0.7777777777777778,
              "#fb9f3a"
             ],
             [
              0.8888888888888888,
              "#fdca26"
             ],
             [
              1,
              "#f0f921"
             ]
            ],
            "type": "histogram2d"
           }
          ],
          "histogram2dcontour": [
           {
            "colorbar": {
             "outlinewidth": 0,
             "ticks": ""
            },
            "colorscale": [
             [
              0,
              "#0d0887"
             ],
             [
              0.1111111111111111,
              "#46039f"
             ],
             [
              0.2222222222222222,
              "#7201a8"
             ],
             [
              0.3333333333333333,
              "#9c179e"
             ],
             [
              0.4444444444444444,
              "#bd3786"
             ],
             [
              0.5555555555555556,
              "#d8576b"
             ],
             [
              0.6666666666666666,
              "#ed7953"
             ],
             [
              0.7777777777777778,
              "#fb9f3a"
             ],
             [
              0.8888888888888888,
              "#fdca26"
             ],
             [
              1,
              "#f0f921"
             ]
            ],
            "type": "histogram2dcontour"
           }
          ],
          "mesh3d": [
           {
            "colorbar": {
             "outlinewidth": 0,
             "ticks": ""
            },
            "type": "mesh3d"
           }
          ],
          "parcoords": [
           {
            "line": {
             "colorbar": {
              "outlinewidth": 0,
              "ticks": ""
             }
            },
            "type": "parcoords"
           }
          ],
          "pie": [
           {
            "automargin": true,
            "type": "pie"
           }
          ],
          "scatter": [
           {
            "fillpattern": {
             "fillmode": "overlay",
             "size": 10,
             "solidity": 0.2
            },
            "type": "scatter"
           }
          ],
          "scatter3d": [
           {
            "line": {
             "colorbar": {
              "outlinewidth": 0,
              "ticks": ""
             }
            },
            "marker": {
             "colorbar": {
              "outlinewidth": 0,
              "ticks": ""
             }
            },
            "type": "scatter3d"
           }
          ],
          "scattercarpet": [
           {
            "marker": {
             "colorbar": {
              "outlinewidth": 0,
              "ticks": ""
             }
            },
            "type": "scattercarpet"
           }
          ],
          "scattergeo": [
           {
            "marker": {
             "colorbar": {
              "outlinewidth": 0,
              "ticks": ""
             }
            },
            "type": "scattergeo"
           }
          ],
          "scattergl": [
           {
            "marker": {
             "colorbar": {
              "outlinewidth": 0,
              "ticks": ""
             }
            },
            "type": "scattergl"
           }
          ],
          "scattermap": [
           {
            "marker": {
             "colorbar": {
              "outlinewidth": 0,
              "ticks": ""
             }
            },
            "type": "scattermap"
           }
          ],
          "scattermapbox": [
           {
            "marker": {
             "colorbar": {
              "outlinewidth": 0,
              "ticks": ""
             }
            },
            "type": "scattermapbox"
           }
          ],
          "scatterpolar": [
           {
            "marker": {
             "colorbar": {
              "outlinewidth": 0,
              "ticks": ""
             }
            },
            "type": "scatterpolar"
           }
          ],
          "scatterpolargl": [
           {
            "marker": {
             "colorbar": {
              "outlinewidth": 0,
              "ticks": ""
             }
            },
            "type": "scatterpolargl"
           }
          ],
          "scatterternary": [
           {
            "marker": {
             "colorbar": {
              "outlinewidth": 0,
              "ticks": ""
             }
            },
            "type": "scatterternary"
           }
          ],
          "surface": [
           {
            "colorbar": {
             "outlinewidth": 0,
             "ticks": ""
            },
            "colorscale": [
             [
              0,
              "#0d0887"
             ],
             [
              0.1111111111111111,
              "#46039f"
             ],
             [
              0.2222222222222222,
              "#7201a8"
             ],
             [
              0.3333333333333333,
              "#9c179e"
             ],
             [
              0.4444444444444444,
              "#bd3786"
             ],
             [
              0.5555555555555556,
              "#d8576b"
             ],
             [
              0.6666666666666666,
              "#ed7953"
             ],
             [
              0.7777777777777778,
              "#fb9f3a"
             ],
             [
              0.8888888888888888,
              "#fdca26"
             ],
             [
              1,
              "#f0f921"
             ]
            ],
            "type": "surface"
           }
          ],
          "table": [
           {
            "cells": {
             "fill": {
              "color": "#EBF0F8"
             },
             "line": {
              "color": "white"
             }
            },
            "header": {
             "fill": {
              "color": "#C8D4E3"
             },
             "line": {
              "color": "white"
             }
            },
            "type": "table"
           }
          ]
         },
         "layout": {
          "annotationdefaults": {
           "arrowcolor": "#2a3f5f",
           "arrowhead": 0,
           "arrowwidth": 1
          },
          "autotypenumbers": "strict",
          "coloraxis": {
           "colorbar": {
            "outlinewidth": 0,
            "ticks": ""
           }
          },
          "colorscale": {
           "diverging": [
            [
             0,
             "#8e0152"
            ],
            [
             0.1,
             "#c51b7d"
            ],
            [
             0.2,
             "#de77ae"
            ],
            [
             0.3,
             "#f1b6da"
            ],
            [
             0.4,
             "#fde0ef"
            ],
            [
             0.5,
             "#f7f7f7"
            ],
            [
             0.6,
             "#e6f5d0"
            ],
            [
             0.7,
             "#b8e186"
            ],
            [
             0.8,
             "#7fbc41"
            ],
            [
             0.9,
             "#4d9221"
            ],
            [
             1,
             "#276419"
            ]
           ],
           "sequential": [
            [
             0,
             "#0d0887"
            ],
            [
             0.1111111111111111,
             "#46039f"
            ],
            [
             0.2222222222222222,
             "#7201a8"
            ],
            [
             0.3333333333333333,
             "#9c179e"
            ],
            [
             0.4444444444444444,
             "#bd3786"
            ],
            [
             0.5555555555555556,
             "#d8576b"
            ],
            [
             0.6666666666666666,
             "#ed7953"
            ],
            [
             0.7777777777777778,
             "#fb9f3a"
            ],
            [
             0.8888888888888888,
             "#fdca26"
            ],
            [
             1,
             "#f0f921"
            ]
           ],
           "sequentialminus": [
            [
             0,
             "#0d0887"
            ],
            [
             0.1111111111111111,
             "#46039f"
            ],
            [
             0.2222222222222222,
             "#7201a8"
            ],
            [
             0.3333333333333333,
             "#9c179e"
            ],
            [
             0.4444444444444444,
             "#bd3786"
            ],
            [
             0.5555555555555556,
             "#d8576b"
            ],
            [
             0.6666666666666666,
             "#ed7953"
            ],
            [
             0.7777777777777778,
             "#fb9f3a"
            ],
            [
             0.8888888888888888,
             "#fdca26"
            ],
            [
             1,
             "#f0f921"
            ]
           ]
          },
          "colorway": [
           "#636efa",
           "#EF553B",
           "#00cc96",
           "#ab63fa",
           "#FFA15A",
           "#19d3f3",
           "#FF6692",
           "#B6E880",
           "#FF97FF",
           "#FECB52"
          ],
          "font": {
           "color": "#2a3f5f"
          },
          "geo": {
           "bgcolor": "white",
           "lakecolor": "white",
           "landcolor": "#E5ECF6",
           "showlakes": true,
           "showland": true,
           "subunitcolor": "white"
          },
          "hoverlabel": {
           "align": "left"
          },
          "hovermode": "closest",
          "mapbox": {
           "style": "light"
          },
          "paper_bgcolor": "white",
          "plot_bgcolor": "#E5ECF6",
          "polar": {
           "angularaxis": {
            "gridcolor": "white",
            "linecolor": "white",
            "ticks": ""
           },
           "bgcolor": "#E5ECF6",
           "radialaxis": {
            "gridcolor": "white",
            "linecolor": "white",
            "ticks": ""
           }
          },
          "scene": {
           "xaxis": {
            "backgroundcolor": "#E5ECF6",
            "gridcolor": "white",
            "gridwidth": 2,
            "linecolor": "white",
            "showbackground": true,
            "ticks": "",
            "zerolinecolor": "white"
           },
           "yaxis": {
            "backgroundcolor": "#E5ECF6",
            "gridcolor": "white",
            "gridwidth": 2,
            "linecolor": "white",
            "showbackground": true,
            "ticks": "",
            "zerolinecolor": "white"
           },
           "zaxis": {
            "backgroundcolor": "#E5ECF6",
            "gridcolor": "white",
            "gridwidth": 2,
            "linecolor": "white",
            "showbackground": true,
            "ticks": "",
            "zerolinecolor": "white"
           }
          },
          "shapedefaults": {
           "line": {
            "color": "#2a3f5f"
           }
          },
          "ternary": {
           "aaxis": {
            "gridcolor": "white",
            "linecolor": "white",
            "ticks": ""
           },
           "baxis": {
            "gridcolor": "white",
            "linecolor": "white",
            "ticks": ""
           },
           "bgcolor": "#E5ECF6",
           "caxis": {
            "gridcolor": "white",
            "linecolor": "white",
            "ticks": ""
           }
          },
          "title": {
           "x": 0.05
          },
          "xaxis": {
           "automargin": true,
           "gridcolor": "white",
           "linecolor": "white",
           "ticks": "",
           "title": {
            "standoff": 15
           },
           "zerolinecolor": "white",
           "zerolinewidth": 2
          },
          "yaxis": {
           "automargin": true,
           "gridcolor": "white",
           "linecolor": "white",
           "ticks": "",
           "title": {
            "standoff": 15
           },
           "zerolinecolor": "white",
           "zerolinewidth": 2
          }
         }
        },
        "title": {
         "text": "Correlation Matrix with Total Cup Points"
        }
       }
      }
     },
     "metadata": {},
     "output_type": "display_data"
    }
   ],
   "source": [
    "# correlation matrix with annotation filter x only 'total_cup_points'\n",
    "correlation = features_df.corr()\n",
    "fig = go.Figure(data=go.Heatmap(\n",
    "        z=correlation[['total_cup_points']],\n",
    "        x=['total_cup_points'],\n",
    "        y=correlation.columns,\n",
    "        colorscale='Blackbody',\n",
    "        text=correlation[['total_cup_points']].values,  # The values to display\n",
    "        texttemplate=\"%{text:.2f}\",  # Format to 2 decimal places\n",
    "        textfont={\"size\":10},\n",
    "        hovertemplate='Correlation: %{text:.3f}<extra></extra>'),\n",
    "        )\n",
    "fig.update_layout(title='Correlation Matrix with Total Cup Points', height=800)"
   ]
  },
  {
   "cell_type": "markdown",
   "metadata": {},
   "source": [
    "# Prediction-Model"
   ]
  },
  {
   "cell_type": "markdown",
   "metadata": {},
   "source": [
    "## Normalization"
   ]
  },
  {
   "cell_type": "code",
   "execution_count": 118,
   "metadata": {},
   "outputs": [],
   "source": [
    "from sklearn.preprocessing import OneHotEncoder, StandardScaler, LabelEncoder\n",
    "from sklearn.compose import ColumnTransformer\n",
    "from sklearn.pipeline import Pipeline"
   ]
  },
  {
   "cell_type": "code",
   "execution_count": 102,
   "metadata": {},
   "outputs": [
    {
     "data": {
      "text/plain": [
       "Index(['country_of_origin', 'ico_number', 'company', 'altitude', 'region',\n",
       "       'number_of_bags', 'bag_weight', 'in_country_partner', 'harvest_year',\n",
       "       'grading_date', 'owner', 'variety', 'status', 'processing_method',\n",
       "       'aroma', 'flavor', 'aftertaste', 'acidity', 'body', 'balance',\n",
       "       'uniformity', 'clean_cup', 'sweetness', 'overall', 'defects',\n",
       "       'total_cup_points', 'moisture_percentage', 'category_one_defects',\n",
       "       'quakers', 'color', 'category_two_defects', 'expiration',\n",
       "       'certification_body', 'certification_address', 'certification_contact',\n",
       "       'region_lat', 'region_lon', 'harvest_grading_period',\n",
       "       'country_of_origin_code', 'company_code', 'in_country_partner_code',\n",
       "       'harvest_grading_period_code', 'owner_code', 'variety_code',\n",
       "       'processing_method_code', 'color_code', 'certification_body_code',\n",
       "       'certification_address_code', 'certification_contact_code'],\n",
       "      dtype='object')"
      ]
     },
     "execution_count": 102,
     "metadata": {},
     "output_type": "execute_result"
    }
   ],
   "source": [
    "df.columns"
   ]
  },
  {
   "cell_type": "code",
   "execution_count": null,
   "metadata": {},
   "outputs": [],
   "source": []
  }
 ],
 "metadata": {
  "kernelspec": {
   "display_name": "ds",
   "language": "python",
   "name": "python3"
  },
  "language_info": {
   "codemirror_mode": {
    "name": "ipython",
    "version": 3
   },
   "file_extension": ".py",
   "mimetype": "text/x-python",
   "name": "python",
   "nbconvert_exporter": "python",
   "pygments_lexer": "ipython3",
   "version": "3.11.11"
  }
 },
 "nbformat": 4,
 "nbformat_minor": 2
}
