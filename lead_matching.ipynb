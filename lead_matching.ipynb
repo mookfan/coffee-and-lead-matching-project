{
 "cells": [
  {
   "cell_type": "markdown",
   "metadata": {},
   "source": [
    "# Lead Matching 📑\n",
    "\n",
    "🚀 Tasks:\n",
    "1. Preprocessing (15%): Outline your plan, clean and prepare the data, addressing name variations (transliteration, Unicode, etc.) and missing values. Provide code examples.\n",
    "2. Name Matching (40%): Implement a name matching strategy (fuzzy matching, phonetic matching, etc.) considering language differences. Explain your approach and provide code. Discuss precision/recall trade-offs.\n",
    "3. Location Matching (20%): Use latitude/longitude to improve matching (distance calculation, radius-based). Provide code.\n",
    "4. Combined Matching & Evaluation (25%): Combine your name matching and location matching strategies into a single matching system. \n",
    "    - a. How will you weight the importance of name and location similarity?\n",
    "    - b. Describe evaluation metrics (precision, recall, F1-score).\n",
    "    - c. Discuss limitations.\n",
    "\n",
    "📑 Contents:\n",
    "- [Import Dataset](#import_dataset)\n",
    "- [Preprocessing](#preprocessing)\n",
    "- [Name Matching](#name_matching)\n",
    "- [Location Matching](#location_matching)\n",
    "- [Combined Matching & Evaluation](#combined_matching_and_evaluation)"
   ]
  },
  {
   "cell_type": "markdown",
   "metadata": {},
   "source": [
    "<a id=\"import_dataset\"></a>\n",
    "# Import Dataset"
   ]
  },
  {
   "cell_type": "code",
   "execution_count": 1,
   "metadata": {},
   "outputs": [],
   "source": [
    "import pandas as pd\n",
    "import re\n",
    "from sklearn.metrics import classification_report"
   ]
  },
  {
   "cell_type": "code",
   "execution_count": 2,
   "metadata": {},
   "outputs": [
    {
     "data": {
      "text/html": [
       "<div>\n",
       "<style scoped>\n",
       "    .dataframe tbody tr th:only-of-type {\n",
       "        vertical-align: middle;\n",
       "    }\n",
       "\n",
       "    .dataframe tbody tr th {\n",
       "        vertical-align: top;\n",
       "    }\n",
       "\n",
       "    .dataframe thead th {\n",
       "        text-align: right;\n",
       "    }\n",
       "</style>\n",
       "<table border=\"1\" class=\"dataframe\">\n",
       "  <thead>\n",
       "    <tr style=\"text-align: right;\">\n",
       "      <th></th>\n",
       "      <th>restaurant_name</th>\n",
       "      <th>lat</th>\n",
       "      <th>long</th>\n",
       "      <th>group</th>\n",
       "    </tr>\n",
       "  </thead>\n",
       "  <tbody>\n",
       "    <tr>\n",
       "      <th>0</th>\n",
       "      <td>Sushi Hiro (ซูชิฮิโระ) Eight Thonglor ชั้น1</td>\n",
       "      <td>13.730788</td>\n",
       "      <td>100.581716</td>\n",
       "      <td>1</td>\n",
       "    </tr>\n",
       "    <tr>\n",
       "      <th>1</th>\n",
       "      <td>Sushi Hiro พรอมานาด</td>\n",
       "      <td>13.826534</td>\n",
       "      <td>100.676388</td>\n",
       "      <td>2</td>\n",
       "    </tr>\n",
       "    <tr>\n",
       "      <th>2</th>\n",
       "      <td>ซูชิฮิโระ หองหล่อ</td>\n",
       "      <td>13.730900</td>\n",
       "      <td>100.584720</td>\n",
       "      <td>1</td>\n",
       "    </tr>\n",
       "    <tr>\n",
       "      <th>3</th>\n",
       "      <td>หองหล่อ Sushi Hiro ในตึก Eight</td>\n",
       "      <td>13.730888</td>\n",
       "      <td>100.582816</td>\n",
       "      <td>1</td>\n",
       "    </tr>\n",
       "    <tr>\n",
       "      <th>4</th>\n",
       "      <td>Hiro Sushi ทองหล่อ</td>\n",
       "      <td>13.730751</td>\n",
       "      <td>100.582316</td>\n",
       "      <td>1</td>\n",
       "    </tr>\n",
       "  </tbody>\n",
       "</table>\n",
       "</div>"
      ],
      "text/plain": [
       "                               restaurant_name        lat        long  group\n",
       "0  Sushi Hiro (ซูชิฮิโระ) Eight Thonglor ชั้น1  13.730788  100.581716      1\n",
       "1                          Sushi Hiro พรอมานาด  13.826534  100.676388      2\n",
       "2                            ซูชิฮิโระ หองหล่อ  13.730900  100.584720      1\n",
       "3               หองหล่อ Sushi Hiro ในตึก Eight  13.730888  100.582816      1\n",
       "4                           Hiro Sushi ทองหล่อ  13.730751  100.582316      1"
      ]
     },
     "execution_count": 2,
     "metadata": {},
     "output_type": "execute_result"
    }
   ],
   "source": [
    "filepath = 'data/Dataset for data scientist assessment - Lead.csv'\n",
    "df = pd.read_csv(filepath)\n",
    "# rename\n",
    "df.rename(columns={'Restaurant name': 'restaurant_name'}, inplace=True)\n",
    "df.head()"
   ]
  },
  {
   "cell_type": "markdown",
   "metadata": {},
   "source": [
    "<a id=\"preprocessing\"></a>\n",
    "# Preprocessing"
   ]
  },
  {
   "cell_type": "markdown",
   "metadata": {},
   "source": [
    "- [Missing Values](##missing_values)\n",
    "- [Data Types](##data_types)\n",
    "- [Data Cleaning and Preparation](##data-cleaning-and-preparation)"
   ]
  },
  {
   "cell_type": "markdown",
   "metadata": {},
   "source": [
    "<a id=\"missing_values\"></a>\n",
    "## Missing Values\n",
    "\n",
    "Note: I create a new column 'group' to store the group of the restaurant as label data."
   ]
  },
  {
   "cell_type": "code",
   "execution_count": 3,
   "metadata": {},
   "outputs": [
    {
     "name": "stdout",
     "output_type": "stream",
     "text": [
      "> Missing values: \n",
      "restaurant_name    0\n",
      "lat                0\n",
      "long               0\n",
      "group              0\n",
      "dtype: int64\n"
     ]
    }
   ],
   "source": [
    "print(\"> Missing values: \")\n",
    "print(df.isnull().sum())"
   ]
  },
  {
   "cell_type": "markdown",
   "metadata": {},
   "source": [
    "<a id=\"data_types\"></a>\n",
    "## Data Types\n",
    "\n",
    "Ensure that data is in the appropriate type\n",
    "- restaurant_name: string\n",
    "- lat: float\n",
    "- long: float\n",
    "- group: int"
   ]
  },
  {
   "cell_type": "code",
   "execution_count": 4,
   "metadata": {},
   "outputs": [
    {
     "name": "stdout",
     "output_type": "stream",
     "text": [
      "<class 'pandas.core.frame.DataFrame'>\n",
      "RangeIndex: 30 entries, 0 to 29\n",
      "Data columns (total 4 columns):\n",
      " #   Column           Non-Null Count  Dtype  \n",
      "---  ------           --------------  -----  \n",
      " 0   restaurant_name  30 non-null     object \n",
      " 1   lat              30 non-null     float64\n",
      " 2   long             30 non-null     float64\n",
      " 3   group            30 non-null     int64  \n",
      "dtypes: float64(2), int64(1), object(1)\n",
      "memory usage: 1.1+ KB\n"
     ]
    }
   ],
   "source": [
    "df.info()"
   ]
  },
  {
   "cell_type": "markdown",
   "metadata": {},
   "source": [
    "<a id=\"data_cleaning_and_preparation\"></a>\n",
    "## Data Cleaning and Preparation"
   ]
  },
  {
   "cell_type": "code",
   "execution_count": 5,
   "metadata": {},
   "outputs": [],
   "source": [
    "from pythainlp.tokenize import word_tokenize\n",
    "from pythainlp.transliterate import romanize"
   ]
  },
  {
   "cell_type": "markdown",
   "metadata": {},
   "source": [
    "Restaurant Name"
   ]
  },
  {
   "cell_type": "code",
   "execution_count": 6,
   "metadata": {},
   "outputs": [],
   "source": [
    "def normalize_text(text: str):\n",
    "    \"\"\"\n",
    "    Normalize text by removing special characters and lowercasing\n",
    "    \"\"\"\n",
    "    if isinstance(text, str):\n",
    "        text = text.encode('utf-8', errors='ignore').decode('utf-8')\n",
    "        text = re.sub(r'[^\\w\\s\\u0E00-\\u0E7F]', ' ', text)  # Keep Thai Unicode range\n",
    "        text = re.sub(r'\\s+', ' ', text)\n",
    "        return text.strip().lower()\n",
    "    return ''\n",
    "\n",
    "def split_thai_english(text: str):\n",
    "    \"\"\"\n",
    "    Split Thai and English text components\n",
    "    \"\"\"\n",
    "    thai_pattern = r'[\\u0E00-\\u0E7F]+'\n",
    "    eng_pattern = r'[a-zA-Z]+'\n",
    "    \n",
    "    thai_parts = re.findall(thai_pattern, text)\n",
    "    eng_parts = re.findall(eng_pattern, text)\n",
    "    \n",
    "    thai_text = ' '.join(thai_parts).strip()\n",
    "    eng_text = ' '.join(eng_parts).strip()\n",
    "    \n",
    "    return thai_text, eng_text\n",
    "\n",
    "def segment_thai(text: str):\n",
    "    \"\"\"\n",
    "    Segment Thai text into words\n",
    "    \"\"\"\n",
    "    return word_tokenize(text, engine=\"newmm\")\n",
    "\n",
    "def romanize_thai_text(text: str):\n",
    "    \"\"\"\n",
    "    Romanize Thai text\n",
    "    \"\"\"\n",
    "    if not text:\n",
    "        return ''\n",
    "    text_parts = text.split()\n",
    "    # transliterate each word and join with space\n",
    "    return ' '.join([romanize(word, engine='royin') for word in text_parts])\n",
    "\n",
    "\n",
    "def expand_variations(text):\n",
    "    variations = [text]\n",
    "    \n",
    "    # Split into Thai and English parts\n",
    "    thai_part, eng_part = split_thai_english(text)\n",
    "    \n",
    "    # Create mapping for common transliterated words\n",
    "    transliteration_map = {\n",
    "        'sushi': ['ซูชิ'],\n",
    "        'hiro': ['ฮิโระ'],\n",
    "        'honmono': ['ฮอนโมโน', 'ฮนโมโน'],\n",
    "        'khao': ['ข้าว'],\n",
    "        'coffee': ['กาแฟ', 'คอฟฟี่'],\n",
    "        # 'nana': ['นานา', 'นานะ'],\n",
    "        'nana': ['นานา'],\n",
    "        'toku': ['โทกุ', 'โทคุ'],\n",
    "        'roaster': ['โรสเตอร์'],\n",
    "        'ari': ['อารี', 'อารีย์'],\n",
    "        'so': ['โซ'],\n",
    "        'i': ['ไอ', 'อิ'],\n",
    "    }\n",
    "    \n",
    "    # Check for English parts that might be Thai transliterations\n",
    "    for eng_word in eng_part.split():\n",
    "        if eng_word in transliteration_map:\n",
    "            for thai_var in transliteration_map[eng_word]:\n",
    "                new_var = text.replace(eng_word, thai_var)\n",
    "                variations.append(new_var)\n",
    "    \n",
    "    return variations\n",
    "\n",
    "# combine all cleaning and preparation steps\n",
    "def preprocess_restaurant_name(df: pd.DataFrame, name_column: str):\n",
    "    \"\"\"\n",
    "    Preprocess restaurant names by normalizing, splitting Thai/English components,\n",
    "    segmenting Thai text, romanizing Thai text, and generating variations for matching\n",
    "    \"\"\"\n",
    "    # Basic cleaning\n",
    "    df['clean_name'] = df[name_column].apply(normalize_text)\n",
    "    \n",
    "    # Split Thai/English components\n",
    "    df['thai_component'], df['english_component'] = zip(*df['clean_name'].apply(split_thai_english))\n",
    "    \n",
    "    # Word segmentation for Thai\n",
    "    df['segmented_thai'] = df['thai_component'].apply(segment_thai)\n",
    "    \n",
    "    # Romanize Thai for comparison\n",
    "    df['thai_romanized'] = df['thai_component'].apply(romanize_thai_text)\n",
    "    \n",
    "    # Generate variations for matching\n",
    "    df['name_variations'] = df['clean_name'].apply(expand_variations)\n",
    "    \n",
    "    return df"
   ]
  },
  {
   "cell_type": "code",
   "execution_count": 7,
   "metadata": {},
   "outputs": [],
   "source": [
    "df_tmp = df.copy()"
   ]
  },
  {
   "cell_type": "code",
   "execution_count": 8,
   "metadata": {},
   "outputs": [
    {
     "data": {
      "text/plain": [
       "0    sushi hiro ซูชิฮิโระ eight thonglor ชั้น1\n",
       "1                          sushi hiro พรอมานาด\n",
       "2                            ซูชิฮิโระ หองหล่อ\n",
       "3               หองหล่อ sushi hiro ในตึก eight\n",
       "4                           hiro sushi ทองหล่อ\n",
       "Name: restaurant_name, dtype: object"
      ]
     },
     "execution_count": 8,
     "metadata": {},
     "output_type": "execute_result"
    }
   ],
   "source": [
    "# 1. Normalize restaurant name\n",
    "df_tmp['restaurant_name'] = df_tmp['restaurant_name'].apply(normalize_text)\n",
    "df_tmp['restaurant_name'].head()"
   ]
  },
  {
   "cell_type": "code",
   "execution_count": 9,
   "metadata": {},
   "outputs": [
    {
     "data": {
      "text/html": [
       "<div>\n",
       "<style scoped>\n",
       "    .dataframe tbody tr th:only-of-type {\n",
       "        vertical-align: middle;\n",
       "    }\n",
       "\n",
       "    .dataframe tbody tr th {\n",
       "        vertical-align: top;\n",
       "    }\n",
       "\n",
       "    .dataframe thead th {\n",
       "        text-align: right;\n",
       "    }\n",
       "</style>\n",
       "<table border=\"1\" class=\"dataframe\">\n",
       "  <thead>\n",
       "    <tr style=\"text-align: right;\">\n",
       "      <th></th>\n",
       "      <th>restaurant_name</th>\n",
       "      <th>thai_component</th>\n",
       "      <th>eng_component</th>\n",
       "    </tr>\n",
       "  </thead>\n",
       "  <tbody>\n",
       "    <tr>\n",
       "      <th>0</th>\n",
       "      <td>sushi hiro ซูชิฮิโระ eight thonglor ชั้น1</td>\n",
       "      <td>ซูชิฮิโระ ชั้น</td>\n",
       "      <td>sushi hiro eight thonglor</td>\n",
       "    </tr>\n",
       "    <tr>\n",
       "      <th>1</th>\n",
       "      <td>sushi hiro พรอมานาด</td>\n",
       "      <td>พรอมานาด</td>\n",
       "      <td>sushi hiro</td>\n",
       "    </tr>\n",
       "    <tr>\n",
       "      <th>2</th>\n",
       "      <td>ซูชิฮิโระ หองหล่อ</td>\n",
       "      <td>ซูชิฮิโระ หองหล่อ</td>\n",
       "      <td></td>\n",
       "    </tr>\n",
       "    <tr>\n",
       "      <th>3</th>\n",
       "      <td>หองหล่อ sushi hiro ในตึก eight</td>\n",
       "      <td>หองหล่อ ในตึก</td>\n",
       "      <td>sushi hiro eight</td>\n",
       "    </tr>\n",
       "    <tr>\n",
       "      <th>4</th>\n",
       "      <td>hiro sushi ทองหล่อ</td>\n",
       "      <td>ทองหล่อ</td>\n",
       "      <td>hiro sushi</td>\n",
       "    </tr>\n",
       "  </tbody>\n",
       "</table>\n",
       "</div>"
      ],
      "text/plain": [
       "                             restaurant_name     thai_component  \\\n",
       "0  sushi hiro ซูชิฮิโระ eight thonglor ชั้น1     ซูชิฮิโระ ชั้น   \n",
       "1                        sushi hiro พรอมานาด           พรอมานาด   \n",
       "2                          ซูชิฮิโระ หองหล่อ  ซูชิฮิโระ หองหล่อ   \n",
       "3             หองหล่อ sushi hiro ในตึก eight      หองหล่อ ในตึก   \n",
       "4                         hiro sushi ทองหล่อ            ทองหล่อ   \n",
       "\n",
       "               eng_component  \n",
       "0  sushi hiro eight thonglor  \n",
       "1                 sushi hiro  \n",
       "2                             \n",
       "3           sushi hiro eight  \n",
       "4                 hiro sushi  "
      ]
     },
     "execution_count": 9,
     "metadata": {},
     "output_type": "execute_result"
    }
   ],
   "source": [
    "# 2. Split Thai and English text\n",
    "df_tmp['thai_component'], df_tmp['eng_component'] = zip(*df_tmp['restaurant_name'].map(split_thai_english))\n",
    "df_tmp[['restaurant_name', 'thai_component', 'eng_component']].head()"
   ]
  },
  {
   "cell_type": "code",
   "execution_count": 10,
   "metadata": {},
   "outputs": [
    {
     "data": {
      "text/plain": [
       "0         [ซูชิ, ฮิ, โระ,  , ชั้น]\n",
       "1                 [พร, อ, มา, นาด]\n",
       "2    [ซูชิ, ฮิ, โระ,  , หอง, หล่อ]\n",
       "3          [หอง, หล่อ,  , ใน, ตึก]\n",
       "4                      [ทอง, หล่อ]\n",
       "Name: thai_segmented, dtype: object"
      ]
     },
     "execution_count": 10,
     "metadata": {},
     "output_type": "execute_result"
    }
   ],
   "source": [
    "# 3. Segment Thai text\n",
    "df_tmp['thai_segmented'] = df_tmp['thai_component'].apply(segment_thai)\n",
    "df_tmp['thai_segmented'].head()"
   ]
  },
  {
   "cell_type": "code",
   "execution_count": 11,
   "metadata": {},
   "outputs": [
    {
     "data": {
      "text/plain": [
       "0     sutihiro chan\n",
       "1         phonmanat\n",
       "2    sutihiro onglo\n",
       "3     onglo naituek\n",
       "4           thonglo\n",
       "Name: thai_romanized, dtype: object"
      ]
     },
     "execution_count": 11,
     "metadata": {},
     "output_type": "execute_result"
    }
   ],
   "source": [
    "# Romanize Thai for comparison\n",
    "df_tmp['thai_romanized'] = df_tmp['thai_component'].apply(romanize_thai_text)\n",
    "df_tmp['thai_romanized'].head()"
   ]
  },
  {
   "cell_type": "code",
   "execution_count": 12,
   "metadata": {},
   "outputs": [
    {
     "data": {
      "text/html": [
       "<div>\n",
       "<style scoped>\n",
       "    .dataframe tbody tr th:only-of-type {\n",
       "        vertical-align: middle;\n",
       "    }\n",
       "\n",
       "    .dataframe tbody tr th {\n",
       "        vertical-align: top;\n",
       "    }\n",
       "\n",
       "    .dataframe thead th {\n",
       "        text-align: right;\n",
       "    }\n",
       "</style>\n",
       "<table border=\"1\" class=\"dataframe\">\n",
       "  <thead>\n",
       "    <tr style=\"text-align: right;\">\n",
       "      <th></th>\n",
       "      <th>restaurant_name</th>\n",
       "      <th>lat</th>\n",
       "      <th>long</th>\n",
       "      <th>group</th>\n",
       "      <th>clean_name</th>\n",
       "      <th>thai_component</th>\n",
       "      <th>english_component</th>\n",
       "      <th>segmented_thai</th>\n",
       "      <th>thai_romanized</th>\n",
       "      <th>name_variations</th>\n",
       "    </tr>\n",
       "  </thead>\n",
       "  <tbody>\n",
       "    <tr>\n",
       "      <th>0</th>\n",
       "      <td>Sushi Hiro (ซูชิฮิโระ) Eight Thonglor ชั้น1</td>\n",
       "      <td>13.730788</td>\n",
       "      <td>100.581716</td>\n",
       "      <td>1</td>\n",
       "      <td>sushi hiro ซูชิฮิโระ eight thonglor ชั้น1</td>\n",
       "      <td>ซูชิฮิโระ ชั้น</td>\n",
       "      <td>sushi hiro eight thonglor</td>\n",
       "      <td>[ซูชิ, ฮิ, โระ,  , ชั้น]</td>\n",
       "      <td>sutihiro chan</td>\n",
       "      <td>[sushi hiro ซูชิฮิโระ eight thonglor ชั้น1, ซู...</td>\n",
       "    </tr>\n",
       "    <tr>\n",
       "      <th>1</th>\n",
       "      <td>Sushi Hiro พรอมานาด</td>\n",
       "      <td>13.826534</td>\n",
       "      <td>100.676388</td>\n",
       "      <td>2</td>\n",
       "      <td>sushi hiro พรอมานาด</td>\n",
       "      <td>พรอมานาด</td>\n",
       "      <td>sushi hiro</td>\n",
       "      <td>[พร, อ, มา, นาด]</td>\n",
       "      <td>phonmanat</td>\n",
       "      <td>[sushi hiro พรอมานาด, ซูชิ hiro พรอมานาด, sush...</td>\n",
       "    </tr>\n",
       "    <tr>\n",
       "      <th>2</th>\n",
       "      <td>ซูชิฮิโระ หองหล่อ</td>\n",
       "      <td>13.730900</td>\n",
       "      <td>100.584720</td>\n",
       "      <td>1</td>\n",
       "      <td>ซูชิฮิโระ หองหล่อ</td>\n",
       "      <td>ซูชิฮิโระ หองหล่อ</td>\n",
       "      <td></td>\n",
       "      <td>[ซูชิ, ฮิ, โระ,  , หอง, หล่อ]</td>\n",
       "      <td>sutihiro onglo</td>\n",
       "      <td>[ซูชิฮิโระ หองหล่อ]</td>\n",
       "    </tr>\n",
       "    <tr>\n",
       "      <th>3</th>\n",
       "      <td>หองหล่อ Sushi Hiro ในตึก Eight</td>\n",
       "      <td>13.730888</td>\n",
       "      <td>100.582816</td>\n",
       "      <td>1</td>\n",
       "      <td>หองหล่อ sushi hiro ในตึก eight</td>\n",
       "      <td>หองหล่อ ในตึก</td>\n",
       "      <td>sushi hiro eight</td>\n",
       "      <td>[หอง, หล่อ,  , ใน, ตึก]</td>\n",
       "      <td>onglo naituek</td>\n",
       "      <td>[หองหล่อ sushi hiro ในตึก eight, หองหล่อ ซูชิ ...</td>\n",
       "    </tr>\n",
       "    <tr>\n",
       "      <th>4</th>\n",
       "      <td>Hiro Sushi ทองหล่อ</td>\n",
       "      <td>13.730751</td>\n",
       "      <td>100.582316</td>\n",
       "      <td>1</td>\n",
       "      <td>hiro sushi ทองหล่อ</td>\n",
       "      <td>ทองหล่อ</td>\n",
       "      <td>hiro sushi</td>\n",
       "      <td>[ทอง, หล่อ]</td>\n",
       "      <td>thonglo</td>\n",
       "      <td>[hiro sushi ทองหล่อ, ฮิโระ sushi ทองหล่อ, hiro...</td>\n",
       "    </tr>\n",
       "  </tbody>\n",
       "</table>\n",
       "</div>"
      ],
      "text/plain": [
       "                               restaurant_name        lat        long  group  \\\n",
       "0  Sushi Hiro (ซูชิฮิโระ) Eight Thonglor ชั้น1  13.730788  100.581716      1   \n",
       "1                          Sushi Hiro พรอมานาด  13.826534  100.676388      2   \n",
       "2                            ซูชิฮิโระ หองหล่อ  13.730900  100.584720      1   \n",
       "3               หองหล่อ Sushi Hiro ในตึก Eight  13.730888  100.582816      1   \n",
       "4                           Hiro Sushi ทองหล่อ  13.730751  100.582316      1   \n",
       "\n",
       "                                  clean_name     thai_component  \\\n",
       "0  sushi hiro ซูชิฮิโระ eight thonglor ชั้น1     ซูชิฮิโระ ชั้น   \n",
       "1                        sushi hiro พรอมานาด           พรอมานาด   \n",
       "2                          ซูชิฮิโระ หองหล่อ  ซูชิฮิโระ หองหล่อ   \n",
       "3             หองหล่อ sushi hiro ในตึก eight      หองหล่อ ในตึก   \n",
       "4                         hiro sushi ทองหล่อ            ทองหล่อ   \n",
       "\n",
       "           english_component                 segmented_thai  thai_romanized  \\\n",
       "0  sushi hiro eight thonglor       [ซูชิ, ฮิ, โระ,  , ชั้น]   sutihiro chan   \n",
       "1                 sushi hiro               [พร, อ, มา, นาด]       phonmanat   \n",
       "2                             [ซูชิ, ฮิ, โระ,  , หอง, หล่อ]  sutihiro onglo   \n",
       "3           sushi hiro eight        [หอง, หล่อ,  , ใน, ตึก]   onglo naituek   \n",
       "4                 hiro sushi                    [ทอง, หล่อ]         thonglo   \n",
       "\n",
       "                                     name_variations  \n",
       "0  [sushi hiro ซูชิฮิโระ eight thonglor ชั้น1, ซู...  \n",
       "1  [sushi hiro พรอมานาด, ซูชิ hiro พรอมานาด, sush...  \n",
       "2                                [ซูชิฮิโระ หองหล่อ]  \n",
       "3  [หองหล่อ sushi hiro ในตึก eight, หองหล่อ ซูชิ ...  \n",
       "4  [hiro sushi ทองหล่อ, ฮิโระ sushi ทองหล่อ, hiro...  "
      ]
     },
     "execution_count": 12,
     "metadata": {},
     "output_type": "execute_result"
    }
   ],
   "source": [
    "# use the combined preprocessing function\n",
    "df_preprocessed = preprocess_restaurant_name(df, 'restaurant_name')\n",
    "df_preprocessed.head()"
   ]
  },
  {
   "cell_type": "markdown",
   "metadata": {},
   "source": [
    "Lat, Long"
   ]
  },
  {
   "cell_type": "code",
   "execution_count": 13,
   "metadata": {},
   "outputs": [
    {
     "data": {
      "text/plain": [
       "valid_location\n",
       "True    30\n",
       "Name: count, dtype: int64"
      ]
     },
     "execution_count": 13,
     "metadata": {},
     "output_type": "execute_result"
    }
   ],
   "source": [
    "lat_min, lat_max = -90, 90\n",
    "long_min, long_max = -180, 180\n",
    "\n",
    "# Check for valid latitude and longitude values\n",
    "def validate_lat_long(lat, long):\n",
    "    return (lat_min <= lat <= lat_max) and (long_min <= long <= long_max)\n",
    "\n",
    "df_preprocessed['valid_location'] = df_preprocessed.apply(lambda x: validate_lat_long(x['lat'], x['long']), axis=1)\n",
    "df_preprocessed['valid_location'].value_counts()"
   ]
  },
  {
   "cell_type": "markdown",
   "metadata": {},
   "source": [
    "<a id=\"name_matching\"></a>\n",
    "# Name Matching"
   ]
  },
  {
   "cell_type": "code",
   "execution_count": 14,
   "metadata": {},
   "outputs": [],
   "source": [
    "from jellyfish import jaro_winkler_similarity"
   ]
  },
  {
   "cell_type": "code",
   "execution_count": null,
   "metadata": {},
   "outputs": [],
   "source": [
    "def group_similar_restaurant(df, name_column, threshold=0.7):\n",
    "    \"\"\"\n",
    "    Group similar restaurant names in a DataFrame\n",
    "    \n",
    "    Parameters:\n",
    "    df: DataFrame containing restaurant names\n",
    "    name_column: Column name containing the restaurant names\n",
    "    threshold: Similarity threshold (0-1) for grouping\n",
    "    \n",
    "    Returns:\n",
    "    DataFrame with original data plus name_cluster column\n",
    "    \"\"\"\n",
    "    # Clean and normalize text\n",
    "    def clean_text(text):\n",
    "        if not isinstance(text, str):\n",
    "            return \"\"\n",
    "        text = text.lower().strip()\n",
    "        text = re.sub(r'\\s+', ' ', text)\n",
    "        return text\n",
    "    \n",
    "    # Split Thai and English components\n",
    "    def split_thai_english(text):\n",
    "        thai_chars = re.findall(r'[\\u0E00-\\u0E7F]+', text)\n",
    "        eng_chars = re.findall(r'[a-z0-9]+', text)\n",
    "        \n",
    "        thai_text = ''.join(thai_chars)\n",
    "        eng_text = ''.join(eng_chars)\n",
    "        \n",
    "        return thai_text, eng_text\n",
    "    \n",
    "    # Calculate similarity between two restaurant names\n",
    "    def calculate_similarity(name1, name2):\n",
    "        \"\"\"\n",
    "        There are 4 main cases to consider:\n",
    "        1. Direct comparison of the full name\n",
    "        2. Comparison of Thai and English components separately\n",
    "        3. Comparison of romanized Thai components\n",
    "        4. Comparison of variations of the names\n",
    "        \"\"\"\n",
    "        # Clean both names\n",
    "        name1 = clean_text(name1)\n",
    "        name2 = clean_text(name2)\n",
    "        \n",
    "        # Direct comparison\n",
    "        direct_sim = jaro_winkler_similarity(name1, name2)\n",
    "        \n",
    "        # Split and compare components\n",
    "        thai1, eng1 = split_thai_english(name1)\n",
    "        thai2, eng2 = split_thai_english(name2)\n",
    "\n",
    "        # variations of the names\n",
    "        variations1 = expand_variations(name1)\n",
    "        variations2 = expand_variations(name2)\n",
    "        \n",
    "        component_sims = []\n",
    "        \n",
    "        # Compare Thai components if both exist\n",
    "        if thai1 and thai2:\n",
    "            thai_sim = jaro_winkler_similarity(thai1, thai2)\n",
    "            component_sims.append(thai_sim)\n",
    "            \n",
    "            # Also compare romanized versions\n",
    "            rom1 = romanize(thai1)\n",
    "            rom2 = romanize(thai2)\n",
    "            if rom1 and rom2:\n",
    "                rom_sim = jaro_winkler_similarity(rom1, rom2)\n",
    "                component_sims.append(rom_sim)\n",
    "        \n",
    "        # Compare variations\n",
    "        var_sims = []\n",
    "        for var1 in variations1:\n",
    "            for var2 in variations2:\n",
    "                var_sim = jaro_winkler_similarity(var1, var2)\n",
    "                var_sims.append(var_sim)\n",
    "        if var_sims:\n",
    "            component_sims.append(max(var_sims))\n",
    "        \n",
    "        # Compare English components if both exist\n",
    "        if eng1 and eng2:\n",
    "            eng_sim = jaro_winkler_similarity(eng1, eng2)\n",
    "            component_sims.append(eng_sim)\n",
    "\n",
    "        \n",
    "        # If we have component similarities, use the average\n",
    "        if component_sims:\n",
    "            component_sim = sum(component_sims) / len(component_sims)\n",
    "            # Take the better of direct or component similarity\n",
    "            return max(direct_sim, component_sim)\n",
    "        else:\n",
    "            return direct_sim\n",
    "    \n",
    "    # Create a copy of the input dataframe\n",
    "    result_df = df.copy()\n",
    "    \n",
    "    # Get restaurant names\n",
    "    restaurant_names = df[name_column].tolist()\n",
    "    n = len(restaurant_names)\n",
    "    \n",
    "    # Start with each restaurant in its own group\n",
    "    groups = [i for i in range(n)]\n",
    "    \n",
    "    # Compare each pair of restaurants\n",
    "    for i in range(n):\n",
    "        for j in range(i+1, n):\n",
    "            # If they're already in the same group, skip\n",
    "            if groups[i] == groups[j]:\n",
    "                continue\n",
    "            \n",
    "            # Calculate similarity\n",
    "            sim = calculate_similarity(restaurant_names[i], restaurant_names[j])\n",
    "            \n",
    "            # If similar enough, merge their groups\n",
    "            if sim >= threshold:\n",
    "                old_group = groups[j]\n",
    "                new_group = groups[i]\n",
    "                \n",
    "                # Update all members of the old group\n",
    "                for k in range(n):\n",
    "                    if groups[k] == old_group:\n",
    "                        groups[k] = new_group\n",
    "    \n",
    "    # Add group assignments to the result dataframe\n",
    "    result_df['name_cluster'] = groups\n",
    "\n",
    "    # renumber the name_cluster to start from 1\n",
    "    name_cluster_map = {name_cluster: i+1 for i, name_cluster in enumerate(result_df['name_cluster'].unique())}\n",
    "    result_df['name_cluster'] = result_df['name_cluster'].map(name_cluster_map)\n",
    "    return result_df"
   ]
  },
  {
   "cell_type": "code",
   "execution_count": 16,
   "metadata": {},
   "outputs": [
    {
     "data": {
      "text/html": [
       "<div>\n",
       "<style scoped>\n",
       "    .dataframe tbody tr th:only-of-type {\n",
       "        vertical-align: middle;\n",
       "    }\n",
       "\n",
       "    .dataframe tbody tr th {\n",
       "        vertical-align: top;\n",
       "    }\n",
       "\n",
       "    .dataframe thead th {\n",
       "        text-align: right;\n",
       "    }\n",
       "</style>\n",
       "<table border=\"1\" class=\"dataframe\">\n",
       "  <thead>\n",
       "    <tr style=\"text-align: right;\">\n",
       "      <th></th>\n",
       "      <th>restaurant_name</th>\n",
       "      <th>name_cluster</th>\n",
       "    </tr>\n",
       "  </thead>\n",
       "  <tbody>\n",
       "    <tr>\n",
       "      <th>0</th>\n",
       "      <td>Sushi Hiro (ซูชิฮิโระ) Eight Thonglor ชั้น1</td>\n",
       "      <td>1</td>\n",
       "    </tr>\n",
       "    <tr>\n",
       "      <th>1</th>\n",
       "      <td>Sushi Hiro พรอมานาด</td>\n",
       "      <td>2</td>\n",
       "    </tr>\n",
       "    <tr>\n",
       "      <th>2</th>\n",
       "      <td>ซูชิฮิโระ หองหล่อ</td>\n",
       "      <td>1</td>\n",
       "    </tr>\n",
       "    <tr>\n",
       "      <th>3</th>\n",
       "      <td>หองหล่อ Sushi Hiro ในตึก Eight</td>\n",
       "      <td>3</td>\n",
       "    </tr>\n",
       "    <tr>\n",
       "      <th>4</th>\n",
       "      <td>Hiro Sushi ทองหล่อ</td>\n",
       "      <td>3</td>\n",
       "    </tr>\n",
       "  </tbody>\n",
       "</table>\n",
       "</div>"
      ],
      "text/plain": [
       "                               restaurant_name  name_cluster\n",
       "0  Sushi Hiro (ซูชิฮิโระ) Eight Thonglor ชั้น1             1\n",
       "1                          Sushi Hiro พรอมานาด             2\n",
       "2                            ซูชิฮิโระ หองหล่อ             1\n",
       "3               หองหล่อ Sushi Hiro ในตึก Eight             3\n",
       "4                           Hiro Sushi ทองหล่อ             3"
      ]
     },
     "execution_count": 16,
     "metadata": {},
     "output_type": "execute_result"
    }
   ],
   "source": [
    "name_matching_df = group_similar_restaurant(df, 'restaurant_name', threshold=0.7)\n",
    "name_matching_df[['restaurant_name', 'name_cluster']].head()"
   ]
  },
  {
   "cell_type": "code",
   "execution_count": 17,
   "metadata": {},
   "outputs": [
    {
     "data": {
      "text/html": [
       "<div>\n",
       "<style scoped>\n",
       "    .dataframe tbody tr th:only-of-type {\n",
       "        vertical-align: middle;\n",
       "    }\n",
       "\n",
       "    .dataframe tbody tr th {\n",
       "        vertical-align: top;\n",
       "    }\n",
       "\n",
       "    .dataframe thead th {\n",
       "        text-align: right;\n",
       "    }\n",
       "</style>\n",
       "<table border=\"1\" class=\"dataframe\">\n",
       "  <thead>\n",
       "    <tr style=\"text-align: right;\">\n",
       "      <th></th>\n",
       "      <th>restaurant_name</th>\n",
       "      <th>group</th>\n",
       "      <th>name_cluster</th>\n",
       "    </tr>\n",
       "  </thead>\n",
       "  <tbody>\n",
       "    <tr>\n",
       "      <th>0</th>\n",
       "      <td>Sushi Hiro (ซูชิฮิโระ) Eight Thonglor ชั้น1</td>\n",
       "      <td>1</td>\n",
       "      <td>1</td>\n",
       "    </tr>\n",
       "    <tr>\n",
       "      <th>1</th>\n",
       "      <td>Sushi Hiro พรอมานาด</td>\n",
       "      <td>2</td>\n",
       "      <td>2</td>\n",
       "    </tr>\n",
       "    <tr>\n",
       "      <th>2</th>\n",
       "      <td>ซูชิฮิโระ หองหล่อ</td>\n",
       "      <td>1</td>\n",
       "      <td>1</td>\n",
       "    </tr>\n",
       "    <tr>\n",
       "      <th>3</th>\n",
       "      <td>หองหล่อ Sushi Hiro ในตึก Eight</td>\n",
       "      <td>1</td>\n",
       "      <td>3</td>\n",
       "    </tr>\n",
       "    <tr>\n",
       "      <th>4</th>\n",
       "      <td>Hiro Sushi ทองหล่อ</td>\n",
       "      <td>1</td>\n",
       "      <td>3</td>\n",
       "    </tr>\n",
       "    <tr>\n",
       "      <th>5</th>\n",
       "      <td>Honmono Sushi (ฮอนโมโน ซูชิ) ทองหล่อ</td>\n",
       "      <td>3</td>\n",
       "      <td>1</td>\n",
       "    </tr>\n",
       "    <tr>\n",
       "      <th>6</th>\n",
       "      <td>ร้าน ซูชิ ฮอนโมโน แถว ทองหล่อ</td>\n",
       "      <td>3</td>\n",
       "      <td>1</td>\n",
       "    </tr>\n",
       "    <tr>\n",
       "      <th>7</th>\n",
       "      <td>Honmono Sushi สาขา เซ็นทรัล บางนา</td>\n",
       "      <td>4</td>\n",
       "      <td>1</td>\n",
       "    </tr>\n",
       "    <tr>\n",
       "      <th>8</th>\n",
       "      <td>ร้าน Sushi ฮอนโมโน บางนา</td>\n",
       "      <td>4</td>\n",
       "      <td>1</td>\n",
       "    </tr>\n",
       "    <tr>\n",
       "      <th>9</th>\n",
       "      <td>Honmono ซูชิ ซอย ทองหล่อ 23</td>\n",
       "      <td>3</td>\n",
       "      <td>1</td>\n",
       "    </tr>\n",
       "    <tr>\n",
       "      <th>10</th>\n",
       "      <td>Khao-Sō-i ซอยคอนแวนต์</td>\n",
       "      <td>5</td>\n",
       "      <td>4</td>\n",
       "    </tr>\n",
       "    <tr>\n",
       "      <th>11</th>\n",
       "      <td>ร้าน Khao-Sō-i แถว ตึก CP สีลม</td>\n",
       "      <td>5</td>\n",
       "      <td>4</td>\n",
       "    </tr>\n",
       "    <tr>\n",
       "      <th>12</th>\n",
       "      <td>Khao Sō-i Siam Paragon</td>\n",
       "      <td>6</td>\n",
       "      <td>4</td>\n",
       "    </tr>\n",
       "    <tr>\n",
       "      <th>13</th>\n",
       "      <td>ร้าน ข้าว โซอิ ซอยคอนแวนต์</td>\n",
       "      <td>5</td>\n",
       "      <td>4</td>\n",
       "    </tr>\n",
       "    <tr>\n",
       "      <th>14</th>\n",
       "      <td>ร้าน ข้าว โซอิ (Khao-Sō-i ) ริมน้ำปิง</td>\n",
       "      <td>7</td>\n",
       "      <td>4</td>\n",
       "    </tr>\n",
       "    <tr>\n",
       "      <th>15</th>\n",
       "      <td>Khao (ข้าว)เอกมัย 10</td>\n",
       "      <td>8</td>\n",
       "      <td>5</td>\n",
       "    </tr>\n",
       "    <tr>\n",
       "      <th>16</th>\n",
       "      <td>ข้าว แถวซอยเอกมัย</td>\n",
       "      <td>8</td>\n",
       "      <td>5</td>\n",
       "    </tr>\n",
       "    <tr>\n",
       "      <th>17</th>\n",
       "      <td>Khao @ Chiang Mai</td>\n",
       "      <td>9</td>\n",
       "      <td>4</td>\n",
       "    </tr>\n",
       "    <tr>\n",
       "      <th>18</th>\n",
       "      <td>ข้าง @ ekkamai</td>\n",
       "      <td>10</td>\n",
       "      <td>6</td>\n",
       "    </tr>\n",
       "    <tr>\n",
       "      <th>19</th>\n",
       "      <td>NANA Coffee Roaster (นานา คอฟฟี่ โรสเตอร์)Ari</td>\n",
       "      <td>11</td>\n",
       "      <td>7</td>\n",
       "    </tr>\n",
       "    <tr>\n",
       "      <th>20</th>\n",
       "      <td>ร้านกาแฟ นานา คอฟฟี่ ซอยอารีย์ 4</td>\n",
       "      <td>11</td>\n",
       "      <td>8</td>\n",
       "    </tr>\n",
       "    <tr>\n",
       "      <th>21</th>\n",
       "      <td>NANA Coffee @ Ari</td>\n",
       "      <td>11</td>\n",
       "      <td>7</td>\n",
       "    </tr>\n",
       "    <tr>\n",
       "      <th>22</th>\n",
       "      <td>นานา คอฟฟี่ โรสเตอร์ @ BTS Nana</td>\n",
       "      <td>12</td>\n",
       "      <td>7</td>\n",
       "    </tr>\n",
       "    <tr>\n",
       "      <th>23</th>\n",
       "      <td>NANA Roaster Coffee</td>\n",
       "      <td>11</td>\n",
       "      <td>7</td>\n",
       "    </tr>\n",
       "    <tr>\n",
       "      <th>24</th>\n",
       "      <td>นานา คอฟฟี่ โรศเคอร์</td>\n",
       "      <td>11</td>\n",
       "      <td>7</td>\n",
       "    </tr>\n",
       "    <tr>\n",
       "      <th>25</th>\n",
       "      <td>NANA TOKU SHABUCenterpoint of Siam Square ชั้น 3</td>\n",
       "      <td>13</td>\n",
       "      <td>7</td>\n",
       "    </tr>\n",
       "    <tr>\n",
       "      <th>26</th>\n",
       "      <td>ชาบู NANA TOKU</td>\n",
       "      <td>13</td>\n",
       "      <td>7</td>\n",
       "    </tr>\n",
       "    <tr>\n",
       "      <th>27</th>\n",
       "      <td>NANA TOKU @ Siam</td>\n",
       "      <td>13</td>\n",
       "      <td>7</td>\n",
       "    </tr>\n",
       "    <tr>\n",
       "      <th>28</th>\n",
       "      <td>นานะ โทกุ ชาบู</td>\n",
       "      <td>13</td>\n",
       "      <td>9</td>\n",
       "    </tr>\n",
       "    <tr>\n",
       "      <th>29</th>\n",
       "      <td>นานา โทกุ ชาบุ</td>\n",
       "      <td>13</td>\n",
       "      <td>9</td>\n",
       "    </tr>\n",
       "  </tbody>\n",
       "</table>\n",
       "</div>"
      ],
      "text/plain": [
       "                                     restaurant_name  group  name_cluster\n",
       "0        Sushi Hiro (ซูชิฮิโระ) Eight Thonglor ชั้น1      1             1\n",
       "1                                Sushi Hiro พรอมานาด      2             2\n",
       "2                                  ซูชิฮิโระ หองหล่อ      1             1\n",
       "3                     หองหล่อ Sushi Hiro ในตึก Eight      1             3\n",
       "4                                 Hiro Sushi ทองหล่อ      1             3\n",
       "5               Honmono Sushi (ฮอนโมโน ซูชิ) ทองหล่อ      3             1\n",
       "6                      ร้าน ซูชิ ฮอนโมโน แถว ทองหล่อ      3             1\n",
       "7                 Honmono Sushi สาขา เซ็นทรัล บางนา       4             1\n",
       "8                           ร้าน Sushi ฮอนโมโน บางนา      4             1\n",
       "9                        Honmono ซูชิ ซอย ทองหล่อ 23      3             1\n",
       "10                             Khao-Sō-i ซอยคอนแวนต์      5             4\n",
       "11                    ร้าน Khao-Sō-i แถว ตึก CP สีลม      5             4\n",
       "12                            Khao Sō-i Siam Paragon      6             4\n",
       "13                        ร้าน ข้าว โซอิ ซอยคอนแวนต์      5             4\n",
       "14             ร้าน ข้าว โซอิ (Khao-Sō-i ) ริมน้ำปิง      7             4\n",
       "15                              Khao (ข้าว)เอกมัย 10      8             5\n",
       "16                                 ข้าว แถวซอยเอกมัย      8             5\n",
       "17                                 Khao @ Chiang Mai      9             4\n",
       "18                                   ข้าง @ ekkamai      10             6\n",
       "19     NANA Coffee Roaster (นานา คอฟฟี่ โรสเตอร์)Ari     11             7\n",
       "20                  ร้านกาแฟ นานา คอฟฟี่ ซอยอารีย์ 4     11             8\n",
       "21                                 NANA Coffee @ Ari     11             7\n",
       "22                   นานา คอฟฟี่ โรสเตอร์ @ BTS Nana     12             7\n",
       "23                               NANA Roaster Coffee     11             7\n",
       "24                             นานา คอฟฟี่ โรศเคอร์      11             7\n",
       "25  NANA TOKU SHABUCenterpoint of Siam Square ชั้น 3     13             7\n",
       "26                                   ชาบู NANA TOKU      13             7\n",
       "27                                  NANA TOKU @ Siam     13             7\n",
       "28                                    นานะ โทกุ ชาบู     13             9\n",
       "29                                    นานา โทกุ ชาบุ     13             9"
      ]
     },
     "execution_count": 17,
     "metadata": {},
     "output_type": "execute_result"
    }
   ],
   "source": [
    "# merge the grouped names back to the original dataframe\n",
    "df_grouped = df.merge(name_matching_df[['restaurant_name', 'name_cluster']], on='restaurant_name', how='left')\n",
    "df_grouped[['restaurant_name', 'group', 'name_cluster']]\n",
    "\n",
    "# # renumber the name_cluster to start from 1\n",
    "# name_cluster_map = {name_cluster: i+1 for i, name_cluster in enumerate(df_grouped['name_cluster'].unique())}\n",
    "# df_grouped['name_cluster'] = df_grouped['name_cluster'].map(name_cluster_map)"
   ]
  },
  {
   "cell_type": "code",
   "execution_count": 18,
   "metadata": {},
   "outputs": [
    {
     "data": {
      "text/html": [
       "<div>\n",
       "<style scoped>\n",
       "    .dataframe tbody tr th:only-of-type {\n",
       "        vertical-align: middle;\n",
       "    }\n",
       "\n",
       "    .dataframe tbody tr th {\n",
       "        vertical-align: top;\n",
       "    }\n",
       "\n",
       "    .dataframe thead th {\n",
       "        text-align: right;\n",
       "    }\n",
       "</style>\n",
       "<table border=\"1\" class=\"dataframe\">\n",
       "  <thead>\n",
       "    <tr style=\"text-align: right;\">\n",
       "      <th></th>\n",
       "      <th>restaurant_name</th>\n",
       "      <th>group</th>\n",
       "      <th>name_cluster</th>\n",
       "    </tr>\n",
       "  </thead>\n",
       "  <tbody>\n",
       "    <tr>\n",
       "      <th>0</th>\n",
       "      <td>Sushi Hiro (ซูชิฮิโระ) Eight Thonglor ชั้น1</td>\n",
       "      <td>1</td>\n",
       "      <td>1</td>\n",
       "    </tr>\n",
       "    <tr>\n",
       "      <th>1</th>\n",
       "      <td>Sushi Hiro พรอมานาด</td>\n",
       "      <td>2</td>\n",
       "      <td>2</td>\n",
       "    </tr>\n",
       "    <tr>\n",
       "      <th>2</th>\n",
       "      <td>ซูชิฮิโระ หองหล่อ</td>\n",
       "      <td>1</td>\n",
       "      <td>1</td>\n",
       "    </tr>\n",
       "    <tr>\n",
       "      <th>3</th>\n",
       "      <td>หองหล่อ Sushi Hiro ในตึก Eight</td>\n",
       "      <td>1</td>\n",
       "      <td>3</td>\n",
       "    </tr>\n",
       "    <tr>\n",
       "      <th>4</th>\n",
       "      <td>Hiro Sushi ทองหล่อ</td>\n",
       "      <td>1</td>\n",
       "      <td>3</td>\n",
       "    </tr>\n",
       "    <tr>\n",
       "      <th>5</th>\n",
       "      <td>Honmono Sushi (ฮอนโมโน ซูชิ) ทองหล่อ</td>\n",
       "      <td>3</td>\n",
       "      <td>1</td>\n",
       "    </tr>\n",
       "    <tr>\n",
       "      <th>6</th>\n",
       "      <td>ร้าน ซูชิ ฮอนโมโน แถว ทองหล่อ</td>\n",
       "      <td>3</td>\n",
       "      <td>1</td>\n",
       "    </tr>\n",
       "    <tr>\n",
       "      <th>7</th>\n",
       "      <td>Honmono Sushi สาขา เซ็นทรัล บางนา</td>\n",
       "      <td>4</td>\n",
       "      <td>1</td>\n",
       "    </tr>\n",
       "    <tr>\n",
       "      <th>8</th>\n",
       "      <td>ร้าน Sushi ฮอนโมโน บางนา</td>\n",
       "      <td>4</td>\n",
       "      <td>1</td>\n",
       "    </tr>\n",
       "    <tr>\n",
       "      <th>9</th>\n",
       "      <td>Honmono ซูชิ ซอย ทองหล่อ 23</td>\n",
       "      <td>3</td>\n",
       "      <td>1</td>\n",
       "    </tr>\n",
       "    <tr>\n",
       "      <th>10</th>\n",
       "      <td>Khao-Sō-i ซอยคอนแวนต์</td>\n",
       "      <td>5</td>\n",
       "      <td>4</td>\n",
       "    </tr>\n",
       "    <tr>\n",
       "      <th>11</th>\n",
       "      <td>ร้าน Khao-Sō-i แถว ตึก CP สีลม</td>\n",
       "      <td>5</td>\n",
       "      <td>4</td>\n",
       "    </tr>\n",
       "    <tr>\n",
       "      <th>12</th>\n",
       "      <td>Khao Sō-i Siam Paragon</td>\n",
       "      <td>6</td>\n",
       "      <td>4</td>\n",
       "    </tr>\n",
       "    <tr>\n",
       "      <th>13</th>\n",
       "      <td>ร้าน ข้าว โซอิ ซอยคอนแวนต์</td>\n",
       "      <td>5</td>\n",
       "      <td>4</td>\n",
       "    </tr>\n",
       "    <tr>\n",
       "      <th>14</th>\n",
       "      <td>ร้าน ข้าว โซอิ (Khao-Sō-i ) ริมน้ำปิง</td>\n",
       "      <td>7</td>\n",
       "      <td>4</td>\n",
       "    </tr>\n",
       "    <tr>\n",
       "      <th>15</th>\n",
       "      <td>Khao (ข้าว)เอกมัย 10</td>\n",
       "      <td>8</td>\n",
       "      <td>5</td>\n",
       "    </tr>\n",
       "    <tr>\n",
       "      <th>16</th>\n",
       "      <td>ข้าว แถวซอยเอกมัย</td>\n",
       "      <td>8</td>\n",
       "      <td>5</td>\n",
       "    </tr>\n",
       "    <tr>\n",
       "      <th>17</th>\n",
       "      <td>Khao @ Chiang Mai</td>\n",
       "      <td>9</td>\n",
       "      <td>4</td>\n",
       "    </tr>\n",
       "    <tr>\n",
       "      <th>18</th>\n",
       "      <td>ข้าง @ ekkamai</td>\n",
       "      <td>10</td>\n",
       "      <td>6</td>\n",
       "    </tr>\n",
       "    <tr>\n",
       "      <th>19</th>\n",
       "      <td>NANA Coffee Roaster (นานา คอฟฟี่ โรสเตอร์)Ari</td>\n",
       "      <td>11</td>\n",
       "      <td>7</td>\n",
       "    </tr>\n",
       "    <tr>\n",
       "      <th>20</th>\n",
       "      <td>ร้านกาแฟ นานา คอฟฟี่ ซอยอารีย์ 4</td>\n",
       "      <td>11</td>\n",
       "      <td>8</td>\n",
       "    </tr>\n",
       "    <tr>\n",
       "      <th>21</th>\n",
       "      <td>NANA Coffee @ Ari</td>\n",
       "      <td>11</td>\n",
       "      <td>7</td>\n",
       "    </tr>\n",
       "    <tr>\n",
       "      <th>22</th>\n",
       "      <td>นานา คอฟฟี่ โรสเตอร์ @ BTS Nana</td>\n",
       "      <td>12</td>\n",
       "      <td>7</td>\n",
       "    </tr>\n",
       "    <tr>\n",
       "      <th>23</th>\n",
       "      <td>NANA Roaster Coffee</td>\n",
       "      <td>11</td>\n",
       "      <td>7</td>\n",
       "    </tr>\n",
       "    <tr>\n",
       "      <th>24</th>\n",
       "      <td>นานา คอฟฟี่ โรศเคอร์</td>\n",
       "      <td>11</td>\n",
       "      <td>7</td>\n",
       "    </tr>\n",
       "    <tr>\n",
       "      <th>25</th>\n",
       "      <td>NANA TOKU SHABUCenterpoint of Siam Square ชั้น 3</td>\n",
       "      <td>13</td>\n",
       "      <td>7</td>\n",
       "    </tr>\n",
       "    <tr>\n",
       "      <th>26</th>\n",
       "      <td>ชาบู NANA TOKU</td>\n",
       "      <td>13</td>\n",
       "      <td>7</td>\n",
       "    </tr>\n",
       "    <tr>\n",
       "      <th>27</th>\n",
       "      <td>NANA TOKU @ Siam</td>\n",
       "      <td>13</td>\n",
       "      <td>7</td>\n",
       "    </tr>\n",
       "    <tr>\n",
       "      <th>28</th>\n",
       "      <td>นานะ โทกุ ชาบู</td>\n",
       "      <td>13</td>\n",
       "      <td>9</td>\n",
       "    </tr>\n",
       "    <tr>\n",
       "      <th>29</th>\n",
       "      <td>นานา โทกุ ชาบุ</td>\n",
       "      <td>13</td>\n",
       "      <td>9</td>\n",
       "    </tr>\n",
       "  </tbody>\n",
       "</table>\n",
       "</div>"
      ],
      "text/plain": [
       "                                     restaurant_name  group  name_cluster\n",
       "0        Sushi Hiro (ซูชิฮิโระ) Eight Thonglor ชั้น1      1             1\n",
       "1                                Sushi Hiro พรอมานาด      2             2\n",
       "2                                  ซูชิฮิโระ หองหล่อ      1             1\n",
       "3                     หองหล่อ Sushi Hiro ในตึก Eight      1             3\n",
       "4                                 Hiro Sushi ทองหล่อ      1             3\n",
       "5               Honmono Sushi (ฮอนโมโน ซูชิ) ทองหล่อ      3             1\n",
       "6                      ร้าน ซูชิ ฮอนโมโน แถว ทองหล่อ      3             1\n",
       "7                 Honmono Sushi สาขา เซ็นทรัล บางนา       4             1\n",
       "8                           ร้าน Sushi ฮอนโมโน บางนา      4             1\n",
       "9                        Honmono ซูชิ ซอย ทองหล่อ 23      3             1\n",
       "10                             Khao-Sō-i ซอยคอนแวนต์      5             4\n",
       "11                    ร้าน Khao-Sō-i แถว ตึก CP สีลม      5             4\n",
       "12                            Khao Sō-i Siam Paragon      6             4\n",
       "13                        ร้าน ข้าว โซอิ ซอยคอนแวนต์      5             4\n",
       "14             ร้าน ข้าว โซอิ (Khao-Sō-i ) ริมน้ำปิง      7             4\n",
       "15                              Khao (ข้าว)เอกมัย 10      8             5\n",
       "16                                 ข้าว แถวซอยเอกมัย      8             5\n",
       "17                                 Khao @ Chiang Mai      9             4\n",
       "18                                   ข้าง @ ekkamai      10             6\n",
       "19     NANA Coffee Roaster (นานา คอฟฟี่ โรสเตอร์)Ari     11             7\n",
       "20                  ร้านกาแฟ นานา คอฟฟี่ ซอยอารีย์ 4     11             8\n",
       "21                                 NANA Coffee @ Ari     11             7\n",
       "22                   นานา คอฟฟี่ โรสเตอร์ @ BTS Nana     12             7\n",
       "23                               NANA Roaster Coffee     11             7\n",
       "24                             นานา คอฟฟี่ โรศเคอร์      11             7\n",
       "25  NANA TOKU SHABUCenterpoint of Siam Square ชั้น 3     13             7\n",
       "26                                   ชาบู NANA TOKU      13             7\n",
       "27                                  NANA TOKU @ Siam     13             7\n",
       "28                                    นานะ โทกุ ชาบู     13             9\n",
       "29                                    นานา โทกุ ชาบุ     13             9"
      ]
     },
     "execution_count": 18,
     "metadata": {},
     "output_type": "execute_result"
    }
   ],
   "source": [
    "df_grouped[['restaurant_name', 'group', 'name_cluster']]"
   ]
  },
  {
   "cell_type": "code",
   "execution_count": 19,
   "metadata": {},
   "outputs": [
    {
     "name": "stdout",
     "output_type": "stream",
     "text": [
      "              precision    recall  f1-score   support\n",
      "\n",
      "           1       0.29      0.50      0.36         4\n",
      "           2       1.00      1.00      1.00         1\n",
      "           3       0.00      0.00      0.00         3\n",
      "           4       0.00      0.00      0.00         2\n",
      "           5       0.00      0.00      0.00         3\n",
      "           6       0.00      0.00      0.00         1\n",
      "           7       0.00      0.00      0.00         1\n",
      "           8       0.00      0.00      0.00         2\n",
      "           9       0.00      0.00      0.00         1\n",
      "          10       0.00      0.00      0.00         1\n",
      "          11       0.00      0.00      0.00         5\n",
      "          12       0.00      0.00      0.00         1\n",
      "          13       0.00      0.00      0.00         5\n",
      "\n",
      "    accuracy                           0.10        30\n",
      "   macro avg       0.10      0.12      0.10        30\n",
      "weighted avg       0.07      0.10      0.08        30\n",
      "\n"
     ]
    }
   ],
   "source": [
    "print(classification_report(df_grouped['group'], df_grouped['name_cluster'], zero_division=0))"
   ]
  },
  {
   "cell_type": "markdown",
   "metadata": {},
   "source": [
    "📒 The result from name matching is poor performance since they group only by name so if the same name but different location the results of grouping of name matching are mostly the same."
   ]
  },
  {
   "cell_type": "markdown",
   "metadata": {},
   "source": [
    "<a id=\"location_matching\"></a>\n",
    "# Location Matching"
   ]
  },
  {
   "cell_type": "code",
   "execution_count": 20,
   "metadata": {},
   "outputs": [],
   "source": [
    "from plotly import express as px\n",
    "from sklearn.cluster import DBSCAN\n",
    "import numpy as np"
   ]
  },
  {
   "cell_type": "code",
   "execution_count": 21,
   "metadata": {},
   "outputs": [
    {
     "data": {
      "application/vnd.plotly.v1+json": {
       "config": {
        "plotlyServerURL": "https://plot.ly"
       },
       "data": [
        {
         "geo": "geo",
         "hovertemplate": "<b>%{hovertext}</b><br><br>restaurant_name=Sushi Hiro (ซูชิฮิโระ) Eight Thonglor ชั้น1<br>lat=%{lat}<br>long=%{lon}<extra></extra>",
         "hovertext": [
          "Sushi Hiro (ซูชิฮิโระ) Eight Thonglor ชั้น1"
         ],
         "lat": {
          "bdata": "Vp5A2Cl2K0A=",
          "dtype": "f8"
         },
         "legendgroup": "Sushi Hiro (ซูชิฮิโระ) Eight Thonglor ชั้น1",
         "lon": {
          "bdata": "1uO+1TolWUA=",
          "dtype": "f8"
         },
         "marker": {
          "color": "#636efa",
          "symbol": "circle"
         },
         "mode": "markers",
         "name": "Sushi Hiro (ซูชิฮิโระ) Eight Thonglor ชั้น1",
         "showlegend": true,
         "type": "scattergeo"
        },
        {
         "geo": "geo",
         "hovertemplate": "<b>%{hovertext}</b><br><br>restaurant_name=Sushi Hiro พรอมานาด<br>lat=%{lat}<br>long=%{lon}<extra></extra>",
         "hovertext": [
          "Sushi Hiro พรอมานาด"
         ],
         "lat": {
          "bdata": "axDmdi+nK0A=",
          "dtype": "f8"
         },
         "legendgroup": "Sushi Hiro พรอมานาด",
         "lon": {
          "bdata": "Ctrk8EkrWUA=",
          "dtype": "f8"
         },
         "marker": {
          "color": "#EF553B",
          "symbol": "circle"
         },
         "mode": "markers",
         "name": "Sushi Hiro พรอมานาด",
         "showlegend": true,
         "type": "scattergeo"
        },
        {
         "geo": "geo",
         "hovertemplate": "<b>%{hovertext}</b><br><br>restaurant_name=ซูชิฮิโระ หองหล่อ<br>lat=%{lat}<br>long=%{lon}<extra></extra>",
         "hovertext": [
          "ซูชิฮิโระ หองหล่อ"
         ],
         "lat": {
          "bdata": "9UpZhjh2K0A=",
          "dtype": "f8"
         },
         "legendgroup": "ซูชิฮิโระ หองหล่อ",
         "lon": {
          "bdata": "TFRvDWwlWUA=",
          "dtype": "f8"
         },
         "marker": {
          "color": "#00cc96",
          "symbol": "circle"
         },
         "mode": "markers",
         "name": "ซูชิฮิโระ หองหล่อ",
         "showlegend": true,
         "type": "scattergeo"
        },
        {
         "geo": "geo",
         "hovertemplate": "<b>%{hovertext}</b><br><br>restaurant_name=หองหล่อ Sushi Hiro ในตึก Eight<br>lat=%{lat}<br>long=%{lon}<extra></extra>",
         "hovertext": [
          "หองหล่อ Sushi Hiro ในตึก Eight"
         ],
         "lat": {
          "bdata": "5BOy8zZ2K0A=",
          "dtype": "f8"
         },
         "legendgroup": "หองหล่อ Sushi Hiro ในตึก Eight",
         "lon": {
          "bdata": "eeV620wlWUA=",
          "dtype": "f8"
         },
         "marker": {
          "color": "#ab63fa",
          "symbol": "circle"
         },
         "mode": "markers",
         "name": "หองหล่อ Sushi Hiro ในตึก Eight",
         "showlegend": true,
         "type": "scattergeo"
        },
        {
         "geo": "geo",
         "hovertemplate": "<b>%{hovertext}</b><br><br>restaurant_name=Hiro Sushi ทองหล่อ<br>lat=%{lat}<br>long=%{lon}<extra></extra>",
         "hovertext": [
          "Hiro Sushi ทองหล่อ"
         ],
         "lat": {
          "bdata": "4Qm9/iR2K0A=",
          "dtype": "f8"
         },
         "legendgroup": "Hiro Sushi ทองหล่อ",
         "lon": {
          "bdata": "AfxTqkQlWUA=",
          "dtype": "f8"
         },
         "marker": {
          "color": "#FFA15A",
          "symbol": "circle"
         },
         "mode": "markers",
         "name": "Hiro Sushi ทองหล่อ",
         "showlegend": true,
         "type": "scattergeo"
        },
        {
         "geo": "geo",
         "hovertemplate": "<b>%{hovertext}</b><br><br>restaurant_name=Honmono Sushi (ฮอนโมโน ซูชิ) ทองหล่อ<br>lat=%{lat}<br>long=%{lon}<extra></extra>",
         "hovertext": [
          "Honmono Sushi (ฮอนโมโน ซูชิ) ทองหล่อ"
         ],
         "lat": {
          "bdata": "qn6l8+F5K0A=",
          "dtype": "f8"
         },
         "legendgroup": "Honmono Sushi (ฮอนโมโน ซูชิ) ทองหล่อ",
         "lon": {
          "bdata": "okEKnkIlWUA=",
          "dtype": "f8"
         },
         "marker": {
          "color": "#19d3f3",
          "symbol": "circle"
         },
         "mode": "markers",
         "name": "Honmono Sushi (ฮอนโมโน ซูชิ) ทองหล่อ",
         "showlegend": true,
         "type": "scattergeo"
        },
        {
         "geo": "geo",
         "hovertemplate": "<b>%{hovertext}</b><br><br>restaurant_name=ร้าน ซูชิ ฮอนโมโน แถว ทองหล่อ<br>lat=%{lat}<br>long=%{lon}<extra></extra>",
         "hovertext": [
          "ร้าน ซูชิ ฮอนโมโน แถว ทองหล่อ"
         ],
         "lat": {
          "bdata": "LV3BNuJ5K0A=",
          "dtype": "f8"
         },
         "legendgroup": "ร้าน ซูชิ ฮอนโมโน แถว ทองหล่อ",
         "lon": {
          "bdata": "w2SqYFQlWUA=",
          "dtype": "f8"
         },
         "marker": {
          "color": "#FF6692",
          "symbol": "circle"
         },
         "mode": "markers",
         "name": "ร้าน ซูชิ ฮอนโมโน แถว ทองหล่อ",
         "showlegend": true,
         "type": "scattergeo"
        },
        {
         "geo": "geo",
         "hovertemplate": "<b>%{hovertext}</b><br><br>restaurant_name=Honmono Sushi สาขา เซ็นทรัล บางนา <br>lat=%{lat}<br>long=%{lon}<extra></extra>",
         "hovertext": [
          "Honmono Sushi สาขา เซ็นทรัล บางนา "
         ],
         "lat": {
          "bdata": "86s5QDBXK0A=",
          "dtype": "f8"
         },
         "legendgroup": "Honmono Sushi สาขา เซ็นทรัล บางนา ",
         "lon": {
          "bdata": "bm3heakoWUA=",
          "dtype": "f8"
         },
         "marker": {
          "color": "#B6E880",
          "symbol": "circle"
         },
         "mode": "markers",
         "name": "Honmono Sushi สาขา เซ็นทรัล บางนา ",
         "showlegend": true,
         "type": "scattergeo"
        },
        {
         "geo": "geo",
         "hovertemplate": "<b>%{hovertext}</b><br><br>restaurant_name=ร้าน Sushi ฮอนโมโน บางนา<br>lat=%{lat}<br>long=%{lon}<extra></extra>",
         "hovertext": [
          "ร้าน Sushi ฮอนโมโน บางนา"
         ],
         "lat": {
          "bdata": "5KCEmbZXK0A=",
          "dtype": "f8"
         },
         "legendgroup": "ร้าน Sushi ฮอนโมโน บางนา",
         "lon": {
          "bdata": "6MHdWbsoWUA=",
          "dtype": "f8"
         },
         "marker": {
          "color": "#FF97FF",
          "symbol": "circle"
         },
         "mode": "markers",
         "name": "ร้าน Sushi ฮอนโมโน บางนา",
         "showlegend": true,
         "type": "scattergeo"
        },
        {
         "geo": "geo",
         "hovertemplate": "<b>%{hovertext}</b><br><br>restaurant_name=Honmono ซูชิ ซอย ทองหล่อ 23<br>lat=%{lat}<br>long=%{lon}<extra></extra>",
         "hovertext": [
          "Honmono ซูชิ ซอย ทองหล่อ 23"
         ],
         "lat": {
          "bdata": "xmmIKvx5K0A=",
          "dtype": "f8"
         },
         "legendgroup": "Honmono ซูชิ ซอย ทองหล่อ 23",
         "lon": {
          "bdata": "28AdqFMlWUA=",
          "dtype": "f8"
         },
         "marker": {
          "color": "#FECB52",
          "symbol": "circle"
         },
         "mode": "markers",
         "name": "Honmono ซูชิ ซอย ทองหล่อ 23",
         "showlegend": true,
         "type": "scattergeo"
        },
        {
         "geo": "geo",
         "hovertemplate": "<b>%{hovertext}</b><br><br>restaurant_name=Khao-Sō-i ซอยคอนแวนต์<br>lat=%{lat}<br>long=%{lon}<extra></extra>",
         "hovertext": [
          "Khao-Sō-i ซอยคอนแวนต์"
         ],
         "lat": {
          "bdata": "/1iIDoFzK0A=",
          "dtype": "f8"
         },
         "legendgroup": "Khao-Sō-i ซอยคอนแวนต์",
         "lon": {
          "bdata": "xFvn3y4iWUA=",
          "dtype": "f8"
         },
         "marker": {
          "color": "#636efa",
          "symbol": "circle"
         },
         "mode": "markers",
         "name": "Khao-Sō-i ซอยคอนแวนต์",
         "showlegend": true,
         "type": "scattergeo"
        },
        {
         "geo": "geo",
         "hovertemplate": "<b>%{hovertext}</b><br><br>restaurant_name=ร้าน Khao-Sō-i แถว ตึก CP สีลม<br>lat=%{lat}<br>long=%{lon}<extra></extra>",
         "hovertext": [
          "ร้าน Khao-Sō-i แถว ตึก CP สีลม"
         ],
         "lat": {
          "bdata": "vhJIiV1zK0A=",
          "dtype": "f8"
         },
         "legendgroup": "ร้าน Khao-Sō-i แถว ตึก CP สีลม",
         "lon": {
          "bdata": "+83EdCEiWUA=",
          "dtype": "f8"
         },
         "marker": {
          "color": "#EF553B",
          "symbol": "circle"
         },
         "mode": "markers",
         "name": "ร้าน Khao-Sō-i แถว ตึก CP สีลม",
         "showlegend": true,
         "type": "scattergeo"
        },
        {
         "geo": "geo",
         "hovertemplate": "<b>%{hovertext}</b><br><br>restaurant_name=Khao Sō-i Siam Paragon<br>lat=%{lat}<br>long=%{lon}<extra></extra>",
         "hovertext": [
          "Khao Sō-i Siam Paragon"
         ],
         "lat": {
          "bdata": "oFT7dDx+K0A=",
          "dtype": "f8"
         },
         "legendgroup": "Khao Sō-i Siam Paragon",
         "lon": {
          "bdata": "KT4+ITsiWUA=",
          "dtype": "f8"
         },
         "marker": {
          "color": "#00cc96",
          "symbol": "circle"
         },
         "mode": "markers",
         "name": "Khao Sō-i Siam Paragon",
         "showlegend": true,
         "type": "scattergeo"
        },
        {
         "geo": "geo",
         "hovertemplate": "<b>%{hovertext}</b><br><br>restaurant_name=ร้าน ข้าว โซอิ ซอยคอนแวนต์<br>lat=%{lat}<br>long=%{lon}<extra></extra>",
         "hovertext": [
          "ร้าน ข้าว โซอิ ซอยคอนแวนต์"
         ],
         "lat": {
          "bdata": "OLu1TIZzK0A=",
          "dtype": "f8"
         },
         "legendgroup": "ร้าน ข้าว โซอิ ซอยคอนแวนต์",
         "lon": {
          "bdata": "klhS7j4iWUA=",
          "dtype": "f8"
         },
         "marker": {
          "color": "#ab63fa",
          "symbol": "circle"
         },
         "mode": "markers",
         "name": "ร้าน ข้าว โซอิ ซอยคอนแวนต์",
         "showlegend": true,
         "type": "scattergeo"
        },
        {
         "geo": "geo",
         "hovertemplate": "<b>%{hovertext}</b><br><br>restaurant_name=ร้าน ข้าว โซอิ (Khao-Sō-i ) ริมน้ำปิง<br>lat=%{lat}<br>long=%{lon}<extra></extra>",
         "hovertext": [
          "ร้าน ข้าว โซอิ (Khao-Sō-i ) ริมน้ำปิง"
         ],
         "lat": {
          "bdata": "RDAOLh3PMkA=",
          "dtype": "f8"
         },
         "legendgroup": "ร้าน ข้าว โซอิ (Khao-Sō-i ) ริมน้ำปิง",
         "lon": {
          "bdata": "Mh8Q6EzAWEA=",
          "dtype": "f8"
         },
         "marker": {
          "color": "#FFA15A",
          "symbol": "circle"
         },
         "mode": "markers",
         "name": "ร้าน ข้าว โซอิ (Khao-Sō-i ) ริมน้ำปิง",
         "showlegend": true,
         "type": "scattergeo"
        },
        {
         "geo": "geo",
         "hovertemplate": "<b>%{hovertext}</b><br><br>restaurant_name=Khao (ข้าว)เอกมัย 10<br>lat=%{lat}<br>long=%{lon}<extra></extra>",
         "hovertext": [
          "Khao (ข้าว)เอกมัย 10"
         ],
         "lat": {
          "bdata": "/+px32p1K0A=",
          "dtype": "f8"
         },
         "legendgroup": "Khao (ข้าว)เอกมัย 10",
         "lon": {
          "bdata": "5YBdTZ4lWUA=",
          "dtype": "f8"
         },
         "marker": {
          "color": "#19d3f3",
          "symbol": "circle"
         },
         "mode": "markers",
         "name": "Khao (ข้าว)เอกมัย 10",
         "showlegend": true,
         "type": "scattergeo"
        },
        {
         "geo": "geo",
         "hovertemplate": "<b>%{hovertext}</b><br><br>restaurant_name=ข้าว แถวซอยเอกมัย<br>lat=%{lat}<br>long=%{lon}<extra></extra>",
         "hovertext": [
          "ข้าว แถวซอยเอกมัย"
         ],
         "lat": {
          "bdata": "0NGqlnR0K0A=",
          "dtype": "f8"
         },
         "legendgroup": "ข้าว แถวซอยเอกมัย",
         "lon": {
          "bdata": "/FQVGoglWUA=",
          "dtype": "f8"
         },
         "marker": {
          "color": "#FF6692",
          "symbol": "circle"
         },
         "mode": "markers",
         "name": "ข้าว แถวซอยเอกมัย",
         "showlegend": true,
         "type": "scattergeo"
        },
        {
         "geo": "geo",
         "hovertemplate": "<b>%{hovertext}</b><br><br>restaurant_name=Khao @ Chiang Mai<br>lat=%{lat}<br>long=%{lon}<extra></extra>",
         "hovertext": [
          "Khao @ Chiang Mai"
         ],
         "lat": {
          "bdata": "wCZr1EPUMkA=",
          "dtype": "f8"
         },
         "legendgroup": "Khao @ Chiang Mai",
         "lon": {
          "bdata": "+3Q8ZqC+WEA=",
          "dtype": "f8"
         },
         "marker": {
          "color": "#B6E880",
          "symbol": "circle"
         },
         "mode": "markers",
         "name": "Khao @ Chiang Mai",
         "showlegend": true,
         "type": "scattergeo"
        },
        {
         "geo": "geo",
         "hovertemplate": "<b>%{hovertext}</b><br><br>restaurant_name=ข้าง @ ekkamai <br>lat=%{lat}<br>long=%{lon}<extra></extra>",
         "hovertext": [
          "ข้าง @ ekkamai "
         ],
         "lat": {
          "bdata": "0NGqlnR0K0A=",
          "dtype": "f8"
         },
         "legendgroup": "ข้าง @ ekkamai ",
         "lon": {
          "bdata": "/FQVGoglWUA=",
          "dtype": "f8"
         },
         "marker": {
          "color": "#FF97FF",
          "symbol": "circle"
         },
         "mode": "markers",
         "name": "ข้าง @ ekkamai ",
         "showlegend": true,
         "type": "scattergeo"
        },
        {
         "geo": "geo",
         "hovertemplate": "<b>%{hovertext}</b><br><br>restaurant_name=NANA Coffee Roaster (นานา คอฟฟี่ โรสเตอร์)Ari<br>lat=%{lat}<br>long=%{lon}<extra></extra>",
         "hovertext": [
          "NANA Coffee Roaster (นานา คอฟฟี่ โรสเตอร์)Ari"
         ],
         "lat": {
          "bdata": "OBWpMLaQK0A=",
          "dtype": "f8"
         },
         "legendgroup": "NANA Coffee Roaster (นานา คอฟฟี่ โรสเตอร์)Ari",
         "lon": {
          "bdata": "mgewyK8iWUA=",
          "dtype": "f8"
         },
         "marker": {
          "color": "#FECB52",
          "symbol": "circle"
         },
         "mode": "markers",
         "name": "NANA Coffee Roaster (นานา คอฟฟี่ โรสเตอร์)Ari",
         "showlegend": true,
         "type": "scattergeo"
        },
        {
         "geo": "geo",
         "hovertemplate": "<b>%{hovertext}</b><br><br>restaurant_name=ร้านกาแฟ นานา คอฟฟี่ ซอยอารีย์ 4<br>lat=%{lat}<br>long=%{lon}<extra></extra>",
         "hovertext": [
          "ร้านกาแฟ นานา คอฟฟี่ ซอยอารีย์ 4"
         ],
         "lat": {
          "bdata": "uK8D54yQK0A=",
          "dtype": "f8"
         },
         "legendgroup": "ร้านกาแฟ นานา คอฟฟี่ ซอยอารีย์ 4",
         "lon": {
          "bdata": "6NhBJa4iWUA=",
          "dtype": "f8"
         },
         "marker": {
          "color": "#636efa",
          "symbol": "circle"
         },
         "mode": "markers",
         "name": "ร้านกาแฟ นานา คอฟฟี่ ซอยอารีย์ 4",
         "showlegend": true,
         "type": "scattergeo"
        },
        {
         "geo": "geo",
         "hovertemplate": "<b>%{hovertext}</b><br><br>restaurant_name=NANA Coffee @ Ari<br>lat=%{lat}<br>long=%{lon}<extra></extra>",
         "hovertext": [
          "NANA Coffee @ Ari"
         ],
         "lat": {
          "bdata": "blD7rZ2QK0A=",
          "dtype": "f8"
         },
         "legendgroup": "NANA Coffee @ Ari",
         "lon": {
          "bdata": "ELOXbaciWUA=",
          "dtype": "f8"
         },
         "marker": {
          "color": "#EF553B",
          "symbol": "circle"
         },
         "mode": "markers",
         "name": "NANA Coffee @ Ari",
         "showlegend": true,
         "type": "scattergeo"
        },
        {
         "geo": "geo",
         "hovertemplate": "<b>%{hovertext}</b><br><br>restaurant_name=นานา คอฟฟี่ โรสเตอร์ @ BTS Nana<br>lat=%{lat}<br>long=%{lon}<extra></extra>",
         "hovertext": [
          "นานา คอฟฟี่ โรสเตอร์ @ BTS Nana"
         ],
         "lat": {
          "bdata": "eqUsQxx7K0A=",
          "dtype": "f8"
         },
         "legendgroup": "นานา คอฟฟี่ โรสเตอร์ @ BTS Nana",
         "lon": {
          "bdata": "M/59xoUjWUA=",
          "dtype": "f8"
         },
         "marker": {
          "color": "#00cc96",
          "symbol": "circle"
         },
         "mode": "markers",
         "name": "นานา คอฟฟี่ โรสเตอร์ @ BTS Nana",
         "showlegend": true,
         "type": "scattergeo"
        },
        {
         "geo": "geo",
         "hovertemplate": "<b>%{hovertext}</b><br><br>restaurant_name=NANA Roaster Coffee<br>lat=%{lat}<br>long=%{lon}<extra></extra>",
         "hovertext": [
          "NANA Roaster Coffee"
         ],
         "lat": {
          "bdata": "8fRKWYaQK0A=",
          "dtype": "f8"
         },
         "legendgroup": "NANA Roaster Coffee",
         "lon": {
          "bdata": "a4MT0a8iWUA=",
          "dtype": "f8"
         },
         "marker": {
          "color": "#ab63fa",
          "symbol": "circle"
         },
         "mode": "markers",
         "name": "NANA Roaster Coffee",
         "showlegend": true,
         "type": "scattergeo"
        },
        {
         "geo": "geo",
         "hovertemplate": "<b>%{hovertext}</b><br><br>restaurant_name=นานา คอฟฟี่ โรศเคอร์ <br>lat=%{lat}<br>long=%{lon}<extra></extra>",
         "hovertext": [
          "นานา คอฟฟี่ โรศเคอร์ "
         ],
         "lat": {
          "bdata": "qvHSTWKQK0A=",
          "dtype": "f8"
         },
         "legendgroup": "นานา คอฟฟี่ โรศเคอร์ ",
         "lon": {
          "bdata": "a4MT0a8iWUA=",
          "dtype": "f8"
         },
         "marker": {
          "color": "#FFA15A",
          "symbol": "circle"
         },
         "mode": "markers",
         "name": "นานา คอฟฟี่ โรศเคอร์ ",
         "showlegend": true,
         "type": "scattergeo"
        },
        {
         "geo": "geo",
         "hovertemplate": "<b>%{hovertext}</b><br><br>restaurant_name=NANA TOKU SHABUCenterpoint of Siam Square ชั้น 3<br>lat=%{lat}<br>long=%{lon}<extra></extra>",
         "hovertext": [
          "NANA TOKU SHABUCenterpoint of Siam Square ชั้น 3"
         ],
         "lat": {
          "bdata": "9nr3x3t9K0A=",
          "dtype": "f8"
         },
         "legendgroup": "NANA TOKU SHABUCenterpoint of Siam Square ชั้น 3",
         "lon": {
          "bdata": "JclzfR8iWUA=",
          "dtype": "f8"
         },
         "marker": {
          "color": "#19d3f3",
          "symbol": "circle"
         },
         "mode": "markers",
         "name": "NANA TOKU SHABUCenterpoint of Siam Square ชั้น 3",
         "showlegend": true,
         "type": "scattergeo"
        },
        {
         "geo": "geo",
         "hovertemplate": "<b>%{hovertext}</b><br><br>restaurant_name=ชาบู NANA TOKU <br>lat=%{lat}<br>long=%{lon}<extra></extra>",
         "hovertext": [
          "ชาบู NANA TOKU "
         ],
         "lat": {
          "bdata": "LnO6LCZ+K0A=",
          "dtype": "f8"
         },
         "legendgroup": "ชาบู NANA TOKU ",
         "lon": {
          "bdata": "w/NSsTEiWUA=",
          "dtype": "f8"
         },
         "marker": {
          "color": "#FF6692",
          "symbol": "circle"
         },
         "mode": "markers",
         "name": "ชาบู NANA TOKU ",
         "showlegend": true,
         "type": "scattergeo"
        },
        {
         "geo": "geo",
         "hovertemplate": "<b>%{hovertext}</b><br><br>restaurant_name=NANA TOKU @ Siam<br>lat=%{lat}<br>long=%{lon}<extra></extra>",
         "hovertext": [
          "NANA TOKU @ Siam"
         ],
         "lat": {
          "bdata": "eZPfopN9K0A=",
          "dtype": "f8"
         },
         "legendgroup": "NANA TOKU @ Siam",
         "lon": {
          "bdata": "47yk1iAiWUA=",
          "dtype": "f8"
         },
         "marker": {
          "color": "#B6E880",
          "symbol": "circle"
         },
         "mode": "markers",
         "name": "NANA TOKU @ Siam",
         "showlegend": true,
         "type": "scattergeo"
        },
        {
         "geo": "geo",
         "hovertemplate": "<b>%{hovertext}</b><br><br>restaurant_name=นานะ โทกุ ชาบู<br>lat=%{lat}<br>long=%{lon}<extra></extra>",
         "hovertext": [
          "นานะ โทกุ ชาบู"
         ],
         "lat": {
          "bdata": "ByY3iqx9K0A=",
          "dtype": "f8"
         },
         "legendgroup": "นานะ โทกุ ชาบู",
         "lon": {
          "bdata": "ucH1zSIiWUA=",
          "dtype": "f8"
         },
         "marker": {
          "color": "#FF97FF",
          "symbol": "circle"
         },
         "mode": "markers",
         "name": "นานะ โทกุ ชาบู",
         "showlegend": true,
         "type": "scattergeo"
        },
        {
         "geo": "geo",
         "hovertemplate": "<b>%{hovertext}</b><br><br>restaurant_name=นานา โทกุ ชาบุ<br>lat=%{lat}<br>long=%{lon}<extra></extra>",
         "hovertext": [
          "นานา โทกุ ชาบุ"
         ],
         "lat": {
          "bdata": "Cp+tg4N9K0A=",
          "dtype": "f8"
         },
         "legendgroup": "นานา โทกุ ชาบุ",
         "lon": {
          "bdata": "VaaYgyAiWUA=",
          "dtype": "f8"
         },
         "marker": {
          "color": "#FECB52",
          "symbol": "circle"
         },
         "mode": "markers",
         "name": "นานา โทกุ ชาบุ",
         "showlegend": true,
         "type": "scattergeo"
        }
       ],
       "layout": {
        "geo": {
         "center": {
          "lat": 13.7563,
          "lon": 100.5018
         },
         "coastlinecolor": "RebeccaPurple",
         "domain": {
          "x": [
           0,
           1
          ],
          "y": [
           0,
           1
          ]
         },
         "fitbounds": "locations",
         "projection": {
          "type": "mercator"
         },
         "scope": "asia",
         "showcoastlines": true,
         "showland": true,
         "visible": false
        },
        "legend": {
         "title": {
          "text": "restaurant_name"
         },
         "tracegroupgap": 0
        },
        "mapbox": {
         "zoom": 10
        },
        "margin": {
         "t": 60
        },
        "showlegend": true,
        "template": {
         "data": {
          "bar": [
           {
            "error_x": {
             "color": "#2a3f5f"
            },
            "error_y": {
             "color": "#2a3f5f"
            },
            "marker": {
             "line": {
              "color": "#E5ECF6",
              "width": 0.5
             },
             "pattern": {
              "fillmode": "overlay",
              "size": 10,
              "solidity": 0.2
             }
            },
            "type": "bar"
           }
          ],
          "barpolar": [
           {
            "marker": {
             "line": {
              "color": "#E5ECF6",
              "width": 0.5
             },
             "pattern": {
              "fillmode": "overlay",
              "size": 10,
              "solidity": 0.2
             }
            },
            "type": "barpolar"
           }
          ],
          "carpet": [
           {
            "aaxis": {
             "endlinecolor": "#2a3f5f",
             "gridcolor": "white",
             "linecolor": "white",
             "minorgridcolor": "white",
             "startlinecolor": "#2a3f5f"
            },
            "baxis": {
             "endlinecolor": "#2a3f5f",
             "gridcolor": "white",
             "linecolor": "white",
             "minorgridcolor": "white",
             "startlinecolor": "#2a3f5f"
            },
            "type": "carpet"
           }
          ],
          "choropleth": [
           {
            "colorbar": {
             "outlinewidth": 0,
             "ticks": ""
            },
            "type": "choropleth"
           }
          ],
          "contour": [
           {
            "colorbar": {
             "outlinewidth": 0,
             "ticks": ""
            },
            "colorscale": [
             [
              0,
              "#0d0887"
             ],
             [
              0.1111111111111111,
              "#46039f"
             ],
             [
              0.2222222222222222,
              "#7201a8"
             ],
             [
              0.3333333333333333,
              "#9c179e"
             ],
             [
              0.4444444444444444,
              "#bd3786"
             ],
             [
              0.5555555555555556,
              "#d8576b"
             ],
             [
              0.6666666666666666,
              "#ed7953"
             ],
             [
              0.7777777777777778,
              "#fb9f3a"
             ],
             [
              0.8888888888888888,
              "#fdca26"
             ],
             [
              1,
              "#f0f921"
             ]
            ],
            "type": "contour"
           }
          ],
          "contourcarpet": [
           {
            "colorbar": {
             "outlinewidth": 0,
             "ticks": ""
            },
            "type": "contourcarpet"
           }
          ],
          "heatmap": [
           {
            "colorbar": {
             "outlinewidth": 0,
             "ticks": ""
            },
            "colorscale": [
             [
              0,
              "#0d0887"
             ],
             [
              0.1111111111111111,
              "#46039f"
             ],
             [
              0.2222222222222222,
              "#7201a8"
             ],
             [
              0.3333333333333333,
              "#9c179e"
             ],
             [
              0.4444444444444444,
              "#bd3786"
             ],
             [
              0.5555555555555556,
              "#d8576b"
             ],
             [
              0.6666666666666666,
              "#ed7953"
             ],
             [
              0.7777777777777778,
              "#fb9f3a"
             ],
             [
              0.8888888888888888,
              "#fdca26"
             ],
             [
              1,
              "#f0f921"
             ]
            ],
            "type": "heatmap"
           }
          ],
          "histogram": [
           {
            "marker": {
             "pattern": {
              "fillmode": "overlay",
              "size": 10,
              "solidity": 0.2
             }
            },
            "type": "histogram"
           }
          ],
          "histogram2d": [
           {
            "colorbar": {
             "outlinewidth": 0,
             "ticks": ""
            },
            "colorscale": [
             [
              0,
              "#0d0887"
             ],
             [
              0.1111111111111111,
              "#46039f"
             ],
             [
              0.2222222222222222,
              "#7201a8"
             ],
             [
              0.3333333333333333,
              "#9c179e"
             ],
             [
              0.4444444444444444,
              "#bd3786"
             ],
             [
              0.5555555555555556,
              "#d8576b"
             ],
             [
              0.6666666666666666,
              "#ed7953"
             ],
             [
              0.7777777777777778,
              "#fb9f3a"
             ],
             [
              0.8888888888888888,
              "#fdca26"
             ],
             [
              1,
              "#f0f921"
             ]
            ],
            "type": "histogram2d"
           }
          ],
          "histogram2dcontour": [
           {
            "colorbar": {
             "outlinewidth": 0,
             "ticks": ""
            },
            "colorscale": [
             [
              0,
              "#0d0887"
             ],
             [
              0.1111111111111111,
              "#46039f"
             ],
             [
              0.2222222222222222,
              "#7201a8"
             ],
             [
              0.3333333333333333,
              "#9c179e"
             ],
             [
              0.4444444444444444,
              "#bd3786"
             ],
             [
              0.5555555555555556,
              "#d8576b"
             ],
             [
              0.6666666666666666,
              "#ed7953"
             ],
             [
              0.7777777777777778,
              "#fb9f3a"
             ],
             [
              0.8888888888888888,
              "#fdca26"
             ],
             [
              1,
              "#f0f921"
             ]
            ],
            "type": "histogram2dcontour"
           }
          ],
          "mesh3d": [
           {
            "colorbar": {
             "outlinewidth": 0,
             "ticks": ""
            },
            "type": "mesh3d"
           }
          ],
          "parcoords": [
           {
            "line": {
             "colorbar": {
              "outlinewidth": 0,
              "ticks": ""
             }
            },
            "type": "parcoords"
           }
          ],
          "pie": [
           {
            "automargin": true,
            "type": "pie"
           }
          ],
          "scatter": [
           {
            "fillpattern": {
             "fillmode": "overlay",
             "size": 10,
             "solidity": 0.2
            },
            "type": "scatter"
           }
          ],
          "scatter3d": [
           {
            "line": {
             "colorbar": {
              "outlinewidth": 0,
              "ticks": ""
             }
            },
            "marker": {
             "colorbar": {
              "outlinewidth": 0,
              "ticks": ""
             }
            },
            "type": "scatter3d"
           }
          ],
          "scattercarpet": [
           {
            "marker": {
             "colorbar": {
              "outlinewidth": 0,
              "ticks": ""
             }
            },
            "type": "scattercarpet"
           }
          ],
          "scattergeo": [
           {
            "marker": {
             "colorbar": {
              "outlinewidth": 0,
              "ticks": ""
             }
            },
            "type": "scattergeo"
           }
          ],
          "scattergl": [
           {
            "marker": {
             "colorbar": {
              "outlinewidth": 0,
              "ticks": ""
             }
            },
            "type": "scattergl"
           }
          ],
          "scattermap": [
           {
            "marker": {
             "colorbar": {
              "outlinewidth": 0,
              "ticks": ""
             }
            },
            "type": "scattermap"
           }
          ],
          "scattermapbox": [
           {
            "marker": {
             "colorbar": {
              "outlinewidth": 0,
              "ticks": ""
             }
            },
            "type": "scattermapbox"
           }
          ],
          "scatterpolar": [
           {
            "marker": {
             "colorbar": {
              "outlinewidth": 0,
              "ticks": ""
             }
            },
            "type": "scatterpolar"
           }
          ],
          "scatterpolargl": [
           {
            "marker": {
             "colorbar": {
              "outlinewidth": 0,
              "ticks": ""
             }
            },
            "type": "scatterpolargl"
           }
          ],
          "scatterternary": [
           {
            "marker": {
             "colorbar": {
              "outlinewidth": 0,
              "ticks": ""
             }
            },
            "type": "scatterternary"
           }
          ],
          "surface": [
           {
            "colorbar": {
             "outlinewidth": 0,
             "ticks": ""
            },
            "colorscale": [
             [
              0,
              "#0d0887"
             ],
             [
              0.1111111111111111,
              "#46039f"
             ],
             [
              0.2222222222222222,
              "#7201a8"
             ],
             [
              0.3333333333333333,
              "#9c179e"
             ],
             [
              0.4444444444444444,
              "#bd3786"
             ],
             [
              0.5555555555555556,
              "#d8576b"
             ],
             [
              0.6666666666666666,
              "#ed7953"
             ],
             [
              0.7777777777777778,
              "#fb9f3a"
             ],
             [
              0.8888888888888888,
              "#fdca26"
             ],
             [
              1,
              "#f0f921"
             ]
            ],
            "type": "surface"
           }
          ],
          "table": [
           {
            "cells": {
             "fill": {
              "color": "#EBF0F8"
             },
             "line": {
              "color": "white"
             }
            },
            "header": {
             "fill": {
              "color": "#C8D4E3"
             },
             "line": {
              "color": "white"
             }
            },
            "type": "table"
           }
          ]
         },
         "layout": {
          "annotationdefaults": {
           "arrowcolor": "#2a3f5f",
           "arrowhead": 0,
           "arrowwidth": 1
          },
          "autotypenumbers": "strict",
          "coloraxis": {
           "colorbar": {
            "outlinewidth": 0,
            "ticks": ""
           }
          },
          "colorscale": {
           "diverging": [
            [
             0,
             "#8e0152"
            ],
            [
             0.1,
             "#c51b7d"
            ],
            [
             0.2,
             "#de77ae"
            ],
            [
             0.3,
             "#f1b6da"
            ],
            [
             0.4,
             "#fde0ef"
            ],
            [
             0.5,
             "#f7f7f7"
            ],
            [
             0.6,
             "#e6f5d0"
            ],
            [
             0.7,
             "#b8e186"
            ],
            [
             0.8,
             "#7fbc41"
            ],
            [
             0.9,
             "#4d9221"
            ],
            [
             1,
             "#276419"
            ]
           ],
           "sequential": [
            [
             0,
             "#0d0887"
            ],
            [
             0.1111111111111111,
             "#46039f"
            ],
            [
             0.2222222222222222,
             "#7201a8"
            ],
            [
             0.3333333333333333,
             "#9c179e"
            ],
            [
             0.4444444444444444,
             "#bd3786"
            ],
            [
             0.5555555555555556,
             "#d8576b"
            ],
            [
             0.6666666666666666,
             "#ed7953"
            ],
            [
             0.7777777777777778,
             "#fb9f3a"
            ],
            [
             0.8888888888888888,
             "#fdca26"
            ],
            [
             1,
             "#f0f921"
            ]
           ],
           "sequentialminus": [
            [
             0,
             "#0d0887"
            ],
            [
             0.1111111111111111,
             "#46039f"
            ],
            [
             0.2222222222222222,
             "#7201a8"
            ],
            [
             0.3333333333333333,
             "#9c179e"
            ],
            [
             0.4444444444444444,
             "#bd3786"
            ],
            [
             0.5555555555555556,
             "#d8576b"
            ],
            [
             0.6666666666666666,
             "#ed7953"
            ],
            [
             0.7777777777777778,
             "#fb9f3a"
            ],
            [
             0.8888888888888888,
             "#fdca26"
            ],
            [
             1,
             "#f0f921"
            ]
           ]
          },
          "colorway": [
           "#636efa",
           "#EF553B",
           "#00cc96",
           "#ab63fa",
           "#FFA15A",
           "#19d3f3",
           "#FF6692",
           "#B6E880",
           "#FF97FF",
           "#FECB52"
          ],
          "font": {
           "color": "#2a3f5f"
          },
          "geo": {
           "bgcolor": "white",
           "lakecolor": "white",
           "landcolor": "#E5ECF6",
           "showlakes": true,
           "showland": true,
           "subunitcolor": "white"
          },
          "hoverlabel": {
           "align": "left"
          },
          "hovermode": "closest",
          "mapbox": {
           "style": "light"
          },
          "paper_bgcolor": "white",
          "plot_bgcolor": "#E5ECF6",
          "polar": {
           "angularaxis": {
            "gridcolor": "white",
            "linecolor": "white",
            "ticks": ""
           },
           "bgcolor": "#E5ECF6",
           "radialaxis": {
            "gridcolor": "white",
            "linecolor": "white",
            "ticks": ""
           }
          },
          "scene": {
           "xaxis": {
            "backgroundcolor": "#E5ECF6",
            "gridcolor": "white",
            "gridwidth": 2,
            "linecolor": "white",
            "showbackground": true,
            "ticks": "",
            "zerolinecolor": "white"
           },
           "yaxis": {
            "backgroundcolor": "#E5ECF6",
            "gridcolor": "white",
            "gridwidth": 2,
            "linecolor": "white",
            "showbackground": true,
            "ticks": "",
            "zerolinecolor": "white"
           },
           "zaxis": {
            "backgroundcolor": "#E5ECF6",
            "gridcolor": "white",
            "gridwidth": 2,
            "linecolor": "white",
            "showbackground": true,
            "ticks": "",
            "zerolinecolor": "white"
           }
          },
          "shapedefaults": {
           "line": {
            "color": "#2a3f5f"
           }
          },
          "ternary": {
           "aaxis": {
            "gridcolor": "white",
            "linecolor": "white",
            "ticks": ""
           },
           "baxis": {
            "gridcolor": "white",
            "linecolor": "white",
            "ticks": ""
           },
           "bgcolor": "#E5ECF6",
           "caxis": {
            "gridcolor": "white",
            "linecolor": "white",
            "ticks": ""
           }
          },
          "title": {
           "x": 0.05
          },
          "xaxis": {
           "automargin": true,
           "gridcolor": "white",
           "linecolor": "white",
           "ticks": "",
           "title": {
            "standoff": 15
           },
           "zerolinecolor": "white",
           "zerolinewidth": 2
          },
          "yaxis": {
           "automargin": true,
           "gridcolor": "white",
           "linecolor": "white",
           "ticks": "",
           "title": {
            "standoff": 15
           },
           "zerolinecolor": "white",
           "zerolinewidth": 2
          }
         }
        },
        "title": {
         "text": "Restaurants in Bangkok"
        }
       }
      }
     },
     "metadata": {},
     "output_type": "display_data"
    }
   ],
   "source": [
    "\n",
    "fig = px.scatter_geo(df, \n",
    "                     lat='lat', \n",
    "                     lon='long', \n",
    "                     scope = 'asia',\n",
    "                     color='restaurant_name', \n",
    "                     hover_name='restaurant_name', \n",
    "                     projection='mercator',  # Changed projection\n",
    "                     center={\"lat\": 13.7563, \"lon\": 100.5018},\n",
    "                     )\n",
    "fig.update_geos(\n",
    "        fitbounds=\"locations\",  # This is crucial - fits the view to your data points\n",
    "        visible=False,\n",
    "        showcoastlines=True,\n",
    "        coastlinecolor=\"RebeccaPurple\",\n",
    "        showland=True,\n",
    ")\n",
    "fig.update_layout(\n",
    "                title='Restaurants in Bangkok',\n",
    "                showlegend = True,\n",
    "                mapbox = dict(\n",
    "                    zoom=10\n",
    "                )\n",
    "        )\n",
    "fig.show()"
   ]
  },
  {
   "cell_type": "code",
   "execution_count": 22,
   "metadata": {},
   "outputs": [],
   "source": [
    "def cluster_restaurants_dbscan(df, max_distance_km=0.2):\n",
    "    \"\"\"\n",
    "    Group restaurants using DBSCAN clustering based on geographic distance\n",
    "    \n",
    "    Parameters:\n",
    "    df: DataFrame with latitude and longitude columns\n",
    "    max_distance_km: Maximum distance in kilometers for restaurants to be considered in the same group\n",
    "    \n",
    "    Returns:\n",
    "    DataFrame with an additional 'cluster' column indicating the group\n",
    "    \"\"\"\n",
    "    # Convert lat/lon to radians\n",
    "    coords = df[['lat', 'long']].values\n",
    "    \n",
    "    # Calculate epsilon parameter in radians (approximate conversion from km)\n",
    "    kms_per_radian = 6371.0  # Earth's radius in km\n",
    "    epsilon = max_distance_km / kms_per_radian\n",
    "    \n",
    "    # Run DBSCAN clustering\n",
    "    db = DBSCAN(eps=epsilon, min_samples=1, algorithm='ball_tree', metric='haversine')\n",
    "    cluster_labels = db.fit_predict(np.radians(coords))\n",
    "    \n",
    "    # Add cluster labels to the dataframe\n",
    "    df_result = df.copy()\n",
    "    df_result['cluster'] = cluster_labels\n",
    "    \n",
    "    # Count number of clusters\n",
    "    n_clusters = len(set(cluster_labels))\n",
    "    print(f'Number of clusters: {n_clusters}')\n",
    "\n",
    "    # shift cluster value with 1 \n",
    "    df_result['cluster'] = df_result['cluster'] + 1\n",
    "    \n",
    "    return df_result"
   ]
  },
  {
   "cell_type": "code",
   "execution_count": 23,
   "metadata": {},
   "outputs": [
    {
     "name": "stdout",
     "output_type": "stream",
     "text": [
      "DBSCAN Clustering:\n",
      "Number of clusters: 11\n",
      "                                     restaurant_name  cluster\n",
      "0        Sushi Hiro (ซูชิฮิโระ) Eight Thonglor ชั้น1        1\n",
      "1                                Sushi Hiro พรอมานาด        2\n",
      "2                                  ซูชิฮิโระ หองหล่อ        1\n",
      "3                     หองหล่อ Sushi Hiro ในตึก Eight        1\n",
      "4                                 Hiro Sushi ทองหล่อ        1\n",
      "5               Honmono Sushi (ฮอนโมโน ซูชิ) ทองหล่อ        3\n",
      "6                      ร้าน ซูชิ ฮอนโมโน แถว ทองหล่อ        3\n",
      "7                 Honmono Sushi สาขา เซ็นทรัล บางนา         4\n",
      "8                           ร้าน Sushi ฮอนโมโน บางนา        4\n",
      "9                        Honmono ซูชิ ซอย ทองหล่อ 23        3\n",
      "10                             Khao-Sō-i ซอยคอนแวนต์        5\n",
      "11                    ร้าน Khao-Sō-i แถว ตึก CP สีลม        5\n",
      "12                            Khao Sō-i Siam Paragon        6\n",
      "13                        ร้าน ข้าว โซอิ ซอยคอนแวนต์        5\n",
      "14             ร้าน ข้าว โซอิ (Khao-Sō-i ) ริมน้ำปิง        7\n",
      "15                              Khao (ข้าว)เอกมัย 10        8\n",
      "16                                 ข้าว แถวซอยเอกมัย        8\n",
      "17                                 Khao @ Chiang Mai        9\n",
      "18                                   ข้าง @ ekkamai         8\n",
      "19     NANA Coffee Roaster (นานา คอฟฟี่ โรสเตอร์)Ari       10\n",
      "20                  ร้านกาแฟ นานา คอฟฟี่ ซอยอารีย์ 4       10\n",
      "21                                 NANA Coffee @ Ari       10\n",
      "22                   นานา คอฟฟี่ โรสเตอร์ @ BTS Nana       11\n",
      "23                               NANA Roaster Coffee       10\n",
      "24                             นานา คอฟฟี่ โรศเคอร์        10\n",
      "25  NANA TOKU SHABUCenterpoint of Siam Square ชั้น 3        6\n",
      "26                                   ชาบู NANA TOKU         6\n",
      "27                                  NANA TOKU @ Siam        6\n",
      "28                                    นานะ โทกุ ชาบู        6\n",
      "29                                    นานา โทกุ ชาบุ        6\n"
     ]
    }
   ],
   "source": [
    "# Run the clustering methods\n",
    "print(\"DBSCAN Clustering:\")\n",
    "df_dbscan = cluster_restaurants_dbscan(df, max_distance_km=0.3)\n",
    "print(df_dbscan[['restaurant_name', 'cluster']])"
   ]
  },
  {
   "cell_type": "code",
   "execution_count": 24,
   "metadata": {},
   "outputs": [
    {
     "data": {
      "text/html": [
       "<div>\n",
       "<style scoped>\n",
       "    .dataframe tbody tr th:only-of-type {\n",
       "        vertical-align: middle;\n",
       "    }\n",
       "\n",
       "    .dataframe tbody tr th {\n",
       "        vertical-align: top;\n",
       "    }\n",
       "\n",
       "    .dataframe thead th {\n",
       "        text-align: right;\n",
       "    }\n",
       "</style>\n",
       "<table border=\"1\" class=\"dataframe\">\n",
       "  <thead>\n",
       "    <tr style=\"text-align: right;\">\n",
       "      <th></th>\n",
       "      <th>restaurant_name</th>\n",
       "      <th>group</th>\n",
       "      <th>name_cluster</th>\n",
       "      <th>cluster</th>\n",
       "    </tr>\n",
       "  </thead>\n",
       "  <tbody>\n",
       "    <tr>\n",
       "      <th>0</th>\n",
       "      <td>Sushi Hiro (ซูชิฮิโระ) Eight Thonglor ชั้น1</td>\n",
       "      <td>1</td>\n",
       "      <td>1</td>\n",
       "      <td>1</td>\n",
       "    </tr>\n",
       "    <tr>\n",
       "      <th>1</th>\n",
       "      <td>Sushi Hiro พรอมานาด</td>\n",
       "      <td>2</td>\n",
       "      <td>2</td>\n",
       "      <td>2</td>\n",
       "    </tr>\n",
       "    <tr>\n",
       "      <th>2</th>\n",
       "      <td>ซูชิฮิโระ หองหล่อ</td>\n",
       "      <td>1</td>\n",
       "      <td>1</td>\n",
       "      <td>1</td>\n",
       "    </tr>\n",
       "    <tr>\n",
       "      <th>3</th>\n",
       "      <td>หองหล่อ Sushi Hiro ในตึก Eight</td>\n",
       "      <td>1</td>\n",
       "      <td>3</td>\n",
       "      <td>1</td>\n",
       "    </tr>\n",
       "    <tr>\n",
       "      <th>4</th>\n",
       "      <td>Hiro Sushi ทองหล่อ</td>\n",
       "      <td>1</td>\n",
       "      <td>3</td>\n",
       "      <td>1</td>\n",
       "    </tr>\n",
       "    <tr>\n",
       "      <th>5</th>\n",
       "      <td>Honmono Sushi (ฮอนโมโน ซูชิ) ทองหล่อ</td>\n",
       "      <td>3</td>\n",
       "      <td>1</td>\n",
       "      <td>3</td>\n",
       "    </tr>\n",
       "    <tr>\n",
       "      <th>6</th>\n",
       "      <td>ร้าน ซูชิ ฮอนโมโน แถว ทองหล่อ</td>\n",
       "      <td>3</td>\n",
       "      <td>1</td>\n",
       "      <td>3</td>\n",
       "    </tr>\n",
       "    <tr>\n",
       "      <th>7</th>\n",
       "      <td>Honmono Sushi สาขา เซ็นทรัล บางนา</td>\n",
       "      <td>4</td>\n",
       "      <td>1</td>\n",
       "      <td>4</td>\n",
       "    </tr>\n",
       "    <tr>\n",
       "      <th>8</th>\n",
       "      <td>ร้าน Sushi ฮอนโมโน บางนา</td>\n",
       "      <td>4</td>\n",
       "      <td>1</td>\n",
       "      <td>4</td>\n",
       "    </tr>\n",
       "    <tr>\n",
       "      <th>9</th>\n",
       "      <td>Honmono ซูชิ ซอย ทองหล่อ 23</td>\n",
       "      <td>3</td>\n",
       "      <td>1</td>\n",
       "      <td>3</td>\n",
       "    </tr>\n",
       "    <tr>\n",
       "      <th>10</th>\n",
       "      <td>Khao-Sō-i ซอยคอนแวนต์</td>\n",
       "      <td>5</td>\n",
       "      <td>4</td>\n",
       "      <td>5</td>\n",
       "    </tr>\n",
       "    <tr>\n",
       "      <th>11</th>\n",
       "      <td>ร้าน Khao-Sō-i แถว ตึก CP สีลม</td>\n",
       "      <td>5</td>\n",
       "      <td>4</td>\n",
       "      <td>5</td>\n",
       "    </tr>\n",
       "    <tr>\n",
       "      <th>12</th>\n",
       "      <td>Khao Sō-i Siam Paragon</td>\n",
       "      <td>6</td>\n",
       "      <td>4</td>\n",
       "      <td>6</td>\n",
       "    </tr>\n",
       "    <tr>\n",
       "      <th>13</th>\n",
       "      <td>ร้าน ข้าว โซอิ ซอยคอนแวนต์</td>\n",
       "      <td>5</td>\n",
       "      <td>4</td>\n",
       "      <td>5</td>\n",
       "    </tr>\n",
       "    <tr>\n",
       "      <th>14</th>\n",
       "      <td>ร้าน ข้าว โซอิ (Khao-Sō-i ) ริมน้ำปิง</td>\n",
       "      <td>7</td>\n",
       "      <td>4</td>\n",
       "      <td>7</td>\n",
       "    </tr>\n",
       "    <tr>\n",
       "      <th>15</th>\n",
       "      <td>Khao (ข้าว)เอกมัย 10</td>\n",
       "      <td>8</td>\n",
       "      <td>5</td>\n",
       "      <td>8</td>\n",
       "    </tr>\n",
       "    <tr>\n",
       "      <th>16</th>\n",
       "      <td>ข้าว แถวซอยเอกมัย</td>\n",
       "      <td>8</td>\n",
       "      <td>5</td>\n",
       "      <td>8</td>\n",
       "    </tr>\n",
       "    <tr>\n",
       "      <th>17</th>\n",
       "      <td>Khao @ Chiang Mai</td>\n",
       "      <td>9</td>\n",
       "      <td>4</td>\n",
       "      <td>9</td>\n",
       "    </tr>\n",
       "    <tr>\n",
       "      <th>18</th>\n",
       "      <td>ข้าง @ ekkamai</td>\n",
       "      <td>10</td>\n",
       "      <td>6</td>\n",
       "      <td>8</td>\n",
       "    </tr>\n",
       "    <tr>\n",
       "      <th>19</th>\n",
       "      <td>NANA Coffee Roaster (นานา คอฟฟี่ โรสเตอร์)Ari</td>\n",
       "      <td>11</td>\n",
       "      <td>7</td>\n",
       "      <td>10</td>\n",
       "    </tr>\n",
       "    <tr>\n",
       "      <th>20</th>\n",
       "      <td>ร้านกาแฟ นานา คอฟฟี่ ซอยอารีย์ 4</td>\n",
       "      <td>11</td>\n",
       "      <td>8</td>\n",
       "      <td>10</td>\n",
       "    </tr>\n",
       "    <tr>\n",
       "      <th>21</th>\n",
       "      <td>NANA Coffee @ Ari</td>\n",
       "      <td>11</td>\n",
       "      <td>7</td>\n",
       "      <td>10</td>\n",
       "    </tr>\n",
       "    <tr>\n",
       "      <th>22</th>\n",
       "      <td>นานา คอฟฟี่ โรสเตอร์ @ BTS Nana</td>\n",
       "      <td>12</td>\n",
       "      <td>7</td>\n",
       "      <td>11</td>\n",
       "    </tr>\n",
       "    <tr>\n",
       "      <th>23</th>\n",
       "      <td>NANA Roaster Coffee</td>\n",
       "      <td>11</td>\n",
       "      <td>7</td>\n",
       "      <td>10</td>\n",
       "    </tr>\n",
       "    <tr>\n",
       "      <th>24</th>\n",
       "      <td>นานา คอฟฟี่ โรศเคอร์</td>\n",
       "      <td>11</td>\n",
       "      <td>7</td>\n",
       "      <td>10</td>\n",
       "    </tr>\n",
       "    <tr>\n",
       "      <th>25</th>\n",
       "      <td>NANA TOKU SHABUCenterpoint of Siam Square ชั้น 3</td>\n",
       "      <td>13</td>\n",
       "      <td>7</td>\n",
       "      <td>6</td>\n",
       "    </tr>\n",
       "    <tr>\n",
       "      <th>26</th>\n",
       "      <td>ชาบู NANA TOKU</td>\n",
       "      <td>13</td>\n",
       "      <td>7</td>\n",
       "      <td>6</td>\n",
       "    </tr>\n",
       "    <tr>\n",
       "      <th>27</th>\n",
       "      <td>NANA TOKU @ Siam</td>\n",
       "      <td>13</td>\n",
       "      <td>7</td>\n",
       "      <td>6</td>\n",
       "    </tr>\n",
       "    <tr>\n",
       "      <th>28</th>\n",
       "      <td>นานะ โทกุ ชาบู</td>\n",
       "      <td>13</td>\n",
       "      <td>9</td>\n",
       "      <td>6</td>\n",
       "    </tr>\n",
       "    <tr>\n",
       "      <th>29</th>\n",
       "      <td>นานา โทกุ ชาบุ</td>\n",
       "      <td>13</td>\n",
       "      <td>9</td>\n",
       "      <td>6</td>\n",
       "    </tr>\n",
       "  </tbody>\n",
       "</table>\n",
       "</div>"
      ],
      "text/plain": [
       "                                     restaurant_name  group  name_cluster  \\\n",
       "0        Sushi Hiro (ซูชิฮิโระ) Eight Thonglor ชั้น1      1             1   \n",
       "1                                Sushi Hiro พรอมานาด      2             2   \n",
       "2                                  ซูชิฮิโระ หองหล่อ      1             1   \n",
       "3                     หองหล่อ Sushi Hiro ในตึก Eight      1             3   \n",
       "4                                 Hiro Sushi ทองหล่อ      1             3   \n",
       "5               Honmono Sushi (ฮอนโมโน ซูชิ) ทองหล่อ      3             1   \n",
       "6                      ร้าน ซูชิ ฮอนโมโน แถว ทองหล่อ      3             1   \n",
       "7                 Honmono Sushi สาขา เซ็นทรัล บางนา       4             1   \n",
       "8                           ร้าน Sushi ฮอนโมโน บางนา      4             1   \n",
       "9                        Honmono ซูชิ ซอย ทองหล่อ 23      3             1   \n",
       "10                             Khao-Sō-i ซอยคอนแวนต์      5             4   \n",
       "11                    ร้าน Khao-Sō-i แถว ตึก CP สีลม      5             4   \n",
       "12                            Khao Sō-i Siam Paragon      6             4   \n",
       "13                        ร้าน ข้าว โซอิ ซอยคอนแวนต์      5             4   \n",
       "14             ร้าน ข้าว โซอิ (Khao-Sō-i ) ริมน้ำปิง      7             4   \n",
       "15                              Khao (ข้าว)เอกมัย 10      8             5   \n",
       "16                                 ข้าว แถวซอยเอกมัย      8             5   \n",
       "17                                 Khao @ Chiang Mai      9             4   \n",
       "18                                   ข้าง @ ekkamai      10             6   \n",
       "19     NANA Coffee Roaster (นานา คอฟฟี่ โรสเตอร์)Ari     11             7   \n",
       "20                  ร้านกาแฟ นานา คอฟฟี่ ซอยอารีย์ 4     11             8   \n",
       "21                                 NANA Coffee @ Ari     11             7   \n",
       "22                   นานา คอฟฟี่ โรสเตอร์ @ BTS Nana     12             7   \n",
       "23                               NANA Roaster Coffee     11             7   \n",
       "24                             นานา คอฟฟี่ โรศเคอร์      11             7   \n",
       "25  NANA TOKU SHABUCenterpoint of Siam Square ชั้น 3     13             7   \n",
       "26                                   ชาบู NANA TOKU      13             7   \n",
       "27                                  NANA TOKU @ Siam     13             7   \n",
       "28                                    นานะ โทกุ ชาบู     13             9   \n",
       "29                                    นานา โทกุ ชาบุ     13             9   \n",
       "\n",
       "    cluster  \n",
       "0         1  \n",
       "1         2  \n",
       "2         1  \n",
       "3         1  \n",
       "4         1  \n",
       "5         3  \n",
       "6         3  \n",
       "7         4  \n",
       "8         4  \n",
       "9         3  \n",
       "10        5  \n",
       "11        5  \n",
       "12        6  \n",
       "13        5  \n",
       "14        7  \n",
       "15        8  \n",
       "16        8  \n",
       "17        9  \n",
       "18        8  \n",
       "19       10  \n",
       "20       10  \n",
       "21       10  \n",
       "22       11  \n",
       "23       10  \n",
       "24       10  \n",
       "25        6  \n",
       "26        6  \n",
       "27        6  \n",
       "28        6  \n",
       "29        6  "
      ]
     },
     "execution_count": 24,
     "metadata": {},
     "output_type": "execute_result"
    }
   ],
   "source": [
    "# group with original group\n",
    "df_grouped = df_grouped.merge(df_dbscan[['restaurant_name', 'cluster']], on='restaurant_name', how='left')\n",
    "df_grouped[['restaurant_name', 'group', 'name_cluster', 'cluster']]"
   ]
  },
  {
   "cell_type": "code",
   "execution_count": 25,
   "metadata": {},
   "outputs": [
    {
     "name": "stdout",
     "output_type": "stream",
     "text": [
      "              precision    recall  f1-score   support\n",
      "\n",
      "           1       1.00      1.00      1.00         4\n",
      "           2       1.00      1.00      1.00         1\n",
      "           3       1.00      1.00      1.00         3\n",
      "           4       1.00      1.00      1.00         2\n",
      "           5       1.00      1.00      1.00         3\n",
      "           6       0.17      1.00      0.29         1\n",
      "           7       1.00      1.00      1.00         1\n",
      "           8       0.67      1.00      0.80         2\n",
      "           9       1.00      1.00      1.00         1\n",
      "          10       0.00      0.00      0.00         1\n",
      "          11       0.00      0.00      0.00         5\n",
      "          12       0.00      0.00      0.00         1\n",
      "          13       0.00      0.00      0.00         5\n",
      "\n",
      "    accuracy                           0.60        30\n",
      "   macro avg       0.60      0.69      0.62        30\n",
      "weighted avg       0.55      0.60      0.56        30\n",
      "\n"
     ]
    }
   ],
   "source": [
    "print(classification_report(df_grouped['group'], df_grouped['cluster'], zero_division=0))"
   ]
  },
  {
   "cell_type": "markdown",
   "metadata": {},
   "source": [
    "This location matching is achieved 60% accuracy across all 30 data with radius distance 300 meters."
   ]
  },
  {
   "cell_type": "markdown",
   "metadata": {},
   "source": [
    "<a id=\"combined_matching_and_evaluation\"></a>\n",
    "# 4. Combined Matching & Evaluation"
   ]
  },
  {
   "cell_type": "code",
   "execution_count": 26,
   "metadata": {},
   "outputs": [],
   "source": [
    "# integrate name_matching and location matching to one function with weight assign\n",
    "def integrate_matching(df, name_threshold=0.7, distance_threshold_km=0.2, name_weight=0.5):\n",
    "    \"\"\"\n",
    "    Integrate name and location matching to group restaurants\n",
    "    \n",
    "    Parameters:\n",
    "    df: DataFrame with restaurant data\n",
    "    name_threshold: Similarity threshold for name matching\n",
    "    distance_threshold_km: Maximum distance in kilometers for location matching\n",
    "    name_weight: Weight for name matching in combined score\n",
    "    \n",
    "    Returns:\n",
    "    DataFrame with 'group' column indicating the group\n",
    "    \"\"\"\n",
    "    # Group similar restaurant names\n",
    "    name_matching_df = group_similar_restaurant(df, 'restaurant_name', threshold=name_threshold)\n",
    "    \n",
    "    # Cluster restaurants based on location\n",
    "    location_matching_df = cluster_restaurants_dbscan(df, max_distance_km=distance_threshold_km)\n",
    "    \n",
    "    # Merge the two matching results\n",
    "    df_grouped = df.merge(name_matching_df[['restaurant_name', 'name_cluster']], on='restaurant_name', how='left')\n",
    "    df_grouped = df_grouped.merge(location_matching_df[['restaurant_name', 'cluster']], on='restaurant_name', how='left')\n",
    "    \n",
    "    # Combine the two matching results\n",
    "    df_grouped['combined_score'] = name_weight * df_grouped['name_cluster'] + (1 - name_weight) * df_grouped['cluster']\n",
    "    \n",
    "    return df_grouped"
   ]
  },
  {
   "cell_type": "code",
   "execution_count": 31,
   "metadata": {},
   "outputs": [
    {
     "name": "stdout",
     "output_type": "stream",
     "text": [
      "Number of clusters: 13\n"
     ]
    },
    {
     "data": {
      "text/html": [
       "<div>\n",
       "<style scoped>\n",
       "    .dataframe tbody tr th:only-of-type {\n",
       "        vertical-align: middle;\n",
       "    }\n",
       "\n",
       "    .dataframe tbody tr th {\n",
       "        vertical-align: top;\n",
       "    }\n",
       "\n",
       "    .dataframe thead th {\n",
       "        text-align: right;\n",
       "    }\n",
       "</style>\n",
       "<table border=\"1\" class=\"dataframe\">\n",
       "  <thead>\n",
       "    <tr style=\"text-align: right;\">\n",
       "      <th></th>\n",
       "      <th>restaurant_name</th>\n",
       "      <th>group</th>\n",
       "      <th>name_cluster</th>\n",
       "      <th>cluster</th>\n",
       "      <th>combined_score</th>\n",
       "      <th>combined_score_rounded</th>\n",
       "    </tr>\n",
       "  </thead>\n",
       "  <tbody>\n",
       "    <tr>\n",
       "      <th>0</th>\n",
       "      <td>Sushi Hiro (ซูชิฮิโระ) Eight Thonglor ชั้น1</td>\n",
       "      <td>1</td>\n",
       "      <td>1</td>\n",
       "      <td>1</td>\n",
       "      <td>1.0</td>\n",
       "      <td>1</td>\n",
       "    </tr>\n",
       "    <tr>\n",
       "      <th>1</th>\n",
       "      <td>Sushi Hiro พรอมานาด</td>\n",
       "      <td>2</td>\n",
       "      <td>2</td>\n",
       "      <td>2</td>\n",
       "      <td>2.0</td>\n",
       "      <td>2</td>\n",
       "    </tr>\n",
       "    <tr>\n",
       "      <th>2</th>\n",
       "      <td>ซูชิฮิโระ หองหล่อ</td>\n",
       "      <td>1</td>\n",
       "      <td>1</td>\n",
       "      <td>3</td>\n",
       "      <td>2.6</td>\n",
       "      <td>2</td>\n",
       "    </tr>\n",
       "    <tr>\n",
       "      <th>3</th>\n",
       "      <td>หองหล่อ Sushi Hiro ในตึก Eight</td>\n",
       "      <td>1</td>\n",
       "      <td>3</td>\n",
       "      <td>1</td>\n",
       "      <td>1.4</td>\n",
       "      <td>1</td>\n",
       "    </tr>\n",
       "    <tr>\n",
       "      <th>4</th>\n",
       "      <td>Hiro Sushi ทองหล่อ</td>\n",
       "      <td>1</td>\n",
       "      <td>3</td>\n",
       "      <td>1</td>\n",
       "      <td>1.4</td>\n",
       "      <td>1</td>\n",
       "    </tr>\n",
       "    <tr>\n",
       "      <th>5</th>\n",
       "      <td>Honmono Sushi (ฮอนโมโน ซูชิ) ทองหล่อ</td>\n",
       "      <td>3</td>\n",
       "      <td>1</td>\n",
       "      <td>4</td>\n",
       "      <td>3.4</td>\n",
       "      <td>3</td>\n",
       "    </tr>\n",
       "    <tr>\n",
       "      <th>6</th>\n",
       "      <td>ร้าน ซูชิ ฮอนโมโน แถว ทองหล่อ</td>\n",
       "      <td>3</td>\n",
       "      <td>1</td>\n",
       "      <td>4</td>\n",
       "      <td>3.4</td>\n",
       "      <td>3</td>\n",
       "    </tr>\n",
       "    <tr>\n",
       "      <th>7</th>\n",
       "      <td>Honmono Sushi สาขา เซ็นทรัล บางนา</td>\n",
       "      <td>4</td>\n",
       "      <td>1</td>\n",
       "      <td>5</td>\n",
       "      <td>4.2</td>\n",
       "      <td>4</td>\n",
       "    </tr>\n",
       "    <tr>\n",
       "      <th>8</th>\n",
       "      <td>ร้าน Sushi ฮอนโมโน บางนา</td>\n",
       "      <td>4</td>\n",
       "      <td>1</td>\n",
       "      <td>5</td>\n",
       "      <td>4.2</td>\n",
       "      <td>4</td>\n",
       "    </tr>\n",
       "    <tr>\n",
       "      <th>9</th>\n",
       "      <td>Honmono ซูชิ ซอย ทองหล่อ 23</td>\n",
       "      <td>3</td>\n",
       "      <td>1</td>\n",
       "      <td>4</td>\n",
       "      <td>3.4</td>\n",
       "      <td>3</td>\n",
       "    </tr>\n",
       "    <tr>\n",
       "      <th>10</th>\n",
       "      <td>Khao-Sō-i ซอยคอนแวนต์</td>\n",
       "      <td>5</td>\n",
       "      <td>4</td>\n",
       "      <td>6</td>\n",
       "      <td>5.6</td>\n",
       "      <td>5</td>\n",
       "    </tr>\n",
       "    <tr>\n",
       "      <th>11</th>\n",
       "      <td>ร้าน Khao-Sō-i แถว ตึก CP สีลม</td>\n",
       "      <td>5</td>\n",
       "      <td>4</td>\n",
       "      <td>6</td>\n",
       "      <td>5.6</td>\n",
       "      <td>5</td>\n",
       "    </tr>\n",
       "    <tr>\n",
       "      <th>12</th>\n",
       "      <td>Khao Sō-i Siam Paragon</td>\n",
       "      <td>6</td>\n",
       "      <td>4</td>\n",
       "      <td>7</td>\n",
       "      <td>6.4</td>\n",
       "      <td>6</td>\n",
       "    </tr>\n",
       "    <tr>\n",
       "      <th>13</th>\n",
       "      <td>ร้าน ข้าว โซอิ ซอยคอนแวนต์</td>\n",
       "      <td>5</td>\n",
       "      <td>4</td>\n",
       "      <td>6</td>\n",
       "      <td>5.6</td>\n",
       "      <td>5</td>\n",
       "    </tr>\n",
       "    <tr>\n",
       "      <th>14</th>\n",
       "      <td>ร้าน ข้าว โซอิ (Khao-Sō-i ) ริมน้ำปิง</td>\n",
       "      <td>7</td>\n",
       "      <td>4</td>\n",
       "      <td>8</td>\n",
       "      <td>7.2</td>\n",
       "      <td>7</td>\n",
       "    </tr>\n",
       "    <tr>\n",
       "      <th>15</th>\n",
       "      <td>Khao (ข้าว)เอกมัย 10</td>\n",
       "      <td>8</td>\n",
       "      <td>5</td>\n",
       "      <td>9</td>\n",
       "      <td>8.2</td>\n",
       "      <td>8</td>\n",
       "    </tr>\n",
       "    <tr>\n",
       "      <th>16</th>\n",
       "      <td>ข้าว แถวซอยเอกมัย</td>\n",
       "      <td>8</td>\n",
       "      <td>5</td>\n",
       "      <td>10</td>\n",
       "      <td>9.0</td>\n",
       "      <td>9</td>\n",
       "    </tr>\n",
       "    <tr>\n",
       "      <th>17</th>\n",
       "      <td>Khao @ Chiang Mai</td>\n",
       "      <td>9</td>\n",
       "      <td>4</td>\n",
       "      <td>11</td>\n",
       "      <td>9.6</td>\n",
       "      <td>9</td>\n",
       "    </tr>\n",
       "    <tr>\n",
       "      <th>18</th>\n",
       "      <td>ข้าง @ ekkamai</td>\n",
       "      <td>10</td>\n",
       "      <td>6</td>\n",
       "      <td>10</td>\n",
       "      <td>9.2</td>\n",
       "      <td>9</td>\n",
       "    </tr>\n",
       "    <tr>\n",
       "      <th>19</th>\n",
       "      <td>NANA Coffee Roaster (นานา คอฟฟี่ โรสเตอร์)Ari</td>\n",
       "      <td>11</td>\n",
       "      <td>7</td>\n",
       "      <td>12</td>\n",
       "      <td>11.0</td>\n",
       "      <td>11</td>\n",
       "    </tr>\n",
       "    <tr>\n",
       "      <th>20</th>\n",
       "      <td>ร้านกาแฟ นานา คอฟฟี่ ซอยอารีย์ 4</td>\n",
       "      <td>11</td>\n",
       "      <td>8</td>\n",
       "      <td>12</td>\n",
       "      <td>11.2</td>\n",
       "      <td>11</td>\n",
       "    </tr>\n",
       "    <tr>\n",
       "      <th>21</th>\n",
       "      <td>NANA Coffee @ Ari</td>\n",
       "      <td>11</td>\n",
       "      <td>7</td>\n",
       "      <td>12</td>\n",
       "      <td>11.0</td>\n",
       "      <td>11</td>\n",
       "    </tr>\n",
       "    <tr>\n",
       "      <th>22</th>\n",
       "      <td>นานา คอฟฟี่ โรสเตอร์ @ BTS Nana</td>\n",
       "      <td>12</td>\n",
       "      <td>7</td>\n",
       "      <td>13</td>\n",
       "      <td>11.8</td>\n",
       "      <td>11</td>\n",
       "    </tr>\n",
       "    <tr>\n",
       "      <th>23</th>\n",
       "      <td>NANA Roaster Coffee</td>\n",
       "      <td>11</td>\n",
       "      <td>7</td>\n",
       "      <td>12</td>\n",
       "      <td>11.0</td>\n",
       "      <td>11</td>\n",
       "    </tr>\n",
       "    <tr>\n",
       "      <th>24</th>\n",
       "      <td>นานา คอฟฟี่ โรศเคอร์</td>\n",
       "      <td>11</td>\n",
       "      <td>7</td>\n",
       "      <td>12</td>\n",
       "      <td>11.0</td>\n",
       "      <td>11</td>\n",
       "    </tr>\n",
       "    <tr>\n",
       "      <th>25</th>\n",
       "      <td>NANA TOKU SHABUCenterpoint of Siam Square ชั้น 3</td>\n",
       "      <td>13</td>\n",
       "      <td>7</td>\n",
       "      <td>7</td>\n",
       "      <td>7.0</td>\n",
       "      <td>7</td>\n",
       "    </tr>\n",
       "    <tr>\n",
       "      <th>26</th>\n",
       "      <td>ชาบู NANA TOKU</td>\n",
       "      <td>13</td>\n",
       "      <td>7</td>\n",
       "      <td>7</td>\n",
       "      <td>7.0</td>\n",
       "      <td>7</td>\n",
       "    </tr>\n",
       "    <tr>\n",
       "      <th>27</th>\n",
       "      <td>NANA TOKU @ Siam</td>\n",
       "      <td>13</td>\n",
       "      <td>7</td>\n",
       "      <td>7</td>\n",
       "      <td>7.0</td>\n",
       "      <td>7</td>\n",
       "    </tr>\n",
       "    <tr>\n",
       "      <th>28</th>\n",
       "      <td>นานะ โทกุ ชาบู</td>\n",
       "      <td>13</td>\n",
       "      <td>9</td>\n",
       "      <td>7</td>\n",
       "      <td>7.4</td>\n",
       "      <td>7</td>\n",
       "    </tr>\n",
       "    <tr>\n",
       "      <th>29</th>\n",
       "      <td>นานา โทกุ ชาบุ</td>\n",
       "      <td>13</td>\n",
       "      <td>9</td>\n",
       "      <td>7</td>\n",
       "      <td>7.4</td>\n",
       "      <td>7</td>\n",
       "    </tr>\n",
       "  </tbody>\n",
       "</table>\n",
       "</div>"
      ],
      "text/plain": [
       "                                     restaurant_name  group  name_cluster  \\\n",
       "0        Sushi Hiro (ซูชิฮิโระ) Eight Thonglor ชั้น1      1             1   \n",
       "1                                Sushi Hiro พรอมานาด      2             2   \n",
       "2                                  ซูชิฮิโระ หองหล่อ      1             1   \n",
       "3                     หองหล่อ Sushi Hiro ในตึก Eight      1             3   \n",
       "4                                 Hiro Sushi ทองหล่อ      1             3   \n",
       "5               Honmono Sushi (ฮอนโมโน ซูชิ) ทองหล่อ      3             1   \n",
       "6                      ร้าน ซูชิ ฮอนโมโน แถว ทองหล่อ      3             1   \n",
       "7                 Honmono Sushi สาขา เซ็นทรัล บางนา       4             1   \n",
       "8                           ร้าน Sushi ฮอนโมโน บางนา      4             1   \n",
       "9                        Honmono ซูชิ ซอย ทองหล่อ 23      3             1   \n",
       "10                             Khao-Sō-i ซอยคอนแวนต์      5             4   \n",
       "11                    ร้าน Khao-Sō-i แถว ตึก CP สีลม      5             4   \n",
       "12                            Khao Sō-i Siam Paragon      6             4   \n",
       "13                        ร้าน ข้าว โซอิ ซอยคอนแวนต์      5             4   \n",
       "14             ร้าน ข้าว โซอิ (Khao-Sō-i ) ริมน้ำปิง      7             4   \n",
       "15                              Khao (ข้าว)เอกมัย 10      8             5   \n",
       "16                                 ข้าว แถวซอยเอกมัย      8             5   \n",
       "17                                 Khao @ Chiang Mai      9             4   \n",
       "18                                   ข้าง @ ekkamai      10             6   \n",
       "19     NANA Coffee Roaster (นานา คอฟฟี่ โรสเตอร์)Ari     11             7   \n",
       "20                  ร้านกาแฟ นานา คอฟฟี่ ซอยอารีย์ 4     11             8   \n",
       "21                                 NANA Coffee @ Ari     11             7   \n",
       "22                   นานา คอฟฟี่ โรสเตอร์ @ BTS Nana     12             7   \n",
       "23                               NANA Roaster Coffee     11             7   \n",
       "24                             นานา คอฟฟี่ โรศเคอร์      11             7   \n",
       "25  NANA TOKU SHABUCenterpoint of Siam Square ชั้น 3     13             7   \n",
       "26                                   ชาบู NANA TOKU      13             7   \n",
       "27                                  NANA TOKU @ Siam     13             7   \n",
       "28                                    นานะ โทกุ ชาบู     13             9   \n",
       "29                                    นานา โทกุ ชาบุ     13             9   \n",
       "\n",
       "    cluster  combined_score  combined_score_rounded  \n",
       "0         1             1.0                       1  \n",
       "1         2             2.0                       2  \n",
       "2         3             2.6                       2  \n",
       "3         1             1.4                       1  \n",
       "4         1             1.4                       1  \n",
       "5         4             3.4                       3  \n",
       "6         4             3.4                       3  \n",
       "7         5             4.2                       4  \n",
       "8         5             4.2                       4  \n",
       "9         4             3.4                       3  \n",
       "10        6             5.6                       5  \n",
       "11        6             5.6                       5  \n",
       "12        7             6.4                       6  \n",
       "13        6             5.6                       5  \n",
       "14        8             7.2                       7  \n",
       "15        9             8.2                       8  \n",
       "16       10             9.0                       9  \n",
       "17       11             9.6                       9  \n",
       "18       10             9.2                       9  \n",
       "19       12            11.0                      11  \n",
       "20       12            11.2                      11  \n",
       "21       12            11.0                      11  \n",
       "22       13            11.8                      11  \n",
       "23       12            11.0                      11  \n",
       "24       12            11.0                      11  \n",
       "25        7             7.0                       7  \n",
       "26        7             7.0                       7  \n",
       "27        7             7.0                       7  \n",
       "28        7             7.4                       7  \n",
       "29        7             7.4                       7  "
      ]
     },
     "execution_count": 31,
     "metadata": {},
     "output_type": "execute_result"
    }
   ],
   "source": [
    "# Run the integrated matching\n",
    "df_integrated = integrate_matching(df, name_threshold=0.7, distance_threshold_km=0.2, name_weight=0.2)\n",
    "df_integrated['combined_score_rounded'] = df_integrated['combined_score'].astype(int)\n",
    "df_integrated[['restaurant_name', 'group', 'name_cluster', 'cluster', 'combined_score', 'combined_score_rounded']]"
   ]
  },
  {
   "cell_type": "code",
   "execution_count": 32,
   "metadata": {},
   "outputs": [
    {
     "name": "stdout",
     "output_type": "stream",
     "text": [
      "              precision    recall  f1-score   support\n",
      "\n",
      "           1       1.00      0.75      0.86         4\n",
      "           2       0.50      1.00      0.67         1\n",
      "           3       1.00      1.00      1.00         3\n",
      "           4       1.00      1.00      1.00         2\n",
      "           5       1.00      1.00      1.00         3\n",
      "           6       1.00      1.00      1.00         1\n",
      "           7       0.17      1.00      0.29         1\n",
      "           8       1.00      0.50      0.67         2\n",
      "           9       0.33      1.00      0.50         1\n",
      "          10       0.00      0.00      0.00         1\n",
      "          11       0.83      1.00      0.91         5\n",
      "          12       0.00      0.00      0.00         1\n",
      "          13       0.00      0.00      0.00         5\n",
      "\n",
      "    accuracy                           0.70        30\n",
      "   macro avg       0.60      0.71      0.61        30\n",
      "weighted avg       0.67      0.70      0.66        30\n",
      "\n"
     ]
    }
   ],
   "source": [
    "# evaluate the integrated matching\n",
    "print(classification_report(df_integrated['group'], df_integrated['combined_score_rounded'], zero_division=0))"
   ]
  },
  {
   "cell_type": "markdown",
   "metadata": {},
   "source": [
    "- a. I combined the name and location matching results using a weighted average of the two scores. The name matching score was multiplied by a weight (0.2) and the location matching score was multiplied by (1 - 0.2) = 0.8. The combined score was then rounded to the nearest integer to assign the final group. I decide to weighted location matching more than name matching from it evaluation result.\n",
    "- b. the evaluation result \n",
    "    - Accuracy improve to 70%\n",
    "    - Class 3, 4, 5 and 6 have excellent performance \n",
    "    - Class 12 and 13 are completly failiure I think for class 13 comes from transliteration_map that same english but different in thai language\n",
    "- c. limitation\n",
    "    - for name matching can perform only in thai/eng language\n",
    "    - for name matching result relies on Thai romanization (pythainlp)\n",
    "    - the predefined variations may not cover all possible ways\n",
    "    - the function doesn't understand meaning - it can't recognize that \"Orange\" and \"ส้ม\" are translations of the same name.\n",
    "    - not optimize for computation for large dataset."
   ]
  },
  {
   "cell_type": "code",
   "execution_count": null,
   "metadata": {},
   "outputs": [],
   "source": []
  }
 ],
 "metadata": {
  "language_info": {
   "name": "python"
  }
 },
 "nbformat": 4,
 "nbformat_minor": 2
}
