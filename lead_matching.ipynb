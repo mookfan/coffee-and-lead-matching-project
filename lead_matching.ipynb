{
 "cells": [
  {
   "cell_type": "code",
   "execution_count": 1,
   "metadata": {},
   "outputs": [],
   "source": [
    "import pandas as pd\n",
    "import plotly.express as px"
   ]
  },
  {
   "cell_type": "code",
   "execution_count": 2,
   "metadata": {},
   "outputs": [
    {
     "data": {
      "text/html": [
       "<div>\n",
       "<style scoped>\n",
       "    .dataframe tbody tr th:only-of-type {\n",
       "        vertical-align: middle;\n",
       "    }\n",
       "\n",
       "    .dataframe tbody tr th {\n",
       "        vertical-align: top;\n",
       "    }\n",
       "\n",
       "    .dataframe thead th {\n",
       "        text-align: right;\n",
       "    }\n",
       "</style>\n",
       "<table border=\"1\" class=\"dataframe\">\n",
       "  <thead>\n",
       "    <tr style=\"text-align: right;\">\n",
       "      <th></th>\n",
       "      <th>Restaurant name</th>\n",
       "      <th>lat</th>\n",
       "      <th>long</th>\n",
       "    </tr>\n",
       "  </thead>\n",
       "  <tbody>\n",
       "    <tr>\n",
       "      <th>0</th>\n",
       "      <td>Sushi Hiro (ซูชิฮิโระ) Eight Thonglor ชั้น1</td>\n",
       "      <td>13.730788</td>\n",
       "      <td>100.581716</td>\n",
       "    </tr>\n",
       "    <tr>\n",
       "      <th>1</th>\n",
       "      <td>Sushi Hiro พรอมานาด</td>\n",
       "      <td>13.826534</td>\n",
       "      <td>100.676388</td>\n",
       "    </tr>\n",
       "    <tr>\n",
       "      <th>2</th>\n",
       "      <td>ซูชิฮิโระ หองหล่อ</td>\n",
       "      <td>13.730900</td>\n",
       "      <td>100.584720</td>\n",
       "    </tr>\n",
       "    <tr>\n",
       "      <th>3</th>\n",
       "      <td>หองหล่อ Sushi Hiro ในตึก Eight</td>\n",
       "      <td>13.730888</td>\n",
       "      <td>100.582816</td>\n",
       "    </tr>\n",
       "    <tr>\n",
       "      <th>4</th>\n",
       "      <td>Hiro Sushi ทองหล่อ</td>\n",
       "      <td>13.730751</td>\n",
       "      <td>100.582316</td>\n",
       "    </tr>\n",
       "  </tbody>\n",
       "</table>\n",
       "</div>"
      ],
      "text/plain": [
       "                               Restaurant name        lat        long\n",
       "0  Sushi Hiro (ซูชิฮิโระ) Eight Thonglor ชั้น1  13.730788  100.581716\n",
       "1                          Sushi Hiro พรอมานาด  13.826534  100.676388\n",
       "2                            ซูชิฮิโระ หองหล่อ  13.730900  100.584720\n",
       "3               หองหล่อ Sushi Hiro ในตึก Eight  13.730888  100.582816\n",
       "4                           Hiro Sushi ทองหล่อ  13.730751  100.582316"
      ]
     },
     "execution_count": 2,
     "metadata": {},
     "output_type": "execute_result"
    }
   ],
   "source": [
    "filepath = 'data/Dataset for data scientist assessment.csv'\n",
    "df = pd.read_csv(filepath)\n",
    "df.head()"
   ]
  },
  {
   "cell_type": "code",
   "execution_count": 3,
   "metadata": {},
   "outputs": [
    {
     "data": {
      "text/html": [
       "<div>\n",
       "<style scoped>\n",
       "    .dataframe tbody tr th:only-of-type {\n",
       "        vertical-align: middle;\n",
       "    }\n",
       "\n",
       "    .dataframe tbody tr th {\n",
       "        vertical-align: top;\n",
       "    }\n",
       "\n",
       "    .dataframe thead th {\n",
       "        text-align: right;\n",
       "    }\n",
       "</style>\n",
       "<table border=\"1\" class=\"dataframe\">\n",
       "  <thead>\n",
       "    <tr style=\"text-align: right;\">\n",
       "      <th></th>\n",
       "      <th>restaurant_name</th>\n",
       "      <th>lat</th>\n",
       "      <th>long</th>\n",
       "    </tr>\n",
       "  </thead>\n",
       "  <tbody>\n",
       "    <tr>\n",
       "      <th>0</th>\n",
       "      <td>Sushi Hiro (ซูชิฮิโระ) Eight Thonglor ชั้น1</td>\n",
       "      <td>13.730788</td>\n",
       "      <td>100.581716</td>\n",
       "    </tr>\n",
       "    <tr>\n",
       "      <th>1</th>\n",
       "      <td>Sushi Hiro พรอมานาด</td>\n",
       "      <td>13.826534</td>\n",
       "      <td>100.676388</td>\n",
       "    </tr>\n",
       "    <tr>\n",
       "      <th>2</th>\n",
       "      <td>ซูชิฮิโระ หองหล่อ</td>\n",
       "      <td>13.730900</td>\n",
       "      <td>100.584720</td>\n",
       "    </tr>\n",
       "    <tr>\n",
       "      <th>3</th>\n",
       "      <td>หองหล่อ Sushi Hiro ในตึก Eight</td>\n",
       "      <td>13.730888</td>\n",
       "      <td>100.582816</td>\n",
       "    </tr>\n",
       "    <tr>\n",
       "      <th>4</th>\n",
       "      <td>Hiro Sushi ทองหล่อ</td>\n",
       "      <td>13.730751</td>\n",
       "      <td>100.582316</td>\n",
       "    </tr>\n",
       "  </tbody>\n",
       "</table>\n",
       "</div>"
      ],
      "text/plain": [
       "                               restaurant_name        lat        long\n",
       "0  Sushi Hiro (ซูชิฮิโระ) Eight Thonglor ชั้น1  13.730788  100.581716\n",
       "1                          Sushi Hiro พรอมานาด  13.826534  100.676388\n",
       "2                            ซูชิฮิโระ หองหล่อ  13.730900  100.584720\n",
       "3               หองหล่อ Sushi Hiro ในตึก Eight  13.730888  100.582816\n",
       "4                           Hiro Sushi ทองหล่อ  13.730751  100.582316"
      ]
     },
     "execution_count": 3,
     "metadata": {},
     "output_type": "execute_result"
    }
   ],
   "source": [
    "# rename\n",
    "df.rename(columns={'Restaurant name': 'restaurant_name'}, inplace=True)\n",
    "df.head()"
   ]
  },
  {
   "cell_type": "markdown",
   "metadata": {},
   "source": [
    "# 3. Location Matching"
   ]
  },
  {
   "cell_type": "code",
   "execution_count": 5,
   "metadata": {},
   "outputs": [
    {
     "data": {
      "application/vnd.plotly.v1+json": {
       "config": {
        "plotlyServerURL": "https://plot.ly"
       },
       "data": [
        {
         "geo": "geo",
         "hovertemplate": "<b>%{hovertext}</b><br><br>restaurant_name=Sushi Hiro (ซูชิฮิโระ) Eight Thonglor ชั้น1<br>lat=%{lat}<br>long=%{lon}<extra></extra>",
         "hovertext": [
          "Sushi Hiro (ซูชิฮิโระ) Eight Thonglor ชั้น1"
         ],
         "lat": [
          13.730788
         ],
         "legendgroup": "Sushi Hiro (ซูชิฮิโระ) Eight Thonglor ชั้น1",
         "lon": [
          100.581716
         ],
         "marker": {
          "color": "#636efa",
          "symbol": "circle"
         },
         "mode": "markers",
         "name": "Sushi Hiro (ซูชิฮิโระ) Eight Thonglor ชั้น1",
         "showlegend": true,
         "type": "scattergeo"
        },
        {
         "geo": "geo",
         "hovertemplate": "<b>%{hovertext}</b><br><br>restaurant_name=Sushi Hiro พรอมานาด<br>lat=%{lat}<br>long=%{lon}<extra></extra>",
         "hovertext": [
          "Sushi Hiro พรอมานาด"
         ],
         "lat": [
          13.826534
         ],
         "legendgroup": "Sushi Hiro พรอมานาด",
         "lon": [
          100.676388
         ],
         "marker": {
          "color": "#EF553B",
          "symbol": "circle"
         },
         "mode": "markers",
         "name": "Sushi Hiro พรอมานาด",
         "showlegend": true,
         "type": "scattergeo"
        },
        {
         "geo": "geo",
         "hovertemplate": "<b>%{hovertext}</b><br><br>restaurant_name=ซูชิฮิโระ หองหล่อ<br>lat=%{lat}<br>long=%{lon}<extra></extra>",
         "hovertext": [
          "ซูชิฮิโระ หองหล่อ"
         ],
         "lat": [
          13.7309
         ],
         "legendgroup": "ซูชิฮิโระ หองหล่อ",
         "lon": [
          100.58472
         ],
         "marker": {
          "color": "#00cc96",
          "symbol": "circle"
         },
         "mode": "markers",
         "name": "ซูชิฮิโระ หองหล่อ",
         "showlegend": true,
         "type": "scattergeo"
        },
        {
         "geo": "geo",
         "hovertemplate": "<b>%{hovertext}</b><br><br>restaurant_name=หองหล่อ Sushi Hiro ในตึก Eight<br>lat=%{lat}<br>long=%{lon}<extra></extra>",
         "hovertext": [
          "หองหล่อ Sushi Hiro ในตึก Eight"
         ],
         "lat": [
          13.730888
         ],
         "legendgroup": "หองหล่อ Sushi Hiro ในตึก Eight",
         "lon": [
          100.582816
         ],
         "marker": {
          "color": "#ab63fa",
          "symbol": "circle"
         },
         "mode": "markers",
         "name": "หองหล่อ Sushi Hiro ในตึก Eight",
         "showlegend": true,
         "type": "scattergeo"
        },
        {
         "geo": "geo",
         "hovertemplate": "<b>%{hovertext}</b><br><br>restaurant_name=Hiro Sushi ทองหล่อ<br>lat=%{lat}<br>long=%{lon}<extra></extra>",
         "hovertext": [
          "Hiro Sushi ทองหล่อ"
         ],
         "lat": [
          13.730751
         ],
         "legendgroup": "Hiro Sushi ทองหล่อ",
         "lon": [
          100.582316
         ],
         "marker": {
          "color": "#FFA15A",
          "symbol": "circle"
         },
         "mode": "markers",
         "name": "Hiro Sushi ทองหล่อ",
         "showlegend": true,
         "type": "scattergeo"
        },
        {
         "geo": "geo",
         "hovertemplate": "<b>%{hovertext}</b><br><br>restaurant_name=Honmono Sushi (ฮอนโมโน ซูชิ) ทองหล่อ<br>lat=%{lat}<br>long=%{lon}<extra></extra>",
         "hovertext": [
          "Honmono Sushi (ฮอนโมโน ซูชิ) ทองหล่อ"
         ],
         "lat": [
          13.738052
         ],
         "legendgroup": "Honmono Sushi (ฮอนโมโน ซูชิ) ทองหล่อ",
         "lon": [
          100.582191
         ],
         "marker": {
          "color": "#19d3f3",
          "symbol": "circle"
         },
         "mode": "markers",
         "name": "Honmono Sushi (ฮอนโมโน ซูชิ) ทองหล่อ",
         "showlegend": true,
         "type": "scattergeo"
        },
        {
         "geo": "geo",
         "hovertemplate": "<b>%{hovertext}</b><br><br>restaurant_name=ร้าน ซูชิ ฮอนโมโน แถว ทองหล่อ<br>lat=%{lat}<br>long=%{lon}<extra></extra>",
         "hovertext": [
          "ร้าน ซูชิ ฮอนโมโน แถว ทองหล่อ"
         ],
         "lat": [
          13.738054
         ],
         "legendgroup": "ร้าน ซูชิ ฮอนโมโน แถว ทองหล่อ",
         "lon": [
          100.583275
         ],
         "marker": {
          "color": "#FF6692",
          "symbol": "circle"
         },
         "mode": "markers",
         "name": "ร้าน ซูชิ ฮอนโมโน แถว ทองหล่อ",
         "showlegend": true,
         "type": "scattergeo"
        },
        {
         "geo": "geo",
         "hovertemplate": "<b>%{hovertext}</b><br><br>restaurant_name=Honmono Sushi สาขา เซ็นทรัล บางนา <br>lat=%{lat}<br>long=%{lon}<extra></extra>",
         "hovertext": [
          "Honmono Sushi สาขา เซ็นทรัล บางนา "
         ],
         "lat": [
          13.67029
         ],
         "legendgroup": "Honmono Sushi สาขา เซ็นทรัล บางนา ",
         "lon": [
          100.635344
         ],
         "marker": {
          "color": "#B6E880",
          "symbol": "circle"
         },
         "mode": "markers",
         "name": "Honmono Sushi สาขา เซ็นทรัล บางนา ",
         "showlegend": true,
         "type": "scattergeo"
        },
        {
         "geo": "geo",
         "hovertemplate": "<b>%{hovertext}</b><br><br>restaurant_name=ร้าน Sushi ฮอนโมโน บางนา<br>lat=%{lat}<br>long=%{lon}<extra></extra>",
         "hovertext": [
          "ร้าน Sushi ฮอนโมโน บางนา"
         ],
         "lat": [
          13.671315
         ],
         "legendgroup": "ร้าน Sushi ฮอนโมโน บางนา",
         "lon": [
          100.636435
         ],
         "marker": {
          "color": "#FF97FF",
          "symbol": "circle"
         },
         "mode": "markers",
         "name": "ร้าน Sushi ฮอนโมโน บางนา",
         "showlegend": true,
         "type": "scattergeo"
        },
        {
         "geo": "geo",
         "hovertemplate": "<b>%{hovertext}</b><br><br>restaurant_name=Honmono ซูชิ ซอย ทองหล่อ 23<br>lat=%{lat}<br>long=%{lon}<extra></extra>",
         "hovertext": [
          "Honmono ซูชิ ซอย ทองหล่อ 23"
         ],
         "lat": [
          13.738252
         ],
         "legendgroup": "Honmono ซูชิ ซอย ทองหล่อ 23",
         "lon": [
          100.583231
         ],
         "marker": {
          "color": "#FECB52",
          "symbol": "circle"
         },
         "mode": "markers",
         "name": "Honmono ซูชิ ซอย ทองหล่อ 23",
         "showlegend": true,
         "type": "scattergeo"
        },
        {
         "geo": "geo",
         "hovertemplate": "<b>%{hovertext}</b><br><br>restaurant_name=Khao-Sō-i ซอยคอนแวนต์<br>lat=%{lat}<br>long=%{lon}<extra></extra>",
         "hovertext": [
          "Khao-Sō-i ซอยคอนแวนต์"
         ],
         "lat": [
          13.725594
         ],
         "legendgroup": "Khao-Sō-i ซอยคอนแวนต์",
         "lon": [
          100.534111
         ],
         "marker": {
          "color": "#636efa",
          "symbol": "circle"
         },
         "mode": "markers",
         "name": "Khao-Sō-i ซอยคอนแวนต์",
         "showlegend": true,
         "type": "scattergeo"
        },
        {
         "geo": "geo",
         "hovertemplate": "<b>%{hovertext}</b><br><br>restaurant_name=ร้าน Khao-Sō-i แถว ตึก CP สีลม<br>lat=%{lat}<br>long=%{lon}<extra></extra>",
         "hovertext": [
          "ร้าน Khao-Sō-i แถว ตึก CP สีลม"
         ],
         "lat": [
          13.725323
         ],
         "legendgroup": "ร้าน Khao-Sō-i แถว ตึก CP สีลม",
         "lon": [
          100.533292
         ],
         "marker": {
          "color": "#EF553B",
          "symbol": "circle"
         },
         "mode": "markers",
         "name": "ร้าน Khao-Sō-i แถว ตึก CP สีลม",
         "showlegend": true,
         "type": "scattergeo"
        },
        {
         "geo": "geo",
         "hovertemplate": "<b>%{hovertext}</b><br><br>restaurant_name=Khao Sō-i Siam Paragon<br>lat=%{lat}<br>long=%{lon}<extra></extra>",
         "hovertext": [
          "Khao Sō-i Siam Paragon"
         ],
         "lat": [
          13.746555
         ],
         "legendgroup": "Khao Sō-i Siam Paragon",
         "lon": [
          100.534859
         ],
         "marker": {
          "color": "#00cc96",
          "symbol": "circle"
         },
         "mode": "markers",
         "name": "Khao Sō-i Siam Paragon",
         "showlegend": true,
         "type": "scattergeo"
        },
        {
         "geo": "geo",
         "hovertemplate": "<b>%{hovertext}</b><br><br>restaurant_name=ร้าน ข้าว โซอิ ซอยคอนแวนต์<br>lat=%{lat}<br>long=%{lon}<extra></extra>",
         "hovertext": [
          "ร้าน ข้าว โซอิ ซอยคอนแวนต์"
         ],
         "lat": [
          13.725634
         ],
         "legendgroup": "ร้าน ข้าว โซอิ ซอยคอนแวนต์",
         "lon": [
          100.535091
         ],
         "marker": {
          "color": "#ab63fa",
          "symbol": "circle"
         },
         "mode": "markers",
         "name": "ร้าน ข้าว โซอิ ซอยคอนแวนต์",
         "showlegend": true,
         "type": "scattergeo"
        },
        {
         "geo": "geo",
         "hovertemplate": "<b>%{hovertext}</b><br><br>restaurant_name=ร้าน ข้าว โซอิ (Khao-Sō-i ) ริมน้ำปิง<br>lat=%{lat}<br>long=%{lon}<extra></extra>",
         "hovertext": [
          "ร้าน ข้าว โซอิ (Khao-Sō-i ) ริมน้ำปิง"
         ],
         "lat": [
          18.809039
         ],
         "legendgroup": "ร้าน ข้าว โซอิ (Khao-Sō-i ) ริมน้ำปิง",
         "lon": [
          99.004694
         ],
         "marker": {
          "color": "#FFA15A",
          "symbol": "circle"
         },
         "mode": "markers",
         "name": "ร้าน ข้าว โซอิ (Khao-Sō-i ) ริมน้ำปิง",
         "showlegend": true,
         "type": "scattergeo"
        },
        {
         "geo": "geo",
         "hovertemplate": "<b>%{hovertext}</b><br><br>restaurant_name=Khao (ข้าว)เอกมัย 10<br>lat=%{lat}<br>long=%{lon}<extra></extra>",
         "hovertext": [
          "Khao (ข้าว)เอกมัย 10"
         ],
         "lat": [
          13.729331
         ],
         "legendgroup": "Khao (ข้าว)เอกมัย 10",
         "lon": [
          100.587787
         ],
         "marker": {
          "color": "#19d3f3",
          "symbol": "circle"
         },
         "mode": "markers",
         "name": "Khao (ข้าว)เอกมัย 10",
         "showlegend": true,
         "type": "scattergeo"
        },
        {
         "geo": "geo",
         "hovertemplate": "<b>%{hovertext}</b><br><br>restaurant_name=ข้าว แถวซอยเอกมัย<br>lat=%{lat}<br>long=%{lon}<extra></extra>",
         "hovertext": [
          "ข้าว แถวซอยเอกมัย"
         ],
         "lat": [
          13.727452
         ],
         "legendgroup": "ข้าว แถวซอยเอกมัย",
         "lon": [
          100.586432
         ],
         "marker": {
          "color": "#FF6692",
          "symbol": "circle"
         },
         "mode": "markers",
         "name": "ข้าว แถวซอยเอกมัย",
         "showlegend": true,
         "type": "scattergeo"
        },
        {
         "geo": "geo",
         "hovertemplate": "<b>%{hovertext}</b><br><br>restaurant_name=Khao @ Chiang Mai<br>lat=%{lat}<br>long=%{lon}<extra></extra>",
         "hovertext": [
          "Khao @ Chiang Mai"
         ],
         "lat": [
          18.82916
         ],
         "legendgroup": "Khao @ Chiang Mai",
         "lon": [
          98.97854
         ],
         "marker": {
          "color": "#B6E880",
          "symbol": "circle"
         },
         "mode": "markers",
         "name": "Khao @ Chiang Mai",
         "showlegend": true,
         "type": "scattergeo"
        },
        {
         "geo": "geo",
         "hovertemplate": "<b>%{hovertext}</b><br><br>restaurant_name=ข้าง @ ekkamai <br>lat=%{lat}<br>long=%{lon}<extra></extra>",
         "hovertext": [
          "ข้าง @ ekkamai "
         ],
         "lat": [
          13.727452
         ],
         "legendgroup": "ข้าง @ ekkamai ",
         "lon": [
          100.586432
         ],
         "marker": {
          "color": "#FF97FF",
          "symbol": "circle"
         },
         "mode": "markers",
         "name": "ข้าง @ ekkamai ",
         "showlegend": true,
         "type": "scattergeo"
        },
        {
         "geo": "geo",
         "hovertemplate": "<b>%{hovertext}</b><br><br>restaurant_name=NANA Coffee Roaster (นานา คอฟฟี่ โรสเตอร์)Ari<br>lat=%{lat}<br>long=%{lon}<extra></extra>",
         "hovertext": [
          "NANA Coffee Roaster (นานา คอฟฟี่ โรสเตอร์)Ari"
         ],
         "lat": [
          13.78264
         ],
         "legendgroup": "NANA Coffee Roaster (นานา คอฟฟี่ โรสเตอร์)Ari",
         "lon": [
          100.541979
         ],
         "marker": {
          "color": "#FECB52",
          "symbol": "circle"
         },
         "mode": "markers",
         "name": "NANA Coffee Roaster (นานา คอฟฟี่ โรสเตอร์)Ari",
         "showlegend": true,
         "type": "scattergeo"
        },
        {
         "geo": "geo",
         "hovertemplate": "<b>%{hovertext}</b><br><br>restaurant_name=ร้านกาแฟ นานา คอฟฟี่ ซอยอารีย์ 4<br>lat=%{lat}<br>long=%{lon}<extra></extra>",
         "hovertext": [
          "ร้านกาแฟ นานา คอฟฟี่ ซอยอารีย์ 4"
         ],
         "lat": [
          13.782325
         ],
         "legendgroup": "ร้านกาแฟ นานา คอฟฟี่ ซอยอารีย์ 4",
         "lon": [
          100.541879
         ],
         "marker": {
          "color": "#636efa",
          "symbol": "circle"
         },
         "mode": "markers",
         "name": "ร้านกาแฟ นานา คอฟฟี่ ซอยอารีย์ 4",
         "showlegend": true,
         "type": "scattergeo"
        },
        {
         "geo": "geo",
         "hovertemplate": "<b>%{hovertext}</b><br><br>restaurant_name=NANA Coffee @ Ari<br>lat=%{lat}<br>long=%{lon}<extra></extra>",
         "hovertext": [
          "NANA Coffee @ Ari"
         ],
         "lat": [
          13.782453
         ],
         "legendgroup": "NANA Coffee @ Ari",
         "lon": [
          100.541469
         ],
         "marker": {
          "color": "#EF553B",
          "symbol": "circle"
         },
         "mode": "markers",
         "name": "NANA Coffee @ Ari",
         "showlegend": true,
         "type": "scattergeo"
        },
        {
         "geo": "geo",
         "hovertemplate": "<b>%{hovertext}</b><br><br>restaurant_name=นานา คอฟฟี่ โรสเตอร์ @ BTS Nana<br>lat=%{lat}<br>long=%{lon}<extra></extra>",
         "hovertext": [
          "นานา คอฟฟี่ โรสเตอร์ @ BTS Nana"
         ],
         "lat": [
          13.74045
         ],
         "legendgroup": "นานา คอฟฟี่ โรสเตอร์ @ BTS Nana",
         "lon": [
          100.55504
         ],
         "marker": {
          "color": "#00cc96",
          "symbol": "circle"
         },
         "mode": "markers",
         "name": "นานา คอฟฟี่ โรสเตอร์ @ BTS Nana",
         "showlegend": true,
         "type": "scattergeo"
        },
        {
         "geo": "geo",
         "hovertemplate": "<b>%{hovertext}</b><br><br>restaurant_name=NANA Roaster Coffee<br>lat=%{lat}<br>long=%{lon}<extra></extra>",
         "hovertext": [
          "NANA Roaster Coffee"
         ],
         "lat": [
          13.782275
         ],
         "legendgroup": "NANA Roaster Coffee",
         "lon": [
          100.541981
         ],
         "marker": {
          "color": "#ab63fa",
          "symbol": "circle"
         },
         "mode": "markers",
         "name": "NANA Roaster Coffee",
         "showlegend": true,
         "type": "scattergeo"
        },
        {
         "geo": "geo",
         "hovertemplate": "<b>%{hovertext}</b><br><br>restaurant_name=นานา คอฟฟี่ โรศเคอร์ <br>lat=%{lat}<br>long=%{lon}<extra></extra>",
         "hovertext": [
          "นานา คอฟฟี่ โรศเคอร์ "
         ],
         "lat": [
          13.782
         ],
         "legendgroup": "นานา คอฟฟี่ โรศเคอร์ ",
         "lon": [
          100.541981
         ],
         "marker": {
          "color": "#FFA15A",
          "symbol": "circle"
         },
         "mode": "markers",
         "name": "นานา คอฟฟี่ โรศเคอร์ ",
         "showlegend": true,
         "type": "scattergeo"
        },
        {
         "geo": "geo",
         "hovertemplate": "<b>%{hovertext}</b><br><br>restaurant_name=NANA TOKU SHABUCenterpoint of Siam Square ชั้น 3<br>lat=%{lat}<br>long=%{lon}<extra></extra>",
         "hovertext": [
          "NANA TOKU SHABUCenterpoint of Siam Square ชั้น 3"
         ],
         "lat": [
          13.745085
         ],
         "legendgroup": "NANA TOKU SHABUCenterpoint of Siam Square ชั้น 3",
         "lon": [
          100.533172
         ],
         "marker": {
          "color": "#19d3f3",
          "symbol": "circle"
         },
         "mode": "markers",
         "name": "NANA TOKU SHABUCenterpoint of Siam Square ชั้น 3",
         "showlegend": true,
         "type": "scattergeo"
        },
        {
         "geo": "geo",
         "hovertemplate": "<b>%{hovertext}</b><br><br>restaurant_name=ชาบู NANA TOKU <br>lat=%{lat}<br>long=%{lon}<extra></extra>",
         "hovertext": [
          "ชาบู NANA TOKU "
         ],
         "lat": [
          13.746385
         ],
         "legendgroup": "ชาบู NANA TOKU ",
         "lon": [
          100.534283
         ],
         "marker": {
          "color": "#FF6692",
          "symbol": "circle"
         },
         "mode": "markers",
         "name": "ชาบู NANA TOKU ",
         "showlegend": true,
         "type": "scattergeo"
        },
        {
         "geo": "geo",
         "hovertemplate": "<b>%{hovertext}</b><br><br>restaurant_name=NANA TOKU @ Siam<br>lat=%{lat}<br>long=%{lon}<extra></extra>",
         "hovertext": [
          "NANA TOKU @ Siam"
         ],
         "lat": [
          13.745267
         ],
         "legendgroup": "NANA TOKU @ Siam",
         "lon": [
          100.5332543
         ],
         "marker": {
          "color": "#B6E880",
          "symbol": "circle"
         },
         "mode": "markers",
         "name": "NANA TOKU @ Siam",
         "showlegend": true,
         "type": "scattergeo"
        },
        {
         "geo": "geo",
         "hovertemplate": "<b>%{hovertext}</b><br><br>restaurant_name=นานะ โทกุ ชาบู<br>lat=%{lat}<br>long=%{lon}<extra></extra>",
         "hovertext": [
          "นานะ โทกุ ชาบู"
         ],
         "lat": [
          13.745457
         ],
         "legendgroup": "นานะ โทกุ ชาบู",
         "lon": [
          100.5333743
         ],
         "marker": {
          "color": "#FF97FF",
          "symbol": "circle"
         },
         "mode": "markers",
         "name": "นานะ โทกุ ชาบู",
         "showlegend": true,
         "type": "scattergeo"
        },
        {
         "geo": "geo",
         "hovertemplate": "<b>%{hovertext}</b><br><br>restaurant_name=นานา โทกุ ชาบุ<br>lat=%{lat}<br>long=%{lon}<extra></extra>",
         "hovertext": [
          "นานา โทกุ ชาบุ"
         ],
         "lat": [
          13.745144
         ],
         "legendgroup": "นานา โทกุ ชาบุ",
         "lon": [
          100.5332345
         ],
         "marker": {
          "color": "#FECB52",
          "symbol": "circle"
         },
         "mode": "markers",
         "name": "นานา โทกุ ชาบุ",
         "showlegend": true,
         "type": "scattergeo"
        }
       ],
       "layout": {
        "geo": {
         "center": {
          "lat": 13.7563,
          "lon": 100.5018
         },
         "coastlinecolor": "RebeccaPurple",
         "domain": {
          "x": [
           0,
           1
          ],
          "y": [
           0,
           1
          ]
         },
         "fitbounds": "locations",
         "projection": {
          "type": "mercator"
         },
         "scope": "asia",
         "showcoastlines": true,
         "showland": true,
         "visible": false
        },
        "legend": {
         "title": {
          "text": "restaurant_name"
         },
         "tracegroupgap": 0
        },
        "mapbox": {
         "zoom": 10
        },
        "margin": {
         "t": 60
        },
        "showlegend": true,
        "template": {
         "data": {
          "bar": [
           {
            "error_x": {
             "color": "#2a3f5f"
            },
            "error_y": {
             "color": "#2a3f5f"
            },
            "marker": {
             "line": {
              "color": "#E5ECF6",
              "width": 0.5
             },
             "pattern": {
              "fillmode": "overlay",
              "size": 10,
              "solidity": 0.2
             }
            },
            "type": "bar"
           }
          ],
          "barpolar": [
           {
            "marker": {
             "line": {
              "color": "#E5ECF6",
              "width": 0.5
             },
             "pattern": {
              "fillmode": "overlay",
              "size": 10,
              "solidity": 0.2
             }
            },
            "type": "barpolar"
           }
          ],
          "carpet": [
           {
            "aaxis": {
             "endlinecolor": "#2a3f5f",
             "gridcolor": "white",
             "linecolor": "white",
             "minorgridcolor": "white",
             "startlinecolor": "#2a3f5f"
            },
            "baxis": {
             "endlinecolor": "#2a3f5f",
             "gridcolor": "white",
             "linecolor": "white",
             "minorgridcolor": "white",
             "startlinecolor": "#2a3f5f"
            },
            "type": "carpet"
           }
          ],
          "choropleth": [
           {
            "colorbar": {
             "outlinewidth": 0,
             "ticks": ""
            },
            "type": "choropleth"
           }
          ],
          "contour": [
           {
            "colorbar": {
             "outlinewidth": 0,
             "ticks": ""
            },
            "colorscale": [
             [
              0,
              "#0d0887"
             ],
             [
              0.1111111111111111,
              "#46039f"
             ],
             [
              0.2222222222222222,
              "#7201a8"
             ],
             [
              0.3333333333333333,
              "#9c179e"
             ],
             [
              0.4444444444444444,
              "#bd3786"
             ],
             [
              0.5555555555555556,
              "#d8576b"
             ],
             [
              0.6666666666666666,
              "#ed7953"
             ],
             [
              0.7777777777777778,
              "#fb9f3a"
             ],
             [
              0.8888888888888888,
              "#fdca26"
             ],
             [
              1,
              "#f0f921"
             ]
            ],
            "type": "contour"
           }
          ],
          "contourcarpet": [
           {
            "colorbar": {
             "outlinewidth": 0,
             "ticks": ""
            },
            "type": "contourcarpet"
           }
          ],
          "heatmap": [
           {
            "colorbar": {
             "outlinewidth": 0,
             "ticks": ""
            },
            "colorscale": [
             [
              0,
              "#0d0887"
             ],
             [
              0.1111111111111111,
              "#46039f"
             ],
             [
              0.2222222222222222,
              "#7201a8"
             ],
             [
              0.3333333333333333,
              "#9c179e"
             ],
             [
              0.4444444444444444,
              "#bd3786"
             ],
             [
              0.5555555555555556,
              "#d8576b"
             ],
             [
              0.6666666666666666,
              "#ed7953"
             ],
             [
              0.7777777777777778,
              "#fb9f3a"
             ],
             [
              0.8888888888888888,
              "#fdca26"
             ],
             [
              1,
              "#f0f921"
             ]
            ],
            "type": "heatmap"
           }
          ],
          "heatmapgl": [
           {
            "colorbar": {
             "outlinewidth": 0,
             "ticks": ""
            },
            "colorscale": [
             [
              0,
              "#0d0887"
             ],
             [
              0.1111111111111111,
              "#46039f"
             ],
             [
              0.2222222222222222,
              "#7201a8"
             ],
             [
              0.3333333333333333,
              "#9c179e"
             ],
             [
              0.4444444444444444,
              "#bd3786"
             ],
             [
              0.5555555555555556,
              "#d8576b"
             ],
             [
              0.6666666666666666,
              "#ed7953"
             ],
             [
              0.7777777777777778,
              "#fb9f3a"
             ],
             [
              0.8888888888888888,
              "#fdca26"
             ],
             [
              1,
              "#f0f921"
             ]
            ],
            "type": "heatmapgl"
           }
          ],
          "histogram": [
           {
            "marker": {
             "pattern": {
              "fillmode": "overlay",
              "size": 10,
              "solidity": 0.2
             }
            },
            "type": "histogram"
           }
          ],
          "histogram2d": [
           {
            "colorbar": {
             "outlinewidth": 0,
             "ticks": ""
            },
            "colorscale": [
             [
              0,
              "#0d0887"
             ],
             [
              0.1111111111111111,
              "#46039f"
             ],
             [
              0.2222222222222222,
              "#7201a8"
             ],
             [
              0.3333333333333333,
              "#9c179e"
             ],
             [
              0.4444444444444444,
              "#bd3786"
             ],
             [
              0.5555555555555556,
              "#d8576b"
             ],
             [
              0.6666666666666666,
              "#ed7953"
             ],
             [
              0.7777777777777778,
              "#fb9f3a"
             ],
             [
              0.8888888888888888,
              "#fdca26"
             ],
             [
              1,
              "#f0f921"
             ]
            ],
            "type": "histogram2d"
           }
          ],
          "histogram2dcontour": [
           {
            "colorbar": {
             "outlinewidth": 0,
             "ticks": ""
            },
            "colorscale": [
             [
              0,
              "#0d0887"
             ],
             [
              0.1111111111111111,
              "#46039f"
             ],
             [
              0.2222222222222222,
              "#7201a8"
             ],
             [
              0.3333333333333333,
              "#9c179e"
             ],
             [
              0.4444444444444444,
              "#bd3786"
             ],
             [
              0.5555555555555556,
              "#d8576b"
             ],
             [
              0.6666666666666666,
              "#ed7953"
             ],
             [
              0.7777777777777778,
              "#fb9f3a"
             ],
             [
              0.8888888888888888,
              "#fdca26"
             ],
             [
              1,
              "#f0f921"
             ]
            ],
            "type": "histogram2dcontour"
           }
          ],
          "mesh3d": [
           {
            "colorbar": {
             "outlinewidth": 0,
             "ticks": ""
            },
            "type": "mesh3d"
           }
          ],
          "parcoords": [
           {
            "line": {
             "colorbar": {
              "outlinewidth": 0,
              "ticks": ""
             }
            },
            "type": "parcoords"
           }
          ],
          "pie": [
           {
            "automargin": true,
            "type": "pie"
           }
          ],
          "scatter": [
           {
            "fillpattern": {
             "fillmode": "overlay",
             "size": 10,
             "solidity": 0.2
            },
            "type": "scatter"
           }
          ],
          "scatter3d": [
           {
            "line": {
             "colorbar": {
              "outlinewidth": 0,
              "ticks": ""
             }
            },
            "marker": {
             "colorbar": {
              "outlinewidth": 0,
              "ticks": ""
             }
            },
            "type": "scatter3d"
           }
          ],
          "scattercarpet": [
           {
            "marker": {
             "colorbar": {
              "outlinewidth": 0,
              "ticks": ""
             }
            },
            "type": "scattercarpet"
           }
          ],
          "scattergeo": [
           {
            "marker": {
             "colorbar": {
              "outlinewidth": 0,
              "ticks": ""
             }
            },
            "type": "scattergeo"
           }
          ],
          "scattergl": [
           {
            "marker": {
             "colorbar": {
              "outlinewidth": 0,
              "ticks": ""
             }
            },
            "type": "scattergl"
           }
          ],
          "scattermapbox": [
           {
            "marker": {
             "colorbar": {
              "outlinewidth": 0,
              "ticks": ""
             }
            },
            "type": "scattermapbox"
           }
          ],
          "scatterpolar": [
           {
            "marker": {
             "colorbar": {
              "outlinewidth": 0,
              "ticks": ""
             }
            },
            "type": "scatterpolar"
           }
          ],
          "scatterpolargl": [
           {
            "marker": {
             "colorbar": {
              "outlinewidth": 0,
              "ticks": ""
             }
            },
            "type": "scatterpolargl"
           }
          ],
          "scatterternary": [
           {
            "marker": {
             "colorbar": {
              "outlinewidth": 0,
              "ticks": ""
             }
            },
            "type": "scatterternary"
           }
          ],
          "surface": [
           {
            "colorbar": {
             "outlinewidth": 0,
             "ticks": ""
            },
            "colorscale": [
             [
              0,
              "#0d0887"
             ],
             [
              0.1111111111111111,
              "#46039f"
             ],
             [
              0.2222222222222222,
              "#7201a8"
             ],
             [
              0.3333333333333333,
              "#9c179e"
             ],
             [
              0.4444444444444444,
              "#bd3786"
             ],
             [
              0.5555555555555556,
              "#d8576b"
             ],
             [
              0.6666666666666666,
              "#ed7953"
             ],
             [
              0.7777777777777778,
              "#fb9f3a"
             ],
             [
              0.8888888888888888,
              "#fdca26"
             ],
             [
              1,
              "#f0f921"
             ]
            ],
            "type": "surface"
           }
          ],
          "table": [
           {
            "cells": {
             "fill": {
              "color": "#EBF0F8"
             },
             "line": {
              "color": "white"
             }
            },
            "header": {
             "fill": {
              "color": "#C8D4E3"
             },
             "line": {
              "color": "white"
             }
            },
            "type": "table"
           }
          ]
         },
         "layout": {
          "annotationdefaults": {
           "arrowcolor": "#2a3f5f",
           "arrowhead": 0,
           "arrowwidth": 1
          },
          "autotypenumbers": "strict",
          "coloraxis": {
           "colorbar": {
            "outlinewidth": 0,
            "ticks": ""
           }
          },
          "colorscale": {
           "diverging": [
            [
             0,
             "#8e0152"
            ],
            [
             0.1,
             "#c51b7d"
            ],
            [
             0.2,
             "#de77ae"
            ],
            [
             0.3,
             "#f1b6da"
            ],
            [
             0.4,
             "#fde0ef"
            ],
            [
             0.5,
             "#f7f7f7"
            ],
            [
             0.6,
             "#e6f5d0"
            ],
            [
             0.7,
             "#b8e186"
            ],
            [
             0.8,
             "#7fbc41"
            ],
            [
             0.9,
             "#4d9221"
            ],
            [
             1,
             "#276419"
            ]
           ],
           "sequential": [
            [
             0,
             "#0d0887"
            ],
            [
             0.1111111111111111,
             "#46039f"
            ],
            [
             0.2222222222222222,
             "#7201a8"
            ],
            [
             0.3333333333333333,
             "#9c179e"
            ],
            [
             0.4444444444444444,
             "#bd3786"
            ],
            [
             0.5555555555555556,
             "#d8576b"
            ],
            [
             0.6666666666666666,
             "#ed7953"
            ],
            [
             0.7777777777777778,
             "#fb9f3a"
            ],
            [
             0.8888888888888888,
             "#fdca26"
            ],
            [
             1,
             "#f0f921"
            ]
           ],
           "sequentialminus": [
            [
             0,
             "#0d0887"
            ],
            [
             0.1111111111111111,
             "#46039f"
            ],
            [
             0.2222222222222222,
             "#7201a8"
            ],
            [
             0.3333333333333333,
             "#9c179e"
            ],
            [
             0.4444444444444444,
             "#bd3786"
            ],
            [
             0.5555555555555556,
             "#d8576b"
            ],
            [
             0.6666666666666666,
             "#ed7953"
            ],
            [
             0.7777777777777778,
             "#fb9f3a"
            ],
            [
             0.8888888888888888,
             "#fdca26"
            ],
            [
             1,
             "#f0f921"
            ]
           ]
          },
          "colorway": [
           "#636efa",
           "#EF553B",
           "#00cc96",
           "#ab63fa",
           "#FFA15A",
           "#19d3f3",
           "#FF6692",
           "#B6E880",
           "#FF97FF",
           "#FECB52"
          ],
          "font": {
           "color": "#2a3f5f"
          },
          "geo": {
           "bgcolor": "white",
           "lakecolor": "white",
           "landcolor": "#E5ECF6",
           "showlakes": true,
           "showland": true,
           "subunitcolor": "white"
          },
          "hoverlabel": {
           "align": "left"
          },
          "hovermode": "closest",
          "mapbox": {
           "style": "light"
          },
          "paper_bgcolor": "white",
          "plot_bgcolor": "#E5ECF6",
          "polar": {
           "angularaxis": {
            "gridcolor": "white",
            "linecolor": "white",
            "ticks": ""
           },
           "bgcolor": "#E5ECF6",
           "radialaxis": {
            "gridcolor": "white",
            "linecolor": "white",
            "ticks": ""
           }
          },
          "scene": {
           "xaxis": {
            "backgroundcolor": "#E5ECF6",
            "gridcolor": "white",
            "gridwidth": 2,
            "linecolor": "white",
            "showbackground": true,
            "ticks": "",
            "zerolinecolor": "white"
           },
           "yaxis": {
            "backgroundcolor": "#E5ECF6",
            "gridcolor": "white",
            "gridwidth": 2,
            "linecolor": "white",
            "showbackground": true,
            "ticks": "",
            "zerolinecolor": "white"
           },
           "zaxis": {
            "backgroundcolor": "#E5ECF6",
            "gridcolor": "white",
            "gridwidth": 2,
            "linecolor": "white",
            "showbackground": true,
            "ticks": "",
            "zerolinecolor": "white"
           }
          },
          "shapedefaults": {
           "line": {
            "color": "#2a3f5f"
           }
          },
          "ternary": {
           "aaxis": {
            "gridcolor": "white",
            "linecolor": "white",
            "ticks": ""
           },
           "baxis": {
            "gridcolor": "white",
            "linecolor": "white",
            "ticks": ""
           },
           "bgcolor": "#E5ECF6",
           "caxis": {
            "gridcolor": "white",
            "linecolor": "white",
            "ticks": ""
           }
          },
          "title": {
           "x": 0.05
          },
          "xaxis": {
           "automargin": true,
           "gridcolor": "white",
           "linecolor": "white",
           "ticks": "",
           "title": {
            "standoff": 15
           },
           "zerolinecolor": "white",
           "zerolinewidth": 2
          },
          "yaxis": {
           "automargin": true,
           "gridcolor": "white",
           "linecolor": "white",
           "ticks": "",
           "title": {
            "standoff": 15
           },
           "zerolinecolor": "white",
           "zerolinewidth": 2
          }
         }
        },
        "title": {
         "text": "Restaurants in Bangkok"
        }
       }
      }
     },
     "metadata": {},
     "output_type": "display_data"
    }
   ],
   "source": [
    "fig = px.scatter_geo(df, \n",
    "                     lat='lat', \n",
    "                     lon='long', \n",
    "                     scope = 'asia',\n",
    "                     color='restaurant_name', \n",
    "                     hover_name='restaurant_name', \n",
    "                     projection='mercator',  # Changed projection\n",
    "                     center={\"lat\": 13.7563, \"lon\": 100.5018},\n",
    "                     )\n",
    "fig.update_geos(\n",
    "        fitbounds=\"locations\",  # This is crucial - fits the view to your data points\n",
    "        visible=False,\n",
    "        showcoastlines=True,\n",
    "        coastlinecolor=\"RebeccaPurple\",\n",
    "        showland=True,\n",
    ")\n",
    "fig.update_layout(\n",
    "                title='Restaurants in Bangkok',\n",
    "                showlegend = True,\n",
    "                mapbox = dict(\n",
    "                    zoom=10\n",
    "                )\n",
    "        )\n",
    "fig.show()"
   ]
  },
  {
   "cell_type": "code",
   "execution_count": null,
   "metadata": {},
   "outputs": [],
   "source": []
  }
 ],
 "metadata": {
  "kernelspec": {
   "display_name": "base",
   "language": "python",
   "name": "python3"
  },
  "language_info": {
   "codemirror_mode": {
    "name": "ipython",
    "version": 3
   },
   "file_extension": ".py",
   "mimetype": "text/x-python",
   "name": "python",
   "nbconvert_exporter": "python",
   "pygments_lexer": "ipython3",
   "version": "3.11.7"
  }
 },
 "nbformat": 4,
 "nbformat_minor": 2
}
